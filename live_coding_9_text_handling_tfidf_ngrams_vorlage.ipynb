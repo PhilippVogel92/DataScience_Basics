{
 "cells": [
  {
   "attachments": {},
   "cell_type": "markdown",
   "id": "cc1961e1",
   "metadata": {},
   "source": [
    "# Praktikum / Live-Coding\n",
    "\n",
    "## NLP: TF-IDF, n-grams und sentiment analysis"
   ]
  },
  {
   "cell_type": "code",
   "execution_count": 47,
   "id": "6874ac61",
   "metadata": {},
   "outputs": [],
   "source": [
    "import os\n",
    "import numpy as np\n",
    "from matplotlib import pyplot as plt\n",
    "import pandas as pd"
   ]
  },
  {
   "attachments": {},
   "cell_type": "markdown",
   "id": "87b0fdf3",
   "metadata": {},
   "source": [
    "# Ziel: Sentiment Analysis von Filmkritiken\n",
    "\n",
    "Wir wollen für kurze Filmkritiken in Textform vorhersagen ob diese positiv oder negativ sind.\n",
    "\n",
    "### Daten: IMDB movie review dataset\n",
    "\n",
    "Wir arbeiten zu diesem Zweck mit dem *IMDB movie review dataset*. Darin befinden sich 40 000 Kritiken von der Seite *IMDB* die als negativ (<= 4/10) oder positiv (>= 7/10) gelabeld wurden.\n",
    "\n",
    "### Quellen:\n",
    "Die Daten befinden sich auf Moodle (`movie_reviews_train.csv`) und stammen von Kaggle [Link zum Datensatz](https://www.kaggle.com/datasets/columbine/imdb-dataset-sentiment-analysis-in-csv-format?datasetId=429163&sortBy=voteCount).\n",
    "\n",
    "Ursprünglich kommen die Daten aber hierher: https://ai.stanford.edu/~amaas/data/sentiment/"
   ]
  },
  {
   "attachments": {},
   "cell_type": "markdown",
   "id": "133fc160",
   "metadata": {},
   "source": [
    "## Importieren und erstes Erkunden\n",
    "- Fehlen Einträge?\n",
    "- Gibt es offensichtlich merkwürdige Einträge?\n",
    "- Sind die möglichen Label (positiv/negativ) gut verteilt?"
   ]
  },
  {
   "cell_type": "code",
   "execution_count": 48,
   "id": "32b30924",
   "metadata": {},
   "outputs": [
    {
     "data": {
      "text/html": [
       "<div>\n",
       "<style scoped>\n",
       "    .dataframe tbody tr th:only-of-type {\n",
       "        vertical-align: middle;\n",
       "    }\n",
       "\n",
       "    .dataframe tbody tr th {\n",
       "        vertical-align: top;\n",
       "    }\n",
       "\n",
       "    .dataframe thead th {\n",
       "        text-align: right;\n",
       "    }\n",
       "</style>\n",
       "<table border=\"1\" class=\"dataframe\">\n",
       "  <thead>\n",
       "    <tr style=\"text-align: right;\">\n",
       "      <th></th>\n",
       "      <th>text</th>\n",
       "      <th>label</th>\n",
       "    </tr>\n",
       "  </thead>\n",
       "  <tbody>\n",
       "    <tr>\n",
       "      <th>0</th>\n",
       "      <td>I grew up (b. 1965) watching and loving the Th...</td>\n",
       "      <td>0</td>\n",
       "    </tr>\n",
       "    <tr>\n",
       "      <th>1</th>\n",
       "      <td>When I put this movie in my DVD player, and sa...</td>\n",
       "      <td>0</td>\n",
       "    </tr>\n",
       "    <tr>\n",
       "      <th>2</th>\n",
       "      <td>Why do people who do not know what a particula...</td>\n",
       "      <td>0</td>\n",
       "    </tr>\n",
       "    <tr>\n",
       "      <th>3</th>\n",
       "      <td>Even though I have great interest in Biblical ...</td>\n",
       "      <td>0</td>\n",
       "    </tr>\n",
       "    <tr>\n",
       "      <th>4</th>\n",
       "      <td>Im a die hard Dads Army fan and nothing will e...</td>\n",
       "      <td>1</td>\n",
       "    </tr>\n",
       "  </tbody>\n",
       "</table>\n",
       "</div>"
      ],
      "text/plain": [
       "                                                text  label\n",
       "0  I grew up (b. 1965) watching and loving the Th...      0\n",
       "1  When I put this movie in my DVD player, and sa...      0\n",
       "2  Why do people who do not know what a particula...      0\n",
       "3  Even though I have great interest in Biblical ...      0\n",
       "4  Im a die hard Dads Army fan and nothing will e...      1"
      ]
     },
     "execution_count": 48,
     "metadata": {},
     "output_type": "execute_result"
    }
   ],
   "source": [
    "filename = \"data/movie_review_train.csv\"  # Pfad entsprechend anpassen\n",
    "\n",
    "data = pd.read_csv(filename)\n",
    "data.head()"
   ]
  },
  {
   "cell_type": "code",
   "execution_count": 49,
   "id": "2e8494ff",
   "metadata": {},
   "outputs": [
    {
     "name": "stdout",
     "output_type": "stream",
     "text": [
      "<class 'pandas.core.frame.DataFrame'>\n",
      "RangeIndex: 40000 entries, 0 to 39999\n",
      "Data columns (total 2 columns):\n",
      " #   Column  Non-Null Count  Dtype \n",
      "---  ------  --------------  ----- \n",
      " 0   text    40000 non-null  object\n",
      " 1   label   40000 non-null  int64 \n",
      "dtypes: int64(1), object(1)\n",
      "memory usage: 625.1+ KB\n"
     ]
    }
   ],
   "source": [
    "data.info()"
   ]
  },
  {
   "cell_type": "code",
   "execution_count": 50,
   "id": "5a9aedfe",
   "metadata": {},
   "outputs": [
    {
     "data": {
      "text/plain": [
       "array([[<AxesSubplot: title={'center': 'label'}>]], dtype=object)"
      ]
     },
     "execution_count": 50,
     "metadata": {},
     "output_type": "execute_result"
    },
    {
     "data": {
      "image/png": "[encoded data removed]",
      "text/plain": [
       "<Figure size 640x480 with 1 Axes>"
      ]
     },
     "metadata": {},
     "output_type": "display_data"
    }
   ],
   "source": [
    "data.hist()"
   ]
  },
  {
   "attachments": {},
   "cell_type": "markdown",
   "id": "6337008d",
   "metadata": {},
   "source": [
    "## Find your own way...\n",
    "\n",
    "`Scikit-Learn` hat (wie so oft) einige nützliche Funktionen für uns, auch im Bereich NLP. Hier soll es um das Berechnen von tf-idf Werten gehen und dafür gibt es den `TfidfVectorizer`.\n",
    "\n",
    "Siehe die Dokumentation hier: https://scikit-learn.org/stable/modules/generated/sklearn.feature_extraction.text.TfidfVectorizer.html?highlight=tfidf#sklearn.feature_extraction.text.TfidfVectorizer\n",
    "\n",
    "- Was machen `min_df` und `max_df` ?\n",
    "- Versuche den \"Korpus\" (data.text) mit dem `TfidfVectorizer` in ein Array aus Feature-Vektoren umzuwandeln (siehe Dokumentation), z.B. mit `min_df=2, max_df = 0.5`.\n",
    "- Wie viele Features bekommen wir?\n",
    "- Schaue dir die Feature-Namen an mit `.get_feature_names()`"
   ]
  },
  {
   "cell_type": "code",
   "execution_count": 51,
   "id": "8769a2a9",
   "metadata": {},
   "outputs": [],
   "source": [
    "#min_df und max_df ignorieren Woerter die ueber oder unter der jeweilig eingestellten document_frequency Grenze liegen.\n",
    "#dafuer wird ueberprueft wie oft ein wort in den dokumenten auftaucht \n",
    " \n",
    "\n",
    "from sklearn.feature_extraction.text import TfidfVectorizer\n",
    "\n",
    "corpus = data[\"text\"]\n",
    "vectorizer = TfidfVectorizer(min_df=2, max_df=0.5)\n",
    "X = vectorizer.fit_transform(corpus) #gibt eine matrix wieder die das tf-idf gewicht den gelernten Woertern gegenueberstellt\n"
   ]
  },
  {
   "cell_type": "code",
   "execution_count": 52,
   "id": "4035f766",
   "metadata": {},
   "outputs": [
    {
     "data": {
      "text/plain": [
       "array(['00', '000', '001', ..., 'être', 'óli', 'über'], dtype=object)"
      ]
     },
     "execution_count": 52,
     "metadata": {},
     "output_type": "execute_result"
    }
   ],
   "source": [
    "vectorizer.get_feature_names_out() #die woerter die gelernt wurden"
   ]
  },
  {
   "attachments": {},
   "cell_type": "markdown",
   "id": "84efb769",
   "metadata": {},
   "source": [
    "## unnötige Features sind immer noch enhalten (00,000 etc). Weiter min_df, mx_df anpassen"
   ]
  },
  {
   "cell_type": "code",
   "execution_count": 53,
   "id": "5c9e3e3f",
   "metadata": {},
   "outputs": [
    {
     "data": {
      "text/plain": [
       "54699"
      ]
     },
     "execution_count": 53,
     "metadata": {},
     "output_type": "execute_result"
    }
   ],
   "source": [
    "len(vectorizer.get_feature_names_out())"
   ]
  },
  {
   "cell_type": "code",
   "execution_count": 54,
   "id": "6de548e8",
   "metadata": {},
   "outputs": [
    {
     "data": {
      "text/plain": [
       "array([0.11836246, 0.11870748, 0.07312602, 0.32629579, 0.13594002,\n",
       "       0.16575384, 0.12892531, 0.1058932 , 0.05484226, 0.08566274,\n",
       "       0.09333894, 0.09450528, 0.0957133 , 0.06727243, 0.11262561,\n",
       "       0.06277901, 0.06590715, 0.10494055, 0.08205413, 0.0706279 ,\n",
       "       0.04783831, 0.15711823, 0.08276667, 0.06413905, 0.09450784,\n",
       "       0.10501791, 0.13971231, 0.06018946, 0.12422222, 0.06101891,\n",
       "       0.04658475, 0.08634257, 0.07688949, 0.15268291, 0.09874191,\n",
       "       0.06587649, 0.0991206 , 0.07223305, 0.05777286, 0.0909172 ,\n",
       "       0.04137824, 0.10403872, 0.07773267, 0.12521693, 0.05550897,\n",
       "       0.06093868, 0.03560814, 0.08726658, 0.13546378, 0.04027541,\n",
       "       0.07213299, 0.06692675, 0.03255281, 0.10418572, 0.03918796,\n",
       "       0.03593453, 0.03114071, 0.08756773, 0.03594235, 0.06992279,\n",
       "       0.07081143, 0.07776357, 0.07179279, 0.0290957 , 0.07960842,\n",
       "       0.02979127, 0.05205563, 0.12521693, 0.09715987, 0.03581252,\n",
       "       0.08940421, 0.03180394, 0.14814785, 0.13588491, 0.04198393,\n",
       "       0.11802435, 0.0606721 , 0.04965226, 0.05867345, 0.08323073,\n",
       "       0.05954031, 0.20041494, 0.11673571, 0.07192903, 0.42098133,\n",
       "       0.09163961, 0.04873069, 0.12600337, 0.03484862, 0.096727  ])"
      ]
     },
     "execution_count": 54,
     "metadata": {},
     "output_type": "execute_result"
    }
   ],
   "source": [
    "X[0, :].data #die tf-idf gewichte des ersten dokuments"
   ]
  },
  {
   "cell_type": "code",
   "execution_count": 55,
   "id": "98b3ce81",
   "metadata": {},
   "outputs": [
    {
     "data": {
      "text/plain": [
       "<40000x54699 sparse matrix of type '<class 'numpy.float64'>'\n",
       "\twith 4687759 stored elements in Compressed Sparse Row format>"
      ]
     },
     "execution_count": 55,
     "metadata": {},
     "output_type": "execute_result"
    }
   ],
   "source": [
    "X"
   ]
  },
  {
   "cell_type": "code",
   "execution_count": 56,
   "id": "7e5b6646",
   "metadata": {},
   "outputs": [
    {
     "data": {
      "text/plain": [
       "(40000, 54699)"
      ]
     },
     "execution_count": 56,
     "metadata": {},
     "output_type": "execute_result"
    }
   ],
   "source": [
    "X.shape"
   ]
  },
  {
   "attachments": {},
   "cell_type": "markdown",
   "id": "cc9054d8",
   "metadata": {},
   "source": [
    "# Machine Learning --> Sentiment Analysis\n",
    "\n",
    "Um die Labels (1/0 also positiv/negativ) vorherzusagen soll ein *logistic regression* Modell trainiert und getestet werden!"
   ]
  },
  {
   "attachments": {},
   "cell_type": "markdown",
   "id": "969d09f4",
   "metadata": {},
   "source": [
    "#### Erstellung des Trainingsdatenses\n"
   ]
  },
  {
   "cell_type": "code",
   "execution_count": 57,
   "id": "75eb1a0e",
   "metadata": {},
   "outputs": [],
   "source": [
    "y_train = data[\"label\"]"
   ]
  },
  {
   "cell_type": "code",
   "execution_count": 58,
   "id": "1b3f4d47",
   "metadata": {},
   "outputs": [
    {
     "data": {
      "text/html": [
       "<style>#sk-container-id-3 {color: black;background-color: white;}#sk-container-id-3 pre{padding: 0;}#sk-container-id-3 div.sk-toggleable {background-color: white;}#sk-container-id-3 label.sk-toggleable__label {cursor: pointer;display: block;width: 100%;margin-bottom: 0;padding: 0.3em;box-sizing: border-box;text-align: center;}#sk-container-id-3 label.sk-toggleable__label-arrow:before {content: \"▸\";float: left;margin-right: 0.25em;color: #696969;}#sk-container-id-3 label.sk-toggleable__label-arrow:hover:before {color: black;}#sk-container-id-3 div.sk-estimator:hover label.sk-toggleable__label-arrow:before {color: black;}#sk-container-id-3 div.sk-toggleable__content {max-height: 0;max-width: 0;overflow: hidden;text-align: left;background-color: #f0f8ff;}#sk-container-id-3 div.sk-toggleable__content pre {margin: 0.2em;color: black;border-radius: 0.25em;background-color: #f0f8ff;}#sk-container-id-3 input.sk-toggleable__control:checked~div.sk-toggleable__content {max-height: 200px;max-width: 100%;overflow: auto;}#sk-container-id-3 input.sk-toggleable__control:checked~label.sk-toggleable__label-arrow:before {content: \"▾\";}#sk-container-id-3 div.sk-estimator input.sk-toggleable__control:checked~label.sk-toggleable__label {background-color: #d4ebff;}#sk-container-id-3 div.sk-label input.sk-toggleable__control:checked~label.sk-toggleable__label {background-color: #d4ebff;}#sk-container-id-3 input.sk-hidden--visually {border: 0;clip: rect(1px 1px 1px 1px);clip: rect(1px, 1px, 1px, 1px);height: 1px;margin: -1px;overflow: hidden;padding: 0;position: absolute;width: 1px;}#sk-container-id-3 div.sk-estimator {font-family: monospace;background-color: #f0f8ff;border: 1px dotted black;border-radius: 0.25em;box-sizing: border-box;margin-bottom: 0.5em;}#sk-container-id-3 div.sk-estimator:hover {background-color: #d4ebff;}#sk-container-id-3 div.sk-parallel-item::after {content: \"\";width: 100%;border-bottom: 1px solid gray;flex-grow: 1;}#sk-container-id-3 div.sk-label:hover label.sk-toggleable__label {background-color: #d4ebff;}#sk-container-id-3 div.sk-serial::before {content: \"\";position: absolute;border-left: 1px solid gray;box-sizing: border-box;top: 0;bottom: 0;left: 50%;z-index: 0;}#sk-container-id-3 div.sk-serial {display: flex;flex-direction: column;align-items: center;background-color: white;padding-right: 0.2em;padding-left: 0.2em;position: relative;}#sk-container-id-3 div.sk-item {position: relative;z-index: 1;}#sk-container-id-3 div.sk-parallel {display: flex;align-items: stretch;justify-content: center;background-color: white;position: relative;}#sk-container-id-3 div.sk-item::before, #sk-container-id-3 div.sk-parallel-item::before {content: \"\";position: absolute;border-left: 1px solid gray;box-sizing: border-box;top: 0;bottom: 0;left: 50%;z-index: -1;}#sk-container-id-3 div.sk-parallel-item {display: flex;flex-direction: column;z-index: 1;position: relative;background-color: white;}#sk-container-id-3 div.sk-parallel-item:first-child::after {align-self: flex-end;width: 50%;}#sk-container-id-3 div.sk-parallel-item:last-child::after {align-self: flex-start;width: 50%;}#sk-container-id-3 div.sk-parallel-item:only-child::after {width: 0;}#sk-container-id-3 div.sk-dashed-wrapped {border: 1px dashed gray;margin: 0 0.4em 0.5em 0.4em;box-sizing: border-box;padding-bottom: 0.4em;background-color: white;}#sk-container-id-3 div.sk-label label {font-family: monospace;font-weight: bold;display: inline-block;line-height: 1.2em;}#sk-container-id-3 div.sk-label-container {text-align: center;}#sk-container-id-3 div.sk-container {/* jupyter's `normalize.less` sets `[hidden] { display: none; }` but bootstrap.min.css set `[hidden] { display: none !important; }` so we also need the `!important` here to be able to override the default hidden behavior on the sphinx rendered scikit-learn.org. See: https://github.com/scikit-learn/scikit-learn/issues/21755 */display: inline-block !important;position: relative;}#sk-container-id-3 div.sk-text-repr-fallback {display: none;}</style><div id=\"sk-container-id-3\" class=\"sk-top-container\"><div class=\"sk-text-repr-fallback\"><pre>LogisticRegression(random_state=42)</pre><b>In a Jupyter environment, please rerun this cell to show the HTML representation or trust the notebook. <br />On GitHub, the HTML representation is unable to render, please try loading this page with nbviewer.org.</b></div><div class=\"sk-container\" hidden><div class=\"sk-item\"><div class=\"sk-estimator sk-toggleable\"><input class=\"sk-toggleable__control sk-hidden--visually\" id=\"sk-estimator-id-3\" type=\"checkbox\" checked><label for=\"sk-estimator-id-3\" class=\"sk-toggleable__label sk-toggleable__label-arrow\">LogisticRegression</label><div class=\"sk-toggleable__content\"><pre>LogisticRegression(random_state=42)</pre></div></div></div></div></div>"
      ],
      "text/plain": [
       "LogisticRegression(random_state=42)"
      ]
     },
     "execution_count": 58,
     "metadata": {},
     "output_type": "execute_result"
    }
   ],
   "source": [
    "from sklearn.linear_model import LogisticRegression\n",
    "\n",
    "model = LogisticRegression(random_state=42)\n",
    "model.fit(X,y_train)"
   ]
  },
  {
   "attachments": {},
   "cell_type": "markdown",
   "id": "c34de091",
   "metadata": {},
   "source": [
    "## Modell testen\n",
    "Um das trainierte Modell zu testen nehmen wir einen (dem Modell noch unbekannten) Datensatz: `movie_reviews_test.csv`.\n",
    "\n",
    "- Sage die Label für die Test-Daten vorher\n",
    "- Messe die Genauigkeit mit `from sklearn.metrics import accuracy_score`\n",
    "- Erstelle eine Konfusionsmatrix (`from sklearn.metrics import confusion_matrix`)"
   ]
  },
  {
   "cell_type": "code",
   "execution_count": 59,
   "id": "28695d74",
   "metadata": {},
   "outputs": [
    {
     "data": {
      "text/html": [
       "<div>\n",
       "<style scoped>\n",
       "    .dataframe tbody tr th:only-of-type {\n",
       "        vertical-align: middle;\n",
       "    }\n",
       "\n",
       "    .dataframe tbody tr th {\n",
       "        vertical-align: top;\n",
       "    }\n",
       "\n",
       "    .dataframe thead th {\n",
       "        text-align: right;\n",
       "    }\n",
       "</style>\n",
       "<table border=\"1\" class=\"dataframe\">\n",
       "  <thead>\n",
       "    <tr style=\"text-align: right;\">\n",
       "      <th></th>\n",
       "      <th>text</th>\n",
       "      <th>label</th>\n",
       "    </tr>\n",
       "  </thead>\n",
       "  <tbody>\n",
       "    <tr>\n",
       "      <th>0</th>\n",
       "      <td>I always wrote this series off as being a comp...</td>\n",
       "      <td>0</td>\n",
       "    </tr>\n",
       "    <tr>\n",
       "      <th>1</th>\n",
       "      <td>1st watched 12/7/2002 - 3 out of 10(Dir-Steve ...</td>\n",
       "      <td>0</td>\n",
       "    </tr>\n",
       "    <tr>\n",
       "      <th>2</th>\n",
       "      <td>This movie was so poorly written and directed ...</td>\n",
       "      <td>0</td>\n",
       "    </tr>\n",
       "    <tr>\n",
       "      <th>3</th>\n",
       "      <td>The most interesting thing about Miryang (Secr...</td>\n",
       "      <td>1</td>\n",
       "    </tr>\n",
       "    <tr>\n",
       "      <th>4</th>\n",
       "      <td>when i first read about \"berlin am meer\" i did...</td>\n",
       "      <td>0</td>\n",
       "    </tr>\n",
       "  </tbody>\n",
       "</table>\n",
       "</div>"
      ],
      "text/plain": [
       "                                                text  label\n",
       "0  I always wrote this series off as being a comp...      0\n",
       "1  1st watched 12/7/2002 - 3 out of 10(Dir-Steve ...      0\n",
       "2  This movie was so poorly written and directed ...      0\n",
       "3  The most interesting thing about Miryang (Secr...      1\n",
       "4  when i first read about \"berlin am meer\" i did...      0"
      ]
     },
     "execution_count": 59,
     "metadata": {},
     "output_type": "execute_result"
    }
   ],
   "source": [
    "filename = \"data/movie_review_test.csv\"  # Pfad entsprechend anpassen\n",
    "\n",
    "data_test = pd.read_csv(filename)\n",
    "data_test.head()"
   ]
  },
  {
   "cell_type": "code",
   "execution_count": 60,
   "id": "bfd0fa5f",
   "metadata": {},
   "outputs": [],
   "source": [
    "test_corpus = data_test[\"text\"]\n",
    "X_test = vectorizer.transform(test_corpus)\n",
    "y_test = data_test[\"label\"]"
   ]
  },
  {
   "cell_type": "code",
   "execution_count": 61,
   "id": "aba7c004",
   "metadata": {},
   "outputs": [],
   "source": [
    "predictions = model.predict(X_test)"
   ]
  },
  {
   "cell_type": "code",
   "execution_count": 62,
   "id": "71a7d333",
   "metadata": {},
   "outputs": [
    {
     "data": {
      "text/plain": [
       "0.8986"
      ]
     },
     "execution_count": 62,
     "metadata": {},
     "output_type": "execute_result"
    }
   ],
   "source": [
    "from sklearn.metrics import accuracy_score\n",
    "from sklearn.metrics import confusion_matrix\n",
    "\n",
    "#calculate accuracy score\n",
    "accuracy_score(y_test, predictions)\n"
   ]
  },
  {
   "cell_type": "code",
   "execution_count": 63,
   "id": "08d310c0",
   "metadata": {},
   "outputs": [
    {
     "data": {
      "text/plain": [
       "array([[2212,  283],\n",
       "       [ 224, 2281]], dtype=int64)"
      ]
     },
     "execution_count": 63,
     "metadata": {},
     "output_type": "execute_result"
    }
   ],
   "source": [
    "#calculate confusion matrix\n",
    "confusion_matrix(y_test, predictions)"
   ]
  },
  {
   "attachments": {},
   "cell_type": "markdown",
   "id": "52d0dda6",
   "metadata": {},
   "source": [
    "## Modell interpretieren\n",
    "\n",
    "Einer der Vorteile von *logistic regression* ist, dass wir uns anschauen können was das Modell wirklich \"gelernt\" hat. Dazu können wir die gelernten Koeffizienten ausgeben mit `model.coef_`\n",
    "\n",
    "- Welche Wörter sind am wichtigsten für eine negative oder positive Bewertung (je die Top-10 anzeigen)"
   ]
  },
  {
   "cell_type": "code",
   "execution_count": 64,
   "id": "999c0eb7",
   "metadata": {},
   "outputs": [
    {
     "data": {
      "text/plain": [
       "(1, 54699)"
      ]
     },
     "execution_count": 64,
     "metadata": {},
     "output_type": "execute_result"
    }
   ],
   "source": [
    "model.coef_.shape"
   ]
  },
  {
   "cell_type": "code",
   "execution_count": 65,
   "metadata": {},
   "outputs": [
    {
     "data": {
      "text/plain": [
       "array([-0.22320701, -0.457677  , -0.03174684, ..., -0.17784228,\n",
       "        0.07222799, -0.05257983])"
      ]
     },
     "execution_count": 65,
     "metadata": {},
     "output_type": "execute_result"
    }
   ],
   "source": [
    "model.coef_[0, :]"
   ]
  },
  {
   "cell_type": "code",
   "execution_count": 66,
   "id": "7ad13203",
   "metadata": {},
   "outputs": [
    {
     "data": {
      "text/plain": [
       "array([19355, 53145,  6459, 28918, 35898,  1968, 53824,  4935, 16769,\n",
       "       20914], dtype=int64)"
      ]
     },
     "execution_count": 66,
     "metadata": {},
     "output_type": "execute_result"
    }
   ],
   "source": [
    "indices_of_most_important_words_for_positiv_label = np.argsort(model.coef_[0,:])[-10:] #argsort sortiert die werte von klein nach gross und gibt die indices zurueck\n",
    "indices_of_most_important_words_for_positiv_label"
   ]
  },
  {
   "cell_type": "code",
   "execution_count": 67,
   "id": "890d7a03",
   "metadata": {},
   "outputs": [
    {
     "data": {
      "text/plain": [
       "array([53966,  3810, 52884,  3648,  5984, 37057, 48454, 33583, 23155,\n",
       "       14895], dtype=int64)"
      ]
     },
     "execution_count": 67,
     "metadata": {},
     "output_type": "execute_result"
    }
   ],
   "source": [
    "indices_of_most_important_words_for_negativ_label = np.argsort(model.coef_[0,:])[:10]\n",
    "indices_of_most_important_words_for_negativ_label"
   ]
  },
  {
   "cell_type": "code",
   "execution_count": 68,
   "id": "f3ce6d35",
   "metadata": {},
   "outputs": [
    {
     "name": "stdout",
     "output_type": "stream",
     "text": [
      "fun\n",
      "well\n",
      "brilliant\n",
      "loved\n",
      "perfect\n",
      "amazing\n",
      "wonderful\n",
      "best\n"
     ]
    },
    {
     "name": "stdout",
     "output_type": "stream",
     "text": [
      "excellent\n",
      "great\n"
     ]
    }
   ],
   "source": [
    "#anhand der indices die woerter ausgeben\n",
    "for index in indices_of_most_important_words_for_positiv_label:\n",
    "    print(vectorizer.get_feature_names_out()[index])"
   ]
  },
  {
   "cell_type": "code",
   "execution_count": 69,
   "id": "1a8db933",
   "metadata": {},
   "outputs": [
    {
     "name": "stdout",
     "output_type": "stream",
     "text": [
      "worst\n",
      "bad\n"
     ]
    },
    {
     "name": "stdout",
     "output_type": "stream",
     "text": [
      "waste\n",
      "awful\n",
      "boring\n",
      "poor\n",
      "terrible\n",
      "nothing\n",
      "horrible\n",
      "dull\n"
     ]
    }
   ],
   "source": [
    "for index in indices_of_most_important_words_for_negativ_label:\n",
    "    print(vectorizer.get_feature_names_out()[index])"
   ]
  },
  {
   "attachments": {},
   "cell_type": "markdown",
   "id": "a8509884",
   "metadata": {},
   "source": [
    "# Vergleich: 2-grams, 3-grams...\n",
    "\n",
    "Bisher haben wir nur mit 1-grams gearbeitet (also einzelnen Wörtern). Wir können aber auch die Häufigkeiten der 2-grams etc. zählen und hinzunehmen. Dazu einfach den Parameter `ngram_range` auf z.B. `(1, 2)` (1-grams und 2-grams).\n",
    "\n",
    "Da es dadurch deutlich mehr Terme gibt, sollten dann aber auch min_df und max_df angepasst werden, z.B `min_df=6` oder 10...\n",
    "\n",
    "- Gibt das eine bessere Vorhersage der Labels?"
   ]
  },
  {
   "cell_type": "code",
   "execution_count": 70,
   "id": "a756a186",
   "metadata": {},
   "outputs": [],
   "source": [
    "from sklearn.feature_extraction.text import TfidfVectorizer\n",
    "\n",
    "corpus = data[\"text\"]\n",
    "vectorizer = TfidfVectorizer(min_df=6, max_df=0.5, ngram_range=(1,2)) #ngram_range gibt an wieviele Wörter zusammengefasst werden sollen\n",
    "X = vectorizer.fit_transform(corpus) #gibt eine matrix wieder die das tf-idf gewicht den gelernten Wörtern gegenueberstellt\n"
   ]
  },
  {
   "cell_type": "code",
   "execution_count": 71,
   "id": "9ecf3c91",
   "metadata": {},
   "outputs": [
    {
     "data": {
      "text/html": [
       "<style>#sk-container-id-4 {color: black;background-color: white;}#sk-container-id-4 pre{padding: 0;}#sk-container-id-4 div.sk-toggleable {background-color: white;}#sk-container-id-4 label.sk-toggleable__label {cursor: pointer;display: block;width: 100%;margin-bottom: 0;padding: 0.3em;box-sizing: border-box;text-align: center;}#sk-container-id-4 label.sk-toggleable__label-arrow:before {content: \"▸\";float: left;margin-right: 0.25em;color: #696969;}#sk-container-id-4 label.sk-toggleable__label-arrow:hover:before {color: black;}#sk-container-id-4 div.sk-estimator:hover label.sk-toggleable__label-arrow:before {color: black;}#sk-container-id-4 div.sk-toggleable__content {max-height: 0;max-width: 0;overflow: hidden;text-align: left;background-color: #f0f8ff;}#sk-container-id-4 div.sk-toggleable__content pre {margin: 0.2em;color: black;border-radius: 0.25em;background-color: #f0f8ff;}#sk-container-id-4 input.sk-toggleable__control:checked~div.sk-toggleable__content {max-height: 200px;max-width: 100%;overflow: auto;}#sk-container-id-4 input.sk-toggleable__control:checked~label.sk-toggleable__label-arrow:before {content: \"▾\";}#sk-container-id-4 div.sk-estimator input.sk-toggleable__control:checked~label.sk-toggleable__label {background-color: #d4ebff;}#sk-container-id-4 div.sk-label input.sk-toggleable__control:checked~label.sk-toggleable__label {background-color: #d4ebff;}#sk-container-id-4 input.sk-hidden--visually {border: 0;clip: rect(1px 1px 1px 1px);clip: rect(1px, 1px, 1px, 1px);height: 1px;margin: -1px;overflow: hidden;padding: 0;position: absolute;width: 1px;}#sk-container-id-4 div.sk-estimator {font-family: monospace;background-color: #f0f8ff;border: 1px dotted black;border-radius: 0.25em;box-sizing: border-box;margin-bottom: 0.5em;}#sk-container-id-4 div.sk-estimator:hover {background-color: #d4ebff;}#sk-container-id-4 div.sk-parallel-item::after {content: \"\";width: 100%;border-bottom: 1px solid gray;flex-grow: 1;}#sk-container-id-4 div.sk-label:hover label.sk-toggleable__label {background-color: #d4ebff;}#sk-container-id-4 div.sk-serial::before {content: \"\";position: absolute;border-left: 1px solid gray;box-sizing: border-box;top: 0;bottom: 0;left: 50%;z-index: 0;}#sk-container-id-4 div.sk-serial {display: flex;flex-direction: column;align-items: center;background-color: white;padding-right: 0.2em;padding-left: 0.2em;position: relative;}#sk-container-id-4 div.sk-item {position: relative;z-index: 1;}#sk-container-id-4 div.sk-parallel {display: flex;align-items: stretch;justify-content: center;background-color: white;position: relative;}#sk-container-id-4 div.sk-item::before, #sk-container-id-4 div.sk-parallel-item::before {content: \"\";position: absolute;border-left: 1px solid gray;box-sizing: border-box;top: 0;bottom: 0;left: 50%;z-index: -1;}#sk-container-id-4 div.sk-parallel-item {display: flex;flex-direction: column;z-index: 1;position: relative;background-color: white;}#sk-container-id-4 div.sk-parallel-item:first-child::after {align-self: flex-end;width: 50%;}#sk-container-id-4 div.sk-parallel-item:last-child::after {align-self: flex-start;width: 50%;}#sk-container-id-4 div.sk-parallel-item:only-child::after {width: 0;}#sk-container-id-4 div.sk-dashed-wrapped {border: 1px dashed gray;margin: 0 0.4em 0.5em 0.4em;box-sizing: border-box;padding-bottom: 0.4em;background-color: white;}#sk-container-id-4 div.sk-label label {font-family: monospace;font-weight: bold;display: inline-block;line-height: 1.2em;}#sk-container-id-4 div.sk-label-container {text-align: center;}#sk-container-id-4 div.sk-container {/* jupyter's `normalize.less` sets `[hidden] { display: none; }` but bootstrap.min.css set `[hidden] { display: none !important; }` so we also need the `!important` here to be able to override the default hidden behavior on the sphinx rendered scikit-learn.org. See: https://github.com/scikit-learn/scikit-learn/issues/21755 */display: inline-block !important;position: relative;}#sk-container-id-4 div.sk-text-repr-fallback {display: none;}</style><div id=\"sk-container-id-4\" class=\"sk-top-container\"><div class=\"sk-text-repr-fallback\"><pre>LogisticRegression(random_state=42)</pre><b>In a Jupyter environment, please rerun this cell to show the HTML representation or trust the notebook. <br />On GitHub, the HTML representation is unable to render, please try loading this page with nbviewer.org.</b></div><div class=\"sk-container\" hidden><div class=\"sk-item\"><div class=\"sk-estimator sk-toggleable\"><input class=\"sk-toggleable__control sk-hidden--visually\" id=\"sk-estimator-id-4\" type=\"checkbox\" checked><label for=\"sk-estimator-id-4\" class=\"sk-toggleable__label sk-toggleable__label-arrow\">LogisticRegression</label><div class=\"sk-toggleable__content\"><pre>LogisticRegression(random_state=42)</pre></div></div></div></div></div>"
      ],
      "text/plain": [
       "LogisticRegression(random_state=42)"
      ]
     },
     "execution_count": 71,
     "metadata": {},
     "output_type": "execute_result"
    }
   ],
   "source": [
    "from sklearn.linear_model import LogisticRegression\n",
    "\n",
    "model = LogisticRegression(random_state=42)\n",
    "model.fit(X,y_train)"
   ]
  },
  {
   "cell_type": "code",
   "execution_count": 72,
   "id": "e5f4ddf3",
   "metadata": {},
   "outputs": [],
   "source": [
    "test_corpus = data_test[\"text\"]\n",
    "X_test = vectorizer.transform(test_corpus)\n",
    "y_test = data_test[\"label\"]"
   ]
  },
  {
   "cell_type": "code",
   "execution_count": 73,
   "id": "6f998b5d",
   "metadata": {},
   "outputs": [
    {
     "data": {
      "text/plain": [
       "189502"
      ]
     },
     "execution_count": 73,
     "metadata": {},
     "output_type": "execute_result"
    }
   ],
   "source": [
    "len(vectorizer.get_feature_names_out())"
   ]
  },
  {
   "cell_type": "code",
   "execution_count": 74,
   "id": "acb8497c",
   "metadata": {},
   "outputs": [
    {
     "data": {
      "text/plain": [
       "(40000, 189502)"
      ]
     },
     "execution_count": 74,
     "metadata": {},
     "output_type": "execute_result"
    }
   ],
   "source": [
    "X.shape"
   ]
  },
  {
   "attachments": {},
   "cell_type": "markdown",
   "id": "84ffbbe1",
   "metadata": {},
   "source": [
    "## Check Model Performance"
   ]
  },
  {
   "cell_type": "code",
   "execution_count": 75,
   "id": "4eda6326",
   "metadata": {},
   "outputs": [],
   "source": [
    "predictions = model.predict(X_test)"
   ]
  },
  {
   "attachments": {},
   "cell_type": "markdown",
   "id": "db468af7",
   "metadata": {},
   "source": [
    "#### Accuracy"
   ]
  },
  {
   "cell_type": "code",
   "execution_count": 76,
   "id": "b4dbac06",
   "metadata": {},
   "outputs": [
    {
     "data": {
      "text/plain": [
       "0.9052"
      ]
     },
     "execution_count": 76,
     "metadata": {},
     "output_type": "execute_result"
    }
   ],
   "source": [
    "from sklearn.metrics import accuracy_score\n",
    "accuracy = accuracy_score(y_test, predictions)\n",
    "accuracy"
   ]
  },
  {
   "attachments": {},
   "cell_type": "markdown",
   "id": "178e61db",
   "metadata": {},
   "source": [
    "### Confusion Matrix"
   ]
  },
  {
   "cell_type": "code",
   "execution_count": 77,
   "id": "b59cf803",
   "metadata": {},
   "outputs": [
    {
     "data": {
      "text/plain": [
       "array([[2224,  271],\n",
       "       [ 203, 2302]], dtype=int64)"
      ]
     },
     "execution_count": 77,
     "metadata": {},
     "output_type": "execute_result"
    }
   ],
   "source": [
    "confusion = confusion_matrix(y_test, predictions)\n",
    "confusion"
   ]
  },
  {
   "cell_type": "code",
   "execution_count": 78,
   "id": "b1d1e139",
   "metadata": {},
   "outputs": [
    {
     "data": {
      "text/plain": [
       "(1, 189502)"
      ]
     },
     "execution_count": 78,
     "metadata": {},
     "output_type": "execute_result"
    }
   ],
   "source": [
    "model.coef_.shape"
   ]
  },
  {
   "cell_type": "code",
   "execution_count": 79,
   "id": "a3a1c4ab",
   "metadata": {},
   "outputs": [
    {
     "data": {
      "text/plain": [
       "array([-0.08148471,  0.05986044, -0.06256453, ...,  0.00771762,\n",
       "        0.0576624 , -0.03740848])"
      ]
     },
     "execution_count": 79,
     "metadata": {},
     "output_type": "execute_result"
    }
   ],
   "source": [
    "model.coef_[0, :]"
   ]
  },
  {
   "cell_type": "code",
   "execution_count": 80,
   "id": "aa2c0afd",
   "metadata": {},
   "outputs": [
    {
     "data": {
      "text/plain": [
       "array([ 96360,  96222,  62801, 155572,   6666, 121551,  23294, 186123,\n",
       "        53299,  67027], dtype=int64)"
      ]
     },
     "execution_count": 80,
     "metadata": {},
     "output_type": "execute_result"
    }
   ],
   "source": [
    "indices_of_most_important_words_for_positiv_label = np.argsort(model.coef_[0,:])[-10:] #argsort sortiert die werte von klein nach gross und gibt die indices zurueck\n",
    "indices_of_most_important_words_for_positiv_label"
   ]
  },
  {
   "cell_type": "code",
   "execution_count": 81,
   "id": "6ea959be",
   "metadata": {},
   "outputs": [
    {
     "data": {
      "text/plain": [
       "array([ 19187, 186894,  18817, 161600,  25613, 179061, 124405, 152958,\n",
       "       109884, 108246], dtype=int64)"
      ]
     },
     "execution_count": 81,
     "metadata": {},
     "output_type": "execute_result"
    }
   ],
   "source": [
    "indices_of_most_important_words_for_negativ_label = np.argsort(model.coef_[0,:])[:10]\n",
    "indices_of_most_important_words_for_negativ_label"
   ]
  },
  {
   "cell_type": "code",
   "execution_count": 82,
   "id": "d64399d3",
   "metadata": {},
   "outputs": [
    {
     "name": "stdout",
     "output_type": "stream",
     "text": [
      "loved\n",
      "love\n",
      "fun\n",
      "the best\n",
      "amazing\n",
      "perfect\n",
      "best\n",
      "wonderful\n",
      "excellent\n",
      "great\n"
     ]
    }
   ],
   "source": [
    "#anhand der indices die woerter ausgeben\n",
    "for index in indices_of_most_important_words_for_positiv_label:\n",
    "    print(vectorizer.get_feature_names_out()[index])"
   ]
  },
  {
   "cell_type": "code",
   "execution_count": 83,
   "id": "ff68aa42",
   "metadata": {},
   "outputs": [
    {
     "name": "stdout",
     "output_type": "stream",
     "text": [
      "bad\n",
      "worst\n",
      "awful\n",
      "the worst\n",
      "boring\n",
      "waste\n",
      "poor\n",
      "terrible\n",
      "nothing\n",
      "no\n"
     ]
    }
   ],
   "source": [
    "for index in indices_of_most_important_words_for_negativ_label:\n",
    "    print(vectorizer.get_feature_names_out()[index])"
   ]
  },
  {
   "attachments": {},
   "cell_type": "markdown",
   "id": "03a42272",
   "metadata": {},
   "source": [
    "#### Learning:\n",
    "N-grams sind nützlich, um in der Textverarbeitung die Feature-Extration zu verbessern. Damit das Modell trainiert werden kann, müssen die Textdaten in numerische Form gebracht werden. TFIDF ist ein gutes Beispiel die wichtigsten Wörter für das Model Training zu ermitteln und in Zahlen umzuwandeln. \n",
    "1. Schritt: Vektorizer trainieren und Matrix erstellen die den wichtigsten Wörter Gewichtungen gegenüberstellt. \n",
    "    - n-grams verwenden um Wortbeziehungen zu betonen\n",
    "    - min_df, max_df verwenden, um Stopwords zu filtern\n",
    "2. Schritt: Entsprechendes Modell mit Matrix trainieren\n",
    "3. Schritt: Testdaten mit Vektorizer in TFIDF Martix umwandeln\n",
    "4. Schritt: Vorhersagen\n",
    "5. Schritt: Auswerten (Acc, Conf)  \n",
    "\n",
    "(Zusätzliche Optmierung wäre eine Lemmatization vor dem Training des Vectorizers zu verwenden.)"
   ]
  }
 ],
 "metadata": {
  "kernelspec": {
   "display_name": "Python 3 (ipykernel)",
   "language": "python",
   "name": "python3"
  },
  "language_info": {
   "codemirror_mode": {
    "name": "ipython",
    "version": 3
   },
   "file_extension": ".py",
   "mimetype": "text/x-python",
   "name": "python",
   "nbconvert_exporter": "python",
   "pygments_lexer": "ipython3",
   "version": "3.9.15"
  }
 },
 "nbformat": 4,
 "nbformat_minor": 5
}
