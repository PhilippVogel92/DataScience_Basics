{
 "cells": [
  {
   "cell_type": "code",
   "execution_count": 5,
   "metadata": {},
   "outputs": [],
   "source": [
    "import pandas as pd\n",
    "import os"
   ]
  },
  {
   "cell_type": "code",
   "execution_count": 6,
   "metadata": {},
   "outputs": [],
   "source": [
    "path = \"data\"\n",
    "filename= \"chess_federation_march_2022_standard_rating_list.xml\"\n",
    "data = pd.read_xml(os.path.join(path, filename))"
   ]
  },
  {
   "cell_type": "code",
   "execution_count": 12,
   "metadata": {},
   "outputs": [
    {
     "name": "stdout",
     "output_type": "stream",
     "text": [
      "<class 'pandas.core.frame.DataFrame'>\n",
      "RangeIndex: 380786 entries, 0 to 380785\n",
      "Data columns (total 13 columns):\n",
      " #   Column     Non-Null Count   Dtype  \n",
      "---  ------     --------------   -----  \n",
      " 0   fideid     380786 non-null  int64  \n",
      " 1   name       380786 non-null  object \n",
      " 2   country    380786 non-null  object \n",
      " 3   sex        380786 non-null  object \n",
      " 4   title      19781 non-null   object \n",
      " 5   w_title    3937 non-null    object \n",
      " 6   o_title    1099 non-null    object \n",
      " 7   foa_title  2131 non-null    object \n",
      " 8   rating     380786 non-null  int64  \n",
      " 9   games      380786 non-null  int64  \n",
      " 10  k          380786 non-null  int64  \n",
      " 11  birthday   372269 non-null  float64\n",
      " 12  flag       259745 non-null  object \n",
      "dtypes: float64(1), int64(4), object(8)\n",
      "memory usage: 37.8+ MB\n"
     ]
    }
   ],
   "source": [
    "data.info()"
   ]
  },
  {
   "cell_type": "code",
   "execution_count": null,
   "metadata": {},
   "outputs": [],
   "source": []
  },
  {
   "cell_type": "code",
   "execution_count": null,
   "metadata": {},
   "outputs": [],
   "source": []
  }
 ],
 "metadata": {
  "kernelspec": {
   "display_name": "chatbots",
   "language": "python",
   "name": "python3"
  },
  "language_info": {
   "codemirror_mode": {
    "name": "ipython",
    "version": 3
   },
   "file_extension": ".py",
   "mimetype": "text/x-python",
   "name": "python",
   "nbconvert_exporter": "python",
   "pygments_lexer": "ipython3",
   "version": "3.9.15"
  },
  "orig_nbformat": 4
 },
 "nbformat": 4,
 "nbformat_minor": 2
}
