{
 "cells": [
  {
   "cell_type": "code",
   "execution_count": 2,
   "id": "f8ba0194",
   "metadata": {},
   "outputs": [],
   "source": [
    "import pandas as pd\n",
    "import numpy as np"
   ]
  },
  {
   "cell_type": "code",
   "execution_count": null,
   "id": "2a38c4dd",
   "metadata": {},
   "outputs": [],
   "source": [
    "my_dict={ 'city': ['Essen','Dortmund','Bochum'],\n",
    "            'inhabitens': [5432323,2355,3,232,3223],\n",
    "        'xyz': array([0.23231,0.2323455,0.5454])}"
   ]
  }
 ],
 "metadata": {
  "kernelspec": {
   "display_name": "Python 3 (ipykernel)",
   "language": "python",
   "name": "python3"
  },
  "language_info": {
   "codemirror_mode": {
    "name": "ipython",
    "version": 3
   },
   "file_extension": ".py",
   "mimetype": "text/x-python",
   "name": "python",
   "nbconvert_exporter": "python",
   "pygments_lexer": "ipython3",
   "version": "3.9.15"
  }
 },
 "nbformat": 4,
 "nbformat_minor": 5
}
