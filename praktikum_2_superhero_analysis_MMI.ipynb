{
 "cells": [
  {
   "cell_type": "markdown",
   "id": "19ae5264",
   "metadata": {},
   "source": [
    "# Data Science\n",
    "## Superhero analysis --> Statistics and distributions"
   ]
  },
  {
   "cell_type": "code",
   "execution_count": 95,
   "id": "494f1abc",
   "metadata": {},
   "outputs": [],
   "source": [
    "import os\n",
    "\n",
    "import numpy as np\n",
    "import pandas as pd\n",
    "from matplotlib import pyplot as plt"
   ]
  },
  {
   "cell_type": "markdown",
   "id": "59c1b492",
   "metadata": {},
   "source": [
    "## Daten importieren\n",
    "\n",
    "Die Daten können mit Pandas eingelesen werden mit dem Befehl `pd.read_csv()`.\n",
    "In vielen Fällen funktioniert dies nicht direkt. Meistens liegt es dann an einem der folgenden Punkte:\n",
    "- `FileNotFoundError` --> Entweder der Dateiname ist falsch geschrieben, oder der Pfad stimmt nicht.\n",
    "- `UnicodeDecodeError` --> Entweder der Dateiname (+Pfad) wurden mit unerlaubten Zeichen geschrieben (bei Windows z.B. muss oft \"//\" statt \"/\" verwendet werden), oder die Datei selbst ist nicht im erwarteten \"Encoding\" gespeichert. Für letzterers gibt es zwei Möglichkeiten: (1) Die Datei mit einem Editor umwandeln. Oder (2) den parameter `encoding=...` entsprechend setzten.  \n",
    "Es gibt sehr viele mögliche Encodings ([siehe Link](https://docs.python.org/3/library/codecs.html#standard-encodings)), aber am häufigsten sind \"utf-8\" (der Standard), \"ANSI\" (auf mac: \"iso-8859-1\" oder \"ISO8859\") oder \"ASCII\".\n",
    "- `ParserError` --> Bedeutet meistens, dass der \"delimiter\" also das Trennzeichen falsch angegeben ist. Am besten die Datei kurz mit einem Editor öffnen und nachschauen und dann entsprechend setzten mit `delimiter=\"...\"`. Typische Trennzeichen sind `\",\"`, `\";\"`, `\"\\t\"` (tab).\n",
    "- Falls die Datei nicht mit den gewünschten Spaltennamen beginnt, kann dies durch das Angeben der zu überspringenden Zeilen korrigiert werden --> `skiprows=1` (1, 2, 3,... je nach Fall)."
   ]
  },
  {
   "cell_type": "code",
   "execution_count": 96,
   "id": "d832ecac",
   "metadata": {},
   "outputs": [],
   "source": [
    "path_data = \"data\"\n",
    "file_marvel = \"marvel-wikia-data_json.json\"\n",
    "file_dc = \"dc-wikia-data_json.json\""
   ]
  },
  {
   "cell_type": "code",
   "execution_count": 97,
   "id": "e5fd7ccf",
   "metadata": {},
   "outputs": [
    {
     "data": {
      "text/html": [
       "<div>\n",
       "<style scoped>\n",
       "    .dataframe tbody tr th:only-of-type {\n",
       "        vertical-align: middle;\n",
       "    }\n",
       "\n",
       "    .dataframe tbody tr th {\n",
       "        vertical-align: top;\n",
       "    }\n",
       "\n",
       "    .dataframe thead th {\n",
       "        text-align: right;\n",
       "    }\n",
       "</style>\n",
       "<table border=\"1\" class=\"dataframe\">\n",
       "  <thead>\n",
       "    <tr style=\"text-align: right;\">\n",
       "      <th></th>\n",
       "      <th>align</th>\n",
       "      <th>alive</th>\n",
       "      <th>appearances</th>\n",
       "      <th>eye</th>\n",
       "      <th>first appearance</th>\n",
       "      <th>gsm</th>\n",
       "      <th>hair</th>\n",
       "      <th>id</th>\n",
       "      <th>name</th>\n",
       "      <th>page_id</th>\n",
       "      <th>sex</th>\n",
       "      <th>urlslug</th>\n",
       "      <th>year</th>\n",
       "    </tr>\n",
       "  </thead>\n",
       "  <tbody>\n",
       "    <tr>\n",
       "      <th>0</th>\n",
       "      <td>good characters</td>\n",
       "      <td>living characters</td>\n",
       "      <td>4043.0</td>\n",
       "      <td>hazel eyes</td>\n",
       "      <td>aug-62</td>\n",
       "      <td>None</td>\n",
       "      <td>brown hair</td>\n",
       "      <td>secret identity</td>\n",
       "      <td>spider-man (peter parker)</td>\n",
       "      <td>1678</td>\n",
       "      <td>male characters</td>\n",
       "      <td>\\/spider-man_(peter_parker)</td>\n",
       "      <td>1962.0</td>\n",
       "    </tr>\n",
       "    <tr>\n",
       "      <th>1</th>\n",
       "      <td>good characters</td>\n",
       "      <td>living characters</td>\n",
       "      <td>3360.0</td>\n",
       "      <td>blue eyes</td>\n",
       "      <td>mar-41</td>\n",
       "      <td>None</td>\n",
       "      <td>white hair</td>\n",
       "      <td>public identity</td>\n",
       "      <td>captain america (steven rogers)</td>\n",
       "      <td>7139</td>\n",
       "      <td>male characters</td>\n",
       "      <td>\\/captain_america_(steven_rogers)</td>\n",
       "      <td>1941.0</td>\n",
       "    </tr>\n",
       "    <tr>\n",
       "      <th>2</th>\n",
       "      <td>neutral characters</td>\n",
       "      <td>living characters</td>\n",
       "      <td>3061.0</td>\n",
       "      <td>blue eyes</td>\n",
       "      <td>oct-74</td>\n",
       "      <td>None</td>\n",
       "      <td>black hair</td>\n",
       "      <td>public identity</td>\n",
       "      <td>wolverine (james \\\"logan\\\" howlett)</td>\n",
       "      <td>64786</td>\n",
       "      <td>male characters</td>\n",
       "      <td>\\/wolverine_(james_%22logan%22_howlett)</td>\n",
       "      <td>1974.0</td>\n",
       "    </tr>\n",
       "    <tr>\n",
       "      <th>3</th>\n",
       "      <td>good characters</td>\n",
       "      <td>living characters</td>\n",
       "      <td>2961.0</td>\n",
       "      <td>blue eyes</td>\n",
       "      <td>mar-63</td>\n",
       "      <td>None</td>\n",
       "      <td>black hair</td>\n",
       "      <td>public identity</td>\n",
       "      <td>iron man (anthony \\\"tony\\\" stark)</td>\n",
       "      <td>1868</td>\n",
       "      <td>male characters</td>\n",
       "      <td>\\/iron_man_(anthony_%22tony%22_stark)</td>\n",
       "      <td>1963.0</td>\n",
       "    </tr>\n",
       "    <tr>\n",
       "      <th>4</th>\n",
       "      <td>good characters</td>\n",
       "      <td>living characters</td>\n",
       "      <td>2258.0</td>\n",
       "      <td>blue eyes</td>\n",
       "      <td>nov-50</td>\n",
       "      <td>None</td>\n",
       "      <td>blond hair</td>\n",
       "      <td>no dual identity</td>\n",
       "      <td>thor (thor odinson)</td>\n",
       "      <td>2460</td>\n",
       "      <td>male characters</td>\n",
       "      <td>\\/thor_(thor_odinson)</td>\n",
       "      <td>1950.0</td>\n",
       "    </tr>\n",
       "  </tbody>\n",
       "</table>\n",
       "</div>"
      ],
      "text/plain": [
       "                align              alive  appearances         eye  \\\n",
       "0     good characters  living characters       4043.0  hazel eyes   \n",
       "1     good characters  living characters       3360.0   blue eyes   \n",
       "2  neutral characters  living characters       3061.0   blue eyes   \n",
       "3     good characters  living characters       2961.0   blue eyes   \n",
       "4     good characters  living characters       2258.0   blue eyes   \n",
       "\n",
       "  first appearance   gsm        hair                id  \\\n",
       "0           aug-62  None  brown hair   secret identity   \n",
       "1           mar-41  None  white hair   public identity   \n",
       "2           oct-74  None  black hair   public identity   \n",
       "3           mar-63  None  black hair   public identity   \n",
       "4           nov-50  None  blond hair  no dual identity   \n",
       "\n",
       "                                  name  page_id              sex  \\\n",
       "0            spider-man (peter parker)     1678  male characters   \n",
       "1      captain america (steven rogers)     7139  male characters   \n",
       "2  wolverine (james \\\"logan\\\" howlett)    64786  male characters   \n",
       "3    iron man (anthony \\\"tony\\\" stark)     1868  male characters   \n",
       "4                  thor (thor odinson)     2460  male characters   \n",
       "\n",
       "                                   urlslug    year  \n",
       "0              \\/spider-man_(peter_parker)  1962.0  \n",
       "1        \\/captain_america_(steven_rogers)  1941.0  \n",
       "2  \\/wolverine_(james_%22logan%22_howlett)  1974.0  \n",
       "3    \\/iron_man_(anthony_%22tony%22_stark)  1963.0  \n",
       "4                    \\/thor_(thor_odinson)  1950.0  "
      ]
     },
     "execution_count": 97,
     "metadata": {},
     "output_type": "execute_result"
    }
   ],
   "source": [
    "data_marvel = pd.read_json(os.path.join(path_data, file_marvel))\n",
    "data_marvel.head()"
   ]
  },
  {
   "cell_type": "code",
   "execution_count": 98,
   "id": "8c98975b",
   "metadata": {},
   "outputs": [
    {
     "data": {
      "text/html": [
       "<div>\n",
       "<style scoped>\n",
       "    .dataframe tbody tr th:only-of-type {\n",
       "        vertical-align: middle;\n",
       "    }\n",
       "\n",
       "    .dataframe tbody tr th {\n",
       "        vertical-align: top;\n",
       "    }\n",
       "\n",
       "    .dataframe thead th {\n",
       "        text-align: right;\n",
       "    }\n",
       "</style>\n",
       "<table border=\"1\" class=\"dataframe\">\n",
       "  <thead>\n",
       "    <tr style=\"text-align: right;\">\n",
       "      <th></th>\n",
       "      <th>align</th>\n",
       "      <th>alive</th>\n",
       "      <th>appearances</th>\n",
       "      <th>eye</th>\n",
       "      <th>first appearance</th>\n",
       "      <th>gsm</th>\n",
       "      <th>hair</th>\n",
       "      <th>id</th>\n",
       "      <th>name</th>\n",
       "      <th>page_id</th>\n",
       "      <th>sex</th>\n",
       "      <th>urlslug</th>\n",
       "      <th>year</th>\n",
       "    </tr>\n",
       "  </thead>\n",
       "  <tbody>\n",
       "    <tr>\n",
       "      <th>0</th>\n",
       "      <td>good characters</td>\n",
       "      <td>living characters</td>\n",
       "      <td>3093.0</td>\n",
       "      <td>blue eyes</td>\n",
       "      <td>1939, may</td>\n",
       "      <td>None</td>\n",
       "      <td>black hair</td>\n",
       "      <td>secret identity</td>\n",
       "      <td>batman (bruce wayne)</td>\n",
       "      <td>1422</td>\n",
       "      <td>male characters</td>\n",
       "      <td>\\/wiki\\/batman_(bruce_wayne)</td>\n",
       "      <td>1939.0</td>\n",
       "    </tr>\n",
       "    <tr>\n",
       "      <th>1</th>\n",
       "      <td>good characters</td>\n",
       "      <td>living characters</td>\n",
       "      <td>2496.0</td>\n",
       "      <td>blue eyes</td>\n",
       "      <td>1986, october</td>\n",
       "      <td>None</td>\n",
       "      <td>black hair</td>\n",
       "      <td>secret identity</td>\n",
       "      <td>superman (clark kent)</td>\n",
       "      <td>23387</td>\n",
       "      <td>male characters</td>\n",
       "      <td>\\/wiki\\/superman_(clark_kent)</td>\n",
       "      <td>1986.0</td>\n",
       "    </tr>\n",
       "    <tr>\n",
       "      <th>2</th>\n",
       "      <td>good characters</td>\n",
       "      <td>living characters</td>\n",
       "      <td>1565.0</td>\n",
       "      <td>brown eyes</td>\n",
       "      <td>1959, october</td>\n",
       "      <td>None</td>\n",
       "      <td>brown hair</td>\n",
       "      <td>secret identity</td>\n",
       "      <td>green lantern (hal jordan)</td>\n",
       "      <td>1458</td>\n",
       "      <td>male characters</td>\n",
       "      <td>\\/wiki\\/green_lantern_(hal_jordan)</td>\n",
       "      <td>1959.0</td>\n",
       "    </tr>\n",
       "    <tr>\n",
       "      <th>3</th>\n",
       "      <td>good characters</td>\n",
       "      <td>living characters</td>\n",
       "      <td>1316.0</td>\n",
       "      <td>brown eyes</td>\n",
       "      <td>1987, february</td>\n",
       "      <td>None</td>\n",
       "      <td>white hair</td>\n",
       "      <td>public identity</td>\n",
       "      <td>james gordon (new earth)</td>\n",
       "      <td>1659</td>\n",
       "      <td>male characters</td>\n",
       "      <td>\\/wiki\\/james_gordon_(new_earth)</td>\n",
       "      <td>1987.0</td>\n",
       "    </tr>\n",
       "    <tr>\n",
       "      <th>4</th>\n",
       "      <td>good characters</td>\n",
       "      <td>living characters</td>\n",
       "      <td>1237.0</td>\n",
       "      <td>blue eyes</td>\n",
       "      <td>1940, april</td>\n",
       "      <td>None</td>\n",
       "      <td>black hair</td>\n",
       "      <td>secret identity</td>\n",
       "      <td>richard grayson (new earth)</td>\n",
       "      <td>1576</td>\n",
       "      <td>male characters</td>\n",
       "      <td>\\/wiki\\/richard_grayson_(new_earth)</td>\n",
       "      <td>1940.0</td>\n",
       "    </tr>\n",
       "  </tbody>\n",
       "</table>\n",
       "</div>"
      ],
      "text/plain": [
       "             align              alive  appearances         eye  \\\n",
       "0  good characters  living characters       3093.0   blue eyes   \n",
       "1  good characters  living characters       2496.0   blue eyes   \n",
       "2  good characters  living characters       1565.0  brown eyes   \n",
       "3  good characters  living characters       1316.0  brown eyes   \n",
       "4  good characters  living characters       1237.0   blue eyes   \n",
       "\n",
       "  first appearance   gsm        hair               id  \\\n",
       "0        1939, may  None  black hair  secret identity   \n",
       "1    1986, october  None  black hair  secret identity   \n",
       "2    1959, october  None  brown hair  secret identity   \n",
       "3   1987, february  None  white hair  public identity   \n",
       "4      1940, april  None  black hair  secret identity   \n",
       "\n",
       "                          name  page_id              sex  \\\n",
       "0         batman (bruce wayne)     1422  male characters   \n",
       "1        superman (clark kent)    23387  male characters   \n",
       "2   green lantern (hal jordan)     1458  male characters   \n",
       "3     james gordon (new earth)     1659  male characters   \n",
       "4  richard grayson (new earth)     1576  male characters   \n",
       "\n",
       "                               urlslug    year  \n",
       "0         \\/wiki\\/batman_(bruce_wayne)  1939.0  \n",
       "1        \\/wiki\\/superman_(clark_kent)  1986.0  \n",
       "2   \\/wiki\\/green_lantern_(hal_jordan)  1959.0  \n",
       "3     \\/wiki\\/james_gordon_(new_earth)  1987.0  \n",
       "4  \\/wiki\\/richard_grayson_(new_earth)  1940.0  "
      ]
     },
     "execution_count": 98,
     "metadata": {},
     "output_type": "execute_result"
    }
   ],
   "source": [
    "data_dc = pd.read_json(os.path.join(path_data, file_dc))\n",
    "data_dc.head()"
   ]
  },
  {
   "attachments": {},
   "cell_type": "markdown",
   "id": "9a5171ec",
   "metadata": {},
   "source": [
    "# (1) Erste Datenerkundung\n",
    "- Wie viele und welche Spalten gibt es? --> `data.columns`\n",
    "- Gibt es fehlende Werte? --> `.info()`\n",
    "- erster Überblich und: Gibt es merkwürdige Einträge --> `.describe()`\n",
    "\n",
    "### Ausfüllen:\n",
    "- Anzahl der Spalten: 13\n",
    "- Gibt es fehlende Werte und wenn ja, welche? ..."
   ]
  },
  {
   "cell_type": "code",
   "execution_count": 99,
   "id": "f8f099bc",
   "metadata": {},
   "outputs": [
    {
     "name": "stdout",
     "output_type": "stream",
     "text": [
      "Index(['align', 'alive', 'appearances', 'eye', 'first appearance', 'gsm',\n",
      "       'hair', 'id', 'name', 'page_id', 'sex', 'urlslug', 'year'],\n",
      "      dtype='object')\n",
      "Index(['align', 'alive', 'appearances', 'eye', 'first appearance', 'gsm',\n",
      "       'hair', 'id', 'name', 'page_id', 'sex', 'urlslug', 'year'],\n",
      "      dtype='object')\n"
     ]
    }
   ],
   "source": [
    "print(data_marvel.columns)\n",
    "print(data_dc.columns)"
   ]
  },
  {
   "cell_type": "code",
   "execution_count": 100,
   "id": "d517a281",
   "metadata": {},
   "outputs": [
    {
     "name": "stdout",
     "output_type": "stream",
     "text": [
      "<class 'pandas.core.frame.DataFrame'>\n",
      "RangeIndex: 16376 entries, 0 to 16375\n",
      "Data columns (total 13 columns):\n",
      " #   Column            Non-Null Count  Dtype  \n",
      "---  ------            --------------  -----  \n",
      " 0   align             13564 non-null  object \n",
      " 1   alive             16373 non-null  object \n",
      " 2   appearances       15280 non-null  float64\n",
      " 3   eye               6609 non-null   object \n",
      " 4   first appearance  15561 non-null  object \n",
      " 5   gsm               90 non-null     object \n",
      " 6   hair              12112 non-null  object \n",
      " 7   id                12606 non-null  object \n",
      " 8   name              16376 non-null  object \n",
      " 9   page_id           16376 non-null  int64  \n",
      " 10  sex               15522 non-null  object \n",
      " 11  urlslug           16376 non-null  object \n",
      " 12  year              15561 non-null  float64\n",
      "dtypes: float64(2), int64(1), object(10)\n",
      "memory usage: 1.6+ MB\n"
     ]
    }
   ],
   "source": [
    "data_marvel.info()"
   ]
  },
  {
   "cell_type": "code",
   "execution_count": 101,
   "id": "933af1ce",
   "metadata": {},
   "outputs": [
    {
     "name": "stdout",
     "output_type": "stream",
     "text": [
      "<class 'pandas.core.frame.DataFrame'>\n",
      "RangeIndex: 6896 entries, 0 to 6895\n",
      "Data columns (total 13 columns):\n",
      " #   Column            Non-Null Count  Dtype  \n",
      "---  ------            --------------  -----  \n",
      " 0   align             6295 non-null   object \n",
      " 1   alive             6893 non-null   object \n",
      " 2   appearances       6541 non-null   float64\n",
      " 3   eye               3268 non-null   object \n",
      " 4   first appearance  6827 non-null   object \n",
      " 5   gsm               64 non-null     object \n",
      " 6   hair              4622 non-null   object \n",
      " 7   id                4883 non-null   object \n",
      " 8   name              6896 non-null   object \n",
      " 9   page_id           6896 non-null   int64  \n",
      " 10  sex               6771 non-null   object \n",
      " 11  urlslug           6896 non-null   object \n",
      " 12  year              6827 non-null   float64\n",
      "dtypes: float64(2), int64(1), object(10)\n",
      "memory usage: 700.5+ KB\n"
     ]
    }
   ],
   "source": [
    "data_dc.info()"
   ]
  },
  {
   "cell_type": "code",
   "execution_count": 102,
   "id": "5c5f3ac8",
   "metadata": {},
   "outputs": [
    {
     "data": {
      "text/html": [
       "<div>\n",
       "<style scoped>\n",
       "    .dataframe tbody tr th:only-of-type {\n",
       "        vertical-align: middle;\n",
       "    }\n",
       "\n",
       "    .dataframe tbody tr th {\n",
       "        vertical-align: top;\n",
       "    }\n",
       "\n",
       "    .dataframe thead th {\n",
       "        text-align: right;\n",
       "    }\n",
       "</style>\n",
       "<table border=\"1\" class=\"dataframe\">\n",
       "  <thead>\n",
       "    <tr style=\"text-align: right;\">\n",
       "      <th></th>\n",
       "      <th>appearances</th>\n",
       "      <th>page_id</th>\n",
       "      <th>year</th>\n",
       "    </tr>\n",
       "  </thead>\n",
       "  <tbody>\n",
       "    <tr>\n",
       "      <th>count</th>\n",
       "      <td>15280.000000</td>\n",
       "      <td>16376.000000</td>\n",
       "      <td>15561.000000</td>\n",
       "    </tr>\n",
       "    <tr>\n",
       "      <th>mean</th>\n",
       "      <td>17.033377</td>\n",
       "      <td>300232.082377</td>\n",
       "      <td>1984.951803</td>\n",
       "    </tr>\n",
       "    <tr>\n",
       "      <th>std</th>\n",
       "      <td>96.372959</td>\n",
       "      <td>253460.403399</td>\n",
       "      <td>19.663571</td>\n",
       "    </tr>\n",
       "    <tr>\n",
       "      <th>min</th>\n",
       "      <td>1.000000</td>\n",
       "      <td>1025.000000</td>\n",
       "      <td>1939.000000</td>\n",
       "    </tr>\n",
       "    <tr>\n",
       "      <th>25%</th>\n",
       "      <td>1.000000</td>\n",
       "      <td>28309.500000</td>\n",
       "      <td>1974.000000</td>\n",
       "    </tr>\n",
       "    <tr>\n",
       "      <th>50%</th>\n",
       "      <td>3.000000</td>\n",
       "      <td>282578.000000</td>\n",
       "      <td>1990.000000</td>\n",
       "    </tr>\n",
       "    <tr>\n",
       "      <th>75%</th>\n",
       "      <td>8.000000</td>\n",
       "      <td>509077.000000</td>\n",
       "      <td>2000.000000</td>\n",
       "    </tr>\n",
       "    <tr>\n",
       "      <th>max</th>\n",
       "      <td>4043.000000</td>\n",
       "      <td>755278.000000</td>\n",
       "      <td>2013.000000</td>\n",
       "    </tr>\n",
       "  </tbody>\n",
       "</table>\n",
       "</div>"
      ],
      "text/plain": [
       "        appearances        page_id          year\n",
       "count  15280.000000   16376.000000  15561.000000\n",
       "mean      17.033377  300232.082377   1984.951803\n",
       "std       96.372959  253460.403399     19.663571\n",
       "min        1.000000    1025.000000   1939.000000\n",
       "25%        1.000000   28309.500000   1974.000000\n",
       "50%        3.000000  282578.000000   1990.000000\n",
       "75%        8.000000  509077.000000   2000.000000\n",
       "max     4043.000000  755278.000000   2013.000000"
      ]
     },
     "execution_count": 102,
     "metadata": {},
     "output_type": "execute_result"
    }
   ],
   "source": [
    "data_marvel.describe()"
   ]
  },
  {
   "cell_type": "code",
   "execution_count": 103,
   "id": "e21ae878",
   "metadata": {},
   "outputs": [
    {
     "data": {
      "text/html": [
       "<div>\n",
       "<style scoped>\n",
       "    .dataframe tbody tr th:only-of-type {\n",
       "        vertical-align: middle;\n",
       "    }\n",
       "\n",
       "    .dataframe tbody tr th {\n",
       "        vertical-align: top;\n",
       "    }\n",
       "\n",
       "    .dataframe thead th {\n",
       "        text-align: right;\n",
       "    }\n",
       "</style>\n",
       "<table border=\"1\" class=\"dataframe\">\n",
       "  <thead>\n",
       "    <tr style=\"text-align: right;\">\n",
       "      <th></th>\n",
       "      <th>appearances</th>\n",
       "      <th>page_id</th>\n",
       "      <th>year</th>\n",
       "    </tr>\n",
       "  </thead>\n",
       "  <tbody>\n",
       "    <tr>\n",
       "      <th>count</th>\n",
       "      <td>6541.000000</td>\n",
       "      <td>6896.000000</td>\n",
       "      <td>6827.000000</td>\n",
       "    </tr>\n",
       "    <tr>\n",
       "      <th>mean</th>\n",
       "      <td>23.625134</td>\n",
       "      <td>147441.209252</td>\n",
       "      <td>1989.766662</td>\n",
       "    </tr>\n",
       "    <tr>\n",
       "      <th>std</th>\n",
       "      <td>87.378509</td>\n",
       "      <td>108388.631149</td>\n",
       "      <td>16.824194</td>\n",
       "    </tr>\n",
       "    <tr>\n",
       "      <th>min</th>\n",
       "      <td>1.000000</td>\n",
       "      <td>1380.000000</td>\n",
       "      <td>1935.000000</td>\n",
       "    </tr>\n",
       "    <tr>\n",
       "      <th>25%</th>\n",
       "      <td>2.000000</td>\n",
       "      <td>44105.500000</td>\n",
       "      <td>1983.000000</td>\n",
       "    </tr>\n",
       "    <tr>\n",
       "      <th>50%</th>\n",
       "      <td>6.000000</td>\n",
       "      <td>141267.000000</td>\n",
       "      <td>1992.000000</td>\n",
       "    </tr>\n",
       "    <tr>\n",
       "      <th>75%</th>\n",
       "      <td>15.000000</td>\n",
       "      <td>213203.000000</td>\n",
       "      <td>2003.000000</td>\n",
       "    </tr>\n",
       "    <tr>\n",
       "      <th>max</th>\n",
       "      <td>3093.000000</td>\n",
       "      <td>404010.000000</td>\n",
       "      <td>2013.000000</td>\n",
       "    </tr>\n",
       "  </tbody>\n",
       "</table>\n",
       "</div>"
      ],
      "text/plain": [
       "       appearances        page_id         year\n",
       "count  6541.000000    6896.000000  6827.000000\n",
       "mean     23.625134  147441.209252  1989.766662\n",
       "std      87.378509  108388.631149    16.824194\n",
       "min       1.000000    1380.000000  1935.000000\n",
       "25%       2.000000   44105.500000  1983.000000\n",
       "50%       6.000000  141267.000000  1992.000000\n",
       "75%      15.000000  213203.000000  2003.000000\n",
       "max    3093.000000  404010.000000  2013.000000"
      ]
     },
     "execution_count": 103,
     "metadata": {},
     "output_type": "execute_result"
    }
   ],
   "source": [
    "data_dc.describe()"
   ]
  },
  {
   "cell_type": "code",
   "execution_count": 104,
   "id": "7c00c0ba",
   "metadata": {},
   "outputs": [
    {
     "data": {
      "text/plain": [
       "0        None\n",
       "1        None\n",
       "2        None\n",
       "3        None\n",
       "4        None\n",
       "         ... \n",
       "16371    None\n",
       "16372    None\n",
       "16373    None\n",
       "16374    None\n",
       "16375    None\n",
       "Name: gsm, Length: 16376, dtype: object"
      ]
     },
     "execution_count": 104,
     "metadata": {},
     "output_type": "execute_result"
    }
   ],
   "source": [
    "#Spalte auswaehlen\n",
    "#data_marvel[\"gsm\"] oder...\n",
    "data_marvel.gsm"
   ]
  },
  {
   "cell_type": "code",
   "execution_count": 105,
   "id": "3c454d19",
   "metadata": {},
   "outputs": [
    {
     "data": {
      "text/plain": [
       "28         bisexual characters\n",
       "42         bisexual characters\n",
       "45         bisexual characters\n",
       "61         bisexual characters\n",
       "71               transvestites\n",
       "                 ...          \n",
       "15528    homosexual characters\n",
       "16041    homosexual characters\n",
       "16144    homosexual characters\n",
       "16363    homosexual characters\n",
       "16367    homosexual characters\n",
       "Name: gsm, Length: 90, dtype: object"
      ]
     },
     "execution_count": 105,
     "metadata": {},
     "output_type": "execute_result"
    }
   ],
   "source": [
    "# leere Eintraege in col loeschen\n",
    "data_marvel.gsm.dropna()"
   ]
  },
  {
   "cell_type": "code",
   "execution_count": 106,
   "id": "a7f29556",
   "metadata": {},
   "outputs": [
    {
     "data": {
      "text/plain": [
       "28         bisexual characters\n",
       "42         bisexual characters\n",
       "45         bisexual characters\n",
       "61         bisexual characters\n",
       "71               transvestites\n",
       "                 ...          \n",
       "15528    homosexual characters\n",
       "16041    homosexual characters\n",
       "16144    homosexual characters\n",
       "16363    homosexual characters\n",
       "16367    homosexual characters\n",
       "Name: gsm, Length: 90, dtype: object"
      ]
     },
     "execution_count": 106,
     "metadata": {},
     "output_type": "execute_result"
    }
   ],
   "source": [
    "#oder mit Maske -> alle Spalten anzeigen die einen Wert haben (komplexer aber man kann logik verschachteln)\n",
    "mask = data_marvel.gsm.values != None\n",
    "data_marvel[mask].gsm"
   ]
  },
  {
   "cell_type": "markdown",
   "id": "7792bc37",
   "metadata": {},
   "source": [
    "# Preprocessing\n",
    "\n",
    "### 1. Daten entfernen? Antwort: Alle Spalten die uns nicht interessieren.\n",
    "### 2. Daten ändern/anpassen? A: Namen sind nicht gut formatiert"
   ]
  },
  {
   "cell_type": "code",
   "execution_count": 107,
   "id": "576b570c",
   "metadata": {},
   "outputs": [],
   "source": [
    "if \"urlslug\" in data_marvel:\n",
    "    data_marvel = data_marvel.drop('urlslug',axis=1)"
   ]
  },
  {
   "cell_type": "code",
   "execution_count": 108,
   "id": "3938c340",
   "metadata": {},
   "outputs": [
    {
     "data": {
      "text/html": [
       "<div>\n",
       "<style scoped>\n",
       "    .dataframe tbody tr th:only-of-type {\n",
       "        vertical-align: middle;\n",
       "    }\n",
       "\n",
       "    .dataframe tbody tr th {\n",
       "        vertical-align: top;\n",
       "    }\n",
       "\n",
       "    .dataframe thead th {\n",
       "        text-align: right;\n",
       "    }\n",
       "</style>\n",
       "<table border=\"1\" class=\"dataframe\">\n",
       "  <thead>\n",
       "    <tr style=\"text-align: right;\">\n",
       "      <th></th>\n",
       "      <th>align</th>\n",
       "      <th>alive</th>\n",
       "      <th>appearances</th>\n",
       "      <th>eye</th>\n",
       "      <th>first appearance</th>\n",
       "      <th>gsm</th>\n",
       "      <th>hair</th>\n",
       "      <th>id</th>\n",
       "      <th>name</th>\n",
       "      <th>page_id</th>\n",
       "      <th>sex</th>\n",
       "      <th>year</th>\n",
       "    </tr>\n",
       "  </thead>\n",
       "  <tbody>\n",
       "    <tr>\n",
       "      <th>0</th>\n",
       "      <td>good characters</td>\n",
       "      <td>living characters</td>\n",
       "      <td>4043.0</td>\n",
       "      <td>hazel eyes</td>\n",
       "      <td>aug-62</td>\n",
       "      <td>None</td>\n",
       "      <td>brown hair</td>\n",
       "      <td>secret identity</td>\n",
       "      <td>spider-man (peter parker)</td>\n",
       "      <td>1678</td>\n",
       "      <td>male characters</td>\n",
       "      <td>1962.0</td>\n",
       "    </tr>\n",
       "    <tr>\n",
       "      <th>1</th>\n",
       "      <td>good characters</td>\n",
       "      <td>living characters</td>\n",
       "      <td>3360.0</td>\n",
       "      <td>blue eyes</td>\n",
       "      <td>mar-41</td>\n",
       "      <td>None</td>\n",
       "      <td>white hair</td>\n",
       "      <td>public identity</td>\n",
       "      <td>captain america (steven rogers)</td>\n",
       "      <td>7139</td>\n",
       "      <td>male characters</td>\n",
       "      <td>1941.0</td>\n",
       "    </tr>\n",
       "    <tr>\n",
       "      <th>2</th>\n",
       "      <td>neutral characters</td>\n",
       "      <td>living characters</td>\n",
       "      <td>3061.0</td>\n",
       "      <td>blue eyes</td>\n",
       "      <td>oct-74</td>\n",
       "      <td>None</td>\n",
       "      <td>black hair</td>\n",
       "      <td>public identity</td>\n",
       "      <td>wolverine (james \\\"logan\\\" howlett)</td>\n",
       "      <td>64786</td>\n",
       "      <td>male characters</td>\n",
       "      <td>1974.0</td>\n",
       "    </tr>\n",
       "    <tr>\n",
       "      <th>3</th>\n",
       "      <td>good characters</td>\n",
       "      <td>living characters</td>\n",
       "      <td>2961.0</td>\n",
       "      <td>blue eyes</td>\n",
       "      <td>mar-63</td>\n",
       "      <td>None</td>\n",
       "      <td>black hair</td>\n",
       "      <td>public identity</td>\n",
       "      <td>iron man (anthony \\\"tony\\\" stark)</td>\n",
       "      <td>1868</td>\n",
       "      <td>male characters</td>\n",
       "      <td>1963.0</td>\n",
       "    </tr>\n",
       "    <tr>\n",
       "      <th>4</th>\n",
       "      <td>good characters</td>\n",
       "      <td>living characters</td>\n",
       "      <td>2258.0</td>\n",
       "      <td>blue eyes</td>\n",
       "      <td>nov-50</td>\n",
       "      <td>None</td>\n",
       "      <td>blond hair</td>\n",
       "      <td>no dual identity</td>\n",
       "      <td>thor (thor odinson)</td>\n",
       "      <td>2460</td>\n",
       "      <td>male characters</td>\n",
       "      <td>1950.0</td>\n",
       "    </tr>\n",
       "  </tbody>\n",
       "</table>\n",
       "</div>"
      ],
      "text/plain": [
       "                align              alive  appearances         eye  \\\n",
       "0     good characters  living characters       4043.0  hazel eyes   \n",
       "1     good characters  living characters       3360.0   blue eyes   \n",
       "2  neutral characters  living characters       3061.0   blue eyes   \n",
       "3     good characters  living characters       2961.0   blue eyes   \n",
       "4     good characters  living characters       2258.0   blue eyes   \n",
       "\n",
       "  first appearance   gsm        hair                id  \\\n",
       "0           aug-62  None  brown hair   secret identity   \n",
       "1           mar-41  None  white hair   public identity   \n",
       "2           oct-74  None  black hair   public identity   \n",
       "3           mar-63  None  black hair   public identity   \n",
       "4           nov-50  None  blond hair  no dual identity   \n",
       "\n",
       "                                  name  page_id              sex    year  \n",
       "0            spider-man (peter parker)     1678  male characters  1962.0  \n",
       "1      captain america (steven rogers)     7139  male characters  1941.0  \n",
       "2  wolverine (james \\\"logan\\\" howlett)    64786  male characters  1974.0  \n",
       "3    iron man (anthony \\\"tony\\\" stark)     1868  male characters  1963.0  \n",
       "4                  thor (thor odinson)     2460  male characters  1950.0  "
      ]
     },
     "execution_count": 108,
     "metadata": {},
     "output_type": "execute_result"
    }
   ],
   "source": [
    "data_marvel.head()"
   ]
  },
  {
   "cell_type": "markdown",
   "id": "ee9ffa10",
   "metadata": {},
   "source": [
    "### Daten entfernen oder nicht?\n",
    "Im Zweifel, und solange die Daten technisch nicht \"stören\", müssen Daten erstmal nicht entfernt werden.\n",
    "Es ist trotzdem OK für die Übersichtlichkeit oder das schnellere Bearbeiten von Daten, den Datensatz erstmal künstlich zu reduzieren.\n",
    "\n",
    "(muss hier erstmal nicht gemacht werden)"
   ]
  },
  {
   "cell_type": "code",
   "execution_count": 109,
   "id": "07a44140",
   "metadata": {},
   "outputs": [
    {
     "data": {
      "text/plain": [
       "16375"
      ]
     },
     "execution_count": 109,
     "metadata": {},
     "output_type": "execute_result"
    }
   ],
   "source": [
    "len(data_marvel[\"name\"].unique())"
   ]
  },
  {
   "cell_type": "code",
   "execution_count": 110,
   "id": "509dfcd0",
   "metadata": {},
   "outputs": [
    {
     "data": {
      "text/plain": [
       "0                  spider-man (peter parker)\n",
       "1            captain america (steven rogers)\n",
       "2        wolverine (james \\\"logan\\\" howlett)\n",
       "3          iron man (anthony \\\"tony\\\" stark)\n",
       "4                        thor (thor odinson)\n",
       "                        ...                 \n",
       "16371                     ru'ach (earth-616)\n",
       "16372        thane (thanos' son) (earth-616)\n",
       "16373          tinkerer (skrull) (earth-616)\n",
       "16374         tk421 (spiderling) (earth-616)\n",
       "16375                  yologarch (earth-616)\n",
       "Name: name, Length: 16376, dtype: object"
      ]
     },
     "execution_count": 110,
     "metadata": {},
     "output_type": "execute_result"
    }
   ],
   "source": [
    "data_marvel[\"name\"]"
   ]
  },
  {
   "cell_type": "markdown",
   "id": "431540d6",
   "metadata": {},
   "source": [
    "### Daten ändern?\n",
    "Oft liegen die Daten in Formaten vor, die uns die Analyse erschweren. Hier z.B. die Namensfelder die deutlich mehr Information als nur den Superheldennamen enthalten. In solchen Fällen versuchen wir oft, die Daten umzuformen\n",
    "\n",
    "### Aufgabe: \n",
    "- \"Name\" Spalte sinnvoll umformen\n",
    "- Den Namen als \"name\" und den echten Namen als \"real_name\" hinzufügen\n",
    "\n",
    "\n",
    "Tipp: Bei Pandas gibt es die möglichkeit eine Spalte mit Strings über `.str` mit den üblichen String-Methoden zu bearbeiten. Also z.B. `.str.split()` oder `.str.replace()`.\n",
    "Dazu macht es oft Sinn hier auch `expand=True` mit anzugeben, so dass die resultierenden Werte in jeweils eigene Spalten gegeben werden."
   ]
  },
  {
   "cell_type": "code",
   "execution_count": 111,
   "id": "9f7b492a",
   "metadata": {},
   "outputs": [
    {
     "data": {
      "text/html": [
       "<div>\n",
       "<style scoped>\n",
       "    .dataframe tbody tr th:only-of-type {\n",
       "        vertical-align: middle;\n",
       "    }\n",
       "\n",
       "    .dataframe tbody tr th {\n",
       "        vertical-align: top;\n",
       "    }\n",
       "\n",
       "    .dataframe thead th {\n",
       "        text-align: right;\n",
       "    }\n",
       "</style>\n",
       "<table border=\"1\" class=\"dataframe\">\n",
       "  <thead>\n",
       "    <tr style=\"text-align: right;\">\n",
       "      <th></th>\n",
       "      <th>0</th>\n",
       "      <th>1</th>\n",
       "      <th>2</th>\n",
       "      <th>3</th>\n",
       "    </tr>\n",
       "  </thead>\n",
       "  <tbody>\n",
       "    <tr>\n",
       "      <th>0</th>\n",
       "      <td>spider-man</td>\n",
       "      <td>peter parker)</td>\n",
       "      <td>None</td>\n",
       "      <td>None</td>\n",
       "    </tr>\n",
       "    <tr>\n",
       "      <th>1</th>\n",
       "      <td>captain america</td>\n",
       "      <td>steven rogers)</td>\n",
       "      <td>None</td>\n",
       "      <td>None</td>\n",
       "    </tr>\n",
       "    <tr>\n",
       "      <th>2</th>\n",
       "      <td>wolverine</td>\n",
       "      <td>james \\\"logan\\\" howlett)</td>\n",
       "      <td>None</td>\n",
       "      <td>None</td>\n",
       "    </tr>\n",
       "    <tr>\n",
       "      <th>3</th>\n",
       "      <td>iron man</td>\n",
       "      <td>anthony \\\"tony\\\" stark)</td>\n",
       "      <td>None</td>\n",
       "      <td>None</td>\n",
       "    </tr>\n",
       "    <tr>\n",
       "      <th>4</th>\n",
       "      <td>thor</td>\n",
       "      <td>thor odinson)</td>\n",
       "      <td>None</td>\n",
       "      <td>None</td>\n",
       "    </tr>\n",
       "    <tr>\n",
       "      <th>...</th>\n",
       "      <td>...</td>\n",
       "      <td>...</td>\n",
       "      <td>...</td>\n",
       "      <td>...</td>\n",
       "    </tr>\n",
       "    <tr>\n",
       "      <th>16371</th>\n",
       "      <td>ru'ach</td>\n",
       "      <td>earth-616)</td>\n",
       "      <td>None</td>\n",
       "      <td>None</td>\n",
       "    </tr>\n",
       "    <tr>\n",
       "      <th>16372</th>\n",
       "      <td>thane</td>\n",
       "      <td>thanos' son)</td>\n",
       "      <td>earth-616)</td>\n",
       "      <td>None</td>\n",
       "    </tr>\n",
       "    <tr>\n",
       "      <th>16373</th>\n",
       "      <td>tinkerer</td>\n",
       "      <td>skrull)</td>\n",
       "      <td>earth-616)</td>\n",
       "      <td>None</td>\n",
       "    </tr>\n",
       "    <tr>\n",
       "      <th>16374</th>\n",
       "      <td>tk421</td>\n",
       "      <td>spiderling)</td>\n",
       "      <td>earth-616)</td>\n",
       "      <td>None</td>\n",
       "    </tr>\n",
       "    <tr>\n",
       "      <th>16375</th>\n",
       "      <td>yologarch</td>\n",
       "      <td>earth-616)</td>\n",
       "      <td>None</td>\n",
       "      <td>None</td>\n",
       "    </tr>\n",
       "  </tbody>\n",
       "</table>\n",
       "<p>16376 rows × 4 columns</p>\n",
       "</div>"
      ],
      "text/plain": [
       "                     0                         1           2     3\n",
       "0           spider-man             peter parker)        None  None\n",
       "1      captain america            steven rogers)        None  None\n",
       "2            wolverine  james \\\"logan\\\" howlett)        None  None\n",
       "3             iron man   anthony \\\"tony\\\" stark)        None  None\n",
       "4                 thor             thor odinson)        None  None\n",
       "...                ...                       ...         ...   ...\n",
       "16371           ru'ach                earth-616)        None  None\n",
       "16372            thane              thanos' son)  earth-616)  None\n",
       "16373         tinkerer                   skrull)  earth-616)  None\n",
       "16374            tk421               spiderling)  earth-616)  None\n",
       "16375        yologarch                earth-616)        None  None\n",
       "\n",
       "[16376 rows x 4 columns]"
      ]
     },
     "execution_count": 111,
     "metadata": {},
     "output_type": "execute_result"
    }
   ],
   "source": [
    "new_columns = data_marvel['name'].str.split(\" \\(\", expand=True)\n",
    "new_columns"
   ]
  },
  {
   "cell_type": "code",
   "execution_count": 112,
   "id": "d990fa15",
   "metadata": {},
   "outputs": [
    {
     "data": {
      "text/html": [
       "<div>\n",
       "<style scoped>\n",
       "    .dataframe tbody tr th:only-of-type {\n",
       "        vertical-align: middle;\n",
       "    }\n",
       "\n",
       "    .dataframe tbody tr th {\n",
       "        vertical-align: top;\n",
       "    }\n",
       "\n",
       "    .dataframe thead th {\n",
       "        text-align: right;\n",
       "    }\n",
       "</style>\n",
       "<table border=\"1\" class=\"dataframe\">\n",
       "  <thead>\n",
       "    <tr style=\"text-align: right;\">\n",
       "      <th></th>\n",
       "      <th>align</th>\n",
       "      <th>alive</th>\n",
       "      <th>appearances</th>\n",
       "      <th>eye</th>\n",
       "      <th>first appearance</th>\n",
       "      <th>gsm</th>\n",
       "      <th>hair</th>\n",
       "      <th>id</th>\n",
       "      <th>name</th>\n",
       "      <th>page_id</th>\n",
       "      <th>sex</th>\n",
       "      <th>year</th>\n",
       "      <th>real_name</th>\n",
       "    </tr>\n",
       "  </thead>\n",
       "  <tbody>\n",
       "    <tr>\n",
       "      <th>0</th>\n",
       "      <td>good characters</td>\n",
       "      <td>living characters</td>\n",
       "      <td>4043.0</td>\n",
       "      <td>hazel eyes</td>\n",
       "      <td>aug-62</td>\n",
       "      <td>None</td>\n",
       "      <td>brown hair</td>\n",
       "      <td>secret identity</td>\n",
       "      <td>spider-man</td>\n",
       "      <td>1678</td>\n",
       "      <td>male characters</td>\n",
       "      <td>1962.0</td>\n",
       "      <td>peter parker</td>\n",
       "    </tr>\n",
       "    <tr>\n",
       "      <th>1</th>\n",
       "      <td>good characters</td>\n",
       "      <td>living characters</td>\n",
       "      <td>3360.0</td>\n",
       "      <td>blue eyes</td>\n",
       "      <td>mar-41</td>\n",
       "      <td>None</td>\n",
       "      <td>white hair</td>\n",
       "      <td>public identity</td>\n",
       "      <td>captain america</td>\n",
       "      <td>7139</td>\n",
       "      <td>male characters</td>\n",
       "      <td>1941.0</td>\n",
       "      <td>steven rogers</td>\n",
       "    </tr>\n",
       "    <tr>\n",
       "      <th>2</th>\n",
       "      <td>neutral characters</td>\n",
       "      <td>living characters</td>\n",
       "      <td>3061.0</td>\n",
       "      <td>blue eyes</td>\n",
       "      <td>oct-74</td>\n",
       "      <td>None</td>\n",
       "      <td>black hair</td>\n",
       "      <td>public identity</td>\n",
       "      <td>wolverine</td>\n",
       "      <td>64786</td>\n",
       "      <td>male characters</td>\n",
       "      <td>1974.0</td>\n",
       "      <td>james \\\"logan\\\" howlett</td>\n",
       "    </tr>\n",
       "    <tr>\n",
       "      <th>3</th>\n",
       "      <td>good characters</td>\n",
       "      <td>living characters</td>\n",
       "      <td>2961.0</td>\n",
       "      <td>blue eyes</td>\n",
       "      <td>mar-63</td>\n",
       "      <td>None</td>\n",
       "      <td>black hair</td>\n",
       "      <td>public identity</td>\n",
       "      <td>iron man</td>\n",
       "      <td>1868</td>\n",
       "      <td>male characters</td>\n",
       "      <td>1963.0</td>\n",
       "      <td>anthony \\\"tony\\\" stark</td>\n",
       "    </tr>\n",
       "    <tr>\n",
       "      <th>4</th>\n",
       "      <td>good characters</td>\n",
       "      <td>living characters</td>\n",
       "      <td>2258.0</td>\n",
       "      <td>blue eyes</td>\n",
       "      <td>nov-50</td>\n",
       "      <td>None</td>\n",
       "      <td>blond hair</td>\n",
       "      <td>no dual identity</td>\n",
       "      <td>thor</td>\n",
       "      <td>2460</td>\n",
       "      <td>male characters</td>\n",
       "      <td>1950.0</td>\n",
       "      <td>thor odinson</td>\n",
       "    </tr>\n",
       "    <tr>\n",
       "      <th>...</th>\n",
       "      <td>...</td>\n",
       "      <td>...</td>\n",
       "      <td>...</td>\n",
       "      <td>...</td>\n",
       "      <td>...</td>\n",
       "      <td>...</td>\n",
       "      <td>...</td>\n",
       "      <td>...</td>\n",
       "      <td>...</td>\n",
       "      <td>...</td>\n",
       "      <td>...</td>\n",
       "      <td>...</td>\n",
       "      <td>...</td>\n",
       "    </tr>\n",
       "    <tr>\n",
       "      <th>16371</th>\n",
       "      <td>bad characters</td>\n",
       "      <td>living characters</td>\n",
       "      <td>NaN</td>\n",
       "      <td>green eyes</td>\n",
       "      <td>None</td>\n",
       "      <td>None</td>\n",
       "      <td>no hair</td>\n",
       "      <td>no dual identity</td>\n",
       "      <td>ru'ach</td>\n",
       "      <td>657508</td>\n",
       "      <td>male characters</td>\n",
       "      <td>NaN</td>\n",
       "      <td>earth-616</td>\n",
       "    </tr>\n",
       "    <tr>\n",
       "      <th>16372</th>\n",
       "      <td>good characters</td>\n",
       "      <td>living characters</td>\n",
       "      <td>NaN</td>\n",
       "      <td>blue eyes</td>\n",
       "      <td>None</td>\n",
       "      <td>None</td>\n",
       "      <td>bald</td>\n",
       "      <td>no dual identity</td>\n",
       "      <td>thane</td>\n",
       "      <td>665474</td>\n",
       "      <td>male characters</td>\n",
       "      <td>NaN</td>\n",
       "      <td>thanos' son</td>\n",
       "    </tr>\n",
       "    <tr>\n",
       "      <th>16373</th>\n",
       "      <td>bad characters</td>\n",
       "      <td>living characters</td>\n",
       "      <td>NaN</td>\n",
       "      <td>black eyes</td>\n",
       "      <td>None</td>\n",
       "      <td>None</td>\n",
       "      <td>bald</td>\n",
       "      <td>secret identity</td>\n",
       "      <td>tinkerer</td>\n",
       "      <td>695217</td>\n",
       "      <td>male characters</td>\n",
       "      <td>NaN</td>\n",
       "      <td>skrull</td>\n",
       "    </tr>\n",
       "    <tr>\n",
       "      <th>16374</th>\n",
       "      <td>neutral characters</td>\n",
       "      <td>living characters</td>\n",
       "      <td>NaN</td>\n",
       "      <td>None</td>\n",
       "      <td>None</td>\n",
       "      <td>None</td>\n",
       "      <td>None</td>\n",
       "      <td>secret identity</td>\n",
       "      <td>tk421</td>\n",
       "      <td>708811</td>\n",
       "      <td>male characters</td>\n",
       "      <td>NaN</td>\n",
       "      <td>spiderling</td>\n",
       "    </tr>\n",
       "    <tr>\n",
       "      <th>16375</th>\n",
       "      <td>bad characters</td>\n",
       "      <td>living characters</td>\n",
       "      <td>NaN</td>\n",
       "      <td>None</td>\n",
       "      <td>None</td>\n",
       "      <td>None</td>\n",
       "      <td>None</td>\n",
       "      <td>None</td>\n",
       "      <td>yologarch</td>\n",
       "      <td>673702</td>\n",
       "      <td>None</td>\n",
       "      <td>NaN</td>\n",
       "      <td>earth-616</td>\n",
       "    </tr>\n",
       "  </tbody>\n",
       "</table>\n",
       "<p>16376 rows × 13 columns</p>\n",
       "</div>"
      ],
      "text/plain": [
       "                    align              alive  appearances         eye  \\\n",
       "0         good characters  living characters       4043.0  hazel eyes   \n",
       "1         good characters  living characters       3360.0   blue eyes   \n",
       "2      neutral characters  living characters       3061.0   blue eyes   \n",
       "3         good characters  living characters       2961.0   blue eyes   \n",
       "4         good characters  living characters       2258.0   blue eyes   \n",
       "...                   ...                ...          ...         ...   \n",
       "16371      bad characters  living characters          NaN  green eyes   \n",
       "16372     good characters  living characters          NaN   blue eyes   \n",
       "16373      bad characters  living characters          NaN  black eyes   \n",
       "16374  neutral characters  living characters          NaN        None   \n",
       "16375      bad characters  living characters          NaN        None   \n",
       "\n",
       "      first appearance   gsm        hair                id             name  \\\n",
       "0               aug-62  None  brown hair   secret identity       spider-man   \n",
       "1               mar-41  None  white hair   public identity  captain america   \n",
       "2               oct-74  None  black hair   public identity        wolverine   \n",
       "3               mar-63  None  black hair   public identity         iron man   \n",
       "4               nov-50  None  blond hair  no dual identity             thor   \n",
       "...                ...   ...         ...               ...              ...   \n",
       "16371             None  None     no hair  no dual identity           ru'ach   \n",
       "16372             None  None        bald  no dual identity            thane   \n",
       "16373             None  None        bald   secret identity         tinkerer   \n",
       "16374             None  None        None   secret identity            tk421   \n",
       "16375             None  None        None              None        yologarch   \n",
       "\n",
       "       page_id              sex    year                real_name  \n",
       "0         1678  male characters  1962.0             peter parker  \n",
       "1         7139  male characters  1941.0            steven rogers  \n",
       "2        64786  male characters  1974.0  james \\\"logan\\\" howlett  \n",
       "3         1868  male characters  1963.0   anthony \\\"tony\\\" stark  \n",
       "4         2460  male characters  1950.0             thor odinson  \n",
       "...        ...              ...     ...                      ...  \n",
       "16371   657508  male characters     NaN                earth-616  \n",
       "16372   665474  male characters     NaN              thanos' son  \n",
       "16373   695217  male characters     NaN                   skrull  \n",
       "16374   708811  male characters     NaN               spiderling  \n",
       "16375   673702             None     NaN                earth-616  \n",
       "\n",
       "[16376 rows x 13 columns]"
      ]
     },
     "execution_count": 112,
     "metadata": {},
     "output_type": "execute_result"
    }
   ],
   "source": [
    "data_marvel[\"name\"] = new_columns[0]\n",
    "#data_marvel['real_name'] = new_columns[1].str.replace(')', \"\") oder so:\n",
    "data_marvel['real_name'] = new_columns[1].str.strip(\" \\)\\(!*\")\n",
    "data_marvel"
   ]
  },
  {
   "cell_type": "code",
   "execution_count": 113,
   "id": "95351a0b",
   "metadata": {},
   "outputs": [
    {
     "data": {
      "text/plain": [
       "array(['peter parker', 'steven rogers', 'james \\\\\"logan\\\\\" howlett',\n",
       "       'anthony \\\\\"tony\\\\\" stark', 'thor odinson', 'earth-616',\n",
       "       'earth-616', 'robert bruce banner', 'earth-616', 'earth-616',\n",
       "       'earth-616', 'earth-616', 'earth-616', 'earth-616', 'earth-616',\n",
       "       'earth-616', 'earth-616', 'earth-616', 'earth-616', 'earth-616'],\n",
       "      dtype=object)"
      ]
     },
     "execution_count": 113,
     "metadata": {},
     "output_type": "execute_result"
    }
   ],
   "source": [
    "# ersten 20 Namen ausgeben\n",
    "data_marvel.real_name.values[:20]\n",
    "# man koennte mit einer maske auch noch erath-616 rausschmeisen"
   ]
  },
  {
   "cell_type": "markdown",
   "id": "0eff41c5",
   "metadata": {},
   "source": [
    "# (2) Weiter Erkunden\n",
    "\n",
    "- Wie viele weibliche vs wie viele männliche Helden?\n",
    "- Wie viele gute/böse Helden gibt es (\"align\")?\n",
    "- Was ist die häufigste Augenfarbe?\n",
    "\n",
    "\n",
    "### Häufig genutzte Pandas Methoden dazu:\n",
    "- `.value_counts(\"my_column_name\")` --> gibt die Häufigkeit aller Einträge der jeweiligen Spalte wieder\n",
    "- `.sort_values(\"my_column_name\")` --> sortiert ein DataFrame nach den werten der jeweiligen Spalte (es können auch mehrere Spalten als Liste angegeben werden. Achtung: Pandas sortiert immer aufsteigend. Für eine absteigende Reihenfolge mit noch `ascending=False` hinzugefügt werden.\n",
    "- Nutzung von masken! --> Funktioniert ähnlich wie bei numpy. `mask = df[\"my_column_name\"] > 15` gibt eine Maske mit Booleans aus, die wir dann wieder einsetzten können um die Werte zu erhalten die wir suchen.\n",
    "\n",
    "\n",
    "### Aufgaben:\n",
    "\n",
    "- Verteilungen anschauen für die Spalten \"align\", \"sex\", \"hair\", \"eye\""
   ]
  },
  {
   "cell_type": "code",
   "execution_count": 114,
   "id": "95d29a85",
   "metadata": {},
   "outputs": [
    {
     "data": {
      "text/plain": [
       "<AxesSubplot: ylabel='align'>"
      ]
     },
     "execution_count": 114,
     "metadata": {},
     "output_type": "execute_result"
    },
    {
     "data": {
      "image/png": "[encoded data removed]",
      "text/plain": [
       "<Figure size 640x480 with 1 Axes>"
      ]
     },
     "metadata": {},
     "output_type": "display_data"
    }
   ],
   "source": [
    "data_marvel.value_counts('align').plot.barh()"
   ]
  },
  {
   "cell_type": "code",
   "execution_count": 115,
   "id": "ab9b3f06",
   "metadata": {},
   "outputs": [
    {
     "data": {
      "text/plain": [
       "sex\n",
       "male characters           11638\n",
       "female characters          3837\n",
       "agender characters           45\n",
       "genderfluid characters        2\n",
       "dtype: int64"
      ]
     },
     "execution_count": 115,
     "metadata": {},
     "output_type": "execute_result"
    }
   ],
   "source": [
    "data_marvel.value_counts('sex')"
   ]
  },
  {
   "cell_type": "code",
   "execution_count": 116,
   "id": "db8fc278",
   "metadata": {},
   "outputs": [
    {
     "data": {
      "text/plain": [
       "hair\n",
       "black hair               3755\n",
       "brown hair               2339\n",
       "blond hair               1582\n",
       "no hair                  1176\n",
       "bald                      838\n",
       "white hair                754\n",
       "red hair                  620\n",
       "grey hair                 531\n",
       "green hair                117\n",
       "auburn hair                78\n",
       "blue hair                  56\n",
       "strawberry blond hair      47\n",
       "purple hair                47\n",
       "orange hair                43\n",
       "variable hair              32\n",
       "pink hair                  31\n",
       "yellow hair                20\n",
       "silver hair                16\n",
       "gold hair                   8\n",
       "light brown hair            6\n",
       "reddish blond hair          6\n",
       "magenta hair                5\n",
       "orange-brown hair           3\n",
       "dyed hair                   1\n",
       "bronze hair                 1\n",
       "dtype: int64"
      ]
     },
     "execution_count": 116,
     "metadata": {},
     "output_type": "execute_result"
    }
   ],
   "source": [
    "data_marvel.value_counts('hair')"
   ]
  },
  {
   "cell_type": "markdown",
   "id": "0cc7f8d7",
   "metadata": {},
   "source": [
    "### Aufgaben:\n",
    "\n",
    "- Frage: Wie \"gut\" sind blauäugigen Helden?\n",
    "- Und wie gut Helden mit schwarzen Haaren? "
   ]
  },
  {
   "cell_type": "code",
   "execution_count": 120,
   "id": "f5ddc09c",
   "metadata": {},
   "outputs": [
    {
     "data": {
      "text/plain": [
       "<AxesSubplot: ylabel='align'>"
      ]
     },
     "execution_count": 120,
     "metadata": {},
     "output_type": "execute_result"
    },
    {
     "data": {
      "image/png": "[encoded data removed]",
      "text/plain": [
       "<Figure size 640x480 with 1 Axes>"
      ]
     },
     "metadata": {},
     "output_type": "display_data"
    }
   ],
   "source": [
    "mask = data_marvel['eye'] == 'blue eyes'\n",
    "data_marvel[mask].value_counts('align').plot.barh()\n"
   ]
  },
  {
   "cell_type": "code",
   "execution_count": 121,
   "id": "e62a8c6e",
   "metadata": {},
   "outputs": [
    {
     "data": {
      "text/plain": [
       "<AxesSubplot: ylabel='align'>"
      ]
     },
     "execution_count": 121,
     "metadata": {},
     "output_type": "execute_result"
    },
    {
     "data": {
      "image/png": "[encoded data removed]",
      "text/plain": [
       "<Figure size 640x480 with 1 Axes>"
      ]
     },
     "metadata": {},
     "output_type": "display_data"
    }
   ],
   "source": [
    "mask= data_marvel['hair'] == \"black hair\"\n",
    "data_marvel[mask].value_counts('align').plot.barh()"
   ]
  },
  {
   "cell_type": "code",
   "execution_count": 124,
   "id": "8800e484",
   "metadata": {},
   "outputs": [
    {
     "data": {
      "text/plain": [
       "<AxesSubplot: ylabel='align'>"
      ]
     },
     "execution_count": 124,
     "metadata": {},
     "output_type": "execute_result"
    },
    {
     "data": {
      "image/png": "[encoded data removed]",
      "text/plain": [
       "<Figure size 640x480 with 1 Axes>"
      ]
     },
     "metadata": {},
     "output_type": "display_data"
    }
   ],
   "source": [
    "mask = (data_marvel[\"sex\"] == \"female characters\") & (data_marvel['eye'] == 'blue eyes')\n",
    "data_marvel[mask].value_counts('align').plot.barh()"
   ]
  },
  {
   "cell_type": "markdown",
   "id": "5f67d53d",
   "metadata": {},
   "source": [
    "### Daten und Zeiten\n",
    "Daten und Zeiten werden in sehr vielen verschiedenen Formaten und Stilen angegeben. Das macht ein Vergleichen schwer bis unmöglich. Darum müssen solche Einträge häufig vereinheitlicht werden.\n",
    "\n",
    "Es gibt in Pandas viele Möglichkeiten Daten/Zeiten zu lesen und umzuwandeln. Hier bauen wir aber eine eigene einfache Methode."
   ]
  },
  {
   "cell_type": "code",
   "execution_count": 118,
   "id": "1dd95fa1",
   "metadata": {},
   "outputs": [
    {
     "data": {
      "text/plain": [
       "0     aug-62\n",
       "1     mar-41\n",
       "2     oct-74\n",
       "3     mar-63\n",
       "4     nov-50\n",
       "5     nov-61\n",
       "6     nov-61\n",
       "7     may-62\n",
       "8     sep-63\n",
       "9     nov-61\n",
       "10    sep-63\n",
       "11    nov-61\n",
       "12      None\n",
       "13    may-75\n",
       "14    sep-64\n",
       "15    apr-64\n",
       "16    jul-63\n",
       "17    jun-65\n",
       "18    mar-63\n",
       "19    sep-63\n",
       "Name: first appearance, dtype: object"
      ]
     },
     "execution_count": 118,
     "metadata": {},
     "output_type": "execute_result"
    }
   ],
   "source": [
    "data_marvel[\"first appearance\"][:20]"
   ]
  },
  {
   "cell_type": "markdown",
   "id": "4b8e5204",
   "metadata": {},
   "source": [
    "### Aufgabe:\n",
    "- mit `str.split()` die Jahreszahl vom Monat trennen"
   ]
  },
  {
   "cell_type": "code",
   "execution_count": null,
   "id": "76bed69a",
   "metadata": {},
   "outputs": [],
   "source": []
  },
  {
   "cell_type": "code",
   "execution_count": 131,
   "id": "600eb790",
   "metadata": {},
   "outputs": [
    {
     "data": {
      "text/plain": [
       "0        1962.0\n",
       "1        1941.0\n",
       "2        1974.0\n",
       "3        1963.0\n",
       "4        1950.0\n",
       "          ...  \n",
       "16371       NaN\n",
       "16372       NaN\n",
       "16373       NaN\n",
       "16374       NaN\n",
       "16375       NaN\n",
       "Name: first appearance, Length: 16376, dtype: float64"
      ]
     },
     "execution_count": 131,
     "metadata": {},
     "output_type": "execute_result"
    }
   ],
   "source": [
    "# define our own conversion function\n",
    "def str_to_year(input_str):\n",
    "    if input_str is None:\n",
    "        return None\n",
    "    str_split = input_str.split('-')\n",
    "    if len(str_split) > 1:\n",
    "        if int(str_split[1]) > 22:\n",
    "            return 1900 + int(str_split[1])\n",
    "        return 2000 + int(str_split[1])\n",
    "    return None\n",
    "    \n",
    "data_marvel[\"first appearance\"].apply(str_to_year) #apply wendet die methode auf jeden eintrag auf das pd dataframe an"
   ]
  },
  {
   "cell_type": "code",
   "execution_count": 134,
   "id": "3d50c654",
   "metadata": {},
   "outputs": [
    {
     "ename": "AttributeError",
     "evalue": "'float' object has no attribute 'split'",
     "output_type": "error",
     "traceback": [
      "\u001b[1;31m---------------------------------------------------------------------------\u001b[0m",
      "\u001b[1;31mAttributeError\u001b[0m                            Traceback (most recent call last)",
      "\u001b[1;32mc:\\Users\\Phili\\Desktop\\DataScience\\Notebooks\\praktikum_2_superhero_analysis_MMI_vorlage.ipynb Cell 39\u001b[0m in \u001b[0;36m1\n\u001b[1;32m----> <a href='vscode-notebook-cell:/c%3A/Users/Phili/Desktop/DataScience/Notebooks/praktikum_2_superhero_analysis_MMI_vorlage.ipynb#X36sZmlsZQ%3D%3D?line=0'>1</a>\u001b[0m data_marvel\u001b[39m.\u001b[39mloc[:, \u001b[39m\"\u001b[39m\u001b[39mfirst appearance\u001b[39m\u001b[39m\"\u001b[39m] \u001b[39m=\u001b[39m data_marvel[\u001b[39m\"\u001b[39;49m\u001b[39mfirst appearance\u001b[39;49m\u001b[39m\"\u001b[39;49m]\u001b[39m.\u001b[39;49mapply(str_to_year)\n",
      "File \u001b[1;32mc:\\Users\\Phili\\anaconda3\\envs\\chatbots\\lib\\site-packages\\pandas\\core\\series.py:4774\u001b[0m, in \u001b[0;36mSeries.apply\u001b[1;34m(self, func, convert_dtype, args, **kwargs)\u001b[0m\n\u001b[0;32m   4664\u001b[0m \u001b[39mdef\u001b[39;00m \u001b[39mapply\u001b[39m(\n\u001b[0;32m   4665\u001b[0m     \u001b[39mself\u001b[39m,\n\u001b[0;32m   4666\u001b[0m     func: AggFuncType,\n\u001b[1;32m   (...)\u001b[0m\n\u001b[0;32m   4669\u001b[0m     \u001b[39m*\u001b[39m\u001b[39m*\u001b[39mkwargs,\n\u001b[0;32m   4670\u001b[0m ) \u001b[39m-\u001b[39m\u001b[39m>\u001b[39m DataFrame \u001b[39m|\u001b[39m Series:\n\u001b[0;32m   4671\u001b[0m     \u001b[39m\"\"\"\u001b[39;00m\n\u001b[0;32m   4672\u001b[0m \u001b[39m    Invoke function on values of Series.\u001b[39;00m\n\u001b[0;32m   4673\u001b[0m \n\u001b[1;32m   (...)\u001b[0m\n\u001b[0;32m   4772\u001b[0m \u001b[39m    dtype: float64\u001b[39;00m\n\u001b[0;32m   4773\u001b[0m \u001b[39m    \"\"\"\u001b[39;00m\n\u001b[1;32m-> 4774\u001b[0m     \u001b[39mreturn\u001b[39;00m SeriesApply(\u001b[39mself\u001b[39;49m, func, convert_dtype, args, kwargs)\u001b[39m.\u001b[39;49mapply()\n",
      "File \u001b[1;32mc:\\Users\\Phili\\anaconda3\\envs\\chatbots\\lib\\site-packages\\pandas\\core\\apply.py:1100\u001b[0m, in \u001b[0;36mSeriesApply.apply\u001b[1;34m(self)\u001b[0m\n\u001b[0;32m   1097\u001b[0m     \u001b[39mreturn\u001b[39;00m \u001b[39mself\u001b[39m\u001b[39m.\u001b[39mapply_str()\n\u001b[0;32m   1099\u001b[0m \u001b[39m# self.f is Callable\u001b[39;00m\n\u001b[1;32m-> 1100\u001b[0m \u001b[39mreturn\u001b[39;00m \u001b[39mself\u001b[39;49m\u001b[39m.\u001b[39;49mapply_standard()\n",
      "File \u001b[1;32mc:\\Users\\Phili\\anaconda3\\envs\\chatbots\\lib\\site-packages\\pandas\\core\\apply.py:1151\u001b[0m, in \u001b[0;36mSeriesApply.apply_standard\u001b[1;34m(self)\u001b[0m\n\u001b[0;32m   1149\u001b[0m     \u001b[39melse\u001b[39;00m:\n\u001b[0;32m   1150\u001b[0m         values \u001b[39m=\u001b[39m obj\u001b[39m.\u001b[39mastype(\u001b[39mobject\u001b[39m)\u001b[39m.\u001b[39m_values\n\u001b[1;32m-> 1151\u001b[0m         mapped \u001b[39m=\u001b[39m lib\u001b[39m.\u001b[39;49mmap_infer(\n\u001b[0;32m   1152\u001b[0m             values,\n\u001b[0;32m   1153\u001b[0m             f,\n\u001b[0;32m   1154\u001b[0m             convert\u001b[39m=\u001b[39;49m\u001b[39mself\u001b[39;49m\u001b[39m.\u001b[39;49mconvert_dtype,\n\u001b[0;32m   1155\u001b[0m         )\n\u001b[0;32m   1157\u001b[0m \u001b[39mif\u001b[39;00m \u001b[39mlen\u001b[39m(mapped) \u001b[39mand\u001b[39;00m \u001b[39misinstance\u001b[39m(mapped[\u001b[39m0\u001b[39m], ABCSeries):\n\u001b[0;32m   1158\u001b[0m     \u001b[39m# GH#43986 Need to do list(mapped) in order to get treated as nested\u001b[39;00m\n\u001b[0;32m   1159\u001b[0m     \u001b[39m#  See also GH#25959 regarding EA support\u001b[39;00m\n\u001b[0;32m   1160\u001b[0m     \u001b[39mreturn\u001b[39;00m obj\u001b[39m.\u001b[39m_constructor_expanddim(\u001b[39mlist\u001b[39m(mapped), index\u001b[39m=\u001b[39mobj\u001b[39m.\u001b[39mindex)\n",
      "File \u001b[1;32mc:\\Users\\Phili\\anaconda3\\envs\\chatbots\\lib\\site-packages\\pandas\\_libs\\lib.pyx:2919\u001b[0m, in \u001b[0;36mpandas._libs.lib.map_infer\u001b[1;34m()\u001b[0m\n",
      "\u001b[1;32mc:\\Users\\Phili\\Desktop\\DataScience\\Notebooks\\praktikum_2_superhero_analysis_MMI_vorlage.ipynb Cell 39\u001b[0m in \u001b[0;36m5\n\u001b[0;32m      <a href='vscode-notebook-cell:/c%3A/Users/Phili/Desktop/DataScience/Notebooks/praktikum_2_superhero_analysis_MMI_vorlage.ipynb#X36sZmlsZQ%3D%3D?line=2'>3</a>\u001b[0m \u001b[39mif\u001b[39;00m input_str \u001b[39mis\u001b[39;00m \u001b[39mNone\u001b[39;00m:\n\u001b[0;32m      <a href='vscode-notebook-cell:/c%3A/Users/Phili/Desktop/DataScience/Notebooks/praktikum_2_superhero_analysis_MMI_vorlage.ipynb#X36sZmlsZQ%3D%3D?line=3'>4</a>\u001b[0m     \u001b[39mreturn\u001b[39;00m \u001b[39mNone\u001b[39;00m\n\u001b[1;32m----> <a href='vscode-notebook-cell:/c%3A/Users/Phili/Desktop/DataScience/Notebooks/praktikum_2_superhero_analysis_MMI_vorlage.ipynb#X36sZmlsZQ%3D%3D?line=4'>5</a>\u001b[0m str_split \u001b[39m=\u001b[39m input_str\u001b[39m.\u001b[39;49msplit(\u001b[39m'\u001b[39m\u001b[39m-\u001b[39m\u001b[39m'\u001b[39m)\n\u001b[0;32m      <a href='vscode-notebook-cell:/c%3A/Users/Phili/Desktop/DataScience/Notebooks/praktikum_2_superhero_analysis_MMI_vorlage.ipynb#X36sZmlsZQ%3D%3D?line=5'>6</a>\u001b[0m \u001b[39mif\u001b[39;00m \u001b[39mlen\u001b[39m(str_split) \u001b[39m>\u001b[39m \u001b[39m1\u001b[39m:\n\u001b[0;32m      <a href='vscode-notebook-cell:/c%3A/Users/Phili/Desktop/DataScience/Notebooks/praktikum_2_superhero_analysis_MMI_vorlage.ipynb#X36sZmlsZQ%3D%3D?line=6'>7</a>\u001b[0m     \u001b[39mif\u001b[39;00m \u001b[39mint\u001b[39m(str_split[\u001b[39m1\u001b[39m]) \u001b[39m>\u001b[39m \u001b[39m22\u001b[39m:\n",
      "\u001b[1;31mAttributeError\u001b[0m: 'float' object has no attribute 'split'"
     ]
    }
   ],
   "source": [
    "data_marvel.loc[:, \"first appearance\"] = data_marvel[\"first appearance\"].apply(str_to_year)"
   ]
  },
  {
   "cell_type": "code",
   "execution_count": null,
   "id": "35e95c77",
   "metadata": {},
   "outputs": [],
   "source": [
    "data_marvel.head(2)"
   ]
  },
  {
   "cell_type": "markdown",
   "id": "edba9f1e",
   "metadata": {},
   "source": [
    "### Einfache statistische Kennzahlen...\n",
    "... sagen einiges aus, aber oft nicht genug."
   ]
  },
  {
   "cell_type": "code",
   "execution_count": 137,
   "id": "0ff657a9",
   "metadata": {},
   "outputs": [
    {
     "data": {
      "text/plain": [
       "count    15561.000000\n",
       "mean      1984.951803\n",
       "std         19.663571\n",
       "min       1939.000000\n",
       "25%       1974.000000\n",
       "50%       1990.000000\n",
       "75%       2000.000000\n",
       "max       2013.000000\n",
       "Name: first appearance, dtype: float64"
      ]
     },
     "execution_count": 137,
     "metadata": {},
     "output_type": "execute_result"
    }
   ],
   "source": [
    "data_marvel[\"first appearance\"].describe()"
   ]
  },
  {
   "cell_type": "markdown",
   "id": "fdb9a755",
   "metadata": {},
   "source": [
    "### Oft besser: Verteilungen anschauen!\n",
    "\n",
    "z.b. mit `.plot()`"
   ]
  },
  {
   "cell_type": "code",
   "execution_count": 145,
   "id": "f94e7871",
   "metadata": {},
   "outputs": [
    {
     "data": {
      "text/plain": [
       "<AxesSubplot: ylabel='Frequency'>"
      ]
     },
     "execution_count": 145,
     "metadata": {},
     "output_type": "execute_result"
    },
    {
     "data": {
      "image/png": "[encoded data removed]",
      "text/plain": [
       "<Figure size 640x480 with 1 Axes>"
      ]
     },
     "metadata": {},
     "output_type": "display_data"
    }
   ],
   "source": [
    "data_marvel.plot(y='first appearance', kind='hist', bins=60, rwidth=0.8)"
   ]
  },
  {
   "cell_type": "code",
   "execution_count": null,
   "id": "7a5382b4",
   "metadata": {},
   "outputs": [],
   "source": []
  },
  {
   "cell_type": "markdown",
   "id": "a58200be",
   "metadata": {},
   "source": [
    "## Male / Female ratio\n",
    "- Statt die beiden Diagramme gegeneinander aufzutragen können wir auch das Verhältnis darstellen!\n",
    "- Dazu nehmen wir die Werte aus dem ausgegebenen Tuple der Methode plt.hist()."
   ]
  },
  {
   "cell_type": "code",
   "execution_count": 158,
   "id": "22254829",
   "metadata": {},
   "outputs": [
    {
     "data": {
      "image/png": "[encoded data removed]",
      "text/plain": [
       "<Figure size 640x480 with 1 Axes>"
      ]
     },
     "metadata": {},
     "output_type": "display_data"
    }
   ],
   "source": [
    "mask_male = data_marvel['sex'] == \"male characters\"\n",
    "mask_female = data_marvel['sex'] == \"female characters\"\n",
    "\n",
    "hist_data_m = data_marvel[mask_male].plot(y='first appearance', kind='hist', bins=60, rwidth=0.8, color='red')"
   ]
  },
  {
   "cell_type": "code",
   "execution_count": 159,
   "id": "1072ef5a",
   "metadata": {},
   "outputs": [
    {
     "data": {
      "image/png": "[encoded data removed]",
      "text/plain": [
       "<Figure size 640x480 with 1 Axes>"
      ]
     },
     "metadata": {},
     "output_type": "display_data"
    }
   ],
   "source": [
    "hist_data_f = data_marvel[mask_female].plot(y='first appearance', kind='hist', bins=60, rwidth=0.8)"
   ]
  },
  {
   "cell_type": "code",
   "execution_count": null,
   "id": "0265e82d",
   "metadata": {},
   "outputs": [],
   "source": [
    "# Plot male/female ratio over time\n",
    "bin_width = hist_data_m[1][1] - hist_data_m[1][0]\n",
    "x = hist_data[1][:-1] + bin_width/2\n",
    "\n",
    "\n",
    "fig, ax = plt.subplots(figsize=(10,6))\n",
    "ax.plot(x, hist_data_m[0]/hist_data[0], \"o--\")\n",
    "ax.set_ylabel(\"no. of male / no. of female heros\")"
   ]
  },
  {
   "cell_type": "markdown",
   "id": "1af851b7",
   "metadata": {},
   "source": [
    "## Marvel vs DC\n",
    "--> jetzt das gleiche für den DC Datensatz!"
   ]
  },
  {
   "cell_type": "code",
   "execution_count": null,
   "id": "045ec26f",
   "metadata": {},
   "outputs": [],
   "source": []
  },
  {
   "cell_type": "code",
   "execution_count": null,
   "id": "86d06d63",
   "metadata": {},
   "outputs": [],
   "source": [
    "# wieder eine eigene Funktion erstellen\n",
    "\n",
    "def str_to_year_dc(input_str):\n",
    "    if input_str is None:\n",
    "        return None\n",
    "    str_split = # add your code here\n",
    "    if len(str_split) > 0:\n",
    "        return int(str_split[0])\n",
    "    return None\n",
    "    \n",
    "data_dc[\"first appearance\"].apply(str_to_year_dc)"
   ]
  },
  {
   "cell_type": "code",
   "execution_count": null,
   "id": "9f238355",
   "metadata": {},
   "outputs": [],
   "source": [
    "dc_year = data_dc[\"first appearance\"].apply(str_to_year_dc)\n",
    "data_dc.loc[:, \"first appearance\"] = dc_year"
   ]
  },
  {
   "cell_type": "code",
   "execution_count": null,
   "id": "7f5f9ff6",
   "metadata": {},
   "outputs": [],
   "source": [
    "data_dc.head(2)"
   ]
  },
  {
   "cell_type": "code",
   "execution_count": null,
   "id": "69933ece",
   "metadata": {},
   "outputs": [],
   "source": [
    "data_dc[hero_female][\"first appearance\"].head()"
   ]
  },
  {
   "cell_type": "code",
   "execution_count": null,
   "id": "d9b49562",
   "metadata": {},
   "outputs": [],
   "source": [
    "hero_male = (data_dc[\"sex\"] == \"male characters\")\n",
    "hero_female = (data_dc[\"sex\"] == \"female characters\")\n",
    "\n",
    "hist_data_dc = plt.hist(data_dc[hero_female][\"first appearance\"],\n",
    "                          bins=n_bins)\n",
    "hist_data_dc_m = plt.hist(data_dc[hero_male][\"first appearance\"],\n",
    "                          bins=n_bins)"
   ]
  },
  {
   "cell_type": "code",
   "execution_count": null,
   "id": "31c909b0",
   "metadata": {},
   "outputs": [],
   "source": [
    "hist_data_dc"
   ]
  },
  {
   "cell_type": "code",
   "execution_count": null,
   "id": "f73a3364",
   "metadata": {},
   "outputs": [],
   "source": [
    "# Plot both\n",
    "fig, ax = plt.subplots(figsize=(10,6))\n",
    "ax.plot(hist_data_m[0]/hist_data[0], \"o--\", label=\"Marvel\")\n",
    "ax.set_ylabel(\"no. of male / no. of female heros\")\n",
    "\n",
    "ax.plot(hist_data_dc_m[0]/hist_data_dc[0], \"o--\", label=\"DC\")\n",
    "ax.set_ylabel(\"no. of male / no. of female heros\")\n",
    "plt.legend()\n",
    "plt.ylim(0)\n",
    "plt.xticks(ticks=np.arange(0,7), labels=[f\"{int(x)}-{int(x+10)}\" for x in hist_data[1][:-1]])\n",
    "plt.axhline(1, color=\"teal\")  # nur als Vergleichslinie!\n",
    "plt.title(\"Male:Female superheros (Marvel vs. DC)\")"
   ]
  },
  {
   "cell_type": "code",
   "execution_count": null,
   "id": "1c463a56",
   "metadata": {},
   "outputs": [],
   "source": []
  }
 ],
 "metadata": {
  "kernelspec": {
   "display_name": "Python 3 (ipykernel)",
   "language": "python",
   "name": "python3"
  },
  "language_info": {
   "codemirror_mode": {
    "name": "ipython",
    "version": 3
   },
   "file_extension": ".py",
   "mimetype": "text/x-python",
   "name": "python",
   "nbconvert_exporter": "python",
   "pygments_lexer": "ipython3",
   "version": "3.9.15"
  }
 },
 "nbformat": 4,
 "nbformat_minor": 5
}
