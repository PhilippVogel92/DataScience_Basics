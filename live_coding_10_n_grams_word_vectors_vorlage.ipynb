{
 "cells": [
  {
   "attachments": {},
   "cell_type": "markdown",
   "id": "3dc45e4f",
   "metadata": {},
   "source": [
    "# Beyond Counting Individual Words: N-grams\n",
    "\n",
    "\n",
    "So far in our journey through text data processing, we've dealt with counting individual words. While this approach, often referred to as a \"bag of words\" model, can provide a basic level of understanding and can be useful for certain tasks, it often falls short in capturing the true complexity and richness of language. This is mainly because it treats each word independently and ignores the context and order of words, which are fundamental to human language comprehension.\n",
    "\n",
    "For example, consider the two phrases  \n",
    "*\"The movie is good, but the actor was bad.\"*  \n",
    "and  \n",
    "*\"The movie is bad, but the actor was good.\"*  \n",
    "\n",
    "If we simply count individual words, both phrases are identical because they contain the exact same words!\n",
    "However, their meanings are diametrically opposed. The order of words and the context in which they are used are important."
   ]
  },
  {
   "attachments": {},
   "cell_type": "markdown",
   "id": "9cc7abba",
   "metadata": {},
   "source": [
    "## N-grams\n",
    "\n",
    "**N-grams** are continuous sequences of n items in a given sample of text or speech. In the context of text analysis, an item can be a character, a syllable, or a word, although words are the most commonly used items. The integer *n* in \"n-gram\" refers to the number of items in the sequence, so a bigram (or 2-gram) is a sequence of two words, a trigram (3-gram) is a sequence of three words, and so on.\n",
    "\n",
    "To illustrate, consider the two sentences above.\n",
    "With 3-grams we could also get the pieces \"movie is good\", \"movie is bad\", \"actor was bad\", and \"actor was good\".\n",
    "Bigrams (or 2-grams) would not catch those differences. But they can also be very helpful in cases such as \"don't like\" vs \"do like\".\n",
    "\n",
    "Now we will see how we can make use of such n-grams."
   ]
  },
  {
   "attachments": {},
   "cell_type": "markdown",
   "id": "4a95b1e8",
   "metadata": {},
   "source": [
    "## N-grams in TF-IDF Vectors\n",
    "\n",
    "When creating TF-IDF vectors, we can incorporate the concept of n-grams. The scikit-learn `TfidfVectorizer` provides the `ngram_range` parameter that allows us to specify the range of n-grams to include in the feature vectors."
   ]
  },
  {
   "cell_type": "code",
   "execution_count": 1,
   "id": "0953c3ec",
   "metadata": {},
   "outputs": [],
   "source": [
    "import os\n",
    "import numpy as np\n",
    "import pandas as pd\n",
    "import matplotlib.pyplot as plt\n",
    "import seaborn as sb\n",
    "from sklearn.feature_extraction.text import TfidfVectorizer"
   ]
  },
  {
   "attachments": {},
   "cell_type": "markdown",
   "id": "c2f8002d",
   "metadata": {},
   "source": [
    "## Dataset\n",
    "https://zenodo.org/record/6583422"
   ]
  },
  {
   "cell_type": "code",
   "execution_count": 2,
   "id": "c6cabdf7",
   "metadata": {},
   "outputs": [
    {
     "data": {
      "text/html": [
       "<div>\n",
       "<style scoped>\n",
       "    .dataframe tbody tr th:only-of-type {\n",
       "        vertical-align: middle;\n",
       "    }\n",
       "\n",
       "    .dataframe tbody tr th {\n",
       "        vertical-align: top;\n",
       "    }\n",
       "\n",
       "    .dataframe thead th {\n",
       "        text-align: right;\n",
       "    }\n",
       "</style>\n",
       "<table border=\"1\" class=\"dataframe\">\n",
       "  <thead>\n",
       "    <tr style=\"text-align: right;\">\n",
       "      <th></th>\n",
       "      <th>review_full</th>\n",
       "      <th>review_preview</th>\n",
       "      <th>rating_review</th>\n",
       "      <th>title_review</th>\n",
       "      <th>date</th>\n",
       "    </tr>\n",
       "  </thead>\n",
       "  <tbody>\n",
       "    <tr>\n",
       "      <th>0</th>\n",
       "      <td>The menu of Yakuza is a bit of a lottery, some...</td>\n",
       "      <td>The menu of Yakuza is a bit of a lottery, some...</td>\n",
       "      <td>4</td>\n",
       "      <td>Good sushi option</td>\n",
       "      <td>December 10, 2019</td>\n",
       "    </tr>\n",
       "    <tr>\n",
       "      <th>1</th>\n",
       "      <td>Check your bill when you cancel just in case y...</td>\n",
       "      <td>Check your bill when you cancel just in case y...</td>\n",
       "      <td>1</td>\n",
       "      <td>Light up your table at night</td>\n",
       "      <td>August 23, 2020</td>\n",
       "    </tr>\n",
       "    <tr>\n",
       "      <th>2</th>\n",
       "      <td>I had the yuca profiteroles and the veggie bur...</td>\n",
       "      <td>I had the yuca profiteroles and the veggie bur...</td>\n",
       "      <td>5</td>\n",
       "      <td>Delicious</td>\n",
       "      <td>March 6, 2020</td>\n",
       "    </tr>\n",
       "    <tr>\n",
       "      <th>3</th>\n",
       "      <td>A friend recommended this place as one of the ...</td>\n",
       "      <td>A friend recommended this place as one of the ...</td>\n",
       "      <td>5</td>\n",
       "      <td>Loved this place</td>\n",
       "      <td>September 29, 2020</td>\n",
       "    </tr>\n",
       "    <tr>\n",
       "      <th>4</th>\n",
       "      <td>Amazing terrace in madrid - great atmosphere a...</td>\n",
       "      <td>Amazing terrace in madrid - great atmosphere a...</td>\n",
       "      <td>5</td>\n",
       "      <td>Amazing terrace in madrid</td>\n",
       "      <td>July 27, 2020</td>\n",
       "    </tr>\n",
       "  </tbody>\n",
       "</table>\n",
       "</div>"
      ],
      "text/plain": [
       "                                         review_full  \\\n",
       "0  The menu of Yakuza is a bit of a lottery, some...   \n",
       "1  Check your bill when you cancel just in case y...   \n",
       "2  I had the yuca profiteroles and the veggie bur...   \n",
       "3  A friend recommended this place as one of the ...   \n",
       "4  Amazing terrace in madrid - great atmosphere a...   \n",
       "\n",
       "                                      review_preview  rating_review  \\\n",
       "0  The menu of Yakuza is a bit of a lottery, some...              4   \n",
       "1  Check your bill when you cancel just in case y...              1   \n",
       "2  I had the yuca profiteroles and the veggie bur...              5   \n",
       "3  A friend recommended this place as one of the ...              5   \n",
       "4  Amazing terrace in madrid - great atmosphere a...              5   \n",
       "\n",
       "                   title_review                date  \n",
       "0             Good sushi option   December 10, 2019  \n",
       "1  Light up your table at night     August 23, 2020  \n",
       "2                     Delicious       March 6, 2020  \n",
       "3             Loved this place   September 29, 2020  \n",
       "4     Amazing terrace in madrid       July 27, 2020  "
      ]
     },
     "execution_count": 2,
     "metadata": {},
     "output_type": "execute_result"
    }
   ],
   "source": [
    "filename = \"data/Madrid_reviews_ratings_subset.csv\"\n",
    "data = pd.read_csv(filename)\n",
    "data.head()"
   ]
  },
  {
   "cell_type": "code",
   "execution_count": 3,
   "id": "f2841630",
   "metadata": {},
   "outputs": [
    {
     "name": "stdout",
     "output_type": "stream",
     "text": [
      "<class 'pandas.core.frame.DataFrame'>\n",
      "RangeIndex: 20000 entries, 0 to 19999\n",
      "Data columns (total 5 columns):\n",
      " #   Column          Non-Null Count  Dtype \n",
      "---  ------          --------------  ----- \n",
      " 0   review_full     20000 non-null  object\n",
      " 1   review_preview  20000 non-null  object\n",
      " 2   rating_review   20000 non-null  int64 \n",
      " 3   title_review    20000 non-null  object\n",
      " 4   date            20000 non-null  object\n",
      "dtypes: int64(1), object(4)\n",
      "memory usage: 781.4+ KB\n"
     ]
    }
   ],
   "source": [
    "data.info()"
   ]
  },
  {
   "cell_type": "code",
   "execution_count": 4,
   "id": "3f092a3d",
   "metadata": {},
   "outputs": [
    {
     "data": {
      "text/html": [
       "<div>\n",
       "<style scoped>\n",
       "    .dataframe tbody tr th:only-of-type {\n",
       "        vertical-align: middle;\n",
       "    }\n",
       "\n",
       "    .dataframe tbody tr th {\n",
       "        vertical-align: top;\n",
       "    }\n",
       "\n",
       "    .dataframe thead th {\n",
       "        text-align: right;\n",
       "    }\n",
       "</style>\n",
       "<table border=\"1\" class=\"dataframe\">\n",
       "  <thead>\n",
       "    <tr style=\"text-align: right;\">\n",
       "      <th></th>\n",
       "      <th>rating_review</th>\n",
       "    </tr>\n",
       "  </thead>\n",
       "  <tbody>\n",
       "    <tr>\n",
       "      <th>count</th>\n",
       "      <td>20000.000000</td>\n",
       "    </tr>\n",
       "    <tr>\n",
       "      <th>mean</th>\n",
       "      <td>4.674650</td>\n",
       "    </tr>\n",
       "    <tr>\n",
       "      <th>std</th>\n",
       "      <td>0.747279</td>\n",
       "    </tr>\n",
       "    <tr>\n",
       "      <th>min</th>\n",
       "      <td>1.000000</td>\n",
       "    </tr>\n",
       "    <tr>\n",
       "      <th>25%</th>\n",
       "      <td>5.000000</td>\n",
       "    </tr>\n",
       "    <tr>\n",
       "      <th>50%</th>\n",
       "      <td>5.000000</td>\n",
       "    </tr>\n",
       "    <tr>\n",
       "      <th>75%</th>\n",
       "      <td>5.000000</td>\n",
       "    </tr>\n",
       "    <tr>\n",
       "      <th>max</th>\n",
       "      <td>5.000000</td>\n",
       "    </tr>\n",
       "  </tbody>\n",
       "</table>\n",
       "</div>"
      ],
      "text/plain": [
       "       rating_review\n",
       "count   20000.000000\n",
       "mean        4.674650\n",
       "std         0.747279\n",
       "min         1.000000\n",
       "25%         5.000000\n",
       "50%         5.000000\n",
       "75%         5.000000\n",
       "max         5.000000"
      ]
     },
     "execution_count": 4,
     "metadata": {},
     "output_type": "execute_result"
    }
   ],
   "source": [
    "data.describe()"
   ]
  },
  {
   "cell_type": "code",
   "execution_count": 5,
   "id": "4b1a4df2",
   "metadata": {},
   "outputs": [
    {
     "data": {
      "text/plain": [
       "<AxesSubplot: >"
      ]
     },
     "execution_count": 5,
     "metadata": {},
     "output_type": "execute_result"
    },
    {
     "data": {
      "image/png": "[encoded data removed]",
      "text/plain": [
       "<Figure size 640x480 with 1 Axes>"
      ]
     },
     "metadata": {},
     "output_type": "display_data"
    }
   ],
   "source": [
    "data.rating_review.hist()"
   ]
  },
  {
   "attachments": {},
   "cell_type": "markdown",
   "id": "c0be311b",
   "metadata": {},
   "source": [
    "## Find similar documents with tfidf\n",
    "So far, we used the tfidf-vectors as feature vectors to train machine learning models. As we just saw, this works very well to predict review rating or to classify documents as positive/negative (=sentiment analysis).\n",
    "\n",
    "But there is more we can do with tfidf vectors.\n",
    "Why not use the vectors to compute distances or similarities? This way, we can search for the most similar documents in a corpus!"
   ]
  },
  {
   "cell_type": "code",
   "execution_count": 30,
   "id": "425d01fe",
   "metadata": {},
   "outputs": [
    {
     "data": {
      "text/plain": [
       "(20000, 50000)"
      ]
     },
     "execution_count": 30,
     "metadata": {},
     "output_type": "execute_result"
    }
   ],
   "source": [
    "vectorizer = TfidfVectorizer(min_df=5,\n",
    "                             max_df=0.2,\n",
    "                             max_features=50000,\n",
    "                             ngram_range=(1,3))  \n",
    "tfidf_vectors = vectorizer.fit_transform(data[\"review_full\"])\n",
    "tfidf_vectors.shape"
   ]
  },
  {
   "cell_type": "code",
   "execution_count": 31,
   "id": "bd6e7a04",
   "metadata": {},
   "outputs": [
    {
     "data": {
      "text/plain": [
       "['we paid stand',\n",
       " 'and had tomato',\n",
       " 'lumbini tandoori family',\n",
       " 'went as adults',\n",
       " 'bar outstanding',\n",
       " 'out so mu',\n",
       " 'tuna tataki ceviche',\n",
       " 'and quite evening',\n",
       " 'stick and',\n",
       " 'did tables',\n",
       " 'called ahead to',\n",
       " 'aside we were',\n",
       " 'it becomes impossible',\n",
       " 'inexpensive the pizza',\n",
       " 'biscotti is amazing',\n",
       " 'breakfast will be',\n",
       " 'together with sound',\n",
       " 'so easily',\n",
       " 'ceviche service is',\n",
       " 'on my 1st',\n",
       " 'off chance',\n",
       " 'so informal',\n",
       " '1900 magically transformed',\n",
       " 'the managment',\n",
       " 'there may have',\n",
       " '160g and',\n",
       " 'also which',\n",
       " 'after booking through',\n",
       " 'ingredients if',\n",
       " 'iberica jamon',\n",
       " 'traveling 10 days',\n",
       " 'of tapas followed',\n",
       " 'than the actual',\n",
       " 'brief stay',\n",
       " 'dancers staff',\n",
       " 'incredible tuna',\n",
       " 'not remember the',\n",
       " 'minutes making the',\n",
       " 'gets if you',\n",
       " 'very refreshing of',\n",
       " 'find potatoes as',\n",
       " 'stop the running',\n",
       " 'the best last',\n",
       " 'chance check out',\n",
       " 'the second with',\n",
       " 'neighborhood will always',\n",
       " 'splendid the dancers',\n",
       " 'much dishes',\n",
       " 'the 1000',\n",
       " 'lucky the manager',\n",
       " 'and eli',\n",
       " 'ofc sangria',\n",
       " 'diana was',\n",
       " 'restaurant the husband',\n",
       " 'staff being slow',\n",
       " 'our group was',\n",
       " 'to spanish pace',\n",
       " 'search where',\n",
       " 'we can the',\n",
       " 'addictive nice atmosphere',\n",
       " 'from hotel preciado',\n",
       " 'great waiter despite',\n",
       " 'admit would',\n",
       " 'in instantly',\n",
       " 'advance try',\n",
       " 'cooked just as',\n",
       " 'restaurant could not',\n",
       " 'but also interesting',\n",
       " 'choice we were',\n",
       " 'issue but it',\n",
       " 'make lunchtime an',\n",
       " 'although tucked away',\n",
       " 'don judge book',\n",
       " 'was rather limited',\n",
       " 'varied with several',\n",
       " 'city and place',\n",
       " 'best recommendations can',\n",
       " 'of cashmere',\n",
       " 'dishes and delicious',\n",
       " 'chef is extremely',\n",
       " 'beverage we got',\n",
       " 'named roughly the',\n",
       " 'another such',\n",
       " 'condiments at this',\n",
       " 'english born co',\n",
       " 'vibe young hip',\n",
       " 'cotta just as',\n",
       " 'charming salon',\n",
       " 'you would usually',\n",
       " 'surprised if etimo',\n",
       " 'georgia get stars',\n",
       " 'comment on how',\n",
       " 'to grow on',\n",
       " 'could see chefs',\n",
       " 'for vacation and',\n",
       " 'crust and tiramisu',\n",
       " 'all week the',\n",
       " 'cerviche butter',\n",
       " 'flavorful but not',\n",
       " 'least your']"
      ]
     },
     "execution_count": 31,
     "metadata": {},
     "output_type": "execute_result"
    }
   ],
   "source": [
    "list(vectorizer.stop_words_)[-100:]"
   ]
  },
  {
   "cell_type": "code",
   "execution_count": 32,
   "id": "1dcdd08a",
   "metadata": {},
   "outputs": [
    {
     "data": {
      "text/plain": [
       "957559"
      ]
     },
     "execution_count": 32,
     "metadata": {},
     "output_type": "execute_result"
    }
   ],
   "source": [
    "len(list(vectorizer.stop_words_))"
   ]
  },
  {
   "cell_type": "code",
   "execution_count": 19,
   "id": "1274b2a2",
   "metadata": {},
   "outputs": [
    {
     "data": {
      "text/plain": [
       "array(['your face', 'your family', 'your favorite', 'your favourite',\n",
       "       'your first', 'your food', 'your friends', 'your great',\n",
       "       'your hospitality', 'your hotel', 'your in', 'your kindness',\n",
       "       'your life', 'your liking', 'your list', 'your looking',\n",
       "       'your lunch', 'your madrid', 'your meal', 'your meat', 'your mind',\n",
       "       'your money', 'your mouth', 'your name', 'your needs', 'your next',\n",
       "       'your order', 'your own', 'your palate', 'your pizza',\n",
       "       'your place', 'your plate', 'your preference', 'your restaurant',\n",
       "       'your service', 'your spanish', 'your stay', 'your steak',\n",
       "       'your table', 'your taste', 'your tastes', 'your time',\n",
       "       'your traditional', 'your trip', 'your typical', 'your visit',\n",
       "       'your way', 'your wine', 'yourself', 'yourself and',\n",
       "       'yourself favor', 'yourself favour', 'yourself in', 'yourself the',\n",
       "       'yourself to', 'yourselves', 'youthful', 'yuca', 'yucca', 'yum',\n",
       "       'yum and', 'yum the', 'yum we', 'yummy', 'yummy and', 'yummy food',\n",
       "       'yummy the', 'yummy too', 'yummy we', 'yuri', 'zenith',\n",
       "       'zenith eggs', 'zenith pancake', 'zenith pancakes', 'zero', 'zone',\n",
       "       'zucca', 'zucchini', 'zucchini flowers', 'ôven', '그리고', '너무',\n",
       "       '마드리드', '마드리드에', '맛있고', '맛있어요', '맛있었어요', '매우', '먹었는데', '모두', '빠에야',\n",
       "       '여기', '음식도', '입맛에', '있어서', '정말', '좋은', '친절하게', '친절하고', '특히'],\n",
       "      dtype=object)"
      ]
     },
     "execution_count": 19,
     "metadata": {},
     "output_type": "execute_result"
    }
   ],
   "source": [
    "vectorizer.get_feature_names_out()[-100:]"
   ]
  },
  {
   "cell_type": "code",
   "execution_count": 33,
   "id": "730f57d4",
   "metadata": {},
   "outputs": [
    {
     "data": {
      "text/plain": [
       "<1x50000 sparse matrix of type '<class 'numpy.float64'>'\n",
       "\twith 85 stored elements in Compressed Sparse Row format>"
      ]
     },
     "execution_count": 33,
     "metadata": {},
     "output_type": "execute_result"
    }
   ],
   "source": [
    "tfidf_vectors[0,:]# sparse matrix mit 85 features, der rest sind nullen"
   ]
  },
  {
   "attachments": {},
   "cell_type": "markdown",
   "id": "9943da5f",
   "metadata": {},
   "source": [
    "#### Compare one vector to all other vectors\n",
    "Even though we here deal with very large vectors, computing similarities or angles between these vectors is compuationally very efficient. This means, we can simply compare a the tfidf vector of a given text to all > 140,000 documents in virtually no time!\n",
    "\n",
    "In order for this to work, however, we should not rely on for-loops. Those are inherently slow in Python. We rather use optimized functions for this such as from `sklear.metrics.pairwise`."
   ]
  },
  {
   "cell_type": "code",
   "execution_count": 58,
   "id": "6de42080",
   "metadata": {},
   "outputs": [
    {
     "data": {
      "text/plain": [
       "(20000,)"
      ]
     },
     "execution_count": 58,
     "metadata": {},
     "output_type": "execute_result"
    }
   ],
   "source": [
    "from sklearn.metrics.pairwise import cosine_similarity\n",
    "\n",
    "review_id = 0\n",
    "query_vector = tfidf_vectors[review_id, :]\n",
    "\n",
    "cosine_similarities = cosine_similarity(query_vector, tfidf_vectors).flatten() # flatten macht aus 2d array 1d array\n",
    "cosine_similarities.shape"
   ]
  },
  {
   "cell_type": "code",
   "execution_count": 59,
   "id": "d73b674b",
   "metadata": {},
   "outputs": [
    {
     "data": {
      "text/plain": [
       "array([1.        , 0.00372323, 0.00859872, 0.05740937, 0.        ,\n",
       "       0.01040925, 0.        , 0.        , 0.00655696, 0.        ,\n",
       "       0.01824534, 0.00345502, 0.        , 0.02712874, 0.00847378,\n",
       "       0.01202291, 0.02114161, 0.01334333, 0.01672691, 0.05737311])"
      ]
     },
     "execution_count": 59,
     "metadata": {},
     "output_type": "execute_result"
    }
   ],
   "source": [
    "cosine_similarities[:20] #der erste mit dem ersten hat einen wert von 1, der erste mit dem 2 vector verglichen hat 0.003"
   ]
  },
  {
   "cell_type": "code",
   "execution_count": 60,
   "id": "33e9be30",
   "metadata": {},
   "outputs": [
    {
     "data": {
      "text/plain": [
       "array([12603, 12617, 12596,   230, 12621], dtype=int64)"
      ]
     },
     "execution_count": 60,
     "metadata": {},
     "output_type": "execute_result"
    }
   ],
   "source": [
    "top5_idx = cosine_similarities.argsort()[::-1][1:6] #argsort gibt die indizes zurück, die sortiert sind\n",
    "top5_idx"
   ]
  },
  {
   "attachments": {},
   "cell_type": "markdown",
   "id": "f5aae8b4",
   "metadata": {},
   "source": [
    "Let us now look at the results of our search by displaying the top-5 most similar documents (according to the cosine score on the tfidf-vectors). This usually doesn't work perfectly, but it does work to quite some extent. Try it out yourself and have a look at what documents this finds for you!"
   ]
  },
  {
   "cell_type": "code",
   "execution_count": 71,
   "id": "540ec932",
   "metadata": {},
   "outputs": [
    {
     "name": "stdout",
     "output_type": "stream",
     "text": [
      "\n",
      "****Original document:****\n",
      "The menu of Yakuza is a bit of a lottery, some plates are really good (like most of the sushi rolls) and instead some others are terrible ( the pizza sushi and most of the fried starters). Taking this in consideration, it´s a great option if you feel like sushi and can avoid ordering from the rest of the menu. We even ordered for delivery more than once and the packaging they use is great.\n",
      "\n",
      "----Document with similarity 0.218:----\n",
      "Very sweet atmosphere. Good service but the sushi was glorified . We eaten a same rolls in every sushi corner !!!!\n",
      "\n",
      "----Document with similarity 0.152:----\n",
      "The place is more for locals than for tourists, as it is not on the busiest and most prominent street of Madrid. Good sushi and snacks. I liked the friendly and cheerful waiters !\n",
      "\n",
      "----Document with similarity 0.135:----\n",
      "One of the best sushi I ever eat. Grate service! Nice atmosphere. I asked for rekommendation and get very good mix of different sushi pieces! All of them ware so delicious!!\n",
      "\n",
      "----Document with similarity 0.125:----\n",
      "If I could give this place more than 5 stars I would. The service is wonderful. The atmosphere is chic, light, and sophisticated yet comfortable. The food is beyond words. Whether you are vegan or not this place is a MUST if you are in Madrid. Our server suprised us with selections from the menu and they were all amazing, but some stand outs included the cream of pumkin soup, the sushi, and the lasagna. If it’s not clear already, I highly recommend this place!\n",
      "\n",
      "----Document with similarity 0.124:----\n",
      "We ordered sushi menu that included a drink, 2 rolls, salad and a dessert. I'm not sure if other dishes would be better and they would justify great reviews here but ours was good, not exceptional as I expected. However, expectations are subjective so I can't put all the blame on them. We did have a lovely time: staff was pleasant, miso soup was very good, dessert (pudding and sesame ice cream also) but sushi was just good, it didn't have great shape and some pieces started unrolling. Interior is interesting and all in all it is a good place to eat sushi.\n"
     ]
    }
   ],
   "source": [
    "print(\"\\n****Original document:****\")\n",
    "print(data.iloc[review_id,0])\n",
    "\n",
    "for i in top5_idx:\n",
    "    print(f\"\\n----Document with similarity {cosine_similarities[i]:.3f}:----\")\n",
    "    print(data.iloc[i,0])"
   ]
  },
  {
   "attachments": {},
   "cell_type": "markdown",
   "id": "e047bec2",
   "metadata": {},
   "source": [
    "# Word Vectors: Word2Vec and Co\n",
    "**Tfidf vectors** are a rather basic, but still often used, technique. Arguably, this is because they are based on relatively simple statistics and easy to compute. They typically do a good job in weighing words according to their importance in a larger corpus and allow us to ignore words with low *distriminative power* (for instance so-called *stopwords* such as \"a\", \"the\", \"that\", ...).\n",
    "\n",
    "With **n-grams** we can even go one step further and also count sentence pieces longer than one word, which allows to also take some grammar or negations into account. The price, however, is that we have to restrict the number of n-grams to avoid exploding vector sizes.\n",
    "\n",
    "While TF-IDF vectors and n-grams serve as powerful techniques to represent and manipulate text data, they have limitations. These methods essentially treat words as individual, isolated units, devoid of any context or relation to other words. In other words, they lack the ability to capture the semantic meanings of words and the linguistic context in which they are used.\n",
    "\n",
    "Take these two sentences as an example:\n",
    "\n",
    "(1) *The customer likes cake with a cappuccino.*  \n",
    "(2) *The client loves to have a cookie and a coffee.*\n",
    "\n",
    "We will immediately indentify that both sentences speak of very similar things. But if you look at the words in both sentences you will realize that only *\"The\"* and *\"a\"* are found in both. And, as we have seen in the tfidf-part, such words tell very little about the sentence content. All other words, however, only occur in one or the other sentence. Tfidf-vectors would compute a zero similarity here.\n",
    "\n",
    "This is where we come to **word vectors**. Word vectors, also known as **word embeddings**, are mathematical representations of words in a high-dimensional space where the semantic similarity between words corresponds to the geometric distance in the embedding space. Simply put, similar words are close together, and dissimilar words are farther apart. If done well, this should show that *\"cookie\"* and *\"cake\"* are not the same word, but mean something very related.\n",
    "\n",
    "The most prominent example of such a technique is Word2Vec {cite}`mikolov_distributed_2013`{cite}`mikolov_efficient_2013`.\n"
   ]
  },
  {
   "attachments": {},
   "cell_type": "markdown",
   "id": "71de0382",
   "metadata": {},
   "source": [
    "## Alternative short-cuts\n",
    "Training your own Word2Vec model is fun and sometimes also really helpful. Here it is quite OK for instance, because we have a relatively big text corpus (> 140,000 documents) with a clear general topic focus on restaurants and food.\n",
    "\n",
    "Often, however, you simply may want to use a model that covers a language more broadly. Instead of training your own model on a much much bigger corpus, we can simply use a model that was trained already, see for instance here [on the Gensim website](https://radimrehurek.com/gensim/models/word2vec.html#usage-examples).\n",
    "\n",
    "Another way is to use **SpaCy**. Its larger language models already contain word embeddings!"
   ]
  },
  {
   "cell_type": "code",
   "execution_count": null,
   "id": "1e4bbc4a",
   "metadata": {},
   "outputs": [],
   "source": [
    "# Comment out and run the following to first download a large english model\n",
    "#!python -m spacy download en_core_web_lg"
   ]
  },
  {
   "cell_type": "code",
   "execution_count": 72,
   "id": "36c95f3d",
   "metadata": {},
   "outputs": [],
   "source": [
    "import spacy\n",
    "\n",
    "nlp = spacy.load(\"en_core_web_lg\")"
   ]
  },
  {
   "attachments": {},
   "cell_type": "markdown",
   "id": "b337a3cb",
   "metadata": {},
   "source": [
    "As we have seen before, SpaCy converts the text into tokens, but also does much more. We can look at different attributes of the tokens to extract the computed information. For instance:\n",
    "\n",
    "- `.text`: The original token text.\n",
    "- `has_vector`: Does the token have a vector representation?\n",
    "- `.vector_norm`: The L2 norm of the token’s vector (the square root of the sum of the values squared)\n",
    "- `.is_oov`: Out-of-vocabulary\n"
   ]
  },
  {
   "cell_type": "code",
   "execution_count": 73,
   "id": "598425c8",
   "metadata": {},
   "outputs": [
    {
     "name": "stdout",
     "output_type": "stream",
     "text": [
      "dog True 75.254234 False\n",
      "cat True 63.188496 False\n",
      "banana True 31.620354 False\n",
      "afskfsd False 0.0 True\n"
     ]
    }
   ],
   "source": [
    "tokens = nlp(\"dog cat banana afskfsd\")\n",
    "for token in tokens:\n",
    "    print(token.text, token.has_vector, token.vector_norm, token.is_oov)"
   ]
  },
  {
   "cell_type": "code",
   "execution_count": 77,
   "id": "16a7084b",
   "metadata": {},
   "outputs": [
    {
     "data": {
      "text/plain": [
       "(300,)"
      ]
     },
     "execution_count": 77,
     "metadata": {},
     "output_type": "execute_result"
    }
   ],
   "source": [
    "tokens[0].vector.shape"
   ]
  },
  {
   "cell_type": "code",
   "execution_count": 80,
   "id": "605259ab",
   "metadata": {},
   "outputs": [
    {
     "data": {
      "text/plain": [
       "array([ 0.44906327,  2.2340333 , -1.3325001 , -2.752285  , -2.2717967 ,\n",
       "       -0.70475096,  1.8312835 ,  5.879667  , -5.26411   ,  0.9488716 ,\n",
       "        7.4923    ,  3.8269918 , -4.5402865 ,  0.9320666 ,  0.45495   ,\n",
       "       -0.53907657,  4.467097  , -5.069228  , -6.801515  , -4.7121005 ,\n",
       "        0.7438367 ,  0.19060834, -2.1157548 , -3.402633  , -2.48992   ,\n",
       "       -3.7325547 , -3.0563965 ,  1.917355  , -2.8699772 ,  3.0504398 ,\n",
       "        0.55665   , -1.9339914 , -1.7441667 ,  0.7751722 ,  0.07775887,\n",
       "       -3.1789534 , -0.83820343, -2.2033634 ,  2.9369164 ,  3.7390482 ,\n",
       "       -0.12279835,  1.6794952 ,  0.7968766 , -0.48954985, -1.7621336 ,\n",
       "        2.9575965 ,  2.2403505 , -3.6989002 , -2.1294582 ,  2.4220834 ,\n",
       "        0.98881674, -0.06391335, -1.3425969 , -4.776095  , -3.1199396 ,\n",
       "        0.26173002, -0.93869495,  0.86469334,  5.1411967 , -2.5766835 ,\n",
       "        3.9945335 , -0.06128498, -1.2907383 ,  0.6415505 ,  3.4002502 ,\n",
       "        2.1730502 , -2.6134434 , -6.006567  ,  1.2251383 ,  2.4747832 ,\n",
       "        0.43821   ,  1.5951201 ,  0.12020409, -0.28306496, -0.35943317,\n",
       "        3.9350834 , -5.186133  ,  1.0637233 , -5.7676415 , -4.18415   ,\n",
       "       -6.7519665 ,  0.48558164,  4.303245  ,  0.8832167 ,  2.443905  ,\n",
       "       -0.23367827, -1.98594   , -2.796095  ,  4.141717  , -3.7052383 ,\n",
       "       -2.5770433 ,  2.7935712 ,  3.0013332 , -6.2617583 ,  0.37656322,\n",
       "       -0.7200432 ,  1.2520833 , -2.2879217 ,  1.15039   ,  1.9505    ,\n",
       "        2.0648468 ,  3.768695  ,  0.8298183 , -0.5091984 , -3.0718286 ,\n",
       "        3.638923  , -0.9365766 , -3.3218334 , -1.48704   , -3.9825332 ,\n",
       "        3.2488    , -0.93054795, -0.12159598, -0.6648016 ,  2.122625  ,\n",
       "        1.1551499 , -2.2365167 , -1.3739752 , -0.6474332 , -4.3454833 ,\n",
       "       -4.626023  , -2.6520166 , -2.3329337 ,  0.18823998,  1.1021649 ,\n",
       "       -2.0524747 ,  2.1766665 , -2.7570515 , -0.29710004, -1.3143034 ,\n",
       "       -1.0839967 , -0.51713324,  0.1891733 ,  0.01431668, -0.5906484 ,\n",
       "        1.8834482 , -6.5140004 ,  0.7813699 ,  5.1073284 , -2.8959599 ,\n",
       "       -2.7645    , -2.4601166 ,  0.83579844,  1.4526185 , -0.2579999 ,\n",
       "        1.4228702 , -1.3592267 ,  2.6531498 , -2.5772965 ,  1.4719833 ,\n",
       "       -4.4186416 ,  3.9919665 , -0.99639845, -1.2784709 , -0.66352004,\n",
       "        1.0915667 ,  5.3557663 ,  2.944867  , -3.249275  , -2.4399834 ,\n",
       "       -3.16712   , -2.0791278 , -1.0911834 ,  5.037886  , -2.9137268 ,\n",
       "       -1.6349999 , -3.3006232 ,  1.918115  , -1.3197833 , -5.427563  ,\n",
       "       -0.4894934 ,  0.7494268 ,  1.8135217 ,  3.240535  ,  6.9442005 ,\n",
       "       -0.49557838, -1.9212284 , -2.651165  , -4.6838775 , -4.974817  ,\n",
       "       -0.7773467 ,  1.2914616 ,  4.644817  , -3.8547618 , -2.192294  ,\n",
       "        2.122372  , -2.0207918 , -3.614483  ,  5.8420334 ,  1.5451183 ,\n",
       "        0.75301665, -0.6918017 , -2.9830759 , -0.48646507, -1.3504564 ,\n",
       "        4.4659166 , -6.3447    ,  1.02869   , -2.9614818 ,  4.1381936 ,\n",
       "       -4.1269417 , -3.0843165 , -1.7652149 , -1.25814   ,  5.084602  ,\n",
       "        0.61999494, -0.44861826, -1.9991499 ,  1.682535  , -2.6132216 ,\n",
       "        3.7380435 , -0.31048003,  1.5654968 ,  3.6994498 , -2.09364   ,\n",
       "        2.683964  ,  2.5477417 , -2.5439782 , -1.0911766 ,  1.0629667 ,\n",
       "       -3.938922  ,  1.4978132 , -1.5495816 ,  2.37225   ,  2.5753598 ,\n",
       "       -4.5314164 ,  1.179385  ,  2.0234683 ,  2.7178433 ,  1.7081667 ,\n",
       "       -2.8464832 , -2.9797666 , -0.8911133 ,  0.9394717 ,  3.69855   ,\n",
       "        1.8337983 ,  1.3108333 ,  0.11924998,  0.3388581 , -1.3074633 ,\n",
       "       -8.509916  , -1.4002718 ,  2.2462332 ,  2.5984268 ,  2.13497   ,\n",
       "        1.9161633 , -0.58698505,  2.093395  ,  1.0590483 ,  0.668125  ,\n",
       "       -1.4151831 , -0.21373664, -5.5153503 , -2.9193401 , -2.1615317 ,\n",
       "       -4.1420503 ,  2.3178537 , -0.7774766 , -2.4178517 ,  3.6711595 ,\n",
       "       -1.1068882 ,  7.4479165 ,  4.548438  ,  4.893066  ,  3.7069337 ,\n",
       "       -1.7967733 ,  0.05998504,  2.8869216 , -3.82388   , -1.08402   ,\n",
       "       -2.4940898 , -0.5970934 , -1.3155583 , -0.81842655, -0.50649   ,\n",
       "       -3.1701336 ,  1.00112   , -2.5934055 , -2.627433  ,  2.5944884 ,\n",
       "       -1.8572499 , -0.87025166,  2.7878332 ,  0.90882164,  3.6931145 ,\n",
       "       -2.017035  ,  1.6230398 ,  2.7087917 , -2.8135967 ,  0.6556099 ,\n",
       "        2.8442352 , -1.3987716 ,  0.8620941 ,  0.7901333 ,  0.18056834,\n",
       "        0.04187828,  3.5287335 ,  1.3956834 , -4.552517  ,  4.592197  ],\n",
       "      dtype=float32)"
      ]
     },
     "execution_count": 80,
     "metadata": {},
     "output_type": "execute_result"
    }
   ],
   "source": [
    "sentence = nlp(\"I like to study data science\") # einzelne wörter werden zu einem vektor (jeder wortvektor wird addiert, I + like + to + study + data + science)\n",
    "sentence.vector #shape 300 Dimensionen"
   ]
  },
  {
   "cell_type": "code",
   "execution_count": 81,
   "id": "d1716df2",
   "metadata": {},
   "outputs": [
    {
     "data": {
      "text/plain": [
       "0.8126351923686234"
      ]
     },
     "execution_count": 81,
     "metadata": {},
     "output_type": "execute_result"
    }
   ],
   "source": [
    "sentence2 = nlp('You hate to study anything at all')\n",
    "sentence.similarity(sentence2) #cosine similarity"
   ]
  },
  {
   "cell_type": "code",
   "execution_count": 82,
   "id": "9facd15e",
   "metadata": {},
   "outputs": [
    {
     "data": {
      "application/vnd.jupyter.widget-view+json": {
       "model_id": "8fe5a394553b4af68424254d2b519f8a",
       "version_major": 2,
       "version_minor": 0
      },
      "text/plain": [
       "  0%|          | 0/5000 [00:00<?, ?it/s]"
      ]
     },
     "metadata": {},
     "output_type": "display_data"
    }
   ],
   "source": [
    "from tqdm.notebook import tqdm\n",
    "\n",
    "document_vectors = []\n",
    "for review in tqdm(data.review_preview[:5000]):\n",
    "    # compute document vector and add to document_vectors\n",
    "    document_vectors.append(nlp(review).vector)"
   ]
  },
  {
   "cell_type": "code",
   "execution_count": 84,
   "id": "67b8c3e5",
   "metadata": {},
   "outputs": [
    {
     "data": {
      "text/plain": [
       "array([[-3.5328593 , -1.4544488 , -0.5831695 , ..., -1.7265121 ,\n",
       "        -1.8914993 ,  0.5689707 ],\n",
       "       [-0.00667662,  1.5234815 , -3.161151  , ...,  0.9345689 ,\n",
       "        -4.5291743 ,  0.45734277],\n",
       "       [-2.408662  , -0.7312647 , -2.0059705 , ..., -1.6714467 ,\n",
       "        -2.6335635 ,  2.0282447 ],\n",
       "       ...,\n",
       "       [-1.3498837 , -0.6342271 , -2.5423038 , ..., -0.5788996 ,\n",
       "        -3.3136256 ,  1.961531  ],\n",
       "       [-1.5128483 ,  0.6217422 , -2.6405509 , ..., -1.2490116 ,\n",
       "        -2.7139754 ,  0.86713344],\n",
       "       [ 0.8475203 ,  0.09574848, -4.533299  , ...,  1.0532753 ,\n",
       "        -2.9197211 ,  0.98402745]], dtype=float32)"
      ]
     },
     "execution_count": 84,
     "metadata": {},
     "output_type": "execute_result"
    }
   ],
   "source": [
    "document_vectors = np.array(document_vectors)\n",
    "document_vectors"
   ]
  },
  {
   "cell_type": "code",
   "execution_count": 88,
   "id": "eda25e81",
   "metadata": {},
   "outputs": [
    {
     "name": "stdout",
     "output_type": "stream",
     "text": [
      "Adriana is very nice , friendly She is Colombian The price is superb like 13 euros for drink  soup  fish and chocolate  cake The place is  fresh The azotea group has like 4 places in Madrid nubel lovely in the museum reina Sofía . Picalagartos...\n"
     ]
    }
   ],
   "source": [
    "from sklearn.metrics.pairwise import cosine_similarity\n",
    "\n",
    "idx = 5\n",
    "query_doc = data.review_preview[idx]\n",
    "print(query_doc)\n",
    "\n",
    "# compute similarities\n",
    "similarities = cosine_similarity(document_vectors[idx, :].reshape(1, -1), document_vectors)[0]\n",
    "\n",
    "top_5 = np.argsort(similarities)[::-1][1:6]"
   ]
  },
  {
   "cell_type": "code",
   "execution_count": 89,
   "id": "1ce066cc",
   "metadata": {},
   "outputs": [
    {
     "name": "stdout",
     "output_type": "stream",
     "text": [
      "\n",
      "------ Found similarity of 0.932 ------\n",
      "This is a family run hole in the wall restaurant.  The service is extremely friendly. The food is good (but not great). We had the avocado tartar which was made with hard avocadoes. Most everything is fried. The place is over Tripadvised. Number 3 in...\n",
      "\n",
      "------ Found similarity of 0.929 ------\n",
      "Although this restaurant is a little tucked away in a suburb of Madrid it is well worth searching out.  It is small and very popular, so booking is recommended.  The food is excellent, being based on what is fresh in the market at the time,...\n",
      "\n",
      "------ Found similarity of 0.926 ------\n",
      "I had lunch here on a quiet weekday afternoon and everything is perfect. The decor and atmosphere is very nice, the offerings are Italian pasta, pizza and salads. This is 2 min walk from Reina Sofia museum and is highly recommended\n",
      "\n",
      "------ Found similarity of 0.924 ------\n",
      "This restaurant is good but quite overrated here.  Madrid has nearly 10,000 restaurants in the area, this is not top 5.  However, that said, the prices are correct, the food is tasty, and the menu is original.  The wine list is excellent too, and again...\n",
      "\n",
      "------ Found similarity of 0.923 ------\n",
      "Go to this restaurant. The food is incredible, the atmosphere is wonderful, the sisters are fantastic, the wine is great. This is a small restaurant run by two sisters for 19 years. It is a true experience- truly personal dining. The food is impeccable and...\n"
     ]
    }
   ],
   "source": [
    "for idx in top_5:\n",
    "    print(f\"\\n------ Found similarity of {similarities[idx]:.3f} ------\")\n",
    "    print(data.review_preview[idx])"
   ]
  },
  {
   "cell_type": "code",
   "execution_count": 90,
   "id": "632a501f",
   "metadata": {},
   "outputs": [
    {
     "name": "stderr",
     "output_type": "stream",
     "text": [
      "c:\\Users\\Phili\\anaconda3\\envs\\chatbots\\lib\\site-packages\\sklearn\\manifold\\_t_sne.py:800: FutureWarning: The default initialization in TSNE will change from 'random' to 'pca' in 1.2.\n",
      "  warnings.warn(\n",
      "c:\\Users\\Phili\\anaconda3\\envs\\chatbots\\lib\\site-packages\\sklearn\\manifold\\_t_sne.py:810: FutureWarning: The default learning rate in TSNE will change from 200.0 to 'auto' in 1.2.\n",
      "  warnings.warn(\n"
     ]
    }
   ],
   "source": [
    "from sklearn.manifold import TSNE\n",
    "\n",
    "tsne = TSNE()\n",
    "tsne_vectors = tsne.fit_transform(document_vectors)"
   ]
  },
  {
   "cell_type": "code",
   "execution_count": null,
   "id": "604fdbe5",
   "metadata": {},
   "outputs": [],
   "source": []
  },
  {
   "cell_type": "code",
   "execution_count": 92,
   "id": "72eacb95",
   "metadata": {},
   "outputs": [
    {
     "data": {
      "text/html": [
       "<div>\n",
       "<style scoped>\n",
       "    .dataframe tbody tr th:only-of-type {\n",
       "        vertical-align: middle;\n",
       "    }\n",
       "\n",
       "    .dataframe tbody tr th {\n",
       "        vertical-align: top;\n",
       "    }\n",
       "\n",
       "    .dataframe thead th {\n",
       "        text-align: right;\n",
       "    }\n",
       "</style>\n",
       "<table border=\"1\" class=\"dataframe\">\n",
       "  <thead>\n",
       "    <tr style=\"text-align: right;\">\n",
       "      <th></th>\n",
       "      <th>x_coord</th>\n",
       "      <th>y_coord</th>\n",
       "      <th>title</th>\n",
       "      <th>preview</th>\n",
       "      <th>rating</th>\n",
       "    </tr>\n",
       "  </thead>\n",
       "  <tbody>\n",
       "    <tr>\n",
       "      <th>0</th>\n",
       "      <td>-19.957804</td>\n",
       "      <td>50.178471</td>\n",
       "      <td>Good sushi option</td>\n",
       "      <td>The menu of Yakuza is a bit of a lottery, some...</td>\n",
       "      <td>4</td>\n",
       "    </tr>\n",
       "    <tr>\n",
       "      <th>1</th>\n",
       "      <td>18.756088</td>\n",
       "      <td>-48.699444</td>\n",
       "      <td>Light up your table at night</td>\n",
       "      <td>Check your bill when you cancel just in case y...</td>\n",
       "      <td>1</td>\n",
       "    </tr>\n",
       "    <tr>\n",
       "      <th>2</th>\n",
       "      <td>-17.605927</td>\n",
       "      <td>11.364086</td>\n",
       "      <td>Delicious</td>\n",
       "      <td>I had the yuca profiteroles and the veggie bur...</td>\n",
       "      <td>5</td>\n",
       "    </tr>\n",
       "    <tr>\n",
       "      <th>3</th>\n",
       "      <td>21.364323</td>\n",
       "      <td>-14.942403</td>\n",
       "      <td>Loved this place</td>\n",
       "      <td>A friend recommended this place as one of the ...</td>\n",
       "      <td>5</td>\n",
       "    </tr>\n",
       "    <tr>\n",
       "      <th>4</th>\n",
       "      <td>-1.163100</td>\n",
       "      <td>33.803192</td>\n",
       "      <td>Amazing terrace in madrid</td>\n",
       "      <td>Amazing terrace in madrid - great atmosphere a...</td>\n",
       "      <td>5</td>\n",
       "    </tr>\n",
       "  </tbody>\n",
       "</table>\n",
       "</div>"
      ],
      "text/plain": [
       "     x_coord    y_coord                         title  \\\n",
       "0 -19.957804  50.178471             Good sushi option   \n",
       "1  18.756088 -48.699444  Light up your table at night   \n",
       "2 -17.605927  11.364086                     Delicious   \n",
       "3  21.364323 -14.942403             Loved this place    \n",
       "4  -1.163100  33.803192     Amazing terrace in madrid   \n",
       "\n",
       "                                             preview  rating  \n",
       "0  The menu of Yakuza is a bit of a lottery, some...       4  \n",
       "1  Check your bill when you cancel just in case y...       1  \n",
       "2  I had the yuca profiteroles and the veggie bur...       5  \n",
       "3  A friend recommended this place as one of the ...       5  \n",
       "4  Amazing terrace in madrid - great atmosphere a...       5  "
      ]
     },
     "execution_count": 92,
     "metadata": {},
     "output_type": "execute_result"
    }
   ],
   "source": [
    "\n",
    "test = { \n",
    "    'x_coord' : tsne_vectors[:, 0], \n",
    "    'y_coord' : tsne_vectors[:, 1]\n",
    "}\n",
    "\n",
    "tsne_df = pd.DataFrame(test)\n",
    "tsne_df[\"title\"] = data.title_review[:5000]\n",
    "tsne_df[\"preview\"] = data.review_preview[:5000]\n",
    "tsne_df[\"rating\"] = data.rating_review.values[:5000]\n",
    "tsne_df.head()"
   ]
  },
  {
   "cell_type": "code",
   "execution_count": 94,
   "id": "b0ec8a35",
   "metadata": {},
   "outputs": [
    {
     "name": "stdout",
     "output_type": "stream",
     "text": [
      "Collecting plotly\n",
      "  Downloading plotly-5.15.0-py2.py3-none-any.whl (15.5 MB)\n",
      "     -------------------------------------- 15.5/15.5 MB 154.3 kB/s eta 0:00:00\n",
      "Collecting tenacity>=6.2.0\n",
      "  Downloading tenacity-8.2.2-py3-none-any.whl (24 kB)\n",
      "Requirement already satisfied: packaging in c:\\users\\phili\\anaconda3\\envs\\chatbots\\lib\\site-packages (from plotly) (21.3)\n",
      "Requirement already satisfied: pyparsing!=3.0.5,>=2.0.2 in c:\\users\\phili\\anaconda3\\envs\\chatbots\\lib\\site-packages (from packaging->plotly) (3.0.9)\n",
      "Installing collected packages: tenacity, plotly\n",
      "Successfully installed plotly-5.15.0 tenacity-8.2.2\n"
     ]
    }
   ],
   "source": [
    "#!pip install plotly"
   ]
  },
  {
   "cell_type": "code",
   "execution_count": 95,
   "id": "8e3d6ece",
   "metadata": {},
   "outputs": [
    {
     "data": {
      "application/vnd.plotly.v1+json": {
       "config": {
        "plotlyServerURL": "https://plot.ly"
       },
       "data": [
        {
         "customdata": [
          [
           "Good sushi option"
          ],
          [
           "Light up your table at night"
          ],
          [
           "Delicious"
          ],
          [
           "Loved this place "
          ],
          [
           "Amazing terrace in madrid"
          ],
          [
           "The less impressive terrace of the group but best price "
          ],
          [
           "Great Atmosphere"
          ],
          [
           "Great environment"
          ],
          [
           "Fantastic roof terrace with great service"
          ],
          [
           "Stunning outside bar"
          ],
          [
           "Simply fabulous"
          ],
          [
           "Amazing and delicious!"
          ],
          [
           "Perfection!!! "
          ],
          [
           "not a vegetarian and thought food was great"
          ],
          [
           "A wonderful dining experience."
          ],
          [
           "Wow!"
          ],
          [
           "Superb restaurant "
          ],
          [
           "An absolutely superb meal."
          ],
          [
           "Amazing food. So far the most"
          ],
          [
           "Excellent Sushi Bar"
          ],
          [
           "Incredible"
          ],
          [
           "Strongly recommended"
          ],
          [
           "Evening dinner"
          ],
          [
           "Beautiful Place and excellent service"
          ],
          [
           "One of a kind"
          ],
          [
           "No view/poor selection"
          ],
          [
           "Best veggie restaurant anywhere"
          ],
          [
           "I loved it"
          ],
          [
           "Delicious"
          ],
          [
           "Superb restaurant "
          ],
          [
           "Great restaurant"
          ],
          [
           "Tiny but delicious "
          ],
          [
           "Delicious food!"
          ],
          [
           "A small place with big tastes"
          ],
          [
           "My favourite restaurant in"
          ],
          [
           "Amazing find, then I looked it up and surprise #24 in Madrid!"
          ],
          [
           "A short menu of high quality"
          ],
          [
           "The best tapas meal"
          ],
          [
           "Amazing food! Espectacular comida "
          ],
          [
           "Wonderful experience\nMadrid"
          ],
          [
           "Excellent!"
          ],
          [
           "Affordable "
          ],
          [
           "Delicious"
          ],
          [
           "I went there because the place"
          ],
          [
           "Great little place, best street food in Madrid."
          ],
          [
           "Excellent "
          ],
          [
           "Loved It"
          ],
          [
           "Empanadas"
          ],
          [
           "Best restaurant we found in Madrid.  Absolutely top-notch!"
          ],
          [
           "An OK place"
          ],
          [
           "Excellent atmosphere and food!"
          ],
          [
           "Unassuming wow factor"
          ],
          [
           "All good but a cold fish ..."
          ],
          [
           "Amazing food"
          ],
          [
           "Fabulous Food and Service"
          ],
          [
           "Must go again!"
          ],
          [
           "Delicious Empanadas"
          ],
          [
           "Great!"
          ],
          [
           "Very good restaurant "
          ],
          [
           "Gorgeous food, wine, ambiance and service"
          ],
          [
           "Great restaurant"
          ],
          [
           "Excellent."
          ],
          [
           "Stylish modern bistro - unusual for Madrid"
          ],
          [
           "Excellent cozy restaurant with amazing food and stuff"
          ],
          [
           "Food is one thing, shouting at customers is another..."
          ],
          [
           "Nice decoration, good service, affordable prices "
          ],
          [
           "Worst waiter ever"
          ],
          [
           "Beyond traditions for new foodies experiencies!!!"
          ],
          [
           "Nice restaurant!"
          ],
          [
           "Great food and atmospehere"
          ],
          [
           "My B-day"
          ],
          [
           "Quiet and intimate in the center of Madrid"
          ],
          [
           "Fantastic dining experience"
          ],
          [
           "Fantastic Small Spot"
          ],
          [
           "The Great Escape from La Gran Via.."
          ],
          [
           "Algarabía.. a Restaurant for all Seasons"
          ],
          [
           "Surprisingly good restaurant found behind unimposing exterior"
          ],
          [
           "Excellent and authentic Spanish food"
          ],
          [
           "The best meal in all my years and all my travels"
          ],
          [
           "Absolut Fantastico"
          ],
          [
           "Amazing experience!"
          ],
          [
           "Felix is a living legend"
          ],
          [
           "Excellent price/quality and great attention"
          ],
          [
           "Good quality-price balance"
          ],
          [
           "Wow food and service!"
          ],
          [
           "Exceptional experience"
          ],
          [
           "Fantastic Spanish Cuisine!"
          ],
          [
           "Amazing food"
          ],
          [
           "fantastic and authentic!"
          ],
          [
           "Best Italian in Madrid by far"
          ],
          [
           "Best Italian restaurant I have ever been"
          ],
          [
           "Delicious "
          ],
          [
           "Simply sublime"
          ],
          [
           "Fantastic diner"
          ],
          [
           "Greek food"
          ],
          [
           "Horea! (wonderful in Greek)"
          ],
          [
           "Great Place"
          ],
          [
           "Not consistent "
          ],
          [
           "Frozen food"
          ],
          [
           "Very good food"
          ],
          [
           "Excellent service by Dionis!"
          ],
          [
           "The best chicken in the world "
          ],
          [
           "Good food and Great wait staff"
          ],
          [
           "Visited Moratin 40 - Favourite Restaurant in Madrdi"
          ],
          [
           "Tasty price-worthy food"
          ],
          [
           "VERY NICE!"
          ],
          [
           "Resting on its laurels?"
          ],
          [
           "One of the best places we ate in Madrid"
          ],
          [
           "Lovely Atmosphere with Amazing Food"
          ],
          [
           "Highlight of our trip"
          ],
          [
           "Best meal in Madrid "
          ],
          [
           "Excellent Spanish Experience: Food, Presentation & Service for Affordable Price"
          ],
          [
           "So nice :)"
          ],
          [
           "Caring and friendly staff and great food!"
          ],
          [
           "Great experience."
          ],
          [
           "Never again"
          ],
          [
           "Great food and steff! And"
          ],
          [
           "Amazing! "
          ],
          [
           "Expensive with label on the tomatoes"
          ],
          [
           "Typical Greek food"
          ],
          [
           "We love this restaurant...and we aren’t even vegans!"
          ],
          [
           "So far the best veggie experience I’ve ever had! "
          ],
          [
           "The best food of my life."
          ],
          [
           "Fabulous vegetarian restaurant"
          ],
          [
           "Wow - lovely vegetarian dinner"
          ],
          [
           "Amazing meal for everyone!"
          ],
          [
           "Delicious!"
          ],
          [
           "Nice terrace, terrible food"
          ],
          [
           "It should be between average and very good but Trip Advisor doesn't give this option."
          ],
          [
           "Getting to the Level of Vegan"
          ],
          [
           "Excellent vegan restaurant"
          ],
          [
           "Vegan fine dining - Fab! "
          ],
          [
           "Perfect for a date in Madrid"
          ],
          [
           "So far, the best vegan restaurant tried in Madrid"
          ],
          [
           "Raw, vegan - and far from the best."
          ],
          [
           "Superior dining experience"
          ],
          [
           "Best vegan food in Madrid "
          ],
          [
           "Great meal"
          ],
          [
           "Awesome Pasta"
          ],
          [
           "Friday dinner"
          ],
          [
           "Saturday Lunch"
          ],
          [
           "Too expensive"
          ],
          [
           "One of the best vegan restaurants in the city"
          ],
          [
           "Nice place to have a break from traditional spanish food!"
          ],
          [
           "A place where I would go back again, and again  for sure"
          ],
          [
           "Excellent place for a delicious, upscale vegan dinner"
          ],
          [
           "Great ambience, amazing food"
          ],
          [
           "Creative and delicious veggie cuisine with very friendly service in a nice modern ambiance"
          ],
          [
           "Excellent Vegan Food"
          ],
          [
           "High end vegan restaurant "
          ],
          [
           "The WOW Factor - on repeat!"
          ],
          [
           "Genius chef!"
          ],
          [
           "Disappointed with the staff"
          ],
          [
           "One Vegetarian, three carnivores "
          ],
          [
           "Outstanding "
          ],
          [
           "Great food, lovely people"
          ],
          [
           "Tasty Vegan Food"
          ],
          [
           "We love this restaurant, Wonderful Vegan food, for all, including non vegans!"
          ],
          [
           "Refreshing and cozy"
          ],
          [
           "I’m a convert!"
          ],
          [
           "Excellent"
          ],
          [
           "Delicious Vegan lunch"
          ],
          [
           "Great sushi with a twist"
          ],
          [
           "Vegan to the best"
          ],
          [
           "Excellent ! Fabulous!! "
          ],
          [
           "Excellent vegan restaurant"
          ],
          [
           "Delicious veggie food"
          ],
          [
           "All 10!!! Food, staff, atmosphear"
          ],
          [
           "Raw dinner in Madrid"
          ],
          [
           "Incredibly good vegan food!"
          ],
          [
           "Unexpected "
          ],
          [
           "Prepare to be amazed by vegan food"
          ],
          [
           "Amazing experience!"
          ],
          [
           "Like a Party in Your Mouth"
          ],
          [
           "High class kitchen"
          ],
          [
           "Amazing Vegan Food"
          ],
          [
           "Relaxed and tasty"
          ],
          [
           "Outstanding"
          ],
          [
           "Lovely find near Retiro Park"
          ],
          [
           "Amazing food + great atmosphere"
          ],
          [
           "Great dinner"
          ],
          [
           "Amazing drinks"
          ],
          [
           "Pretty place!!"
          ],
          [
           "Amazing place"
          ],
          [
           "Super rooftop !"
          ],
          [
           "Great place for evening coctails"
          ],
          [
           "One of the best rooftop of Madrid"
          ],
          [
           "Awesome food"
          ],
          [
           "Perfect place with a perfect atmosphere"
          ],
          [
           "Bad attitude "
          ],
          [
           "Awful rude service. Raw eggs! "
          ],
          [
           "Nice view of the city"
          ],
          [
           "Best fondue in Madrid "
          ],
          [
           "Amazing 👌"
          ],
          [
           "Fantastic vegan food"
          ],
          [
           "Fantastic healthy tasty raw vegan food!"
          ],
          [
           "Fantastic vegan restaurant with beautiful interior and lovely service"
          ],
          [
           "Great place to spend the afternoon "
          ],
          [
           "Cool place"
          ],
          [
           "Great service, muy rico"
          ],
          [
           "Rooftop restaurant with nice views, disappointing food"
          ],
          [
           "Perfect for a summer night dinner "
          ],
          [
           "Excellent Food"
          ],
          [
           "Great experience"
          ],
          [
           "Great food and service "
          ],
          [
           "Wonderful plant-based restaurant"
          ],
          [
           "Very good. Not disappointed "
          ],
          [
           "Excellent vegetarian restaurant"
          ],
          [
           "Wonderful "
          ],
          [
           "Excellent restaurant"
          ],
          [
           "Great Vegan and Healthy Restaurant in Madrid"
          ],
          [
           "Absolutely delicious "
          ],
          [
           "great top roof for chilling out"
          ],
          [
           "Drinks with friends"
          ],
          [
           "Perfect spot for dinner and drinks "
          ],
          [
           "One of my favorite places in Madrid!"
          ],
          [
           "Average, go elsewhere"
          ],
          [
           "Beautiful food"
          ],
          [
           "A great place overall"
          ],
          [
           "Amazing food and great service"
          ],
          [
           "Amazing food"
          ],
          [
           "Best vegan and gluten-free restaurant in Madrid!"
          ],
          [
           "Hands down the best vegan restaurant in Madrid"
          ],
          [
           "Fantastic experience - could not recommend it more!"
          ],
          [
           "TOP VEGAN"
          ],
          [
           "¡Perfecto!"
          ],
          [
           "Fantastic food and service"
          ],
          [
           "I you won’t believe it’s vegetarian"
          ],
          [
           "You'd never believe vegetarian food could be this good!"
          ],
          [
           "So good, going back for more!"
          ],
          [
           "AMAZING"
          ],
          [
           "Exceptionally “fincsi”"
          ],
          [
           "Lunch in Madrid"
          ],
          [
           "Great vegan restaurant!"
          ],
          [
           "Delicious"
          ],
          [
           "Our best meal in Madrid"
          ],
          [
           "Best vegan food I've ever tried"
          ],
          [
           "Delicious vegan cafe "
          ],
          [
           "Delicious vegan food"
          ],
          [
           "Very pleasant dinner"
          ],
          [
           "Excellent plates and ambiance"
          ],
          [
           "Good Job!"
          ],
          [
           "Nice place"
          ],
          [
           "The best fish of Spain!"
          ],
          [
           "Authentic gastronomic experience with Spanish food at really tight prices.\r\nGreat to go with family and children"
          ],
          [
           "What a wonderful place❤"
          ],
          [
           "Outstanding service!"
          ],
          [
           "Great Vegan Food"
          ],
          [
           "Spectacular"
          ],
          [
           "Awesome!"
          ],
          [
           "Best plant based food 👌🏻"
          ],
          [
           "Special Dinner"
          ],
          [
           "Best food and hospitality in all of Madrid "
          ],
          [
           "Great taste and very friendly staff"
          ],
          [
           "Dinner on a rainy evening"
          ],
          [
           "Amazing tastes and flavours!"
          ],
          [
           "Our first meal in Madrid"
          ],
          [
           "Outstanding"
          ],
          [
           "Good quality good value"
          ],
          [
           "Excellent!"
          ],
          [
           "Magical Dinners"
          ],
          [
           "So fantastically nice staff and amazing food"
          ],
          [
           "Excellent foo & service"
          ],
          [
           "perfect service and attention"
          ],
          [
           "Perfect "
          ],
          [
           "Worth the visit!"
          ],
          [
           "Don't miss this restaurant, fantastic"
          ],
          [
           "A great experience"
          ],
          [
           "Incredibly warm atmosphere coupled with amazing food and reasonable prices."
          ],
          [
           "Must go"
          ],
          [
           "Great food friendly service"
          ],
          [
           "Good food friendly service "
          ],
          [
           "Great restaurant, worth the visit "
          ],
          [
           "Wonderful experience! "
          ],
          [
           "Modern and typical spanish food"
          ],
          [
           "Great place"
          ],
          [
           "Giving it 6 stars! (and more!)"
          ],
          [
           "Certainly lived up to the reviews!!!!"
          ],
          [
           "A very unexpected delight"
          ],
          [
           "Real Spain in Madrid's suburbs"
          ],
          [
           "好招呼，價錢合理"
          ],
          [
           "Hidden gem with excellent food and friendly staff!"
          ],
          [
           "Like Cheers, this a place where you will know everyone's name!"
          ],
          [
           "Wow wow wow what a gem of a place "
          ],
          [
           "very good, classic dining"
          ],
          [
           "Great experience"
          ],
          [
           "A wonderful food experience"
          ],
          [
           "Can't wait to go there!"
          ],
          [
           "Great food! \"Magic dinners\" are just awesome!"
          ],
          [
           "Everything we'd hoped for"
          ],
          [
           "When you pour Spanish love into dishes..."
          ],
          [
           "quaint place for lunch"
          ],
          [
           "Amazing food...worth the drive outside of the center of Madrid"
          ],
          [
           "Good food but not spectacular. Certainly not 10 best in any city let alone Madrid"
          ],
          [
           "Very unique tapas. Very good service. Terrible toilet. "
          ],
          [
           "Yup, it's deserved!"
          ],
          [
           "10th anniversary dinner"
          ],
          [
           "Awesome Anniversary"
          ],
          [
           "Great little place off the radar"
          ],
          [
           "Brilliant"
          ],
          [
           "My Favorite Restaurant in Madrid"
          ],
          [
           "We love Algarabia!"
          ],
          [
           "cosy atmosphere, delicious traditional food"
          ],
          [
           "So glad we tried it"
          ],
          [
           "Tasting menu was amazing"
          ],
          [
           "Catered perfectly for coeliacs"
          ],
          [
           "AMAZING service and food "
          ],
          [
           "Absolutely brilliant "
          ],
          [
           "AMAZING!! "
          ],
          [
           "Worth the drive "
          ],
          [
           "Wonderful Restaurant Gem in Madrid"
          ],
          [
           "Simply the BEST!"
          ],
          [
           "Algarabia: A place to come back"
          ],
          [
           "A delightful meal with a wonderful host"
          ],
          [
           "Romantic little restaurant "
          ],
          [
           "I agree with Albert-Ludmilla below"
          ],
          [
           "Quality food and wine"
          ],
          [
           "Algarabia, my home in Madrid"
          ],
          [
           "A gem in the center of Madrid!"
          ],
          [
           "A reason to visit Madrid"
          ],
          [
           "Fast friends and slow food"
          ],
          [
           "Cozy, superb family restaurant "
          ],
          [
           "Swept away, at our usual table, on a night full of Rioja.."
          ],
          [
           "I love this Place!!"
          ],
          [
           "Special and homy"
          ],
          [
           "Nice but overrated"
          ],
          [
           "average food"
          ],
          [
           "Unforgettable warmth and Yummy traditional food"
          ],
          [
           "Excellent, superb, peaceful, personalized, unforgettable "
          ],
          [
           "Romantic dinner in a cosy, family-owned restaurant"
          ],
          [
           "Twice in four days"
          ],
          [
           "Charming small restaurant with very friendly aervice"
          ],
          [
           "To quality food, wine and service"
          ],
          [
           "For foodies"
          ],
          [
           "My favorite restaurant in Madrid"
          ],
          [
           "Great restaurant"
          ],
          [
           "Lunch with a passion to excel"
          ],
          [
           "Favorite dinner while in Spain"
          ],
          [
           "Real Fresh food"
          ],
          [
           "Best of the best in Madrid"
          ],
          [
           "Make a reservation -worth i!"
          ],
          [
           "Excellent choice for dinner!"
          ],
          [
           "Excellent"
          ],
          [
           "Wow never ceases to impress. . .."
          ],
          [
           "Beautiful dinner in a charming restaurant - great for a date!"
          ],
          [
           "An absolutely delicious birthday treat."
          ],
          [
           "Delicious"
          ],
          [
           "Pésimo recibimiento"
          ],
          [
           "Madrid top Vinoteca. Moratin."
          ],
          [
           "The Experience!"
          ],
          [
           "Excellent Meal"
          ],
          [
           "Excellent "
          ],
          [
           "Destination restaurant"
          ],
          [
           "Our best meal in Madrid"
          ],
          [
           "Quality wine, food, ambiance and service"
          ],
          [
           "Something special..."
          ],
          [
           "Feeling like home"
          ],
          [
           "Divine family restaurant"
          ],
          [
           "We felt like visiting family"
          ],
          [
           "Perfecto!"
          ],
          [
           "The Best and Warmest Restaurant in all Madrid"
          ],
          [
           "Always great!!"
          ],
          [
           "A gem!"
          ],
          [
           "Great again!"
          ],
          [
           "Perfect La Rioja Spanish restaurant"
          ],
          [
           "Average food "
          ],
          [
           "Cold desserts 45 minutes late"
          ],
          [
           "Eat here! Great food. Great service. Great experience. Tipico!"
          ],
          [
           "Great discovery for a romantic dinner"
          ],
          [
           "A visit to Algarabia is like coming home!"
          ],
          [
           "Complete dining experience!"
          ],
          [
           "Let Isobel and Pilar Treat You!"
          ],
          [
           "Delicious"
          ],
          [
           "A hidden gem"
          ],
          [
           "Our second visit"
          ],
          [
           "An experience to remember..."
          ],
          [
           "Loved it ..... just book in advance"
          ],
          [
           "A Stunning Meal"
          ],
          [
           "wonderful evening"
          ],
          [
           "Don't miss it"
          ],
          [
           "Charming place"
          ],
          [
           "Very nice and friendly meal"
          ],
          [
           "Artsy cosy little restaurant"
          ],
          [
           "Idiosyncratic, fun and delicious"
          ],
          [
           "Quality but overpriced"
          ],
          [
           "Very good"
          ],
          [
           "A great surprise on our hotel doorstep"
          ],
          [
           "disappointing"
          ],
          [
           "Bill"
          ],
          [
           "Recommendation"
          ],
          [
           "Wonderful spot, great menu, personal service"
          ],
          [
           "Stefan"
          ],
          [
           "Amazing food!"
          ],
          [
           "A magical birthday"
          ],
          [
           "excellent choice"
          ],
          [
           "Good service and quality food at a great price"
          ],
          [
           "Tourist Trap: Eating beside a Motorway"
          ],
          [
           "First Night in Madrid - Outstanding Food and Service!!!!"
          ],
          [
           "Diner"
          ],
          [
           "Great experience here!"
          ],
          [
           "Not sure what the fuss is about..."
          ],
          [
           "Was Expecting More..."
          ],
          [
           "I loved it!"
          ],
          [
           "DELICIOUS SPANISH food!!!"
          ],
          [
           "Gorgeous!!!"
          ],
          [
           "not as expected ,"
          ],
          [
           "Great food, great service"
          ],
          [
           "Cazuela de Merluza"
          ],
          [
           "A lovely dining experience "
          ],
          [
           "Again a wondeful home feeling, plus a fantastic dinner"
          ],
          [
           "Charming and deliciouse"
          ],
          [
           "nice special restaurant in Madrid"
          ],
          [
           "Amazing!"
          ],
          [
           "Highlight of our trip to Madrid"
          ],
          [
           "Not as good as the reviews"
          ],
          [
           "Isabel is a Charming Host"
          ],
          [
           "Excellent food & spectacular service"
          ],
          [
           "Genuinely appreciate your business"
          ],
          [
           "Great experience"
          ],
          [
           "Excellent"
          ],
          [
           "Best croquetas I ever ate!"
          ],
          [
           "Excellent Andalucian Cuisine"
          ],
          [
           "Innovation and tradicionalism"
          ],
          [
           "Evening meal"
          ],
          [
           "What a find"
          ],
          [
           "One of Madrid fines Restuarant "
          ],
          [
           "Good seafood"
          ],
          [
           "We had a great time there !!!"
          ],
          [
           "Good food good mood!"
          ],
          [
           "The Best restaurant to go to to have a good meal and the best athmosphere. Super food and nice service."
          ],
          [
           "Very very Nice place with superb employees"
          ],
          [
           "Great restaurant and great service!"
          ],
          [
           "Great service and great Spanish cuisine"
          ],
          [
           "The best octopus in town !! "
          ],
          [
           "Best restaurant in Madrid"
          ],
          [
           "Great food, drink & service "
          ],
          [
           "Great food and service"
          ],
          [
           "Greek surprise"
          ],
          [
           "Greek tapas"
          ],
          [
           "Nice food on noisy atmosphere"
          ],
          [
           "delicious greek food"
          ],
          [
           "No value for money"
          ],
          [
           "Great greek!"
          ],
          [
           "Maravilloso tarde con amigos"
          ],
          [
           "poor quality"
          ],
          [
           "Great food and great service"
          ],
          [
           "Great little place with wonderful fresh food"
          ],
          [
           "Greek experience in Madrid"
          ],
          [
           "Very traditional Greek restaurant - just superb!"
          ],
          [
           "Very nice Greek restaurant in Madrid !"
          ],
          [
           "Excellent Greek restaurant very friendly staff"
          ],
          [
           "OK greek"
          ],
          [
           "Felt like we were in Greece "
          ],
          [
           "Greek Food in Madrid"
          ],
          [
           "A good option if you are nearby"
          ],
          [
           "Poor lamb chops"
          ],
          [
           "Cosy, surprising, friendly, good value"
          ],
          [
           "lovely restaurant for lunch"
          ],
          [
           "Lovely!"
          ],
          [
           "Great service and atmosphere"
          ],
          [
           "Fantastic Service"
          ],
          [
           "Rooftop to recommend"
          ],
          [
           "Perfect night !"
          ],
          [
           "A must for brunch!"
          ],
          [
           "One of the best greek restaurants abroad"
          ],
          [
           "Amazing!!"
          ],
          [
           "Stay clear!"
          ],
          [
           "Used to be good, now it's very average "
          ],
          [
           "Pleasantly surprised"
          ],
          [
           "Littlr Greece in Madrid"
          ],
          [
           "Something different in a city full of restaurants"
          ],
          [
           "A good Greek restaurant in the middle of Chueca in Madrid"
          ],
          [
           "Great deal on greek cuisine"
          ],
          [
           "Nice for fine dining"
          ],
          [
           "Good Paella in Madrid"
          ],
          [
           "Very, very good "
          ],
          [
           "Totally Overrated, disappointed"
          ],
          [
           "Dinner"
          ],
          [
           "Fabulous food and sensational service"
          ],
          [
           "Super Greek Restaurant for Lunch - daily menu just great"
          ],
          [
           "Not as expected but delicious "
          ],
          [
           "Nice"
          ],
          [
           "BEST RESTAURANT IN MADRID! "
          ],
          [
           "BEST FOOD & BEST STAFF"
          ],
          [
           "Very delicious Greek food!"
          ],
          [
           "Just off the well-beaten tourist track - but we'll worth the visit!"
          ],
          [
           "Yummy greek starters in a nice outdoor plaza setting.  Great service."
          ],
          [
           "Good meal of the day deal"
          ],
          [
           "Good food and reasonable"
          ],
          [
           "Greek Greatness"
          ],
          [
           "Nice greek food, great atmosphere"
          ],
          [
           "average greek cuisine, food OK but should be cheaper"
          ],
          [
           "Greek cuisine in a nice place wide variety of dishes!"
          ],
          [
           "Like eating in a good taverna in Greece"
          ],
          [
           "Each time I go, a different experience..."
          ],
          [
           "Cool place"
          ],
          [
           "Very recommended!"
          ],
          [
           "Drinks were amazing"
          ],
          [
           "Awful service, awful food - Stay away!"
          ],
          [
           "Not recommended"
          ],
          [
           "Best Restaurant in Madrid"
          ],
          [
           "Excellent food and service"
          ],
          [
           "Great meal, great experience"
          ],
          [
           "average food in a nice place"
          ],
          [
           "Very Popular"
          ],
          [
           "Excellent Greek Restaurant"
          ],
          [
           "Worth a visit"
          ],
          [
           "Delicious!"
          ],
          [
           "Couldn't believe that i could find good greek food in Spain.."
          ],
          [
           "great food"
          ],
          [
           "I guess it's not crazy to eat Greek food in Spain"
          ],
          [
           "Perfectly pleasant"
          ],
          [
           "Great lunch of day ...shame about staff"
          ],
          [
           "i'll go again"
          ],
          [
           "Be careful of Credit Card Charges!"
          ],
          [
           "Great.. fully recommended"
          ],
          [
           "Food does not come anywhere near real Greek food"
          ],
          [
           "Cozy, friendly and delicious"
          ],
          [
           "Excellent Greek Food in the Heart of Chueca"
          ],
          [
           "Hidden pleasure in the middle of Cheuca"
          ],
          [
           "Never again"
          ],
          [
           "Favourite restaurant in Madrid"
          ],
          [
           "Authentic Rioja Cuisine in the Heart of Madrid"
          ],
          [
           "Excellent food from Rioja!"
          ],
          [
           "My favorite in Madrid"
          ],
          [
           "Lovely experience "
          ],
          [
           "No!!!"
          ],
          [
           "Great menu del dia"
          ],
          [
           "The Spanish idea of what Greek should be"
          ],
          [
           "Great Greek"
          ],
          [
           "WONDERFUL FRESH, WEKLL COOKED LUNCH"
          ],
          [
           "Disappointing"
          ],
          [
           "Fine and fun dining"
          ],
          [
           "My favorite restaurant in the world!"
          ],
          [
           "A beautiful, cozy and super tasty evening"
          ],
          [
           "Essential"
          ],
          [
           "Best Rioja food ever!"
          ],
          [
           "A real find"
          ],
          [
           "Great meal, great people"
          ],
          [
           "Everyone should go!"
          ],
          [
           "A very cosy setting"
          ],
          [
           "Faultless "
          ],
          [
           "If you get caught between the Moon and Barajas.."
          ],
          [
           "Excellent Dinner"
          ],
          [
           "Best dinner in Madrid!"
          ],
          [
           "Wonderful first night dinner in Spain"
          ],
          [
           "Greek oasis"
          ],
          [
           "Loved the greek food!"
          ],
          [
           "Nice place, nice staff and great dishes at a great price"
          ],
          [
           "If you dine nowhere else in Madrid, dine here"
          ],
          [
           "Wonderful food"
          ],
          [
           "Small, cosy place, very average food"
          ],
          [
           "A wonderful charming restaurant."
          ],
          [
           "When in Madrid..."
          ],
          [
           "Pitch Perfect"
          ],
          [
           "Best restaurant in the universe"
          ],
          [
           "Beautiful meal"
          ],
          [
           "Absolutely terrible !"
          ],
          [
           "real Greek !"
          ],
          [
           "Real Greek food"
          ],
          [
           "Very good food at a very nice price"
          ],
          [
           "JACK POT IF YOU GET A TABLE WITHOUT RESERVATION,NICE FOOD ,NICE SERVICE"
          ],
          [
           "Nice place"
          ],
          [
           "Wonderful Spanish Home!"
          ],
          [
           "\"Like Mom's House\""
          ],
          [
           "Quaint little restaurant - excellent food"
          ],
          [
           "Like your mates house"
          ],
          [
           "Don't be put off by appearance"
          ],
          [
           "A Real Gem"
          ],
          [
           "excellent meal"
          ],
          [
           "Great dinner"
          ],
          [
           "Moratin - if you want something really special"
          ],
          [
           "Wonderful meal"
          ],
          [
           "Small plates and wine"
          ],
          [
           "A must go!"
          ],
          [
           "Great food, nice owners"
          ],
          [
           "Wonderful Experience!"
          ],
          [
           "A real find"
          ],
          [
           "good service excellent food"
          ],
          [
           "We had a really good time"
          ],
          [
           "Average"
          ],
          [
           "100% delicious"
          ],
          [
           "Lovely...."
          ],
          [
           "Home-cooked meal"
          ],
          [
           "A hidden gem"
          ],
          [
           "All you could wish restaurant experience"
          ],
          [
           "Wow!"
          ],
          [
           "A Great Experience"
          ],
          [
           "Amazing food, wine and service... and at a great price!"
          ],
          [
           "Absolutely impeccable!!! "
          ],
          [
           "TOP Location in Madrid"
          ],
          [
           "Amazing food."
          ],
          [
           "Great staff and wine but..."
          ],
          [
           "Thoroughtly Enjoyable!"
          ],
          [
           "Romantic and good value"
          ],
          [
           "Simple and delicious quality food!"
          ],
          [
           "Simply delicious!"
          ],
          [
           "Quality "
          ],
          [
           "Top 3 favorites for Madrid"
          ],
          [
           "reservations required"
          ],
          [
           "Fabulous food and service!"
          ],
          [
           "Book now"
          ],
          [
           "Outstanding"
          ],
          [
           "Wonderful bargain in Madrid, great food, warm atmosphere"
          ],
          [
           "What a great way to start our trip"
          ],
          [
           "Cozy place to be"
          ],
          [
           "Wonderful meal"
          ],
          [
           "superb"
          ],
          [
           "Very nice"
          ],
          [
           "Great Dinner!"
          ],
          [
           "It might have been what we ordered"
          ],
          [
           "Top ... another experience of Spanish Cuisine"
          ],
          [
           "Excellent food reasonable price "
          ],
          [
           "Outstanding meal"
          ],
          [
           "Excelent dinner!"
          ],
          [
           "Really good restaurant "
          ],
          [
           "Perfect visit"
          ],
          [
           "An incredible experience"
          ],
          [
           "Delicious!  "
          ],
          [
           "A memorable experience"
          ],
          [
           "Algo excepcional!!!   Something exceptional!!! :D"
          ],
          [
           "Good food and service"
          ],
          [
           "Sublime"
          ],
          [
           "what a little gem"
          ],
          [
           "A special restaurant in Madrid"
          ],
          [
           "wonderful cozy bistrot"
          ],
          [
           "A Madrid gem"
          ],
          [
           "Excellent meal!"
          ],
          [
           "Good"
          ],
          [
           "Southern food"
          ],
          [
           "Great Experience at a great price!"
          ],
          [
           "Dinner"
          ],
          [
           "Brilliant"
          ],
          [
           "Excellent dinner!!"
          ],
          [
           "Fantastic Dinner!!"
          ],
          [
           "Seafood restaurant done right!"
          ],
          [
           "great lunch at Gaditana"
          ],
          [
           "Amazing Gourmet experience"
          ],
          [
           "Super experience"
          ],
          [
           "Great restaurant and a great service "
          ],
          [
           "Delicious dining"
          ],
          [
           "Great fish "
          ],
          [
           "Perfect match between spanish bar and a good restaurant"
          ],
          [
           "A magical place"
          ],
          [
           "Great place to seafood"
          ],
          [
           "Excellent food and service"
          ],
          [
           "Great restaurant"
          ],
          [
           "This place is definitely worth"
          ],
          [
           "Overpriced!"
          ],
          [
           "Excellent traditional Spanish"
          ],
          [
           "What a surprise "
          ],
          [
           "Super cute and delicious!!"
          ],
          [
           "Nice family restaurant"
          ],
          [
           "One of the best!"
          ],
          [
           "Great experience "
          ],
          [
           "Fantastic Dining Experience"
          ],
          [
           "A full restaurant experience "
          ],
          [
           "Definitely check this place out if you are in Madrid. Great food, ambiance, and service. A memorable dining experience."
          ],
          [
           "Oh nice"
          ],
          [
           "Dinner with travel in time"
          ],
          [
           "Had a great time!"
          ],
          [
           "My wife wants us to move to Madrid so we can eat here every week."
          ],
          [
           "Amazing original food"
          ],
          [
           "Well worth a visit"
          ],
          [
           "Over Tripadvised"
          ],
          [
           "Our Last Meal in Madrid Was Our Best Meal In Madrid"
          ],
          [
           "A wonderful place!"
          ],
          [
           "Tremendously good food, exceptional service"
          ],
          [
           "A MADRID MUST"
          ],
          [
           "Fantastic evening "
          ],
          [
           "Like a warm Spanish dinner party"
          ],
          [
           "Great Tiny Restaurant with Rioja Food"
          ],
          [
           "Like Eating Home in Madrid "
          ],
          [
           "A marvelous gem "
          ],
          [
           "Superbe cuisine, great wine selection"
          ],
          [
           "Charming and wonderful!"
          ],
          [
           "A gem"
          ],
          [
           "A great find!"
          ],
          [
           "Spectacularly Spanish"
          ],
          [
           "Dinner "
          ],
          [
           "Great small plates"
          ],
          [
           "Nice quality food, good atmosphere and nice decoration"
          ],
          [
           "delightful restaurant in Velazquez"
          ],
          [
           "A great meal for every occasion"
          ],
          [
           "New Arrival"
          ],
          [
           "Intimate dinner for the warm-hearted"
          ],
          [
           "Fine dinning"
          ],
          [
           "Can't stop coming back. My favorite spot in Madrid"
          ],
          [
           "A little gem in madrid!"
          ],
          [
           "Dinner with friends"
          ],
          [
           "Initmate dining with excellent food"
          ],
          [
           "The Hole in the Wall You Won’t Want to Miss"
          ],
          [
           "A must visit restaurant in Madrid!"
          ],
          [
           "Authentic. Charming. Unique"
          ],
          [
           "Great food and service"
          ],
          [
           "Romantic spot for a great evening"
          ],
          [
           "Great customer service, decent food"
          ],
          [
           "Favorite restaurant"
          ],
          [
           "Best Dining Experience of 2017!"
          ],
          [
           "Most Memorable Meal in Madrid"
          ],
          [
           "A must do in Madrid!"
          ],
          [
           "Another 3 star meal"
          ],
          [
           "Memorable occasion"
          ],
          [
           "Spectacular"
          ],
          [
           "Nice"
          ],
          [
           "Beautiful"
          ],
          [
           "Best Meal in Madrid"
          ],
          [
           "Amazing!"
          ],
          [
           "Our favorite restaurant in Spain!"
          ],
          [
           "Fabulous meal!"
          ],
          [
           "Awesome!"
          ],
          [
           "wonderful, homey restaurant, welcoming owners"
          ],
          [
           "Wonderful!"
          ],
          [
           "Always welcoming"
          ],
          [
           "Friendly service good food"
          ],
          [
           "The best meals I had in Madrid!"
          ],
          [
           "The Best Restaurant in Madrid/Barcelona"
          ],
          [
           "Not just one of the best restaurants in Madrid, one of the best in the world"
          ],
          [
           "Best restaurant ever"
          ],
          [
           "Disappointed "
          ],
          [
           "Delight of Rioja Cuisine"
          ],
          [
           "Delightful"
          ],
          [
           "THE BEST"
          ],
          [
           "Delicious food with wonderful service is a must try in Madrid. "
          ],
          [
           "Fantastic!"
          ],
          [
           "Passionate about their food"
          ],
          [
           "Fantastic experience "
          ],
          [
           "Outstanding!"
          ],
          [
           "Great evening"
          ],
          [
           "Food subpar, decor terrible, overpriced and overrated."
          ],
          [
           "Fun Evening"
          ],
          [
           "wonderful experience"
          ],
          [
           "Fullfill expectations"
          ],
          [
           "Special place"
          ],
          [
           "Dinner"
          ],
          [
           "An all-round delight"
          ],
          [
           "Birthday weekend for my daughter"
          ],
          [
           "Enjoyable experience"
          ],
          [
           "Fantastic dining experience"
          ],
          [
           "Delicious Closed Door Restauarant Experience"
          ],
          [
           "Amazing journey to Rioja"
          ],
          [
           "Cozy in the City's Center"
          ],
          [
           "Family and friends"
          ],
          [
           "Personal Attention at Algarabia"
          ],
          [
           "Lived up to all expectations"
          ],
          [
           "Best food in Madrid!"
          ],
          [
           "Relaxed, friendly gastro delight!"
          ],
          [
           "Absolutely divine"
          ],
          [
           "Top notch"
          ],
          [
           "Delicious meals"
          ],
          [
           "Cosy restaurant, super service, good food."
          ],
          [
           "One of our best meals in Spain"
          ],
          [
           "Loved it!"
          ],
          [
           "funny , poor food"
          ],
          [
           "An excellent family restaurant "
          ],
          [
           "Beautiful Restaurant, Amazing Food and Delightful Owners"
          ],
          [
           "They cancelled our online reservation because \"it's a small place\"..."
          ],
          [
           "Excellent "
          ],
          [
           "Romantic dinner in the heart of Madrid"
          ],
          [
           "Wonderful!!!!!"
          ],
          [
           "The most enjoyable restaurant experience ever"
          ],
          [
           "Always a pleasure to go back"
          ],
          [
           "An exceptionally pleasant experience"
          ],
          [
           "I think we're now family..."
          ],
          [
           "Wonderful dinner"
          ],
          [
           "Perfect Quality/Price"
          ],
          [
           "a wonderful lunch"
          ],
          [
           "Cena Familiar"
          ],
          [
           "Like eating in their home"
          ],
          [
           "Fantastic dining experience"
          ],
          [
           "Amazing Food"
          ],
          [
           "Really nice meal"
          ],
          [
           "Deserves the warm praise"
          ],
          [
           "Excellent food, great service, nice area!"
          ],
          [
           "A little gem in the heart of Cheuca"
          ],
          [
           "Increíble/Amazing"
          ],
          [
           "Delicious and inventive, but casual and welcoming"
          ],
          [
           "Very good, fresh and tasty food around the Stadium"
          ],
          [
           "Food is simple, refine, fresh. Service is heartwarming."
          ],
          [
           "You won’t regret it!"
          ],
          [
           "Creative Charming Delicious Friendly "
          ],
          [
           "Tasty and cozy"
          ],
          [
           "Worst experience of our month in Spain - not traveller friendly"
          ],
          [
           "Fine Dining in a Casual Atmosphere"
          ],
          [
           "Best local spot in town "
          ],
          [
           "Make a booking so you don't miss out!"
          ],
          [
           "Galician fare with a twist"
          ],
          [
           "Excellent"
          ],
          [
           "Very Tasty but not english friendly"
          ],
          [
           "FOOD NEAR STADIUM"
          ],
          [
           "Fantastic tasty perfect food to go"
          ],
          [
           "Great food"
          ],
          [
           "MAKE A RESERVATION!!!  Excellent "
          ],
          [
           "Moratin deserves more than 5 stars"
          ],
          [
           "Fantastic meal!"
          ],
          [
           "Chef Marco is a master"
          ],
          [
           "Another rave for Moratin"
          ],
          [
           "Fabulous friendly restaurant"
          ],
          [
           "Eat here! "
          ],
          [
           "Wonderful Sunday Meal"
          ],
          [
           "Fantastic lunch in Chueca neighborhood"
          ],
          [
           "Recommended"
          ],
          [
           "Wow—Incredible And Innovative Dishes with Personal Attention from the Chef"
          ],
          [
           "Loved it!"
          ],
          [
           "Great Wine and Food!"
          ],
          [
           "Easy walk from the Westin Palace"
          ],
          [
           "Delicious"
          ],
          [
           "Moratin 40 -  Best Meal We Had In. Madrid!"
          ],
          [
           "Amazing"
          ],
          [
           "Excellent all round "
          ],
          [
           "One of the Best!"
          ],
          [
           "Cosy with good food"
          ],
          [
           "Excellent food and service"
          ],
          [
           "Best meal this visit to Madrid"
          ],
          [
           "Amazing place!!"
          ],
          [
           "Dont bother"
          ],
          [
           "All delicious "
          ],
          [
           "Friendly local spot"
          ],
          [
           "Good ambiance "
          ],
          [
           "Excellent "
          ],
          [
           "This is not for everyone, but it’s cooking of the highest order"
          ],
          [
           "Best restaurant we tried so far"
          ],
          [
           "Best in Madrid?"
          ],
          [
           "Do not share the cheesecake."
          ],
          [
           "Fantastic Experience "
          ],
          [
           "Fenomenal!"
          ],
          [
           "go for the salmorejo"
          ],
          [
           "Vinoteca Moratin"
          ],
          [
           "Morganas is great , everything from the friendly staff to the great food "
          ],
          [
           "Good Food, Great Value"
          ],
          [
           "Delicious"
          ],
          [
           "Great food in a great atmosphere"
          ],
          [
           "I really, really wanted to like this restaurant"
          ],
          [
           "Wonderful dinner"
          ],
          [
           "Nice restaurant, excellent wine list"
          ],
          [
           "Great service and food"
          ],
          [
           "Superb service and wonderful food"
          ],
          [
           "SO GOOD, WE DINED HERE TWICE IN 5 DAYS"
          ],
          [
           "Delicious food, nice staff, lovely atmosphere"
          ],
          [
           "Very Nice"
          ],
          [
           "Nice restaurant"
          ],
          [
           "First night in Madrid"
          ],
          [
           "Restaurante Morgana Brilliant"
          ],
          [
           "Wicked fusion tradicional Galician food!!"
          ],
          [
           "Great spot. Would recommend to all"
          ],
          [
           "Intimate restaurant in Chueca"
          ],
          [
           "Superb place!"
          ],
          [
           "wonderful small restaurant"
          ],
          [
           "Very good modern galician food"
          ],
          [
           "A Hidden Jewel"
          ],
          [
           "Simply the best!!!"
          ],
          [
           "Phenomenal dishes and atmosphere"
          ],
          [
           "Most Wonderful"
          ],
          [
           "Great for wine lovers"
          ],
          [
           "Best of the best and a great dining expereience"
          ],
          [
           "A Gem "
          ],
          [
           "A gem of a restaurant"
          ],
          [
           "Intimate, magnificent bistro"
          ],
          [
           "Comida gallega en  Madrid"
          ],
          [
           "Wonderful experience "
          ],
          [
           "Great dinner"
          ],
          [
           "Mind blowing!"
          ],
          [
           "Fabulous! "
          ],
          [
           "Delicious surprise!"
          ],
          [
           "Not less than 5 stars"
          ],
          [
           "Tuesday night "
          ],
          [
           "Friendly! Food porn! Just amazing!"
          ],
          [
           "Best meal had in Spain"
          ],
          [
           "Most incredible entree and cheesecake ever!"
          ],
          [
           "A welcomed surprise!"
          ],
          [
           "A jewel in the heart of Madrid! "
          ],
          [
           "I don’t do 5 stars easily"
          ],
          [
           "Best meal in Madrid"
          ],
          [
           "Excellent small restaurant in Chueca"
          ],
          [
           "Excellent Lunch"
          ],
          [
           "Good restaurant with good flavors"
          ],
          [
           "Charming restaurant with delicious dishes"
          ],
          [
           "Where the locals eat!"
          ],
          [
           "Lovely and quaint with a down to earth chef"
          ],
          [
           "Wonderful meal - Great Service"
          ],
          [
           "Loved This Place"
          ],
          [
           "Yummy yummy in my tummy!! "
          ],
          [
           "Amazing meal and service"
          ],
          [
           "So glad I came here!"
          ],
          [
           "Amazing Place"
          ],
          [
           "Spectacular!"
          ],
          [
           "Fabulous meal. Friendly service. Willing to accommodate food allergies. Highly recommended!"
          ],
          [
           "Fantastic with a friend"
          ],
          [
           "Innovative and delicious "
          ],
          [
           "Perfect "
          ],
          [
           "So nice"
          ],
          [
           "One of our best meals in Madrid"
          ],
          [
           "Excellent service, very good food!"
          ],
          [
           "Friendly staff, cozy place, great food!"
          ],
          [
           "Dinner was a wonderful experience "
          ],
          [
           "The restaurant to go to in Madrid "
          ],
          [
           "Great!!"
          ],
          [
           "every bit as good as the reviews"
          ],
          [
           "Small place, great food!"
          ],
          [
           "Home cooking in the heart of Madrid! "
          ],
          [
           "Perfect meal"
          ],
          [
           "Wonderful food and atmosphere"
          ],
          [
           "Getting to know the real Spain through amazing food and really interesting conversation"
          ],
          [
           "A wonderful and exquisite restaurant!!"
          ],
          [
           "Magic happens behind the Purple Door.."
          ],
          [
           "Great local dinner"
          ],
          [
           "\"A GEM\""
          ],
          [
           "Run, don't walk!"
          ],
          [
           "TripAdvisor members’ club restaurant"
          ],
          [
           "Wonderful dining experience in Madrid"
          ],
          [
           "Amazing experience"
          ],
          [
           "Truly genuine"
          ],
          [
           "Excellent food and service!"
          ],
          [
           "Outstanding FOOD!!!"
          ],
          [
           "Very good food and service!"
          ],
          [
           "My favorite restaurant in Madrid"
          ],
          [
           "Lovely Wedding Anniversary Lunch"
          ],
          [
           "Very good and intimate"
          ],
          [
           "Delightful little restaurant"
          ],
          [
           "Lovely little restaurant with very nice sisters"
          ],
          [
           "Perfect spot for our first night in Madrid"
          ],
          [
           "👍🏼 "
          ],
          [
           "AT HOME & IN A LOVELY FAMILY"
          ],
          [
           "Totally fabulous "
          ],
          [
           "Wonderful dining experience"
          ],
          [
           "Amazing restaurant!!"
          ],
          [
           "Culinary magic"
          ],
          [
           "Charming and tasty restaurant"
          ],
          [
           "Excellent food, customer service and hosts."
          ],
          [
           "Great food and service. Definitely worth a try"
          ],
          [
           "Top restaurant"
          ],
          [
           "Good wines and food"
          ],
          [
           "Excellent "
          ],
          [
           "Not what I expected"
          ],
          [
           "Best of the best"
          ],
          [
           "Amazing meal!"
          ],
          [
           "Beautiful Restaurant"
          ],
          [
           "A unique experience with Isabel and Pilar"
          ],
          [
           "Delicious Lunch in Madrid"
          ],
          [
           "Great Meal in Madrid"
          ],
          [
           "Amazing food . . .personable chef. . ."
          ],
          [
           "Great restaurant in the city centre"
          ],
          [
           "Quality first"
          ],
          [
           "Delicious"
          ],
          [
           "Even better than expected"
          ],
          [
           "Small with excellent food"
          ],
          [
           "BEST CHEESECAKE EVER !!!!"
          ],
          [
           "Amaing place with the best"
          ],
          [
           "Amazing place"
          ],
          [
           "Small welcoming bistro"
          ],
          [
           "Eat here when in Madrid!"
          ],
          [
           "Nice experience"
          ],
          [
           "Shots"
          ],
          [
           "City oasis"
          ],
          [
           "Excellent food"
          ],
          [
           "Friendly staff, great food "
          ],
          [
           "A super casual Cafe in Madrid "
          ],
          [
           "Warm, intimate restaurant with delicious food"
          ],
          [
           "Lovely service, extremely good food."
          ],
          [
           "Small but super"
          ],
          [
           "Fantastic!!"
          ],
          [
           "Nice place and good seafood"
          ],
          [
           "Great find!"
          ],
          [
           "Best seafood we’ve had in Spain "
          ],
          [
           "Very cosy place"
          ],
          [
           "The best rooftop of Madrid! "
          ],
          [
           "Weirdest staff but good food"
          ],
          [
           "Amazing roof top"
          ],
          [
           "Love the view and ambience"
          ],
          [
           "Winter rooftop "
          ],
          [
           "Adriana"
          ],
          [
           "Beautiful view, beautiful location"
          ],
          [
           "Lovely cocktails"
          ],
          [
           "Very nice lunchtime, good value for money"
          ],
          [
           "Perfect dinner"
          ],
          [
           "Great dinner"
          ],
          [
           "Amazing 😊"
          ],
          [
           "Best restaurant of my 6 days in Madrid"
          ],
          [
           "Wow! "
          ],
          [
           "Fantastic"
          ],
          [
           "Worth the walk in the heat"
          ],
          [
           "Best Place in Spain"
          ],
          [
           "Great food, great service"
          ],
          [
           "Top👌🏼"
          ],
          [
           "Fabulous, intimate restaurant!"
          ],
          [
           "Poor food, good wine, nice people"
          ],
          [
           "Just special"
          ],
          [
           "Excellent"
          ],
          [
           "The personal touch"
          ],
          [
           "A Wonderful Dining Experience"
          ],
          [
           "Cool place but..."
          ],
          [
           "Roof cafe with limited menu"
          ],
          [
           "Evening Meal"
          ],
          [
           "Nice roof garďen!"
          ],
          [
           "Drinks"
          ],
          [
           "Rooftop "
          ],
          [
           "Azotea"
          ],
          [
           "Azotea"
          ],
          [
           "Barcelo rooftop drinks - best value for money!!"
          ],
          [
           "The best bar i have seen in Madrid"
          ],
          [
           "One of my favorite rooftops in Madrid"
          ],
          [
           "Had an amazing lunch here"
          ],
          [
           "Impromptu Delight"
          ],
          [
           "Delicious and friendly"
          ],
          [
           "Make sure you book this gem"
          ],
          [
           "A Diamond in the Ruff!"
          ],
          [
           "Great Restaurant for Lunch"
          ],
          [
           "A Wonderful Gem"
          ],
          [
           "Wonderful Lunch"
          ],
          [
           "Glad we got a table"
          ],
          [
           "Another homerun in Madrid"
          ],
          [
           "A special place"
          ],
          [
           "Dinner with family"
          ],
          [
           "Superb"
          ],
          [
           "Great rooftop restaurant"
          ],
          [
           "Adrian is the best!"
          ],
          [
           "Good service and experience"
          ],
          [
           "Potatoes with mojo"
          ],
          [
           "Glad we looked"
          ],
          [
           "The best rooftop ever"
          ],
          [
           "Outdoor pleasant even in 100+ weather"
          ],
          [
           "A must!"
          ],
          [
           "Celtic friends"
          ],
          [
           "An enjoyable experience "
          ],
          [
           "yummy"
          ],
          [
           "Small restaurant with amazing food!!!"
          ],
          [
           "Dinner at Morgan’s Madrid"
          ],
          [
           "An amazing experience in Algarabia with Isabel and Pilar"
          ],
          [
           "Excellent authentic lunch"
          ],
          [
           "Lived Up to Expectations"
          ],
          [
           "Very tasty"
          ],
          [
           "Don’t Walk by this Hidden Gem"
          ],
          [
           "Anniversary dinner"
          ],
          [
           "you will not be disappointed"
          ],
          [
           "Excellent Meal"
          ],
          [
           "Cozy little restaurant"
          ],
          [
           "Lovely dinner"
          ],
          [
           "Intimate atmosphere, great food, even better hosts!"
          ],
          [
           "Fabulous"
          ],
          [
           "Very welcoming restaurant - excellent food"
          ],
          [
           "Perfect evening "
          ],
          [
           "Great meal."
          ],
          [
           "super pleasant surprise in Madrid"
          ],
          [
           "Great time! Great food. Like being with family."
          ],
          [
           "Dinner with friends"
          ],
          [
           "Great experience.  "
          ],
          [
           "Hold the phone!"
          ],
          [
           "3rd time and still wonderful - a real gem in Madrid"
          ],
          [
           "Hidden Gem in Madrid. Must go, if you can get in."
          ],
          [
           "Very good, very personal"
          ],
          [
           "A Perfect 10!"
          ],
          [
           "Michelin Star?"
          ],
          [
           "Typical food from Galicia, good and cosy"
          ],
          [
           "Brilliant little restaurant "
          ],
          [
           "A very good choice "
          ],
          [
           "Incredible .... a taste sensation"
          ],
          [
           "Different in a great way"
          ],
          [
           "Fantastic "
          ],
          [
           "Charming Restaurant"
          ],
          [
           "The best food and atmosphere in Madrid"
          ],
          [
           "Great Food and Hospitality"
          ],
          [
           "Perfect 25th wedding anniversary dinner!"
          ],
          [
           "There's no salt police here!"
          ],
          [
           "Fantastic food in an intimate setting"
          ],
          [
           "Absolutely wonderful!!"
          ],
          [
           "Great place on a silent side street"
          ],
          [
           "Great meal"
          ],
          [
           "Absolutely amazing!"
          ],
          [
           "Great Food in a cosy setting"
          ],
          [
           "Cozy, good restaurant, very nice service"
          ],
          [
           "Best kept secret in Madrid"
          ],
          [
           "Felt Right at Home"
          ],
          [
           "Warm welcome, great food"
          ],
          [
           "Great place to eat!"
          ],
          [
           "Disappointing"
          ],
          [
           "Great experience"
          ],
          [
           "Beyond Expectations"
          ],
          [
           "Simple food with complex sauces, stonkingly good value and service."
          ],
          [
           "A must for dinner!"
          ],
          [
           "Exquisite "
          ],
          [
           "Amazing"
          ],
          [
           "One of the best restaurants I have ever been to"
          ],
          [
           "Great dinner"
          ],
          [
           "very intimate"
          ],
          [
           "Lovely sisters & Fantastic food!!!"
          ],
          [
           "Amazing"
          ],
          [
           "Lunch and dinner"
          ],
          [
           "Great dinner and services!"
          ],
          [
           "Sweet home cuisine"
          ],
          [
           "Will not disappoint"
          ],
          [
           "Interesting"
          ],
          [
           "Excellent home cooking"
          ],
          [
           "Wonderful dinner"
          ],
          [
           "Great experience"
          ],
          [
           "spanish food"
          ],
          [
           "Wonderful"
          ],
          [
           "Nice place with nice food"
          ],
          [
           "Very intimate, welcoming, dining experience with good food"
          ],
          [
           "Best croquetas in Spain!"
          ],
          [
           "“Culinary” more than “Gustatory.”"
          ],
          [
           "Wonderful Evening and Delicious Food!"
          ],
          [
           "An unusual yet fantastic Experience with great food!"
          ],
          [
           "Very intimate and lovley atmosfhere, and the most important; good food and wine."
          ],
          [
           "Shockingly bad"
          ],
          [
           "Excellent little restaurant in Madrid "
          ],
          [
           "Yami "
          ],
          [
           "True Madrid Find!"
          ],
          [
           "Amazing place"
          ],
          [
           "Our best night in Madrid - inventive, truly interesting, fresh and delicious food!"
          ],
          [
           "Sensational Madrid food experience "
          ],
          [
           "Delicious food in cozy ambiance"
          ],
          [
           "Spectacular! One not to miss "
          ],
          [
           "Passionate food experience"
          ],
          [
           "Seems you need reservations"
          ],
          [
           "Great ambience and service, good but unspectacular food and wine"
          ],
          [
           "sheer briiliance"
          ],
          [
           "Superb little find! Really happy we went here."
          ],
          [
           "Excellent, and cozy restaurant"
          ],
          [
           "Deliciously different Galician food"
          ],
          [
           "Nothing special "
          ],
          [
           "Fantastic place"
          ],
          [
           "Best meal in 2 week visit to Spain"
          ],
          [
           "Excellent service and great food."
          ],
          [
           "Really nice place-small and quaint"
          ],
          [
           "RESERVATIONS A MUST"
          ],
          [
           "Fine food, perfect wine match & the right attention"
          ],
          [
           "The restaurant lost our reservation"
          ],
          [
           "Always almost fully booked - should be a reason ;)"
          ],
          [
           "The choice for Argentinean steakhouse in Madrid"
          ],
          [
           "Súper"
          ],
          [
           "A tasteful bite of Galicia with a twist :-) "
          ],
          [
           "Amazing food"
          ],
          [
           "Perfecto "
          ],
          [
           "Absolutely wonerful"
          ],
          [
           "Superb food, brilliant customer focus."
          ],
          [
           "Delightful and very personal"
          ],
          [
           "Superb meat quality"
          ],
          [
           "great steak"
          ],
          [
           "Good but not great!"
          ],
          [
           "Great steak restaurant "
          ],
          [
           "Higly recommended "
          ],
          [
           "Great experience ! David and"
          ],
          [
           "Perfect experience"
          ],
          [
           "Fabulous place for a drink"
          ],
          [
           "Liked."
          ],
          [
           "Genial"
          ],
          [
           "Excellent service"
          ],
          [
           "Great experience, helpful team."
          ],
          [
           "Delicious Food!"
          ],
          [
           "Just Incredible"
          ],
          [
           "Superb Food with Spanish Hospitality "
          ],
          [
           "Galician food with an exciting twist"
          ],
          [
           "Galician Fusion: It's In, Not Con"
          ],
          [
           "Absolutely devine"
          ],
          [
           "Just amazing"
          ],
          [
           "Food beyond delicious, service left a lot to be desired"
          ],
          [
           "Stressful experience"
          ],
          [
           "Fusion Tapas Done Well"
          ],
          [
           "Too..."
          ],
          [
           "Amazing!"
          ],
          [
           "Very very nice rooftop, sunny"
          ],
          [
           "Beautiful views and excellent service"
          ],
          [
           "Went for food...weren’t serving"
          ],
          [
           "Awesome experience!"
          ],
          [
           "Its a must!"
          ],
          [
           "Great Experience!"
          ],
          [
           "Awesome"
          ],
          [
           "Awesome!!"
          ],
          [
           "Great food, great atmosfeer"
          ],
          [
           "Never Disappoints "
          ],
          [
           "Outstanding meal"
          ],
          [
           "Excellent food and service"
          ],
          [
           "Great place"
          ],
          [
           "Incredible location!"
          ],
          [
           "Great spot in Madrid!"
          ],
          [
           "Delicious food and friendly service"
          ],
          [
           "Amazing food and attentive service"
          ],
          [
           "Found online. Rated highly. So glad we tried it."
          ],
          [
           "Unique and DELISH"
          ],
          [
           "Amazing Experience!"
          ],
          [
           "Very interesting menú with super friendly service"
          ],
          [
           "Had a really nice experience"
          ],
          [
           "Juan Carlos was our waiter"
          ],
          [
           "A great way to explore spanish wines!"
          ],
          [
           "Fantastic Restaurant!"
          ],
          [
           "Fantastic restaurant!  I wish I could go back!"
          ],
          [
           "Still don’t get the stars..."
          ],
          [
           "Great food and wine, but the staff is what makes it stand out"
          ],
          [
           "Good value, great food, super service"
          ],
          [
           "Amazing "
          ],
          [
           "A must visit when in Madrid"
          ],
          [
           "Small restaurant"
          ],
          [
           "Very Good"
          ],
          [
           "Tasty but disappointed"
          ],
          [
           "good \"interesting\" cocktails, nice dishes"
          ],
          [
           "Warm service and environment "
          ],
          [
           "Excellent food and wine linked with most helpful service."
          ],
          [
           "Wonderful!!!!"
          ],
          [
           "Fresh, inventive, memorable!"
          ],
          [
           "An experience"
          ],
          [
           "Excellent Food and Service"
          ],
          [
           "Superb dinner!!!!"
          ],
          [
           "Great"
          ],
          [
           "Really good restaurant!"
          ],
          [
           "Some of the best pizza!"
          ],
          [
           "Probably best pizza this side of Italy"
          ],
          [
           "Best pizza in Madrid"
          ],
          [
           "Great!"
          ],
          [
           "Great pizza, one of the best"
          ],
          [
           "The service was wonderful and pizza was delicious! "
          ],
          [
           "THE best pizza in Madrid"
          ],
          [
           "Good steak Argentinean style"
          ],
          [
           "Yes, very good argentinian meat and grill."
          ],
          [
           "Great steaks in Madrid"
          ],
          [
           "Hugo"
          ],
          [
           "Excellent wine bar and more!"
          ],
          [
           "Our Favorite Restaurant On This Trip"
          ],
          [
           "Atmospheric fusion food experience!"
          ],
          [
           "Great modern place for wine, cocktails, tapas or full meals"
          ],
          [
           "Loved this place."
          ],
          [
           "Exceptional food"
          ],
          [
           "Very good steak house"
          ],
          [
           "Good food and good service "
          ],
          [
           "Great Steak"
          ],
          [
           "what a meal!!! go there"
          ],
          [
           "Lovely restaurant. Excellent"
          ],
          [
           "Absolutely Divine"
          ],
          [
           "For me all here is just perfect"
          ],
          [
           "Great place,\r\nGreat experience."
          ],
          [
           "Delicious, fresh food in small plate restaurant near Gran Via"
          ],
          [
           "Cool bar"
          ],
          [
           "Thank you and nice dinner!!"
          ],
          [
           "Not What It Seems"
          ],
          [
           "Wonderful food and service "
          ],
          [
           "Amazing steaks"
          ],
          [
           "Great food"
          ],
          [
           "once again"
          ],
          [
           "Always great!"
          ],
          [
           "Great food and service"
          ],
          [
           "Great food, great atmosphere"
          ],
          [
           "Amazing food, great service!"
          ],
          [
           "Good Argentinian beef"
          ],
          [
           "Consistently superb. "
          ],
          [
           "Great steaks at La Cabana Argentina"
          ],
          [
           "Best steak I have had in years and great service"
          ],
          [
           "Good meat"
          ],
          [
           "Great! this is must for meat lover"
          ],
          [
           "Great food, efficient and nice waiters"
          ],
          [
           "Great for Steaks"
          ],
          [
           "Birthday dinner here...great!"
          ],
          [
           "Very good steak"
          ],
          [
           "Fabulous!"
          ],
          [
           "cabana addicted! "
          ],
          [
           "Amazing 500 gram ribeye\n\nThis"
          ],
          [
           "Friends Trip Away"
          ],
          [
           "Terrific Gourmet Lunch"
          ],
          [
           "Brilliant!"
          ],
          [
           "No, THIS is special!!!"
          ],
          [
           "Heaven"
          ],
          [
           "Very nice place"
          ],
          [
           "Excellent experience "
          ],
          [
           "Superb evening. "
          ],
          [
           "Un très bon restaurant "
          ],
          [
           "Best meal in Madrid "
          ],
          [
           "Excellent food and service in a relaxed environment"
          ],
          [
           "Dinner for two"
          ],
          [
           "Wonderful meal"
          ],
          [
           "Gorgeous food"
          ],
          [
           "Fantastic food and service"
          ],
          [
           "Delicious meal "
          ],
          [
           "Different and Delicious"
          ],
          [
           "Amazing! / Insuperable! "
          ],
          [
           "Amazing"
          ],
          [
           "Worst dinner of a three week visit "
          ],
          [
           "Excellent "
          ],
          [
           "Sensational Steaks!"
          ],
          [
           "Amazing dinner at a grait price"
          ],
          [
           "Amazing "
          ],
          [
           "Excellent...thoroughly recommend"
          ],
          [
           "super dinner"
          ],
          [
           "Nice dinner but not perfect "
          ],
          [
           "Kitchen excellent! Service really bad!!"
          ],
          [
           "Surely one of the finest Steakhouses in Madrid."
          ],
          [
           "Tipical Argentinein excelent restorant"
          ],
          [
           "praise to La Cabana Argentina"
          ],
          [
           "Flavour and presentation!"
          ],
          [
           "The MARKET is not to be missed and bring your appetite"
          ],
          [
           "Brilliant food and service!"
          ],
          [
           "Excellent !"
          ],
          [
           "Wonderful meal, great service"
          ],
          [
           "Great steak"
          ],
          [
           "Superb"
          ],
          [
           "Truly excellent"
          ],
          [
           "very modern, very nice"
          ],
          [
           "Good find"
          ],
          [
           "Just go"
          ],
          [
           "All style and no real substance"
          ],
          [
           "Great food and service"
          ],
          [
           "Lovely fusion restaurant in Chueca"
          ],
          [
           "Miniminimichelin"
          ],
          [
           "Had a fantastic meal for just €32 per head"
          ],
          [
           "Best pizza & stellar prices!"
          ],
          [
           "Outstanding Food"
          ],
          [
           "Excellent cooking from every angle"
          ],
          [
           "Splendid author-cuisine in a comfortable relaxed environment"
          ],
          [
           "The Very Best in Madrid"
          ],
          [
           "Superb - highly recommended"
          ],
          [
           "Amazing dinner"
          ],
          [
           "Great fusion of Asian and Spanish!"
          ],
          [
           "Superb restaurant "
          ],
          [
           "Creative menu, lovely flavours and great service "
          ],
          [
           "Surprising and very good"
          ],
          [
           "Great fusión cuisine with a worldly taste"
          ],
          [
           "Inventive and exciting food, well presented and well priced"
          ],
          [
           "Great European dishes with an Asian twist"
          ],
          [
           "Good food - great staff"
          ],
          [
           "Terrific pizza and great books!"
          ],
          [
           "Best Dinner"
          ],
          [
           "Good, but overrated?"
          ],
          [
           "Best Thai Curry EVER!"
          ],
          [
           "Absolutely amazing"
          ],
          [
           "Repetimos plato/ we repeat dish"
          ],
          [
           "A great group experience"
          ],
          [
           "Kuoco is a must"
          ],
          [
           "Top Cuisine and Unpretentious Vibe"
          ],
          [
           "Excellent service, delicious food"
          ],
          [
           "Wonderful food, service and ambiance!"
          ],
          [
           "Please go "
          ],
          [
           "Good food in Madrid"
          ],
          [
           "A total disappointment in terms of business"
          ],
          [
           "Remarkable dining experience"
          ],
          [
           "A Must in Madrid"
          ],
          [
           "Madrid trip"
          ],
          [
           "A fabulous meal in wonderful surroundings"
          ],
          [
           "Medium food and not a impressiv winelist, no old wine"
          ],
          [
           "Delicious Meat Quality"
          ],
          [
           "Excellent food and great service"
          ],
          [
           "Superb Business lunch "
          ],
          [
           "Wow!"
          ],
          [
           "Welcome to Madrid dinner"
          ],
          [
           "Foodie Paradise "
          ],
          [
           "Fantastic Experience! "
          ],
          [
           "Wonderful"
          ],
          [
           "Make reservations now!  It's worth it - charming location & staff and yummy, fresh food"
          ],
          [
           "The freshest food cooked simply in a charming atmosphere close to the Westin Palace"
          ],
          [
           "Sublime dining experience"
          ],
          [
           "Madrid visit with Partner"
          ],
          [
           "Outstanding food and service"
          ],
          [
           "Asian fusion experience"
          ],
          [
           "Very good but not to everyone’s liking!"
          ],
          [
           "Amazing menu"
          ],
          [
           "Great experience"
          ],
          [
           "Traveling with teenager"
          ],
          [
           "Great and innovative"
          ],
          [
           "Good balance"
          ],
          [
           "A delicious experience topped with perfect service"
          ],
          [
           "Use of fresh, local food is so refreshing"
          ],
          [
           "Perfect Simplicity"
          ],
          [
           "We thoroughly enjoyed this restaurant!"
          ],
          [
           "Very nice place and good food"
          ],
          [
           "fine dining on a good price"
          ],
          [
           "Very nice experience "
          ],
          [
           "Fantastic restaurant"
          ],
          [
           "Beyond Good"
          ],
          [
           "Make reservations it is worth it"
          ],
          [
           "Legend steaks, service a bit rough round the edges"
          ],
          [
           "Top quality cuisine, service ok"
          ],
          [
           "Top quality steak in the centre of Madrid"
          ],
          [
           "The best steak house"
          ],
          [
           "Nice Ambience – Fabulous steaks"
          ],
          [
           "Recommended."
          ],
          [
           "Very good meat with a fair price!!!"
          ],
          [
           "Best steaks ever."
          ],
          [
           "Wow"
          ],
          [
           "Come for the steak and not the ambience"
          ],
          [
           "Very good steak"
          ],
          [
           "Excellent Steak"
          ],
          [
           "Good meat,  very good chimichurri"
          ],
          [
           "Fantastic food; average service"
          ],
          [
           "We were talking about the steaks the day after!"
          ],
          [
           "Excellent food and good/fast service off the calle prado"
          ],
          [
           "Disappointed"
          ],
          [
           "Great find on the back streets of Madrid"
          ],
          [
           "Excellent food"
          ],
          [
           "Good meat"
          ],
          [
           "AMAZING!! Best meal in madrid"
          ],
          [
           "Amazing food"
          ],
          [
           "Great Meal In Madrid"
          ],
          [
           "Amazing "
          ],
          [
           "Most incredible restaurant"
          ],
          [
           "Fantastic!  Would be successful in any city!!"
          ],
          [
           "Birthday dinner"
          ],
          [
           "Wonderful dinner with superb service "
          ],
          [
           "All ages"
          ],
          [
           "the best Pizza with natural products...."
          ],
          [
           "Great dinner"
          ],
          [
           "What a Find!!!"
          ],
          [
           "Must go there when you in Madrid"
          ],
          [
           "the best"
          ],
          [
           "Wow."
          ],
          [
           "Fantastic food, fantastic service, fantastic experience"
          ],
          [
           "Amazing food!"
          ],
          [
           "Warm, welcoming and charming"
          ],
          [
           "Wonderful, small bistro restaurant"
          ],
          [
           "Most amazing "
          ],
          [
           "Great food , good price, best pulpo"
          ],
          [
           "Exceptional Dining Experience"
          ],
          [
           "Amazing "
          ],
          [
           "Delicious meal! "
          ],
          [
           "Fabulous!! Madrid top 10"
          ],
          [
           "Spanish food with Asian twist"
          ],
          [
           "excellent Asian fusion gourmet food. service in need of improvement"
          ],
          [
           "Great place "
          ],
          [
           "Best meal in our 13 days in Spain"
          ],
          [
           "Gem of a restaurant "
          ],
          [
           "Great Steak in Spain"
          ],
          [
           "Go there!"
          ],
          [
           "Joanna "
          ],
          [
           "Fabulous evening."
          ],
          [
           "Everything you want in a steak"
          ],
          [
           "Order whole pizzas and experience a delicious meal!"
          ],
          [
           "Tasty Pizza, Not the Best in Madrid"
          ],
          [
           "Fantastic pizza"
          ],
          [
           "Highly recommended place in Madrid !"
          ],
          [
           "A must-eat in Madrid."
          ],
          [
           "Excellent pizza and service close to town"
          ],
          [
           "Fantastic meal"
          ],
          [
           "Great meal"
          ],
          [
           "Simply amazing "
          ],
          [
           "Dinner"
          ],
          [
           "Dinner with 2kids"
          ],
          [
           "Fantastic meal at a wonderful restaurant."
          ],
          [
           "Excellent!"
          ],
          [
           "Warm initiate atmosphere"
          ],
          [
           "Great find! "
          ],
          [
           "\"Awesome\""
          ],
          [
           "It's Peruvian - but not as we know it"
          ],
          [
           "Outstanding!"
          ],
          [
           "Fantastic Little Gem"
          ],
          [
           "Fast food"
          ],
          [
           "I am a believer"
          ],
          [
           "As Good As They Say"
          ],
          [
           "great change up from tapas"
          ],
          [
           "LOVED IT"
          ],
          [
           "Lovely restaurant "
          ],
          [
           "Wow wow wow holy amazing"
          ],
          [
           "Great food experience"
          ],
          [
           "Excellent food excellent service "
          ],
          [
           "Rice Gnocchis rule!"
          ],
          [
           "The best restaurant in madrid!!!"
          ],
          [
           "VG steak"
          ],
          [
           "The best of Argentina in Spain"
          ],
          [
           "Looking for familiar menu and open earlier in the evening."
          ],
          [
           "Slice of Heaven (with a hint of truffle)"
          ],
          [
           "Best pizza in Spain"
          ],
          [
           "Delicious Pizza, Great Price"
          ],
          [
           "Sunday afternoon "
          ],
          [
           "Best steak i’ve eaten!"
          ],
          [
           "Perfect lunch"
          ],
          [
           "A hidden gem"
          ],
          [
           "Delight for the palate!"
          ],
          [
           "Great food"
          ],
          [
           "Delicious!"
          ],
          [
           "WONDERFUL pizzas!!!"
          ],
          [
           "EXCELLENT PIZZA AND GOOD VIBES"
          ],
          [
           "Excellent! One of the best meals I've ever had"
          ],
          [
           "Great food and service"
          ],
          [
           "Real Gem"
          ],
          [
           "Great place for a bite to eat"
          ],
          [
           "Excellent, world cuisine."
          ],
          [
           "A very positive experience"
          ],
          [
           "Good"
          ],
          [
           "fantastic!"
          ],
          [
           "Great pizza served with a smile"
          ],
          [
           "Excellent pizza!"
          ],
          [
           "Wonderful dinner experience"
          ],
          [
           "Crispy bottoms"
          ],
          [
           "Tasty pizza"
          ],
          [
           "Truly excellent"
          ],
          [
           "We need to come here more often."
          ],
          [
           "Nice place to eat and counting inspect the city"
          ],
          [
           "Fantastic Restaurant tucked away"
          ],
          [
           "Delicious"
          ],
          [
           "Great value and really tasty"
          ],
          [
           "Great pizza!"
          ],
          [
           "Worth step by for good price and nice menu"
          ],
          [
           "Pretty nice spot with friendly staff"
          ],
          [
           "Varieties of veg. Pizza available "
          ],
          [
           "Hidden Gem in the Heart of Madrid. "
          ],
          [
           "Made a reservation, went there, and they're closed"
          ],
          [
           "The best food I've ever had!"
          ],
          [
           "Amazing!"
          ],
          [
           "Perfect start in Madrid!"
          ],
          [
           "Amazing! "
          ],
          [
           "Excellent vegan pizza!"
          ],
          [
           "Great pizza!"
          ],
          [
           "Amazing!"
          ],
          [
           "Surprisingly good pizza"
          ],
          [
           "Great food and service"
          ],
          [
           "Great  cheap food "
          ],
          [
           "Midday snack"
          ],
          [
           "Fantastic pizza!"
          ],
          [
           "quick, simple , tastt"
          ],
          [
           "Early dinner"
          ],
          [
           "Evening snack"
          ],
          [
           "Quick, simple and very good"
          ],
          [
           "Excellent new restaurant"
          ],
          [
           "Terrific"
          ],
          [
           "Excelent"
          ],
          [
           "Awesome Place"
          ],
          [
           "An authentic culinary experience"
          ],
          [
           "Excellent seasonal food in great atmosphere!"
          ],
          [
           "The most amazing pizzas ever"
          ],
          [
           "Great"
          ],
          [
           "I will return."
          ],
          [
           "The best pizza in Madrid!"
          ],
          [
           "Great Service "
          ],
          [
           "Stopped in for a quick lunch"
          ],
          [
           "Quick tasty lunch ! "
          ],
          [
           "Dinner 8:10 onward"
          ],
          [
           "The perfect place to enjoy Italian food in Madrid "
          ],
          [
           "Fantastic pizza and friendly  service"
          ],
          [
           "Best pizza in Madrid!"
          ],
          [
           "Best pie in Spain!"
          ],
          [
           "Delicious and perfect crispy pizzas"
          ],
          [
           "Great Pizza"
          ],
          [
           "Good pizza and atmosphere "
          ],
          [
           "Terrific meal in Madrid"
          ],
          [
           "Wonderful evenong"
          ],
          [
           "Chocolate cake"
          ],
          [
           "Delicious"
          ],
          [
           "Delicious and fast!"
          ],
          [
           "Good cheap lunch with a friendly staff!"
          ],
          [
           "Cheap and tasty pizzas, very friendly staff"
          ],
          [
           "Very nice surprise "
          ],
          [
           "Great food and customer service"
          ],
          [
           "A comfortable but classy pizzaría"
          ],
          [
           "Great Pizza Great Price"
          ],
          [
           "Great little place "
          ],
          [
           "Amazing pizza !"
          ],
          [
           "Amazing! "
          ],
          [
           "Dónde está la Pizzateca"
          ],
          [
           "Best meal we had in Madrid!"
          ],
          [
           "Magnificent Market"
          ],
          [
           "Super"
          ],
          [
           "A Breath of Fresh Air."
          ],
          [
           "I liked"
          ],
          [
           "Amazing food, amazing service."
          ],
          [
           "Dinner"
          ],
          [
           "Amazing Pizza!!!!"
          ],
          [
           "Put this restaurant on your Madrid “must do” list"
          ],
          [
           "Tripadvisor has done it again!"
          ],
          [
           "Excellent restaurant"
          ],
          [
           "pleasant place"
          ],
          [
           "Outstanding local pizzeria!"
          ],
          [
           "🍕Amazing pizza place 🍕 "
          ],
          [
           "Pizza 🍕- Yummy Choices "
          ],
          [
           "Good pizza and somewhere to sit and eat"
          ],
          [
           "Super tasty!!!"
          ],
          [
           "Cheap/goodfood/goodservice"
          ],
          [
           "Don't judge a book by it's cover;-)"
          ],
          [
           "Amazing pizza "
          ],
          [
           "Fab pizza and excellent service. "
          ],
          [
           "Very good pizza and friendly staff"
          ],
          [
           "Just perfect"
          ],
          [
           "Awesome food; great customer service, well priced"
          ],
          [
           "Lovely for steak"
          ],
          [
           "Deserves its good reviews here"
          ],
          [
           "Great food and friendly staff"
          ],
          [
           "Superb food"
          ],
          [
           "Slightly out of the way but worth finding."
          ],
          [
           "Very good pizza place"
          ],
          [
           "Small cafe & take away"
          ],
          [
           "great pizza slices, great beer"
          ],
          [
           "Yummy Za"
          ],
          [
           "Cosy,Tasty,Friendly, Simple"
          ],
          [
           "Do not miss!"
          ],
          [
           "Loved it"
          ],
          [
           "Hit the spot 🥩"
          ],
          [
           "Amazing steak and staff"
          ],
          [
           "Pleasent experience."
          ],
          [
           "Amazing Beef"
          ],
          [
           "Smell like yummy pizza"
          ],
          [
           "Good Option for Vegetarians in Madrid"
          ],
          [
           "Great cozy place for a bite to eat."
          ],
          [
           "Eat the 5 cheese pizza!"
          ],
          [
           "Very tasty!"
          ],
          [
           "Best pizza in Madrid"
          ],
          [
           "Amazing steak restaurant!"
          ],
          [
           "Great night"
          ],
          [
           "Beautiful night & excellent meat"
          ],
          [
           "Awesome dinner, awesome staff! Meatlovers’ place to go"
          ],
          [
           "Very good meat Restaurant"
          ],
          [
           "Great steaks and good service"
          ],
          [
           "Great food. Excelent service"
          ],
          [
           "Excellent "
          ],
          [
           "Wow!"
          ],
          [
           "From oh, NO to Oh, YES!"
          ],
          [
           "Genuinely top notch dining experience"
          ],
          [
           "Excellent Quaint Restruant"
          ],
          [
           "Worth the trip, food is fantastic!"
          ],
          [
           "Superb food and great service!"
          ],
          [
           "Local haute cuisine"
          ],
          [
           "Quality and well priced"
          ],
          [
           "Excellent & Friendly "
          ],
          [
           "laid back & Fun"
          ],
          [
           "Excellent quality and creativity"
          ],
          [
           "Hidden gem in Old Madrid"
          ],
          [
           "Good to excelent"
          ],
          [
           "Open late night."
          ],
          [
           "Excellent steak house"
          ],
          [
           "Decent..."
          ],
          [
           "Great Pizza By the Slice or By the Pie"
          ],
          [
           "Yummy pizza at great prices!"
          ],
          [
           "Steak!"
          ],
          [
           "As Advertised "
          ],
          [
           "modern with great food"
          ],
          [
           "Fantastic Experience"
          ],
          [
           "Lovely Dining Experience"
          ],
          [
           "At Ease!"
          ],
          [
           "Beyond Excellent! Must visit!"
          ],
          [
           "Highly recommended"
          ],
          [
           "Great food, service and ambiance "
          ],
          [
           "Beautiful innovative food."
          ],
          [
           "As good as Italy"
          ],
          [
           "A future Michelin star in Chueca, Madrid "
          ],
          [
           "5 star food"
          ],
          [
           "Lunch"
          ],
          [
           "Good fusion cuisine"
          ],
          [
           "Wonderful experince"
          ],
          [
           "Five star food and service"
          ],
          [
           "Outstanding food and great service"
          ],
          [
           "Fantastic Spanish Food with Asian Twist"
          ],
          [
           "Fantastic"
          ],
          [
           "Exquisite food. "
          ],
          [
           "Great Dining Experience"
          ],
          [
           "Great find!"
          ],
          [
           "Small restaurant, great food!"
          ],
          [
           "Yum yum"
          ],
          [
           "Best pizza I've ever had"
          ],
          [
           "Average Fast food"
          ],
          [
           "Very tasty pizza"
          ],
          [
           "Hipsters in Madrid"
          ],
          [
           "All about the meat"
          ],
          [
           "Great place to eat"
          ],
          [
           "Delicious"
          ],
          [
           "Dinner"
          ],
          [
           "Delicious "
          ],
          [
           "Fantastic discovery"
          ],
          [
           "Great Find"
          ],
          [
           "Excellent!"
          ],
          [
           "Good and reasonably priced Peruvian flavoured restaurant in Madrid"
          ],
          [
           "Absolutely superb food"
          ],
          [
           "A top ten in Madrid? Fast-food pizza?"
          ],
          [
           "Tasty pizzas!"
          ],
          [
           "Good but not outstanding"
          ],
          [
           "Great place for steaks!"
          ],
          [
           "excellent"
          ],
          [
           "Great Steak"
          ],
          [
           "Great argentinean steakhouse"
          ],
          [
           "Very, very carnivorous"
          ],
          [
           "Great experience!"
          ],
          [
           "Cracking"
          ],
          [
           "Steak Perfection"
          ],
          [
           "Lovely steak!"
          ],
          [
           "I'm Argentine! Get the Entraña!"
          ],
          [
           "Steak is good, but waitresses are always in bad mood."
          ],
          [
           "best for gluten free"
          ],
          [
           "Perfect sit-down meal!"
          ],
          [
           "super"
          ],
          [
           "Excellent restaurant and great service"
          ],
          [
           "A wonderful find"
          ],
          [
           "Great "
          ],
          [
           "Unexpected flavours with fresh ingredients"
          ],
          [
           "Exceeded High Expectations "
          ],
          [
           "Little gem "
          ],
          [
           "Outstanding"
          ],
          [
           "Lunch"
          ],
          [
           "Great find"
          ],
          [
           "Great place to go! Small and cozy"
          ],
          [
           "Decent steak, not exceptional.  Overrated and pricy."
          ],
          [
           "Decent steak, but not exceptional.  Overrated."
          ],
          [
           "If you love steak go here!"
          ],
          [
           "Excellent Food"
          ],
          [
           "Excellent all-round steak place"
          ],
          [
           "Perfect steak"
          ],
          [
           "rib eye steak cooked to perfection"
          ],
          [
           "Excellent Food"
          ],
          [
           "Delicious!"
          ],
          [
           "Gorgeous Restaurant with Delicious Food"
          ],
          [
           "Just perfect"
          ],
          [
           "Simply amazing"
          ],
          [
           "The best"
          ],
          [
           "Delicious"
          ],
          [
           "Market in name only"
          ],
          [
           "Best restaurant of my life!"
          ],
          [
           "Simply Superb!"
          ],
          [
           "An absolute gem"
          ],
          [
           "Great!!!"
          ],
          [
           "Excellent small restaurant"
          ],
          [
           "Nice"
          ],
          [
           "Very passionate owner, innovative kitchen"
          ],
          [
           "Perfect Cocktails. Not a tourist in sight ;) "
          ],
          [
           "Exceptional service, food and wine! "
          ],
          [
           "Lovely dinner with a great Spanish wine list"
          ],
          [
           "Great food!"
          ],
          [
           "Lovely food and great atmosphere "
          ],
          [
           "Wine bar with good food"
          ],
          [
           "Excellent meal, informative service"
          ],
          [
           "Perfect!"
          ],
          [
           "Perfect"
          ],
          [
           "Fake Risotto"
          ],
          [
           "Super wine"
          ],
          [
           "Modern tapas at a reasonable price "
          ],
          [
           "Fine wines... sophisticated tapas...decent prices..."
          ],
          [
           "Quiet Dinner near hotel"
          ],
          [
           "Extraordinary food experience"
          ],
          [
           "Besutiful wines and surprising food"
          ],
          [
           "This place is amazing and should be #1 in Madrid!"
          ],
          [
           "I knew this was the right place the minute we walked in"
          ],
          [
           "Fantastic!"
          ],
          [
           "Cool cocktail bar with excellent, albeit limited tapas menu"
          ],
          [
           "An absolute must in Madrid"
          ],
          [
           "You must go here."
          ],
          [
           "Exquisite restaurant "
          ],
          [
           "Fantastic"
          ],
          [
           "3 1/2 * - good - but a bit disappointed..."
          ],
          [
           "An absolute don’t miss"
          ],
          [
           "don't overthink this one--just go and see for yourselves"
          ],
          [
           "Anastasia"
          ],
          [
           "Awesome moment"
          ],
          [
           "Amazing, great vibe and cheap"
          ],
          [
           "Amazingly cheap pizza"
          ],
          [
           "Excellent pizza!"
          ],
          [
           "Perfection among pizza"
          ],
          [
           "Uhmm so good !"
          ],
          [
           "Bloody awful"
          ],
          [
           "Fantastic pizza and fantastic service!"
          ],
          [
           "Great food!"
          ],
          [
           "Best break from tapas, paella and jamon!"
          ],
          [
           "Mmm"
          ],
          [
           "Great steak, lively atmosphere, great service."
          ],
          [
           "Serendipity... and the best pizza I've ever had"
          ],
          [
           "Some of the best pizza to be had in Madrid!"
          ],
          [
           "Awesome pizza!"
          ],
          [
           "Great place...great food.."
          ],
          [
           "Best Pizza Ever"
          ],
          [
           "For what it is, it's great!"
          ],
          [
           "Good food"
          ],
          [
           "Very tasty pizza"
          ],
          [
           "Really great tasting Pizzas "
          ],
          [
           "No vegan Pizza"
          ],
          [
           "Nice Italian food in Madrid"
          ],
          [
           "Perfect little spot!"
          ],
          [
           "True steakhouse "
          ],
          [
           "Very good meal with nice service"
          ],
          [
           "Restaurant excellent"
          ],
          [
           "Delicious, friendly, perfect"
          ],
          [
           "Fantastic Argentine meat in heart of Madrid"
          ],
          [
           "Dinner"
          ],
          [
           "Very good pizza"
          ],
          [
           "Amazing combinations, great pizza, fresh and delicious"
          ],
          [
           "Best gourmet pizza tasted in a long time!"
          ],
          [
           "Delicious and worth the 'best pizza in Madrid' title"
          ],
          [
           "Gormet pizza, casual price"
          ],
          [
           "Take-out and 6 bar stools, no sit-down"
          ],
          [
           "Really good food"
          ],
          [
           "Awesome steak!"
          ],
          [
           "Steak"
          ],
          [
           "Overpriced "
          ],
          [
           "Meat lovers paradise "
          ],
          [
           "Yum!"
          ],
          [
           "delicious take-out"
          ],
          [
           "Amazing pizza"
          ],
          [
           "Tired of Paella. Decided to get Pizza one day."
          ],
          [
           "Impressed "
          ],
          [
           "They should rename it PizzAWESOME"
          ],
          [
           "WARNING: Approach with empty stomach"
          ],
          [
           "Good steak"
          ],
          [
           "Just wonderful"
          ],
          [
           "Lively place with great wine with food"
          ],
          [
           "Great meal"
          ],
          [
           "Good restaurant"
          ],
          [
           "How a Steak is done!"
          ],
          [
           "Great food/excellent service"
          ],
          [
           "Good Food - but a thoughtless Chef spoiled our enjoyment!"
          ],
          [
           "Steak and lots of it"
          ],
          [
           "Too High Expectations"
          ],
          [
           "Great Atmosphere & food"
          ],
          [
           "The best pizza!"
          ],
          [
           "Small peace of food, but delicous"
          ],
          [
           "Finally Good Pizza"
          ],
          [
           "Fantastic juicy steak at great value"
          ],
          [
           "Phenomenal dinner for our last night in Madrid "
          ],
          [
           "Looking for the perfect steakhouse downtown Madrid?"
          ],
          [
           "Great pizza, friendly owner!"
          ],
          [
           "Hits the spot!"
          ],
          [
           "Quick and delicious "
          ],
          [
           "Best food and service of our entire trip to Madrid"
          ],
          [
           "Steak perfection"
          ],
          [
           "Excelente comida y atencion"
          ],
          [
           "The GREATEST Vegan Pizza I've ever had!"
          ],
          [
           "Pizza and Lasagne bolognese"
          ],
          [
           "Great pizza"
          ],
          [
           "GREAT Meat"
          ],
          [
           "Friendly service, fantastic wine & dessert and a very good steak!"
          ],
          [
           "Fantastic service, food and atmosphere! What more do you need?"
          ],
          [
           "Is this the best steak place in the world??"
          ],
          [
           "Reasonable priced steak"
          ],
          [
           "Excellent steak and wine!"
          ],
          [
           "Perfect Steak"
          ],
          [
           "Amazing Cocktails, Stunning Food with Great Service"
          ],
          [
           "authentic gourmet Spanish cuisine"
          ],
          [
           "Great Steak Tartare"
          ],
          [
           "Delightful staff, perfectly pitched food with matching wines"
          ],
          [
           "Fancy place"
          ],
          [
           "Fabulous wine selections, and wonderful food."
          ],
          [
           "Disappointed "
          ],
          [
           "Charming Experience, Great Food."
          ],
          [
           "wonderful place in Madrid"
          ],
          [
           "Just excellent "
          ],
          [
           "Amazing "
          ],
          [
           "Angelita, must to go place if you are in Madrid!"
          ],
          [
           "Sweetest sisters, great, and cheap, food"
          ],
          [
           "Such a great time "
          ],
          [
           "Absolute must visit in Madrid for great combo of wine and local cuisine"
          ],
          [
           "Chocolate dessert to remember"
          ],
          [
           "Great restaurant"
          ],
          [
           "Warm and Wonderful"
          ],
          [
           "Fantastic Spanish Food and Service"
          ],
          [
           "Disappointing after reading the other reviews"
          ],
          [
           "Lives up to the reviews"
          ],
          [
           "Really enjoyable experience"
          ],
          [
           "Pure Joy!"
          ],
          [
           "You feel at home"
          ],
          [
           "A real find!!!"
          ],
          [
           "Two sisters from Rioja with good food in a small restaurant experience"
          ],
          [
           "Fantastic spanish food"
          ],
          [
           "Wonderful home cooked food!"
          ],
          [
           "Again and Again"
          ],
          [
           "Fantastic"
          ],
          [
           "Small intimate restaurant with excellent everything!"
          ],
          [
           "Good food cooked with passion"
          ],
          [
           "Exquisite"
          ],
          [
           "A Madrid favorite!"
          ],
          [
           "Perfect!"
          ],
          [
           "Amazing: great food plus great service "
          ],
          [
           "Excellent food and friendly service "
          ],
          [
           "Really enjoyed our lunch here on \"museum day\""
          ],
          [
           "Introduced us to some great new wines!!"
          ],
          [
           "Best Meal of the Trip."
          ],
          [
           "Awesome wee find "
          ],
          [
           "Great Find"
          ],
          [
           "A Great Discovery"
          ],
          [
           "Fantastic Fresh Farm to Table"
          ],
          [
           "yum! a fresh and delicious take on Spanish food"
          ],
          [
           "Used to be great. Now it’s bad"
          ],
          [
           "A perfect evening in all respects"
          ],
          [
           "Perfect evening "
          ],
          [
           "Beautiful hidden gem"
          ],
          [
           "You must have dinner here!"
          ],
          [
           "Wonderful dinner"
          ],
          [
           "Real Spanish experience"
          ],
          [
           "Delicious, well prepared food"
          ],
          [
           "Not your average restaurant"
          ],
          [
           "Worth a visit"
          ],
          [
           "Like Being at Someone's Home"
          ],
          [
           "Deserves its excellent ratings"
          ],
          [
           "Enjoyable Cozy Experirmce"
          ],
          [
           "Pleasantly surprised"
          ],
          [
           "Great Food... Awesome Owners"
          ],
          [
           "Good old days"
          ],
          [
           "Wonderful atmosphere and delicious food"
          ],
          [
           "Simply amazing and wonderful!"
          ],
          [
           "Warm and cozy"
          ],
          [
           "If you only eat one place in Madrid, eat here!"
          ],
          [
           "Enchanting Food and Wonderful Chef"
          ],
          [
           "Nothing special for our celebration dinner."
          ],
          [
           "Brilliant food wind and service "
          ],
          [
           "Best meal so far in Spain"
          ],
          [
           "Fabulous Food Experience"
          ],
          [
           "Don't miss this one!"
          ],
          [
           "Perfect dinner!"
          ],
          [
           "Wonderful Tapas"
          ],
          [
           "Excellent"
          ],
          [
           "charming small restaurant, not for picky eaters"
          ],
          [
           "Maybe I chose wrong..."
          ],
          [
           "Waiting and still waiting"
          ],
          [
           "Delicious traditional Riojan food"
          ],
          [
           "Lovely restaurant great food."
          ],
          [
           "Cozy, friendly, and amazing food"
          ],
          [
           "Real good meat restaurant"
          ],
          [
           "Amazing!"
          ],
          [
           "Amazing!"
          ],
          [
           "Fabulous sausage, Awesome steak"
          ],
          [
           "Overpriced and low quality meat"
          ],
          [
           "Food"
          ],
          [
           "Saturday night fine dining."
          ],
          [
           "The best pizza"
          ],
          [
           "Great food and service for a great price"
          ],
          [
           "Sister Act Perfecta!!!"
          ],
          [
           "Adorable "
          ],
          [
           "Top place to eat a steak"
          ],
          [
           "Very nice meat and good service"
          ],
          [
           "Quality meat "
          ],
          [
           "Top for meat lovers "
          ],
          [
           "Great Experience"
          ],
          [
           "We liked it so much that we went back!"
          ],
          [
           "A must visit restaurant "
          ],
          [
           "As local as you can get"
          ],
          [
           "Special place"
          ],
          [
           "Best Pizza In Madrid"
          ],
          [
           "Smooth!"
          ],
          [
           "Perfect potato pizza!"
          ],
          [
           "Great food, friendly service"
          ],
          [
           "Believe the reviews!! Unreal pizza"
          ],
          [
           "Great late night snack (with great price)"
          ],
          [
           "Great pizza for a great price!."
          ],
          [
           "Dinner inside the restaurant"
          ],
          [
           "Delicious authentic pizza in the Center"
          ],
          [
           "Sin duda la mejor pizza en el centro!"
          ],
          [
           "Great pizza"
          ],
          [
           "Good value, friendly staff"
          ],
          [
           "The Best Meal of Our Vacation"
          ],
          [
           "A fantastic homely restaurant"
          ],
          [
           "A must when in Madrid!"
          ],
          [
           "Basque Home Cooking at its best!"
          ],
          [
           "Great local joint!"
          ],
          [
           "A restaurant with soul and cooking with passion"
          ],
          [
           "A very special restaurant"
          ],
          [
           "Great experience. A restaurant less ordinary"
          ],
          [
           "Quirky"
          ],
          [
           "WE WERE LOOKED AFTER BEAUTIFULLY"
          ],
          [
           "Feels like home"
          ],
          [
           "Don't miss it!"
          ],
          [
           "Good quality food"
          ],
          [
           "Great restaurant experience in Madrid!"
          ],
          [
           "Fantastic Food from Rioja"
          ],
          [
           "Quirky "
          ],
          [
           "Great hidden restaurant in Madrid"
          ],
          [
           "Great Pizza, Great Owner"
          ],
          [
           "best pizza ever!"
          ],
          [
           "Good but nothing special"
          ],
          [
           "Really good vegetarian choices !"
          ],
          [
           "Delicious pizza"
          ],
          [
           "First night"
          ],
          [
           "Probably the highlight of our trip"
          ],
          [
           "Fantastic food in cozy environment!"
          ],
          [
           "Simply amazing"
          ],
          [
           "Superb !!!!! Splendid !!!!! Beautiful !!!!!!"
          ],
          [
           "Great personal restaurant"
          ],
          [
           "It is not a proper Spanish Restaurant."
          ],
          [
           "Undeserved rating. Well below standard"
          ],
          [
           "A very uniq feeling"
          ],
          [
           "Unique dining experience"
          ],
          [
           "Unique experience"
          ],
          [
           "Best meal we had in Madrid"
          ],
          [
           "Hidden Gem"
          ],
          [
           "Amazing food and cozy atmosphere "
          ],
          [
           "Great steakhouse of the locals!"
          ],
          [
           "\"Does exactly what it says on the tin!\""
          ],
          [
           "Good review may be a turist trap"
          ],
          [
           "Great food."
          ],
          [
           "Not the best service"
          ],
          [
           "The best dining experience we ever have had!!!!"
          ],
          [
           "A great unique restaurant"
          ],
          [
           "You won't find better than this in Madrid"
          ],
          [
           "Best steak I've ever had!"
          ],
          [
           "Best Steak for years"
          ],
          [
           "Great steak"
          ],
          [
           "A lovely atmosphere on New Years Eve"
          ],
          [
           "Too good to be true. This place deserves six stars, maybe seven."
          ],
          [
           "Great cocktails and tapas"
          ],
          [
           "Dinner"
          ],
          [
           "Just amazing"
          ],
          [
           "Tasty tomatoes and more "
          ],
          [
           "Amazing Tapas"
          ],
          [
           "great modern spanish food"
          ],
          [
           "Not bad, not great"
          ],
          [
           "The meat lover's favorite"
          ],
          [
           "Variety of Pizza - a lifesaver for the kids"
          ],
          [
           "Good food, good service"
          ],
          [
           "Fabulous restaurant; not to be missed"
          ],
          [
           "Amazing cocktails in the basement "
          ],
          [
           "Relaxed place to enjoy splendid wine and jamon! "
          ],
          [
           "Dinner"
          ],
          [
           "Things to live up to "
          ],
          [
           "Amazing Cuisine and Wine!"
          ],
          [
           "Ottima Pizza!"
          ],
          [
           "Great pizza, nothing else"
          ],
          [
           "Perfection"
          ],
          [
           "Great for dinner on the go"
          ],
          [
           "Best pizza ... not for me!"
          ],
          [
           "If you like BBQ, real BBQ, try this!!!!"
          ],
          [
           "Best meal we had in Madrid!"
          ],
          [
           "Great steak, great atmosphere in Madrid."
          ],
          [
           "Stay away..."
          ],
          [
           "Perfect pizza at a good cost"
          ],
          [
           "Best pizza I have ever had!"
          ],
          [
           "Good pizza!"
          ],
          [
           "Definitely the best pizza I've had!"
          ],
          [
           "Incredible food, incredible service"
          ],
          [
           "Highly recommended "
          ],
          [
           "Great Argentinian restaurant"
          ],
          [
           "Great food & service"
          ],
          [
           "You must eat here"
          ],
          [
           "A-M-A-Z-I-N-G!!"
          ],
          [
           "Quiet street, amazing restaurant!"
          ],
          [
           "Hidden treasure"
          ],
          [
           "Superb resto! Quality staff, quality food, great wines! "
          ],
          [
           "Amazing"
          ],
          [
           "Wonderful"
          ],
          [
           "A good option"
          ],
          [
           "Chilled atmosphere for foodies"
          ],
          [
           "Great Wine Bar in Madrid"
          ],
          [
           "Lovely place"
          ],
          [
           "Good service wine menu to die for"
          ],
          [
           "Very good place to go for a glass of vine"
          ],
          [
           "excellent wines"
          ],
          [
           "It's all about the Wine."
          ],
          [
           "Visit with my Digital business masters"
          ],
          [
           "Innovative bistro with wine in focus and plates to share"
          ],
          [
           "Great crust"
          ],
          [
           "Great Pizza, Very Friendly Staff!"
          ],
          [
           "Excellent Pizza Very Friendly Staff"
          ],
          [
           "One of the best!"
          ],
          [
           "Class. Elegance and courtesy"
          ],
          [
           "Brilliant steak"
          ],
          [
           "Terrible service"
          ],
          [
           "Excelent"
          ],
          [
           "Consistently excellent"
          ],
          [
           "Fresh Pizza"
          ],
          [
           "Za Best! "
          ],
          [
           "Great pizza"
          ],
          [
           "Awesome Pizza"
          ],
          [
           "I really recommend this restaurant "
          ],
          [
           "Hard to see how it could be better! "
          ],
          [
           "Highly Recommended"
          ],
          [
           "Authentic food"
          ],
          [
           "Excellent Cocktail Bar"
          ],
          [
           "Friendly staff, good food"
          ],
          [
           "Excellent restaurant"
          ],
          [
           "Fantastic food and wine"
          ],
          [
           "Very good"
          ],
          [
           "What a dinner!!!"
          ],
          [
           "Wonderful wine and imaginative dishes"
          ],
          [
           "Best wines in town!"
          ],
          [
           "Don't go if you're hungry"
          ],
          [
           "Food made with pride and care"
          ],
          [
           "Great experiece"
          ],
          [
           "Tuesday night out"
          ],
          [
           "Great food for veggie lovers"
          ],
          [
           "Great place"
          ],
          [
           "Small but amazing"
          ],
          [
           "Incredible"
          ],
          [
           "Lunch visit"
          ],
          [
           "Unassuming Bar and Restaurant in Madrid"
          ],
          [
           "Great and real Andalusian food. Very small place."
          ],
          [
           "Great food, reasonable price, great service"
          ],
          [
           "Taberna Origen"
          ],
          [
           "Good value for the money"
          ],
          [
           "Divine Oxtail😂"
          ],
          [
           "Wonderful restaurant"
          ],
          [
           "A Hidden Gem at Plaza Mayor!"
          ],
          [
           "Metro Bistro review"
          ],
          [
           "Tasting menu"
          ],
          [
           "Great tasting menu"
          ],
          [
           "Move over, Michelin Star restaurants! This restaurant has you beat."
          ],
          [
           "Great Food & Cosy"
          ],
          [
           "Amazing tapas restaurant. A gem in Madrid. "
          ],
          [
           "Great place to have different type of tapas in Madrid"
          ],
          [
           "Great food"
          ],
          [
           "Top level cuisine!"
          ],
          [
           "Inventive food, tucked away on a small street"
          ],
          [
           "Original high-quality food for decent money"
          ],
          [
           "My favorite bistro in Madrid."
          ],
          [
           "Lovely restaurant with incredible food"
          ],
          [
           "Nice lunch"
          ],
          [
           "Neighborhood joint featuring VIVID flavors"
          ],
          [
           "Delicious and unique food"
          ],
          [
           "No Reservations"
          ],
          [
           "Cocktails and Bar Downstairs is Fabulous"
          ],
          [
           "Good find!"
          ],
          [
           "Exceptional improvisation!"
          ],
          [
           "Came here for late night dinner"
          ],
          [
           "wonderful restaurant!"
          ],
          [
           "Great selection of cocktails"
          ],
          [
           "Gréât place for food and friendly staff"
          ],
          [
           "Evening meal at La Cabana, Madrid"
          ],
          [
           "Excellent service and food"
          ],
          [
           "Speakeasy"
          ],
          [
           "Great lunch with great flavors"
          ],
          [
           "Drazen Torres"
          ],
          [
           "A little Riojan gem!!"
          ],
          [
           "Melt in your mouth meat"
          ],
          [
           "Craft coktails"
          ],
          [
           "Birthday dinner"
          ],
          [
           "Fabulous Dishes Meant For Sharing"
          ],
          [
           "44th Wedding Anniversary dinner."
          ],
          [
           "Great find in central Madrid"
          ],
          [
           "The same level as premium restaurants in Bs As"
          ],
          [
           "Cracking little steakhouse!!! "
          ],
          [
           "High hopes but a bit of a let down"
          ],
          [
           "Great steak, a nightmare the service"
          ],
          [
           "Sets the standard"
          ],
          [
           "An Americano Bar in Madrid: cocktails "
          ],
          [
           "The Americano Bar!"
          ],
          [
           "downstairs!"
          ],
          [
           "The BEST cocktail bar i have ever been to"
          ],
          [
           "Mind blown...."
          ],
          [
           "Very very good , sets the standard"
          ],
          [
           "Nice restaurant with unique dishes"
          ],
          [
           "Lounge at its best and love the cocktail selection"
          ],
          [
           "Cool and hip downstairs bar"
          ],
          [
           "Great food, even better lounge downstairs with great cocktails"
          ],
          [
           "Fabulous dining with great service."
          ],
          [
           "Excellent wine and food, convivial atmosphere in Madrid"
          ],
          [
           "Great food and wine pairing"
          ],
          [
           "Cocktails"
          ],
          [
           "Best cocktails in Madrid!!"
          ],
          [
           "Beautiful food and wine"
          ],
          [
           "hip place in hip neigborhood"
          ],
          [
           "Most delicious pizza in Madrid"
          ],
          [
           "Pizza paradise in Madrid"
          ],
          [
           "If you want real pizza "
          ],
          [
           "Pizza made with love "
          ],
          [
           "Such good pizza, considering moving to Madrid!"
          ],
          [
           "Great food ❤️"
          ],
          [
           "Outstanding, fresh and very special"
          ],
          [
           "Oozing with charm"
          ],
          [
           "Go for the experience"
          ],
          [
           "Lucky Dip"
          ],
          [
           "Home cooked food in a homely sitting"
          ],
          [
           "initimate setting, good food, great hosts."
          ],
          [
           "Avoid the red wine and you'll be fine"
          ],
          [
           "Very good food"
          ],
          [
           "Great Quality"
          ],
          [
           "Beef to perfection"
          ],
          [
           "Great Steak Restaurant"
          ],
          [
           "Best steak! Meat lovers will love it"
          ],
          [
           "Fantastic Steak House"
          ],
          [
           "great steaks!"
          ],
          [
           "Excellent Steak House  Central Madrid"
          ],
          [
           "Add Angelita Madrid to your dining list!"
          ],
          [
           "Excellent food in a perfect setting"
          ],
          [
           "Nice Casual Tapas Place"
          ],
          [
           "OMG! The food.."
          ],
          [
           "Super wine bar with excellent food"
          ],
          [
           "Great cocktails downstairs, reserve a table upstairs"
          ],
          [
           "An excellent meal so we returned"
          ],
          [
           "Disappointing..."
          ],
          [
           "Amazing Food and Wine Pairing"
          ],
          [
           "Must go to place in Madrid"
          ],
          [
           "THE NEW YORKER"
          ],
          [
           "Some of the best pizza EVER"
          ],
          [
           "One of my favorite meals in Spain"
          ],
          [
           "Fantastic food and authentic, intimate dining in the heart of Madrid."
          ],
          [
           "Very Good - Unique experience"
          ],
          [
           "Best Steak In Europe So Far"
          ],
          [
           "Excellent tenderloin, nice atmosphere, great service and wonderful owner"
          ],
          [
           "Best Argentinian steak in Madrid"
          ],
          [
           "Very very good margherita!"
          ],
          [
           "Great Pizza!!"
          ],
          [
           "This restaurant made my day!"
          ],
          [
           "La pizateca -amazing"
          ],
          [
           "Best takeaway pizza ever??"
          ],
          [
           "Dream-like Pizza"
          ],
          [
           "Great Pizza"
          ],
          [
           "Amazing pizza"
          ],
          [
           "Romancing the Rioja .. ESTUPENDO!"
          ],
          [
           "Cozy and great food service (thank you Emilio)"
          ],
          [
           "We hate you here and we want you to feel like that "
          ],
          [
           "Excellent!"
          ],
          [
           "Simply wonderful"
          ],
          [
           "First class steaks"
          ],
          [
           "Great for snack or dinner"
          ],
          [
           "The best pizza in Madrid !"
          ],
          [
           "It's for real! "
          ],
          [
           "Great pizza don't be fooled by the front "
          ],
          [
           "Best Pizza in Madrid"
          ],
          [
           "Delicious pizza"
          ],
          [
           "Great place!!"
          ],
          [
           "Yummy Pizza in Madrid"
          ],
          [
           "Great pizza & salad!"
          ],
          [
           "Just Awsome"
          ],
          [
           "A very special local restaurant"
          ],
          [
           "Great food, great service!"
          ],
          [
           "Dinner in Madrid"
          ],
          [
           "Consistent home style cooking and friendly service"
          ],
          [
           "A Solid 10!"
          ],
          [
           "very nice"
          ],
          [
           "Excellent pizzas and calzones"
          ],
          [
           "Incredible"
          ],
          [
           "Excellent place for pizza&pasta "
          ],
          [
           "Had an excellent meal here"
          ],
          [
           "Great food and better service!"
          ],
          [
           "Rare?"
          ],
          [
           "great food and wine"
          ],
          [
           "Absolutely Great"
          ],
          [
           "Good steak, horrible service"
          ],
          [
           "Just excellent"
          ],
          [
           "Great steaks and wine"
          ],
          [
           "Really great snacking pizza"
          ],
          [
           "Simplify your life"
          ],
          [
           "Pizza love"
          ],
          [
           "Great Pizza"
          ],
          [
           "Very good pizza"
          ],
          [
           "Perfect place to eat well for cheap"
          ],
          [
           "A(lgarabia)mazing"
          ],
          [
           "Great Restaurant in Madrid"
          ],
          [
           "Special night for my birthday"
          ],
          [
           "excellent evening"
          ],
          [
           "Absolutely fantastic! "
          ],
          [
           "Really nice meat!"
          ],
          [
           "Best Steak Ever"
          ],
          [
           "Dinner "
          ],
          [
           "Simply Execellent"
          ],
          [
           "Amazing food"
          ],
          [
           "Accidentally stumbled on a great restaurant."
          ],
          [
           "Pretty good"
          ],
          [
           "Delicious Pizza!"
          ],
          [
           "Delicious Pizzas and Calzones in the Barrio de las Letras"
          ],
          [
           "Must go"
          ],
          [
           "A pleasant and unique experience."
          ],
          [
           "A small and cozy restaurant"
          ],
          [
           "very nice food and service"
          ],
          [
           "Fab pizza & pasta"
          ],
          [
           "Disappointing - just an average chain"
          ],
          [
           "Claustrophobic "
          ],
          [
           "Excellent"
          ],
          [
           "Half a cow"
          ],
          [
           "Fresh, delicious pizza!"
          ],
          [
           "Love it!"
          ],
          [
           "malo"
          ],
          [
           "A memorable dining experience"
          ],
          [
           "Friendly Family Run Restaurant"
          ],
          [
           "Lovely, intimate dining experience"
          ],
          [
           "Best Spartacus ever"
          ],
          [
           "Excellent service"
          ],
          [
           "Good but not over the top "
          ],
          [
           "Perfect steak and chorizo "
          ],
          [
           "Spain vacation "
          ],
          [
           "Great Place"
          ],
          [
           "Good food and service. Napkins need re-doing;-)"
          ],
          [
           "Wonderful food and service"
          ],
          [
           "YUM!"
          ],
          [
           "Great food and service"
          ],
          [
           "Great Italian find "
          ],
          [
           "Excellent Italian food in a nice atmosphere"
          ],
          [
           "Sehr empfehlenswert "
          ],
          [
           "Good value for money"
          ],
          [
           "Best meal of my trip!"
          ],
          [
           "Never thought a pasta could be tooo cheesy"
          ],
          [
           "Great restaurant "
          ],
          [
           "What a pleasant surprise!"
          ],
          [
           "Very good OVEN!"
          ],
          [
           "As expected"
          ],
          [
           "We had a truly wonderful dinner"
          ],
          [
           "Italian heaven "
          ],
          [
           "Reasonable prices, great service, excellent food"
          ],
          [
           "Amazing food and service "
          ],
          [
           "Eating in Spain"
          ],
          [
           "Perfecto "
          ],
          [
           "Excellent steak"
          ],
          [
           "Excellent steakhouse, great location"
          ],
          [
           "Delicious Pizza, Excellent Service"
          ],
          [
           "Perfect place for a quick bite "
          ],
          [
           "Impromptu good find"
          ],
          [
           "Great!"
          ],
          [
           "Terrible service, understaffed will not come back"
          ],
          [
           "Disappointingly mediocre..."
          ],
          [
           "Great Italian cuisine!"
          ],
          [
           "Family birthday lunch "
          ],
          [
           "Amazing place for Italian food"
          ],
          [
           "Horrible Service"
          ],
          [
           "Nice place"
          ],
          [
           "Great restaurant"
          ],
          [
           "Must Try "
          ],
          [
           "Delicious food"
          ],
          [
           "Delicious "
          ],
          [
           "Birthday in Spain "
          ],
          [
           "Best steak restaurant we've ever visited!!"
          ],
          [
           "THE BEST RESTAURANT IN MADRID!!"
          ],
          [
           "Dinner"
          ],
          [
           "The best"
          ],
          [
           "Excellent beef steak"
          ],
          [
           "Great Steak restaurant "
          ],
          [
           "Carnivores dream!"
          ],
          [
           "A Great Place!"
          ],
          [
           "Top quality steak"
          ],
          [
           "Authentic italian cuisine"
          ],
          [
           "Fantastic!"
          ],
          [
           "Some of the best pizza I've ever had"
          ],
          [
           "Great pizza"
          ],
          [
           "Madrid 10/22-10/27"
          ],
          [
           "Great pizzas"
          ],
          [
           "Brilliant"
          ],
          [
           "Wonderful dinner!"
          ],
          [
           "Really great food and service"
          ],
          [
           "Hit the Spot"
          ],
          [
           "Great Family Dinner"
          ],
          [
           "Great food and great service in a good looking restaurant "
          ],
          [
           "Good Argentinian restaurant "
          ],
          [
           "T-Rex's dinner "
          ],
          [
           "Best steak I’ve had!"
          ],
          [
           "Great steak! "
          ],
          [
           "Nice steaks and reasonable wine selection"
          ],
          [
           "Tenderloin!! "
          ],
          [
           "Avoid this tourist trap...total ripoff"
          ],
          [
           "Best steak ever"
          ],
          [
           "Absolutely terrible - better buy a frozen pizza!"
          ],
          [
           "The best Pizza in Madrid"
          ],
          [
           "Italian PIzza in Madrid"
          ],
          [
           "Madrid Pizza"
          ],
          [
           "Amazing!"
          ],
          [
           "Pizza done right in Spain!"
          ],
          [
           "Last night dinner"
          ],
          [
           "Best pizza ever"
          ],
          [
           "Best pizza in Madrid!! "
          ],
          [
           "Cool Pizza Spot"
          ],
          [
           "Some of the best pizza we have ever had, even in Italy"
          ],
          [
           "Best Pizza in Madrid?"
          ],
          [
           "Amazing Pizza and Lovely Staff"
          ],
          [
           "Amazing "
          ],
          [
           "They let us in outside of business hours!"
          ],
          [
           "Amazing Pizza"
          ],
          [
           "Tasty very reasonably priced"
          ],
          [
           "Excellent small restaurant"
          ],
          [
           "What great service"
          ],
          [
           "ESC 2020"
          ],
          [
           "An amazing experience"
          ],
          [
           "Excellent Food & Service in a nice place!!"
          ],
          [
           "One of the best"
          ],
          [
           "Extremely Good Pizza!"
          ],
          [
           "Great steakhouse in MADRID"
          ],
          [
           "Absolutely super place "
          ],
          [
           "Lovely Pizza"
          ],
          [
           "Great place "
          ],
          [
           "Great Slice in Madrid"
          ],
          [
           "Great little pizza place"
          ],
          [
           "Excellent pizza! Right off Anton Martin metro station!"
          ],
          [
           "Value for money"
          ],
          [
           "Fantastic Pizza and great value for money"
          ],
          [
           "Great pizza"
          ],
          [
           "Absolutely amazingggg"
          ],
          [
           "Very gooood ㅎㅎ"
          ],
          [
           "Excellent food"
          ],
          [
           "Delicious vegetarian pizza!"
          ],
          [
           "Good Steak "
          ],
          [
           "Tapas are for tourists"
          ],
          [
           "very good"
          ],
          [
           "Took us back to Buenos"
          ],
          [
           "Good steak"
          ],
          [
           "Quite expensive but goo meat"
          ],
          [
           "Awesome!"
          ],
          [
           "YUM!"
          ],
          [
           "Best pizza ever"
          ],
          [
           "Best Pizza I've Had in Madrid to Date"
          ],
          [
           "Great place"
          ],
          [
           "I love pizzateca.."
          ],
          [
           "Meat me there!"
          ],
          [
           "Excellent steaks, friendly service"
          ],
          [
           "Great place for Spanish food"
          ],
          [
           "Excellent meat !"
          ],
          [
           "5 star for steak! "
          ],
          [
           "Excellent"
          ],
          [
           "Fantastico!"
          ],
          [
           "Loved this dinner!"
          ],
          [
           "Good for simple /elegant meal - would have liked more contrast in flavors"
          ],
          [
           "Fine dining with great wines"
          ],
          [
           "Loved it, best restaurant we went to in Madrid"
          ],
          [
           "Great food, great service"
          ],
          [
           "Scrumptious "
          ],
          [
           "The Best Steak in Madrid"
          ],
          [
           "steak was divine"
          ],
          [
           "Excellent steak, service & value"
          ],
          [
           "Best pizza this side of the Mediterranean"
          ],
          [
           "They know what they do"
          ],
          [
           "Best vegan pizza!"
          ],
          [
           "Great steak!"
          ],
          [
           "Excellent Steak"
          ],
          [
           "Excellent Argentinian food"
          ],
          [
           "Perfect combo of amazing drinks and delicious food"
          ],
          [
           "Best meal in Madrid - very memorable"
          ],
          [
           "Amazing stay, best place in town !!"
          ],
          [
           "Excelent"
          ],
          [
           "Do not miss"
          ],
          [
           "a lovely place with delicious food"
          ],
          [
           "Great place with a unique menu concept"
          ],
          [
           "Wow service"
          ],
          [
           "Just delicious"
          ],
          [
           "Very good"
          ],
          [
           "A fantastic chef "
          ],
          [
           "Fantastic"
          ],
          [
           "like coming home"
          ],
          [
           "The chance that truly paid off."
          ],
          [
           "Wow - highly recommended "
          ],
          [
           "Lovely food beautifully presented."
          ],
          [
           "Originally tasty"
          ],
          [
           "Fantastic!!"
          ],
          [
           "Wonderful restaurant near Plaza Mayor"
          ],
          [
           "Fantastic Restaurant Near Plaza Major"
          ],
          [
           "What a gift!"
          ],
          [
           "yes yes yes"
          ],
          [
           "Top Two Best Meals of Our Honeymoon"
          ],
          [
           "Fabulous lunch! "
          ],
          [
           "Fantastic!"
          ],
          [
           "Our special "
          ],
          [
           "Little hidden gem! "
          ],
          [
           "Culinary orgasm "
          ],
          [
           "5 star finish to a 3 week trip"
          ],
          [
           "Thoroughly deserves all the positive reviews"
          ],
          [
           "Absoluty gorgeous"
          ],
          [
           "Tasty food with a twist"
          ],
          [
           "Terrific food and service."
          ],
          [
           "Very unique food - superb experience"
          ],
          [
           "Just 1 Word \"Amazing\""
          ],
          [
           "best pizza ever"
          ],
          [
           "Love at first sight"
          ],
          [
           "Amazing Pizza Takeout"
          ],
          [
           "Loved the pizza and the staff"
          ],
          [
           "Good pizza"
          ],
          [
           "Gorgeous, delicious, friendly AND affordable"
          ],
          [
           "Picky about Pizza?"
          ],
          [
           "Refused Service"
          ],
          [
           "So Good"
          ],
          [
           "Excellent Food & Service"
          ],
          [
           "Good stuff"
          ],
          [
           "Wow food and service!!"
          ],
          [
           "Best Pizza Dough I ever had"
          ],
          [
           "Excellent pizza"
          ],
          [
           "pretty good"
          ],
          [
           "Great pizza"
          ],
          [
           "Most friendly staff & best food of Madrid!"
          ],
          [
           "great service and great food"
          ],
          [
           "Exquisite!"
          ],
          [
           "Fun and Delicious!"
          ],
          [
           "Beautiful place"
          ],
          [
           "Excellent Madrid tapas"
          ],
          [
           "Good pizzas and lovely staff"
          ],
          [
           "Excellent pizza!!"
          ],
          [
           "Fresh Pizza"
          ],
          [
           "Great value pizzas, good service"
          ],
          [
           "Just to eat - if you have to"
          ],
          [
           "Wonderful "
          ],
          [
           "Friendly people, tasty food"
          ],
          [
           "Great eating"
          ],
          [
           "Delicioso! !"
          ],
          [
           "Excellent find"
          ],
          [
           "outstanding!"
          ],
          [
           "Good food, good wine, great service"
          ],
          [
           "Amazing Pizza"
          ],
          [
           "Fantastic"
          ],
          [
           "AMAZING everything!"
          ],
          [
           "Great Pizza!"
          ],
          [
           "Perfect pizza!"
          ],
          [
           "Perfecto!"
          ],
          [
           "Best meet in Madrid"
          ],
          [
           "Not only an excellent steak house but an excellent dining experience"
          ],
          [
           "Less than expected but still great "
          ],
          [
           "Madrid - Spain - La Cabana Argentina - Wonderful food and service"
          ],
          [
           "Pretty good steak dishes"
          ],
          [
           "Excellent food, friendly service, good armosphere"
          ],
          [
           "AMAZING PIZZA"
          ],
          [
           "Had to go back and order to more pizzas since everyone loved them so much"
          ],
          [
           "best pizza "
          ],
          [
           "Tasty Pizza, Friendly Service"
          ],
          [
           "Great Dinner in Madrid"
          ],
          [
           "Cheap, yummy, good service"
          ],
          [
           "Gooood pizzas"
          ],
          [
           "Good steaks"
          ],
          [
           "Great steaks!"
          ],
          [
           "Unprofessional"
          ],
          [
           "A very enjoyable relaxed atmosphere"
          ],
          [
           "Very good steak"
          ],
          [
           "Great Argentine Food and Wine"
          ],
          [
           "Excellent food and service"
          ],
          [
           "A gem"
          ],
          [
           "Wonderful1"
          ],
          [
           "Pizza in lieu of birthday cake"
          ],
          [
           "Authentic taste of Italy. Pizza perfection!"
          ],
          [
           "Vegan pizza experience "
          ],
          [
           "What a find !!!"
          ],
          [
           "great food"
          ],
          [
           "Small place, small menu, but everything delicious"
          ],
          [
           "Great 👌 pizza 🍕!!! "
          ],
          [
           "Excellent"
          ],
          [
           "Fake reviews, terrible pizza"
          ],
          [
           "The best Argentinian steak outside of Argentine"
          ],
          [
           "Good steak and cosy surrounding "
          ],
          [
           "Great food...great place"
          ],
          [
           "Grab a bite to eat and share"
          ],
          [
           "Good pizza- quick and easy"
          ],
          [
           "Outstanding"
          ],
          [
           "Just what we needed"
          ],
          [
           "Lovely food and good service "
          ],
          [
           "Very good"
          ],
          [
           "Most memorable meal in Madrid"
          ],
          [
           "So nice, we went back twice."
          ],
          [
           "Pizza! "
          ],
          [
           "Fresh, modern and pretty good pizza"
          ],
          [
           "The ideal restaurant! "
          ],
          [
           "Far from a tourist trap!"
          ],
          [
           "Great flavor, great service"
          ],
          [
           "Wonderful evening"
          ],
          [
           "Lovely service and good is great. Just lacking the atmosphere for 5 stars "
          ],
          [
           "Great food, lovely place."
          ],
          [
           "Family meal"
          ],
          [
           "Top quality steak "
          ],
          [
           "Great Italian restaurant"
          ],
          [
           "Wonderful Place!"
          ],
          [
           "The best!!!"
          ],
          [
           "Great pleace"
          ],
          [
           "Good place, excellent drinks "
          ],
          [
           "Wonderful Tasting Menu"
          ],
          [
           "Amazing food, perfect location, excellent service!"
          ],
          [
           "Amazing"
          ],
          [
           "First class experience "
          ],
          [
           "Simple Pleasure"
          ],
          [
           "Very good pizza"
          ],
          [
           "Family friendly "
          ],
          [
           "Excellent Meal"
          ],
          [
           "Great Restaurant"
          ],
          [
           "A nice deco Italian restaurant "
          ],
          [
           "Best steak i had in years!!"
          ],
          [
           "Best steak ever"
          ],
          [
           "The most amazing steak"
          ],
          [
           "Good food"
          ],
          [
           "Good but cheap trick and sour waitress."
          ],
          [
           "Fantastic!"
          ],
          [
           "Michelin Take Note"
          ],
          [
           "Fabulous dinner "
          ],
          [
           "Fabulous!!!"
          ],
          [
           "Amazing"
          ],
          [
           "Great Madrid restaurant "
          ],
          [
           "Looks better than their tastes"
          ],
          [
           "Lovely! "
          ],
          [
           "Amazing food, great service. Def worth a visit 👍"
          ],
          [
           "Have not found a really good Italian restaurant in Madrid"
          ],
          [
           "Great pizza and atmosphere"
          ],
          [
           "Great Moderate Priced Restaurant for Visitors"
          ],
          [
           "Good pizza, burrata"
          ],
          [
           "Great Italian food."
          ],
          [
           "Great Food and Service"
          ],
          [
           "Excellent food and service"
          ],
          [
           "Fantastic taste with great ingredients!"
          ],
          [
           "Best service and amazing food"
          ],
          [
           "Love the food"
          ],
          [
           "Exellent"
          ],
          [
           "Excellent meet "
          ],
          [
           "great restaurant with super staff"
          ],
          [
           "Suddenly and sooooo delicious"
          ],
          [
           "1st class steaks and friendly atmosphere"
          ],
          [
           "Great Steak"
          ],
          [
           "Succulant, délicieux"
          ],
          [
           "Lovely"
          ],
          [
           "Great Christmas"
          ],
          [
           "Not as vegetarian friendly as they say"
          ],
          [
           "Superb meal"
          ],
          [
           "Excelente "
          ],
          [
           "Great Food"
          ],
          [
           "Excellent"
          ],
          [
           "Best Fillet I have ever eaten"
          ],
          [
           "Amazing steak, great service"
          ],
          [
           "Don’t miss this little pearl"
          ],
          [
           "Wonderful discovery"
          ],
          [
           "An Oasis in a Desert of Mediocrity"
          ],
          [
           "Fresh and flavorful"
          ],
          [
           "Yum!"
          ],
          [
           "We'll be back for for sure"
          ],
          [
           "Great food and service, convenient location"
          ],
          [
           "Great food"
          ],
          [
           "Fantastic food!"
          ],
          [
           "It was ok"
          ],
          [
           "Best steak I’ve ever had. "
          ],
          [
           "Good but not great"
          ],
          [
           "Delicious Meat"
          ],
          [
           "Simply amazing!"
          ],
          [
           "Very good restaurant"
          ],
          [
           "Fantastic steak!"
          ],
          [
           "Lovely meal, booking advisable"
          ],
          [
           "Average"
          ],
          [
           "Excellent from start to finish"
          ],
          [
           "Nice food"
          ],
          [
           "Very nice atmosphere "
          ],
          [
           "Excellent Restaurant!"
          ],
          [
           "Most Amazing Steaks."
          ],
          [
           "Explicit meat"
          ],
          [
           "Superb restaurant with good food"
          ],
          [
           "Superb!!"
          ],
          [
           "Best Carne we had in Spain on vaca last week"
          ],
          [
           "Great grill but expensive "
          ],
          [
           "Simple yet honest and delicious"
          ],
          [
           "great food great service"
          ],
          [
           "Best Steak we’ve ever had, great service"
          ],
          [
           "Undercooked..."
          ],
          [
           "Average"
          ],
          [
           "Met expectations "
          ],
          [
           "Excellent"
          ],
          [
           "Yummy late night dinner"
          ],
          [
           "Thank you TripAdvisor contributors....."
          ],
          [
           "Great salads and starters"
          ],
          [
           "Great Steak!"
          ],
          [
           "THE BEST"
          ],
          [
           "One of the best steaks !! "
          ],
          [
           "Exceptional!"
          ],
          [
           "amazing"
          ],
          [
           "Perfect Stake"
          ],
          [
           "Good food and good service "
          ],
          [
           "Cozy restaurant"
          ],
          [
           "Neighborhood Gem"
          ],
          [
           "Amazing restaurant. Food and service outstanding"
          ],
          [
           "맛있고 신선한 치즈를 먹고 싶다면!(do you want fresh cheese?)"
          ],
          [
           "Great lunch"
          ],
          [
           "The best tapas !"
          ],
          [
           "Great dinner and evening"
          ],
          [
           "Very good!"
          ],
          [
           "Mixed feelings"
          ],
          [
           "Tranquilidad en Atoche / Repose in Atoche"
          ],
          [
           "So overrated! "
          ],
          [
           "Average restaurant."
          ],
          [
           "Sooo good"
          ],
          [
           "Especially meatlovers welcome! "
          ],
          [
           "Perfect!!!"
          ],
          [
           "unexpected quality in the Atocha area"
          ],
          [
           "Excellent dinner"
          ],
          [
           "Order the bread!"
          ],
          [
           "Great food, fantastic"
          ],
          [
           "Oh So Good!!!"
          ],
          [
           "Tapas terrific"
          ],
          [
           "RUSTIC AND SUPERB"
          ],
          [
           "Best tapas in Spain"
          ],
          [
           "Very-very delicious"
          ],
          [
           "A Decent Reasonably Priced Italian"
          ],
          [
           "Great service fantastic atmosphere they make me feel at home "
          ],
          [
           "A true neighborhood jewel"
          ],
          [
           "Superb!"
          ],
          [
           "Absolutly great food for extremly fair prices"
          ],
          [
           "Excellent"
          ],
          [
           "Great Italian near Reina Sofia!"
          ],
          [
           "Excellent "
          ],
          [
           "Excellent for family dinner"
          ],
          [
           "So good, we ate here twice!"
          ],
          [
           "Quality food, reasonable prices..."
          ],
          [
           "Fantastic find "
          ],
          [
           "Fantastic Italian food!"
          ],
          [
           "Good Italian food"
          ],
          [
           "Lovely atmosphere and excellent food"
          ],
          [
           "Fantastic pizza"
          ],
          [
           "Excellent tapas restaurant "
          ],
          [
           "I really recommend it!"
          ],
          [
           "Great food but lacked ambience "
          ],
          [
           "AMAZING ITALIAN !!! "
          ],
          [
           "the best italian restaurant "
          ],
          [
           "A very good experience"
          ],
          [
           "Excellent food and service"
          ],
          [
           "Meal out with friends"
          ],
          [
           "Good lunch"
          ],
          [
           "Nicely discovered!"
          ],
          [
           "Hearty snack"
          ],
          [
           "Perfect Pasta"
          ],
          [
           "A must for Meat lovers"
          ],
          [
           "Suprisingly delicious!"
          ],
          [
           "Killer steaks!"
          ],
          [
           "Best steak I've ever had"
          ],
          [
           "Amazing"
          ],
          [
           "Best Steak in Town?"
          ],
          [
           "\"Must Go\" in Madrid"
          ],
          [
           "Good pizza"
          ],
          [
           "Delicious!"
          ],
          [
           "Cheap but tasty pizza slices"
          ],
          [
           "Delicious Pizza - Great host"
          ],
          [
           "Pretty Good Pizza and Cheap, Not Italy"
          ],
          [
           "Hidden gem"
          ],
          [
           "fantastic discovery!"
          ],
          [
           "Great sangria."
          ],
          [
           "Wonderful food and fantastic experience"
          ],
          [
           "fantastic! amazing food"
          ],
          [
           "Good food, not so good atmosphere"
          ],
          [
           "Excellent tapas restaurant "
          ],
          [
           "Worth a trip"
          ],
          [
           "Lovely food and great service"
          ],
          [
           "Excellent"
          ],
          [
           "Brilliant!"
          ],
          [
           "Fantastic"
          ],
          [
           "Near Michelin class food at local prices"
          ],
          [
           "Great find! Easy & creative "
          ],
          [
           "Awesome"
          ],
          [
           "Simple place. Average food, nice wine. Recommended.. "
          ],
          [
           "Worth a visit"
          ],
          [
           "Our favourite taberna in Madrid"
          ],
          [
           "Good quality food in a casual setting"
          ],
          [
           "Lovely "
          ],
          [
           "Delicious!"
          ],
          [
           "Excellent service and Food"
          ],
          [
           "Tasty and cheap"
          ],
          [
           "Great experience"
          ],
          [
           "Excellent!"
          ],
          [
           "Top notch."
          ],
          [
           "Lovely"
          ],
          [
           "Cool Gastrobar "
          ],
          [
           "Excellent food and very friendly stuff"
          ],
          [
           "Great!"
          ],
          [
           "Very interesting experience"
          ],
          [
           "Best food on trip"
          ],
          [
           "You must eat here!!"
          ],
          [
           "Beautiful "
          ],
          [
           "Lovely foods and great price "
          ],
          [
           "Totally worth it! "
          ],
          [
           "Fabulous experience"
          ],
          [
           "Nothing special! "
          ],
          [
           "Food: 3 1/2 *, wine: 4 *"
          ],
          [
           "Excellent food - Tasting menu"
          ],
          [
           "Great find!"
          ],
          [
           "Awesome Degustation"
          ],
          [
           "Nice place not touristy "
          ],
          [
           "Great food, service and ambiance "
          ],
          [
           "A delightful dining adventure near the Plaza Mayor"
          ],
          [
           "Tap out - of tapas"
          ],
          [
           "Great Discovery"
          ],
          [
           "Cook is there at any time"
          ],
          [
           "Exquisite tapas in a very friendly place"
          ],
          [
           "Wowwww"
          ],
          [
           "Get the tasting menu!"
          ],
          [
           "Amazing Resturant!"
          ],
          [
           "Strongly Recommend the 7-Course Tasting Manu"
          ],
          [
           "Highly reccomendable!"
          ],
          [
           "Great food, great service"
          ],
          [
           "Interesting and affordable tasting menu"
          ],
          [
           "Excellent reastaurant near Plaza Mayor"
          ],
          [
           "Best meal of the year - so far - Plaza Mayor"
          ],
          [
           "Incredible!"
          ],
          [
           "An Oasis Of Calm"
          ],
          [
           "If you want to be EXCELLENT, try being consistently GOOD first!"
          ],
          [
           "2 thumbs up !!!!!!"
          ],
          [
           "Great New Find"
          ],
          [
           "A very generous and tasty meny"
          ],
          [
           "Superb dinner"
          ],
          [
           "Excellent dinner!"
          ],
          [
           "Vert good tasting menu"
          ],
          [
           "Really nice dinner "
          ],
          [
           "Fantastic! And great value!"
          ],
          [
           "Quaint Restaurant - Delicious Food"
          ],
          [
           "What a treat!!"
          ],
          [
           "Fantastic food"
          ],
          [
           "Wow wow WOW!"
          ],
          [
           "Just go...."
          ],
          [
           "Wow - the food!"
          ],
          [
           "Another Great Meal"
          ],
          [
           "The Best Restaurant in Madrid"
          ],
          [
           "Excellent dinner"
          ],
          [
           "An oasis in desert of simple low grade food"
          ],
          [
           "Food slightly lacking but incredible experience nonetheless"
          ],
          [
           "Wow! Do not miss it! "
          ],
          [
           "Superb Restaurant Where the Locals Eat"
          ],
          [
           "Fab food"
          ],
          [
           "Great value 5 star dining"
          ],
          [
           "Fantastic place "
          ],
          [
           "Amazing tasting menu adapted to be gluten free"
          ],
          [
           "Every detail impeccable! "
          ],
          [
           "The perfect dinner"
          ],
          [
           "What a tomato! "
          ],
          [
           "Great food"
          ],
          [
           "Must go"
          ],
          [
           "Excellent Service and Food"
          ],
          [
           "Great place to eat"
          ],
          [
           "Just divine"
          ],
          [
           "Best Dinner of Vacation"
          ],
          [
           "Best meal in Spain."
          ],
          [
           "Excellent choice"
          ],
          [
           "Excellent Meal"
          ],
          [
           "Favorite meal during my tour of Spain"
          ],
          [
           "Good and friendly "
          ],
          [
           "Good Food & Service"
          ],
          [
           "Excellent meal + Excellent value"
          ],
          [
           "Great food and personal service for a very reasonable price"
          ],
          [
           "One of the best meals anywhere!"
          ],
          [
           "WOW - Delicioso! And at such great value"
          ],
          [
           "Amazing food for a great price"
          ],
          [
           "Another checkmark to the game of life"
          ],
          [
           "A great dinner - food, service and setting"
          ],
          [
           "Our favorite restaurant in Madrid"
          ],
          [
           "Incredible "
          ],
          [
           "Tapas with a difference "
          ],
          [
           "A hidden gem"
          ],
          [
           "Food to die for...!"
          ],
          [
           "Breaking the Rules"
          ],
          [
           "Excelent taste and price"
          ],
          [
           "It's true"
          ],
          [
           "Innovative Tapas at its best"
          ],
          [
           "What a gem......highly recommend this restaurant "
          ],
          [
           "Great tapas with flare."
          ],
          [
           "Excellent food and service"
          ],
          [
           "Delicious meal!"
          ],
          [
           "Last night in Madrid"
          ],
          [
           "Amazing place "
          ],
          [
           "Must Try After Days of Tappas"
          ],
          [
           "So very pleased!"
          ],
          [
           "Excellent Tapas"
          ],
          [
           "Holy tuna Batman !!! "
          ],
          [
           "Great small Taberna"
          ],
          [
           "Outstanding Tapas"
          ],
          [
           "Very nice tapas place!"
          ],
          [
           "Amazing - Deserves every bit of praise."
          ],
          [
           "Loved it!"
          ],
          [
           "A great food experience "
          ],
          [
           "Incredible !!"
          ],
          [
           "A real treat moments from P. Major "
          ],
          [
           "Save room for deserts...."
          ],
          [
           "GREAT FOOD AND SERVICE"
          ],
          [
           "Awesome little place!"
          ],
          [
           "Amazing amazing amazing "
          ],
          [
           "The best tapas!"
          ],
          [
           "A little gem- best meal in Spain so far!"
          ],
          [
           "A little different"
          ],
          [
           "Wonderful Find!"
          ],
          [
           "Great Food, Service & Environment"
          ],
          [
           "Great find!"
          ],
          [
           "Bright gem within a block of Plaza Mayor"
          ],
          [
           "Very tasty dinner"
          ],
          [
           "Delicious and affordable!"
          ],
          [
           "Amazing!!!!!!!!!!!!!!!"
          ],
          [
           "Awesome"
          ],
          [
           "Simply Delicious! "
          ],
          [
           "Excellent flavours"
          ],
          [
           "Honeymoon Dinner"
          ],
          [
           "Taberna Origen"
          ],
          [
           "Modern Take on Spanish Classics"
          ],
          [
           "Faultless"
          ],
          [
           "Great tapas"
          ],
          [
           "Excellent food"
          ],
          [
           "Great food"
          ],
          [
           "Just what we was looking for!!!"
          ],
          [
           "A Pleasure Palace superbly run!"
          ],
          [
           "Very good, last minute decision"
          ],
          [
           "Dear Madrid..."
          ],
          [
           "Wonderful evening "
          ],
          [
           "Special and very good"
          ],
          [
           "Creative Menu"
          ],
          [
           "Beautiful "
          ],
          [
           "GREAT food, excellent service, good VFM"
          ],
          [
           "Degustation"
          ],
          [
           "Awesome"
          ],
          [
           "Everything delicious!"
          ],
          [
           "Tapas is Excellent Value"
          ],
          [
           "Accommodating and delicious"
          ],
          [
           "Best Gnocci in town"
          ],
          [
           "Perfect food, perfect location "
          ],
          [
           "¿Can 1 manzana ruin the bunch? "
          ],
          [
           "Excellent option..."
          ],
          [
           "Oven Fuencarral - Atocha, a great place to eat!"
          ],
          [
           "Great place to eat"
          ],
          [
           "👍🏿"
          ],
          [
           "first time"
          ],
          [
           "Nice atmosphere "
          ],
          [
           "dissapointed"
          ],
          [
           "Great food and service"
          ],
          [
           "Wonderful pizza and pasta"
          ],
          [
           "Very good Italian restaurant"
          ],
          [
           "Great place, taste & service!"
          ],
          [
           "Great evening"
          ],
          [
           "Very good steak "
          ],
          [
           "good food, ok service"
          ],
          [
           "Good food and great service "
          ],
          [
           "Superb"
          ],
          [
           "Place to be "
          ],
          [
           "Fabulous Sone Baked Pizza"
          ],
          [
           "Oven Atocha "
          ],
          [
           "Lovely pizza"
          ],
          [
           "Amazing pizza and top notch customer service!"
          ],
          [
           "Best pizza ever!!! "
          ],
          [
           "Delicious burratas and top service"
          ],
          [
           "Nice restaurant"
          ],
          [
           "Every time we’re in town!"
          ],
          [
           "Delicious Argentina steaks"
          ],
          [
           "Beautiful steak in beautiful surroundings"
          ],
          [
           "Nearly the best tenderloin I ever had"
          ],
          [
           "Lovely lunch and comfy seating "
          ],
          [
           "Lively place with very good and reasonably priced food"
          ],
          [
           "Best steak ever."
          ],
          [
           "Superb Food & Service"
          ],
          [
           "Lovely restaurant, fabulous meal"
          ],
          [
           "Great atmosphere and sublime steak"
          ],
          [
           "Excellent-close to Museo Reina Sofia"
          ],
          [
           "Very good restaurant"
          ],
          [
           "Very good Pizza in Madrid"
          ],
          [
           "Reasonable food and service near Atocha Station"
          ],
          [
           "Nice & easy lunch!"
          ],
          [
           "Amazing pizza"
          ],
          [
           "Steak eaters paradise"
          ],
          [
           "Well worthy of the rating"
          ],
          [
           "Pretentious"
          ],
          [
           "nothing special"
          ],
          [
           "Very good steak house and friendly service. "
          ],
          [
           "Decidedly average"
          ],
          [
           "Poor costumer service"
          ],
          [
           "Great Tapas"
          ],
          [
           "Best restaurant in the neighborhood "
          ],
          [
           "Mejor taberna Best restaurant Migliore posto"
          ],
          [
           "Decent pasta but a bit devoid of atmosphere"
          ],
          [
           "Excellent meal"
          ],
          [
           "Top!"
          ],
          [
           "Just wow!"
          ],
          [
           "Excellent steak house"
          ],
          [
           "Best Argentinian Steak in Madrid"
          ],
          [
           "DELICIOSO!!!  "
          ],
          [
           "Great Steakhouse"
          ],
          [
           "Meat lovers the place 4 you"
          ],
          [
           "Certainly deserving of its high rating"
          ],
          [
           "Didn't disappoint"
          ],
          [
           "Late lunch"
          ],
          [
           "Great tip"
          ],
          [
           "Great place! "
          ],
          [
           "Overrated!"
          ],
          [
           "Steak quality..wonderful "
          ],
          [
           "Good quality food"
          ],
          [
           "Awesome Aberdeen Angus steak!"
          ],
          [
           "Fantastic experience "
          ],
          [
           "Best steak in a while"
          ],
          [
           "Perfect steak"
          ],
          [
           "Amazing Tapas Bar"
          ],
          [
           "Fabulous tapas and service"
          ],
          [
           "Very good tapas"
          ],
          [
           "Divine food and service"
          ],
          [
           "Relaxed lunch, an amazing introduction to Madrid"
          ],
          [
           "Great lunch!!!"
          ],
          [
           "Delicious!!!!"
          ],
          [
           "Amazing Food!"
          ],
          [
           "Inspired food"
          ],
          [
           "Push the door!"
          ],
          [
           "Super shot"
          ],
          [
           "Very good food"
          ],
          [
           "Undoubtedly recommended "
          ],
          [
           "Near the Hotel"
          ],
          [
           "Tasty food to share"
          ],
          [
           "Beyond expectations "
          ],
          [
           "Hidden Gem in Madrid "
          ],
          [
           "Very nice evening "
          ],
          [
           "Best Argentinian Resturant outside Argentina . Punto !"
          ],
          [
           "Awesome steak!"
          ],
          [
           "A carnivore's dream!!"
          ],
          [
           "Pizza and risotto near Retiro and Reina Sofia"
          ],
          [
           "Nice atmosphere and the mozzarella is a must- try"
          ],
          [
           "A go-to restaurant in Madrid"
          ],
          [
           "Great steak, great service"
          ],
          [
           "Quite simply the best. Steak. Ever!"
          ],
          [
           "Excellent food"
          ],
          [
           "Superb! "
          ],
          [
           "Best lunch ever!"
          ],
          [
           "Fantastic Food!"
          ],
          [
           "Delicious interesting meal"
          ],
          [
           "Fantastic food"
          ],
          [
           "What a find off the beaten track but close enough to the bus route"
          ],
          [
           "Amazing Food, Amazing Service "
          ],
          [
           "Relaxed evening out"
          ],
          [
           "Late lunch after visiting sites on very hot day"
          ],
          [
           "Every dish is a surprise"
          ],
          [
           "Modern and delicious food"
          ],
          [
           "Nothing special"
          ],
          [
           "One of the best restaurants we visited in Madrid"
          ],
          [
           "Excellent food, good value"
          ],
          [
           "Wow!! What a place"
          ],
          [
           "No service very small meal expensive"
          ],
          [
           "Good and different"
          ],
          [
           "well deserved visit!"
          ],
          [
           "most delicious tapas we had in Madrid"
          ],
          [
           "Amazing service and even better food!"
          ],
          [
           "Fantastic "
          ],
          [
           "Can’t be better"
          ],
          [
           "I didn’t think it could get better, but it did"
          ],
          [
           "What a Fantastic Experience"
          ],
          [
           "Quaint, Romantic Spot for Dinner"
          ],
          [
           "Interesting food and excellent hospitality!"
          ],
          [
           "OMG Food glorious Food"
          ],
          [
           "Ok tapas"
          ],
          [
           "Great tapas, great price, friendly staff"
          ],
          [
           "Well worth a visit"
          ],
          [
           "Fantastic"
          ],
          [
           "Modern vibe.....great slider"
          ],
          [
           "Best tapas in Madrid"
          ],
          [
           "Wow"
          ],
          [
           "Fantastic"
          ],
          [
           "Hidden Gem"
          ],
          [
           "Wonderful place"
          ],
          [
           "Great Place for couples and singles"
          ],
          [
           "Some of the best set of tastes in along time"
          ],
          [
           "Well..."
          ],
          [
           "Food is no more than ok. Boring place."
          ],
          [
           "Not as expected, but pretty decent foods & drinks"
          ],
          [
           "Don't bother"
          ],
          [
           "Great place"
          ],
          [
           "Excellent Tapas"
          ],
          [
           "Very different tapas!"
          ],
          [
           "Best Meal in Madrid"
          ],
          [
           "Scrumptuously updated take on Tapas and Spanish food"
          ],
          [
           "Little English, Great Adventuresome Food"
          ],
          [
           "Yum yum is all I can say!"
          ],
          [
           "Stop reading and just go there."
          ],
          [
           "Incredible"
          ],
          [
           "Wow "
          ],
          [
           "Tapas lunch"
          ],
          [
           "Best tapas we had in Spain"
          ],
          [
           "Classy restaurant"
          ],
          [
           "Lovely restaurant with excellent food and friendly service.😍"
          ],
          [
           "A wonderful restaurant for a truly amazing culinary experience."
          ],
          [
           "Amazing!!!!"
          ],
          [
           "Nice find"
          ],
          [
           "Not impressed"
          ],
          [
           "GREAT RESTAURANT NEAR PLAZA MAYOR IN MADRID"
          ],
          [
           "Deserving of its reputation."
          ],
          [
           "good but expensive"
          ],
          [
           "Fantastic night!"
          ],
          [
           "Nice restaurant in a great location"
          ],
          [
           "Excellent"
          ],
          [
           "One word: amazing"
          ],
          [
           "Delicious tapas in a nondescript location. Go here!"
          ],
          [
           "Each tapas a work of art and delicious"
          ],
          [
           "Great food in Madrid!"
          ],
          [
           "Top 5 meals in the last year"
          ],
          [
           "Unforgettable cuisine in an authentic location"
          ],
          [
           "Fantastic!"
          ],
          [
           "Unusual but very good and fun food"
          ],
          [
           "Spain's Food is Exquisite."
          ],
          [
           "Creative Menu"
          ],
          [
           "Best meal in Madrid!!!"
          ],
          [
           "From the origin to the taste"
          ],
          [
           "very good restaurant"
          ],
          [
           "Fusion tapas. Superb. Don't leave Madrid without a visit here!"
          ],
          [
           "Top restaurant!"
          ],
          [
           "Strongly recommended"
          ],
          [
           "Lovely meal"
          ],
          [
           "Excellent food, service and location"
          ],
          [
           "A lovely evening"
          ],
          [
           "Wonderful food, must try place!"
          ],
          [
           "Fabulous!"
          ],
          [
           "A Good Experience"
          ],
          [
           "Best lamb ever!"
          ],
          [
           "Great evening"
          ],
          [
           "Metro Bistro - Fabulous"
          ],
          [
           "Delicious Food and Good ambience"
          ],
          [
           "Gastronomic experience"
          ],
          [
           "Great eel starter"
          ],
          [
           "Delicious food and kind service"
          ],
          [
           "Creative Spanish food "
          ],
          [
           "Very tasty alternative to greasy Plaza Mayor"
          ],
          [
           "Great food/friendly service"
          ],
          [
           "Great Atmosphere and Lovely Food"
          ],
          [
           "Fabulous find!"
          ],
          [
           "Great Find for Tapas"
          ],
          [
           "Lovely food and service"
          ],
          [
           "What a discovery!"
          ],
          [
           "Best meal in Madrid"
          ],
          [
           "Best Lunch in Madrid"
          ],
          [
           "Superb steak restaurant"
          ],
          [
           "Amazing experience"
          ],
          [
           "Fantastic food! "
          ],
          [
           "nice place to eat"
          ],
          [
           "Go there!"
          ],
          [
           "Excellent "
          ],
          [
           "Good quality pizzas, attentive wait service"
          ],
          [
           "A little different"
          ],
          [
           "Good little find"
          ],
          [
           "Best tapas, no question"
          ],
          [
           "Recommended steak "
          ],
          [
           "Great Steaks and Wine, Great Service!"
          ],
          [
           "Overrated and overpriced! Don't waste your time or money"
          ],
          [
           "Red Meat Specialists."
          ],
          [
           "Great restaurant"
          ],
          [
           "Excellent meat, cool atmosphere "
          ],
          [
           "Excellent service - even better food"
          ],
          [
           "Heaven on earth. "
          ],
          [
           "Very nice"
          ],
          [
           "Lovely dinner"
          ],
          [
           "Excellent food and service!"
          ],
          [
           "Excellent service and the dinner was amazing!"
          ],
          [
           "Awsome"
          ],
          [
           "Fantastic food at fabulous prices "
          ],
          [
           "Vacation"
          ],
          [
           "Great!!!"
          ],
          [
           "Incredible!!! "
          ],
          [
           "Amazing Tapas"
          ],
          [
           "Inventive Food..."
          ],
          [
           "Nice dinner"
          ],
          [
           "Excellent restaurant, creative food,, service, decoration and the price is reasonable"
          ],
          [
           "very good food but not the place for a quite conversation."
          ],
          [
           "Good to great!"
          ],
          [
           "Good food, great service"
          ],
          [
           "Lovely modern restaurant, excellent quality food"
          ],
          [
           "We enjoyed our quiet meal"
          ],
          [
           "Nouveau Spanish Cuisine...in the heart of Madrid"
          ],
          [
           "Best Meal in Madrid"
          ],
          [
           "El Clasico !"
          ],
          [
           "High Quality Food"
          ],
          [
           "Great Surprise"
          ],
          [
           "Delicious thin crust pizza, attentive service"
          ],
          [
           "Real food, good service, wonderful atmosphere "
          ],
          [
           "Wonderful staff & food "
          ],
          [
           "Great place to eat after a museum!"
          ],
          [
           "Lovely restaurant"
          ],
          [
           "Good value in trendy surroundings"
          ],
          [
           "Great food, poor ambience"
          ],
          [
           "Great food"
          ],
          [
           "Pizza near Prado"
          ],
          [
           "End of vacation dinner"
          ],
          [
           "Wonderful food and atmosphere "
          ],
          [
           "Great steak"
          ],
          [
           "Beautiful meal"
          ],
          [
           "Best steak of my life yes...but best baked potato too!"
          ],
          [
           "A real treat!"
          ],
          [
           "Real good and nice priced"
          ],
          [
           "Great Food near Plaza Mayor"
          ],
          [
           "Avacado Ice Cream"
          ],
          [
           "Excellent lunch!!!"
          ],
          [
           "Sumptous Tapas, Choco volcano/lava cake"
          ],
          [
           "Excellent and imaginative menu, great service!"
          ],
          [
           "Great!"
          ],
          [
           "Amazing find"
          ],
          [
           "Amazing"
          ],
          [
           "Good food and drinks"
          ],
          [
           "Excellent Butterfish"
          ],
          [
           "Great Food, Staff and location"
          ],
          [
           "Excellent food!"
          ],
          [
           "Lovely food and decor"
          ],
          [
           "Excellent Italian food."
          ],
          [
           "delicious!!"
          ],
          [
           "Fantastic food service & ambience "
          ],
          [
           "One of the best, not to miss."
          ],
          [
           "Absolutely wonderful!"
          ],
          [
           "Fantastic!"
          ],
          [
           "We went to this Restaurant"
          ],
          [
           "Great find"
          ],
          [
           "Very good! "
          ],
          [
           "Delicious!!"
          ],
          [
           "Nice and cosy "
          ],
          [
           "Great steaks in Madrid"
          ],
          [
           "Spectacular Group Meal"
          ],
          [
           "Brilliant!"
          ],
          [
           "Best surprise"
          ],
          [
           "Good meats and salads! "
          ],
          [
           "Lunch"
          ],
          [
           "Evening Meal"
          ],
          [
           "Disappointing Dinner"
          ],
          [
           "Best restaurant in Madrid!"
          ],
          [
           "Mediocre at best"
          ],
          [
           "Italy in Spain!"
          ],
          [
           "Perfect restaurant near Reina Museum"
          ],
          [
           "Good (vegetarian) pizza"
          ],
          [
           "Groups near the Train Station"
          ],
          [
           "Great food and excellent service!"
          ],
          [
           "Top Place for Argentinian Meat!"
          ],
          [
           "Simply the best"
          ],
          [
           "Not let down in any way"
          ],
          [
           "anniversary meal ❣️"
          ],
          [
           "Superb Steak"
          ],
          [
           "Steak in Madrid"
          ],
          [
           "Safe bet. "
          ],
          [
           "Probably in the Top 10 best Steaks I have Eaten"
          ],
          [
           "Delicious Steak with Peppercorn"
          ],
          [
           "Great Restaurant"
          ],
          [
           "Never disappoints "
          ],
          [
           "Buenos Aires in Madrid"
          ],
          [
           "A brilliant, welcoming place."
          ],
          [
           "Brilliant bar/ restaurant"
          ],
          [
           "Authentic"
          ],
          [
           "A Neighborhood Place"
          ],
          [
           "Lovely luscious lunch"
          ],
          [
           "Fantastic place!"
          ],
          [
           "Great dinner"
          ],
          [
           "Arrived at 3:00 p.m. for lunch"
          ],
          [
           "Excellent meal"
          ],
          [
           "Excellent restaurant"
          ],
          [
           "Hidden Treasure in Barajas"
          ],
          [
           "Hidden Gem in Barajas "
          ],
          [
           "Meat Feast"
          ],
          [
           "Meat Love"
          ],
          [
           "Great restuarant!"
          ],
          [
           "very good authentic Argentina style"
          ],
          [
           "Argentinian  comme il faut"
          ],
          [
           "Great steak!"
          ],
          [
           "Best burrata and jamon infusion "
          ],
          [
           "Super Nice Food and Service by Emilo"
          ],
          [
           "Really recommended!"
          ],
          [
           "Fast service, great food"
          ],
          [
           "Excellent service! Great food!"
          ],
          [
           "Easy dinner in Madrid"
          ],
          [
           "Great food."
          ],
          [
           "Your taste buds will dance!! "
          ],
          [
           "Very tasty pizza "
          ],
          [
           "Great steak "
          ],
          [
           "The best restaurant!"
          ],
          [
           "Fantastic steak – a great taste of Argentina in Spain"
          ],
          [
           "Great steaks"
          ],
          [
           "the best Argentinian Restaurant in Madrid!!"
          ],
          [
           "Authentic Argentinean restaurant."
          ],
          [
           "Worth searching out!"
          ],
          [
           "Feeling like ratatouille!!"
          ],
          [
           "Excellent local restaurant"
          ],
          [
           "Unbelievably good - beautiful steak!"
          ],
          [
           "Dinner "
          ],
          [
           "Great change of pace from Spanish cuisine"
          ],
          [
           "Great food...with friendly staff"
          ],
          [
           "Delicious"
          ],
          [
           "Fantastic Food"
          ],
          [
           "Birthday in madrid"
          ],
          [
           "Fine restaurant Tucked away"
          ],
          [
           "Excellent food and really nice staff"
          ],
          [
           "Amazing Dinner"
          ],
          [
           "Yes, eating a hamburger can constitute as a religious experience"
          ],
          [
           "Excellent surprise find!"
          ],
          [
           "Great craft beer bar"
          ],
          [
           "Great Burgers "
          ],
          [
           "Best Boutique Burger Joint in Madrid"
          ],
          [
           "Top guacamole"
          ],
          [
           "Excellent Hamburgers!!"
          ],
          [
           "Great local beers, serve yourself"
          ],
          [
           "Superb craft beer bar. "
          ],
          [
           "Very nice bar"
          ],
          [
           "Craft beer place that really hit the spot"
          ],
          [
           "Great Craft beer bar"
          ],
          [
           "Muy Recomendable - Highly Recommended!"
          ],
          [
           "a MUST of Malasaña"
          ],
          [
           "Great place"
          ],
          [
           "Friendly place with great beers and WIFI"
          ],
          [
           "Nice meal"
          ],
          [
           "once again great!! yummy"
          ],
          [
           "So good, we shared all plates"
          ],
          [
           "Last light in Madrid"
          ],
          [
           "Mussels so good we ordered them twice!"
          ],
          [
           "Terrible sevice"
          ],
          [
           "Very Surprising"
          ],
          [
           "Superb"
          ],
          [
           "Good food fast"
          ],
          [
           "Great experienxe"
          ],
          [
           "Excellent dinner"
          ],
          [
           "Dinner"
          ],
          [
           "Authentically Argentinian! Delicious meat and great service!"
          ],
          [
           "Simply Lovely !!!"
          ],
          [
           "Finally a chef that takes cooking serious"
          ],
          [
           "Friendly staff, great food. "
          ],
          [
           "Wonderful local Taberna."
          ],
          [
           "Everything excellent!"
          ],
          [
           "Excellent restaurant"
          ],
          [
           "Great little gem"
          ],
          [
           "Absolutely wonderful"
          ],
          [
           "Good proper food"
          ],
          [
           "Lunch after Museum Visit! Excellent!!!!"
          ],
          [
           "Amazing!!"
          ],
          [
           "Great spot for quick food near Reina Sofia"
          ],
          [
           "Lovely spot for lunch (or dinner)"
          ],
          [
           "Nice Italian restaurant "
          ],
          [
           "Sometimes you just need a change"
          ],
          [
           "Dinner with kids"
          ],
          [
           "Delicious Italian food "
          ],
          [
           "Good Italian Restaurant"
          ],
          [
           "Poor Service and Average Food - No gluten free options"
          ],
          [
           "Excellent dinner and even better staff"
          ],
          [
           "Try the tasting menu"
          ],
          [
           "Unbelievable in every respect"
          ],
          [
           "Great food, smiling staff"
          ],
          [
           "Innovative Food - Impeccable Service - Reasonable Price"
          ],
          [
           "Fantastic!"
          ],
          [
           "Wonderful"
          ],
          [
           "Top"
          ],
          [
           "Lunch"
          ],
          [
           "Like at HOME"
          ],
          [
           "Great food and service"
          ],
          [
           "Best tapas in Barajas!!"
          ],
          [
           "Delicious !!!"
          ],
          [
           "Live Grill Tasty Meat"
          ],
          [
           "Lousy if your a vegi!"
          ],
          [
           "Must try Solomillo"
          ],
          [
           "Great food, great atmosphere! Well worth the price "
          ],
          [
           "Good place "
          ],
          [
           "Superb "
          ],
          [
           "Best steak we have tasted for a long time "
          ],
          [
           "Argentine Steakhouse in Madrid"
          ],
          [
           "The best steak in Madrid for sure "
          ],
          [
           "It’s all about the meat"
          ],
          [
           "Decent steak, service below average"
          ],
          [
           "A small gem near Madrid Airport"
          ],
          [
           "Absolutely fantastic "
          ],
          [
           "Increble"
          ],
          [
           "Perfect"
          ],
          [
           "TripAdvisor was right. This is worthy of praise!"
          ],
          [
           "Delicious "
          ],
          [
           "Not recommend at all"
          ],
          [
           "Friendly staff but not the best food "
          ],
          [
           "Number One Restaurant in Madrid"
          ],
          [
           "Good place. Good food. Correct prices."
          ],
          [
           "Very nice, authentic Italian food"
          ],
          [
           "Really good Italian quality "
          ],
          [
           "Dinner."
          ],
          [
           "A food oasis in Madrid!"
          ],
          [
           "A foodie delight"
          ],
          [
           "Good Steak, great starters"
          ],
          [
           "Absolute great restaurant to visit when you are in Madrid...!!"
          ],
          [
           "great service -- great steaks -- great sauces"
          ],
          [
           "Argentine meat...oh baby"
          ],
          [
           "Fantastic steaks!"
          ],
          [
           "Nice enough "
          ],
          [
           "Tasting Menu"
          ],
          [
           "Surprisingly good"
          ],
          [
           "Excellent service and great tasting food"
          ],
          [
           "Alternative to traditional options "
          ],
          [
           "A gem in Madrid"
          ],
          [
           "Wonderful Steak"
          ],
          [
           "2 visits in 3 days - Fabulous!!!"
          ],
          [
           "Great 7-course dinner"
          ],
          [
           "Beautiful Restaurant close to the Botanical Garden"
          ],
          [
           "Amazing resto!"
          ],
          [
           "Surprisingly great!"
          ],
          [
           "Non-touristy Dining"
          ],
          [
           "Wonderful lunch with no other customers!"
          ],
          [
           "Worst food in Madrid "
          ],
          [
           "Great quality and friendly service "
          ],
          [
           "Time between stater and main dish = 16 min"
          ],
          [
           "Fabulous experience-- try the tasting menu"
          ],
          [
           "A very enjoyable meal"
          ],
          [
           "Great food at a great price. A must."
          ],
          [
           "Fantastic food and service at a reasonable price"
          ],
          [
           "Best steakhouse ever"
          ],
          [
           "Viva Argentina!"
          ],
          [
           "Food ok but expensive add ons!"
          ],
          [
           "Excellent meat and service"
          ],
          [
           "Amazing dinner"
          ],
          [
           "Amazing steak"
          ],
          [
           "Excellent Argentinan Style Food!"
          ],
          [
           "Good Service, Great Meat"
          ],
          [
           "a very good steak restaurant"
          ],
          [
           "The best ribeye steak in Madrid! "
          ],
          [
           "Delicious!"
          ],
          [
           "Great place but doesn't change the menu"
          ],
          [
           "Absolutely wonderful"
          ],
          [
           "Different, Excellent, Innovative"
          ],
          [
           "Excellent tasting menu"
          ],
          [
           "Very good pizza, good drinks"
          ],
          [
           "Good"
          ],
          [
           "Delicious Italian food "
          ],
          [
           "Amazing Dinner"
          ],
          [
           "on our door step !!"
          ],
          [
           "OUTSTANDING BURGER"
          ],
          [
           "Great Steak"
          ],
          [
           "Just okay "
          ],
          [
           "Average burger!!\nWhoever says"
          ],
          [
           "Good steaks&wine"
          ],
          [
           "Good again and again, very"
          ],
          [
           "Beautiful meal"
          ],
          [
           "Fantastic food & service"
          ],
          [
           "Italiano Belissimo "
          ],
          [
           "Emilioooooo! "
          ],
          [
           "Best Service We’ve had in Madrid!"
          ],
          [
           "So Great! And the good place I want to visit again."
          ],
          [
           "Sublimr"
          ],
          [
           "Superb -- a culinary experience with Spanish flare."
          ],
          [
           "Unbeliveble!"
          ],
          [
           "Gem of a Restaurant"
          ],
          [
           "Different Culinary Experience"
          ],
          [
           "Good food but average service"
          ],
          [
           "Best beef ever"
          ],
          [
           "Meat heaven"
          ],
          [
           "Fabulous steak"
          ],
          [
           "Excellent food, excellent wine, excellent wine!!!"
          ],
          [
           "Wow.... What a steak!"
          ],
          [
           "Great steak"
          ],
          [
           "Lovely date night "
          ],
          [
           "Best steak"
          ],
          [
           "great for gluten free"
          ],
          [
           "Tasting menu delight!"
          ],
          [
           "Excellent food and good value "
          ],
          [
           "Dinner "
          ],
          [
           "Nice food and good service"
          ],
          [
           "Perfect lunch"
          ],
          [
           "Tasty"
          ],
          [
           "Muy bien"
          ],
          [
           "Best burger ever"
          ],
          [
           "Really excellent burgers & steaks!!"
          ],
          [
           "Best Burger ever"
          ],
          [
           "Very nice restaurant and great italian food"
          ],
          [
           "Best Italian food in Madrid "
          ],
          [
           "Nice dinner"
          ],
          [
           "Excellent place to have great lunch and amazing time"
          ],
          [
           "Darryl and Barbara"
          ],
          [
           "Worth a visit"
          ],
          [
           "Absolutely recommended :)"
          ],
          [
           "Nice late night dinner "
          ],
          [
           "Amazing burgers and super friendly staff!"
          ],
          [
           "Great burgers and nice atmosphere"
          ],
          [
           "Amazing!"
          ],
          [
           "DELICIOUS BURGER"
          ],
          [
           "It was delicious!!!"
          ],
          [
           "Amazing place. Can not fault"
          ],
          [
           "First Class"
          ],
          [
           "Real nice meat restaurant"
          ],
          [
           "Lovely Steak Dinner"
          ],
          [
           "Argentina in the center of Madrid"
          ],
          [
           "Best steak of my life :)"
          ],
          [
           "Fresh n Good"
          ],
          [
           "Wonderful!"
          ],
          [
           "Very good Italian food, great service "
          ],
          [
           "Great Burger"
          ],
          [
           "DO NOT LOOK ELSEWHERE"
          ],
          [
           "The clue is in the name!"
          ],
          [
           "Simply delicious!!!"
          ],
          [
           "Wow!!!! "
          ],
          [
           "A tipical Argentinian Restaurant"
          ],
          [
           "Great Steak in the Land of Jamon!"
          ],
          [
           "Wonderful evening, amazing steak, fantastic service"
          ],
          [
           "Great meat"
          ],
          [
           "Best Burgers in Town!"
          ],
          [
           "Burgers in Madrid"
          ],
          [
           "Very very good. "
          ],
          [
           "Surprisingly good! Much better than it looks!"
          ],
          [
           "Sometimes you just need a Burger"
          ],
          [
           "great place just off Plaza Mayor"
          ],
          [
           "Creative and beautiful food"
          ],
          [
           "great staff, delicious food"
          ],
          [
           "Quality well priced meal nr Mayor Plaza"
          ],
          [
           "Delicious lunch in a tourist area!"
          ],
          [
           "Really disappointed"
          ],
          [
           "A perfect restaurant "
          ],
          [
           "Great inexpensive place for family"
          ],
          [
           "Great food and service. "
          ],
          [
           "Great place !"
          ],
          [
           "Excellent restaurant!"
          ],
          [
           "Amazing service and food. "
          ],
          [
           "Excellent beef!"
          ],
          [
           "Must vísir in Madrid"
          ],
          [
           "Good food, but absent-minded service"
          ],
          [
           "Final night in Madrid"
          ],
          [
           "ab fab"
          ],
          [
           "Always a success!"
          ],
          [
           "Excellent concept and quality"
          ],
          [
           "Mediocre"
          ],
          [
           "Very poor food quality "
          ],
          [
           "Cool waiter"
          ],
          [
           "⭐⭐⭐⭐⭐"
          ],
          [
           "Amazing"
          ],
          [
           "Great Burger!"
          ],
          [
           "Best Burger in Town, for REAL"
          ],
          [
           "Delicious "
          ],
          [
           "Good food, ok customer service."
          ],
          [
           "Great food & Valentina was an Excellent Waitress!"
          ],
          [
           "Awesome experience "
          ],
          [
           "A Modern Take on Traditional Mediterranean Cuisine"
          ],
          [
           "Amazing Dining Experience"
          ],
          [
           "great Christmas eve dinner package"
          ],
          [
           "A pretentious restaurant - but well worth a visit"
          ],
          [
           "Cozy, friendly and relaxed atmosphere!"
          ],
          [
           "Wonderful night at Metro Bistro "
          ],
          [
           "Excellent steaks and hamburgers "
          ],
          [
           "A fine place for american burger & steak seekers"
          ],
          [
           "Excellent lunch (7 dishes)"
          ],
          [
           "Awesome food for low price"
          ],
          [
           "Fine cuisine and good winelist, nice staff, good meny"
          ],
          [
           "Brilliant service "
          ],
          [
           "Thumbs up"
          ],
          [
           "Great place"
          ],
          [
           "Highly recommend"
          ],
          [
           "Amazing burgers"
          ],
          [
           "Excellent food & Great Service"
          ],
          [
           "Hell yeah! "
          ],
          [
           "WoW!! All perfect"
          ],
          [
           "Omg what a burger"
          ],
          [
           "Nice place"
          ],
          [
           "Great food at reasonable price"
          ],
          [
           "Dinner out "
          ],
          [
           "Good find"
          ],
          [
           "An unforgettable New Year Eve Dinner"
          ],
          [
           "Great Find!"
          ],
          [
           "Delicious food, nice location"
          ],
          [
           "amazing restaurant!"
          ],
          [
           "Great pizza and pasta"
          ],
          [
           "Great place. Kindly staff"
          ],
          [
           "Incretible"
          ],
          [
           "Lovely Italian"
          ],
          [
           "Great food"
          ],
          [
           "Decent but ordinary"
          ],
          [
           "Grilled Octopus A Must"
          ],
          [
           "Very fun and friendly upscale restaurant"
          ],
          [
           "Best Argentinian parilla in Madrid"
          ],
          [
           "Fantastic place, highly recommended!"
          ],
          [
           "Steakburger Atocha"
          ],
          [
           "Poor service let them down"
          ],
          [
           "Very Good!"
          ],
          [
           "Great Tiramisu"
          ],
          [
           "Great food"
          ],
          [
           "Amazing!"
          ],
          [
           "Awesome food and attendees "
          ],
          [
           "Tasty"
          ],
          [
           "Great value"
          ],
          [
           "Best Italian food in Madrid"
          ],
          [
           "David is good"
          ],
          [
           "Great!!"
          ],
          [
           "Amazing food and service "
          ],
          [
           "Great Food, Great Service"
          ],
          [
           "Wonderful Meal"
          ],
          [
           "Good food good price."
          ],
          [
           "Pleasant and quality offering "
          ],
          [
           "Amazing"
          ],
          [
           "The best meat in town"
          ],
          [
           "Best short ribs"
          ],
          [
           "Great steakhouse!"
          ],
          [
           "Get. The. Crepes. "
          ],
          [
           "Rushed"
          ],
          [
           "The tasting menu is outstanding."
          ],
          [
           "Fancy, pleasant and tasty"
          ],
          [
           "A dining experience"
          ],
          [
           "A Great Food Experience"
          ],
          [
           "Great Dining Experience"
          ],
          [
           "excellent food and drinks"
          ],
          [
           "Enjoyed our dinner"
          ],
          [
           "Super!"
          ],
          [
           "Best steakes in Madrid"
          ],
          [
           "Fantastic, and nothing less"
          ],
          [
           "Best Food in Madrid!!!!"
          ],
          [
           "Packed Restaurant, Reservations Required, Excellent Spanish Beef"
          ],
          [
           "The best place for steak without a doubt."
          ],
          [
           "So far still the best steak in Madrid"
          ],
          [
           "Great food and serves food earlier than most places"
          ],
          [
           "Amazing meat"
          ],
          [
           "Lovely steak"
          ],
          [
           "Lovely meal"
          ],
          [
           "Best Burger I ever eat! "
          ],
          [
           "Delicious "
          ],
          [
           "Birthday in Steakbuguer Atocha"
          ],
          [
           "Please help"
          ],
          [
           "Juicy Burgers!"
          ],
          [
           "Very good"
          ],
          [
           "Great restaurant"
          ],
          [
           "Lovely dinner and excellent service from staff"
          ],
          [
           "Excellent restaurant near Atocha station"
          ],
          [
           "Tasty authentic pasta"
          ],
          [
           "Very good lunch! "
          ],
          [
           "Good place for a pleasant lunch"
          ],
          [
           "Superb food and service!"
          ],
          [
           "Great stake restaurant."
          ],
          [
           "Fantastic steak, make sure you book in advance"
          ],
          [
           "Good food good atmosphere and great cocktails"
          ],
          [
           "Excellent food and service"
          ],
          [
           "Reasonably priced fine dining"
          ],
          [
           "Big Saturday night Steaks"
          ],
          [
           "Excellent "
          ],
          [
           "Nice place"
          ],
          [
           "Jolly good!"
          ],
          [
           "Amazing food!"
          ],
          [
           "Looking for Something More than Tapas ?"
          ],
          [
           "It really is a great burger!"
          ],
          [
           "Enjoyable!"
          ],
          [
           "Craving a burger, come here."
          ],
          [
           "Craft Beers In Madrid"
          ],
          [
           "Brilliant bar"
          ],
          [
           "Craft beers in Spain !"
          ],
          [
           "Food was ok, service was not ok"
          ],
          [
           "Good food"
          ],
          [
           "One of my best meals ever"
          ],
          [
           "Awesome Tasting Menu"
          ],
          [
           "Surprising takes on delicious dishes"
          ],
          [
           "Great night out"
          ],
          [
           "Great Food, Great Service"
          ],
          [
           "Great"
          ],
          [
           "Everything was delicious!"
          ],
          [
           "Average"
          ],
          [
           "Fantastic burgers "
          ],
          [
           "Nice dinner"
          ],
          [
           "The best burguer in town"
          ],
          [
           "Excellent service, marvelous food with reasonable prizes"
          ],
          [
           "very special - highly recommended"
          ],
          [
           "Trendy restaurant with a great menu"
          ],
          [
           "Great experience"
          ],
          [
           "Dinner"
          ],
          [
           "Great burger"
          ],
          [
           "Very tasty!"
          ],
          [
           "Good food with reasonable prices"
          ],
          [
           "Not average, not very good. It was ok."
          ],
          [
           "Our first meal in Madrid."
          ],
          [
           "Very enjoyable evening"
          ],
          [
           "WOW!"
          ],
          [
           "Lovely meal!! "
          ],
          [
           "1 h and half for a steak"
          ],
          [
           "Three day trip to take in music event."
          ],
          [
           "Right off the Plaza Mayor"
          ],
          [
           "Return to a favorite"
          ],
          [
           "Great meal"
          ],
          [
           "We loved this place!!"
          ],
          [
           "Steak"
          ],
          [
           "Good but could be better"
          ],
          [
           "Bistronomy!"
          ],
          [
           "Our Best Meal in Madrid"
          ],
          [
           "Lovely food and Service"
          ],
          [
           "Great Burger"
          ],
          [
           "Mike from Spain"
          ],
          [
           "Easing into Madrid... "
          ],
          [
           "Really good!!!"
          ],
          [
           "Fu**ing delicious hamburgers"
          ],
          [
           "Satisfying, juicy burger"
          ],
          [
           "Nice chain"
          ],
          [
           "Well Deserved Ratings"
          ],
          [
           "Excellent Italian food"
          ],
          [
           "This is the place to fo"
          ],
          [
           "Good food and environment"
          ],
          [
           "The best mozzarella, the best food! A must go! "
          ],
          [
           "They put quite a bit of effort and it showed..."
          ],
          [
           "Great light late dinner"
          ],
          [
           "Great"
          ],
          [
           "Nice place with beutifully served food"
          ],
          [
           "\"Beautifully presented and Delicious\""
          ],
          [
           "Excellent food and good value"
          ],
          [
           "A pleasant experience!"
          ],
          [
           "Really enjoyable dinner, must do in Madrid!"
          ],
          [
           "Superb"
          ],
          [
           "Well worth it!"
          ],
          [
           "Highly recommended"
          ],
          [
           "Excellent food, but a bit lacking in atmosphere"
          ],
          [
           "Excellent service, great steak but not quite a 5"
          ],
          [
           "Great lunch"
          ],
          [
           "Great steak"
          ],
          [
           "Mr"
          ],
          [
           "great Steak"
          ],
          [
           "Hard to Find But Worth It"
          ],
          [
           "Great dinner"
          ],
          [
           "Great experience!"
          ],
          [
           "Can I have another bite of this pineapple canneloni , please?"
          ],
          [
           "Make it a must"
          ],
          [
           "Fantastic"
          ],
          [
           "Amazing place"
          ],
          [
           "An absolute joy. Delicious steak with salsa chimi-churri."
          ],
          [
           "Good place for meat lovers!"
          ],
          [
           "High quality "
          ],
          [
           "Saint Peters University, Jersey city"
          ],
          [
           "Huge Delicious Burgers"
          ],
          [
           "Great service and great burgers"
          ],
          [
           "Great Service with Emilio"
          ],
          [
           "Great Little Restaurant"
          ],
          [
           "Tasty Italian in Atocha"
          ],
          [
           "Not recommended "
          ],
          [
           "A hidden gem just off the Plaza Mayor"
          ],
          [
           "Good Food and good service"
          ],
          [
           "Michelin star food with attentive and helpful service"
          ],
          [
           "Great service, excellent food"
          ],
          [
           "Best Meal in Madrid"
          ],
          [
           "A feast of good meat"
          ],
          [
           "Wonderful Steak"
          ],
          [
           "Authentic Argentinian Food"
          ],
          [
           "Best stake in madrid"
          ],
          [
           "Delicious Dinner with Top Notch Service"
          ],
          [
           "Service and quality combined"
          ],
          [
           "Fantastic experience"
          ],
          [
           "Excellent fare!"
          ],
          [
           "Nice Steak House"
          ],
          [
           "Genuine Argentine cuisine and excellent service "
          ],
          [
           "Dinner with my daughter ❤️"
          ],
          [
           "Thanks TA"
          ],
          [
           "Deliciosas hamburguesas FIT"
          ],
          [
           "Fabulous meal"
          ],
          [
           "One word: Guacamole."
          ],
          [
           "Great beer and snack, fantastic time!"
          ],
          [
           "Great burger and ribs"
          ],
          [
           "Best fillet steak we had in a long time!"
          ],
          [
           "Great burgers and deserts"
          ],
          [
           "Another great craft beer bar on street."
          ],
          [
           "Fabulous "
          ],
          [
           "Amazing"
          ],
          [
           "Amazing!!! "
          ],
          [
           "Dinner "
          ],
          [
           "Really good steaks"
          ],
          [
           "Great Steak Highly Recommend"
          ],
          [
           "Best burgers !!!! And food "
          ],
          [
           "Wonderful!"
          ],
          [
           "Best service ever! "
          ],
          [
           "The best beer in Madrid"
          ],
          [
           "Fantastic place"
          ],
          [
           "Chilled out"
          ],
          [
           "Good beer and a nice atmosphere"
          ],
          [
           "Great"
          ],
          [
           "Divine burger, friendly service"
          ],
          [
           "Nice place next to the station"
          ],
          [
           "Good food"
          ],
          [
           "Proper Beef/Ox Burgers"
          ],
          [
           "Nice and cosy space"
          ],
          [
           "Great burgers.... Ok service"
          ],
          [
           "Fantastic steak and good service"
          ],
          [
           "Amazing!"
          ],
          [
           "Solid meal in fun neighborhood"
          ],
          [
           "Wedding Anniversary"
          ],
          [
           "Very good - (avoid the ribs!)"
          ],
          [
           "best steak ever"
          ],
          [
           "Great food and prices"
          ],
          [
           "Spanish (American) Burger"
          ],
          [
           "Yummy burger"
          ],
          [
           "Good foie gras burgers, yummy onion rings"
          ],
          [
           "Lunch"
          ],
          [
           "Excellent burgers!!!!"
          ],
          [
           "Nice atmosphere"
          ],
          [
           "Nice place "
          ],
          [
           "Great beer, well run bar!"
          ],
          [
           "Good beers and great service "
          ],
          [
           "Good quality beers in a nice place"
          ],
          [
           "Happy birthday "
          ],
          [
           "Ok steak but expensive add ons "
          ],
          [
           "Amazing steak!!"
          ],
          [
           "Battlefield Tour"
          ],
          [
           "Nice beers!"
          ],
          [
           "A great place!"
          ],
          [
           "Good beer but no bar snacks in early evening"
          ],
          [
           "Good basic food"
          ],
          [
           "Excellent Food and Service"
          ],
          [
           "Juicy Tasty burger "
          ],
          [
           "The best steak ever "
          ],
          [
           "Delicious meat and friendly service"
          ],
          [
           "Best Steak ive ever had "
          ],
          [
           "Good Late Night Spot"
          ],
          [
           "Lovely food and fantastic service"
          ],
          [
           "Nice food good service"
          ],
          [
           "Favorite bar"
          ],
          [
           "New concept in artisan beers"
          ],
          [
           "Best bar in Madrid "
          ],
          [
           "Best meat ever!!!!"
          ],
          [
           "““Extraordinary Argentinian Resturant!””"
          ],
          [
           "Great dinner"
          ],
          [
           "Yum "
          ],
          [
           "Fantastic dinner"
          ],
          [
           "Don't miss it"
          ],
          [
           "Great restaurant"
          ],
          [
           "Tasty, tantalizing and totally different from our ordinary dining experience"
          ],
          [
           "Organic burger"
          ],
          [
           "Great steak, make a reservation "
          ],
          [
           "Delicious steaks"
          ],
          [
           "Excellent steak and salad but the fries were too salty"
          ],
          [
           "AMAZING RESTAURANT "
          ],
          [
           "Melt in your mouth rib-eye"
          ],
          [
           "Wow"
          ],
          [
           "An Excellent Restaurant ! "
          ],
          [
           "A-M-A-Z-I-N-G"
          ],
          [
           "Great find"
          ],
          [
           "Excellent restaurant"
          ],
          [
           "Best restaurant in Madrid"
          ],
          [
           "Great food, relaxed atmosphere"
          ],
          [
           "Most horrible service ever"
          ],
          [
           "Burgers ... good burgers !"
          ],
          [
           "Great burger!"
          ],
          [
           "A different food choice in Madrid"
          ],
          [
           "Lunch"
          ],
          [
           "Great steaks"
          ],
          [
           "You must visit it "
          ],
          [
           "Fine,  nothing special "
          ],
          [
           "What a Find!"
          ],
          [
           "Lunch"
          ],
          [
           "Wonderfull evening in Madrid with my lover, tasty grills and warm atmosphere!"
          ],
          [
           "Teasty food"
          ],
          [
           "Fab Steak"
          ],
          [
           "Amazing Food!"
          ],
          [
           "Dinner"
          ],
          [
           "A bit disappointing "
          ],
          [
           "Great Steak - but a little rushed"
          ],
          [
           "The best of the best"
          ],
          [
           "Very different kind of beef"
          ],
          [
           "Meat sweats"
          ],
          [
           "Amazing Place for a Delicious steak!!!"
          ],
          [
           "Super Steak!"
          ],
          [
           "Outstanding! - One of the best steaks I have eaten."
          ],
          [
           "Best burger I've ever had!!"
          ],
          [
           "Quality at very good prices with very good service"
          ],
          [
           "Wonderful meal, Great Service"
          ],
          [
           "Good value and exelent service"
          ],
          [
           "We Must Have Been on an Off Night"
          ],
          [
           "A dinner to remember "
          ],
          [
           "Good hamburgers"
          ],
          [
           "Great Burger, good service"
          ],
          [
           "Lunch in Madrid"
          ],
          [
           "Great argentinian steaks and sausage"
          ],
          [
           "Good food but a bit rushy service..."
          ],
          [
           "Best Steak ever"
          ],
          [
           "Delicious!"
          ],
          [
           "A great night out"
          ],
          [
           "Excellent meat and friendly staff"
          ],
          [
           "Delightful"
          ],
          [
           "Excellent"
          ],
          [
           "Very good"
          ],
          [
           "Cold fries .....sent them back"
          ],
          [
           "it's true what they say"
          ],
          [
           "Yummy"
          ],
          [
           "American Burger"
          ],
          [
           "Best burger in europe"
          ],
          [
           "Well worth the walk!"
          ],
          [
           "Very disappointing Tasting menu"
          ],
          [
           "Best served food ever"
          ],
          [
           "My favorite in Madrid"
          ],
          [
           "Best Cheesecake Ever!!"
          ],
          [
           "RESPECT"
          ],
          [
           "Sorry I didn't find this restaurant sooner."
          ],
          [
           "Real Burger"
          ],
          [
           "Best ribs in town"
          ],
          [
           "Luch"
          ],
          [
           "One of the best restaurants in Madrid."
          ],
          [
           "Great dinner / best waiter"
          ],
          [
           "Great evening"
          ],
          [
           "Worst tapas"
          ],
          [
           "Tasty tapas plates"
          ],
          [
           "Amazing food and staff!"
          ],
          [
           "Fabulous and fun"
          ],
          [
           "Great tapas"
          ],
          [
           "Great food and excellent service"
          ],
          [
           "Superb"
          ],
          [
           "SteakBurger Family Lunch"
          ],
          [
           "Great place and food."
          ],
          [
           "Best Indian in the area"
          ],
          [
           "Wonderful place!"
          ],
          [
           "The food here was so good."
          ],
          [
           "Excellent food, cocktails and staff. "
          ],
          [
           "Great evening meal"
          ],
          [
           "Great atmosphere, great service and fantastic food."
          ],
          [
           "Cosy restaurant with great tapas and cocktails "
          ],
          [
           "Surprisingly tasty food"
          ],
          [
           "Amazing "
          ],
          [
           "What an experience"
          ],
          [
           "A gem"
          ],
          [
           "5th Visit"
          ],
          [
           "Magical lunch"
          ],
          [
           "Best mexican food and service"
          ],
          [
           "We loved it all dishes that"
          ],
          [
           "The food was really good and"
          ],
          [
           "The best mexican food ever"
          ],
          [
           "Mexican Gem in Nuevos Ministerios"
          ],
          [
           "Amazing!"
          ],
          [
           "Very very good!"
          ],
          [
           "Very good"
          ],
          [
           "A must go to in Madrid!"
          ],
          [
           "Great food"
          ],
          [
           "Great steak and burgers + good service"
          ],
          [
           "Good food, nice workers :)"
          ],
          [
           "Great food, creative"
          ],
          [
           "A restaurant cannot be missed in Madrid"
          ],
          [
           "Good restaurant with high end restaurant interiors"
          ],
          [
           "Great evening out"
          ],
          [
           "Early evening dinner"
          ],
          [
           "Revisited. Just as good!"
          ],
          [
           "Such great food and the best"
          ],
          [
           "Best Indian in Madrid"
          ],
          [
           "Great dinner and friendly staff"
          ],
          [
           "The best indian restaurant in madrid"
          ],
          [
           "👌"
          ],
          [
           "Excellent food and service."
          ],
          [
           "Amazing food, quality, atmosphere and service!"
          ],
          [
           "Very good"
          ],
          [
           "Worst Restaurant in Spain"
          ],
          [
           "Excellent food and friendly service "
          ],
          [
           "Tiny place specializing in tapas and wine..... the best food,"
          ],
          [
           "Atmosphere, food, service - All great!!"
          ],
          [
           "Great food, better service."
          ],
          [
           "Excellent pasta!"
          ],
          [
           "Exquisite dining and excellent service "
          ],
          [
           "Booked a table for my boyfriend"
          ],
          [
           "Wawawawaw"
          ],
          [
           "Unbelievable service!!"
          ],
          [
           "Very good service and awesome food!"
          ],
          [
           "SUPER TASTY,"
          ],
          [
           "Visit to Spain"
          ],
          [
           "Bold + Unusual Flavors"
          ],
          [
           "OUTSTANDING"
          ],
          [
           "Private party"
          ],
          [
           "A must"
          ],
          [
           "Excellent! Best food and service"
          ],
          [
           "Good food, tailored and fast with quality"
          ],
          [
           "excellent service"
          ],
          [
           "One of the best and biggest burgers I've had in Madrid"
          ],
          [
           "Awesome fine-dining experience so close to Plaza Mayor!"
          ],
          [
           "Nice Food and Service"
          ],
          [
           "Good lunch experience "
          ],
          [
           "Good"
          ],
          [
           "Excellent"
          ],
          [
           "Good"
          ],
          [
           "A must in Madrid!!!"
          ],
          [
           "Eat here - great experience!"
          ],
          [
           "Amazing food and service"
          ],
          [
           "The best burger this side of Pluto"
          ],
          [
           "good simple food amazing customer service "
          ],
          [
           "Satisfying lunch. "
          ],
          [
           "Top spot"
          ],
          [
           "It's all in the name \"Best burgers in town\""
          ],
          [
           "Great friendly staff; Gaston was great as a waiter"
          ],
          [
           "Great burbers"
          ],
          [
           "Great Emanadas"
          ],
          [
           "Great place! \n\nWent there"
          ],
          [
           "Great late night visit"
          ],
          [
           "One of my favorite burgers places in Europe"
          ],
          [
           "Burger Heaven"
          ],
          [
           "The most amazing epanadas. ever."
          ],
          [
           "Delicious empanadas"
          ],
          [
           "Delicious"
          ],
          [
           "Great borrito"
          ],
          [
           "Best empanadas !!"
          ],
          [
           "Very tasty"
          ],
          [
           "Great place, amazing food, friendly staff"
          ],
          [
           "Great COVID Measures & Attentive Staff"
          ],
          [
           "Amazing restaurant, funky"
          ],
          [
           "Great environment, service, food"
          ],
          [
           "Fun place with interesting ways to present food"
          ],
          [
           "Amazing Cocktails and Food"
          ],
          [
           "The best empanadas"
          ],
          [
           "The closest to Argentinean empanadas I've had abroad"
          ],
          [
           "Best empanadas Argentinas"
          ],
          [
           "Amazing decor, friendly staff & delicious food presented extravagantly"
          ],
          [
           "Can’t go wrong with this place"
          ],
          [
           "An absolute gem"
          ],
          [
           "Amazing experience!!!"
          ],
          [
           "Perfect meal and an amazing waiter! "
          ],
          [
           "Culinary excellence just off plaza mayor"
          ],
          [
           "Amazing"
          ],
          [
           "Recommendation "
          ],
          [
           "Excellent Dinner"
          ],
          [
           "Great restaurant"
          ],
          [
           "Cena"
          ],
          [
           "Tasteless mediocre food"
          ],
          [
           "Amazing experience, wonderful"
          ],
          [
           "Good italian or better said italian fusion"
          ],
          [
           "All day open is a plus "
          ],
          [
           "Very tasty italian food"
          ],
          [
           "First time in Madrid  and"
          ],
          [
           "go and be surprised"
          ],
          [
           "Delicious"
          ],
          [
           "Wonderful food, friendly service"
          ],
          [
           "Incredible culinary adventure in 7 courses"
          ],
          [
           "Wonderful dinner with beautiful dishes"
          ],
          [
           "Nice food, good service!"
          ],
          [
           "First time in Madrid"
          ],
          [
           "Central location on Gran Via"
          ],
          [
           "Nice place! 👌🏻"
          ],
          [
           "Perfect!!"
          ],
          [
           "Great location, great food,"
          ],
          [
           "Delicious & Cheap Pizza"
          ],
          [
           "Fantastic Tapas, Pizza"
          ],
          [
           "Great restaurant."
          ],
          [
           "Decent wood fired pizza"
          ],
          [
           "Decent Pizza at a good price"
          ],
          [
           "Love this place"
          ],
          [
           "La Perla Negra -perfection!!!"
          ],
          [
           "A lovely restaurant almost hidden by Plaza Mayor"
          ],
          [
           "Racist"
          ],
          [
           "Best dining experience in Madrid"
          ],
          [
           "A bit overrated"
          ],
          [
           "Beautifully, creative, imaginative food!"
          ],
          [
           "Our waitress was Violeta."
          ],
          [
           "Very good food, very recommended. Thanks alot for the great waiter EFRAIN. "
          ],
          [
           "Good restaurant "
          ],
          [
           "Service"
          ],
          [
           "Disappointing vegetarian options"
          ],
          [
           "Amazing restaurant! "
          ],
          [
           "First visit great second visit not!"
          ],
          [
           "Nice food but I expected more"
          ],
          [
           "Beautiful restaurant, great"
          ],
          [
           "Nos atendio efrain in camarero professional"
          ],
          [
           "THANK YOU EFRAIN !!!"
          ],
          [
           "Cumpleaños"
          ],
          [
           "Staff: great for lunch, bad for dinner"
          ],
          [
           "Great Italian food and atmosphere"
          ],
          [
           "Great find"
          ],
          [
           "Best italian Restaurant ever!"
          ],
          [
           "Metro Bistro Calle Imperial 3 Plaza Mayor"
          ],
          [
           "Great service and food"
          ],
          [
           "Modern twist on traditional Spanish"
          ],
          [
           "Great staff, poor food"
          ],
          [
           "Great meal and service"
          ],
          [
           "Great place amazing service"
          ],
          [
           "Excellent"
          ],
          [
           "Not a restaurant"
          ],
          [
           "Great lunch"
          ],
          [
           "Rainy day surprise"
          ],
          [
           "Nice place to have a dinner."
          ],
          [
           "Great Fusion Restaurant in the Plaza Mayor area"
          ],
          [
           "A tasty dinner"
          ],
          [
           "2nd visit"
          ],
          [
           "Valentines Meal"
          ],
          [
           "The service by Estefany  was"
          ],
          [
           "Beware of the chicken!"
          ],
          [
           "Mediocre at best "
          ],
          [
           "Revisit from February"
          ],
          [
           "Amazing food. The most rude server I’ve encountered to date."
          ],
          [
           "Simpel restaurant with good food"
          ],
          [
           "A Hidden Gem!"
          ],
          [
           "Tapas lunch"
          ],
          [
           "Favorite"
          ],
          [
           "Our favourite Indian restaurant"
          ],
          [
           "Great location!"
          ],
          [
           "One of the best tapas in Madrid"
          ],
          [
           "Incredible Service & Food!"
          ],
          [
           "Best place in Madrid"
          ],
          [
           "Great experience"
          ],
          [
           "Yammi food and excellent service"
          ],
          [
           "Amazing little place"
          ],
          [
           "Berry good place to eat"
          ],
          [
           "Tapas"
          ],
          [
           "Perfect "
          ],
          [
           "Perfect"
          ],
          [
           "Over rated !"
          ],
          [
           "Fantastic experience. Great"
          ],
          [
           "Long wait...Worth it!"
          ],
          [
           "My best dinning experience in Madrid"
          ],
          [
           "Tapas galore....."
          ],
          [
           "Perfect breakfest"
          ],
          [
           "Fun stop"
          ],
          [
           "Good food.. Horrible and unfriendly service"
          ],
          [
           "Great "
          ],
          [
           "So good went back the next night"
          ],
          [
           "Happiness on a plate"
          ],
          [
           "Russell"
          ],
          [
           "Great restaurant, very good"
          ],
          [
           "Great Service"
          ],
          [
           "Totally recommended!"
          ],
          [
           "Best dinner date restaurant"
          ],
          [
           "Great place!"
          ],
          [
           "Best restaurant ever!"
          ],
          [
           "Best Italian food"
          ],
          [
           "Dive bar in Madrid"
          ],
          [
           "Friendly Bar near to the Tryp Ambassador Hotel."
          ],
          [
           "A cool Madrid bar - day and night"
          ],
          [
           "Strange atmosphere..."
          ],
          [
           "Great place"
          ],
          [
           "Tasty food"
          ],
          [
           "Wonderful Tapas"
          ],
          [
           "An excellent decision"
          ],
          [
           "Must do in Madrid"
          ],
          [
           "Food not as per Indian Taste"
          ],
          [
           "Visited again absolutely brilliant"
          ],
          [
           "Really nice Indian food in the North of Madrid"
          ],
          [
           "Very nice."
          ],
          [
           "Excellent value, good taste and service"
          ],
          [
           "The Expats Choice!"
          ],
          [
           "Outstanding evening"
          ],
          [
           "Nice local tapa bar"
          ],
          [
           "Consecutive nights"
          ],
          [
           "Tasty vegetarian options"
          ],
          [
           "Lively atmosphere, interesting tapas menu."
          ],
          [
           "Great Tapas"
          ],
          [
           "Dinner"
          ],
          [
           "Great place!"
          ],
          [
           "Wonderful Meal in Madrid"
          ],
          [
           "Calle del Meson de Paños, 1, 28013 Madrid"
          ],
          [
           "Tasty Tapas"
          ],
          [
           "Good value for money"
          ],
          [
           "Excellent and Good experience"
          ],
          [
           "Strongly recommended "
          ],
          [
           "Delicious lunch"
          ],
          [
           "Awesome staff & delicious"
          ],
          [
           "Birthday Meal!"
          ],
          [
           "Quirky little tapas find....delicious "
          ],
          [
           "Great Tapas Bar"
          ],
          [
           "Nice place!"
          ],
          [
           "Awesome!"
          ],
          [
           "A place you should really visit"
          ],
          [
           "El MiniBAR"
          ],
          [
           "Yummy tapas"
          ],
          [
           "Absolutely lovely restaurant, food and service"
          ],
          [
           "Calm, comfortable and great food"
          ],
          [
           "Good Find"
          ],
          [
           "Pleasant discovery thanks to our visiting friends from Argentina"
          ],
          [
           "2:30 pm"
          ],
          [
           "Great FOOD, Great SERVICE, Great AMBIANCE !"
          ],
          [
           "Delicious "
          ],
          [
           "Good Food But Not Very Friendly"
          ],
          [
           "Great pizza and pasta"
          ],
          [
           "loved it."
          ],
          [
           "Good but over rated"
          ],
          [
           "Great"
          ],
          [
           "Amazing 😍"
          ],
          [
           "Such a good surprise"
          ],
          [
           "Interesting Food"
          ],
          [
           "Needs More Than 5 Stars!"
          ],
          [
           "Really amazing food & service"
          ],
          [
           "Amazing twist on local food"
          ],
          [
           "Delicious Food!"
          ],
          [
           "Innovative food in large portions"
          ],
          [
           "Loved every minute "
          ],
          [
           "Don't miss it !"
          ],
          [
           "Disappointing"
          ],
          [
           "Lovely"
          ],
          [
           "Perfect dinner, Efrain was"
          ],
          [
           "Great pizza and Great service!"
          ],
          [
           "Perfect dinner!!"
          ],
          [
           "Very good good!"
          ],
          [
           "Good dinner! "
          ],
          [
           "Good food and nice variety plus pizza"
          ],
          [
           "Tasty and cheap"
          ],
          [
           "Fantastic pizzas!!!"
          ],
          [
           "Nice food, good price."
          ],
          [
           "Delicious"
          ],
          [
           "Italy in Madrid"
          ],
          [
           "Good food although not totally Italian"
          ],
          [
           "Don't judge a book by it's cover"
          ],
          [
           "Wonderful, and not just the food"
          ],
          [
           "Friendly and welcoming"
          ],
          [
           "Amazing little place, what a find"
          ],
          [
           "Unexceptional"
          ],
          [
           "Unsuspecting Yet Left Wanting More"
          ],
          [
           "a place you must eat tapas."
          ],
          [
           "Very, very ordinary!!"
          ],
          [
           "Excellent food and service but make a reservation for the evening"
          ],
          [
           "Reviews are a little overrated"
          ],
          [
           "Ok"
          ],
          [
           "This is not Madrids best Tapas!!!"
          ],
          [
           "Great pizza, tiramisu. High value for money"
          ],
          [
           "Amazing !"
          ],
          [
           "The real Italian!"
          ],
          [
           "Bit of a mix up but"
          ],
          [
           "The Best Italian"
          ],
          [
           "Very recomende"
          ],
          [
           "Evrything was amazing"
          ],
          [
           "Good food and great service."
          ],
          [
           "Lunch Was Amazing "
          ],
          [
           "Not recommendable"
          ],
          [
           "Great service, good food"
          ],
          [
           "Ítalía brought to Madrid"
          ],
          [
           "Delicious pizza"
          ],
          [
           "A very nice restaurant  in Madrid!"
          ],
          [
           "Perhaps the best restaurant in the world "
          ],
          [
           "One of the best restaurants"
          ],
          [
           "Good Choice for italian!"
          ],
          [
           "Excellent food and service"
          ],
          [
           "Easy 5!"
          ],
          [
           "Dinner"
          ],
          [
           "Favourite Italian Restaurant"
          ],
          [
           "Strange name for such amazing different, fantastic food!"
          ],
          [
           "VERY BEST IN SPAIN"
          ],
          [
           "Great atmosphere"
          ],
          [
           "Great little place"
          ],
          [
           "Don't let the looks fool you!"
          ],
          [
           "A lively little bar"
          ],
          [
           "Amazing pizza restaurant in the heart of Madrid"
          ],
          [
           "Oven, Madrid "
          ],
          [
           "Best Italian I've ever been to!"
          ],
          [
           "Woww"
          ],
          [
           "Average and noisy"
          ],
          [
           "Good and Fast Eats"
          ],
          [
           "Very tasty empanadas, and good value"
          ],
          [
           "fresh and tasty"
          ],
          [
           "Best empanadas"
          ],
          [
           "Delicious lunch"
          ],
          [
           "Yummy empanadas galore!"
          ],
          [
           "Great Empanadas"
          ],
          [
           "Good tapas"
          ],
          [
           "Amazing food!!"
          ],
          [
           "I thought it was great !"
          ],
          [
           "Craving for empanadas"
          ],
          [
           "Presentation is everything "
          ],
          [
           "BEST!"
          ],
          [
           "Quirky delicious twist to tapas"
          ],
          [
           "Tasty but bit pricey"
          ],
          [
           "great place to stop by"
          ],
          [
           "Best empanadas"
          ],
          [
           "EXCELLENT TAPAS"
          ],
          [
           "10 Satisfied Satiated Sentients!"
          ],
          [
           "Evening Meal"
          ],
          [
           "Good home cooking"
          ],
          [
           "Great tapas"
          ],
          [
           "Wonderful Tapas"
          ],
          [
           "The best lunch ever made"
          ],
          [
           "Very satisfying menu for 2 😊"
          ],
          [
           "Great experience, food and atmosphere!"
          ],
          [
           "Amazing food and nice environment"
          ],
          [
           "Sangria Jar! Tempura Tacos! "
          ],
          [
           "Exellent food"
          ],
          [
           "Not great"
          ],
          [
           "Delicioso"
          ],
          [
           "Cheap and good!"
          ],
          [
           "Girls trip to Madrid"
          ],
          [
           "great place"
          ],
          [
           "Everithing was perfect!"
          ],
          [
           "Great place for a snack "
          ],
          [
           "Best empanadas I've tried in Madrid"
          ],
          [
           "Good food, good vibes. "
          ],
          [
           "Best restaurant in town"
          ],
          [
           "Great food... but staff is not very nice "
          ],
          [
           "Best dinner we have had in madrid"
          ],
          [
           "Quirky Restaurant with Fantastic Food"
          ],
          [
           "Excellent service and beautiful"
          ],
          [
           "Best restaurant in Madrid and super worth it!!"
          ],
          [
           "The crew were super nice"
          ],
          [
           "Fantastico!"
          ],
          [
           "We went there looking for great paella"
          ],
          [
           "Excellent! Amazing! Don’t"
          ],
          [
           "Fabulous dinner in Madrid"
          ],
          [
           "Superb tapas with a twist."
          ],
          [
           "You must visit this restaurant if you in Madrid "
          ],
          [
           "DELICIOUS "
          ],
          [
           "Average"
          ],
          [
           "WOOOOOW LOVED IT"
          ],
          [
           "To die for♥️"
          ],
          [
           "Excellent spanish cuisine"
          ],
          [
           "Great place"
          ],
          [
           "Tasty spanish food."
          ],
          [
           "Excellent food and service"
          ],
          [
           "Cheers Mauricio - perfect paella "
          ],
          [
           "Great tine"
          ],
          [
           "The best restaurant"
          ],
          [
           "Esquisit"
          ],
          [
           "What a cool and crazy place"
          ],
          [
           "Great paella!"
          ],
          [
           "This place is amazing!"
          ],
          [
           "Our favourite meal in Madrid"
          ],
          [
           "Amazing"
          ],
          [
           "Rosi La Loca"
          ],
          [
           "Great place for a lone traveler"
          ],
          [
           "Dinner"
          ],
          [
           "Fantastic experience"
          ],
          [
           "Great food and service "
          ],
          [
           "Really good food and fast, friendly service."
          ],
          [
           "Good value"
          ],
          [
           "Very nice"
          ],
          [
           "Amazing Find"
          ],
          [
           "Nice interior and good food"
          ],
          [
           "A gem of a find"
          ],
          [
           "A really great find!"
          ],
          [
           "A good find excellent cheese tapas "
          ],
          [
           "Do not pass this up. "
          ],
          [
           "Fine dining in the centre of Madrid"
          ],
          [
           "Such a great place!"
          ],
          [
           "Incredible modern Spanish cuisine"
          ],
          [
           "Great Discovery"
          ],
          [
           "Fantastic Modern Spanish Dining"
          ],
          [
           "EXCELLENT"
          ],
          [
           "Delicious food and very welcoming "
          ],
          [
           "Great food, terrible service....."
          ],
          [
           "One of the best restaurants I’ve ever been to!"
          ],
          [
           "Dinner at Rosi La Loca"
          ],
          [
           "Good food and nice staff"
          ],
          [
           "GO here!!!!!!!"
          ],
          [
           "Rosi rules!"
          ],
          [
           "Lovely lunch!"
          ],
          [
           "Superb"
          ],
          [
           "Superb meal.  Highly recommended for food lovers."
          ],
          [
           "Delicious, well served dishes. Pampering service"
          ],
          [
           "AMAZING "
          ],
          [
           "Tucked away but worth the visit!"
          ],
          [
           "Affordable drinks"
          ],
          [
           "Best affordable food in madrid"
          ],
          [
           "Vibrant Busy Atmosphere, Great Food"
          ],
          [
           "Delicious breakfast"
          ],
          [
           "Great Spanish restaurant "
          ],
          [
           "Cool design..."
          ],
          [
           "Delicious food"
          ],
          [
           "Fresh and amazing pizza; best ceviche"
          ],
          [
           "Excellent pizzas"
          ],
          [
           "Just right"
          ],
          [
           "Ottima Paella."
          ],
          [
           "Very nice"
          ],
          [
           "Amazing First Evening in Madrid!"
          ],
          [
           "The best service and food in Madrid!! A must to visit!!"
          ],
          [
           "Excellent paella"
          ],
          [
           "Fansiest cafe in Madrid 🇪🇸 "
          ],
          [
           "Outstanding! MUST visit!!"
          ],
          [
           "Great food, lovely staff"
          ],
          [
           "Outstanding ! I recomend this place for everybody"
          ],
          [
           "정말 최고였어요!"
          ],
          [
           "Great food, great drinks, great staff and a great vibe :-)"
          ],
          [
           "Tapas and Sangria"
          ],
          [
           "Poor service..."
          ],
          [
           ":)"
          ],
          [
           "Cosy and warm place where to eat great Spanish food"
          ],
          [
           "Great food, great atmosphere and the best service from Eva!"
          ],
          [
           "Amazing! Definitely make a trip here!"
          ],
          [
           "Diner at 27th april"
          ],
          [
           "Little tapas gem"
          ],
          [
           "Great little place with a cool atmosphere and good service"
          ],
          [
           "Lovely atmosphere, you are immediately along friends"
          ],
          [
           "Great tapas, fun atmosphere"
          ],
          [
           "We loved it"
          ],
          [
           "Best G&T in town!"
          ],
          [
           "Rosi is not crazy. She is amazing!"
          ],
          [
           "Overpriced "
          ],
          [
           "BEST SERVICE EVAH"
          ],
          [
           "AMAZING SERVICE, MARAVILLOSO !"
          ],
          [
           "This restaurant was the highlight"
          ],
          [
           "Amazing service, food, and decor"
          ],
          [
           "Best place for a good price "
          ],
          [
           "Great food and a friendly place"
          ],
          [
           "Lovely food"
          ],
          [
           "Great place!"
          ],
          [
           "Great Pizza and good staff and service."
          ],
          [
           "Simple and Inexpensive on the Grand Via"
          ],
          [
           "Amazing food and service"
          ],
          [
           "Best paella ever"
          ],
          [
           "Very good"
          ],
          [
           "On a tour"
          ],
          [
           "Great find....."
          ],
          [
           "Fantastic evening, awesome birthday surprise!!"
          ],
          [
           "Good find!"
          ],
          [
           "EXCELLENT DINNER"
          ],
          [
           "Cannot Fault the service, the food or the drinks!!"
          ],
          [
           "Another tapas "
          ],
          [
           "Fantastic little tapas bar!"
          ],
          [
           "The best Gin and Tonic in Madrid"
          ],
          [
           "Fantastic tapas"
          ],
          [
           "Trip to Madrid"
          ],
          [
           "Dinner with brother"
          ],
          [
           "Pleasant place, good food"
          ],
          [
           "Poor service"
          ],
          [
           "Standard pizza "
          ],
          [
           "Excellent Food, Excellent Prices, excellent servive"
          ],
          [
           "Great food and great service"
          ],
          [
           "Quality!"
          ],
          [
           "Late night last resort."
          ],
          [
           "Excellent empanadas"
          ],
          [
           "First impression of Madrid"
          ],
          [
           "So so pasta"
          ],
          [
           "John our waiter was  very"
          ],
          [
           "Wonderful experience"
          ],
          [
           "Simple"
          ],
          [
           "One of the best restaurants I’ve been "
          ],
          [
           "Hungry for some new york"
          ],
          [
           "Amazing food, great service!"
          ],
          [
           "Best of madrid yes"
          ],
          [
           "Great meal"
          ],
          [
           "Lovely food and great service! "
          ],
          [
           "Best burger in Madrid"
          ],
          [
           "Amazing burger "
          ],
          [
           "easiest steak burger house in town"
          ],
          [
           "Not a steakhouse, but great for burgers and more"
          ],
          [
           "Loved this place, especially the \"Crazy Cheese\""
          ],
          [
           "Must visit"
          ],
          [
           "Fabulous tapas, great music, friendly atmosphere"
          ],
          [
           "Unusual, offbeat,unconventional...........but good!!"
          ],
          [
           "Great Find"
          ],
          [
           "Sorry , we seem to have missed something here!"
          ],
          [
           "Great place for a quick lunch!"
          ],
          [
           "Great empanadas"
          ],
          [
           "Outstanding Empenadas!!"
          ],
          [
           "Great!"
          ],
          [
           "Awesome!"
          ],
          [
           "Worth the walk!"
          ],
          [
           "Good place for romantic and business dinner "
          ],
          [
           "Amazing tasting dinner"
          ],
          [
           "Very good"
          ],
          [
           "Fantastic! "
          ],
          [
           "Gorgeous food! "
          ],
          [
           "Degustation menu at a reasonable price!"
          ],
          [
           "Tasty and enjoyable. "
          ],
          [
           "Wow, amazing! "
          ],
          [
           "Great Place"
          ],
          [
           "Great food, great service"
          ],
          [
           "Awesome food and great service!"
          ],
          [
           "Great restaurant - worth the wait"
          ],
          [
           "Very good!!"
          ],
          [
           "Nice"
          ],
          [
           "Bad experience"
          ],
          [
           "Improved service"
          ],
          [
           "A touch of Italy in Spain"
          ],
          [
           "Princess Diana"
          ],
          [
           "Best food in Madrid"
          ],
          [
           "Our last evening in Madrid 12/03/2020"
          ],
          [
           "Awesome Eclectic"
          ],
          [
           "Amazing!"
          ],
          [
           "Incredible!"
          ],
          [
           "Beautiful! "
          ],
          [
           "Great burgers! great informal place"
          ],
          [
           "Great burgers, good prices!!!"
          ],
          [
           "Stick to the burgers - they are great"
          ],
          [
           "No frills good value cafe."
          ],
          [
           "Recommended!"
          ],
          [
           "Great experience"
          ],
          [
           "Not sure why this is #8 for all of Madrid"
          ],
          [
           "Overhyped"
          ],
          [
           "small & super delicious"
          ],
          [
           "Excellent food"
          ],
          [
           "Trip advisor contributors got this spot on."
          ],
          [
           "Ambience, food and staff .. excellent!"
          ],
          [
           "Really lovely place! "
          ],
          [
           "Nice and cozy"
          ],
          [
           " AVERAGE FOOD, BAD SERVICE "
          ],
          [
           "Excelent!"
          ],
          [
           "Unbelievable food & overall experience "
          ],
          [
           "Great pizza and great service"
          ],
          [
           "So much to choose from and all wonderful"
          ],
          [
           "Lovely food, fun place"
          ],
          [
           "Very good paella"
          ],
          [
           "Lunch"
          ],
          [
           "Worst service in Madrid"
          ],
          [
           "Great food"
          ],
          [
           "Awesome service"
          ],
          [
           "Faisal"
          ],
          [
           "Quick but nice"
          ],
          [
           "Delicious Italian + Lovely Service"
          ],
          [
           "Excellent Burger and Chicken Sandwich with fries; order up 2 levels"
          ],
          [
           "Delicious dinner"
          ],
          [
           "Marvellous Madrid Pizza!"
          ],
          [
           "Graet Italian place"
          ],
          [
           "Massive Meaty Burgers"
          ],
          [
           "Totally worth the price, yummy burgers!"
          ],
          [
           "Excellent burger @ reasonable price"
          ],
          [
           "Pretty good gourmet burger"
          ],
          [
           "Best Burgers in Spain!"
          ],
          [
           "Amazing dinning experience!"
          ],
          [
           "Best food & service from Stefanie"
          ],
          [
           "Loved everything about it"
          ],
          [
           "It was ok but nothing special"
          ],
          [
           "Fabulous find"
          ],
          [
           "   Best Tapas "
          ],
          [
           "Fantastic burger - great value too!"
          ],
          [
           "Don't look anywhere else!"
          ],
          [
           "Nice place and great food"
          ],
          [
           "Decent food, ribs especially good"
          ],
          [
           "Poor food and Service"
          ],
          [
           "Go - don't think - just enjoy"
          ],
          [
           "Lovely dining experience! "
          ],
          [
           "bad restaurant ever"
          ],
          [
           "Two Aussies throughly enjoyed this restaurant"
          ],
          [
           "Really good food and service 👍🏻"
          ],
          [
           "Bad service, very small portion of wine"
          ],
          [
           "Good pasta place"
          ],
          [
           "Baddddddd service"
          ],
          [
           "Could do better!"
          ],
          [
           "Love it!"
          ],
          [
           "Just perfect !!"
          ],
          [
           "Fun place to celebrate a birthday"
          ],
          [
           "Good "
          ],
          [
           "Good place,good food"
          ],
          [
           "very nice and cozy restaurant."
          ],
          [
           "Beautiful restaurant, let down by poor service "
          ],
          [
           "Lovely food, atmosphere and service"
          ],
          [
           "Disguised McDonalds"
          ],
          [
           "Very poorly Run ...No Bueno!"
          ],
          [
           "Great burger place"
          ],
          [
           "Amazing Food, Service, Sangria!"
          ],
          [
           "Great burger.  Good service. Easy 5."
          ],
          [
           "Worst Italian food in town"
          ],
          [
           "Amesome"
          ],
          [
           "Great food and great service"
          ],
          [
           "Good Value Italian Restaurant"
          ],
          [
           "Simple but good"
          ],
          [
           "Great first night in Madrid!"
          ],
          [
           "Excellent Service, Great Food"
          ],
          [
           "Terrific service"
          ],
          [
           "Yummy food, came twice in a row for dinner"
          ],
          [
           "Great vibes; great food"
          ],
          [
           "Delicious food and great service!"
          ],
          [
           "Fantastisch"
          ],
          [
           "Great Value Great Taste"
          ],
          [
           "Good for cheap dinner in centre"
          ],
          [
           "Lovely ambience, friendly staff and great food!"
          ],
          [
           "You Would Be \"Loca\" To Pass This Up"
          ],
          [
           "Dinner"
          ],
          [
           "Very good resturant"
          ],
          [
           "Training and more"
          ],
          [
           "Amazing!"
          ],
          [
           "Great ambiance, amazing and surprising dishes!"
          ],
          [
           "Good find"
          ],
          [
           "Amazing ribs"
          ],
          [
           "Tasty burger"
          ],
          [
           "Delicious burgers"
          ],
          [
           "Amazing place to eat!!"
          ],
          [
           "Fantastic food"
          ],
          [
           "Great italian food 😍"
          ],
          [
           "Great interior design, bustling"
          ],
          [
           "1st Paella I ate in Spain, love it!"
          ],
          [
           "Lovely dinner at Rosi la Loca "
          ],
          [
           "AMAZING FOOD AND SERVICE"
          ],
          [
           "What a fantastic place!"
          ],
          [
           "Absolutely Lovely"
          ],
          [
           "Amazing"
          ],
          [
           "First lunch "
          ],
          [
           "Excellent place, great tapas, fare price!"
          ],
          [
           "Great tapas!"
          ],
          [
           "Don't judge a book by its cover..."
          ],
          [
           "Good way to start our vacation!"
          ],
          [
           "Not very good"
          ],
          [
           "Fantastic!!!!!"
          ],
          [
           "Awesome food and drink"
          ],
          [
           "Best Tapas in Madrid, Spain"
          ],
          [
           "Fantastic drinks- even better food!"
          ],
          [
           "Lovely and welcoming"
          ],
          [
           "Good inexpensive food"
          ],
          [
           "Go now before Michelin stars and you can't get in..."
          ],
          [
           "Wow! "
          ],
          [
           "Non-touristy within a mass of tourist bars/restaurants"
          ],
          [
           "Surprisingly amazing!"
          ],
          [
           "Staff is friendly despite the huge crowd"
          ],
          [
           "The staff is the best, the food is very nice"
          ],
          [
           "Nice staff and amazing patatas arrugadas con mojo picon"
          ],
          [
           " ¡Qué bueno!"
          ],
          [
           "Very disappointed"
          ],
          [
           "Excellent, quirky bar. "
          ],
          [
           "Excellent food, lovely staff"
          ],
          [
           "delicious, value for money tapas!"
          ],
          [
           "Back for seconds!"
          ],
          [
           "Great little place right opposite the Tryp Ambassador hotel"
          ],
          [
           "A good choice"
          ],
          [
           "Tourist trap"
          ],
          [
           "Lovely evening!!"
          ],
          [
           "Amazing atmosphere and food at great prices "
          ],
          [
           "Best service in Madrid"
          ],
          [
           "Awesome Tapas and Service"
          ],
          [
           "Good enough"
          ],
          [
           "Ôven Gran Via dinner"
          ],
          [
           "Great Pizza...But there is only Pizza and Pasta"
          ],
          [
           "Great little find - vfm and lovely food with cracking cocktails"
          ],
          [
           "Fantastic "
          ],
          [
           "Great restaurant"
          ],
          [
           "Good food, nice ambience, great staff."
          ],
          [
           "First class"
          ],
          [
           "Filling!"
          ],
          [
           "Nice day and evening"
          ],
          [
           "Rudest staff in Madrid"
          ],
          [
           "Top notch service and wonderful meal"
          ],
          [
           "Amazing place!"
          ],
          [
           "Amazing food, great value!"
          ],
          [
           "You can't tell a book by its cover"
          ],
          [
           "Wow! Wow! Wow!"
          ],
          [
           "Just awesome food! What else do you need.?"
          ],
          [
           "Wonderful tapas and staff!"
          ],
          [
           "Great little tapas bar and restaurant"
          ],
          [
           "BEST FOOD & SERVICE IN MADRID"
          ],
          [
           "Great food & great service"
          ],
          [
           "Great place and food"
          ],
          [
           "Great design, tasty food& very average service"
          ],
          [
           "Degustation menu - excellent value for money"
          ],
          [
           "Almost excellent!"
          ],
          [
           "The new branch, same quality."
          ],
          [
           "Perfect dinner"
          ],
          [
           "Would recommend,"
          ],
          [
           "Value for your money!"
          ],
          [
           "Great food in Madrid"
          ],
          [
           "Truly talented chef"
          ],
          [
           "Some really tasty tapas! "
          ],
          [
           "Beautiful tapas "
          ],
          [
           "Excellent"
          ],
          [
           "Quirky little place"
          ],
          [
           "This place is ridiculous"
          ],
          [
           "Delicious 🤤"
          ],
          [
           "Seriously good!!"
          ],
          [
           "Can highly recommend..."
          ],
          [
           "Highlight of our trip !"
          ],
          [
           "Good value, nice touches"
          ],
          [
           "Yuuuuuuum!!!"
          ],
          [
           "Hidden gem"
          ],
          [
           "Great midday tapas stop!"
          ],
          [
           "A true culinary heaven"
          ],
          [
           "Excellent food, surroundings and staff"
          ],
          [
           "Very good but short of excellent"
          ],
          [
           "Madrid"
          ],
          [
           "Fine dining in central Madrid"
          ],
          [
           "Unique, Delicious, and Want to Go Back"
          ],
          [
           "Excellent food, very well priced, great music! "
          ],
          [
           "Nice meal - elegant atsmosphe"
          ],
          [
           "Not for me"
          ],
          [
           "LOVELY FOOD AND ATTENTIVE SERVICE"
          ],
          [
           "Amazing"
          ],
          [
           "Great food and drinks - not great service "
          ],
          [
           "Great food and funky atmosphere "
          ],
          [
           "Cute little bar, tucked in"
          ],
          [
           "Brilliant!"
          ],
          [
           "A modern slant on tapas. Through"
          ],
          [
           "Cute small restaurant"
          ],
          [
           "Delightful little joint "
          ],
          [
           "Absolutely perfect!"
          ],
          [
           "Great for tapas all night"
          ],
          [
           "Go go go! "
          ],
          [
           "Unexpected"
          ],
          [
           "Best everything"
          ],
          [
           "The best G&T we've ever had"
          ],
          [
           "Perfect!!!"
          ],
          [
           "Fab, fab, fab..."
          ],
          [
           "Great local bar"
          ],
          [
           "Superb Tapas"
          ],
          [
           "The best"
          ],
          [
           "Good honest Italian food"
          ],
          [
           "Young atmosphere, good food and very reasonable pricing"
          ],
          [
           "Amazing food great service "
          ],
          [
           "A dream to experience"
          ],
          [
           "Fabulous food bad customer experience "
          ],
          [
           "Great find!"
          ],
          [
           "Superb staff."
          ],
          [
           "Stunning food. So clean. "
          ],
          [
           "Definitely"
          ],
          [
           "Great evening"
          ],
          [
           "You must visit this bar"
          ],
          [
           "Great tapas"
          ],
          [
           "Tiny local place with good tapas"
          ],
          [
           "Wonderful food and great value"
          ],
          [
           "Great Mozzarella Sticks?"
          ],
          [
           "Beef and Ox Burgers"
          ],
          [
           "Excellent Ox burger"
          ],
          [
           "Great burger and drinks"
          ],
          [
           "Amazing OX burger"
          ],
          [
           "Awesome pizzas"
          ],
          [
           "Good Italian food"
          ],
          [
           "Delicious Italian/Spanish"
          ],
          [
           "Only OK!"
          ],
          [
           "Very good restaurant"
          ],
          [
           "Cozy vibe, great service!"
          ],
          [
           "Cosy, quick, cheap - and a great response."
          ],
          [
           "Delicious food with excellent services"
          ],
          [
           "Excellent food and service "
          ],
          [
           "GREAT Tapas"
          ],
          [
           "Excellent food and wine!!!"
          ],
          [
           "Wonderful tapas"
          ],
          [
           "Worth the price & wait"
          ],
          [
           "A very nice place - even for 2 vegetarians"
          ],
          [
           "A little too rushed"
          ],
          [
           "Nice place, good food, helpful staff"
          ],
          [
           "Metro Bistro Simply the Best!"
          ],
          [
           "Great Spot near Plaza Mayor"
          ],
          [
           "Great Performance!!"
          ],
          [
           "A gourmand experience in Madrid "
          ],
          [
           "Simply excellent"
          ],
          [
           "Best meal in madrid!"
          ],
          [
           "Great fresh food!"
          ],
          [
           "Flowers and food"
          ],
          [
           "Paella Y Sangria "
          ],
          [
           "Sooo Nice, exiting menues and drinks"
          ],
          [
           "We had a nice experience,"
          ],
          [
           "The Highlight of our Trip!"
          ],
          [
           "Fun place"
          ],
          [
           "Friendly welcome and great staff"
          ],
          [
           "Best Burger in Town!! And the Town is MADRID!!!"
          ],
          [
           "Stunning Burgers "
          ],
          [
           "Welcoming"
          ],
          [
           "Really Delivers"
          ],
          [
           "Nice Italian food"
          ],
          [
           "Great food - disappointing service"
          ],
          [
           "Excellent pizza for a reasonable price"
          ],
          [
           "Terrible, not testing food, flavorless, only salmon salad was good"
          ],
          [
           "Amazing tapas and excellent service"
          ],
          [
           "Awesome tapas"
          ],
          [
           "Perfect for a Quick Meal "
          ],
          [
           "Delicious food at a great price"
          ],
          [
           "Nice young urban tapas bar"
          ],
          [
           "Very good, not touristy near Plaza Mayor"
          ],
          [
           "Nice food, lovely restaurants"
          ],
          [
           "Wonderful Restaurant with Knowledgeable and Friendly Waitstaff"
          ],
          [
           "Very nice, quality restaurant in the heart of the city"
          ],
          [
           "Nice gastronomic restaurant in the center of Madrid, super value/price"
          ],
          [
           "Great lunch "
          ],
          [
           "Good place"
          ],
          [
           "Love This Place"
          ],
          [
           "Don't miss this place"
          ],
          [
           "Good food"
          ],
          [
           "great pork ribs and salad, excellent service"
          ],
          [
           "Good food"
          ],
          [
           "Great service and food"
          ],
          [
           "Great beef burgers in jamon city!"
          ],
          [
           "Friendly Staff, Good Food"
          ],
          [
           "Best burger"
          ],
          [
           "Amazing burger"
          ],
          [
           "Better than standard "
          ],
          [
           "Great Pizza "
          ],
          [
           "It was worth it! "
          ],
          [
           "Very good and not expensive food close to Puerta del Sol"
          ],
          [
           "Surprisingly good italian food in the heart of Madrid"
          ],
          [
           "Date with my niece"
          ],
          [
           "Very good food and Services"
          ],
          [
           "Friendly staff & great food"
          ],
          [
           "Yummy"
          ],
          [
           "This place is NOT halal"
          ],
          [
           "Outstanding burgers"
          ],
          [
           "great burgers and service"
          ],
          [
           "Spanish in garnishing, American in menu and service"
          ],
          [
           "Beef or Ox ?"
          ],
          [
           "Good italian food"
          ],
          [
           "Delicious!!"
          ],
          [
           "Confusing "
          ],
          [
           "Amazing restaurant"
          ],
          [
           "Great place!! "
          ],
          [
           "Birthday Celebration"
          ],
          [
           "Excellent meal in great location "
          ],
          [
           "Excellent Italian food"
          ],
          [
           "Perfect 👌"
          ],
          [
           "Family Group Dinner"
          ],
          [
           "slow slow disorganized"
          ],
          [
           "To swear my god, you'll never regret to get in here."
          ],
          [
           "Excellent "
          ],
          [
           "Fantastic Tapas"
          ],
          [
           "Excellent!"
          ],
          [
           "Wonderful tapas!"
          ],
          [
           "Great service and some nice tapas "
          ],
          [
           "Great restaurant"
          ],
          [
           "Loved it so much we went 3 times in 3 days!"
          ],
          [
           "Don't miss when in Madrid! "
          ],
          [
           "Friendly & Delicious!"
          ],
          [
           "Delicious paella"
          ],
          [
           "Good Italian restaurant in Madrid."
          ],
          [
           "Very nice food "
          ],
          [
           "Great place delicious food"
          ],
          [
           "Enjoyed very much!"
          ],
          [
           "Good italian food"
          ],
          [
           "Loving the Oven"
          ],
          [
           "Will recomend to everyone"
          ],
          [
           "Amazing restaurant"
          ],
          [
           "Excelente experiencia!"
          ],
          [
           "Great service by Kevin, food was good."
          ],
          [
           "Great experience, great food"
          ],
          [
           "Thank you for the great service"
          ],
          [
           "Great burgers!"
          ],
          [
           "really excellent burger in Madrid!"
          ],
          [
           "Best ribs in Europe"
          ],
          [
           "Best burger "
          ],
          [
           "Great place"
          ],
          [
           "Great restaurant"
          ],
          [
           "Great!"
          ],
          [
           "Tourism"
          ],
          [
           "Amazing Italian Food"
          ],
          [
           "Decent"
          ],
          [
           "Very good pasta"
          ],
          [
           "Great location, food and good value!"
          ],
          [
           "Good food, good staff, good location!"
          ],
          [
           "A good one in the heart of Madrid"
          ],
          [
           "Also good for a relaxed late-night drink or two"
          ],
          [
           "A bit disappointed."
          ],
          [
           "Great tapas!"
          ],
          [
           "Great food and great service"
          ],
          [
           "Great waiter and food"
          ],
          [
           "Literally THE BEST FOOD"
          ],
          [
           "Yummy Italy in Spain"
          ],
          [
           "Great food!"
          ],
          [
           "Ben Thompson"
          ],
          [
           "Excellent"
          ],
          [
           "Great"
          ],
          [
           "Excellent Italian dinner"
          ],
          [
           "Excellent Dinner"
          ],
          [
           "Great restaurant "
          ],
          [
           "Nice Italian with good service"
          ],
          [
           "Early Evening Meal"
          ],
          [
           "Great place!"
          ],
          [
           "Nice time at Oven Mozzarella Bar"
          ],
          [
           "great food!"
          ],
          [
           "A good choice"
          ],
          [
           "Delicious and excellent value"
          ],
          [
           "Highly Recommend"
          ],
          [
           "Simple and delicious!!"
          ],
          [
           "What a great place with a heart"
          ],
          [
           "paella and Sangria"
          ],
          [
           "Great value Tapas"
          ],
          [
           "Wonderful place!"
          ],
          [
           "Family Dinner"
          ],
          [
           "Amazing! "
          ],
          [
           "Fantastic Tapas"
          ],
          [
           "Fun restaurant, good food"
          ],
          [
           "A gem for tapas"
          ],
          [
           "Enjoyed it"
          ],
          [
           "Great service and food"
          ],
          [
           "Lively tasty place for Paella and wine"
          ],
          [
           "We love Eve and the place"
          ],
          [
           "Real good Spanish food"
          ],
          [
           "Special Restaurants"
          ],
          [
           "Tapas but not as you know it! Delicious! "
          ],
          [
           "Omg... soooooo yummy"
          ],
          [
           "Perfect Stop!"
          ],
          [
           "Utterly scrumptious"
          ],
          [
           "Great Experience!"
          ],
          [
           "Good food and service!!!"
          ],
          [
           "Thank you "
          ],
          [
           "Excellent food good atmosphere"
          ],
          [
           "Highly recommended"
          ],
          [
           "Food is good"
          ],
          [
           "Great food at a good price"
          ],
          [
           "Fabulous Food and Staff!"
          ],
          [
           "Great Food and Nice Staff"
          ],
          [
           "Great Tapas at Great Prices"
          ],
          [
           "Amazing tapas"
          ],
          [
           "Incredible tapas"
          ],
          [
           "Great fun hidden gem"
          ],
          [
           "Amazing as always "
          ],
          [
           "Dinner from recommendation: worth it!"
          ],
          [
           "Lovely Tapas"
          ],
          [
           "Good food, good environment, great drinks"
          ],
          [
           "Makes you feel at home from the beginning!"
          ],
          [
           "Delicious food and very helpful"
          ],
          [
           "Would recommend! "
          ],
          [
           "Worth a visit! "
          ],
          [
           "Lunch "
          ],
          [
           "Tapas Tapas Tapas"
          ],
          [
           "Best customer service -- EVA the waitress a sweet heart"
          ],
          [
           "Beautiful Eva and owners and staff"
          ],
          [
           "Awesome bar!"
          ],
          [
           "Wonderful service and gorgeous food!"
          ],
          [
           "delicious food at an affordable rate"
          ],
          [
           "A gem in Madrid!"
          ],
          [
           "Great Food and Great Service"
          ],
          [
           "I recommend this!"
          ],
          [
           "Delicioso!!!!! Y estiloso   "
          ],
          [
           "Lovely end to a fantastic weekend "
          ],
          [
           "Busy all the time"
          ],
          [
           "A great find "
          ],
          [
           "Great experience"
          ],
          [
           "Excellent food & atmosphere, friendly staff"
          ],
          [
           "Good Food, Good Fun, Great place"
          ],
          [
           "It was amazing!!! Very delicious"
          ],
          [
           "Restaurant recommended in all respects First of cleanliness Serving dish Ambience Friendly waiters The most delicious fo"
          ],
          [
           "One of the best Italian Restaurants outside if Italy"
          ],
          [
           "Beautiful Pizza "
          ],
          [
           "Great Tapas Fusion Style "
          ],
          [
           "Excellent Corpas & Tapas "
          ],
          [
           "Excellent!"
          ],
          [
           "Small place with authentic Spanish tapas"
          ],
          [
           "Fab meal! "
          ],
          [
           "Good food but terrible service"
          ],
          [
           "Oh Yes!"
          ],
          [
           "Friendly service good food"
          ],
          [
           "Recommended!"
          ],
          [
           "Great place to eat."
          ],
          [
           "Dinner at very reasonable prices"
          ],
          [
           "Great food, great service"
          ],
          [
           "Great food, service and very reasonable prices"
          ],
          [
           "Stylish pizza joint"
          ],
          [
           "Delicious !!! Best tagliatelle bolognese i ever had !!!"
          ],
          [
           "Great Pizza and Riocha "
          ],
          [
           "Kill me if I understand the rating"
          ],
          [
           "Excellent tapas"
          ],
          [
           "A Favorite in Madrid"
          ],
          [
           "Nice little place off the beaten path"
          ],
          [
           "Fabulous Steak"
          ],
          [
           "Great Change of Pace"
          ],
          [
           "Super nice place"
          ],
          [
           "Worth a visit! The best steak, ever.."
          ],
          [
           "The best restaurant for an Argentian steak"
          ],
          [
           "Excellent cheese breton"
          ],
          [
           "Worth the money, specially parilla grilled meat"
          ],
          [
           "Good cheap coffee, one euro!"
          ],
          [
           "A charming find off the beaten track."
          ],
          [
           "Recommended "
          ],
          [
           "Best meal experience throughout my trip in Spain"
          ],
          [
           "Doesn't deserve the high rating"
          ],
          [
           "Outstanding Service with Outstanding Steaks"
          ],
          [
           "Beautiful steak restaurant"
          ],
          [
           "Fabulous"
          ],
          [
           "Meat lovers Restaurant!"
          ],
          [
           "Great place to eat"
          ],
          [
           "Always busy...."
          ],
          [
           "Really nice place"
          ],
          [
           "Great Italian restaurant!!"
          ],
          [
           "Pasta & Pizza for good prizes"
          ],
          [
           "Authentc Pizza"
          ],
          [
           "Excellent Food and a great Staff"
          ],
          [
           "Lunch"
          ],
          [
           "Good job!"
          ],
          [
           "Poor service and awful wine and food"
          ],
          [
           "Craved It All Day!"
          ],
          [
           "Tasty steaks salads n more"
          ],
          [
           "Excellent meal"
          ],
          [
           "Good meat. "
          ],
          [
           "A bit disappointed "
          ],
          [
           "Great Restaurant for Meat Lovers"
          ],
          [
           "Food is excellent"
          ],
          [
           "Absolutely Delicious!!"
          ],
          [
           "Great food, great service"
          ],
          [
           "A M A Z I N G"
          ],
          [
           "Top level beef "
          ],
          [
           "Great food and staff"
          ],
          [
           "Great Vibe, Cheap Food & Drink!"
          ],
          [
           "Great for a cheap eat"
          ],
          [
           "Outstanding services and tapas"
          ],
          [
           "Fantastic"
          ],
          [
           "Great burgers"
          ],
          [
           "A little disappointing"
          ],
          [
           "Real steak burgers with a smile!"
          ],
          [
           "Very nice!"
          ],
          [
           "Dinner"
          ],
          [
           "Good burgers, great wings"
          ],
          [
           "Excellent food & service"
          ],
          [
           "Fantastic steaks and wonderful service  "
          ],
          [
           "Must visit for meat eaters and wind lovers)"
          ],
          [
           "Truly amazing experience "
          ],
          [
           "Fantastic Argentinian steak"
          ],
          [
           "Really tasty pizza and smoked mozzarella. "
          ],
          [
           "Great place!"
          ],
          [
           "Great food,  great ambience, would be happy to return"
          ],
          [
           "Home away from home "
          ],
          [
           "They know their steak and their burgers"
          ],
          [
           "EF Tours"
          ],
          [
           "Best burger I've had"
          ],
          [
           "Happy? Green? Sustainable?"
          ],
          [
           "Great steak"
          ],
          [
           "Great restaurant that is recommended for meat lovers"
          ],
          [
           "Excellent"
          ],
          [
           "Brilliant steaks"
          ],
          [
           "Dinner "
          ],
          [
           "Wonderful! "
          ],
          [
           "Excelllent meal and this place opens before 9pm!"
          ],
          [
           "Such a memorable meal!"
          ],
          [
           "Delicious Food with Friendly Staff"
          ],
          [
           "TIME FOR A TAPAS"
          ],
          [
           "Brilliant"
          ],
          [
           "Amazing Food, Friendly Service"
          ],
          [
           "Most enjoyable time in Madrid thus far!"
          ],
          [
           "great for something familiar"
          ],
          [
           "Good grilled burgers"
          ],
          [
           "Steak Like Nothing Else..."
          ],
          [
           "Great steak!!"
          ],
          [
           "High-quality beef"
          ],
          [
           "Exquisite"
          ],
          [
           "Excellent!"
          ],
          [
           "The Best Meat Ever"
          ],
          [
           "Burgers and much more!"
          ],
          [
           "Excellent beef!!!!"
          ],
          [
           "Don't miss this little gem! "
          ],
          [
           "Disappointed"
          ],
          [
           "Amazing...."
          ],
          [
           "great meat"
          ],
          [
           "A must go steak restaurant"
          ],
          [
           "Not impressed "
          ],
          [
           "Well worth a visit!"
          ],
          [
           "Great Burger"
          ],
          [
           "Good food, eveb better staff"
          ],
          [
           "Great Burger... Unique presentation"
          ],
          [
           "Amazing "
          ],
          [
           "Delicious fillet steak "
          ],
          [
           "super authentic"
          ],
          [
           "Disappointingly Average"
          ],
          [
           "The steak place of Madrid"
          ],
          [
           "A bit of Argentina in Madrid"
          ],
          [
           "Unique cafe with incredible food!"
          ],
          [
           "Drinks with a Twist"
          ],
          [
           "Loved this place "
          ],
          [
           "Best tapas experience "
          ],
          [
           "Super fun bar / restaurant"
          ],
          [
           "Great food great service"
          ],
          [
           "Great steaks"
          ],
          [
           "Just great!"
          ],
          [
           "Great steak"
          ],
          [
           "Really great!"
          ],
          [
           "Top Notch place "
          ],
          [
           "Such fun!"
          ],
          [
           "Great last dinner in Madrid"
          ],
          [
           "Dinner after long drive back from San Sebastián.  "
          ],
          [
           "Great place near Atocha"
          ],
          [
           "Tasty burguers"
          ],
          [
           "Perfect!"
          ],
          [
           "Succulent"
          ],
          [
           "Great food, great service, great atmosphere."
          ],
          [
           "Fantastic steak"
          ],
          [
           "Wow - best steak I have ever had"
          ],
          [
           "Best bar in Madrid"
          ],
          [
           "amazing food"
          ],
          [
           "Fabulous food,drinks and staff are amazing!!"
          ],
          [
           "Nice place for a drink"
          ],
          [
           "Amazing! "
          ],
          [
           "No, thanks"
          ],
          [
           "A....Ma....Zing.  Steak lovers eat here!"
          ],
          [
           "So amazing we HAD to go back!"
          ],
          [
           "Great food and service"
          ],
          [
           "Great food, great service."
          ],
          [
           "Great burger"
          ],
          [
           "That is a tasty burger."
          ],
          [
           "Best Burger Ever (and we're from the States!)"
          ],
          [
           "Great burgers"
          ],
          [
           "Really good food"
          ],
          [
           "nice coctails"
          ],
          [
           "Nice spot"
          ],
          [
           "Great mojitos"
          ],
          [
           "Soul food"
          ],
          [
           "A WOW food experience!"
          ],
          [
           "Best steak, sauages & wine in Madrid for value."
          ],
          [
           "fantastic staek!!"
          ],
          [
           "Amazing steaks!"
          ],
          [
           "Great Steaks "
          ],
          [
           "Couple"
          ],
          [
           "Best meal on our 9 day Spain vacation"
          ],
          [
           "Hamburgers in madrid. Yes."
          ],
          [
           "spontaneous lunch stop"
          ],
          [
           "Delicious burgers"
          ],
          [
           "Great food and service!"
          ],
          [
           "Great place for an early drink of light bite in good weather."
          ],
          [
           "A wonderful night watching people walk by as we sipped our Gin and Tonics."
          ],
          [
           "Excellent steaks"
          ],
          [
           "Could have been much better"
          ],
          [
           "Like being in Argentina!"
          ],
          [
           "Amazing Tapas Lunch"
          ],
          [
           "Great food, service off the pace"
          ],
          [
           "We came for the gin & stayed for the tapas!"
          ],
          [
           "Great food and service!!"
          ],
          [
           "Really good food, affordable and friendly staff"
          ],
          [
           "Great food, okay wine"
          ],
          [
           "Great mini bat"
          ],
          [
           "Best goat cheese I’ve ever had in my life"
          ],
          [
           "Great pizza!"
          ],
          [
           "~~~ Very Good Italian Food ~~~"
          ],
          [
           "Very good!"
          ],
          [
           "Great ambience, good food, fantastic cocktails!"
          ],
          [
           "Really worth the visit"
          ],
          [
           "Título "
          ],
          [
           "Service & Food was great!"
          ],
          [
           "Very tasty "
          ],
          [
           "Ladies who lunch"
          ],
          [
           "Mini but tasty! "
          ],
          [
           "Best octopus in madrid"
          ],
          [
           "the best place for tapas"
          ],
          [
           "Stunning"
          ],
          [
           "Best Tapas in Madrid!"
          ],
          [
           "Tasty food, pleasant service"
          ],
          [
           "delicious"
          ],
          [
           "Would not recommend"
          ],
          [
           "Mediocre Paella"
          ],
          [
           "Awesome Off the Beaten Path Restaurant"
          ],
          [
           "Modern Tapas - right near Sol"
          ],
          [
           "Fabulous paella!"
          ],
          [
           "What a find. "
          ],
          [
           "Best Restaurant In Madrid"
          ],
          [
           "First Night"
          ],
          [
           "Tasty Pizza!"
          ],
          [
           "Quality Ingredients, Reasonable Prices, Nice Atmosphere"
          ],
          [
           "What a lovely place!"
          ],
          [
           "Excellent atmosphere"
          ],
          [
           "Food"
          ]
         ],
         "hovertemplate": "x_coord=%{x}<br>y_coord=%{y}<br>title=%{customdata[0]}<br>rating=%{marker.color}<extra></extra>",
         "legendgroup": "",
         "marker": {
          "color": [
           4,
           1,
           5,
           5,
           5,
           5,
           5,
           5,
           5,
           5,
           5,
           5,
           5,
           5,
           5,
           5,
           5,
           5,
           5,
           5,
           5,
           5,
           5,
           5,
           5,
           2,
           5,
           5,
           5,
           5,
           5,
           5,
           5,
           4,
           5,
           5,
           5,
           5,
           5,
           5,
           5,
           3,
           5,
           5,
           5,
           5,
           5,
           5,
           5,
           3,
           5,
           5,
           3,
           5,
           5,
           5,
           5,
           5,
           5,
           5,
           5,
           5,
           5,
           5,
           2,
           4,
           1,
           4,
           4,
           5,
           5,
           5,
           5,
           5,
           5,
           5,
           5,
           5,
           5,
           5,
           5,
           5,
           5,
           5,
           5,
           5,
           5,
           5,
           5,
           5,
           5,
           5,
           5,
           5,
           5,
           5,
           5,
           3,
           2,
           4,
           5,
           5,
           5,
           5,
           5,
           5,
           3,
           5,
           5,
           5,
           5,
           5,
           5,
           5,
           5,
           1,
           5,
           5,
           2,
           5,
           5,
           5,
           5,
           5,
           5,
           5,
           5,
           3,
           4,
           5,
           5,
           5,
           5,
           4,
           2,
           5,
           5,
           5,
           4,
           5,
           4,
           3,
           5,
           5,
           5,
           5,
           5,
           5,
           5,
           5,
           5,
           5,
           2,
           5,
           5,
           5,
           4,
           5,
           5,
           5,
           5,
           5,
           5,
           4,
           5,
           5,
           5,
           5,
           5,
           5,
           5,
           5,
           5,
           5,
           5,
           5,
           5,
           5,
           5,
           5,
           5,
           5,
           5,
           5,
           5,
           4,
           5,
           5,
           5,
           1,
           1,
           3,
           5,
           5,
           5,
           5,
           5,
           5,
           5,
           5,
           2,
           5,
           5,
           5,
           5,
           5,
           5,
           5,
           5,
           5,
           4,
           5,
           5,
           4,
           5,
           4,
           3,
           5,
           5,
           5,
           5,
           5,
           5,
           5,
           5,
           5,
           5,
           5,
           5,
           5,
           5,
           5,
           5,
           5,
           5,
           5,
           5,
           5,
           5,
           5,
           5,
           5,
           5,
           5,
           5,
           5,
           5,
           5,
           5,
           5,
           5,
           4,
           5,
           5,
           5,
           5,
           4,
           5,
           4,
           5,
           5,
           5,
           5,
           5,
           5,
           5,
           5,
           5,
           5,
           5,
           5,
           5,
           5,
           5,
           5,
           5,
           5,
           5,
           5,
           5,
           5,
           5,
           5,
           5,
           5,
           5,
           5,
           5,
           5,
           5,
           5,
           4,
           5,
           4,
           3,
           5,
           5,
           5,
           5,
           5,
           5,
           5,
           5,
           5,
           5,
           5,
           5,
           5,
           5,
           5,
           5,
           5,
           5,
           4,
           5,
           3,
           5,
           5,
           5,
           5,
           5,
           5,
           5,
           5,
           5,
           3,
           2,
           5,
           5,
           5,
           5,
           3,
           5,
           5,
           5,
           5,
           5,
           5,
           5,
           5,
           5,
           5,
           5,
           5,
           5,
           5,
           4,
           1,
           5,
           5,
           5,
           5,
           5,
           5,
           5,
           5,
           5,
           5,
           5,
           5,
           5,
           5,
           5,
           5,
           5,
           2,
           1,
           5,
           5,
           5,
           5,
           5,
           5,
           5,
           5,
           5,
           4,
           5,
           5,
           5,
           3,
           5,
           5,
           5,
           2,
           5,
           5,
           2,
           5,
           4,
           5,
           5,
           5,
           5,
           5,
           4,
           1,
           5,
           5,
           5,
           3,
           3,
           5,
           5,
           5,
           2,
           5,
           5,
           5,
           5,
           5,
           5,
           5,
           5,
           3,
           5,
           5,
           5,
           5,
           5,
           5,
           5,
           5,
           5,
           5,
           5,
           4,
           5,
           4,
           5,
           5,
           5,
           5,
           5,
           5,
           5,
           5,
           4,
           4,
           4,
           5,
           1,
           4,
           5,
           1,
           5,
           5,
           4,
           5,
           4,
           5,
           3,
           5,
           4,
           3,
           2,
           4,
           5,
           5,
           5,
           5,
           5,
           5,
           5,
           5,
           5,
           1,
           2,
           5,
           4,
           4,
           4,
           5,
           5,
           4,
           5,
           2,
           5,
           5,
           5,
           5,
           4,
           5,
           5,
           5,
           5,
           4,
           4,
           4,
           5,
           3,
           2,
           4,
           5,
           3,
           5,
           5,
           5,
           1,
           1,
           5,
           5,
           5,
           3,
           4,
           5,
           3,
           5,
           5,
           4,
           4,
           3,
           3,
           4,
           2,
           5,
           2,
           5,
           5,
           5,
           1,
           5,
           5,
           5,
           5,
           5,
           1,
           4,
           3,
           4,
           4,
           1,
           5,
           5,
           5,
           5,
           5,
           5,
           5,
           4,
           4,
           5,
           5,
           5,
           5,
           5,
           5,
           4,
           5,
           5,
           5,
           3,
           5,
           5,
           5,
           5,
           4,
           1,
           5,
           5,
           5,
           5,
           4,
           5,
           5,
           5,
           5,
           5,
           5,
           5,
           5,
           4,
           5,
           4,
           5,
           5,
           4,
           5,
           5,
           4,
           3,
           5,
           4,
           5,
           5,
           5,
           5,
           5,
           5,
           5,
           5,
           5,
           3,
           5,
           5,
           5,
           5,
           5,
           5,
           5,
           5,
           5,
           5,
           5,
           5,
           5,
           5,
           3,
           5,
           5,
           2,
           5,
           5,
           5,
           5,
           5,
           5,
           5,
           5,
           5,
           5,
           4,
           5,
           5,
           5,
           5,
           5,
           5,
           4,
           4,
           5,
           5,
           5,
           5,
           5,
           5,
           5,
           5,
           5,
           5,
           5,
           4,
           4,
           5,
           5,
           5,
           5,
           5,
           3,
           5,
           5,
           5,
           4,
           5,
           5,
           5,
           5,
           5,
           5,
           4,
           5,
           5,
           5,
           5,
           3,
           5,
           5,
           5,
           5,
           5,
           5,
           5,
           5,
           5,
           4,
           5,
           5,
           5,
           5,
           5,
           5,
           4,
           4,
           5,
           4,
           5,
           5,
           5,
           5,
           5,
           5,
           5,
           5,
           5,
           5,
           4,
           3,
           5,
           5,
           5,
           5,
           5,
           5,
           5,
           5,
           5,
           5,
           5,
           5,
           5,
           5,
           5,
           5,
           5,
           4,
           5,
           5,
           5,
           5,
           2,
           5,
           5,
           5,
           5,
           5,
           5,
           5,
           5,
           5,
           2,
           5,
           5,
           5,
           5,
           5,
           5,
           5,
           5,
           5,
           5,
           5,
           4,
           5,
           5,
           5,
           5,
           5,
           5,
           5,
           5,
           4,
           5,
           5,
           2,
           5,
           5,
           1,
           5,
           4,
           5,
           5,
           5,
           5,
           5,
           5,
           5,
           5,
           5,
           4,
           5,
           5,
           5,
           4,
           5,
           5,
           5,
           5,
           5,
           5,
           5,
           5,
           5,
           1,
           5,
           5,
           5,
           4,
           5,
           4,
           5,
           5,
           5,
           5,
           5,
           5,
           5,
           5,
           5,
           5,
           5,
           5,
           5,
           5,
           5,
           5,
           5,
           5,
           5,
           5,
           5,
           5,
           5,
           5,
           5,
           5,
           1,
           4,
           5,
           4,
           5,
           5,
           5,
           5,
           5,
           5,
           5,
           5,
           5,
           5,
           5,
           5,
           5,
           3,
           5,
           4,
           5,
           5,
           5,
           5,
           5,
           4,
           5,
           5,
           5,
           5,
           4,
           5,
           5,
           4,
           5,
           5,
           5,
           5,
           5,
           5,
           5,
           5,
           5,
           4,
           5,
           5,
           5,
           5,
           5,
           5,
           4,
           5,
           5,
           5,
           5,
           5,
           5,
           5,
           5,
           5,
           4,
           5,
           5,
           5,
           5,
           5,
           5,
           5,
           5,
           5,
           5,
           5,
           5,
           5,
           5,
           5,
           5,
           5,
           5,
           5,
           5,
           5,
           5,
           5,
           5,
           5,
           5,
           5,
           5,
           5,
           5,
           5,
           5,
           3,
           5,
           5,
           5,
           5,
           5,
           5,
           5,
           4,
           4,
           5,
           3,
           5,
           5,
           5,
           5,
           5,
           5,
           5,
           5,
           5,
           5,
           5,
           4,
           5,
           3,
           5,
           5,
           5,
           5,
           5,
           5,
           5,
           5,
           5,
           5,
           5,
           5,
           5,
           5,
           5,
           5,
           5,
           5,
           5,
           5,
           5,
           5,
           5,
           5,
           5,
           5,
           5,
           5,
           5,
           5,
           5,
           5,
           4,
           5,
           5,
           5,
           5,
           5,
           5,
           5,
           5,
           5,
           5,
           5,
           5,
           5,
           5,
           5,
           5,
           5,
           5,
           2,
           5,
           3,
           5,
           5,
           4,
           3,
           2,
           5,
           5,
           2,
           5,
           5,
           5,
           5,
           5,
           5,
           5,
           5,
           5,
           5,
           5,
           5,
           4,
           5,
           5,
           5,
           5,
           5,
           5,
           5,
           5,
           5,
           5,
           5,
           5,
           5,
           5,
           5,
           5,
           5,
           5,
           5,
           5,
           5,
           5,
           5,
           5,
           5,
           5,
           5,
           5,
           5,
           5,
           5,
           5,
           5,
           5,
           5,
           5,
           5,
           5,
           5,
           5,
           4,
           5,
           5,
           4,
           5,
           5,
           5,
           5,
           5,
           4,
           5,
           5,
           5,
           5,
           5,
           5,
           5,
           5,
           5,
           5,
           5,
           5,
           5,
           5,
           5,
           3,
           5,
           5,
           5,
           5,
           5,
           5,
           5,
           5,
           5,
           5,
           5,
           5,
           5,
           5,
           5,
           4,
           5,
           5,
           5,
           5,
           4,
           5,
           4,
           5,
           4,
           5,
           5,
           4,
           1,
           5,
           5,
           5,
           5,
           5,
           5,
           5,
           5,
           5,
           2,
           4,
           5,
           5,
           5,
           5,
           2,
           5,
           5,
           5,
           5,
           5,
           5,
           1,
           5,
           5,
           5,
           5,
           5,
           5,
           5,
           5,
           5,
           5,
           5,
           4,
           5,
           5,
           5,
           5,
           5,
           5,
           5,
           5,
           5,
           5,
           5,
           5,
           5,
           5,
           5,
           5,
           3,
           2,
           5,
           3,
           5,
           5,
           5,
           4,
           5,
           5,
           5,
           5,
           5,
           4,
           5,
           5,
           5,
           5,
           5,
           5,
           5,
           5,
           5,
           5,
           5,
           5,
           5,
           5,
           5,
           5,
           5,
           3,
           5,
           5,
           5,
           5,
           4,
           5,
           2,
           5,
           5,
           5,
           5,
           5,
           5,
           5,
           5,
           5,
           5,
           5,
           5,
           5,
           5,
           5,
           5,
           5,
           3,
           5,
           5,
           5,
           5,
           5,
           5,
           5,
           5,
           5,
           4,
           5,
           5,
           5,
           5,
           5,
           5,
           5,
           5,
           4,
           5,
           2,
           5,
           5,
           5,
           5,
           5,
           5,
           5,
           5,
           4,
           5,
           5,
           5,
           4,
           5,
           5,
           4,
           5,
           4,
           5,
           5,
           5,
           5,
           5,
           5,
           5,
           5,
           4,
           5,
           5,
           5,
           5,
           5,
           4,
           5,
           5,
           5,
           5,
           5,
           5,
           5,
           1,
           5,
           5,
           5,
           5,
           5,
           5,
           4,
           2,
           5,
           5,
           5,
           4,
           5,
           5,
           5,
           5,
           4,
           5,
           5,
           5,
           5,
           5,
           3,
           5,
           5,
           5,
           5,
           5,
           5,
           5,
           5,
           5,
           5,
           5,
           5,
           5,
           5,
           5,
           5,
           4,
           4,
           5,
           5,
           5,
           4,
           5,
           5,
           5,
           4,
           5,
           5,
           5,
           5,
           5,
           4,
           1,
           5,
           5,
           5,
           5,
           3,
           5,
           5,
           5,
           5,
           5,
           5,
           5,
           5,
           5,
           5,
           5,
           4,
           5,
           5,
           4,
           5,
           5,
           5,
           4,
           5,
           5,
           5,
           5,
           5,
           5,
           5,
           4,
           5,
           5,
           4,
           4,
           4,
           5,
           5,
           4,
           4,
           4,
           5,
           5,
           4,
           4,
           4,
           4,
           4,
           5,
           4,
           2,
           4,
           4,
           3,
           5,
           5,
           5,
           5,
           5,
           5,
           5,
           5,
           4,
           5,
           5,
           5,
           5,
           5,
           5,
           5,
           5,
           5,
           5,
           5,
           5,
           5,
           5,
           5,
           5,
           4,
           4,
           5,
           5,
           5,
           5,
           4,
           5,
           5,
           5,
           5,
           4,
           5,
           5,
           5,
           5,
           5,
           5,
           4,
           5,
           4,
           5,
           5,
           4,
           5,
           5,
           5,
           5,
           5,
           3,
           5,
           5,
           5,
           5,
           5,
           5,
           5,
           5,
           5,
           5,
           5,
           5,
           5,
           5,
           5,
           5,
           5,
           5,
           5,
           5,
           5,
           5,
           5,
           5,
           5,
           5,
           5,
           5,
           4,
           5,
           5,
           5,
           5,
           4,
           5,
           5,
           5,
           5,
           5,
           5,
           4,
           5,
           5,
           5,
           5,
           5,
           5,
           5,
           5,
           1,
           5,
           5,
           4,
           5,
           5,
           5,
           5,
           5,
           5,
           5,
           5,
           5,
           5,
           5,
           5,
           4,
           5,
           5,
           5,
           5,
           5,
           5,
           5,
           5,
           5,
           5,
           5,
           5,
           4,
           5,
           5,
           5,
           5,
           5,
           5,
           5,
           5,
           5,
           5,
           4,
           5,
           4,
           4,
           5,
           4,
           5,
           5,
           5,
           5,
           5,
           5,
           5,
           5,
           5,
           4,
           5,
           4,
           5,
           5,
           5,
           5,
           5,
           5,
           4,
           5,
           5,
           5,
           5,
           5,
           5,
           5,
           5,
           5,
           4,
           5,
           5,
           4,
           5,
           5,
           5,
           5,
           5,
           4,
           4,
           5,
           5,
           5,
           5,
           5,
           5,
           5,
           5,
           4,
           4,
           5,
           5,
           4,
           5,
           5,
           5,
           5,
           5,
           4,
           4,
           5,
           4,
           5,
           5,
           5,
           5,
           5,
           5,
           5,
           5,
           5,
           5,
           5,
           5,
           5,
           5,
           5,
           4,
           5,
           4,
           5,
           5,
           5,
           5,
           5,
           4,
           5,
           5,
           5,
           5,
           5,
           5,
           5,
           4,
           4,
           5,
           5,
           5,
           5,
           5,
           5,
           5,
           5,
           5,
           5,
           5,
           3,
           5,
           5,
           4,
           4,
           5,
           5,
           4,
           5,
           4,
           5,
           5,
           5,
           4,
           4,
           4,
           4,
           5,
           4,
           4,
           4,
           4,
           4,
           5,
           5,
           5,
           2,
           5,
           5,
           5,
           5,
           5,
           4,
           5,
           5,
           5,
           5,
           4,
           5,
           5,
           3,
           3,
           5,
           4,
           5,
           4,
           5,
           5,
           5,
           5,
           5,
           5,
           5,
           5,
           4,
           5,
           5,
           5,
           5,
           4,
           5,
           4,
           5,
           5,
           4,
           5,
           5,
           5,
           5,
           5,
           4,
           5,
           4,
           5,
           5,
           5,
           5,
           5,
           5,
           5,
           5,
           5,
           5,
           5,
           5,
           5,
           3,
           5,
           5,
           5,
           5,
           5,
           5,
           5,
           5,
           5,
           2,
           5,
           5,
           5,
           4,
           4,
           5,
           4,
           5,
           5,
           5,
           5,
           5,
           4,
           5,
           3,
           5,
           5,
           5,
           5,
           5,
           5,
           5,
           4,
           5,
           5,
           5,
           5,
           5,
           4,
           5,
           5,
           5,
           3,
           5,
           5,
           5,
           5,
           5,
           5,
           5,
           5,
           4,
           5,
           4,
           5,
           4,
           5,
           5,
           3,
           4,
           1,
           5,
           4,
           3,
           5,
           5,
           5,
           5,
           5,
           5,
           5,
           5,
           5,
           5,
           5,
           3,
           5,
           4,
           5,
           5,
           5,
           3,
           4,
           5,
           5,
           5,
           4,
           5,
           3,
           5,
           2,
           5,
           5,
           5,
           5,
           5,
           5,
           5,
           5,
           5,
           4,
           5,
           5,
           3,
           5,
           4,
           5,
           5,
           5,
           4,
           5,
           5,
           5,
           5,
           5,
           4,
           5,
           5,
           5,
           5,
           5,
           5,
           5,
           5,
           5,
           5,
           5,
           5,
           4,
           2,
           5,
           5,
           5,
           5,
           5,
           5,
           5,
           4,
           5,
           5,
           5,
           5,
           4,
           4,
           5,
           5,
           5,
           5,
           5,
           5,
           3,
           5,
           5,
           5,
           5,
           5,
           5,
           5,
           3,
           3,
           2,
           4,
           5,
           5,
           5,
           5,
           5,
           5,
           3,
           5,
           5,
           5,
           5,
           5,
           5,
           4,
           4,
           5,
           4,
           5,
           5,
           5,
           5,
           5,
           5,
           5,
           5,
           5,
           5,
           4,
           4,
           4,
           5,
           5,
           5,
           4,
           5,
           5,
           5,
           5,
           5,
           5,
           3,
           5,
           3,
           4,
           4,
           5,
           4,
           5,
           5,
           4,
           4,
           5,
           5,
           3,
           5,
           5,
           3,
           5,
           5,
           5,
           5,
           4,
           1,
           1,
           5,
           5,
           5,
           5,
           4,
           5,
           5,
           5,
           3,
           5,
           2,
           5,
           5,
           5,
           5,
           5,
           4,
           4,
           5,
           5,
           5,
           5,
           5,
           5,
           5,
           3,
           5,
           5,
           5,
           5,
           5,
           5,
           5,
           4,
           5,
           4,
           4,
           5,
           4,
           3,
           4,
           5,
           5,
           1,
           5,
           5,
           5,
           5,
           5,
           5,
           5,
           5,
           5,
           5,
           5,
           5,
           5,
           5,
           5,
           4,
           4,
           5,
           5,
           4,
           5,
           5,
           4,
           5,
           5,
           4,
           5,
           5,
           4,
           4,
           5,
           1,
           4,
           5,
           4,
           5,
           5,
           5,
           5,
           5,
           5,
           4,
           5,
           3,
           5,
           5,
           5,
           5,
           5,
           5,
           2,
           5,
           5,
           4,
           5,
           5,
           5,
           5,
           5,
           5,
           4,
           5,
           5,
           5,
           5,
           5,
           5,
           5,
           5,
           5,
           5,
           5,
           5,
           5,
           5,
           5,
           5,
           5,
           5,
           5,
           4,
           5,
           5,
           5,
           5,
           5,
           5,
           1,
           5,
           5,
           5,
           4,
           5,
           5,
           4,
           5,
           5,
           5,
           4,
           5,
           5,
           5,
           5,
           5,
           5,
           2,
           1,
           5,
           5,
           5,
           5,
           5,
           5,
           5,
           4,
           5,
           4,
           5,
           4,
           5,
           4,
           4,
           5,
           5,
           4,
           5,
           5,
           5,
           5,
           5,
           5,
           5,
           5,
           3,
           5,
           4,
           5,
           5,
           4,
           5,
           4,
           4,
           5,
           4,
           5,
           4,
           5,
           5,
           4,
           5,
           5,
           5,
           5,
           2,
           5,
           5,
           5,
           5,
           5,
           5,
           4,
           5,
           5,
           4,
           5,
           5,
           5,
           5,
           5,
           5,
           4,
           5,
           5,
           5,
           3,
           5,
           5,
           5,
           5,
           5,
           5,
           5,
           5,
           5,
           5,
           5,
           5,
           5,
           5,
           5,
           5,
           5,
           5,
           5,
           5,
           5,
           5,
           5,
           5,
           4,
           4,
           4,
           2,
           5,
           4,
           5,
           5,
           5,
           5,
           4,
           5,
           5,
           5,
           5,
           5,
           5,
           4,
           5,
           5,
           5,
           5,
           5,
           5,
           5,
           5,
           5,
           5,
           5,
           5,
           5,
           2,
           4,
           5,
           4,
           5,
           5,
           2,
           5,
           5,
           5,
           5,
           5,
           4,
           5,
           5,
           5,
           4,
           5,
           5,
           5,
           5,
           5,
           5,
           4,
           5,
           4,
           5,
           5,
           4,
           4,
           5,
           5,
           5,
           5,
           4,
           5,
           5,
           5,
           5,
           4,
           5,
           5,
           1,
           3,
           5,
           5,
           5,
           3,
           4,
           5,
           5,
           5,
           5,
           5,
           5,
           5,
           5,
           5,
           5,
           5,
           4,
           5,
           5,
           4,
           5,
           5,
           5,
           4,
           4,
           5,
           5,
           4,
           4,
           5,
           5,
           4,
           5,
           5,
           4,
           5,
           5,
           1,
           5,
           1,
           5,
           5,
           5,
           5,
           5,
           3,
           5,
           5,
           4,
           5,
           5,
           5,
           5,
           5,
           5,
           5,
           5,
           5,
           5,
           5,
           5,
           5,
           5,
           5,
           5,
           5,
           5,
           5,
           5,
           5,
           3,
           5,
           5,
           5,
           5,
           5,
           4,
           3,
           5,
           4,
           4,
           4,
           4,
           5,
           5,
           5,
           5,
           5,
           5,
           4,
           5,
           4,
           5,
           5,
           5,
           5,
           5,
           4,
           5,
           5,
           5,
           5,
           5,
           5,
           5,
           5,
           4,
           5,
           4,
           4,
           5,
           5,
           5,
           5,
           5,
           5,
           5,
           5,
           5,
           5,
           4,
           5,
           5,
           5,
           5,
           5,
           5,
           5,
           5,
           5,
           5,
           5,
           5,
           5,
           5,
           5,
           4,
           5,
           5,
           5,
           5,
           5,
           4,
           5,
           5,
           5,
           5,
           5,
           5,
           5,
           4,
           5,
           5,
           1,
           5,
           5,
           4,
           5,
           5,
           5,
           4,
           4,
           5,
           5,
           5,
           5,
           5,
           5,
           4,
           5,
           5,
           5,
           2,
           5,
           5,
           5,
           5,
           5,
           5,
           4,
           5,
           5,
           5,
           5,
           5,
           5,
           5,
           5,
           4,
           5,
           4,
           5,
           5,
           5,
           5,
           5,
           5,
           4,
           4,
           5,
           5,
           2,
           4,
           5,
           4,
           5,
           5,
           5,
           5,
           5,
           5,
           5,
           4,
           5,
           5,
           5,
           1,
           5,
           4,
           5,
           4,
           4,
           5,
           4,
           5,
           5,
           5,
           5,
           5,
           3,
           5,
           4,
           5,
           5,
           3,
           5,
           3,
           5,
           5,
           5,
           5,
           5,
           3,
           5,
           5,
           5,
           5,
           5,
           5,
           4,
           5,
           4,
           3,
           5,
           5,
           5,
           5,
           3,
           5,
           5,
           5,
           5,
           5,
           5,
           4,
           4,
           5,
           3,
           5,
           5,
           3,
           5,
           5,
           5,
           5,
           5,
           5,
           5,
           5,
           5,
           5,
           5,
           5,
           5,
           4,
           5,
           3,
           5,
           5,
           5,
           5,
           5,
           5,
           5,
           5,
           4,
           4,
           5,
           5,
           5,
           5,
           5,
           3,
           5,
           4,
           5,
           5,
           5,
           4,
           5,
           3,
           5,
           3,
           4,
           5,
           5,
           4,
           4,
           5,
           4,
           4,
           4,
           5,
           5,
           3,
           3,
           4,
           5,
           4,
           4,
           4,
           5,
           5,
           5,
           5,
           5,
           5,
           5,
           5,
           5,
           5,
           5,
           5,
           5,
           5,
           5,
           4,
           4,
           2,
           3,
           5,
           4,
           5,
           5,
           5,
           4,
           5,
           5,
           5,
           5,
           5,
           5,
           3,
           5,
           5,
           5,
           5,
           5,
           4,
           5,
           5,
           5,
           5,
           5,
           5,
           5,
           4,
           5,
           5,
           5,
           4,
           5,
           5,
           5,
           5,
           5,
           4,
           5,
           4,
           5,
           5,
           5,
           5,
           5,
           5,
           5,
           5,
           4,
           4,
           5,
           5,
           4,
           5,
           5,
           5,
           4,
           5,
           3,
           5,
           5,
           5,
           5,
           5,
           5,
           5,
           4,
           5,
           4,
           5,
           5,
           4,
           5,
           5,
           5,
           5,
           5,
           5,
           5,
           5,
           5,
           5,
           5,
           5,
           5,
           5,
           5,
           4,
           5,
           5,
           3,
           4,
           5,
           5,
           5,
           4,
           5,
           5,
           5,
           5,
           5,
           5,
           5,
           5,
           5,
           5,
           5,
           5,
           5,
           5,
           5,
           5,
           5,
           4,
           4,
           5,
           5,
           5,
           5,
           5,
           4,
           5,
           5,
           5,
           5,
           5,
           5,
           5,
           5,
           5,
           5,
           5,
           4,
           5,
           5,
           5,
           5,
           5,
           5,
           5,
           5,
           4,
           5,
           5,
           5,
           5,
           5,
           5,
           5,
           5,
           4,
           5,
           5,
           5,
           5,
           5,
           5,
           5,
           5,
           5,
           5,
           5,
           5,
           5,
           5,
           5,
           5,
           5,
           5,
           5,
           5,
           5,
           5,
           5,
           5,
           5,
           4,
           5,
           4,
           5,
           5,
           5,
           5,
           5,
           5,
           4,
           5,
           5,
           5,
           5,
           5,
           5,
           5,
           5,
           4,
           5,
           5,
           5,
           5,
           5,
           4,
           5,
           5,
           5,
           5,
           5,
           5,
           5,
           5,
           4,
           4,
           5,
           5,
           5,
           4,
           5,
           5,
           4,
           5,
           5,
           5,
           5,
           5,
           5,
           5,
           5,
           5,
           5,
           3,
           5,
           5,
           5,
           5,
           5,
           5,
           3,
           5,
           5,
           5,
           5,
           5,
           4,
           3,
           5,
           5,
           5,
           5,
           5,
           5,
           5,
           5,
           5,
           4,
           5,
           5,
           5,
           5,
           5,
           4,
           5,
           5,
           5,
           5,
           5,
           5,
           4,
           3,
           5,
           5,
           5,
           5,
           3,
           3,
           4,
           3,
           3,
           5,
           5,
           5,
           3,
           5,
           5,
           5,
           4,
           5,
           5,
           5,
           5,
           5,
           5,
           5,
           5,
           5,
           1,
           5,
           4,
           5,
           5,
           4,
           5,
           5,
           4,
           4,
           4,
           5,
           5,
           5,
           5,
           5,
           5,
           5,
           5,
           5,
           4,
           5,
           5,
           5,
           5,
           5,
           5,
           5,
           5,
           4,
           5,
           5,
           5,
           4,
           5,
           5,
           5,
           5,
           5,
           5,
           5,
           5,
           5,
           5,
           5,
           3,
           5,
           5,
           5,
           1,
           5,
           4,
           5,
           5,
           5,
           5,
           5,
           5,
           5,
           5,
           5,
           3,
           4,
           5,
           5,
           4,
           5,
           5,
           5,
           5,
           5,
           4,
           5,
           3,
           2,
           4,
           2,
           4,
           4,
           4,
           5,
           5,
           4,
           5,
           5,
           5,
           5,
           5,
           5,
           5,
           5,
           5,
           5,
           5,
           3,
           5,
           5,
           4,
           5,
           4,
           4,
           5,
           4,
           5,
           4,
           5,
           5,
           5,
           4,
           5,
           4,
           5,
           4,
           4,
           5,
           5,
           5,
           5,
           5,
           5,
           5,
           5,
           4,
           5,
           4,
           5,
           4,
           5,
           3,
           5,
           5,
           4,
           5,
           5,
           5,
           5,
           5,
           5,
           5,
           5,
           4,
           5,
           5,
           4,
           5,
           5,
           4,
           5,
           4,
           5,
           5,
           5,
           1,
           4,
           5,
           5,
           5,
           5,
           5,
           5,
           5,
           5,
           5,
           5,
           5,
           5,
           5,
           4,
           4,
           4,
           5,
           4,
           5,
           5,
           4,
           5,
           5,
           5,
           5,
           4,
           5,
           5,
           4,
           5,
           5,
           5,
           4,
           3,
           5,
           4,
           5,
           5,
           5,
           5,
           5,
           5,
           4,
           4,
           5,
           4,
           5,
           5,
           5,
           5,
           5,
           4,
           5,
           5,
           5,
           4,
           4,
           5,
           5,
           5,
           5,
           5,
           5,
           4,
           5,
           5,
           5,
           5,
           5,
           5,
           5,
           5,
           4,
           5,
           1,
           5,
           3,
           5,
           5,
           5,
           4,
           5,
           5,
           5,
           5,
           5,
           4,
           4,
           4,
           5,
           4,
           5,
           5,
           4,
           5,
           5,
           5,
           5,
           5,
           5,
           5,
           5,
           5,
           5,
           5,
           5,
           5,
           5,
           5,
           4,
           5,
           5,
           5,
           5,
           5,
           5,
           5,
           4,
           5,
           5,
           5,
           5,
           5,
           4,
           4,
           5,
           5,
           5,
           5,
           5,
           5,
           5,
           5,
           5,
           5,
           5,
           5,
           5,
           5,
           5,
           5,
           4,
           5,
           4,
           5,
           5,
           4,
           5,
           5,
           5,
           5,
           5,
           5,
           5,
           5,
           5,
           4,
           5,
           5,
           5,
           5,
           1,
           5,
           5,
           5,
           5,
           4,
           5,
           5,
           5,
           5,
           5,
           5,
           5,
           5,
           4,
           5,
           5,
           5,
           5,
           5,
           5,
           5,
           4,
           5,
           5,
           4,
           3,
           5,
           4,
           5,
           5,
           5,
           5,
           5,
           5,
           5,
           5,
           5,
           5,
           5,
           5,
           5,
           4,
           5,
           4,
           5,
           5,
           5,
           5,
           4,
           3,
           5,
           5,
           5,
           5,
           5,
           5,
           1,
           3,
           5,
           4,
           5,
           5,
           4,
           5,
           4,
           4,
           5,
           5,
           5,
           5,
           3,
           5,
           4,
           5,
           4,
           5,
           5,
           5,
           5,
           5,
           5,
           5,
           4,
           5,
           1,
           5,
           2,
           5,
           4,
           4,
           5,
           5,
           4,
           3,
           5,
           5,
           5,
           5,
           4,
           4,
           5,
           5,
           4,
           5,
           5,
           5,
           3,
           4,
           5,
           5,
           5,
           5,
           5,
           3,
           3,
           4,
           4,
           5,
           5,
           4,
           5,
           5,
           5,
           5,
           5,
           5,
           5,
           4,
           3,
           5,
           5,
           5,
           5,
           5,
           4,
           5,
           5,
           5,
           5,
           5,
           5,
           5,
           5,
           4,
           5,
           5,
           5,
           5,
           4,
           5,
           5,
           5,
           5,
           5,
           5,
           5,
           5,
           5,
           5,
           5,
           5,
           5,
           5,
           5,
           5,
           5,
           5,
           4,
           5,
           5,
           5,
           5,
           4,
           5,
           5,
           5,
           5,
           5,
           5,
           5,
           4,
           5,
           4,
           4,
           5,
           5,
           5,
           4,
           5,
           1,
           5,
           5,
           5,
           5,
           5,
           5,
           5,
           5,
           3,
           3,
           5,
           5,
           5,
           3,
           1,
           4,
           5,
           5,
           5,
           5,
           5,
           4,
           5,
           5,
           4,
           5,
           5,
           5,
           4,
           5,
           5,
           5,
           5,
           5,
           4,
           5,
           4,
           5,
           5,
           5,
           5,
           5,
           5,
           5,
           5,
           5,
           5,
           5,
           5,
           5,
           5,
           5,
           4,
           5,
           5,
           4,
           5,
           3,
           5,
           5,
           5,
           5,
           4,
           3,
           5,
           4,
           5,
           5,
           5,
           5,
           5,
           5,
           5,
           5,
           5,
           5,
           5,
           5,
           5,
           5,
           5,
           5,
           4,
           5,
           4,
           4,
           5,
           5,
           4,
           5,
           4,
           5,
           5,
           5,
           5,
           5,
           5,
           5,
           5,
           5,
           5,
           4,
           4,
           5,
           5,
           5,
           5,
           5,
           5,
           5,
           5,
           5,
           5,
           5,
           5,
           5,
           5,
           5,
           4,
           5,
           5,
           5,
           5,
           5,
           4,
           5,
           5,
           5,
           4,
           5,
           4,
           5,
           5,
           2,
           4,
           5,
           5,
           5,
           5,
           5,
           5,
           5,
           3,
           5,
           4,
           5,
           5,
           5,
           5,
           5,
           5,
           5,
           5,
           4,
           4,
           5,
           5,
           5,
           4,
           1,
           5,
           4,
           4,
           5,
           5,
           4,
           4,
           5,
           5,
           5,
           4,
           4,
           5,
           5,
           5,
           5,
           4,
           5,
           5,
           5,
           5,
           5,
           5,
           4,
           5,
           5,
           5,
           5,
           5,
           5,
           5,
           5,
           5,
           4,
           4,
           5,
           4,
           5,
           4,
           5,
           5,
           5,
           5,
           4,
           5,
           5,
           5,
           4,
           5,
           5,
           4,
           5,
           5,
           5,
           5,
           3,
           5,
           5,
           5,
           5,
           5,
           5,
           5,
           5,
           5,
           5,
           5,
           5,
           5,
           4,
           5,
           5,
           5,
           5,
           5,
           5,
           5,
           4,
           5,
           5,
           5,
           5,
           5,
           5,
           4,
           4,
           4,
           5,
           5,
           5,
           5,
           5,
           5,
           4,
           4,
           5,
           4,
           4,
           4,
           5,
           4,
           5,
           5,
           4,
           5,
           4,
           5,
           5,
           4,
           5,
           3,
           5,
           5,
           4,
           4,
           5,
           5,
           4,
           4,
           3,
           5,
           5,
           4,
           5,
           3,
           4,
           5,
           5,
           5,
           5,
           5,
           4,
           5,
           4,
           5,
           5,
           5,
           5,
           5,
           4,
           5,
           5,
           5,
           5,
           4,
           5,
           5,
           5,
           4,
           5,
           4,
           5,
           5,
           5,
           5,
           5,
           5,
           5,
           2,
           5,
           5,
           5,
           4,
           5,
           5,
           3,
           5,
           3,
           5,
           5,
           5,
           5,
           5,
           3,
           4,
           5,
           4,
           5,
           5,
           5,
           5,
           5,
           4,
           5,
           5,
           3,
           5,
           5,
           5,
           5,
           4,
           3,
           5,
           5,
           5,
           5,
           5,
           4,
           5,
           2,
           5,
           5,
           3,
           5,
           4,
           2,
           5,
           5,
           5,
           5,
           5,
           4,
           5,
           5,
           5,
           5,
           4,
           1,
           5,
           5,
           5,
           5,
           4,
           5,
           5,
           4,
           5,
           5,
           5,
           5,
           5,
           5,
           4,
           5,
           5,
           5,
           5,
           4,
           4,
           5,
           5,
           5,
           5,
           5,
           5,
           5,
           5,
           5,
           5,
           4,
           5,
           5,
           5,
           4,
           4,
           3,
           5,
           5,
           5,
           5,
           5,
           5,
           5,
           5,
           5,
           1,
           5,
           5,
           4,
           5,
           5,
           5,
           5,
           5,
           5,
           5,
           5,
           5,
           4,
           5,
           5,
           5,
           5,
           5,
           5,
           5,
           5,
           4,
           5,
           5,
           5,
           5,
           5,
           5,
           5,
           5,
           5,
           4,
           5,
           5,
           5,
           5,
           4,
           5,
           5,
           5,
           5,
           5,
           5,
           5,
           5,
           5,
           5,
           5,
           5,
           5,
           5,
           4,
           5,
           5,
           5,
           5,
           5,
           5,
           5,
           5,
           5,
           5,
           5,
           4,
           5,
           5,
           5,
           3,
           5,
           4,
           5,
           5,
           5,
           5,
           4,
           5,
           5,
           4,
           5,
           5,
           3,
           5,
           5,
           5,
           5,
           5,
           5,
           4,
           4,
           5,
           5,
           4,
           1,
           5,
           3,
           4,
           5,
           5,
           4,
           5,
           3,
           5,
           3,
           4,
           4,
           5,
           5,
           5,
           3,
           4,
           4,
           5,
           5,
           5,
           5,
           2,
           5,
           5,
           5,
           1,
           5,
           5,
           4,
           5,
           4,
           5,
           5,
           5,
           2,
           2,
           5,
           3,
           5,
           4,
           5,
           5,
           5,
           5,
           5,
           5,
           5,
           5,
           5,
           5,
           5,
           5,
           5,
           5,
           1,
           5,
           5,
           5,
           5,
           5,
           4,
           2,
           5,
           5,
           5,
           5,
           5,
           5,
           5,
           5,
           5,
           5,
           5,
           3,
           5,
           5,
           3,
           5,
           5,
           4,
           5,
           5,
           1,
           4,
           4,
           4,
           4,
           5,
           5,
           4,
           4,
           5,
           4,
           5,
           3,
           5,
           5,
           5,
           4,
           4,
           5,
           5,
           5,
           5,
           5,
           5,
           5,
           5,
           5,
           5,
           5,
           4,
           4,
           4,
           4,
           4,
           5,
           5,
           5,
           3,
           4,
           4,
           3,
           4,
           5,
           5,
           4,
           5,
           5,
           5,
           5,
           4,
           5,
           5,
           2,
           5,
           5,
           5,
           5,
           5,
           4,
           4,
           5,
           5,
           4,
           5,
           5,
           4,
           5,
           5,
           5,
           5,
           3,
           3,
           5,
           1,
           5,
           3,
           3,
           2,
           4,
           5,
           5,
           4,
           5,
           5,
           5,
           5,
           5,
           1,
           4,
           5,
           5,
           5,
           5,
           5,
           5,
           5,
           5,
           5,
           5,
           5,
           5,
           4,
           5,
           4,
           4,
           5,
           5,
           5,
           5,
           3,
           4,
           5,
           5,
           5,
           5,
           5,
           5,
           3,
           5,
           5,
           4,
           4,
           5,
           5,
           4,
           5,
           5,
           5,
           5,
           4,
           4,
           5,
           5,
           5,
           5,
           5,
           5,
           5,
           5,
           2,
           5,
           5,
           5,
           5,
           5,
           5,
           5,
           5,
           5,
           3,
           5,
           5,
           5,
           5,
           5,
           5,
           5,
           5,
           5,
           5,
           5,
           5,
           3,
           5,
           5,
           5,
           5,
           5,
           5,
           5,
           5,
           5,
           5,
           5,
           5,
           5,
           5,
           5,
           4,
           5,
           5,
           5,
           5,
           5,
           4,
           5,
           5,
           5,
           5,
           5,
           5,
           5,
           5,
           5,
           5,
           5,
           5,
           5,
           5,
           3,
           5,
           5,
           5,
           5,
           5,
           5,
           5,
           5,
           5,
           5,
           4,
           4,
           5,
           5,
           5,
           4,
           3,
           5,
           5,
           5,
           5,
           5,
           5,
           4,
           5,
           5,
           5,
           5,
           5,
           5,
           5,
           5,
           4,
           3,
           5,
           5,
           5,
           5,
           5,
           5,
           5,
           5,
           3,
           5,
           5,
           5,
           3,
           5,
           5,
           5,
           5,
           5,
           5,
           5,
           5,
           4,
           4,
           5,
           5,
           5,
           4,
           5,
           5,
           5,
           5,
           5,
           3,
           5,
           5,
           4,
           5,
           5,
           5,
           1,
           4,
           5,
           5,
           5,
           5,
           5,
           5,
           3,
           5,
           5,
           4,
           5,
           5,
           5,
           5,
           4,
           5,
           5,
           5,
           3,
           5,
           5,
           5,
           5,
           5,
           5,
           2,
           5,
           5,
           5,
           5,
           5,
           5,
           5,
           5,
           4,
           5,
           5,
           4,
           4,
           5,
           5,
           5,
           5,
           4,
           5,
           5,
           1,
           4,
           5,
           5,
           5,
           5,
           5,
           5,
           5,
           5,
           5,
           4,
           4,
           3,
           5,
           5,
           3,
           4,
           5,
           5,
           5,
           5,
           5,
           4,
           2,
           5,
           5,
           5,
           5,
           5,
           4,
           5,
           1,
           5,
           5,
           5,
           3,
           5,
           5,
           5,
           5,
           4,
           4,
           5,
           5,
           5,
           5,
           5,
           5,
           5,
           3,
           5,
           5,
           4,
           5,
           5,
           4,
           2,
           5,
           5,
           1,
           5,
           5,
           1,
           4,
           1,
           3,
           5,
           5,
           4,
           3,
           5,
           4,
           3,
           5,
           2,
           1,
           5,
           5,
           5,
           1,
           5,
           5,
           4,
           4,
           5,
           5,
           5,
           5,
           4,
           5,
           5,
           5,
           3,
           5,
           5,
           5,
           5,
           5,
           5,
           5,
           4,
           5,
           5,
           4,
           5,
           5,
           5,
           5,
           5,
           5,
           5,
           5,
           5,
           5,
           4,
           5,
           5,
           5,
           5,
           2,
           5,
           5,
           5,
           5,
           4,
           5,
           5,
           5,
           5,
           5,
           5,
           5,
           5,
           4,
           1,
           5,
           5,
           5,
           5,
           4,
           4,
           2,
           5,
           5,
           5,
           4,
           3,
           5,
           4,
           5,
           5,
           5,
           4,
           5,
           4,
           4,
           1,
           5,
           5,
           5,
           5,
           5,
           5,
           5,
           5,
           5,
           5,
           5,
           3,
           5,
           4,
           5,
           5,
           5,
           5,
           5,
           5,
           4,
           4,
           5,
           5,
           5,
           5,
           5,
           5,
           5,
           4,
           5,
           3,
           5,
           5,
           5,
           4,
           3,
           5,
           5,
           5,
           3,
           2,
           4,
           5,
           3,
           5,
           5,
           5,
           5,
           5,
           5,
           5,
           5,
           5,
           5,
           5,
           4,
           5,
           5,
           5,
           5,
           5,
           4,
           4,
           5,
           5,
           3,
           5,
           5,
           5,
           5,
           5,
           5,
           5,
           4,
           5,
           5,
           4,
           4,
           5,
           4,
           5,
           5,
           5,
           3,
           4,
           4,
           4,
           5,
           5,
           5,
           5,
           5,
           4,
           4,
           3,
           4,
           5,
           5,
           5,
           5,
           5,
           5,
           5,
           5,
           5,
           5,
           5,
           5,
           5,
           5,
           5,
           5,
           4,
           5,
           4,
           4,
           5,
           2,
           5,
           5,
           4,
           5,
           5,
           5,
           4,
           5,
           5,
           4,
           5,
           3,
           5,
           5,
           5,
           5,
           5,
           5,
           4,
           5,
           5,
           4,
           3,
           5,
           5,
           5,
           4,
           5,
           5,
           5,
           5,
           1,
           5,
           5,
           4,
           5,
           4,
           5,
           4,
           5,
           5,
           5,
           5,
           5,
           5,
           5,
           3,
           5,
           5,
           5,
           5,
           5,
           5,
           5,
           5,
           5,
           5,
           5,
           4,
           5,
           5,
           5,
           4,
           5,
           5,
           5,
           5,
           4,
           5,
           5,
           5,
           5,
           5,
           5,
           5,
           4,
           5,
           5,
           5,
           4,
           5,
           5,
           5,
           4,
           5,
           3,
           5,
           5,
           5,
           5,
           4,
           5,
           5,
           5,
           5,
           5,
           5,
           5,
           4,
           5,
           5,
           4,
           5,
           5,
           5,
           5,
           5,
           5,
           5,
           5,
           5,
           5,
           5,
           5,
           5,
           4,
           4,
           5,
           5,
           5,
           5,
           5,
           5,
           5,
           4,
           5,
           5,
           5,
           5,
           5,
           5,
           3,
           5,
           5,
           4,
           5,
           5,
           5,
           5,
           5,
           4,
           5,
           5,
           5,
           5,
           5,
           5,
           5,
           5,
           5,
           5,
           4,
           5,
           5,
           5,
           5,
           5,
           5,
           5,
           4,
           5,
           5,
           5,
           5,
           5,
           5,
           5,
           5,
           5,
           5,
           5,
           5,
           5,
           2,
           5,
           5,
           5,
           5,
           4,
           5,
           5,
           4,
           5,
           4,
           2,
           4,
           4,
           5,
           5,
           5,
           5,
           5,
           5,
           4,
           4,
           4,
           5,
           5,
           5,
           3,
           5,
           5,
           5,
           5,
           5,
           4,
           5,
           5,
           4,
           5,
           5,
           5,
           5,
           2,
           5,
           5,
           5,
           5,
           2,
           4,
           4,
           5,
           5,
           5,
           5,
           5,
           5,
           4,
           5,
           5,
           5,
           2,
           5,
           5,
           5,
           4,
           5,
           4,
           5,
           5,
           5,
           5,
           5,
           5,
           5,
           5,
           5,
           5,
           1,
           5,
           4,
           5,
           4,
           5,
           5,
           4,
           5,
           4,
           4,
           5,
           5,
           5,
           5,
           5,
           4,
           5,
           4,
           5,
           5,
           5,
           4,
           5,
           5,
           3,
           5,
           5,
           5,
           2,
           5,
           4,
           5,
           5,
           5,
           4,
           5,
           3,
           5,
           5,
           5,
           4,
           5,
           5,
           4,
           5,
           5,
           5,
           5,
           5,
           5,
           4,
           5,
           4,
           4,
           5,
           5,
           5,
           5,
           5,
           5,
           5,
           5,
           5,
           3,
           5,
           2,
           5,
           5,
           5,
           5,
           5,
           4,
           5,
           5,
           5,
           4,
           5,
           4,
           5,
           5,
           4,
           5,
           5,
           5,
           4,
           5,
           5,
           5,
           4,
           5,
           5,
           5,
           4,
           3,
           5,
           5,
           4,
           5,
           5,
           5,
           4,
           5,
           5,
           4,
           5,
           5,
           4,
           5,
           5,
           4,
           4,
           5,
           4,
           5,
           5,
           5,
           5,
           4,
           5,
           3,
           3,
           5,
           5,
           5,
           5,
           5,
           5,
           5,
           5,
           5,
           5,
           5
          ],
          "coloraxis": "coloraxis",
          "symbol": "circle"
         },
         "mode": "markers",
         "name": "",
         "showlegend": false,
         "type": "scattergl",
         "x": [
          -19.95780372619629,
          18.756088256835938,
          -17.605926513671875,
          21.364322662353516,
          -1.1630995273590088,
          -1.7107884883880615,
          -0.34790292382240295,
          -8.516594886779785,
          -10.647382736206055,
          -8.881416320800781,
          -27.388853073120117,
          19.5994815826416,
          36.639427185058594,
          19.34958839416504,
          -22.1025333404541,
          -33.9962272644043,
          -10.378387451171875,
          35.06377029418945,
          16.151477813720703,
          -28.452564239501953,
          -25.743616104125977,
          -17.625333786010742,
          34.83216857910156,
          31.1241512298584,
          -13.341621398925781,
          -42.195011138916016,
          -1.0560773611068726,
          43.78759765625,
          22.55362892150879,
          14.928691864013672,
          -22.699411392211914,
          10.673604965209961,
          8.16923999786377,
          6.4243245124816895,
          34.45948028564453,
          33.736175537109375,
          1.5039024353027344,
          -11.597908020019531,
          20.40593910217285,
          -51.86932373046875,
          -35.92322540283203,
          -20.67439842224121,
          -16.315845489501953,
          42.010719299316406,
          41.697608947753906,
          18.9538516998291,
          -7.484947681427002,
          30.739765167236328,
          9.238502502441406,
          -16.68635368347168,
          0.6795900464057922,
          14.427017211914062,
          -12.505223274230957,
          42.002685546875,
          24.754091262817383,
          36.97806930541992,
          -14.517372131347656,
          6.8049139976501465,
          -43.53126907348633,
          9.600579261779785,
          -11.725192070007324,
          21.763063430786133,
          -9.900796890258789,
          23.544620513916016,
          -6.770254611968994,
          -9.838950157165527,
          7.980518817901611,
          7.532722473144531,
          9.51266098022461,
          -20.76675033569336,
          33.847412109375,
          -37.902183532714844,
          -4.994196891784668,
          -25.57122802734375,
          -40.220069885253906,
          -46.91209411621094,
          3.535735607147217,
          -13.182531356811523,
          -31.226877212524414,
          -10.709434509277344,
          33.43196105957031,
          -48.7911491394043,
          -18.327186584472656,
          8.519392967224121,
          3.7764604091644287,
          -43.03914260864258,
          6.670097351074219,
          14.019303321838379,
          -13.162635803222656,
          -30.488954544067383,
          16.023239135742188,
          10.748944282531738,
          -36.49485397338867,
          0.7618242502212524,
          18.641000747680664,
          12.962908744812012,
          -2.317314863204956,
          -28.826305389404297,
          15.708438873291016,
          33.43122863769531,
          23.756343841552734,
          -2.950444459915161,
          14.623627662658691,
          -23.247142791748047,
          4.6116180419921875,
          44.19802474975586,
          -4.874218940734863,
          14.26943588256836,
          -29.895240783691406,
          -3.523681163787842,
          -11.788838386535645,
          -10.29415512084961,
          -30.880123138427734,
          0.8859097957611084,
          -33.17454147338867,
          -5.991194725036621,
          30.198509216308594,
          9.126627922058105,
          7.987884521484375,
          17.081804275512695,
          -0.9362698793411255,
          36.690982818603516,
          20.082441329956055,
          -30.789201736450195,
          -4.244723320007324,
          -25.261146545410156,
          1.9204102754592896,
          11.374860763549805,
          -12.437355041503906,
          -13.59536075592041,
          -9.421876907348633,
          6.4455413818359375,
          -35.56188201904297,
          -45.074790954589844,
          20.807701110839844,
          -32.2193603515625,
          -9.892901420593262,
          23.757768630981445,
          36.696495056152344,
          16.43730354309082,
          -2.8315622806549072,
          38.020912170410156,
          -46.847991943359375,
          26.46772003173828,
          24.193510055541992,
          35.79241943359375,
          -28.704647064208984,
          28.20849609375,
          -21.722980499267578,
          -7.4455156326293945,
          19.18033790588379,
          32.52056121826172,
          -8.52853012084961,
          -7.535364151000977,
          2.354814291000366,
          -43.89515686035156,
          6.4383344650268555,
          -30.265857696533203,
          29.255619049072266,
          -23.38729476928711,
          -36.744136810302734,
          -7.356709957122803,
          -33.920841217041016,
          19.573312759399414,
          21.471277236938477,
          14.4841890335083,
          15.628628730773926,
          -3.24062442779541,
          -46.043495178222656,
          36.26420593261719,
          33.420654296875,
          -22.763408660888672,
          29.5336856842041,
          -15.117424964904785,
          -27.291933059692383,
          29.822357177734375,
          -7.771609783172607,
          49.08184051513672,
          28.200136184692383,
          21.688858032226562,
          30.229454040527344,
          -45.263465881347656,
          0.7443444728851318,
          40.17030334472656,
          42.56296157836914,
          2.269866704940796,
          -21.90260887145996,
          28.929542541503906,
          -24.84872817993164,
          -4.351846218109131,
          10.656424522399902,
          -41.458248138427734,
          -19.20688247680664,
          7.60118293762207,
          6.737224578857422,
          -6.2832417488098145,
          -12.019082069396973,
          -17.314271926879883,
          -3.364964008331299,
          11.39188289642334,
          -36.878623962402344,
          -37.3949089050293,
          49.04995346069336,
          -27.49026107788086,
          0.2382434606552124,
          -36.53417205810547,
          7.899190902709961,
          -1.246551275253296,
          18.261829376220703,
          -23.410158157348633,
          18.500076293945312,
          22.498613357543945,
          2.597508668899536,
          -9.75895881652832,
          -3.9082934856414795,
          1.7385824918746948,
          -3.6277287006378174,
          24.59853744506836,
          -30.509553909301758,
          11.937922477722168,
          -6.979110240936279,
          -39.57784652709961,
          0.8450801968574524,
          -16.06617546081543,
          3.3200299739837646,
          5.132541179656982,
          11.618637084960938,
          -36.515377044677734,
          -45.57161331176758,
          18.71059799194336,
          26.25830841064453,
          23.123437881469727,
          31.900299072265625,
          -31.6449031829834,
          29.040607452392578,
          33.75004959106445,
          35.91856384277344,
          -21.887174606323242,
          -12.270669937133789,
          5.407202243804932,
          9.066280364990234,
          -6.454492092132568,
          -6.467013359069824,
          -17.39443588256836,
          31.89684295654297,
          -18.94748878479004,
          -11.971393585205078,
          16.45114517211914,
          19.620820999145508,
          -7.136751174926758,
          2.7335798740386963,
          20.66581916809082,
          -37.86075210571289,
          -32.423316955566406,
          -3.449540615081787,
          7.345396995544434,
          -14.007383346557617,
          -48.07720184326172,
          -6.283847808837891,
          -29.101987838745117,
          -27.801464080810547,
          40.455291748046875,
          13.924735069274902,
          -35.48876953125,
          -11.06422233581543,
          -38.678890228271484,
          8.926778793334961,
          -24.555824279785156,
          -6.975361347198486,
          -36.620201110839844,
          -39.796417236328125,
          -8.436816215515137,
          -36.004173278808594,
          -30.089862823486328,
          19.81031608581543,
          1.754480242729187,
          -3.304781913757324,
          25.58786392211914,
          -48.98295211791992,
          5.5028533935546875,
          40.722835540771484,
          31.596355438232422,
          -30.11627960205078,
          -2.2950146198272705,
          23.744997024536133,
          -34.957759857177734,
          -1.5493875741958618,
          -20.242717742919922,
          -2.2410943508148193,
          4.095396518707275,
          16.964021682739258,
          19.721519470214844,
          -3.9457919597625732,
          -18.395265579223633,
          -14.981819152832031,
          6.663888454437256,
          -22.735309600830078,
          -22.628812789916992,
          14.706327438354492,
          -10.730040550231934,
          -3.099142551422119,
          -3.2792654037475586,
          20.119640350341797,
          1.909559965133667,
          -46.47113800048828,
          -1.4089690446853638,
          27.694528579711914,
          -33.129600524902344,
          30.944442749023438,
          -8.155998229980469,
          -21.81166648864746,
          12.043118476867676,
          -43.117855072021484,
          -9.592906951904297,
          -31.99042510986328,
          15.528399467468262,
          -9.64863109588623,
          -41.1804313659668,
          -23.28846549987793,
          -21.7614688873291,
          -1.544974684715271,
          -42.64305114746094,
          -18.08863067626953,
          -4.3005805015563965,
          -23.32527732849121,
          -18.65892219543457,
          -12.308039665222168,
          -5.022289276123047,
          19.307369232177734,
          7.80649995803833,
          10.647321701049805,
          -41.582794189453125,
          22.261056900024414,
          27.294374465942383,
          36.8775634765625,
          -17.130260467529297,
          -38.98770523071289,
          -4.083334922790527,
          10.7586088180542,
          -19.291297912597656,
          16.704679489135742,
          -22.55270767211914,
          -8.095817565917969,
          30.578088760375977,
          23.45917510986328,
          -26.855886459350586,
          19.166475296020508,
          33.60689163208008,
          1.2525088787078857,
          -46.83798599243164,
          15.952997207641602,
          -47.10375213623047,
          -35.72008514404297,
          -0.6691228747367859,
          0.7364783883094788,
          -6.087981700897217,
          -23.665016174316406,
          30.502267837524414,
          -4.554139137268066,
          -27.412694931030273,
          47.32271957397461,
          43.599212646484375,
          -47.53643035888672,
          29.426727294921875,
          -0.931277871131897,
          -4.102230072021484,
          -32.72770309448242,
          -36.458351135253906,
          14.266395568847656,
          -25.817684173583984,
          4.129929542541504,
          -21.19803810119629,
          -0.26472342014312744,
          -0.3399622142314911,
          -24.491544723510742,
          -36.371604919433594,
          -24.399133682250977,
          45.88098907470703,
          -43.39474105834961,
          -17.289127349853516,
          38.800140380859375,
          14.433477401733398,
          -20.41651153564453,
          -30.931856155395508,
          14.433106422424316,
          -29.466838836669922,
          -37.747314453125,
          12.00805950164795,
          -24.95941162109375,
          -23.740478515625,
          18.665637969970703,
          10.172409057617188,
          -12.838022232055664,
          32.53791809082031,
          -38.38652420043945,
          -37.16450881958008,
          -10.523195266723633,
          -31.371809005737305,
          -28.414989471435547,
          6.6047539710998535,
          37.04865646362305,
          -3.4596660137176514,
          30.323030471801758,
          -33.44935607910156,
          5.984880447387695,
          -36.49139404296875,
          29.26005744934082,
          42.13157272338867,
          -3.235567331314087,
          -3.5200419425964355,
          5.018607139587402,
          -2.4929072856903076,
          -25.716089248657227,
          -13.77570629119873,
          -12.904539108276367,
          45.7810173034668,
          35.01593780517578,
          -3.610934257507324,
          4.972953796386719,
          -24.173643112182617,
          3.063323497772217,
          9.797662734985352,
          17.774194717407227,
          -20.782503128051758,
          -7.765426158905029,
          -28.305837631225586,
          19.086851119995117,
          -36.28864669799805,
          -25.74223518371582,
          -35.39662170410156,
          -10.241048812866211,
          -10.952428817749023,
          -35.09466552734375,
          47.81914520263672,
          47.17058563232422,
          -21.711084365844727,
          -24.94282341003418,
          8.199974060058594,
          -2.0547168254852295,
          -21.429393768310547,
          -24.044239044189453,
          -25.08192253112793,
          8.93427562713623,
          10.479293823242188,
          -11.08993148803711,
          -8.474864959716797,
          -30.916229248046875,
          20.659839630126953,
          31.990158081054688,
          -8.420001029968262,
          12.929533004760742,
          16.866222381591797,
          -11.066917419433594,
          -29.352710723876953,
          11.829450607299805,
          -25.208784103393555,
          -31.493349075317383,
          8.20600414276123,
          41.76565170288086,
          -34.65020751953125,
          -8.345109939575195,
          -34.45734786987305,
          40.06743240356445,
          5.472121715545654,
          -17.932043075561523,
          40.11666488647461,
          -18.056697845458984,
          -15.0399169921875,
          -24.619895935058594,
          5.980093479156494,
          5.277924060821533,
          -24.18410873413086,
          20.981292724609375,
          -2.3013148307800293,
          -4.079710960388184,
          7.2933669090271,
          15.17349910736084,
          1.1857991218566895,
          12.282552719116211,
          5.635820388793945,
          37.16802215576172,
          14.749727249145508,
          29.402441024780273,
          -27.529438018798828,
          26.08406639099121,
          -9.398652076721191,
          15.426393508911133,
          -27.24944305419922,
          34.121402740478516,
          22.883928298950195,
          19.28924560546875,
          22.723873138427734,
          0.4158175587654114,
          3.490889072418213,
          16.500213623046875,
          33.47386169433594,
          1.9053254127502441,
          16.72589874267578,
          -22.230510711669922,
          0.8025708198547363,
          3.205869436264038,
          -29.58775520324707,
          -8.130952835083008,
          -1.0624029636383057,
          11.134042739868164,
          -48.309818267822266,
          -4.659303188323975,
          -23.916296005249023,
          28.081830978393555,
          20.88810920715332,
          -3.6389241218566895,
          11.043843269348145,
          -29.842145919799805,
          15.630559921264648,
          -12.493648529052734,
          8.416114807128906,
          5.450073719024658,
          2.0767176151275635,
          0.6280295848846436,
          -34.166378021240234,
          -28.883867263793945,
          -26.902315139770508,
          -25.992496490478516,
          14.586623191833496,
          -7.089956760406494,
          -15.04693603515625,
          7.306036472320557,
          30.459074020385742,
          -3.8908441066741943,
          -8.857276916503906,
          31.80300521850586,
          -42.066314697265625,
          -18.517730712890625,
          -22.101816177368164,
          -29.115633010864258,
          -39.765499114990234,
          -24.497434616088867,
          -41.418487548828125,
          14.133321762084961,
          19.80791664123535,
          -38.01746368408203,
          -30.68631362915039,
          -1.2854750156402588,
          13.740228652954102,
          23.658864974975586,
          -20.577550888061523,
          -6.074722766876221,
          19.715553283691406,
          0.6781377792358398,
          8.051329612731934,
          -30.180339813232422,
          14.459754943847656,
          24.145719528198242,
          10.898727416992188,
          -31.727466583251953,
          2.3074679374694824,
          -26.0725040435791,
          6.804581165313721,
          35.92923355102539,
          -33.23262405395508,
          -10.443595886230469,
          10.959290504455566,
          28.207050323486328,
          -21.69629669189453,
          -16.583946228027344,
          7.563322067260742,
          13.71065616607666,
          3.88598370552063,
          -20.018299102783203,
          -29.14161491394043,
          44.595523834228516,
          8.289685249328613,
          18.00311851501465,
          15.473126411437988,
          -27.451948165893555,
          -28.97150230407715,
          -13.447306632995605,
          -12.045049667358398,
          -29.30654525756836,
          -17.60692596435547,
          -7.067821502685547,
          -29.593955993652344,
          15.55880069732666,
          -9.753756523132324,
          -6.939846515655518,
          -27.345306396484375,
          44.393123626708984,
          -11.26163387298584,
          -21.34300994873047,
          40.01956558227539,
          -22.23963737487793,
          14.375728607177734,
          11.216171264648438,
          -20.709632873535156,
          15.561964988708496,
          -34.79741668701172,
          37.090721130371094,
          -13.329666137695312,
          6.319983959197998,
          14.960124015808105,
          -3.0241851806640625,
          0.6044043302536011,
          13.798043251037598,
          -41.22283935546875,
          -28.11251449584961,
          5.284794807434082,
          -38.56082534790039,
          -4.061827659606934,
          -21.407255172729492,
          11.568084716796875,
          4.74220609664917,
          21.095611572265625,
          5.945106506347656,
          17.57801055908203,
          -44.421142578125,
          -49.09491729736328,
          10.000426292419434,
          23.95601463317871,
          -40.63318634033203,
          -41.825782775878906,
          33.50640869140625,
          -8.941183090209961,
          -4.466367721557617,
          -32.44359588623047,
          -31.934206008911133,
          25.50397300720215,
          5.640786170959473,
          1.6677745580673218,
          -26.92435646057129,
          4.149655342102051,
          -7.299380302429199,
          44.54370880126953,
          -1.6283416748046875,
          17.360727310180664,
          9.674814224243164,
          -30.866222381591797,
          27.9516544342041,
          -16.841388702392578,
          8.49272346496582,
          -10.095734596252441,
          27.370742797851562,
          -13.893169403076172,
          8.453907012939453,
          21.06389617919922,
          -33.717933654785156,
          -11.743281364440918,
          -31.92365264892578,
          29.144554138183594,
          -14.650511741638184,
          -14.730939865112305,
          5.885474681854248,
          0.027730263769626617,
          25.372909545898438,
          43.784637451171875,
          10.847559928894043,
          2.4070229530334473,
          -13.75732707977295,
          11.81108283996582,
          -0.5827950835227966,
          -3.2630107402801514,
          3.4016268253326416,
          19.962583541870117,
          24.597320556640625,
          -9.59603500366211,
          -20.174964904785156,
          -33.87458801269531,
          -20.26020050048828,
          -33.106956481933594,
          -21.805870056152344,
          -9.662210464477539,
          -8.956488609313965,
          -12.567200660705566,
          -0.43342453241348267,
          -11.862374305725098,
          12.614508628845215,
          2.5889370441436768,
          -30.37874412536621,
          -7.837869167327881,
          -17.894474029541016,
          -42.49828338623047,
          17.398332595825195,
          18.631282806396484,
          -15.984136581420898,
          -38.214176177978516,
          9.429143905639648,
          -35.62958908081055,
          -47.62743377685547,
          -32.3426399230957,
          20.995182037353516,
          21.769420623779297,
          18.55270004272461,
          -38.34625244140625,
          -3.561455011367798,
          30.98755645751953,
          -30.531492233276367,
          22.575910568237305,
          8.085875511169434,
          -1.8861353397369385,
          -45.41279602050781,
          -44.95804977416992,
          -38.41071701049805,
          -15.026697158813477,
          20.24530601501465,
          -48.01935577392578,
          -24.173643112182617,
          16.33140754699707,
          7.802138805389404,
          30.726863861083984,
          -33.367706298828125,
          31.66661262512207,
          25.950153350830078,
          3.903097629547119,
          25.039575576782227,
          22.233089447021484,
          -3.547606945037842,
          4.831385612487793,
          29.997604370117188,
          -36.61543273925781,
          -3.072305202484131,
          17.317974090576172,
          -25.91025161743164,
          -7.0419182777404785,
          25.62482452392578,
          -9.704739570617676,
          21.333574295043945,
          -3.3746867179870605,
          -9.722156524658203,
          -11.712013244628906,
          7.766161918640137,
          1.2862643003463745,
          -15.091192245483398,
          -6.660221576690674,
          0.5226647257804871,
          -18.42780303955078,
          -1.4361966848373413,
          7.7620158195495605,
          -13.890518188476562,
          -40.128849029541016,
          -42.360877990722656,
          -4.065836429595947,
          -47.63014221191406,
          17.24229621887207,
          10.828285217285156,
          -43.715572357177734,
          4.0673441886901855,
          -10.210188865661621,
          -11.594862937927246,
          -3.0006492137908936,
          -23.724258422851562,
          23.858562469482422,
          -45.20890426635742,
          13.45539379119873,
          6.866561412811279,
          -23.686885833740234,
          -21.761770248413086,
          38.623775482177734,
          -12.458221435546875,
          -28.359371185302734,
          -40.6234130859375,
          -12.197832107543945,
          -15.322290420532227,
          -34.82988739013672,
          -8.215754508972168,
          -0.664168119430542,
          -18.399166107177734,
          -26.243051528930664,
          -10.184544563293457,
          -48.51890563964844,
          -27.225126266479492,
          17.084354400634766,
          37.281593322753906,
          3.8823421001434326,
          39.74776077270508,
          3.51298451423645,
          -44.02177429199219,
          46.45610427856445,
          -43.05799102783203,
          10.594486236572266,
          -24.706214904785156,
          19.096357345581055,
          -33.599327087402344,
          -25.25629234313965,
          -41.863739013671875,
          -8.739144325256348,
          -45.16807556152344,
          -9.304805755615234,
          -3.3807132244110107,
          23.413223266601562,
          32.91835403442383,
          25.73456382751465,
          29.464160919189453,
          31.910429000854492,
          -15.401009559631348,
          2.9925029277801514,
          31.516847610473633,
          -27.09479331970215,
          24.022783279418945,
          23.12993049621582,
          -19.896421432495117,
          12.618691444396973,
          18.74319839477539,
          -8.419260025024414,
          -30.87700080871582,
          -22.38491439819336,
          23.376867294311523,
          -17.81641960144043,
          -15.842212677001953,
          -21.007097244262695,
          14.336145401000977,
          -18.06819725036621,
          -37.6934814453125,
          37.34105682373047,
          -1.2391741275787354,
          1.571453332901001,
          -7.738631725311279,
          41.67247009277344,
          -32.3741340637207,
          -0.3746243715286255,
          -39.396793365478516,
          5.496448516845703,
          -46.36820602416992,
          10.530425071716309,
          8.343809127807617,
          13.300019264221191,
          0.08228708058595657,
          16.480573654174805,
          3.015490770339966,
          -10.299430847167969,
          21.168848037719727,
          -38.97026824951172,
          -5.857614517211914,
          -6.910947799682617,
          -15.927542686462402,
          -44.34270095825195,
          -37.357078552246094,
          10.282526969909668,
          15.927111625671387,
          -7.611658573150635,
          22.97453498840332,
          9.71638298034668,
          -27.543603897094727,
          19.375642776489258,
          23.405651092529297,
          -5.791148662567139,
          -0.909485399723053,
          14.674481391906738,
          26.470205307006836,
          -1.8438231945037842,
          -33.88371276855469,
          15.683286666870117,
          34.65233612060547,
          17.426551818847656,
          16.110971450805664,
          -35.05638122558594,
          22.14634895324707,
          -6.700504302978516,
          15.8074312210083,
          -27.620616912841797,
          22.401662826538086,
          -14.159802436828613,
          -23.851085662841797,
          2.0260908603668213,
          -27.438220977783203,
          -23.423959732055664,
          -34.212337493896484,
          12.12064266204834,
          31.62255096435547,
          -7.2498779296875,
          22.23051643371582,
          5.471356391906738,
          20.17782211303711,
          38.977943420410156,
          35.546875,
          1.6345179080963135,
          -45.801483154296875,
          6.261014938354492,
          -26.9721736907959,
          -10.513662338256836,
          -1.798124074935913,
          -46.34888458251953,
          -7.138913631439209,
          -36.5814208984375,
          -5.088902473449707,
          3.8742151260375977,
          -18.815229415893555,
          -49.36716079711914,
          30.270105361938477,
          42.817378997802734,
          5.709137439727783,
          21.40910530090332,
          -28.75899887084961,
          -11.769065856933594,
          -17.032052993774414,
          -45.56171798706055,
          -3.0123345851898193,
          17.812837600708008,
          20.184507369995117,
          -20.444551467895508,
          -39.34535217285156,
          27.13388442993164,
          -24.24518394470215,
          -24.32386589050293,
          -0.2333698272705078,
          36.84959411621094,
          -31.59052085876465,
          2.4370927810668945,
          0.026710202917456627,
          21.724807739257812,
          -35.131919860839844,
          -18.26613998413086,
          2.9767110347747803,
          -35.28230285644531,
          -12.380125999450684,
          -43.86704635620117,
          -27.560997009277344,
          26.371328353881836,
          -2.7307016849517822,
          22.011764526367188,
          -12.684812545776367,
          -10.030633926391602,
          -17.021207809448242,
          -23.071874618530273,
          -45.98324203491211,
          -6.319928169250488,
          -13.497407913208008,
          24.651214599609375,
          -2.0182981491088867,
          -28.374422073364258,
          21.79332160949707,
          -35.34929275512695,
          -0.7161222696304321,
          13.185678482055664,
          -14.92979907989502,
          -7.775177955627441,
          1.95062255859375,
          -8.220380783081055,
          11.549257278442383,
          -26.377487182617188,
          0.2670792043209076,
          -9.663732528686523,
          31.78449058532715,
          -7.016615867614746,
          17.391752243041992,
          35.70087814331055,
          24.932605743408203,
          -23.538869857788086,
          30.476064682006836,
          5.257601261138916,
          15.386455535888672,
          18.47092628479004,
          -25.22576904296875,
          -9.62706470489502,
          5.248076915740967,
          23.37274169921875,
          -0.5922431349754333,
          9.813857078552246,
          22.856060028076172,
          -16.593433380126953,
          26.07046890258789,
          -26.424930572509766,
          1.067223072052002,
          39.82146072387695,
          27.146739959716797,
          -12.653878211975098,
          14.247151374816895,
          31.767013549804688,
          33.030574798583984,
          -5.306565284729004,
          41.84747314453125,
          -9.17660140991211,
          -24.75198745727539,
          21.533113479614258,
          37.826385498046875,
          4.622589588165283,
          -16.132545471191406,
          26.392940521240234,
          -0.18787908554077148,
          -40.446102142333984,
          -32.54438400268555,
          40.27409362792969,
          16.735843658447266,
          27.981767654418945,
          -16.780784606933594,
          12.233149528503418,
          -2.1691203117370605,
          11.202555656433105,
          23.998489379882812,
          -4.241980075836182,
          -30.65303611755371,
          27.759618759155273,
          16.778654098510742,
          -5.847220420837402,
          -26.993165969848633,
          43.411407470703125,
          32.212589263916016,
          30.221582412719727,
          4.707590103149414,
          25.838293075561523,
          4.580708026885986,
          50.53240966796875,
          -21.79108428955078,
          34.93202590942383,
          -22.183996200561523,
          -35.555320739746094,
          3.3230085372924805,
          29.44708251953125,
          -7.838931083679199,
          35.5982551574707,
          0.0013693649088963866,
          7.725759983062744,
          28.82038116455078,
          25.82910919189453,
          1.9592972993850708,
          26.46484375,
          -20.340774536132812,
          19.166078567504883,
          0.8579921126365662,
          33.44827651977539,
          -25.673439025878906,
          1.22556471824646,
          -10.610047340393066,
          32.55706024169922,
          -21.537839889526367,
          -11.342142105102539,
          -39.19351577758789,
          21.45628547668457,
          43.882633209228516,
          -1.13310968875885,
          10.739009857177734,
          -14.57524585723877,
          -4.369378089904785,
          -41.04235076904297,
          6.0463175773620605,
          -25.77001953125,
          -32.022884368896484,
          19.8927059173584,
          -25.942760467529297,
          -7.650713920593262,
          0.18704107403755188,
          -20.753400802612305,
          26.764156341552734,
          -20.691822052001953,
          -18.763959884643555,
          -11.729978561401367,
          -6.019678592681885,
          20.798839569091797,
          -6.628518581390381,
          -33.315086364746094,
          -12.84193229675293,
          -13.315814018249512,
          5.414201736450195,
          23.6033878326416,
          -17.041486740112305,
          0.18491898477077484,
          13.101555824279785,
          -38.60347366333008,
          33.80633544921875,
          -6.456416130065918,
          -5.2498579025268555,
          -26.77919578552246,
          -13.441635131835938,
          0.019056562334299088,
          33.81174087524414,
          -29.855405807495117,
          5.946937561035156,
          9.889951705932617,
          13.650165557861328,
          -9.460774421691895,
          -25.540363311767578,
          -12.389163970947266,
          14.655643463134766,
          -27.599069595336914,
          5.457131862640381,
          -44.660011291503906,
          9.409917831420898,
          -42.43159484863281,
          -32.446571350097656,
          -5.524662971496582,
          21.979398727416992,
          -1.2935093641281128,
          26.694416046142578,
          5.560494899749756,
          -11.651525497436523,
          19.185510635375977,
          33.05353927612305,
          -25.737966537475586,
          45.989898681640625,
          -12.403070449829102,
          20.52458381652832,
          -31.45599937438965,
          -25.29798698425293,
          -6.235839366912842,
          -17.569503784179688,
          31.974393844604492,
          25.54583740234375,
          4.207120895385742,
          -21.802631378173828,
          -20.249794006347656,
          3.5511345863342285,
          3.2757561206817627,
          -7.453046798706055,
          46.04417419433594,
          13.224804878234863,
          1.8272435665130615,
          11.522911071777344,
          23.920312881469727,
          6.154298305511475,
          -10.49797248840332,
          -9.25359058380127,
          -27.01618194580078,
          12.552000045776367,
          2.47434401512146,
          -16.615686416625977,
          3.155850887298584,
          -3.784423351287842,
          14.414041519165039,
          -22.393333435058594,
          -47.54964065551758,
          -12.285651206970215,
          23.27292251586914,
          -10.683338165283203,
          -8.832720756530762,
          -15.255167961120605,
          -16.800365447998047,
          18.74949836730957,
          -16.80596160888672,
          -10.456027030944824,
          18.313325881958008,
          29.342071533203125,
          -6.178661346435547,
          26.813823699951172,
          -51.00567626953125,
          29.035219192504883,
          -3.5492374897003174,
          -5.747738361358643,
          -31.86305809020996,
          7.98317813873291,
          -12.743870735168457,
          -34.01580047607422,
          35.88102722167969,
          31.29683494567871,
          45.000125885009766,
          -13.738327026367188,
          5.11320686340332,
          32.36653518676758,
          9.52792739868164,
          -49.81247329711914,
          -33.45770263671875,
          29.78230857849121,
          27.63716697692871,
          -9.653573036193848,
          29.902021408081055,
          28.60154151916504,
          12.358598709106445,
          -31.98505973815918,
          11.676412582397461,
          -23.122644424438477,
          14.914399147033691,
          0.05406038463115692,
          44.50125503540039,
          37.983306884765625,
          41.93320083618164,
          -5.277006149291992,
          -1.8319270610809326,
          -42.30682373046875,
          47.04353332519531,
          -48.527313232421875,
          -17.952009201049805,
          -10.473609924316406,
          -1.1190667152404785,
          -21.5960636138916,
          37.447425842285156,
          49.57769012451172,
          -32.082340240478516,
          -3.373270034790039,
          15.462925910949707,
          -1.279401421546936,
          -1.1663938760757446,
          -6.855216979980469,
          9.150751113891602,
          5.817222595214844,
          43.8575439453125,
          43.65624237060547,
          -35.4518928527832,
          14.203112602233887,
          16.26628303527832,
          36.5051155090332,
          -2.6159772872924805,
          -46.61387634277344,
          -10.461312294006348,
          12.994174003601074,
          34.844566345214844,
          -19.971281051635742,
          -5.466947555541992,
          -22.9979190826416,
          28.477638244628906,
          -26.047901153564453,
          1.5972243547439575,
          -46.51045227050781,
          6.405454635620117,
          -34.68012237548828,
          -13.711795806884766,
          -16.947725296020508,
          0.9997132420539856,
          19.670475006103516,
          36.94715118408203,
          38.218666076660156,
          5.092438697814941,
          -15.590903282165527,
          35.011985778808594,
          43.58872985839844,
          -47.976173400878906,
          33.54314422607422,
          -19.00433349609375,
          17.612712860107422,
          -33.313228607177734,
          0.8602454662322998,
          -13.092161178588867,
          -21.878543853759766,
          30.35206413269043,
          17.102598190307617,
          -21.65383529663086,
          39.1238899230957,
          22.71531105041504,
          22.420207977294922,
          22.853313446044922,
          23.419862747192383,
          27.746871948242188,
          -2.7885026931762695,
          -27.94146728515625,
          11.07201862335205,
          30.96497344970703,
          11.219889640808105,
          12.522704124450684,
          -25.586654663085938,
          19.29776382446289,
          -24.70172882080078,
          6.592894554138184,
          9.439725875854492,
          3.9274749755859375,
          8.857455253601074,
          19.076082229614258,
          4.662136554718018,
          1.7001895904541016,
          -25.238428115844727,
          -52.94544219970703,
          -48.85634994506836,
          9.779206275939941,
          -10.157503128051758,
          -7.411539077758789,
          -4.915572166442871,
          -11.438642501831055,
          14.038553237915039,
          24.207820892333984,
          -26.990093231201172,
          13.528992652893066,
          -9.018186569213867,
          -28.81214141845703,
          21.656005859375,
          -10.873688697814941,
          18.615093231201172,
          40.97490310668945,
          30.835355758666992,
          17.745460510253906,
          -23.39943504333496,
          22.55731773376465,
          14.511737823486328,
          33.50213623046875,
          -26.396259307861328,
          33.59943771362305,
          -14.768694877624512,
          19.976470947265625,
          5.3120927810668945,
          -17.48978614807129,
          7.727097034454346,
          22.129222869873047,
          10.674901962280273,
          30.350244522094727,
          -16.08640480041504,
          -14.803705215454102,
          20.40923309326172,
          47.6249885559082,
          19.054710388183594,
          -36.10102462768555,
          -26.874469757080078,
          -11.246633529663086,
          7.409510612487793,
          12.357566833496094,
          36.426971435546875,
          7.776987075805664,
          22.31734275817871,
          -37.5262565612793,
          -31.981782913208008,
          -12.584858894348145,
          4.331509113311768,
          -25.928264617919922,
          2.6684417724609375,
          -40.28541946411133,
          6.779215335845947,
          13.088213920593262,
          -19.329757690429688,
          32.216712951660156,
          28.356775283813477,
          -7.2733845710754395,
          3.365828037261963,
          31.854692459106445,
          -33.78504180908203,
          -6.7502217292785645,
          7.2748003005981445,
          -21.385257720947266,
          -28.599693298339844,
          -20.07278823852539,
          8.632674217224121,
          13.45864200592041,
          -15.732412338256836,
          -1.643357515335083,
          9.741486549377441,
          13.408997535705566,
          6.584553241729736,
          -16.35446548461914,
          21.453641891479492,
          33.32958221435547,
          9.818233489990234,
          39.933956146240234,
          -25.721294403076172,
          4.928172588348389,
          47.07890319824219,
          -14.460773468017578,
          -37.597049713134766,
          15.965202331542969,
          -20.638792037963867,
          -21.308265686035156,
          -6.343179702758789,
          -11.368721961975098,
          4.214145660400391,
          26.636940002441406,
          -24.524139404296875,
          -24.64892578125,
          12.095563888549805,
          27.15604019165039,
          11.88084602355957,
          10.00015926361084,
          30.9827938079834,
          -30.400630950927734,
          -1.6826664209365845,
          37.19661331176758,
          -11.654678344726562,
          -39.34097671508789,
          -33.835609436035156,
          -39.66157531738281,
          -32.34671401977539,
          -29.471956253051758,
          31.17177391052246,
          -46.259178161621094,
          -34.09640121459961,
          -1.1043168306350708,
          -27.584007263183594,
          -36.64512634277344,
          -32.47536087036133,
          17.510311126708984,
          -13.530147552490234,
          19.38399314880371,
          -11.689769744873047,
          12.835543632507324,
          4.505147933959961,
          -42.513973236083984,
          -42.513973236083984,
          -8.592347145080566,
          -8.638758659362793,
          -10.08752155303955,
          11.799922943115234,
          18.547325134277344,
          18.10277557373047,
          9.357441902160645,
          -29.001998901367188,
          18.008708953857422,
          -23.77669906616211,
          11.039003372192383,
          23.44586181640625,
          29.538387298583984,
          15.324216842651367,
          -25.964963912963867,
          -46.028175354003906,
          -38.756465911865234,
          -39.76827621459961,
          16.527185440063477,
          16.95045280456543,
          -0.11572173982858658,
          26.184659957885742,
          -18.504026412963867,
          -4.827716827392578,
          5.704007148742676,
          0.42024415731430054,
          1.686205267906189,
          6.958874702453613,
          27.99419403076172,
          -21.12590217590332,
          33.66851043701172,
          15.569908142089844,
          14.587218284606934,
          -29.2195987701416,
          -0.4052523970603943,
          -0.1192665696144104,
          6.2342143058776855,
          18.029075622558594,
          -3.004889488220215,
          23.642200469970703,
          17.554502487182617,
          15.700607299804688,
          7.186388969421387,
          -16.586240768432617,
          -3.1294589042663574,
          -36.2010383605957,
          15.286467552185059,
          2.2117483615875244,
          -46.560062408447266,
          -10.568896293640137,
          43.194618225097656,
          12.869261741638184,
          12.36308479309082,
          -21.931121826171875,
          -13.135448455810547,
          35.4643440246582,
          -31.074846267700195,
          -3.2681963443756104,
          -11.508804321289062,
          -12.061005592346191,
          -13.788154602050781,
          20.26462745666504,
          4.638681888580322,
          23.007638931274414,
          -20.674196243286133,
          13.437877655029297,
          -50.98116683959961,
          10.168850898742676,
          -36.29123306274414,
          -23.839447021484375,
          15.40584659576416,
          6.498816013336182,
          21.565635681152344,
          23.32756233215332,
          -27.699678421020508,
          -12.863865852355957,
          20.237354278564453,
          -14.884000778198242,
          18.716093063354492,
          18.295047760009766,
          -8.801526069641113,
          42.74292755126953,
          -4.883864879608154,
          22.510650634765625,
          19.667808532714844,
          43.4388427734375,
          -20.40568733215332,
          9.798958778381348,
          26.827838897705078,
          10.3989839553833,
          8.146289825439453,
          19.181358337402344,
          -45.50678634643555,
          5.772910118103027,
          -39.89236831665039,
          3.1953232288360596,
          -4.703464508056641,
          -22.473827362060547,
          -15.087623596191406,
          10.045408248901367,
          -25.24860191345215,
          -34.34219741821289,
          -35.8605842590332,
          5.542001724243164,
          18.33323097229004,
          8.770415306091309,
          -29.667924880981445,
          22.453510284423828,
          -2.1370420455932617,
          11.213593482971191,
          9.675320625305176,
          -41.60111999511719,
          12.440693855285645,
          -33.18781661987305,
          -35.20578384399414,
          9.478311538696289,
          -38.78335189819336,
          -24.55644416809082,
          -0.8177811503410339,
          -22.66741180419922,
          23.008268356323242,
          33.7496223449707,
          -10.140971183776855,
          40.557373046875,
          7.566149711608887,
          -1.257682204246521,
          -51.9703483581543,
          4.664931297302246,
          24.744449615478516,
          33.12061309814453,
          -30.741392135620117,
          2.102416515350342,
          -28.609222412109375,
          15.486322402954102,
          -11.81268310546875,
          -42.655025482177734,
          25.811920166015625,
          -19.055326461791992,
          -2.3005409240722656,
          16.783620834350586,
          -10.76551342010498,
          2.578338623046875,
          3.55942964553833,
          27.18256378173828,
          -9.185853958129883,
          37.47037887573242,
          49.320499420166016,
          -10.548516273498535,
          23.312849044799805,
          20.896224975585938,
          19.964797973632812,
          35.44514846801758,
          15.711457252502441,
          7.553088188171387,
          -11.56436824798584,
          1.924231767654419,
          30.129812240600586,
          13.126640319824219,
          -16.645477294921875,
          -16.86737823486328,
          -5.275488376617432,
          -11.831266403198242,
          -19.274707794189453,
          42.81119918823242,
          -1.520392894744873,
          12.147326469421387,
          -4.483255386352539,
          -11.682738304138184,
          3.281709909439087,
          -4.829836368560791,
          -0.29323524236679077,
          16.902515411376953,
          16.31178092956543,
          -31.89309310913086,
          43.96943283081055,
          -47.72072982788086,
          -25.61178207397461,
          32.55617904663086,
          -12.502921104431152,
          -31.609390258789062,
          -42.168819427490234,
          27.200416564941406,
          37.37855911254883,
          -8.847899436950684,
          7.514439105987549,
          -7.5668439865112305,
          17.610708236694336,
          -30.286174774169922,
          22.765174865722656,
          -31.651811599731445,
          2.8703651428222656,
          -26.353410720825195,
          17.499507904052734,
          26.873931884765625,
          15.847079277038574,
          -0.7518828511238098,
          47.30048751831055,
          27.877939224243164,
          -34.54729461669922,
          -31.133703231811523,
          46.72908401489258,
          -6.60695219039917,
          -21.211862564086914,
          -29.80597496032715,
          2.067150354385376,
          15.031396865844727,
          -7.872900009155273,
          -49.83791732788086,
          12.707789421081543,
          -40.79573440551758,
          -2.4165961742401123,
          6.181514739990234,
          36.013336181640625,
          33.098323822021484,
          23.561368942260742,
          -40.76834487915039,
          6.043962478637695,
          2.5550034046173096,
          18.433731079101562,
          20.145456314086914,
          -26.891952514648438,
          13.91198444366455,
          -23.47975730895996,
          4.7307257652282715,
          15.221771240234375,
          -17.629478454589844,
          27.168916702270508,
          -10.048829078674316,
          -4.931106090545654,
          17.358976364135742,
          -31.189739227294922,
          27.328960418701172,
          37.27219009399414,
          30.31728172302246,
          -47.6921272277832,
          -40.541900634765625,
          31.14873504638672,
          -10.198834419250488,
          7.731604099273682,
          6.912590026855469,
          -32.951900482177734,
          -28.8758487701416,
          -24.731191635131836,
          10.319159507751465,
          12.349562644958496,
          7.948362827301025,
          35.11898422241211,
          -44.42100143432617,
          -32.46083450317383,
          -14.571623802185059,
          7.358153343200684,
          14.574501991271973,
          1.293922781944275,
          26.764909744262695,
          -49.65387725830078,
          -11.1674165725708,
          -2.506335973739624,
          5.718857288360596,
          -6.127524375915527,
          22.09185791015625,
          22.804306030273438,
          -42.81582260131836,
          3.4111618995666504,
          -21.16370391845703,
          -36.20585250854492,
          31.403356552124023,
          -15.831437110900879,
          -47.588619232177734,
          0.5067545175552368,
          33.42940902709961,
          11.59605884552002,
          38.18735122680664,
          13.379426002502441,
          2.4323527812957764,
          2.401193857192993,
          -32.10074234008789,
          -40.370765686035156,
          -14.071325302124023,
          2.172922134399414,
          14.671863555908203,
          9.124677658081055,
          -22.94219207763672,
          19.620685577392578,
          -17.345115661621094,
          -25.05078125,
          -7.257355690002441,
          -19.102140426635742,
          -5.635865211486816,
          9.000205039978027,
          48.401485443115234,
          21.557146072387695,
          -35.7523193359375,
          -35.06418991088867,
          14.072087287902832,
          11.901996612548828,
          41.89151382446289,
          14.749258041381836,
          13.045770645141602,
          28.07344627380371,
          20.65555191040039,
          -28.52509880065918,
          26.258304595947266,
          19.562482833862305,
          -46.39280319213867,
          -44.68989562988281,
          5.715691566467285,
          -14.021339416503906,
          -12.738142013549805,
          -0.0002984669408760965,
          -34.835784912109375,
          18.60393714904785,
          23.46527099609375,
          12.102067947387695,
          23.095720291137695,
          23.0814151763916,
          -19.87844467163086,
          -5.291551113128662,
          -23.005651473999023,
          19.969593048095703,
          -16.15637969970703,
          35.8146858215332,
          5.537982940673828,
          0.33121854066848755,
          0.8787590265274048,
          -5.535419464111328,
          13.484188079833984,
          9.476004600524902,
          -36.15056610107422,
          -12.20389175415039,
          -23.75303077697754,
          -9.089683532714844,
          15.32058048248291,
          -9.541820526123047,
          26.841217041015625,
          -30.41680908203125,
          -8.475247383117676,
          -34.840702056884766,
          -4.101539134979248,
          -30.498394012451172,
          9.765467643737793,
          -31.243608474731445,
          15.129960060119629,
          17.9097843170166,
          33.41096878051758,
          29.96861457824707,
          0.8647232055664062,
          -12.732499122619629,
          14.335748672485352,
          -5.344484806060791,
          -44.37440872192383,
          38.388641357421875,
          19.455974578857422,
          -17.817474365234375,
          -38.50077438354492,
          7.7286906242370605,
          8.891483306884766,
          -35.7985954284668,
          41.58306884765625,
          0.3522743880748749,
          4.765918254852295,
          29.665584564208984,
          -9.502058982849121,
          12.932143211364746,
          -45.297698974609375,
          -13.285629272460938,
          3.5947301387786865,
          20.669130325317383,
          -13.317131042480469,
          3.1079752445220947,
          11.780922889709473,
          -24.352664947509766,
          6.1206464767456055,
          23.370534896850586,
          18.391048431396484,
          5.862101078033447,
          -38.24726867675781,
          -25.438560485839844,
          -16.28462028503418,
          26.7672061920166,
          22.294639587402344,
          1.1362910270690918,
          1.2437313795089722,
          -27.487293243408203,
          26.27266502380371,
          3.2308833599090576,
          3.9371066093444824,
          40.123592376708984,
          0.1327543556690216,
          14.716341018676758,
          9.747822761535645,
          -13.93091869354248,
          10.024540901184082,
          -31.942596435546875,
          -11.729531288146973,
          -22.453723907470703,
          21.851354598999023,
          24.237911224365234,
          6.98907470703125,
          12.480501174926758,
          -10.305103302001953,
          -17.801855087280273,
          27.790618896484375,
          -24.08449935913086,
          -19.209842681884766,
          28.81674575805664,
          -34.26961135864258,
          -21.83526039123535,
          -4.1939592361450195,
          39.12974166870117,
          -18.082374572753906,
          -8.34134292602539,
          23.842937469482422,
          -16.25387954711914,
          0.5989335179328918,
          -19.50550079345703,
          -10.012454986572266,
          34.88631057739258,
          -41.41075134277344,
          -20.515457153320312,
          -23.259096145629883,
          -42.072174072265625,
          42.13687515258789,
          2.115166664123535,
          -23.619766235351562,
          -49.2161979675293,
          -33.70551681518555,
          3.9212684631347656,
          20.402435302734375,
          3.981302499771118,
          0.7962084412574768,
          20.287601470947266,
          2.9719693660736084,
          -8.98610782623291,
          -41.81856155395508,
          3.9840714931488037,
          32.114017486572266,
          -11.879286766052246,
          24.23738670349121,
          26.979267120361328,
          -16.286495208740234,
          44.14126205444336,
          12.973913192749023,
          22.72319984436035,
          -16.279672622680664,
          -17.91974449157715,
          10.070757865905762,
          16.814863204956055,
          3.60754132270813,
          39.626731872558594,
          2.734621524810791,
          -5.008220672607422,
          -18.689075469970703,
          -3.2729930877685547,
          -25.538785934448242,
          3.3713974952697754,
          -37.855430603027344,
          25.189847946166992,
          -4.311356067657471,
          -31.4455623626709,
          7.354445457458496,
          -25.24829864501953,
          13.404882431030273,
          11.775145530700684,
          -33.741294860839844,
          -25.879701614379883,
          -16.089004516601562,
          -33.474029541015625,
          27.876144409179688,
          -35.190399169921875,
          -48.3176383972168,
          -4.387287139892578,
          -14.03295612335205,
          -9.764147758483887,
          4.476446628570557,
          -35.37338638305664,
          -41.70446014404297,
          -13.992563247680664,
          2.8083250522613525,
          -5.211605072021484,
          7.5580949783325195,
          -19.88972282409668,
          -48.11759948730469,
          -14.085679054260254,
          -31.911401748657227,
          -21.288501739501953,
          -21.87083625793457,
          15.920317649841309,
          -6.815656661987305,
          -36.87477493286133,
          -25.0164852142334,
          -4.6693115234375,
          -44.09917068481445,
          -3.691983938217163,
          -18.0685977935791,
          -33.07645034790039,
          11.066123008728027,
          -1.802304983139038,
          -9.749039649963379,
          7.341744422912598,
          -28.705873489379883,
          15.231216430664062,
          -34.18198776245117,
          -10.89494514465332,
          -29.516307830810547,
          -13.044800758361816,
          32.96083068847656,
          -46.92118453979492,
          -3.15925669670105,
          -1.8784431219100952,
          -7.45004940032959,
          -15.037640571594238,
          5.448446750640869,
          -26.576534271240234,
          -41.226470947265625,
          12.118414878845215,
          44.942752838134766,
          -16.92524528503418,
          1.361992597579956,
          -3.632465362548828,
          -20.723167419433594,
          -2.2235708236694336,
          30.24415397644043,
          -5.9776225090026855,
          -43.094200134277344,
          0.799001932144165,
          16.355680465698242,
          25.502948760986328,
          11.47722053527832,
          0.9903736114501953,
          -11.370676040649414,
          1.6568577289581299,
          3.2546942234039307,
          -12.260645866394043,
          -5.613228797912598,
          6.585994243621826,
          -25.783828735351562,
          -4.962952613830566,
          4.916019439697266,
          31.60104751586914,
          -19.46766471862793,
          -9.526771545410156,
          -45.13982391357422,
          -18.463407516479492,
          13.966168403625488,
          18.107526779174805,
          1.9762372970581055,
          7.519674777984619,
          -39.89779281616211,
          19.113391876220703,
          -22.205631256103516,
          13.389445304870605,
          -0.7565145492553711,
          11.118145942687988,
          33.42460632324219,
          16.925819396972656,
          -14.376008033752441,
          -5.008987903594971,
          -45.795936584472656,
          20.9173641204834,
          8.011151313781738,
          21.498743057250977,
          19.524782180786133,
          -20.075063705444336,
          18.542163848876953,
          -21.925527572631836,
          -53.58753967285156,
          26.537662506103516,
          41.186763763427734,
          -4.249305248260498,
          -36.176273345947266,
          -45.96052551269531,
          18.322511672973633,
          29.705514907836914,
          -31.580732345581055,
          45.00291442871094,
          18.290891647338867,
          -33.55733108520508,
          -23.803363800048828,
          9.179231643676758,
          17.33552360534668,
          -34.948219299316406,
          17.666061401367188,
          -39.98208236694336,
          -21.147449493408203,
          21.435699462890625,
          -22.76616096496582,
          -1.2235748767852783,
          -3.242501974105835,
          7.044406890869141,
          -1.4470324516296387,
          9.660836219787598,
          -36.721981048583984,
          -31.858434677124023,
          -15.580615997314453,
          19.43848991394043,
          16.735300064086914,
          -27.373212814331055,
          40.80263900756836,
          27.6754093170166,
          38.017574310302734,
          -4.74397611618042,
          16.3437557220459,
          34.972293853759766,
          -1.7140132188796997,
          -17.405540466308594,
          -13.565178871154785,
          -5.251913547515869,
          -5.941441535949707,
          29.277929306030273,
          -20.837703704833984,
          -4.409082412719727,
          -1.542508602142334,
          -37.75505828857422,
          -3.2715115547180176,
          -18.36083984375,
          -9.69854736328125,
          6.854187488555908,
          6.202126979827881,
          18.757740020751953,
          1.6669223308563232,
          -8.377617835998535,
          37.41950988769531,
          20.365686416625977,
          3.412306785583496,
          22.888607025146484,
          -26.223947525024414,
          -31.42744255065918,
          6.544111728668213,
          13.858966827392578,
          -2.6051957607269287,
          0.9279956221580505,
          4.197758197784424,
          4.397134304046631,
          16.677549362182617,
          -6.2457451820373535,
          -34.27029037475586,
          -47.03339767456055,
          17.933616638183594,
          -7.95133638381958,
          -8.497032165527344,
          -9.728280067443848,
          -22.14653968811035,
          -23.774099349975586,
          35.80030059814453,
          -5.7115678787231445,
          20.4378719329834,
          24.739654541015625,
          1.0643658638000488,
          6.215529441833496,
          8.361085891723633,
          -5.346888065338135,
          2.0885279178619385,
          -10.084930419921875,
          -55.618194580078125,
          -20.67757797241211,
          10.812207221984863,
          -22.34103775024414,
          -9.376386642456055,
          -30.753915786743164,
          25.54482650756836,
          22.328384399414062,
          24.961292266845703,
          3.2993924617767334,
          -45.06528854370117,
          -8.814172744750977,
          23.460676193237305,
          41.272438049316406,
          22.148210525512695,
          0.7030303478240967,
          -19.990720748901367,
          -39.79812240600586,
          -7.875910758972168,
          1.2814992666244507,
          -20.801687240600586,
          -46.48652648925781,
          -21.338531494140625,
          2.656363010406494,
          -6.941542148590088,
          -27.440237045288086,
          1.2675877809524536,
          22.740985870361328,
          -21.329729080200195,
          -4.542067050933838,
          12.293163299560547,
          -45.7945556640625,
          38.30351638793945,
          -8.752540588378906,
          20.314992904663086,
          35.25442123413086,
          -7.623527526855469,
          -6.09904670715332,
          40.728485107421875,
          6.328274250030518,
          29.279088973999023,
          -1.7840161323547363,
          -18.350608825683594,
          5.655038356781006,
          7.494556903839111,
          -3.6594460010528564,
          -23.271163940429688,
          26.7253360748291,
          28.364301681518555,
          -2.056037664413452,
          -38.55820846557617,
          8.625964164733887,
          -25.327730178833008,
          18.043825149536133,
          -7.4183831214904785,
          30.482954025268555,
          -27.531667709350586,
          0.36767956614494324,
          8.894522666931152,
          -0.6041032671928406,
          41.795047760009766,
          -12.771005630493164,
          -19.04371452331543,
          -23.97588539123535,
          -7.65609073638916,
          19.642297744750977,
          -44.750518798828125,
          -42.8473014831543,
          -2.057375431060791,
          20.735050201416016,
          37.36406707763672,
          4.724089622497559,
          29.008371353149414,
          -17.48691177368164,
          27.01327896118164,
          -8.63427734375,
          0.14087074995040894,
          1.8462193012237549,
          -1.6253694295883179,
          -13.29906177520752,
          -2.6295111179351807,
          8.86534595489502,
          -36.57501220703125,
          9.60212516784668,
          24.559593200683594,
          -22.332788467407227,
          -21.318500518798828,
          -10.627737045288086,
          10.889490127563477,
          34.9543571472168,
          9.596124649047852,
          -15.592397689819336,
          -38.32636260986328,
          -44.85920715332031,
          -28.954891204833984,
          -43.36915588378906,
          -7.080763816833496,
          -19.92473793029785,
          10.531457901000977,
          26.2299861907959,
          10.034711837768555,
          3.9889349937438965,
          5.920838832855225,
          -30.41733741760254,
          19.93960952758789,
          8.821551322937012,
          -54.54017639160156,
          19.78163719177246,
          -19.575830459594727,
          10.642962455749512,
          -30.705602645874023,
          -7.82212495803833,
          -21.87454605102539,
          -33.01640701293945,
          -31.607723236083984,
          25.968637466430664,
          -0.8010057210922241,
          25.139251708984375,
          -0.19867005944252014,
          -25.742210388183594,
          -5.00066614151001,
          -3.2031631469726562,
          0.30424800515174866,
          -6.130278587341309,
          -29.556129455566406,
          -27.74398422241211,
          2.380107879638672,
          23.478435516357422,
          -24.582374572753906,
          -26.12313461303711,
          -13.562676429748535,
          37.15003967285156,
          25.96670150756836,
          26.660072326660156,
          0.5369844436645508,
          -22.125219345092773,
          -33.68777847290039,
          -27.658754348754883,
          27.825788497924805,
          20.259239196777344,
          37.29701614379883,
          34.58332443237305,
          13.736010551452637,
          33.43262481689453,
          15.044215202331543,
          -32.54642105102539,
          -12.745488166809082,
          -44.0499153137207,
          20.939260482788086,
          -18.860370635986328,
          32.39080810546875,
          -10.547076225280762,
          36.61180114746094,
          -27.97011375427246,
          10.08831787109375,
          7.3146514892578125,
          32.050148010253906,
          14.486517906188965,
          37.562713623046875,
          -25.843917846679688,
          -22.27545738220215,
          9.264270782470703,
          33.49616622924805,
          -8.368877410888672,
          -0.9169678092002869,
          14.112330436706543,
          -3.9155890941619873,
          13.490230560302734,
          35.300506591796875,
          -45.76947784423828,
          -44.74241638183594,
          0.37963414192199707,
          -26.456710815429688,
          5.684927463531494,
          14.554597854614258,
          -0.5153561234474182,
          28.387840270996094,
          -6.240156173706055,
          -10.215181350708008,
          -4.6245574951171875,
          4.5141520500183105,
          16.028945922851562,
          24.511613845825195,
          15.24862003326416,
          -27.909976959228516,
          -12.007396697998047,
          -2.679258108139038,
          12.162124633789062,
          -34.6705322265625,
          -32.82766342163086,
          -21.24231719970703,
          -21.373823165893555,
          -37.320655822753906,
          16.507888793945312,
          24.78423500061035,
          0.6086690425872803,
          18.455961227416992,
          -8.976308822631836,
          41.08277130126953,
          44.85647964477539,
          -1.4599621295928955,
          -41.270477294921875,
          24.165956497192383,
          2.6785106658935547,
          18.80116081237793,
          43.41668701171875,
          31.29030990600586,
          35.99657440185547,
          -2.98543119430542,
          31.620189666748047,
          12.730192184448242,
          25.824995040893555,
          20.93251609802246,
          26.994901657104492,
          -20.55877113342285,
          -6.566882610321045,
          23.546537399291992,
          8.121184349060059,
          43.779762268066406,
          -39.80274200439453,
          5.971160888671875,
          3.529545307159424,
          36.051177978515625,
          10.417988777160645,
          -16.196468353271484,
          31.679134368896484,
          0.5372087359428406,
          -0.2376416176557541,
          -15.5581636428833,
          -29.858116149902344,
          30.15926742553711,
          32.76954650878906,
          16.868343353271484,
          -37.65275192260742,
          11.405987739562988,
          -14.455818176269531,
          -44.03716278076172,
          -10.757157325744629,
          29.461994171142578,
          -16.22479248046875,
          23.235889434814453,
          22.179698944091797,
          1.8943358659744263,
          9.323894500732422,
          25.329435348510742,
          -19.835649490356445,
          -38.3115348815918,
          6.729362487792969,
          -16.444215774536133,
          22.590429306030273,
          25.565576553344727,
          31.15481948852539,
          27.35025405883789,
          -20.22403335571289,
          0.1249028742313385,
          -5.257638931274414,
          -27.94403076171875,
          -29.56342887878418,
          -34.38642120361328,
          3.0659797191619873,
          32.89429473876953,
          -16.309316635131836,
          12.404428482055664,
          -16.169044494628906,
          37.021087646484375,
          -31.884340286254883,
          23.03013801574707,
          -11.421194076538086,
          48.33020782470703,
          7.311156272888184,
          31.770387649536133,
          -6.448561191558838,
          -20.209802627563477,
          18.984548568725586,
          24.14407730102539,
          22.50460433959961,
          19.127758026123047,
          3.3787693977355957,
          -27.962875366210938,
          14.72420597076416,
          -9.14338493347168,
          -14.590210914611816,
          -8.581496238708496,
          -7.320889949798584,
          15.988959312438965,
          -2.6686298847198486,
          -13.345114707946777,
          11.659626960754395,
          13.436330795288086,
          -16.902318954467773,
          3.4788904190063477,
          23.771276473999023,
          34.76455307006836,
          5.9568095207214355,
          37.63004684448242,
          -4.831457138061523,
          6.325993537902832,
          -47.665061950683594,
          20.65300178527832,
          19.013553619384766,
          -48.473846435546875,
          -27.396995544433594,
          6.561280727386475,
          -33.645118713378906,
          43.48646545410156,
          19.496387481689453,
          -12.259459495544434,
          40.152252197265625,
          -17.216670989990234,
          31.890037536621094,
          -1.1941965818405151,
          31.522666931152344,
          -12.8222074508667,
          16.52583122253418,
          -34.13190460205078,
          3.34232497215271,
          -46.21516418457031,
          -20.811920166015625,
          -19.232627868652344,
          -25.53663444519043,
          -4.924122333526611,
          10.685030937194824,
          19.011247634887695,
          23.038576126098633,
          -16.29167366027832,
          47.24275207519531,
          -6.6731181144714355,
          -6.4185686111450195,
          -9.23754596710205,
          -0.939842164516449,
          -36.62947463989258,
          -46.2575798034668,
          13.060276985168457,
          23.36833953857422,
          -17.383806228637695,
          12.334383964538574,
          0.7971072793006897,
          -15.223122596740723,
          -31.515480041503906,
          19.09233283996582,
          -25.100421905517578,
          -5.304357051849365,
          15.27187442779541,
          20.689586639404297,
          -9.861053466796875,
          31.71940803527832,
          21.370079040527344,
          33.61191940307617,
          13.742583274841309,
          -21.437360763549805,
          -5.8962249755859375,
          17.670297622680664,
          38.70698928833008,
          -8.660989761352539,
          33.90436553955078,
          44.241092681884766,
          -33.04277038574219,
          4.453209400177002,
          11.28281021118164,
          -18.716163635253906,
          -15.862732887268066,
          15.968893051147461,
          2.3900797367095947,
          -25.655982971191406,
          -37.300777435302734,
          5.132360458374023,
          -11.101785659790039,
          -8.785683631896973,
          6.424729824066162,
          15.975786209106445,
          -4.339985370635986,
          18.748512268066406,
          -25.380760192871094,
          -2.251594305038452,
          -6.851805686950684,
          -14.056057929992676,
          -13.304052352905273,
          -13.557571411132812,
          41.73878860473633,
          34.394657135009766,
          29.95876121520996,
          -1.883379578590393,
          -20.535053253173828,
          -13.446775436401367,
          8.25704574584961,
          36.48310470581055,
          -27.03776741027832,
          -23.477901458740234,
          32.91443634033203,
          7.1249566078186035,
          -39.24750900268555,
          14.632452011108398,
          12.291860580444336,
          24.994033813476562,
          -19.936668395996094,
          15.923116683959961,
          15.379730224609375,
          39.16299819946289,
          28.61638641357422,
          -15.887362480163574,
          -37.41080856323242,
          -27.413475036621094,
          -12.238426208496094,
          15.25145435333252,
          17.282135009765625,
          -45.45456314086914,
          -20.833309173583984,
          -44.27764892578125,
          -9.177030563354492,
          -16.806264877319336,
          22.742441177368164,
          -24.39900779724121,
          9.770727157592773,
          7.148192882537842,
          37.92866134643555,
          8.979395866394043,
          23.347505569458008,
          15.781210899353027,
          -20.59772300720215,
          22.89919090270996,
          41.438350677490234,
          3.3820276260375977,
          3.705009937286377,
          -7.056877136230469,
          31.731597900390625,
          -13.349316596984863,
          43.38779830932617,
          31.82748794555664,
          10.203919410705566,
          -3.384150981903076,
          -25.719736099243164,
          -4.491934776306152,
          45.092315673828125,
          31.961627960205078,
          -45.13900375366211,
          -34.363121032714844,
          -1.608539342880249,
          -41.78572082519531,
          -21.779605865478516,
          22.080759048461914,
          -7.670820713043213,
          -17.397846221923828,
          14.036561012268066,
          6.55576229095459,
          24.82876205444336,
          -31.083086013793945,
          -12.037259101867676,
          24.710912704467773,
          20.911113739013672,
          21.11355972290039,
          12.498454093933105,
          -47.498085021972656,
          -3.4576914310455322,
          -11.93154239654541,
          9.753551483154297,
          1.8939415216445923,
          -34.790794372558594,
          12.316268920898438,
          39.61110305786133,
          23.88730812072754,
          45.99844741821289,
          13.161978721618652,
          -22.409610748291016,
          21.387720108032227,
          0.3524347245693207,
          -1.9770766496658325,
          30.562824249267578,
          -27.021347045898438,
          -34.69134521484375,
          13.027153968811035,
          24.882944107055664,
          14.470976829528809,
          33.89460754394531,
          -23.07125473022461,
          17.997146606445312,
          29.956317901611328,
          33.09455490112305,
          11.363937377929688,
          -28.596351623535156,
          24.775222778320312,
          -32.681884765625,
          -0.7663479447364807,
          0.33020371198654175,
          -28.06037139892578,
          -28.39177894592285,
          36.27649688720703,
          -30.930591583251953,
          -14.989278793334961,
          -33.04112243652344,
          10.089396476745605,
          25.69658851623535,
          33.250064849853516,
          25.17405128479004,
          18.228893280029297,
          -3.520350933074951,
          -37.821781158447266,
          -10.103131294250488,
          -2.254063844680786,
          -30.568790435791016,
          36.961917877197266,
          20.659900665283203,
          -12.813440322875977,
          40.8858642578125,
          32.193119049072266,
          -38.89054489135742,
          1.5320559740066528,
          17.91560935974121,
          31.289989471435547,
          -16.259523391723633,
          21.32245445251465,
          -26.53542709350586,
          26.243343353271484,
          -14.27376651763916,
          6.398071765899658,
          28.513641357421875,
          12.069856643676758,
          -10.449541091918945,
          14.477167129516602,
          28.06932830810547,
          30.770702362060547,
          -8.41874885559082,
          19.680622100830078,
          27.77115821838379,
          -10.057966232299805,
          16.98618507385254,
          -29.69900131225586,
          -17.45458221435547,
          41.87324523925781,
          33.40059280395508,
          40.559139251708984,
          -42.30794906616211,
          -6.315604209899902,
          5.772302627563477,
          -37.87632751464844,
          14.606975555419922,
          29.54169464111328,
          20.270923614501953,
          -30.397525787353516,
          37.700965881347656,
          -16.528589248657227,
          13.776201248168945,
          -20.72844886779785,
          40.28490447998047,
          20.844446182250977,
          -26.45137596130371,
          -13.569046020507812,
          11.676365852355957,
          24.869110107421875,
          4.444019794464111,
          -42.039493560791016,
          -2.284334182739258,
          35.901634216308594,
          -12.157099723815918,
          23.713237762451172,
          -24.13466453552246,
          -7.66586446762085,
          4.242915153503418,
          -2.762758493423462,
          33.43222427368164,
          0.4347314238548279,
          1.669624924659729,
          20.638687133789062,
          -30.294750213623047,
          10.564653396606445,
          -48.57647705078125,
          6.362675189971924,
          -9.15131664276123,
          19.368738174438477,
          1.8379273414611816,
          -36.59477615356445,
          30.962976455688477,
          -4.902615547180176,
          16.855073928833008,
          -2.7477920055389404,
          -28.579160690307617,
          21.80603790283203,
          37.664955139160156,
          15.249279975891113,
          17.101375579833984,
          10.011476516723633,
          -37.75091552734375,
          -7.006519317626953,
          -18.305477142333984,
          2.9709415435791016,
          -7.621283531188965,
          20.765718460083008,
          19.988693237304688,
          -22.004152297973633,
          15.75647258758545,
          32.479827880859375,
          -14.784790992736816,
          2.5833399295806885,
          46.951786041259766,
          23.95722007751465,
          -9.455862998962402,
          -11.344188690185547,
          3.112769365310669,
          20.59161949157715,
          -0.26797521114349365,
          -1.9858659505844116,
          -48.6866340637207,
          39.21416473388672,
          34.31816101074219,
          44.553653717041016,
          14.286234855651855,
          8.89229965209961,
          -6.102761268615723,
          7.290860652923584,
          -39.507110595703125,
          -13.632760047912598,
          -38.86912536621094,
          -11.93740177154541,
          16.869762420654297,
          1.6808090209960938,
          -36.892822265625,
          -20.564022064208984,
          22.60054588317871,
          24.790203094482422,
          26.440412521362305,
          -45.98974609375,
          30.10944366455078,
          27.22296905517578,
          9.585837364196777,
          12.598587989807129,
          9.330460548400879,
          -8.16678524017334,
          -3.6712937355041504,
          32.849605560302734,
          8.803088188171387,
          -18.960723876953125,
          4.9479289054870605,
          26.487991333007812,
          -26.80388641357422,
          16.385509490966797,
          21.599998474121094,
          -11.069966316223145,
          -23.95016860961914,
          -5.408786296844482,
          12.832417488098145,
          -0.287189781665802,
          18.88848304748535,
          -16.922767639160156,
          19.33277702331543,
          -3.6665561199188232,
          -18.096338272094727,
          44.453983306884766,
          22.937747955322266,
          15.378898620605469,
          -19.07655906677246,
          18.12630844116211,
          14.227948188781738,
          1.1528065204620361,
          37.812252044677734,
          -36.78102493286133,
          11.383903503417969,
          -32.901432037353516,
          29.58237075805664,
          -46.63174819946289,
          -18.070554733276367,
          -13.808917045593262,
          -31.681324005126953,
          23.989505767822266,
          34.99626541137695,
          5.829124450683594,
          -7.550896644592285,
          12.849664688110352,
          -23.84601402282715,
          34.38619613647461,
          25.664173126220703,
          -25.858680725097656,
          18.03855323791504,
          -30.069154739379883,
          -1.3402841091156006,
          -2.6068434715270996,
          -13.224898338317871,
          16.05878257751465,
          32.764957427978516,
          -11.973611831665039,
          -10.546653747558594,
          -6.24808406829834,
          -34.12738800048828,
          -30.500782012939453,
          16.389556884765625,
          -40.87501907348633,
          -47.00141525268555,
          -0.7496236562728882,
          22.209598541259766,
          30.013856887817383,
          -7.049337863922119,
          -20.55518913269043,
          47.268798828125,
          11.769771575927734,
          -3.256319284439087,
          26.895824432373047,
          -0.6020390391349792,
          12.572265625,
          7.454426288604736,
          -17.774057388305664,
          6.067709922790527,
          24.22556495666504,
          24.80385971069336,
          2.7111005783081055,
          25.49458885192871,
          49.160430908203125,
          31.268836975097656,
          -14.398443222045898,
          25.608821868896484,
          -14.153861999511719,
          -39.8367919921875,
          -11.07761001586914,
          11.446232795715332,
          1.0776082277297974,
          -32.75692367553711,
          -22.064685821533203,
          8.624248504638672,
          -24.346548080444336,
          -33.48932647705078,
          -1.873235821723938,
          -32.1634521484375,
          16.06557846069336,
          25.60489845275879,
          -9.210667610168457,
          24.199281692504883,
          36.337398529052734,
          -20.073692321777344,
          25.67176055908203,
          -14.413275718688965,
          23.63702964782715,
          35.18061065673828,
          -5.513759613037109,
          7.337708473205566,
          37.310569763183594,
          -30.177881240844727,
          13.998186111450195,
          7.544872283935547,
          34.96014404296875,
          -34.883026123046875,
          18.722633361816406,
          7.557491779327393,
          -6.759154319763184,
          -6.917753219604492,
          21.223731994628906,
          15.190710067749023,
          13.765316009521484,
          23.949907302856445,
          -28.93069839477539,
          42.684486389160156,
          -19.621450424194336,
          -20.617746353149414,
          -3.373389959335327,
          -6.758458614349365,
          4.7984113693237305,
          9.344854354858398,
          -27.06532096862793,
          -17.784589767456055,
          -48.87474822998047,
          12.153223037719727,
          9.009727478027344,
          -6.751114368438721,
          35.95250701904297,
          -1.0797523260116577,
          30.542556762695312,
          27.073949813842773,
          14.855039596557617,
          -15.968354225158691,
          46.929073333740234,
          -31.459510803222656,
          -31.8348445892334,
          6.887965202331543,
          13.576382637023926,
          4.0708909034729,
          2.052025556564331,
          14.902179718017578,
          -2.3809025287628174,
          16.267934799194336,
          30.172969818115234,
          -45.70682144165039,
          -13.118614196777344,
          -2.031346082687378,
          -9.317543029785156,
          -41.214656829833984,
          25.912425994873047,
          -8.33423900604248,
          -21.36365509033203,
          25.82480239868164,
          -46.9996337890625,
          -17.246244430541992,
          -11.641582489013672,
          -17.02662467956543,
          37.69770812988281,
          -1.1713593006134033,
          -10.031978607177734,
          -13.183483123779297,
          -4.14243745803833,
          16.711345672607422,
          -9.834761619567871,
          13.81512451171875,
          -21.1700496673584,
          -6.321356296539307,
          4.02236270904541,
          -17.209054946899414,
          -8.143324851989746,
          36.56159973144531,
          17.121625900268555,
          -0.34551802277565,
          42.079715728759766,
          45.1837158203125,
          11.198912620544434,
          -21.134235382080078,
          -7.590471267700195,
          0.6767531037330627,
          21.757123947143555,
          -26.376707077026367,
          13.616667747497559,
          -34.25586700439453,
          10.097797393798828,
          14.593551635742188,
          12.907262802124023,
          -8.314667701721191,
          -11.279948234558105,
          -0.20015399158000946,
          -7.649378299713135,
          17.44685173034668,
          -8.173369407653809,
          -25.846277236938477,
          -18.76908302307129,
          1.4045345783233643,
          -9.3875150680542,
          -7.451990127563477,
          41.65895080566406,
          -17.751239776611328,
          -20.04583168029785,
          29.796550750732422,
          4.826937198638916,
          4.209225654602051,
          6.552831172943115,
          7.150809288024902,
          22.382204055786133,
          39.19582748413086,
          42.53504943847656,
          16.92072296142578,
          -6.414211273193359,
          -2.1796023845672607,
          -5.591933727264404,
          21.195688247680664,
          19.776348114013672,
          -30.48713493347168,
          11.775407791137695,
          5.655045032501221,
          -18.857879638671875,
          30.210012435913086,
          9.748022079467773,
          -14.739786148071289,
          17.334806442260742,
          -10.023665428161621,
          18.3056697845459,
          9.11453628540039,
          -1.1676795482635498,
          -25.22611427307129,
          10.784280776977539,
          -17.556333541870117,
          33.067970275878906,
          16.97463035583496,
          27.991329193115234,
          15.150374412536621,
          2.5541844367980957,
          -27.21796989440918,
          14.972867012023926,
          11.996999740600586,
          6.823503494262695,
          10.855199813842773,
          19.641998291015625,
          24.251558303833008,
          35.65553283691406,
          -2.979837417602539,
          0.17307643592357635,
          32.139129638671875,
          -27.036300659179688,
          23.490543365478516,
          3.0777347087860107,
          13.659126281738281,
          8.764747619628906,
          -4.470422267913818,
          -52.76749801635742,
          -29.910364151000977,
          43.93854904174805,
          -24.374555587768555,
          39.50032043457031,
          5.219695568084717,
          12.433694839477539,
          24.59395980834961,
          -16.911785125732422,
          -24.95654296875,
          -34.5070686340332,
          31.977603912353516,
          8.081417083740234,
          -19.040929794311523,
          18.6747989654541,
          -18.090145111083984,
          16.612051010131836,
          23.942989349365234,
          24.694820404052734,
          -20.13868522644043,
          -10.710658073425293,
          -19.876867294311523,
          -8.708281517028809,
          29.360963821411133,
          -15.954194068908691,
          27.57069206237793,
          -25.2169132232666,
          -2.3931689262390137,
          5.2946343421936035,
          -4.899255275726318,
          20.038537979125977,
          -29.39799690246582,
          -17.692167282104492,
          -15.660561561584473,
          14.349588394165039,
          -1.355819821357727,
          -15.513059616088867,
          -22.91729164123535,
          -9.54872989654541,
          -38.380008697509766,
          -3.3878014087677,
          -30.47222137451172,
          2.8471856117248535,
          -18.225509643554688,
          23.232627868652344,
          -25.67401123046875,
          -15.105132102966309,
          -17.735990524291992,
          8.314419746398926,
          -11.936777114868164,
          -8.70496940612793,
          2.236315965652466,
          -46.249061584472656,
          26.112136840820312,
          11.87795639038086,
          26.200525283813477,
          -12.234671592712402,
          -1.2827036380767822,
          5.648127555847168,
          -3.916832447052002,
          -17.719593048095703,
          6.263463020324707,
          -45.31575393676758,
          -22.217449188232422,
          6.087404251098633,
          -48.97998809814453,
          -26.9062557220459,
          -30.942697525024414,
          27.657302856445312,
          -6.267561435699463,
          -3.054382085800171,
          -45.127193450927734,
          4.9076409339904785,
          -13.796050071716309,
          23.65961265563965,
          -27.071474075317383,
          35.800411224365234,
          -20.383378982543945,
          -30.029605865478516,
          5.4696455001831055,
          -27.616535186767578,
          -43.165775299072266,
          29.621294021606445,
          -9.121435165405273,
          14.649118423461914,
          27.542871475219727,
          1.8230518102645874,
          -18.135034561157227,
          -9.589838027954102,
          -3.1184592247009277,
          -12.954188346862793,
          -9.221447944641113,
          -0.40989822149276733,
          46.213130950927734,
          -27.163118362426758,
          16.932199478149414,
          -8.743327140808105,
          -6.091432094573975,
          -28.960662841796875,
          -10.372607231140137,
          -16.2324275970459,
          -3.6606805324554443,
          -3.3021080493927,
          -22.945232391357422,
          22.241640090942383,
          -20.402368545532227,
          -18.588106155395508,
          3.9782705307006836,
          -28.9431209564209,
          -48.70658874511719,
          -11.807059288024902,
          13.554214477539062,
          26.902664184570312,
          -5.678341388702393,
          20.146202087402344,
          -12.805390357971191,
          37.60517883300781,
          24.910600662231445,
          21.17629623413086,
          17.920228958129883,
          7.525766372680664,
          40.33755874633789,
          -39.996334075927734,
          -39.247314453125,
          -3.9210190773010254,
          -2.0217738151550293,
          37.084354400634766,
          -18.187335968017578,
          29.983963012695312,
          2.100008010864258,
          -32.68614959716797,
          -21.9360294342041,
          -49.78477478027344,
          -9.835288047790527,
          32.347652435302734,
          28.95003318786621,
          -36.03758239746094,
          -40.0145378112793,
          17.011655807495117,
          9.68839168548584,
          13.164615631103516,
          29.035924911499023,
          -1.4348036050796509,
          -47.76606369018555,
          31.264463424682617,
          -3.247370481491089,
          -27.918928146362305,
          -3.9539146423339844,
          18.247581481933594,
          -8.679488182067871,
          -19.965808868408203,
          14.80107307434082,
          35.87065505981445,
          1.049705147743225,
          19.442617416381836,
          -28.267471313476562,
          -40.47106170654297,
          0.8233967423439026,
          -19.628337860107422,
          -7.485435485839844,
          -4.342226982116699,
          -25.288198471069336,
          0.4557307958602905,
          13.46262264251709,
          -6.110162734985352,
          0.5190564393997192,
          13.683370590209961,
          -31.13322639465332,
          -15.552215576171875,
          -12.272200584411621,
          27.63233757019043,
          -29.753562927246094,
          25.93983268737793,
          -14.501728057861328,
          31.126161575317383,
          2.28085994720459,
          -0.5274558663368225,
          -34.04364013671875,
          -9.459797859191895,
          -3.9917705059051514,
          -18.983570098876953,
          -13.896613121032715,
          -11.060445785522461,
          -9.505820274353027,
          -18.75444793701172,
          -31.984254837036133,
          -38.59199905395508,
          -16.335050582885742,
          -38.93426513671875,
          -22.759414672851562,
          -6.114176273345947,
          -18.555641174316406,
          29.45102882385254,
          13.006084442138672,
          -21.084030151367188,
          -8.576114654541016,
          -1.571494460105896,
          -15.069899559020996,
          -43.833805084228516,
          25.820270538330078,
          -16.83820343017578,
          -6.841067314147949,
          16.58799171447754,
          20.226531982421875,
          28.769987106323242,
          31.285598754882812,
          0.5291815400123596,
          -29.345130920410156,
          -14.638745307922363,
          15.285602569580078,
          26.929548263549805,
          -37.168155670166016,
          2.420598268508911,
          -11.475366592407227,
          -12.65544605255127,
          -23.059059143066406,
          22.70469093322754,
          1.9162589311599731,
          -29.716636657714844,
          -37.9143180847168,
          -13.36077880859375,
          4.861297607421875,
          27.802513122558594,
          -26.36850357055664,
          15.959673881530762,
          2.752314329147339,
          7.451895236968994,
          -25.246841430664062,
          35.346763610839844,
          35.283164978027344,
          -1.8235855102539062,
          19.260879516601562,
          -53.59087371826172,
          -32.64414596557617,
          24.221769332885742,
          19.534820556640625,
          -26.44759178161621,
          -29.317092895507812,
          35.681068420410156,
          -24.309106826782227,
          -14.242024421691895,
          -28.49964714050293,
          -13.957701683044434,
          18.62244987487793,
          29.462154388427734,
          -7.661357879638672,
          -13.826889038085938,
          25.717185974121094,
          -24.207061767578125,
          18.168519973754883,
          33.52465057373047,
          -14.796393394470215,
          15.491518020629883,
          -8.874004364013672,
          -8.01732063293457,
          3.4520483016967773,
          20.76471519470215,
          -27.282949447631836,
          -17.321916580200195,
          19.105485916137695,
          10.125569343566895,
          -13.210709571838379,
          9.740205764770508,
          -34.57444763183594,
          10.51512336730957,
          13.178470611572266,
          6.021146774291992,
          -20.33905792236328,
          -0.5470128655433655,
          -6.093822479248047,
          -22.24067497253418,
          -17.808698654174805,
          42.276458740234375,
          6.279241561889648,
          38.824462890625,
          -26.67023277282715,
          8.300411224365234,
          19.327598571777344,
          30.73600196838379,
          13.800421714782715,
          23.002166748046875,
          -7.5527191162109375,
          23.626201629638672,
          8.417591094970703,
          22.870676040649414,
          15.163398742675781,
          9.448161125183105,
          -6.058424472808838,
          -11.555563926696777,
          -26.59003257751465,
          -27.479476928710938,
          -19.041234970092773,
          31.41881561279297,
          -7.4529218673706055,
          9.490250587463379,
          28.05314064025879,
          16.123882293701172,
          6.822510719299316,
          26.289926528930664,
          -7.97339391708374,
          14.310325622558594,
          -33.389896392822266,
          -29.417686462402344,
          39.1746940612793,
          11.334936141967773,
          -13.275751113891602,
          -22.334884643554688,
          27.74241828918457,
          -38.85182571411133,
          17.39168357849121,
          -0.6717897057533264,
          41.82573318481445,
          1.3297722339630127,
          -22.317853927612305,
          -2.5843000411987305,
          -14.42802619934082,
          7.251702785491943,
          22.68292999267578,
          9.602158546447754,
          6.32735538482666,
          12.885351181030273,
          -32.1825065612793,
          4.486655235290527,
          41.978572845458984,
          15.644573211669922,
          -4.189579963684082,
          -19.975820541381836,
          3.7389438152313232,
          4.648046493530273,
          5.9522857666015625,
          -9.243783950805664,
          16.51975440979004,
          -7.695939540863037,
          -6.03535795211792,
          22.20221519470215,
          7.893657684326172,
          13.501222610473633,
          34.17924499511719,
          -9.886946678161621,
          -13.398601531982422,
          -20.878559112548828,
          11.406110763549805,
          25.593034744262695,
          29.744985580444336,
          31.13533592224121,
          -16.720239639282227,
          -29.356006622314453,
          2.741981029510498,
          2.0905075073242188,
          -3.167856454849243,
          6.827611446380615,
          -33.45795440673828,
          11.1494722366333,
          1.9332942962646484,
          27.11505699157715,
          11.10745906829834,
          -10.827960968017578,
          15.56428337097168,
          -29.400651931762695,
          4.699613094329834,
          -38.898468017578125,
          -38.895713806152344,
          -4.935286521911621,
          5.593341827392578,
          -32.13969039916992,
          25.14122200012207,
          -17.63705062866211,
          37.812931060791016,
          28.946264266967773,
          -44.17015075683594,
          -20.183847427368164,
          12.162364959716797,
          -15.576751708984375,
          34.906925201416016,
          -35.433570861816406,
          -6.432269096374512,
          14.203940391540527,
          -6.361964702606201,
          36.524681091308594,
          -16.02389907836914,
          5.388535976409912,
          5.259271144866943,
          -12.464741706848145,
          -12.16323471069336,
          0.7882803678512573,
          28.176025390625,
          20.31438446044922,
          31.169116973876953,
          23.47031021118164,
          -27.50760841369629,
          -38.792240142822266,
          9.554783821105957,
          -13.835586547851562,
          35.02711486816406,
          -28.19333839416504,
          20.96080780029297,
          -1.3141748905181885,
          -16.66155242919922,
          21.22738265991211,
          8.88399600982666,
          1.7770068645477295,
          -19.248783111572266,
          -26.165634155273438,
          27.778337478637695,
          17.851306915283203,
          -46.811866760253906,
          39.97736740112305,
          -8.757872581481934,
          -10.156036376953125,
          21.39102554321289,
          -25.883054733276367,
          -37.137451171875,
          -0.4466014802455902,
          -15.499747276306152,
          -4.153648376464844,
          36.70975112915039,
          -2.1445934772491455,
          12.976940155029297,
          -29.289670944213867,
          -13.40977954864502,
          -13.6448392868042,
          -8.943178176879883,
          -2.2209434509277344,
          -18.994407653808594,
          -11.679494857788086,
          -0.5456226468086243,
          -52.236289978027344,
          40.65468215942383,
          4.657221794128418,
          -28.924087524414062,
          4.646603584289551,
          -17.768291473388672,
          23.745197296142578,
          -49.86429214477539,
          -43.42713928222656,
          -8.371438980102539,
          7.4239935874938965,
          34.691551208496094,
          3.366788387298584,
          -8.915644645690918,
          22.858932495117188,
          31.834074020385742,
          -24.044944763183594,
          11.705887794494629,
          43.36811828613281,
          1.4132578372955322,
          32.414207458496094,
          17.655658721923828,
          16.958881378173828,
          0.9430447816848755,
          13.140107154846191,
          -21.191246032714844,
          -36.560123443603516,
          22.223718643188477,
          2.5146477222442627,
          1.5120432376861572,
          33.63835525512695,
          -18.905378341674805,
          10.285958290100098,
          -13.560151100158691,
          17.422590255737305,
          -14.907381057739258,
          16.93841552734375,
          -29.59853744506836,
          19.009809494018555,
          -9.813720703125,
          19.063594818115234,
          25.21828269958496,
          -26.10000228881836,
          12.83535385131836,
          40.73844528198242,
          -14.01229190826416,
          12.537843704223633,
          16.796323776245117,
          25.42218589782715,
          -42.059329986572266,
          -52.08244323730469,
          -49.12229919433594,
          38.99186325073242,
          9.389482498168945,
          45.61874771118164,
          44.77698516845703,
          41.626304626464844,
          -15.617949485778809,
          6.441019535064697,
          -8.614699363708496,
          11.235617637634277,
          -21.874942779541016,
          15.686946868896484,
          8.5126314163208,
          -36.76028060913086,
          -9.382501602172852,
          15.149325370788574,
          22.243032455444336,
          22.835155487060547,
          -3.3618721961975098,
          -16.238649368286133,
          15.713644027709961,
          -33.071754455566406,
          29.068883895874023,
          27.28058624267578,
          7.103570461273193,
          -7.537103652954102,
          28.803922653198242,
          -16.530132293701172,
          24.180227279663086,
          -1.46341872215271,
          -15.122781753540039,
          30.49795913696289,
          13.088258743286133,
          9.343973159790039,
          12.6178560256958,
          18.660364151000977,
          18.92857551574707,
          -7.426574230194092,
          -31.353015899658203,
          16.592607498168945,
          47.79035949707031,
          -16.98296546936035,
          -12.808793067932129,
          26.43412971496582,
          15.379023551940918,
          -39.22859191894531,
          3.7367630004882812,
          5.579680442810059,
          35.59505844116211,
          8.857022285461426,
          -25.489561080932617,
          -16.94978904724121,
          -30.17194366455078,
          -22.232013702392578,
          3.3948895931243896,
          -6.12605619430542,
          17.141469955444336,
          -17.15860939025879,
          9.754167556762695,
          6.007591724395752,
          1.9224895238876343,
          -18.492414474487305,
          -35.362579345703125,
          -30.58628273010254,
          11.948325157165527,
          -41.958106994628906,
          5.50921630859375,
          -1.2721636295318604,
          0.38655248284339905,
          -19.8690185546875,
          21.17458152770996,
          11.171217918395996,
          -25.605405807495117,
          16.81112289428711,
          9.41703987121582,
          29.848031997680664,
          3.8765783309936523,
          6.878609657287598,
          10.809163093566895,
          -2.9066476821899414,
          18.34724998474121,
          -0.9231933951377869,
          -8.80781078338623,
          6.404214382171631,
          29.180471420288086,
          12.45759391784668,
          24.752294540405273,
          -10.333395004272461,
          -17.92767906188965,
          7.554919242858887,
          -35.7006950378418,
          15.6079683303833,
          14.17108154296875,
          50.281673431396484,
          24.71417808532715,
          -33.26410675048828,
          14.332483291625977,
          -29.974212646484375,
          20.69048309326172,
          0.8066921234130859,
          -15.373326301574707,
          -5.827538967132568,
          -36.99638366699219,
          42.89929962158203,
          20.71971893310547,
          33.84440231323242,
          -15.302066802978516,
          -26.443634033203125,
          31.446779251098633,
          -5.972013473510742,
          -43.97871398925781,
          -42.00324630737305,
          -15.511475563049316,
          36.307403564453125,
          -21.04508399963379,
          6.119602680206299,
          -43.49039077758789,
          -1.4996312856674194,
          -1.4302031993865967,
          10.822928428649902,
          -12.551614761352539,
          10.905540466308594,
          24.56519889831543,
          19.916767120361328,
          -24.483667373657227,
          -0.3127020299434662,
          -34.65281295776367,
          -11.666131973266602,
          -40.00071716308594,
          -14.62491512298584,
          9.103717803955078,
          23.741594314575195,
          5.732898235321045,
          -5.512228488922119,
          -5.802944183349609,
          -34.20999526977539,
          16.262990951538086,
          30.264650344848633,
          3.4721646308898926,
          -40.93291473388672,
          -33.04874038696289,
          31.57996368408203,
          -9.3670654296875,
          -6.865513324737549,
          20.39903450012207,
          2.5283517837524414,
          -14.207756042480469,
          19.21039581298828,
          -18.553421020507812,
          19.971548080444336,
          29.93852996826172,
          12.926032066345215,
          6.032918453216553,
          -11.860913276672363,
          -10.271547317504883,
          1.0642526149749756,
          -36.26137161254883,
          -14.637629508972168,
          5.360738277435303,
          -20.379013061523438,
          4.552173137664795,
          5.1235246658325195,
          -11.953434944152832,
          -6.592473983764648,
          31.463350296020508,
          -41.54213333129883,
          26.889009475708008,
          -12.102754592895508,
          -12.746047973632812,
          -13.510506629943848,
          25.651487350463867,
          26.64145851135254,
          12.877066612243652,
          17.77004623413086,
          12.033248901367188,
          15.962952613830566,
          -14.463297843933105,
          -7.857265472412109,
          -31.926706314086914,
          0.5801222324371338,
          24.710670471191406,
          -16.303667068481445,
          -3.801107406616211,
          44.464820861816406,
          32.29341125488281,
          0.5605194568634033,
          -6.738040447235107,
          -30.192371368408203,
          -29.670024871826172,
          11.655308723449707,
          -9.178265571594238,
          40.59554672241211,
          -12.547904968261719,
          -11.393425941467285,
          -10.08890151977539,
          -42.75395965576172,
          21.015417098999023,
          23.144563674926758,
          6.207772254943848,
          26.41183853149414,
          11.312699317932129,
          -0.6853874325752258,
          -36.24686813354492,
          21.148439407348633,
          -42.919044494628906,
          30.2227725982666,
          -16.149261474609375,
          -10.997998237609863,
          -14.870136260986328,
          18.895050048828125,
          -13.342998504638672,
          -32.935264587402344,
          24.838760375976562,
          -13.887499809265137,
          15.310603141784668,
          -30.566816329956055,
          -6.192915439605713,
          -0.5307137966156006,
          33.453392028808594,
          -24.245302200317383,
          16.022705078125,
          12.196178436279297,
          27.825149536132812,
          -4.4171037673950195,
          -12.586334228515625,
          -19.550277709960938,
          -1.4279547929763794,
          -28.49521255493164,
          -6.996539115905762,
          -41.31953048706055,
          -7.233829498291016,
          11.022331237792969,
          25.44023323059082,
          24.101913452148438,
          25.12709617614746,
          -33.823646545410156,
          21.325103759765625,
          -20.305200576782227,
          -14.74489974975586,
          -1.9672280550003052,
          -44.02352523803711,
          15.479094505310059,
          -15.767555236816406,
          -3.7763829231262207,
          5.660285949707031,
          -5.9031805992126465,
          35.62270736694336,
          4.576585292816162,
          -0.661491334438324,
          30.994409561157227,
          23.13741683959961,
          27.42980194091797,
          -9.550148963928223,
          15.511619567871094,
          14.842982292175293,
          -30.9786376953125,
          6.7356133460998535,
          -30.021957397460938,
          12.970809936523438,
          -14.807326316833496,
          -39.802886962890625,
          21.647350311279297,
          35.6909065246582,
          -11.736987113952637,
          -30.523284912109375,
          -23.733442306518555,
          37.41477584838867,
          7.74310827255249,
          -5.369307041168213,
          -4.757119655609131,
          24.316041946411133,
          -43.184120178222656,
          33.57017517089844,
          39.63138198852539,
          28.27741241455078,
          23.266786575317383,
          -10.103316307067871,
          13.659745216369629,
          15.653741836547852,
          11.435364723205566,
          3.547767162322998,
          -9.818032264709473,
          -28.917160034179688,
          -11.994255065917969,
          -39.218238830566406,
          30.365758895874023,
          9.320515632629395,
          -31.35246467590332,
          22.208786010742188,
          -32.78696823120117,
          3.4019219875335693,
          12.625743865966797,
          -33.9284553527832,
          25.5510311126709,
          1.8396133184432983,
          12.067890167236328,
          -8.401825904846191,
          -23.695512771606445,
          18.3667049407959,
          -5.408039093017578,
          -42.18714141845703,
          -47.407188415527344,
          11.127315521240234,
          -38.43394088745117,
          17.15138816833496,
          -28.39408302307129,
          11.735003471374512,
          -28.74213409423828,
          -32.8693733215332,
          41.78399658203125,
          -16.87723159790039,
          -5.724462985992432,
          19.918289184570312,
          -21.31170654296875,
          6.837676525115967,
          -36.115203857421875,
          11.931967735290527,
          -48.85124588012695,
          15.62213134765625,
          -29.542743682861328,
          -17.66469955444336,
          -47.84792709350586,
          -3.4829013347625732,
          3.400089740753174,
          18.46912956237793,
          -31.968685150146484,
          21.081541061401367,
          36.179134368896484,
          -18.404870986938477,
          48.161865234375,
          -9.799151420593262,
          23.861347198486328,
          -12.66064739227295,
          8.798279762268066,
          3.626349687576294,
          15.021292686462402,
          9.81155776977539,
          20.54363441467285,
          -24.334426879882812,
          8.106162071228027,
          24.761943817138672,
          -14.393362998962402,
          -22.103864669799805,
          -4.692896842956543,
          29.371492385864258,
          -4.5948805809021,
          -10.659040451049805,
          14.04350757598877,
          -39.01416015625,
          3.924888849258423,
          19.44700813293457,
          2.1969950199127197,
          20.349828720092773,
          -11.34621524810791,
          -7.7535200119018555,
          -6.116423606872559,
          -15.00760555267334,
          -13.663766860961914,
          28.124961853027344,
          -13.603110313415527,
          10.151040077209473,
          15.451948165893555,
          22.879764556884766,
          -21.533321380615234,
          -2.5027899742126465,
          -48.094871520996094,
          -18.783628463745117,
          16.692623138427734,
          5.949001789093018,
          -12.01660442352295,
          5.979729175567627,
          28.303104400634766,
          20.96756935119629,
          -5.743152141571045,
          28.04869270324707,
          43.516937255859375,
          39.73708724975586,
          30.175016403198242,
          -15.475900650024414,
          -2.4396562576293945,
          35.32971954345703,
          6.141143321990967,
          35.0911865234375,
          13.590973854064941,
          -36.5434455871582,
          24.337108612060547,
          40.3815803527832,
          -6.333691596984863,
          26.29735565185547,
          9.548062324523926,
          -21.895246505737305,
          5.852306842803955,
          18.694801330566406,
          -19.97941017150879,
          39.296390533447266,
          -27.412185668945312,
          3.665736198425293,
          -18.816978454589844,
          32.9252815246582,
          -35.47243881225586,
          8.257944107055664,
          8.757585525512695,
          34.695945739746094,
          -3.7988431453704834,
          5.337402820587158,
          -8.087892532348633,
          -36.473602294921875,
          -3.4982712268829346,
          2.416721820831299,
          -21.122817993164062,
          18.104223251342773,
          14.232207298278809,
          -22.5012149810791,
          18.328716278076172,
          35.98295974731445,
          -7.092682361602783,
          20.866430282592773,
          -9.783247947692871,
          -2.4566962718963623,
          -6.844472885131836,
          -15.834151268005371,
          -13.265547752380371,
          -8.405919075012207,
          23.173797607421875,
          -1.1960515975952148,
          -9.373942375183105,
          27.308164596557617,
          -8.147293090820312,
          -16.663177490234375,
          40.459442138671875,
          19.452322006225586,
          -19.451292037963867,
          1.686354637145996,
          -34.19389343261719,
          1.9326320886611938,
          -1.0332839488983154,
          -35.28110122680664,
          -14.595426559448242,
          18.418537139892578,
          -5.356595993041992,
          49.09891128540039,
          25.203718185424805,
          38.33833312988281,
          30.762502670288086,
          47.215476989746094,
          -17.682880401611328,
          3.1186211109161377,
          -16.553741455078125,
          18.377323150634766,
          33.20113754272461,
          19.525312423706055,
          24.077259063720703,
          -29.23607635498047,
          -1.4904146194458008,
          -3.267338991165161,
          7.731107711791992,
          -14.02785587310791,
          41.84154510498047,
          -26.698144912719727,
          -13.093066215515137,
          32.53804016113281,
          18.290632247924805,
          35.62708282470703,
          4.4019455909729,
          16.759111404418945,
          38.20796203613281,
          -11.59097957611084,
          -40.79087829589844,
          25.40253448486328,
          0.7227285504341125,
          24.53321075439453,
          30.601694107055664,
          34.183494567871094,
          -1.7712565660476685,
          1.4804904460906982,
          -48.66307067871094,
          -50.19399642944336,
          15.292978286743164,
          9.659193992614746,
          11.924129486083984,
          10.654918670654297,
          41.755950927734375,
          19.977392196655273,
          -15.637202262878418,
          -29.150115966796875,
          12.503732681274414,
          25.972972869873047,
          12.054402351379395,
          28.44410514831543,
          37.61542510986328,
          36.02351760864258,
          -1.5272876024246216,
          29.20878791809082,
          -3.2990009784698486,
          2.0857722759246826,
          14.321104049682617,
          9.857043266296387,
          28.15572166442871,
          -15.79419231414795,
          17.844209671020508,
          -24.409820556640625,
          28.511110305786133,
          -26.173768997192383,
          -25.34465789794922,
          0.6434340476989746,
          24.316749572753906,
          17.520662307739258,
          28.36252784729004,
          0.3792862892150879,
          14.31459903717041,
          11.434208869934082,
          27.81833267211914,
          39.218231201171875,
          40.907264709472656,
          27.171062469482422,
          12.04549789428711,
          17.621522903442383,
          -21.469314575195312,
          33.305641174316406,
          -31.85437774658203,
          -13.721932411193848,
          -16.666015625,
          -35.72299575805664,
          -15.297884941101074,
          -4.3936872482299805,
          -16.127500534057617,
          -27.35116195678711,
          -23.156801223754883,
          -4.892288684844971,
          36.88072967529297,
          -4.910621166229248,
          -51.27687072753906,
          -33.20014572143555,
          11.779820442199707,
          20.573373794555664,
          -5.568843841552734,
          40.19503402709961,
          25.881685256958008,
          8.67484188079834,
          -47.775611877441406,
          17.490093231201172,
          2.4739909172058105,
          12.452841758728027,
          -7.394327163696289,
          8.448324203491211,
          31.95844078063965,
          -10.045170783996582,
          31.180614471435547,
          2.39595365524292,
          -3.162414312362671,
          28.952407836914062,
          30.2957706451416,
          13.865009307861328,
          -2.1539762020111084,
          -50.86623764038086,
          28.590538024902344,
          19.230361938476562,
          -7.874168872833252,
          -11.648286819458008,
          -7.218081951141357,
          35.95072937011719,
          -14.007257461547852,
          29.720788955688477,
          11.667008399963379,
          43.11623001098633,
          7.620489597320557,
          -33.285667419433594,
          -1.9697074890136719,
          18.230224609375,
          37.314762115478516,
          32.519554138183594,
          -17.228160858154297,
          17.423662185668945,
          -6.647544860839844,
          4.620419979095459,
          31.12969970703125,
          28.55653953552246,
          -4.575265884399414,
          3.1563000679016113,
          -3.969522714614868,
          12.859552383422852,
          16.394433975219727,
          -8.148478507995605,
          1.1522302627563477,
          21.129140853881836,
          -27.622148513793945,
          24.8160343170166,
          8.40790843963623,
          -16.281164169311523,
          -11.287609100341797,
          15.722229957580566,
          28.005054473876953,
          -15.984014511108398,
          -18.375770568847656,
          -19.449806213378906,
          -17.597352981567383,
          10.191515922546387,
          16.156808853149414,
          -35.139747619628906,
          -3.776700496673584,
          32.024681091308594,
          0.46393465995788574,
          -10.186579704284668,
          10.398094177246094,
          4.668461799621582,
          -7.992214202880859,
          -8.533555030822754,
          32.41254425048828,
          -2.237342596054077,
          -8.749101638793945,
          16.384305953979492,
          39.553955078125,
          38.03500747680664,
          25.797380447387695,
          16.647857666015625,
          26.84773063659668,
          12.513326644897461,
          -6.399725437164307,
          -4.482607364654541,
          2.317091226577759,
          -39.907203674316406,
          30.984134674072266,
          -30.602027893066406,
          -34.038818359375,
          -2.83648419380188,
          15.556289672851562,
          8.268228530883789,
          5.003197193145752,
          19.061397552490234,
          36.09342956542969,
          20.857431411743164,
          17.865163803100586,
          1.5809239149093628,
          -28.17991065979004,
          -22.26072883605957,
          -22.56041717529297,
          20.171142578125,
          -0.7999213933944702,
          -15.228511810302734,
          7.273071765899658,
          -5.037237167358398,
          -28.467275619506836,
          -32.01303482055664,
          1.9199209213256836,
          27.371774673461914,
          -31.750402450561523,
          -26.698144912719727,
          -11.584461212158203,
          19.295391082763672,
          -0.3478718400001526,
          13.807472229003906,
          -16.54041862487793,
          23.554330825805664,
          -45.07673645019531,
          8.383319854736328,
          7.152698040008545,
          35.01476287841797,
          -24.890275955200195,
          -11.590300559997559,
          -24.290437698364258,
          17.646808624267578,
          4.122237682342529,
          18.534740447998047,
          -7.426400661468506,
          27.362180709838867,
          -18.561216354370117,
          37.90373611450195,
          29.075605392456055,
          36.35049057006836,
          -16.73255729675293,
          34.0520133972168,
          28.936254501342773,
          -32.47129821777344,
          -8.048850059509277,
          -31.58522605895996,
          27.024459838867188,
          -28.98354148864746,
          -5.028115272521973,
          2.8396084308624268,
          9.529204368591309,
          -5.329037666320801,
          -1.1742732524871826,
          33.001766204833984,
          31.551177978515625,
          -35.39215850830078,
          -45.094383239746094,
          -9.345085144042969,
          6.942692279815674,
          4.272383213043213,
          30.713260650634766,
          -35.78399658203125,
          -10.714119911193848,
          22.861682891845703,
          -9.508790016174316,
          40.10871887207031,
          18.048965454101562,
          26.728300094604492,
          28.263498306274414,
          35.52306365966797,
          45.072818756103516,
          20.87813949584961,
          19.80449676513672,
          24.67642593383789,
          -28.40610694885254,
          -16.555509567260742,
          10.723913192749023,
          -45.637847900390625,
          2.1048262119293213,
          -23.78407859802246,
          -21.750951766967773,
          6.224133491516113,
          -2.2455079555511475,
          -16.962697982788086,
          20.893280029296875,
          37.2523078918457,
          23.814424514770508,
          -27.792049407958984,
          -26.61598014831543,
          17.94504165649414,
          11.337091445922852,
          20.77024269104004,
          -31.76235580444336,
          -9.748233795166016,
          40.43378829956055,
          -47.40185546875,
          -23.320873260498047,
          42.08487319946289,
          26.353870391845703,
          -31.951507568359375,
          29.11463165283203,
          17.622541427612305,
          2.91569447517395,
          -40.90583038330078,
          -23.156038284301758,
          10.752347946166992,
          28.97105598449707,
          30.338224411010742,
          21.321044921875,
          -42.44424057006836,
          7.524339199066162,
          12.242536544799805,
          4.426285266876221,
          4.371700286865234,
          15.662734031677246,
          -18.714033126831055,
          2.611811876296997,
          -8.387704849243164,
          35.83028793334961,
          -14.21065616607666,
          40.209930419921875,
          -8.168248176574707,
          -23.029796600341797,
          22.781543731689453,
          -19.301420211791992,
          19.999950408935547,
          0.06090382859110832,
          18.986852645874023,
          -20.717397689819336,
          -27.71683692932129,
          26.77764320373535,
          6.657130718231201,
          23.884977340698242,
          39.46279525756836,
          30.902801513671875,
          -47.81074142456055,
          -12.620089530944824,
          15.248068809509277,
          -34.19970703125,
          36.31068801879883,
          -12.364667892456055,
          -14.628507614135742,
          36.798526763916016,
          18.58418846130371,
          -3.934727668762207,
          29.640779495239258,
          -10.119833946228027,
          15.505143165588379,
          4.461489200592041,
          35.247108459472656,
          5.76800012588501,
          2.4949095249176025,
          6.225011348724365,
          28.306644439697266,
          10.8381929397583,
          5.862070560455322,
          4.7993879318237305,
          -26.006868362426758,
          24.288904190063477,
          15.394574165344238,
          -5.762120723724365,
          5.2549896240234375,
          13.807127952575684,
          -17.506210327148438,
          8.670157432556152,
          -34.87689971923828,
          33.7758674621582,
          -37.945396423339844,
          20.65972328186035,
          43.674400329589844,
          28.218698501586914,
          -5.84276008605957,
          33.81953811645508,
          30.31895637512207,
          -32.09685134887695,
          -50.61997985839844,
          -45.30494689941406,
          -12.685563087463379,
          -2.044721841812134,
          4.881393909454346,
          17.13033103942871,
          6.915454387664795,
          -6.801546096801758,
          -38.20425796508789,
          16.824766159057617,
          43.75865936279297,
          -4.46041202545166,
          -52.63362121582031,
          5.462965488433838,
          -41.160064697265625,
          -25.313432693481445,
          -6.903108596801758,
          24.82220458984375,
          -16.230693817138672,
          -24.797710418701172,
          23.468441009521484,
          -5.3234710693359375,
          -29.04188346862793,
          31.426319122314453,
          14.101889610290527,
          23.672672271728516,
          -25.87166976928711,
          -23.350173950195312,
          -7.790533542633057,
          -10.386441230773926,
          -44.361732482910156,
          -28.498685836791992,
          -21.101659774780273,
          -35.28642654418945,
          -14.786578178405762,
          -50.2110710144043,
          -13.786813735961914,
          8.840067863464355,
          -28.01459503173828,
          0.9855805039405823,
          17.79572296142578,
          -14.902101516723633,
          40.94173049926758,
          -31.214881896972656,
          -0.7830884456634521,
          27.37692642211914,
          6.663503170013428,
          -14.230131149291992,
          -19.080955505371094,
          -6.18898344039917,
          -25.936752319335938,
          -2.8764655590057373,
          28.40031623840332,
          -17.751689910888672,
          4.880083084106445,
          6.879580974578857,
          -37.0350227355957,
          33.602115631103516,
          -2.8883674144744873,
          12.131498336791992,
          -15.19205093383789,
          -21.974647521972656,
          -0.35297203063964844,
          26.899301528930664,
          -17.819150924682617,
          13.6915922164917,
          30.94407844543457,
          47.26126480102539,
          -9.530170440673828,
          34.858341217041016,
          -7.044134616851807,
          23.345142364501953,
          -12.498822212219238,
          -3.160029649734497,
          24.98069953918457,
          30.144723892211914,
          21.641258239746094,
          25.34130859375,
          31.80258560180664,
          -25.609434127807617,
          -28.492189407348633,
          33.174320220947266,
          -6.135151386260986,
          13.371563911437988,
          34.88151931762695,
          44.39256286621094,
          -30.109527587890625,
          -26.90252113342285,
          -47.4374885559082,
          8.239843368530273,
          13.428565979003906,
          -0.46201571822166443,
          13.703360557556152,
          -3.0165255069732666,
          20.09271240234375,
          -1.890310287475586,
          -13.59451675415039,
          -8.375232696533203,
          3.3087961673736572,
          11.372138023376465,
          -36.54150390625,
          -15.347810745239258,
          -33.51805877685547,
          24.929664611816406,
          7.422767639160156,
          4.387675762176514,
          -18.546628952026367,
          -15.626569747924805,
          -32.2478141784668,
          18.065004348754883,
          -19.725706100463867,
          13.065797805786133,
          -51.84564971923828,
          -17.387588500976562,
          36.952022552490234,
          -7.386973857879639,
          6.741261959075928,
          -7.481493949890137,
          18.953580856323242,
          22.09638786315918,
          -12.74293041229248,
          -29.049114227294922,
          -36.2630729675293,
          4.53415584564209,
          -24.176759719848633,
          19.09545135498047,
          -23.353918075561523,
          -12.443434715270996,
          23.251176834106445,
          -34.24851608276367,
          25.822784423828125,
          -31.190753936767578,
          -4.38460111618042,
          -39.34487533569336,
          35.8770866394043,
          -10.796451568603516,
          -0.14544886350631714,
          17.1811466217041,
          -44.50788879394531,
          22.751285552978516,
          -9.530635833740234,
          15.84622573852539,
          14.470391273498535,
          -31.95619773864746,
          11.673746109008789,
          -12.953832626342773,
          8.584542274475098,
          -13.729244232177734,
          22.351530075073242,
          9.657658576965332,
          22.848478317260742,
          -44.67372512817383,
          33.26058578491211,
          7.702793121337891,
          -4.387598037719727,
          0.6706508994102478,
          21.773691177368164,
          21.244892120361328,
          -0.9173304438591003,
          16.627790451049805,
          37.270660400390625,
          8.061355590820312,
          6.002342224121094,
          23.15730094909668,
          29.574045181274414,
          23.841876983642578,
          -20.697538375854492,
          -2.1677937507629395,
          -33.63859176635742,
          3.346022367477417,
          14.47764778137207,
          11.991379737854004,
          -1.8637547492980957,
          -13.202333450317383,
          -38.53572082519531,
          -20.051904678344727,
          -33.978816986083984,
          -35.67814254760742,
          26.42238998413086,
          -15.042703628540039,
          36.297237396240234,
          -33.744300842285156,
          36.683895111083984,
          11.754597663879395,
          0.8119437098503113,
          17.743471145629883,
          10.229886054992676,
          1.1769099235534668,
          -3.386418342590332,
          39.86086654663086,
          -24.13078498840332,
          -43.29261016845703,
          -5.666279315948486,
          -49.95744323730469,
          -13.40023422241211,
          -28.73920440673828,
          -18.288293838500977,
          -1.5201622247695923,
          -36.294620513916016,
          -40.519901275634766,
          -1.7452243566513062,
          16.057415008544922,
          -39.219337463378906,
          8.98510456085205,
          18.769432067871094,
          0.40911638736724854,
          -15.85390853881836,
          -30.83193588256836,
          -9.54486083984375,
          16.721755981445312,
          -1.0252379179000854,
          9.869539260864258,
          -0.9224876761436462,
          -8.677923202514648,
          16.95455551147461,
          -28.729995727539062,
          1.4323347806930542,
          -30.208904266357422,
          34.49367904663086,
          17.1223087310791,
          7.247500896453857,
          15.745314598083496,
          1.9377278089523315,
          18.623157501220703,
          -27.721864700317383,
          40.101295471191406,
          -48.82795333862305,
          -6.536490440368652,
          -16.767471313476562,
          -41.190704345703125,
          -45.532470703125,
          -26.521717071533203,
          -10.238959312438965,
          3.5741987228393555,
          36.07499313354492,
          33.19552230834961,
          -25.321775436401367,
          42.08516311645508,
          -25.097408294677734,
          -7.465328693389893,
          -9.972396850585938,
          2.888313055038452,
          26.389022827148438,
          -3.9907984733581543,
          -14.548805236816406,
          -11.783323287963867,
          19.109867095947266,
          5.3054094314575195,
          42.358360290527344,
          5.135842800140381,
          -10.44754695892334,
          15.786876678466797,
          -0.945377767086029,
          -16.933565139770508,
          -11.055903434753418,
          46.391380310058594,
          2.804718255996704,
          -41.15911865234375,
          -37.77301025390625,
          -9.536227226257324,
          19.303306579589844,
          23.066627502441406,
          29.75905418395996,
          4.631599426269531,
          -5.947909832000732,
          34.51461410522461,
          9.695707321166992,
          16.455533981323242,
          28.233177185058594,
          -5.5465803146362305,
          -6.367508411407471,
          6.335643291473389,
          -14.768247604370117,
          -13.840686798095703,
          11.266655921936035,
          -30.95332908630371,
          1.9063814878463745,
          29.26641845703125,
          -30.362565994262695,
          15.290300369262695,
          33.89704895019531,
          -17.22844696044922,
          -27.82073402404785,
          -25.575618743896484,
          -14.255513191223145,
          21.121231079101562,
          -13.096302032470703,
          -11.983193397521973,
          -21.833505630493164,
          -1.910341739654541,
          29.87651252746582,
          23.702136993408203,
          35.21156311035156,
          -5.43360710144043,
          -9.481383323669434,
          -17.589685440063477,
          -19.93487548828125,
          41.703861236572266,
          0.8520970940589905,
          10.8074369430542,
          -19.394601821899414,
          -15.89687728881836,
          3.577639102935791,
          -7.183252811431885,
          7.473393440246582,
          11.054879188537598,
          -4.957886219024658,
          46.92429733276367,
          -0.06428001821041107,
          13.168672561645508,
          19.473981857299805,
          -0.441338449716568,
          0.45484933257102966,
          3.1148407459259033,
          -42.80559539794922,
          27.436702728271484,
          -35.71143341064453,
          21.607818603515625,
          -1.101597547531128,
          -5.321252822875977,
          -5.1098504066467285,
          3.130527973175049,
          -16.284212112426758,
          -18.713212966918945,
          3.0237300395965576,
          -4.881511688232422,
          -21.446977615356445,
          -17.154905319213867,
          2.840363025665283,
          18.85529899597168,
          13.410845756530762,
          -25.446487426757812,
          10.401397705078125,
          -37.89274215698242,
          -10.462549209594727,
          -5.797660827636719,
          31.758623123168945,
          -16.34915542602539,
          22.27622413635254,
          7.693655967712402,
          9.352936744689941,
          -8.02334976196289,
          46.52485656738281,
          3.5809144973754883,
          31.73579978942871,
          10.577430725097656,
          36.14963150024414,
          29.22250747680664,
          -28.123579025268555,
          -33.941070556640625,
          7.940309047698975,
          -27.965669631958008,
          34.49320983886719,
          18.418588638305664,
          -36.686370849609375,
          -21.84123420715332,
          -13.773598670959473,
          17.251365661621094,
          40.647918701171875,
          39.03649139404297,
          -27.2053279876709,
          -15.830405235290527,
          9.982378005981445,
          5.513558387756348,
          13.604795455932617,
          2.929724931716919,
          -7.319177627563477,
          44.97766876220703,
          -16.66451644897461,
          6.037013530731201,
          11.241650581359863,
          2.2083818912506104,
          -35.2330207824707,
          43.79391860961914,
          0.17559410631656647,
          -7.099688529968262,
          7.8923516273498535,
          17.675195693969727,
          -9.232237815856934,
          -2.3783586025238037,
          -2.96500825881958,
          -24.235881805419922,
          16.839336395263672,
          14.376896858215332,
          -5.5032525062561035,
          9.212569236755371,
          -17.620281219482422,
          -3.0275230407714844,
          -26.99331283569336,
          46.261077880859375,
          -8.692112922668457,
          25.906469345092773,
          9.80616283416748,
          -9.464990615844727,
          9.177128791809082,
          10.744621276855469,
          10.536893844604492,
          -19.79007911682129,
          -16.06264305114746,
          -36.3545036315918,
          -6.355632305145264,
          -30.13740348815918,
          0.8085353970527649,
          -5.0438923835754395,
          32.756343841552734,
          34.0589485168457,
          -30.557580947875977,
          17.281282424926758,
          19.756078720092773,
          -16.95961570739746,
          14.347230911254883,
          -9.884961128234863,
          46.328609466552734,
          -33.229774475097656,
          -1.8322066068649292,
          -36.937164306640625,
          4.2235283851623535,
          10.829322814941406,
          22.82599449157715,
          37.11373519897461,
          -19.77155876159668,
          27.49785614013672,
          29.584367752075195,
          48.176513671875,
          -41.88967514038086,
          8.854223251342773,
          11.074654579162598,
          -20.787555694580078,
          14.04217529296875,
          22.6419677734375,
          -2.9437384605407715,
          -2.498079299926758,
          -28.674558639526367,
          -40.277462005615234,
          40.78908157348633,
          17.681852340698242,
          -0.09148943424224854,
          -9.85161018371582,
          25.55055809020996,
          1.4166853427886963,
          -34.66619110107422,
          -13.810079574584961,
          -19.971866607666016,
          -13.925108909606934,
          -7.807871341705322,
          32.3256721496582,
          -44.43487548828125,
          20.611425399780273,
          -10.973868370056152,
          -14.853163719177246,
          -3.252753973007202,
          -18.3726806640625,
          -37.2565803527832,
          -1.2528576850891113,
          -34.04319763183594,
          41.705623626708984,
          43.37986755371094,
          37.74604415893555,
          27.26506233215332,
          -29.564529418945312,
          -10.244975090026855,
          -44.28324508666992,
          10.409015655517578,
          -26.4213924407959,
          20.066743850708008,
          2.4765379428863525,
          22.49443244934082,
          -0.5977212190628052,
          26.098047256469727,
          -36.67267990112305,
          1.5667790174484253,
          -12.637271881103516,
          -12.764246940612793,
          40.0836296081543,
          37.50165557861328,
          -39.281558990478516,
          23.257383346557617,
          -25.368824005126953,
          -36.67641830444336,
          8.241228103637695,
          -31.923717498779297,
          -30.385404586791992,
          13.12386703491211,
          15.223435401916504,
          -13.212137222290039,
          -10.571943283081055,
          -24.47942543029785,
          -8.01008415222168,
          44.82770538330078,
          -20.132736206054688,
          4.087667942047119,
          14.12876033782959,
          -1.606096863746643,
          40.18854904174805,
          0.683758020401001,
          -12.533055305480957,
          47.83426284790039,
          -31.360454559326172,
          20.938705444335938,
          43.2786865234375,
          5.953304767608643,
          45.63468551635742,
          18.489444732666016,
          33.47488021850586,
          -52.48210525512695,
          27.565353393554688,
          3.376924753189087,
          43.375816345214844,
          38.259098052978516,
          33.67039489746094,
          10.098677635192871,
          5.343697547912598,
          -37.66548538208008,
          -7.026375770568848,
          -20.785432815551758,
          -46.66931915283203,
          5.001851558685303,
          -3.220562219619751,
          -29.75629234313965,
          -4.994285583496094,
          -7.692451477050781,
          19.254756927490234,
          -31.025070190429688,
          35.87213897705078,
          15.963132858276367,
          11.63204288482666,
          -27.137876510620117,
          14.781540870666504,
          32.0289192199707,
          42.790130615234375,
          28.79063606262207,
          -16.002195358276367,
          6.801900386810303,
          9.207745552062988,
          0.5496227741241455,
          -37.820919036865234,
          -42.774497985839844,
          -19.909807205200195,
          -40.908424377441406,
          -21.996360778808594,
          29.271116256713867,
          35.57025146484375,
          -8.918992042541504,
          -35.424461364746094,
          9.562095642089844,
          43.60007858276367,
          25.179929733276367,
          40.171329498291016,
          9.393941879272461,
          -12.440433502197266,
          -19.735797882080078,
          9.986008644104004,
          35.02751159667969,
          12.290661811828613,
          14.123456001281738,
          -37.45163345336914,
          3.0049240589141846,
          -1.7118366956710815,
          37.835655212402344,
          19.9124755859375,
          -20.66461944580078,
          -0.6618393659591675,
          5.094521522521973,
          -2.143195152282715,
          26.71567726135254,
          -3.6782963275909424,
          16.902456283569336,
          -40.64781951904297,
          -34.76337432861328,
          -33.81093978881836,
          -1.4514528512954712,
          -46.65003204345703,
          -5.4801836013793945,
          24.106565475463867,
          26.062450408935547,
          -25.68333625793457,
          1.3715218305587769,
          34.235252380371094,
          2.401648759841919,
          -6.5038533210754395,
          27.29715347290039,
          14.733624458312988,
          33.712921142578125,
          13.336040496826172,
          -38.84838104248047,
          6.697413921356201,
          20.429092407226562,
          16.29942512512207,
          14.49695110321045,
          -18.45183563232422,
          1.2094261646270752,
          -33.034854888916016,
          12.931791305541992,
          30.002365112304688,
          -3.203108310699463,
          21.618640899658203,
          3.0316195487976074,
          1.5096489191055298,
          -12.766830444335938,
          42.49089431762695,
          10.662614822387695,
          -17.58478355407715,
          11.645511627197266,
          24.40852928161621,
          -25.496784210205078,
          20.908893585205078,
          -41.36155319213867,
          17.28203010559082,
          -13.440033912658691,
          -19.509239196777344,
          30.774484634399414,
          22.412939071655273,
          -24.42842674255371,
          13.864683151245117,
          -47.304542541503906,
          18.883569717407227,
          13.364252090454102,
          36.309146881103516,
          -17.972036361694336,
          19.769527435302734,
          -13.812562942504883,
          -9.608665466308594,
          -17.273204803466797,
          34.12143325805664,
          -32.499168395996094,
          32.309688568115234,
          15.72524642944336,
          -30.41314125061035,
          -17.6419677734375,
          12.66349983215332,
          -4.565138816833496,
          11.74953842163086,
          -1.5655680894851685,
          -22.135961532592773,
          44.46124267578125,
          -5.555446624755859,
          -4.6680707931518555,
          -20.010595321655273,
          9.407014846801758,
          -0.7569038271903992,
          -15.363181114196777,
          26.62859344482422,
          33.42229461669922,
          8.867355346679688,
          34.37845993041992,
          31.3129825592041,
          21.038211822509766,
          -10.381312370300293,
          29.547258377075195,
          -2.765486240386963,
          38.57332992553711,
          -29.238903045654297,
          24.3498592376709,
          -14.922567367553711,
          -17.606578826904297,
          10.317490577697754,
          -11.216499328613281,
          13.695913314819336,
          34.64105224609375,
          -13.357597351074219,
          26.238643646240234,
          30.887149810791016,
          -15.492025375366211,
          -7.422501087188721,
          -2.870027542114258,
          -7.3894476890563965,
          -8.054630279541016,
          -44.98456573486328,
          4.351804733276367,
          13.76067066192627,
          -6.929008483886719,
          -24.199068069458008,
          -13.129598617553711,
          1.4292197227478027,
          41.082000732421875,
          -10.125960350036621,
          2.5466699600219727,
          47.72475051879883,
          -0.36481231451034546,
          -42.26268768310547,
          22.4970645904541,
          31.676790237426758,
          22.216997146606445,
          47.27584457397461,
          -15.914573669433594,
          32.93830108642578,
          -4.233757495880127,
          -32.75491714477539,
          -2.2871620655059814,
          31.248977661132812,
          11.320523262023926,
          2.8550221920013428,
          22.080015182495117,
          -17.332059860229492,
          -11.435007095336914,
          9.001582145690918,
          44.071903228759766,
          16.964611053466797,
          36.96638870239258,
          -27.918718338012695,
          35.497562408447266,
          17.793500900268555,
          24.19361114501953,
          39.5580940246582,
          -24.578210830688477,
          9.169246673583984,
          35.38712692260742,
          -36.563297271728516,
          -2.37583589553833,
          7.617371082305908,
          -22.862272262573242,
          22.7039737701416,
          0.3112509548664093,
          2.9862418174743652,
          -10.77478313446045,
          16.979175567626953,
          7.30264949798584,
          31.45258331298828,
          38.82022476196289,
          -28.508853912353516,
          -18.4088077545166,
          7.660895824432373,
          -28.452842712402344,
          -37.2964973449707,
          3.617950201034546,
          -3.8891351222991943,
          22.18486785888672,
          -17.025920867919922,
          -0.8186885118484497,
          42.403018951416016,
          42.6319580078125,
          25.938182830810547,
          22.788589477539062,
          7.701816558837891,
          -32.203311920166016,
          -41.01205062866211,
          9.727862358093262,
          -13.26247501373291,
          -11.246044158935547,
          30.098142623901367,
          -16.412397384643555,
          4.200342655181885,
          -22.59109115600586,
          -36.0974235534668,
          21.710662841796875,
          -39.030426025390625,
          9.260782241821289,
          3.5408058166503906,
          28.066072463989258,
          33.62169647216797,
          12.730640411376953,
          16.052942276000977,
          -11.337630271911621,
          20.085012435913086,
          14.429952621459961,
          4.936847686767578,
          35.19697952270508,
          -28.688737869262695,
          10.85575008392334,
          47.87672424316406,
          -5.507970809936523,
          -49.743587493896484,
          -13.92809009552002,
          36.1308479309082,
          -50.931365966796875,
          39.66435241699219,
          24.2135066986084,
          -12.041932106018066,
          -22.6821346282959,
          16.854185104370117,
          3.283871650695801,
          28.863985061645508,
          8.865989685058594,
          13.325715065002441,
          -20.82000160217285,
          -4.639833450317383,
          24.588380813598633,
          -22.00221824645996,
          22.26462745666504,
          24.581432342529297,
          17.83390235900879,
          26.088844299316406,
          33.494659423828125,
          4.274375915527344,
          -18.961639404296875,
          16.51873779296875,
          25.52642250061035,
          12.231271743774414,
          40.916900634765625,
          10.042013168334961,
          -25.949403762817383,
          -17.36949920654297,
          27.642087936401367,
          27.015405654907227,
          3.800086736679077,
          25.32049560546875,
          -13.269159317016602,
          15.998802185058594,
          14.603353500366211,
          -11.144853591918945,
          -31.492530822753906,
          -9.492037773132324,
          2.071211814880371,
          6.752717018127441,
          13.317877769470215,
          -25.896249771118164,
          -19.682796478271484,
          -30.645973205566406,
          -7.737918376922607,
          38.61506271362305,
          -13.856955528259277,
          -12.80023193359375,
          30.12533950805664,
          2.355872631072998,
          -45.17242431640625,
          35.26606369018555
         ],
         "xaxis": "x",
         "y": [
          50.178470611572266,
          -48.69944381713867,
          11.364086151123047,
          -14.942402839660645,
          33.803192138671875,
          41.79758834838867,
          16.61201286315918,
          -0.38923799991607666,
          6.059262275695801,
          -0.5206493139266968,
          -28.022418975830078,
          -58.93830490112305,
          16.51556968688965,
          -53.03815841674805,
          8.493170738220215,
          -20.821313858032227,
          37.046730041503906,
          37.32010269165039,
          -25.660375595092773,
          -6.394737720489502,
          24.564815521240234,
          44.43262481689453,
          -3.6921486854553223,
          15.739723205566406,
          -11.942496299743652,
          30.618305206298828,
          29.196447372436523,
          -6.585559844970703,
          -7.773940086364746,
          -8.348015785217285,
          6.777455806732178,
          46.18083190917969,
          20.054351806640625,
          -57.9287109375,
          43.46923828125,
          32.3857307434082,
          42.9920768737793,
          -55.77481460571289,
          14.552298545837402,
          13.989688873291016,
          24.265716552734375,
          -11.749977111816406,
          -46.88359451293945,
          -32.297813415527344,
          -2.5904085636138916,
          50.68920135498047,
          -20.15980339050293,
          46.29249572753906,
          23.851518630981445,
          -37.33906173706055,
          -13.501688003540039,
          31.5502872467041,
          19.627052307128906,
          -7.425540924072266,
          12.093180656433105,
          33.60765075683594,
          0.31725022196769714,
          -2.775785207748413,
          29.468120574951172,
          49.78165817260742,
          10.306558609008789,
          4.7093071937561035,
          1.8674103021621704,
          -34.36315155029297,
          -23.750564575195312,
          -5.72568416595459,
          -56.723045349121094,
          43.15092849731445,
          9.397743225097656,
          -30.567386627197266,
          -43.43328857421875,
          25.347789764404297,
          29.37958526611328,
          38.81609344482422,
          -17.18479347229004,
          -17.491031646728516,
          56.028873443603516,
          17.024944305419922,
          33.78330612182617,
          -53.2109260559082,
          15.51374340057373,
          -19.39503288269043,
          15.075075149536133,
          -14.739190101623535,
          6.2837066650390625,
          3.9628405570983887,
          53.244850158691406,
          12.63075065612793,
          56.71085739135742,
          48.244728088378906,
          -58.38984680175781,
          11.897990226745605,
          -22.14032554626465,
          -16.01453399658203,
          33.26020431518555,
          -7.6875081062316895,
          19.47238540649414,
          24.581859588623047,
          -19.2432804107666,
          -10.187101364135742,
          35.50076675415039,
          22.03192710876465,
          -38.04151916503906,
          -16.424102783203125,
          31.635906219482422,
          14.103743553161621,
          -38.27970886230469,
          -10.720466613769531,
          3.740186929702759,
          6.154809474945068,
          33.35918426513672,
          -47.475189208984375,
          -7.107724666595459,
          -0.9599988460540771,
          -3.3633933067321777,
          44.314048767089844,
          5.2035088539123535,
          -30.38292694091797,
          -45.236759185791016,
          -40.99818420410156,
          0.3069993257522583,
          18.863018035888672,
          -47.157012939453125,
          -12.094038009643555,
          50.072349548339844,
          -1.7504335641860962,
          -22.583677291870117,
          -6.807162284851074,
          -40.646087646484375,
          -7.140410900115967,
          -3.944775342941284,
          49.26173782348633,
          2.654496192932129,
          21.499744415283203,
          42.80841827392578,
          -4.9348273277282715,
          -29.74993896484375,
          23.643775939941406,
          -32.488468170166016,
          -29.499662399291992,
          -9.397006034851074,
          33.53771209716797,
          6.745046138763428,
          -39.536468505859375,
          -22.2022647857666,
          10.364779472351074,
          3.6519954204559326,
          -1.5647144317626953,
          29.61557388305664,
          27.9676513671875,
          -55.97040939331055,
          -33.99211502075195,
          29.062103271484375,
          -32.97780990600586,
          14.732013702392578,
          -15.67628002166748,
          -13.349913597106934,
          -34.27900314331055,
          -6.052380561828613,
          -28.40657615661621,
          -1.9083247184753418,
          -13.095429420471191,
          26.635173797607422,
          -17.25673484802246,
          13.086779594421387,
          -57.76323318481445,
          46.331424713134766,
          -6.84637451171875,
          9.583518028259277,
          -35.678916931152344,
          -24.858217239379883,
          -36.84619140625,
          32.20814895629883,
          -44.848976135253906,
          -8.290721893310547,
          18.085491180419922,
          -59.68342208862305,
          6.538693904876709,
          4.89737606048584,
          35.89345169067383,
          -28.680498123168945,
          32.31449890136719,
          25.09113311767578,
          12.461420059204102,
          3.9751603603363037,
          19.853538513183594,
          -6.7870192527771,
          -57.94474792480469,
          -17.646053314208984,
          -19.932697296142578,
          -24.48476791381836,
          29.48338508605957,
          9.189558982849121,
          20.988353729248047,
          54.060142517089844,
          -51.24528884887695,
          -6.019113540649414,
          33.555274963378906,
          -56.4029426574707,
          41.48469924926758,
          -14.220772743225098,
          -1.9170432090759277,
          2.254103422164917,
          42.097389221191406,
          -24.3146915435791,
          29.96049690246582,
          33.70307540893555,
          48.18598937988281,
          -44.00288009643555,
          -28.456241607666016,
          11.575082778930664,
          35.57948684692383,
          32.9325065612793,
          57.11268615722656,
          -8.056602478027344,
          -45.102622985839844,
          -26.40947723388672,
          -25.66636085510254,
          9.514397621154785,
          23.603727340698242,
          24.15629005432129,
          39.183719635009766,
          28.651241302490234,
          -45.607845306396484,
          -19.999908447265625,
          53.0621223449707,
          -10.296061515808105,
          17.38057518005371,
          20.469890594482422,
          -43.41117858886719,
          -39.48521041870117,
          -23.111061096191406,
          6.7827911376953125,
          10.720000267028809,
          -5.452517032623291,
          -3.4690816402435303,
          1.3931833505630493,
          -10.662314414978027,
          1.2505478858947754,
          -40.336734771728516,
          62.539913177490234,
          -59.69403076171875,
          -61.39214324951172,
          -8.557136535644531,
          -20.222183227539062,
          32.759483337402344,
          10.536914825439453,
          24.801849365234375,
          -36.8875732421875,
          -16.912757873535156,
          -46.86884307861328,
          -8.12222957611084,
          -11.106731414794922,
          8.040627479553223,
          22.193561553955078,
          -52.02195358276367,
          -52.41218948364258,
          17.01983070373535,
          -33.34521484375,
          12.821893692016602,
          5.6569366455078125,
          -15.515469551086426,
          12.853700637817383,
          11.560609817504883,
          17.519664764404297,
          -15.979604721069336,
          -59.39579391479492,
          23.021860122680664,
          -26.473310470581055,
          6.002181529998779,
          -12.953582763671875,
          -32.74631118774414,
          38.60817337036133,
          10.367793083190918,
          15.067014694213867,
          -22.471988677978516,
          -48.799346923828125,
          -59.144256591796875,
          -12.553255081176758,
          -9.95138168334961,
          -19.579465866088867,
          -17.705364227294922,
          1.029103398323059,
          -54.4631462097168,
          -12.91093635559082,
          -28.59930992126465,
          20.822147369384766,
          -39.24321746826172,
          36.187408447265625,
          19.142122268676758,
          -58.83574295043945,
          -44.87203598022461,
          -48.79368591308594,
          17.213336944580078,
          7.671520233154297,
          56.650081634521484,
          24.18617820739746,
          24.234861373901367,
          -56.16722869873047,
          -32.19904327392578,
          0.46629467606544495,
          -20.60508918762207,
          39.4019660949707,
          -15.048651695251465,
          27.742280960083008,
          29.815032958984375,
          -59.164527893066406,
          -11.929286003112793,
          -31.702547073364258,
          -51.76968765258789,
          45.740234375,
          54.89176940917969,
          5.559122562408447,
          42.4087028503418,
          14.750722885131836,
          -10.16173267364502,
          12.668879508972168,
          33.10914993286133,
          -8.108043670654297,
          45.14324188232422,
          -1.0280177593231201,
          22.434885025024414,
          -31.215877532958984,
          34.5656852722168,
          40.24712371826172,
          42.51951599121094,
          45.94965362548828,
          22.79479217529297,
          -32.67641830444336,
          53.451942443847656,
          -15.88116455078125,
          2.134539842605591,
          35.84239959716797,
          -35.116737365722656,
          -8.354436874389648,
          -44.905826568603516,
          29.985321044921875,
          49.784568786621094,
          -42.44144058227539,
          -4.73952054977417,
          50.573402404785156,
          29.570178985595703,
          -50.122501373291016,
          46.089820861816406,
          -53.42240905761719,
          -11.928656578063965,
          -57.775421142578125,
          52.46376419067383,
          13.983230590820312,
          24.39828872680664,
          14.22382640838623,
          11.874692916870117,
          1.027292251586914,
          -47.72574234008789,
          58.044593811035156,
          1.0062724351882935,
          -44.89423370361328,
          -33.49298095703125,
          30.838436126708984,
          -0.38202348351478577,
          2.769252300262451,
          4.837340354919434,
          16.347576141357422,
          -20.80350685119629,
          34.591800689697266,
          -32.75968933105469,
          11.380983352661133,
          18.398754119873047,
          57.672119140625,
          -28.134387969970703,
          33.245948791503906,
          40.99785614013672,
          16.516189575195312,
          -47.971580505371094,
          -43.73234558105469,
          -17.231971740722656,
          17.055339813232422,
          26.10151481628418,
          29.66669273376465,
          -19.95720863342285,
          -0.6956131458282471,
          36.987510681152344,
          22.27046012878418,
          37.813594818115234,
          50.045494079589844,
          5.428872585296631,
          -21.67768096923828,
          -9.104190826416016,
          20.09722137451172,
          13.7142915725708,
          -19.58852195739746,
          -51.62603759765625,
          11.25334644317627,
          -30.538291931152344,
          41.317501068115234,
          9.7266845703125,
          28.67822265625,
          -18.731098175048828,
          1.8653541803359985,
          36.655757904052734,
          -31.914560317993164,
          14.83055305480957,
          -25.298776626586914,
          -21.483177185058594,
          -5.254239082336426,
          2.946272373199463,
          38.356483459472656,
          0.970643162727356,
          0.632651150226593,
          6.261143207550049,
          57.007293701171875,
          -13.831436157226562,
          6.412275314331055,
          44.39067077636719,
          -9.88965129852295,
          27.57763671875,
          -4.579689025878906,
          -26.038366317749023,
          31.96572494506836,
          48.40534210205078,
          -12.59426212310791,
          57.6193733215332,
          -18.197446823120117,
          -18.326818466186523,
          -13.36548900604248,
          8.755415916442871,
          -24.68313217163086,
          0.37139931321144104,
          1.1499961614608765,
          -26.089345932006836,
          -44.126258850097656,
          24.533536911010742,
          -7.18672513961792,
          -15.142413139343262,
          -28.527223587036133,
          -27.03832244873047,
          6.569262981414795,
          -43.12306594848633,
          28.55942153930664,
          -14.78429889678955,
          21.83954620361328,
          26.682231903076172,
          -43.653995513916016,
          -3.892711639404297,
          -33.29648208618164,
          -15.893498420715332,
          30.581077575683594,
          -52.09189987182617,
          -34.9552116394043,
          -36.52419662475586,
          -60.43233108520508,
          -2.1888632774353027,
          -30.90742301940918,
          2.7529332637786865,
          -8.306790351867676,
          32.71738052368164,
          6.05718469619751,
          -21.53233528137207,
          5.894937515258789,
          -30.863649368286133,
          47.38082504272461,
          15.674216270446777,
          5.026249408721924,
          -28.9747371673584,
          22.293975830078125,
          5.726571083068848,
          -1.9813206195831299,
          -24.88063621520996,
          -30.1989803314209,
          42.518672943115234,
          -52.28520584106445,
          -34.7674674987793,
          47.53065490722656,
          30.85983657836914,
          16.646230697631836,
          -36.23744201660156,
          -30.58496856689453,
          -21.928884506225586,
          6.502418518066406,
          12.60237979888916,
          -11.19361686706543,
          29.009050369262695,
          13.562962532043457,
          8.97388744354248,
          -41.984371185302734,
          7.886870861053467,
          31.161928176879883,
          18.449642181396484,
          -27.444793701171875,
          43.28520584106445,
          -12.579582214355469,
          -39.60969161987305,
          -40.85908126831055,
          38.1065673828125,
          -12.482987403869629,
          -9.696476936340332,
          29.993867874145508,
          -56.5892333984375,
          3.726201057434082,
          54.8129768371582,
          3.5457160472869873,
          -22.429031372070312,
          -25.966968536376953,
          -41.527854919433594,
          30.620344161987305,
          12.241581916809082,
          -38.210655212402344,
          -19.838289260864258,
          -25.698434829711914,
          -2.746811628341675,
          7.829030990600586,
          38.656036376953125,
          34.75251770019531,
          -59.22910690307617,
          23.215669631958008,
          -34.474308013916016,
          -37.60865020751953,
          16.15418243408203,
          32.6595344543457,
          -13.83538818359375,
          -26.044864654541016,
          -16.67374038696289,
          40.15018844604492,
          51.16822814941406,
          55.09437561035156,
          23.399394989013672,
          45.91621398925781,
          9.854145050048828,
          28.916826248168945,
          -40.07952117919922,
          52.49960708618164,
          -18.63857650756836,
          -14.246294975280762,
          15.441263198852539,
          14.262706756591797,
          -30.48750877380371,
          -48.04545211791992,
          34.398170471191406,
          -46.88680648803711,
          -60.10478210449219,
          -17.200698852539062,
          32.71833038330078,
          -21.353782653808594,
          -11.48633861541748,
          37.0711784362793,
          -40.95500564575195,
          -55.82147979736328,
          -51.73689270019531,
          -40.8569221496582,
          -6.634312152862549,
          5.646703243255615,
          -12.72581958770752,
          -20.206315994262695,
          -41.4963493347168,
          24.521196365356445,
          54.50477981567383,
          39.93889236450195,
          47.89595031738281,
          -2.6950130462646484,
          -11.812699317932129,
          56.95402145385742,
          -16.033615112304688,
          4.091208457946777,
          44.91093063354492,
          24.081480026245117,
          27.69144630432129,
          -50.61882400512695,
          25.833492279052734,
          19.134973526000977,
          20.542739868164062,
          15.559911727905273,
          55.375614166259766,
          47.200618743896484,
          -13.789813041687012,
          30.53495979309082,
          39.66731643676758,
          26.77435302734375,
          -23.17875862121582,
          9.330981254577637,
          7.908491134643555,
          -4.1751227378845215,
          15.330286026000977,
          43.63186264038086,
          -41.040462493896484,
          -52.19055938720703,
          39.58246612548828,
          -4.622951984405518,
          -41.329593658447266,
          17.014419555664062,
          3.0216894149780273,
          33.84518814086914,
          -24.104267120361328,
          32.26890182495117,
          24.886024475097656,
          31.77859878540039,
          34.65285110473633,
          21.22077751159668,
          8.09085750579834,
          -17.034658432006836,
          48.383609771728516,
          -11.667038917541504,
          -2.8879122734069824,
          32.89547348022461,
          8.5485200881958,
          -0.0032069410663098097,
          38.30833053588867,
          13.541495323181152,
          42.202816009521484,
          11.79277515411377,
          53.76985549926758,
          -50.204307556152344,
          -27.44719696044922,
          12.482426643371582,
          17.328144073486328,
          26.247676849365234,
          -19.736223220825195,
          5.695924282073975,
          7.77150297164917,
          -0.30830979347229004,
          -10.421568870544434,
          52.50229263305664,
          -51.37039566040039,
          -5.408580303192139,
          -23.392902374267578,
          32.133460998535156,
          -50.60318374633789,
          17.828271865844727,
          7.135634422302246,
          -22.707216262817383,
          -23.476762771606445,
          53.7949333190918,
          -21.645360946655273,
          18.58921241760254,
          18.916336059570312,
          2.3654322624206543,
          -18.555904388427734,
          35.53489303588867,
          28.413183212280273,
          -41.154178619384766,
          -9.713183403015137,
          -11.406057357788086,
          30.161911010742188,
          -36.884521484375,
          36.52342224121094,
          -3.4182353019714355,
          30.46156883239746,
          35.32664489746094,
          -38.63508605957031,
          -51.38906478881836,
          6.173926830291748,
          15.720226287841797,
          22.52631187438965,
          33.66411209106445,
          -6.516520023345947,
          -11.449986457824707,
          -12.434915542602539,
          -22.22823715209961,
          22.86102294921875,
          -42.826873779296875,
          -35.05292892456055,
          4.127849102020264,
          -51.43449783325195,
          -52.337886810302734,
          -23.29875373840332,
          43.10702133178711,
          12.69301986694336,
          42.34014129638672,
          -6.943127632141113,
          39.028194427490234,
          -37.03411102294922,
          -34.483604431152344,
          6.35219669342041,
          -26.18853759765625,
          34.23546600341797,
          -16.018692016601562,
          1.9828490018844604,
          -5.215896129608154,
          -46.69117736816406,
          16.411678314208984,
          25.18968391418457,
          42.99875259399414,
          -40.47297286987305,
          9.764140129089355,
          -10.444012641906738,
          -7.8489179611206055,
          -0.1331547200679779,
          10.713081359863281,
          -27.47881317138672,
          13.735751152038574,
          -10.147729873657227,
          49.342350006103516,
          -26.502574920654297,
          31.978246688842773,
          29.339130401611328,
          -13.995546340942383,
          36.49949264526367,
          26.301162719726562,
          -57.34900665283203,
          -17.123746871948242,
          -11.721063613891602,
          39.37262725830078,
          -8.001672744750977,
          43.02617645263672,
          22.707311630249023,
          48.40534210205078,
          -23.72032928466797,
          41.17587661743164,
          0.889981210231781,
          -33.67626190185547,
          6.65823221206665,
          10.159634590148926,
          -23.701114654541016,
          -54.15535354614258,
          -58.154075622558594,
          8.938819885253906,
          3.796548366546631,
          34.38075256347656,
          5.383214473724365,
          29.305068969726562,
          -44.32768630981445,
          38.36322021484375,
          -57.407562255859375,
          46.824275970458984,
          -25.929790496826172,
          34.71474075317383,
          -45.00386428833008,
          -42.36302947998047,
          6.840073585510254,
          -54.55830001831055,
          -46.284000396728516,
          27.748167037963867,
          34.85589599609375,
          -13.561192512512207,
          0.6044273972511292,
          -60.058311462402344,
          -0.2810741364955902,
          -52.735801696777344,
          11.443765640258789,
          25.33868980407715,
          -2.0674164295196533,
          -9.016606330871582,
          -34.3856086730957,
          62.29218292236328,
          19.657461166381836,
          -42.81524658203125,
          29.04573631286621,
          7.161529541015625,
          -39.45508575439453,
          24.47222328186035,
          26.59048080444336,
          10.03464126586914,
          -18.682899475097656,
          44.15541076660156,
          28.484575271606445,
          -33.937625885009766,
          -12.160772323608398,
          -38.792720794677734,
          44.20989990234375,
          20.403242111206055,
          1.2987794876098633,
          -7.9443254470825195,
          -7.559092998504639,
          18.979900360107422,
          -4.105865955352783,
          0.6953949928283691,
          48.292266845703125,
          48.0734977722168,
          15.520185470581055,
          29.078100204467773,
          -34.56031036376953,
          12.250892639160156,
          23.575435638427734,
          37.512638092041016,
          -8.628005981445312,
          15.927596092224121,
          13.388179779052734,
          15.543329238891602,
          -46.00318908691406,
          -7.201774597167969,
          -30.63713836669922,
          13.02551555633545,
          40.36232376098633,
          -8.240696907043457,
          20.08014488220215,
          5.325314044952393,
          7.8432135581970215,
          4.135314464569092,
          42.830745697021484,
          -13.524321556091309,
          -6.64301061630249,
          21.210363388061523,
          -49.328338623046875,
          -50.17411804199219,
          -16.723037719726562,
          3.3156042098999023,
          -23.819936752319336,
          4.286267280578613,
          3.797639846801758,
          18.559322357177734,
          39.93061447143555,
          49.44091796875,
          37.71666717529297,
          31.760581970214844,
          6.8638200759887695,
          -45.83032989501953,
          32.53864669799805,
          7.710533142089844,
          39.46257019042969,
          -27.335704803466797,
          -36.31502914428711,
          4.0801801681518555,
          21.508573532104492,
          3.2052550315856934,
          -3.2932639122009277,
          10.935384750366211,
          -2.5912978649139404,
          8.212942123413086,
          -19.3949031829834,
          35.106727600097656,
          -15.923728942871094,
          20.581741333007812,
          -43.816680908203125,
          -21.54070472717285,
          -57.05155944824219,
          6.81764030456543,
          52.55451202392578,
          -48.571556091308594,
          -25.289947509765625,
          -59.67371368408203,
          22.305255889892578,
          -57.814361572265625,
          30.405603408813477,
          34.83790588378906,
          16.260719299316406,
          41.2585334777832,
          -51.99331283569336,
          -8.262295722961426,
          -23.902063369750977,
          16.259498596191406,
          -40.80525207519531,
          -17.955698013305664,
          3.5449130535125732,
          -45.8743782043457,
          -28.65105438232422,
          32.18483352661133,
          -43.97211837768555,
          4.933186054229736,
          -14.671093940734863,
          41.60532760620117,
          -14.571104049682617,
          -45.10069274902344,
          -59.05067825317383,
          55.358001708984375,
          37.765045166015625,
          -36.848873138427734,
          37.15973663330078,
          -32.93931198120117,
          14.6121826171875,
          -58.68584060668945,
          30.20034408569336,
          15.889491081237793,
          13.94211483001709,
          44.837764739990234,
          34.96316909790039,
          -3.4661359786987305,
          43.365028381347656,
          -34.612422943115234,
          -41.038475036621094,
          -18.06290626525879,
          17.68745231628418,
          1.8193364143371582,
          -0.2298142910003662,
          10.408626556396484,
          44.733642578125,
          8.681057929992676,
          25.354290008544922,
          -11.712179183959961,
          -31.83500099182129,
          -1.9139366149902344,
          -8.421875953674316,
          49.60224533081055,
          33.14881896972656,
          3.292682409286499,
          -3.560612201690674,
          -50.554039001464844,
          -20.03611183166504,
          -25.337678909301758,
          -6.783659934997559,
          14.589716911315918,
          -40.77766036987305,
          -17.643720626831055,
          -20.327898025512695,
          -42.43056869506836,
          22.133079528808594,
          4.001195907592773,
          10.016907691955566,
          4.858182907104492,
          -21.890832901000977,
          8.318024635314941,
          20.258785247802734,
          8.666333198547363,
          8.70311450958252,
          -22.671478271484375,
          5.153204917907715,
          1.7096281051635742,
          -64.11665344238281,
          33.004173278808594,
          11.682518005371094,
          22.359472274780273,
          -29.54315757751465,
          23.20485496520996,
          7.294906139373779,
          -2.4658255577087402,
          -11.467092514038086,
          -20.680606842041016,
          -51.97649002075195,
          -22.751075744628906,
          20.44690704345703,
          13.336224555969238,
          21.89902687072754,
          -29.364046096801758,
          53.28369140625,
          17.4074649810791,
          37.495506286621094,
          25.051095962524414,
          18.442655563354492,
          7.061171531677246,
          23.501689910888672,
          41.634761810302734,
          -25.826370239257812,
          35.43412780761719,
          4.675936222076416,
          -40.68379211425781,
          -31.417245864868164,
          -39.433719635009766,
          -2.6808230876922607,
          -4.409480094909668,
          40.899810791015625,
          -42.30184555053711,
          -12.607945442199707,
          23.671890258789062,
          43.62177658081055,
          31.56972312927246,
          15.352725982666016,
          -43.87534713745117,
          -37.930938720703125,
          37.260154724121094,
          35.988624572753906,
          -52.05912780761719,
          58.362613677978516,
          44.87412643432617,
          -37.64317321777344,
          47.03351593017578,
          26.519962310791016,
          -15.314841270446777,
          55.68548583984375,
          -16.14800453186035,
          -18.817066192626953,
          -1.6708745956420898,
          -3.0654423236846924,
          8.778427124023438,
          9.67934513092041,
          16.13203239440918,
          21.610074996948242,
          0.5049447417259216,
          23.043245315551758,
          -44.84916305541992,
          33.019283294677734,
          33.30181884765625,
          57.8226432800293,
          3.227595329284668,
          31.230205535888672,
          -21.33401107788086,
          37.362972259521484,
          -10.027253150939941,
          -53.31981658935547,
          47.36503601074219,
          17.833913803100586,
          -7.651735305786133,
          5.95810604095459,
          24.861751556396484,
          45.646934509277344,
          -53.52267074584961,
          -26.83200454711914,
          4.65037727355957,
          -28.53721809387207,
          -50.19281768798828,
          -55.02385711669922,
          18.381248474121094,
          -58.066734313964844,
          -41.88487243652344,
          -21.88892364501953,
          27.6424503326416,
          19.288698196411133,
          46.943092346191406,
          13.735867500305176,
          44.82843017578125,
          -33.46232604980469,
          44.72955322265625,
          -11.444005966186523,
          -6.810559272766113,
          -33.73424530029297,
          -40.041664123535156,
          11.581727027893066,
          34.79399490356445,
          -20.136754989624023,
          2.001812219619751,
          12.509514808654785,
          20.99042510986328,
          -27.808034896850586,
          -23.32137107849121,
          -31.6951904296875,
          -55.15633773803711,
          17.112865447998047,
          -43.720943450927734,
          28.91590118408203,
          -49.457759857177734,
          -45.326175689697266,
          -39.823604583740234,
          -41.28654098510742,
          22.8287296295166,
          -42.13188934326172,
          -19.872087478637695,
          2.6771962642669678,
          -3.126391649246216,
          -42.61497497558594,
          11.753968238830566,
          -0.09602890908718109,
          -33.765892028808594,
          -44.46308898925781,
          -58.54684066772461,
          32.636962890625,
          -62.622501373291016,
          41.859764099121094,
          1.9955310821533203,
          8.052423477172852,
          38.129600524902344,
          -23.58340072631836,
          7.651515960693359,
          15.795822143554688,
          0.24365253746509552,
          15.731456756591797,
          5.896270751953125,
          15.70057487487793,
          0.8656279444694519,
          54.80202865600586,
          -23.502147674560547,
          -21.661334991455078,
          49.12709045410156,
          42.86301803588867,
          38.94399642944336,
          12.386635780334473,
          -8.570279121398926,
          30.56293487548828,
          -34.1923713684082,
          1.1841764450073242,
          -23.40463638305664,
          -4.538002967834473,
          29.37544059753418,
          -32.19409942626953,
          27.026626586914062,
          -25.838720321655273,
          13.762357711791992,
          3.9382264614105225,
          -60.10689163208008,
          -8.320952415466309,
          35.834632873535156,
          -52.449161529541016,
          -18.924846649169922,
          44.8402214050293,
          -36.24507522583008,
          -32.31222915649414,
          55.597015380859375,
          8.988228797912598,
          -29.56328582763672,
          -26.105236053466797,
          34.96258544921875,
          17.907243728637695,
          -20.134437561035156,
          49.63546371459961,
          7.411324977874756,
          -58.33183670043945,
          11.938393592834473,
          -15.247665405273438,
          -48.530059814453125,
          -27.526912689208984,
          -8.13438892364502,
          26.77644157409668,
          -10.780853271484375,
          -21.064516067504883,
          19.28937339782715,
          9.31765079498291,
          5.403183937072754,
          -23.317670822143555,
          -36.82224655151367,
          28.25836944580078,
          38.1197624206543,
          31.176376342773438,
          -8.231369018554688,
          -34.8754997253418,
          3.8730218410491943,
          27.423826217651367,
          -53.98949432373047,
          -5.513134956359863,
          33.5493049621582,
          22.931724548339844,
          20.414669036865234,
          -56.15074920654297,
          5.215368270874023,
          -17.97812271118164,
          57.98805236816406,
          -61.91965866088867,
          -9.261392593383789,
          -4.974628448486328,
          17.02447509765625,
          -39.55260467529297,
          -48.29132080078125,
          -4.295841693878174,
          44.928165435791016,
          -51.68230438232422,
          -49.46949768066406,
          31.07303237915039,
          -47.023338317871094,
          2.973353147506714,
          -22.838088989257812,
          13.258275985717773,
          10.091635704040527,
          27.220396041870117,
          -27.286483764648438,
          38.468353271484375,
          45.42694091796875,
          15.030831336975098,
          -18.901010513305664,
          34.74784469604492,
          53.19969177246094,
          11.284610748291016,
          -50.645023345947266,
          4.159179210662842,
          14.505843162536621,
          36.911598205566406,
          -10.075789451599121,
          18.432334899902344,
          19.139253616333008,
          -13.430298805236816,
          -35.559627532958984,
          -33.00132369995117,
          13.252253532409668,
          21.420942306518555,
          -9.853808403015137,
          37.02735900878906,
          29.19033432006836,
          38.7977294921875,
          27.304176330566406,
          -60.069366455078125,
          3.6880054473876953,
          -45.37948989868164,
          -14.503571510314941,
          51.39609146118164,
          37.986732482910156,
          -15.94433879852295,
          21.73090171813965,
          12.594894409179688,
          25.97785758972168,
          -7.670987606048584,
          20.549697875976562,
          -15.746545791625977,
          13.97679328918457,
          -11.25755500793457,
          39.090965270996094,
          -43.19596862792969,
          18.278703689575195,
          38.38079071044922,
          -16.097610473632812,
          -14.303407669067383,
          7.706405162811279,
          -63.12810516357422,
          -29.32308578491211,
          -13.069523811340332,
          7.259638786315918,
          -29.18313217163086,
          -38.24630355834961,
          -16.1733455657959,
          -16.85734748840332,
          -9.447162628173828,
          11.198310852050781,
          -25.467777252197266,
          -6.5706915855407715,
          21.96123504638672,
          7.6966729164123535,
          -6.492378234863281,
          -2.0206069946289062,
          -1.5520329475402832,
          -52.61102294921875,
          -31.99967384338379,
          43.19292449951172,
          -13.246885299682617,
          16.582948684692383,
          1.5988327264785767,
          5.761603355407715,
          -44.47920227050781,
          33.4238166809082,
          -28.398786544799805,
          -7.135663986206055,
          -10.66739273071289,
          21.5549373626709,
          -2.303727865219116,
          35.063026428222656,
          22.36503028869629,
          12.963420867919922,
          19.788393020629883,
          9.948328971862793,
          -15.761581420898438,
          3.6858441829681396,
          13.858317375183105,
          -30.048307418823242,
          35.1551628112793,
          1.0936015844345093,
          54.2162971496582,
          -16.63252067565918,
          -30.865617752075195,
          18.789173126220703,
          17.412960052490234,
          -6.814046859741211,
          53.008140563964844,
          52.64117431640625,
          30.300392150878906,
          -53.981876373291016,
          -40.41153335571289,
          -26.842050552368164,
          -1.3004486560821533,
          32.26088333129883,
          51.76521301269531,
          36.474891662597656,
          -24.517322540283203,
          -34.58829116821289,
          25.344623565673828,
          0.6746042966842651,
          -17.35207748413086,
          35.87443542480469,
          0.388877809047699,
          -0.3760054409503937,
          29.411483764648438,
          5.45188570022583,
          -1.3274059295654297,
          -37.29570770263672,
          7.371562480926514,
          24.770038604736328,
          -48.79606246948242,
          -53.195068359375,
          40.88180160522461,
          -47.890525817871094,
          -49.79628372192383,
          -48.8783073425293,
          16.979372024536133,
          20.952951431274414,
          42.19133758544922,
          -19.67752456665039,
          -10.479394912719727,
          44.897216796875,
          -21.43804931640625,
          6.822147369384766,
          23.214391708374023,
          53.86442565917969,
          -27.471776962280273,
          34.906436920166016,
          -31.662572860717773,
          -5.3528571128845215,
          23.449790954589844,
          6.9204511642456055,
          9.717360496520996,
          45.3187255859375,
          11.647924423217773,
          42.07294845581055,
          -34.25519943237305,
          27.637361526489258,
          37.50410079956055,
          -47.031394958496094,
          -49.13109588623047,
          19.0369873046875,
          -4.826455116271973,
          -53.8550910949707,
          2.139021873474121,
          -54.570823669433594,
          35.4407844543457,
          5.850574016571045,
          -46.06881332397461,
          21.52351188659668,
          -29.470903396606445,
          19.848642349243164,
          8.531559944152832,
          -28.655269622802734,
          2.0121612548828125,
          36.97696304321289,
          54.241004943847656,
          -26.12095832824707,
          25.132686614990234,
          -39.510955810546875,
          -17.380815505981445,
          7.430497646331787,
          52.36005401611328,
          7.129950523376465,
          32.433990478515625,
          -15.719900131225586,
          -5.001566410064697,
          -13.699997901916504,
          -25.994216918945312,
          32.34328079223633,
          7.279077053070068,
          37.68171691894531,
          10.723105430603027,
          -3.41933274269104,
          39.4993896484375,
          -46.80012512207031,
          47.282623291015625,
          10.45390510559082,
          -27.639158248901367,
          57.548954010009766,
          9.802549362182617,
          -46.59209442138672,
          13.691112518310547,
          46.63420104980469,
          52.55672836303711,
          51.52165985107422,
          14.583066940307617,
          19.173702239990234,
          41.982418060302734,
          5.326438903808594,
          40.936702728271484,
          37.7681770324707,
          -34.30649185180664,
          19.890974044799805,
          -8.559672355651855,
          -57.662349700927734,
          -35.90644836425781,
          16.828590393066406,
          6.003444194793701,
          29.084457397460938,
          -2.6263387203216553,
          -42.03602600097656,
          45.70850372314453,
          10.678116798400879,
          -8.323732376098633,
          17.40149688720703,
          -2.5007598400115967,
          -45.548133850097656,
          -12.746659278869629,
          25.886123657226562,
          -2.905224323272705,
          33.64857864379883,
          -23.012907028198242,
          -13.948002815246582,
          -28.21493911743164,
          -3.195889472961426,
          9.982562065124512,
          24.710006713867188,
          37.97808074951172,
          14.180076599121094,
          33.31016540527344,
          34.228267669677734,
          35.63887023925781,
          52.360984802246094,
          -56.368629455566406,
          -17.563655853271484,
          -13.028996467590332,
          33.692935943603516,
          35.351131439208984,
          35.351131439208984,
          36.193050384521484,
          32.41203308105469,
          -16.293392181396484,
          42.0588493347168,
          -13.583417892456055,
          -8.884193420410156,
          -26.52846336364746,
          -8.278594017028809,
          -5.131221294403076,
          15.574819564819336,
          -33.6098518371582,
          -45.86632537841797,
          35.734188079833984,
          56.626834869384766,
          24.9964542388916,
          -14.411107063293457,
          13.300973892211914,
          37.070335388183594,
          -49.00835418701172,
          -43.00531005859375,
          -19.084108352661133,
          12.177360534667969,
          -2.493185520172119,
          18.313566207885742,
          -14.42989444732666,
          19.257064819335938,
          -31.542173385620117,
          16.38347053527832,
          11.396903038024902,
          -19.033126831054688,
          -43.1024055480957,
          -63.54054260253906,
          -56.13045120239258,
          2.469810962677002,
          -51.76940155029297,
          -46.80239486694336,
          29.302875518798828,
          16.145009994506836,
          34.767333984375,
          9.233128547668457,
          -23.213712692260742,
          18.100330352783203,
          31.89901351928711,
          -48.56406021118164,
          53.77330780029297,
          39.01233673095703,
          40.68233108520508,
          -37.52458953857422,
          25.15598487854004,
          54.3374137878418,
          12.973099708557129,
          32.39834976196289,
          25.348539352416992,
          -12.828948974609375,
          28.435535430908203,
          -17.940109252929688,
          40.86673355102539,
          32.36122131347656,
          41.19456481933594,
          -28.487321853637695,
          -0.8728288412094116,
          -57.466041564941406,
          8.580164909362793,
          -6.023550987243652,
          -37.386009216308594,
          33.067596435546875,
          15.314268112182617,
          -37.9358024597168,
          24.217082977294922,
          2.812981367111206,
          7.822134017944336,
          14.311168670654297,
          -36.37916564941406,
          -6.34901762008667,
          -42.8504753112793,
          -46.20889663696289,
          -17.308252334594727,
          0.9856191873550415,
          -50.842994689941406,
          10.195585250854492,
          34.555721282958984,
          17.008760452270508,
          -34.61687088012695,
          -27.102867126464844,
          -5.284877300262451,
          37.0463981628418,
          -24.806373596191406,
          51.58982467651367,
          -17.22549057006836,
          43.62593460083008,
          -6.4576497077941895,
          54.15712356567383,
          13.666051864624023,
          -33.1219367980957,
          -31.754547119140625,
          -56.15005874633789,
          -56.47148513793945,
          29.51070785522461,
          1.9953042268753052,
          -52.673797607421875,
          12.845196723937988,
          14.305363655090332,
          13.069124221801758,
          -11.363201141357422,
          -44.97877502441406,
          44.91459655761719,
          28.0653133392334,
          49.193328857421875,
          28.81922149658203,
          -36.04439163208008,
          27.763628005981445,
          -18.935548782348633,
          12.413762092590332,
          -15.140302658081055,
          15.496774673461914,
          14.74326229095459,
          2.978909492492676,
          -8.914531707763672,
          20.03731918334961,
          -0.7511667609214783,
          49.116058349609375,
          -19.36599349975586,
          8.467527389526367,
          25.786287307739258,
          59.09885025024414,
          -45.31922149658203,
          13.464598655700684,
          33.83876037597656,
          -33.78437042236328,
          -16.10687828063965,
          -10.339872360229492,
          0.5629968643188477,
          8.917198181152344,
          30.135507583618164,
          -12.24394702911377,
          0.8031121492385864,
          20.555707931518555,
          -16.114084243774414,
          22.952381134033203,
          50.348655700683594,
          19.879749298095703,
          -38.62175750732422,
          12.705463409423828,
          -55.82212829589844,
          1.5096265077590942,
          14.028023719787598,
          -14.921279907226562,
          42.76239013671875,
          -42.136985778808594,
          -55.05706787109375,
          -42.347633361816406,
          4.170097351074219,
          31.974815368652344,
          -17.87260627746582,
          -56.202449798583984,
          22.521940231323242,
          -43.009056091308594,
          -41.8494873046875,
          -30.452255249023438,
          52.09899139404297,
          11.4761962890625,
          -0.8780895471572876,
          -4.516778469085693,
          20.790002822875977,
          -11.86371898651123,
          14.103179931640625,
          -9.629318237304688,
          -0.595853865146637,
          6.595059871673584,
          6.33209753036499,
          -34.665950775146484,
          -43.01829147338867,
          -15.451810836791992,
          37.093299865722656,
          -3.22141432762146,
          -16.291234970092773,
          -20.123291015625,
          -49.080387115478516,
          -17.3215389251709,
          39.79083251953125,
          -9.679522514343262,
          2.1311960220336914,
          5.112407207489014,
          9.456719398498535,
          43.2469596862793,
          -33.80857849121094,
          51.697383880615234,
          39.011043548583984,
          49.90804672241211,
          42.21427917480469,
          -52.484580993652344,
          -12.603214263916016,
          -31.529436111450195,
          -38.81645965576172,
          14.289566993713379,
          5.149921894073486,
          -17.63956642150879,
          37.58707809448242,
          -3.054774761199951,
          32.693695068359375,
          -5.713222980499268,
          -10.647612571716309,
          35.004756927490234,
          14.457183837890625,
          26.823474884033203,
          36.055023193359375,
          40.42906951904297,
          11.609490394592285,
          53.29156494140625,
          10.064371109008789,
          -38.63515090942383,
          -55.23625946044922,
          -33.3669548034668,
          -18.90000343322754,
          -14.693263053894043,
          15.010794639587402,
          57.232276916503906,
          -61.521724700927734,
          -16.555498123168945,
          -36.620948791503906,
          -5.887581825256348,
          18.505374908447266,
          15.243361473083496,
          4.119661808013916,
          47.95481491088867,
          17.666919708251953,
          20.93826675415039,
          39.47306442260742,
          18.946584701538086,
          -47.00071334838867,
          -8.50956916809082,
          -51.253173828125,
          15.225251197814941,
          -33.909019470214844,
          19.68425750732422,
          19.25629234313965,
          52.26107406616211,
          -19.258054733276367,
          18.635072708129883,
          36.3605842590332,
          42.2878532409668,
          45.07279968261719,
          22.851049423217773,
          -19.025741577148438,
          -14.491539001464844,
          -25.866554260253906,
          -21.754789352416992,
          -10.633598327636719,
          -17.22450065612793,
          30.643781661987305,
          5.764199256896973,
          55.079673767089844,
          21.70631980895996,
          -58.12317657470703,
          19.37660789489746,
          -27.009918212890625,
          18.43707275390625,
          34.073219299316406,
          34.907711029052734,
          -14.605579376220703,
          -28.406286239624023,
          3.9825685024261475,
          -31.30427360534668,
          5.614964008331299,
          29.482112884521484,
          14.853022575378418,
          -20.57855987548828,
          7.2549567222595215,
          17.620412826538086,
          34.83478927612305,
          35.415061950683594,
          10.240321159362793,
          -53.60090255737305,
          -38.14504623413086,
          -41.98697280883789,
          5.908456325531006,
          6.401763439178467,
          36.45063781738281,
          -42.67167663574219,
          -53.72233581542969,
          -24.351551055908203,
          20.48090171813965,
          10.04537582397461,
          7.859842300415039,
          -11.173378944396973,
          -34.53481674194336,
          43.98372268676758,
          -50.357696533203125,
          -8.865910530090332,
          26.168867111206055,
          36.66939163208008,
          26.673690795898438,
          25.218406677246094,
          25.06142234802246,
          26.876873016357422,
          -5.006983280181885,
          -36.16393280029297,
          48.54643630981445,
          -20.891178131103516,
          -30.018516540527344,
          17.621042251586914,
          36.6632080078125,
          53.7468147277832,
          11.39247989654541,
          13.830648422241211,
          -20.012237548828125,
          45.38228988647461,
          38.6651611328125,
          -10.254826545715332,
          3.5315873622894287,
          49.64445877075195,
          36.96802520751953,
          14.124090194702148,
          -20.01073455810547,
          -20.026636123657227,
          -17.67218780517578,
          -38.237892150878906,
          31.400856018066406,
          50.03325271606445,
          46.22153854370117,
          -16.030656814575195,
          6.930083751678467,
          26.792936325073242,
          31.726543426513672,
          -54.35129165649414,
          -18.685832977294922,
          4.0538787841796875,
          41.197669982910156,
          -29.646411895751953,
          -31.219839096069336,
          14.765421867370605,
          -28.20195770263672,
          12.697787284851074,
          31.828832626342773,
          -2.838454008102417,
          -17.602399826049805,
          -15.678646087646484,
          2.3146791458129883,
          14.756847381591797,
          -32.83085632324219,
          25.836580276489258,
          36.03352737426758,
          -27.538936614990234,
          5.65831995010376,
          43.771484375,
          30.410551071166992,
          19.602725982666016,
          -51.40315246582031,
          52.29738998413086,
          21.41259765625,
          5.301156520843506,
          -58.003196716308594,
          -43.3480110168457,
          29.82398223876953,
          48.82807159423828,
          -47.1400032043457,
          41.183712005615234,
          14.074056625366211,
          -13.494630813598633,
          58.86077880859375,
          7.927884578704834,
          7.624660968780518,
          -52.25038146972656,
          32.34130859375,
          30.794315338134766,
          48.07527542114258,
          -5.924863815307617,
          13.486708641052246,
          -53.16334533691406,
          -52.61769104003906,
          13.100361824035645,
          -32.771148681640625,
          13.553390502929688,
          -53.879276275634766,
          -41.97199249267578,
          -7.052160263061523,
          15.50361442565918,
          45.61836242675781,
          -22.136415481567383,
          -24.4495792388916,
          33.20896530151367,
          14.74494457244873,
          -16.256031036376953,
          22.33207130432129,
          21.30681610107422,
          -12.96487045288086,
          26.463991165161133,
          34.14271545410156,
          -27.20033073425293,
          -55.22325897216797,
          44.873023986816406,
          -49.269142150878906,
          -29.475013732910156,
          37.26264572143555,
          0.9484752416610718,
          -34.835384368896484,
          0.7501258254051208,
          37.998374938964844,
          50.29444122314453,
          -14.021937370300293,
          19.323932647705078,
          -33.84755325317383,
          -6.468419551849365,
          27.851425170898438,
          -24.044002532958984,
          37.48374938964844,
          -10.763348579406738,
          -16.469707489013672,
          -16.678117752075195,
          -18.03788948059082,
          -13.305257797241211,
          -52.9780158996582,
          7.851679801940918,
          9.440311431884766,
          29.366291046142578,
          -9.385368347167969,
          -1.2205991744995117,
          -13.589821815490723,
          39.74333953857422,
          31.73802947998047,
          -11.321540832519531,
          18.932371139526367,
          27.0911808013916,
          -48.950828552246094,
          -14.113824844360352,
          -19.51581382751465,
          -7.948551654815674,
          48.772300720214844,
          26.308244705200195,
          32.496822357177734,
          1.1465505361557007,
          3.7410151958465576,
          -56.531280517578125,
          23.685319900512695,
          13.02993392944336,
          -6.658243656158447,
          -59.526390075683594,
          -43.20650863647461,
          -57.47364807128906,
          47.30941390991211,
          -4.271421909332275,
          20.87251091003418,
          -23.31353759765625,
          14.748169898986816,
          31.863117218017578,
          53.2493896484375,
          -11.25419807434082,
          54.56028747558594,
          37.26945495605469,
          -29.60342788696289,
          -40.31954574584961,
          -14.071338653564453,
          -33.86212921142578,
          -22.964834213256836,
          -9.152810096740723,
          2.2568516731262207,
          -17.96129035949707,
          42.342044830322266,
          13.03140926361084,
          16.684446334838867,
          -11.407561302185059,
          59.849876403808594,
          -21.077436447143555,
          -19.49833106994629,
          -14.933496475219727,
          5.661698341369629,
          1.5963349342346191,
          35.79549789428711,
          -18.796886444091797,
          16.233322143554688,
          34.717063903808594,
          -42.88949966430664,
          45.211002349853516,
          -38.33137130737305,
          -9.043641090393066,
          20.64278793334961,
          -44.30471420288086,
          -17.162879943847656,
          6.626443386077881,
          4.639166355133057,
          -35.80765151977539,
          -15.663771629333496,
          -33.570613861083984,
          28.869585037231445,
          -26.672266006469727,
          -4.048456192016602,
          -33.89706039428711,
          16.53396224975586,
          -12.302029609680176,
          25.1173095703125,
          15.871987342834473,
          26.57743263244629,
          -18.870967864990234,
          -5.925748348236084,
          25.904617309570312,
          54.315696716308594,
          3.4981117248535156,
          -41.10022735595703,
          -41.760902404785156,
          11.064895629882812,
          -2.9869279861450195,
          10.583273887634277,
          34.597782135009766,
          15.950944900512695,
          -31.06665802001953,
          -15.953372955322266,
          14.664175987243652,
          -57.94344711303711,
          -30.5515193939209,
          -0.8230077624320984,
          -35.14375686645508,
          -63.29780960083008,
          -23.023696899414062,
          24.03040313720703,
          39.751529693603516,
          1.4856081008911133,
          -46.0274772644043,
          -25.182355880737305,
          29.214797973632812,
          34.181968688964844,
          40.29583740234375,
          -38.24500274658203,
          -15.572525024414062,
          -12.447649955749512,
          3.7041001319885254,
          0.9619471430778503,
          -12.039447784423828,
          48.0689811706543,
          -37.99540710449219,
          8.929311752319336,
          57.22874069213867,
          -57.892906188964844,
          -25.923297882080078,
          -0.0027231296990066767,
          -53.003665924072266,
          -16.355138778686523,
          -33.65949630737305,
          -50.22780227661133,
          27.75133514404297,
          23.687374114990234,
          -53.555877685546875,
          15.42322063446045,
          42.496665954589844,
          54.997047424316406,
          -16.281206130981445,
          18.12335205078125,
          -60.1595573425293,
          -23.11626625061035,
          -34.39234924316406,
          0.6867392659187317,
          -16.520227432250977,
          13.953804969787598,
          -36.906131744384766,
          52.46181869506836,
          -59.40419006347656,
          -7.107411861419678,
          6.363664627075195,
          17.093059539794922,
          -49.74061584472656,
          37.29034423828125,
          -0.46437761187553406,
          45.79066467285156,
          42.65108108520508,
          -13.620264053344727,
          -23.573097229003906,
          -1.5165457725524902,
          -44.33342742919922,
          -8.036678314208984,
          -50.07943344116211,
          -20.07081413269043,
          17.176809310913086,
          57.5633544921875,
          8.501686096191406,
          22.352462768554688,
          1.6158181428909302,
          -37.83448791503906,
          0.11431467533111572,
          -25.30081558227539,
          31.19476890563965,
          -46.20784378051758,
          -15.495458602905273,
          -47.184547424316406,
          -15.692469596862793,
          37.007049560546875,
          -35.17411804199219,
          12.359082221984863,
          15.499114990234375,
          -26.83856201171875,
          45.918663024902344,
          -3.8758304119110107,
          9.58916187286377,
          2.5030317306518555,
          18.001169204711914,
          34.99280548095703,
          -22.04655647277832,
          8.248612403869629,
          35.3367919921875,
          -6.541204452514648,
          -32.185001373291016,
          17.259117126464844,
          -34.726234436035156,
          31.148696899414062,
          -2.580200433731079,
          14.256174087524414,
          32.621124267578125,
          8.284503936767578,
          -2.9154067039489746,
          28.566965103149414,
          6.991873264312744,
          36.96853256225586,
          4.413597583770752,
          -31.433683395385742,
          21.6532039642334,
          55.598785400390625,
          11.000086784362793,
          -19.941665649414062,
          -5.923704624176025,
          20.486108779907227,
          23.80476951599121,
          44.82756805419922,
          6.223745822906494,
          22.339195251464844,
          -16.860803604125977,
          12.92278003692627,
          -15.378445625305176,
          25.986724853515625,
          -32.344085693359375,
          -59.38026809692383,
          -27.72343635559082,
          -41.53968048095703,
          13.625388145446777,
          2.918412446975708,
          16.272403717041016,
          -58.00985336303711,
          40.902462005615234,
          -25.85578727722168,
          4.214094638824463,
          36.239253997802734,
          -30.518115997314453,
          -15.716191291809082,
          -20.3592472076416,
          41.794921875,
          -10.595940589904785,
          8.331741333007812,
          -8.823862075805664,
          40.15898895263672,
          -4.066164493560791,
          5.103342533111572,
          42.524539947509766,
          -14.094924926757812,
          -14.15385913848877,
          -26.753746032714844,
          -18.181089401245117,
          10.053427696228027,
          -27.27055549621582,
          -57.80417251586914,
          -2.8303325176239014,
          51.16393280029297,
          43.69218063354492,
          -56.181148529052734,
          -11.778597831726074,
          -58.911067962646484,
          42.58559799194336,
          24.700048446655273,
          -29.337337493896484,
          -0.07963816821575165,
          5.217576026916504,
          11.77880573272705,
          41.93450164794922,
          -21.861576080322266,
          -15.58548641204834,
          -9.027220726013184,
          -27.963150024414062,
          12.657289505004883,
          27.806690216064453,
          -46.515953063964844,
          35.83129119873047,
          35.14704895019531,
          -4.738775253295898,
          24.077579498291016,
          -4.089009761810303,
          -46.8306999206543,
          38.19162368774414,
          50.211570739746094,
          -8.679676055908203,
          0.4613957107067108,
          23.78634262084961,
          -23.613719940185547,
          34.09215545654297,
          12.074714660644531,
          -4.393036365509033,
          -19.585241317749023,
          25.379785537719727,
          -11.996018409729004,
          17.080257415771484,
          -30.93573760986328,
          53.113277435302734,
          4.749262809753418,
          2.8966894149780273,
          20.0413818359375,
          11.150165557861328,
          18.363496780395508,
          36.533668518066406,
          -30.564647674560547,
          33.17079162597656,
          44.882049560546875,
          -44.62021255493164,
          -7.035128116607666,
          -34.92238235473633,
          13.013433456420898,
          11.738365173339844,
          39.83698272705078,
          -38.835472106933594,
          2.336348056793213,
          -31.10097312927246,
          -11.08721923828125,
          -33.23793411254883,
          -17.598995208740234,
          35.6279182434082,
          -13.556310653686523,
          22.59031867980957,
          61.758628845214844,
          -27.894990921020508,
          -11.685696601867676,
          52.84322738647461,
          -38.92973709106445,
          -19.739131927490234,
          -14.418839454650879,
          20.246591567993164,
          -7.365558624267578,
          -3.1704931259155273,
          -29.51906394958496,
          -52.10804748535156,
          -9.498406410217285,
          24.12395477294922,
          -13.398242950439453,
          -10.363825798034668,
          -41.436100006103516,
          42.12274932861328,
          33.37018585205078,
          31.469327926635742,
          -41.61591339111328,
          -0.32851365208625793,
          42.32773208618164,
          -11.669949531555176,
          35.22700119018555,
          -4.920889377593994,
          14.782565116882324,
          -8.393549919128418,
          14.661173820495605,
          -8.496305465698242,
          50.7073860168457,
          -13.9429292678833,
          53.254920959472656,
          18.430673599243164,
          32.66142272949219,
          42.11447525024414,
          -42.345760345458984,
          -43.01865005493164,
          -7.168600082397461,
          -7.535440921783447,
          -1.9081635475158691,
          41.16750717163086,
          -25.93602752685547,
          -24.01563835144043,
          27.74168586730957,
          14.290528297424316,
          19.97606658935547,
          -29.29242706298828,
          -35.185325622558594,
          43.851383209228516,
          28.45489501953125,
          22.770349502563477,
          15.413226127624512,
          25.26479721069336,
          55.2049674987793,
          8.017730712890625,
          20.673683166503906,
          38.81261444091797,
          -47.55518341064453,
          -34.006282806396484,
          -22.983922958374023,
          21.07491683959961,
          -41.496063232421875,
          -23.113786697387695,
          -33.54828643798828,
          -57.44136428833008,
          40.277862548828125,
          -40.552738189697266,
          31.986225128173828,
          15.84484577178955,
          -55.973323822021484,
          -54.0775146484375,
          37.049137115478516,
          -29.585521697998047,
          -59.48017120361328,
          18.839893341064453,
          -16.374675750732422,
          38.93646240234375,
          -12.740926742553711,
          7.882650852203369,
          -17.75333595275879,
          -31.6038875579834,
          -34.15699768066406,
          -11.400343894958496,
          7.424388885498047,
          27.31146812438965,
          -42.777950286865234,
          45.47764205932617,
          30.759105682373047,
          -62.082374572753906,
          -34.92296600341797,
          -28.3333797454834,
          -5.179579734802246,
          14.988014221191406,
          -42.67160415649414,
          37.70100402832031,
          -21.156991958618164,
          54.986915588378906,
          46.17029571533203,
          -1.6295183897018433,
          28.634733200073242,
          -28.63112449645996,
          11.527206420898438,
          42.177940368652344,
          3.341960906982422,
          3.2766754627227783,
          37.45703887939453,
          6.098427772521973,
          -16.724733352661133,
          -52.807273864746094,
          -50.2430305480957,
          -23.766002655029297,
          -38.46255874633789,
          48.99319076538086,
          2.1581883430480957,
          -1.2777045965194702,
          33.631717681884766,
          -8.276394844055176,
          26.74118995666504,
          -47.19206619262695,
          28.88286590576172,
          2.918280839920044,
          -40.483741760253906,
          39.1663932800293,
          -21.648067474365234,
          -26.865827560424805,
          -5.33237361907959,
          -8.186399459838867,
          -57.39156723022461,
          -8.921624183654785,
          -27.210050582885742,
          -27.068567276000977,
          -63.86077117919922,
          33.0543212890625,
          29.848739624023438,
          47.4921989440918,
          12.764786720275879,
          -15.781438827514648,
          26.96575927734375,
          -6.634609222412109,
          2.065138339996338,
          4.241137981414795,
          21.148231506347656,
          -24.5571346282959,
          28.210588455200195,
          -38.20573806762695,
          -33.09992980957031,
          21.791566848754883,
          26.643287658691406,
          -6.153548717498779,
          -22.90401268005371,
          2.946190357208252,
          10.20676040649414,
          40.59218215942383,
          30.879131317138672,
          38.412010192871094,
          -39.678165435791016,
          -14.155182838439941,
          -56.81767272949219,
          55.65231704711914,
          2.1138129234313965,
          9.92867660522461,
          -36.76041030883789,
          11.8877592086792,
          -61.17942810058594,
          0.6854742169380188,
          10.27275562286377,
          22.140483856201172,
          -15.798094749450684,
          -21.600038528442383,
          -4.336836814880371,
          2.8507559299468994,
          23.74628448486328,
          -50.21583938598633,
          53.40094757080078,
          34.11405563354492,
          -22.999338150024414,
          9.161279678344727,
          -30.261133193969727,
          53.11515426635742,
          -51.369625091552734,
          -55.97043228149414,
          -56.42596435546875,
          8.607582092285156,
          -14.986804008483887,
          -33.18536376953125,
          -54.96441650390625,
          -5.30539083480835,
          36.28858184814453,
          37.447757720947266,
          -24.519168853759766,
          9.28067398071289,
          19.401264190673828,
          -49.301326751708984,
          6.557376384735107,
          19.15314483642578,
          -27.367246627807617,
          30.386764526367188,
          -35.751644134521484,
          -4.82672119140625,
          -13.742854118347168,
          33.522560119628906,
          -16.066265106201172,
          30.263885498046875,
          -30.841344833374023,
          -16.40363311767578,
          -8.296379089355469,
          10.99172592163086,
          -34.40729522705078,
          -21.954702377319336,
          -0.9940518140792847,
          42.351566314697266,
          56.485843658447266,
          20.565448760986328,
          53.245487213134766,
          18.814085006713867,
          48.99344253540039,
          -51.394500732421875,
          19.568920135498047,
          -53.21169662475586,
          -52.46272277832031,
          23.96954917907715,
          29.233882904052734,
          -61.12279510498047,
          -46.69621658325195,
          -22.528263092041016,
          9.29069995880127,
          18.05872344970703,
          27.017038345336914,
          0.3720628619194031,
          -10.732834815979004,
          -0.723034679889679,
          -13.38876724243164,
          -9.596311569213867,
          14.334135055541992,
          -8.201876640319824,
          37.06681442260742,
          -24.72633171081543,
          57.767086029052734,
          26.413976669311523,
          -28.957714080810547,
          -21.686017990112305,
          -23.368024826049805,
          45.84013748168945,
          38.63088607788086,
          -10.753568649291992,
          20.968231201171875,
          14.968110084533691,
          -23.849706649780273,
          2.54313325881958,
          -6.9181036949157715,
          13.14610481262207,
          -5.080739498138428,
          28.88051986694336,
          57.452857971191406,
          34.42159652709961,
          13.317398071289062,
          15.621495246887207,
          5.4352240562438965,
          22.09007453918457,
          25.587173461914062,
          36.00630187988281,
          -8.806697845458984,
          25.170377731323242,
          4.829447269439697,
          46.05781555175781,
          -56.087650299072266,
          -58.26825714111328,
          -40.31145095825195,
          15.397440910339355,
          43.40660858154297,
          -8.785168647766113,
          -5.414452075958252,
          -0.6727742552757263,
          5.82731819152832,
          50.58238220214844,
          -18.785045623779297,
          11.64803695678711,
          -43.95768737792969,
          -20.69829750061035,
          18.520549774169922,
          8.438667297363281,
          -17.87360954284668,
          5.975229263305664,
          8.59449577331543,
          2.1099774837493896,
          -22.31220817565918,
          1.5551910400390625,
          -40.245887756347656,
          15.269645690917969,
          -44.28588104248047,
          -22.2069091796875,
          32.10478591918945,
          -38.66355895996094,
          28.73745346069336,
          -26.903547286987305,
          37.083457946777344,
          -28.82805061340332,
          -49.59888458251953,
          -41.81662368774414,
          29.203243255615234,
          -29.916316986083984,
          37.45209884643555,
          31.51044464111328,
          35.4526252746582,
          -47.43749237060547,
          49.70922088623047,
          -51.77950668334961,
          54.48595428466797,
          -33.016170501708984,
          17.706575393676758,
          37.085235595703125,
          -23.807016372680664,
          -55.43815994262695,
          -24.335445404052734,
          -45.58690643310547,
          -27.716876983642578,
          24.742477416992188,
          4.377616882324219,
          -44.403472900390625,
          -42.12566375732422,
          -8.354318618774414,
          -19.322919845581055,
          -6.734942436218262,
          -25.394826889038086,
          38.628482818603516,
          12.702284812927246,
          -21.05686378479004,
          -40.345924377441406,
          -13.52475643157959,
          29.657676696777344,
          46.305908203125,
          18.797117233276367,
          -9.171216011047363,
          -38.62117385864258,
          -57.84507751464844,
          -59.646175384521484,
          5.83411169052124,
          14.735918998718262,
          1.5378481149673462,
          -30.04482078552246,
          30.421262741088867,
          52.3851203918457,
          -39.44499206542969,
          -35.2245979309082,
          -56.220680236816406,
          -9.688549995422363,
          -63.21932601928711,
          45.22679901123047,
          3.930518388748169,
          -18.514663696289062,
          -27.793384552001953,
          9.78952407836914,
          -9.267592430114746,
          -31.181310653686523,
          -43.60840606689453,
          -27.034643173217773,
          -48.93651580810547,
          -10.6907958984375,
          -21.506547927856445,
          62.39684295654297,
          3.792290449142456,
          30.397369384765625,
          55.27427291870117,
          -4.548492431640625,
          32.143150329589844,
          8.165287971496582,
          2.5967278480529785,
          -21.60496711730957,
          3.870126485824585,
          -8.47691822052002,
          0.5335237979888916,
          -18.779434204101562,
          -14.531431198120117,
          -20.892526626586914,
          23.645784378051758,
          13.823772430419922,
          -45.94185256958008,
          -5.533361911773682,
          28.724279403686523,
          49.11091232299805,
          57.96192932128906,
          -29.274568557739258,
          4.925286293029785,
          -28.304489135742188,
          -45.36825180053711,
          -32.44306564331055,
          7.1474928855896,
          -23.607481002807617,
          56.54505157470703,
          -7.806221008300781,
          8.669953346252441,
          4.309586524963379,
          -57.42327117919922,
          40.138031005859375,
          20.15401840209961,
          -26.9096736907959,
          11.206490516662598,
          53.913970947265625,
          25.201635360717773,
          27.434316635131836,
          28.422624588012695,
          16.686429977416992,
          -39.653656005859375,
          32.175437927246094,
          -5.956864356994629,
          -30.198444366455078,
          -4.06274938583374,
          9.207742691040039,
          -1.5004844665527344,
          -35.38914489746094,
          0.049690257757902145,
          -8.378047943115234,
          -39.67542266845703,
          -43.805233001708984,
          1.8935660123825073,
          -14.144439697265625,
          -31.608823776245117,
          32.643924713134766,
          -40.771697998046875,
          -40.244991302490234,
          -29.39928436279297,
          20.592838287353516,
          42.6015739440918,
          -43.29094696044922,
          -18.086149215698242,
          -22.865718841552734,
          21.458314895629883,
          31.12682342529297,
          -5.686344146728516,
          48.047630310058594,
          -15.77393627166748,
          -46.660545349121094,
          7.68187141418457,
          -8.658560752868652,
          -11.85379409790039,
          -30.4788818359375,
          -31.119550704956055,
          10.47916316986084,
          26.628061294555664,
          8.416586875915527,
          34.22221755981445,
          -30.33952522277832,
          -10.27360725402832,
          -28.700637817382812,
          -34.67662811279297,
          5.415865898132324,
          -54.850730895996094,
          -45.893333435058594,
          56.368858337402344,
          -25.822656631469727,
          39.91061019897461,
          -41.96921157836914,
          -29.10049819946289,
          -16.157817840576172,
          22.05999183654785,
          44.259552001953125,
          19.60274314880371,
          -44.20853042602539,
          -27.237340927124023,
          1.9792760610580444,
          3.9431614875793457,
          13.161885261535645,
          19.712509155273438,
          27.260343551635742,
          11.937052726745605,
          1.9308370351791382,
          19.171157836914062,
          34.18689727783203,
          -5.919400215148926,
          -24.79534149169922,
          -17.84526252746582,
          -3.615804672241211,
          -9.568753242492676,
          -9.359232902526855,
          -13.675122261047363,
          -15.966233253479004,
          15.359336853027344,
          47.381919860839844,
          37.48424530029297,
          -25.646682739257812,
          15.273574829101562,
          -30.41944694519043,
          -17.50111961364746,
          13.595677375793457,
          -47.51673889160156,
          36.928321838378906,
          -39.30966567993164,
          -42.82896423339844,
          -31.959854125976562,
          1.995661735534668,
          -16.102577209472656,
          -51.52467727661133,
          -53.89302062988281,
          -36.19440460205078,
          -25.52798080444336,
          8.964539527893066,
          41.752803802490234,
          -36.27988815307617,
          -23.905202865600586,
          -3.8923776149749756,
          -20.15073585510254,
          40.410133361816406,
          -18.878299713134766,
          -9.718286514282227,
          33.40495681762695,
          23.73556137084961,
          -61.591922760009766,
          -24.886987686157227,
          20.604990005493164,
          45.353145599365234,
          17.491403579711914,
          9.716875076293945,
          -37.34101104736328,
          -27.498708724975586,
          -12.091174125671387,
          -39.24742126464844,
          -21.772945404052734,
          -8.979220390319824,
          32.098697662353516,
          -19.145339965820312,
          18.14628791809082,
          28.980682373046875,
          -17.371402740478516,
          15.561927795410156,
          31.715818405151367,
          -33.356285095214844,
          -54.79367446899414,
          -59.445838928222656,
          -17.631607055664062,
          24.095056533813477,
          -36.53784942626953,
          9.719098091125488,
          -27.532228469848633,
          -2.96441388130188,
          15.578240394592285,
          45.800376892089844,
          -39.49673843383789,
          -36.646034240722656,
          50.6489372253418,
          -14.685274124145508,
          25.844627380371094,
          23.182939529418945,
          40.27006912231445,
          -37.355987548828125,
          -51.526947021484375,
          -11.999874114990234,
          40.275875091552734,
          -23.408151626586914,
          3.622197151184082,
          13.215805053710938,
          -14.36561393737793,
          38.89421844482422,
          11.25342082977295,
          19.33017921447754,
          -53.88816452026367,
          -15.206266403198242,
          -47.2256965637207,
          -59.204917907714844,
          -9.43891716003418,
          -7.621825695037842,
          23.958770751953125,
          62.92539978027344,
          20.889705657958984,
          24.10500717163086,
          54.326541900634766,
          7.340228080749512,
          6.197906017303467,
          -19.58722496032715,
          -47.771881103515625,
          -48.43220901489258,
          26.34951400756836,
          -18.943214416503906,
          -1.0841524600982666,
          -21.90428352355957,
          -35.65821838378906,
          26.502683639526367,
          13.877153396606445,
          15.321489334106445,
          -50.62274169921875,
          -1.4977983236312866,
          41.87677001953125,
          -45.549171447753906,
          28.7191162109375,
          28.35988998413086,
          20.245832443237305,
          42.089900970458984,
          20.71605682373047,
          32.39863586425781,
          7.031063079833984,
          22.626008987426758,
          15.661111831665039,
          -7.579600811004639,
          10.775330543518066,
          33.90806198120117,
          -28.52084732055664,
          -33.04331970214844,
          -31.547372817993164,
          -39.02640914916992,
          -7.688005447387695,
          35.4279899597168,
          28.46217155456543,
          58.72690963745117,
          20.720470428466797,
          -32.93181228637695,
          -10.997163772583008,
          -5.787813186645508,
          -54.29566955566406,
          35.20395278930664,
          -28.76451873779297,
          26.38062286376953,
          2.639699935913086,
          4.374459743499756,
          -18.254745483398438,
          38.57838439941406,
          18.327619552612305,
          -17.092836380004883,
          22.40382194519043,
          2.965040445327759,
          -10.714059829711914,
          -43.48949432373047,
          0.43724295496940613,
          7.133986473083496,
          25.804397583007812,
          45.53293991088867,
          -14.683506965637207,
          47.93800735473633,
          0.9791058897972107,
          -4.675300121307373,
          -41.17450714111328,
          49.73258590698242,
          3.6493799686431885,
          -18.066068649291992,
          13.031163215637207,
          -56.47743225097656,
          -15.586759567260742,
          15.58530044555664,
          40.586917877197266,
          14.700971603393555,
          -0.26360654830932617,
          8.363275527954102,
          -27.05457878112793,
          54.72099685668945,
          -4.415409564971924,
          -1.8132691383361816,
          13.362130165100098,
          -19.6822509765625,
          13.28286361694336,
          41.44263458251953,
          6.263741493225098,
          24.175006866455078,
          26.85605812072754,
          -6.11320686340332,
          35.547672271728516,
          51.499847412109375,
          -33.011383056640625,
          11.084627151489258,
          54.29356002807617,
          -14.244132995605469,
          39.12699890136719,
          -25.13850975036621,
          -26.407655715942383,
          -9.732131958007812,
          15.310088157653809,
          29.982006072998047,
          56.70388412475586,
          58.199405670166016,
          -12.313248634338379,
          8.401488304138184,
          -35.15842056274414,
          -51.190189361572266,
          16.7074031829834,
          32.2933464050293,
          54.5361442565918,
          24.3448543548584,
          4.0487380027771,
          8.30456829071045,
          5.536181926727295,
          -6.17422342300415,
          30.142202377319336,
          -31.904388427734375,
          41.724971771240234,
          -43.381710052490234,
          59.49290466308594,
          55.11564636230469,
          36.59113693237305,
          11.117594718933105,
          -14.18130874633789,
          -50.72820281982422,
          -63.18315124511719,
          -36.98249816894531,
          31.740671157836914,
          48.41460037231445,
          3.6713364124298096,
          -35.17992401123047,
          -38.6156120300293,
          13.228849411010742,
          4.901315212249756,
          40.98739242553711,
          -5.117961406707764,
          46.493141174316406,
          -47.53498840332031,
          50.932674407958984,
          -47.23311233520508,
          4.928121566772461,
          3.40700364112854,
          -46.856502532958984,
          -0.8360096216201782,
          -9.747758865356445,
          31.31278419494629,
          30.640871047973633,
          35.47096252441406,
          9.648141860961914,
          28.605112075805664,
          14.982097625732422,
          -36.399009704589844,
          -29.266098022460938,
          12.279788970947266,
          -4.625884532928467,
          -26.08928871154785,
          12.784890174865723,
          33.80963134765625,
          -24.345186233520508,
          -29.946086883544922,
          9.919744491577148,
          -22.271390914916992,
          41.25814437866211,
          2.545262098312378,
          -54.982139587402344,
          -27.06085777282715,
          21.590925216674805,
          27.841264724731445,
          16.86436653137207,
          -14.646001815795898,
          20.0281925201416,
          -24.170236587524414,
          -5.942694187164307,
          -34.36834716796875,
          16.023283004760742,
          42.475250244140625,
          -17.126773834228516,
          46.79381561279297,
          11.405558586120605,
          4.4384331703186035,
          33.770328521728516,
          -10.921004295349121,
          27.230974197387695,
          -8.476153373718262,
          34.69479751586914,
          -40.31093215942383,
          -50.319881439208984,
          35.6356315612793,
          26.29261016845703,
          25.74931526184082,
          55.358245849609375,
          14.994209289550781,
          9.887565612792969,
          -45.879764556884766,
          -20.637235641479492,
          27.400068283081055,
          17.673364639282227,
          -24.805408477783203,
          45.48649597167969,
          -13.96233081817627,
          1.918984055519104,
          -56.231266021728516,
          -18.07680320739746,
          -50.88913345336914,
          1.7126961946487427,
          20.426122665405273,
          0.17095263302326202,
          3.9866909980773926,
          32.83427810668945,
          19.423797607421875,
          44.51112365722656,
          -2.782470464706421,
          35.37661361694336,
          -45.15055847167969,
          -13.861152648925781,
          16.324295043945312,
          -27.333921432495117,
          -10.86658763885498,
          44.43941879272461,
          48.46097183227539,
          -5.125027179718018,
          -55.618309020996094,
          -34.2857666015625,
          32.008888244628906,
          -40.23152160644531,
          -31.901464462280273,
          10.436593055725098,
          7.712044715881348,
          -26.36738395690918,
          -24.383241653442383,
          10.697739601135254,
          39.802555084228516,
          -34.75728225708008,
          -25.03908348083496,
          23.45337677001953,
          53.21499252319336,
          -27.631120681762695,
          -28.146421432495117,
          37.0977668762207,
          43.774078369140625,
          -56.893306732177734,
          -15.562235832214355,
          -49.079219818115234,
          -53.82563400268555,
          29.36336898803711,
          -5.793576240539551,
          46.80767822265625,
          -44.27094268798828,
          13.604691505432129,
          -2.845749855041504,
          -57.380130767822266,
          7.53364896774292,
          23.349077224731445,
          -3.7083704471588135,
          -45.335655212402344,
          -4.085426330566406,
          -16.458446502685547,
          -26.452239990234375,
          -25.083900451660156,
          -16.351886749267578,
          -22.948545455932617,
          -9.438637733459473,
          16.09231185913086,
          -11.769389152526855,
          1.2489533424377441,
          36.66089630126953,
          26.53034782409668,
          38.827919006347656,
          37.667205810546875,
          -53.515167236328125,
          -43.77086639404297,
          -39.863338470458984,
          -1.4709352254867554,
          -60.162384033203125,
          -22.55251693725586,
          -20.24930763244629,
          -7.549814224243164,
          -3.0244452953338623,
          -60.95097732543945,
          -43.110897064208984,
          -12.120771408081055,
          25.25053596496582,
          -0.6557632088661194,
          36.13226318359375,
          14.910250663757324,
          31.458154678344727,
          38.68832015991211,
          -20.922426223754883,
          30.771114349365234,
          25.470272064208984,
          9.824577331542969,
          48.33708572387695,
          11.560516357421875,
          -5.5586442947387695,
          -50.711971282958984,
          -38.382606506347656,
          -5.436252117156982,
          -55.04081726074219,
          -27.58970069885254,
          47.191368103027344,
          -52.52665710449219,
          -45.57270812988281,
          14.177992820739746,
          -11.625967979431152,
          -42.81215286254883,
          -21.057262420654297,
          -40.4034538269043,
          32.663238525390625,
          39.684017181396484,
          -23.577959060668945,
          -53.41457748413086,
          1.017449140548706,
          0.34672674536705017,
          8.37289047241211,
          -43.54195785522461,
          -24.437044143676758,
          16.65036392211914,
          -28.230844497680664,
          30.644779205322266,
          18.499183654785156,
          -49.50660705566406,
          20.430797576904297,
          3.0783612728118896,
          39.793434143066406,
          -17.420331954956055,
          -37.67428970336914,
          45.31303787231445,
          -26.19325065612793,
          -5.879194259643555,
          34.889915466308594,
          -59.87757110595703,
          -32.3040657043457,
          -0.3037712275981903,
          -30.16579818725586,
          -35.61994552612305,
          -13.529996871948242,
          -45.58448791503906,
          -47.45595169067383,
          -1.5931587219238281,
          16.55922508239746,
          20.586925506591797,
          15.018729209899902,
          9.763101577758789,
          -34.89118194580078,
          -1.5137684345245361,
          27.560649871826172,
          -49.58074188232422,
          -45.49156951904297,
          -30.687448501586914,
          -1.566552996635437,
          56.93122482299805,
          43.23212814331055,
          45.864620208740234,
          38.57923889160156,
          8.40180492401123,
          -48.98072052001953,
          4.595784664154053,
          -40.79520797729492,
          -40.02622604370117,
          28.41895866394043,
          9.46922779083252,
          4.35324764251709,
          -43.83954620361328,
          -22.236452102661133,
          -8.576382637023926,
          -36.474212646484375,
          0.9442995190620422,
          9.730169296264648,
          37.3518180847168,
          -38.440547943115234,
          -38.36852264404297,
          -54.554595947265625,
          8.697343826293945,
          34.46562957763672,
          23.143455505371094,
          20.340656280517578,
          -27.78885269165039,
          -46.28669738769531,
          -41.43479537963867,
          9.013019561767578,
          47.497562408447266,
          29.39287567138672,
          27.8949031829834,
          3.1571431159973145,
          -43.20027542114258,
          10.073201179504395,
          20.917741775512695,
          21.44797706604004,
          7.550178050994873,
          42.175758361816406,
          5.622984409332275,
          -34.236549377441406,
          25.264305114746094,
          1.992113471031189,
          19.66375732421875,
          38.4439697265625,
          -1.5660057067871094,
          32.197174072265625,
          -8.280097961425781,
          47.396949768066406,
          11.39888858795166,
          15.848219871520996,
          10.515707015991211,
          -44.430484771728516,
          -29.674345016479492,
          55.038509368896484,
          7.933657169342041,
          14.682723999023438,
          11.245260238647461,
          23.600908279418945,
          53.251792907714844,
          -30.94437599182129,
          -37.30012893676758,
          -54.094642639160156,
          27.679363250732422,
          2.780526876449585,
          50.11134719848633,
          -60.25240707397461,
          33.96037673950195,
          26.50183868408203,
          8.643939971923828,
          -32.09573745727539,
          30.192935943603516,
          22.745241165161133,
          -16.299230575561523,
          -3.235584020614624,
          3.923314332962036,
          -31.140371322631836,
          30.260679244995117,
          4.481879711151123,
          26.585966110229492,
          24.637826919555664,
          -43.73668670654297,
          -6.68299674987793,
          31.93581771850586,
          18.624881744384766,
          -5.796596527099609,
          23.14834976196289,
          17.438688278198242,
          -18.75608253479004,
          16.119035720825195,
          -56.35142135620117,
          -41.616336822509766,
          14.706451416015625,
          35.11994934082031,
          12.456611633300781,
          -21.028657913208008,
          26.06685447692871,
          -31.007308959960938,
          -13.895546913146973,
          41.202476501464844,
          -23.584733963012695,
          -13.234955787658691,
          13.329850196838379,
          -2.764927864074707,
          -19.992284774780273,
          -9.987832069396973,
          16.161142349243164,
          -11.191276550292969,
          37.54362106323242,
          20.599010467529297,
          -44.30645751953125,
          1.6264944076538086,
          -53.97639846801758,
          13.160903930664062,
          44.81561279296875,
          53.27560043334961,
          -33.3231201171875,
          17.950206756591797,
          31.753650665283203,
          -21.606115341186523,
          52.351104736328125,
          64.63306427001953,
          41.6324577331543,
          1.9326015710830688,
          18.143266677856445,
          9.234338760375977,
          -31.25057601928711,
          10.255404472351074,
          6.034083366394043,
          -18.355268478393555,
          -10.7285737991333,
          -39.07826614379883,
          -1.507624626159668,
          33.921199798583984,
          -1.8819481134414673,
          44.76982879638672,
          20.092987060546875,
          39.894615173339844,
          -6.4878106117248535,
          28.00130844116211,
          -40.3395881652832,
          2.0454728603363037,
          -51.86016082763672,
          19.49601936340332,
          12.17782974243164,
          -27.47374725341797,
          34.015281677246094,
          53.15403366088867,
          -34.65238952636719,
          -2.9420394897460938,
          -48.76894760131836,
          38.02570724487305,
          8.03969955444336,
          -39.966678619384766,
          20.750654220581055,
          -55.04694366455078,
          14.027546882629395,
          25.428512573242188,
          -4.8591132164001465,
          36.370201110839844,
          49.01667022705078,
          3.1953277587890625,
          14.429884910583496,
          3.483502149581909,
          57.54838180541992,
          55.37714767456055,
          -57.50238037109375,
          -16.00602149963379,
          52.56737518310547,
          13.425663948059082,
          18.659303665161133,
          20.771900177001953,
          0.6825773119926453,
          -39.388954162597656,
          -0.9334273338317871,
          -3.10296893119812,
          19.740049362182617,
          39.81941604614258,
          -38.34904098510742,
          23.25913429260254,
          30.9600772857666,
          8.53891658782959,
          23.29119873046875,
          43.34933090209961,
          22.083209991455078,
          -61.04403305053711,
          -6.807320594787598,
          13.372809410095215,
          30.486326217651367,
          -6.614024639129639,
          -4.081068992614746,
          -31.730459213256836,
          -23.92630958557129,
          -7.108392238616943,
          2.328749418258667,
          10.227675437927246,
          -39.673187255859375,
          6.002442359924316,
          26.399242401123047,
          47.00632858276367,
          33.03023910522461,
          17.900802612304688,
          -20.90644073486328,
          -16.403343200683594,
          26.825040817260742,
          -48.394805908203125,
          -4.985622406005859,
          1.767968773841858,
          17.343692779541016,
          -20.73655891418457,
          4.453400135040283,
          -41.89487838745117,
          21.97102165222168,
          -41.10934066772461,
          23.283790588378906,
          18.405027389526367,
          -56.30437088012695,
          -2.0501129627227783,
          -35.19117736816406,
          45.27122116088867,
          49.02153015136719,
          -26.953144073486328,
          -53.78914260864258,
          -32.761104583740234,
          -17.951862335205078,
          -42.854679107666016,
          -5.716631889343262,
          -3.96356463432312,
          16.653121948242188,
          -13.782336235046387,
          32.144630432128906,
          52.24031066894531,
          -8.634716033935547,
          26.82009506225586,
          -54.48623275756836,
          7.895310878753662,
          36.416038513183594,
          28.39621925354004,
          31.994022369384766,
          -39.466407775878906,
          -28.29999542236328,
          -39.16271209716797,
          16.054473876953125,
          -54.17035675048828,
          -15.991196632385254,
          -21.02724838256836,
          24.424884796142578,
          -29.341293334960938,
          -1.7011209726333618,
          -20.935155868530273,
          -22.741287231445312,
          26.245777130126953,
          0.5338866114616394,
          49.97719955444336,
          -11.078044891357422,
          26.572738647460938,
          28.2972354888916,
          22.946718215942383,
          33.21195983886719,
          20.880821228027344,
          -41.09698486328125,
          -41.103050231933594,
          -26.850170135498047,
          -33.63408660888672,
          40.71195602416992,
          -39.41450881958008,
          -20.389379501342773,
          -11.364124298095703,
          -23.78540802001953,
          6.826014995574951,
          11.178731918334961,
          30.005483627319336,
          46.85155487060547,
          -32.558528900146484,
          33.74091339111328,
          -31.679479598999023,
          -13.789603233337402,
          -34.52178955078125,
          30.279102325439453,
          20.058042526245117,
          -9.637937545776367,
          -19.267595291137695,
          -41.50607681274414,
          28.900814056396484,
          -18.36517333984375,
          -1.5217950344085693,
          53.25680160522461,
          -19.574352264404297,
          -27.44879913330078,
          41.68684768676758,
          20.448484420776367,
          55.01472473144531,
          -36.81631088256836,
          -11.870772361755371,
          -27.11825180053711,
          32.847618103027344,
          -41.060585021972656,
          -49.65707015991211,
          -44.043434143066406,
          29.662729263305664,
          40.438232421875,
          19.811647415161133,
          48.27054214477539,
          8.770589828491211,
          57.87820053100586,
          11.264019966125488,
          26.730527877807617,
          -55.7908821105957,
          11.290069580078125,
          -48.96609878540039,
          -28.907793045043945,
          33.52351379394531,
          -31.053268432617188,
          -18.20917320251465,
          -42.647125244140625,
          34.955345153808594,
          44.831787109375,
          -36.16374206542969,
          30.29030418395996,
          -47.479576110839844,
          24.405046463012695,
          14.212231636047363,
          25.683841705322266,
          -50.4522705078125,
          -23.168560028076172,
          -45.70362854003906,
          17.38918113708496,
          -32.036277770996094,
          -46.59403991699219,
          35.988121032714844,
          -52.67036819458008,
          16.226314544677734,
          47.25151062011719,
          10.187979698181152,
          11.884540557861328,
          34.0760383605957,
          -19.831878662109375,
          -18.494462966918945,
          50.08119583129883,
          -35.60590744018555,
          -40.47044372558594,
          29.042158126831055,
          -49.351715087890625,
          47.76005935668945,
          -22.929481506347656,
          16.578834533691406,
          35.96241760253906,
          57.688194274902344,
          -46.86674499511719,
          24.586013793945312,
          -48.06938934326172,
          26.16095733642578,
          43.13832473754883,
          -52.461029052734375,
          45.3475227355957,
          -58.71956253051758,
          -5.011044502258301,
          -22.070077896118164,
          -13.508771896362305,
          -23.53692626953125,
          -21.988780975341797,
          -38.82461166381836,
          -49.70464324951172,
          -38.057899475097656,
          47.47306442260742,
          -27.738067626953125,
          36.813533782958984,
          16.145326614379883,
          27.942842483520508,
          -37.19014358520508,
          7.089616775512695,
          -2.4980387687683105,
          44.10758590698242,
          -17.149660110473633,
          -37.00617980957031,
          33.022640228271484,
          8.065597534179688,
          7.823727607727051,
          12.603218078613281,
          -54.89695739746094,
          25.844385147094727,
          16.8442440032959,
          14.411617279052734,
          22.365251541137695,
          -21.96169090270996,
          -9.961236953735352,
          1.2662819623947144,
          23.7957820892334,
          -33.81810760498047,
          -39.244197845458984,
          20.886613845825195,
          17.02737045288086,
          -51.93321228027344,
          -40.103519439697266,
          12.03897762298584,
          -33.96788024902344,
          2.8411319255828857,
          -59.46253967285156,
          18.058603286743164,
          16.72559928894043,
          14.782356262207031,
          -15.390788078308105,
          17.853824615478516,
          33.9459342956543,
          -18.868364334106445,
          -39.47486877441406,
          -13.242633819580078,
          37.74525833129883,
          -17.302295684814453,
          -53.00933837890625,
          -5.255608081817627,
          -37.32350540161133,
          57.01584243774414,
          46.773292541503906,
          -44.94159698486328,
          -32.5312385559082,
          -4.695366859436035,
          -5.630374431610107,
          -52.50849533081055,
          -12.803000450134277,
          11.913570404052734,
          6.069947719573975,
          -14.209213256835938,
          -27.566123962402344,
          53.546478271484375,
          -16.448881149291992,
          -15.029415130615234,
          42.35368728637695,
          28.25344467163086,
          11.9541654586792,
          -39.52212142944336,
          64.30108642578125,
          -30.408540725708008,
          4.986608982086182,
          3.594249725341797,
          -49.731529235839844,
          -22.588275909423828,
          37.65953826904297,
          39.025550842285156,
          36.568519592285156,
          36.33943176269531,
          22.44525718688965,
          -6.916141510009766,
          55.297210693359375,
          22.24274444580078,
          20.044851303100586,
          50.04587173461914,
          58.202293395996094,
          45.77532958984375,
          30.196744918823242,
          48.03760528564453,
          51.66254806518555,
          -12.01596736907959,
          0.7564711570739746,
          -44.037540435791016,
          7.713291645050049,
          26.375316619873047,
          44.17430877685547,
          -61.28615951538086,
          24.58298110961914,
          -5.696378707885742,
          9.812124252319336,
          33.719573974609375,
          -51.704010009765625,
          27.497356414794922,
          15.946764945983887,
          2.521549701690674,
          -1.6278719902038574,
          29.49761962890625,
          -47.250118255615234,
          -2.2793009281158447,
          37.09332275390625,
          42.53282165527344,
          -42.210060119628906,
          27.815074920654297,
          30.791423797607422,
          12.669524192810059,
          -47.0350341796875,
          24.996158599853516,
          31.09527015686035,
          17.92445945739746,
          23.20743751525879,
          -19.445764541625977,
          13.1636381149292,
          1.9640096426010132,
          -11.927505493164062,
          25.911808013916016,
          22.105321884155273,
          -2.252516508102417,
          37.402320861816406,
          -16.260791778564453,
          -22.17726707458496,
          51.61409378051758,
          9.83292293548584,
          41.53105545043945,
          -59.91838455200195,
          -53.74811553955078,
          -13.785734176635742,
          -27.2467098236084,
          7.034100532531738,
          -37.390289306640625,
          27.350875854492188,
          37.9568977355957,
          40.05555725097656,
          15.701573371887207,
          12.105488777160645,
          -17.17176055908203,
          -40.31719207763672,
          35.54558181762695,
          -35.10076141357422,
          6.755217552185059,
          -53.122802734375,
          24.92242431640625,
          13.93895435333252,
          37.51869201660156,
          -51.27726364135742,
          -0.39255309104919434,
          -18.829208374023438,
          11.712667465209961,
          -3.893394708633423,
          -20.832355499267578,
          -55.069847106933594,
          -41.34773635864258,
          -29.001611709594727,
          19.30989646911621,
          3.6171352863311768,
          25.287599563598633,
          -15.43137264251709,
          -26.66884422302246,
          -24.35686492919922,
          -20.166780471801758,
          10.762964248657227,
          -26.487844467163086,
          28.380083084106445,
          -34.32223129272461,
          -11.596386909484863,
          -16.082883834838867,
          -30.293079376220703,
          -40.28556823730469,
          49.4332389831543,
          -20.798982620239258,
          33.11249923706055,
          -17.06005096435547,
          -42.13311004638672,
          56.842655181884766,
          -34.745872497558594,
          -19.039264678955078,
          2.200653076171875,
          36.500301361083984,
          -5.750763893127441,
          -25.599864959716797,
          -22.982107162475586,
          -45.39302444458008,
          -25.214492797851562,
          -51.665950775146484,
          33.06730270385742,
          -24.236190795898438,
          21.6383113861084,
          -32.17276382446289,
          -24.229028701782227,
          -6.548266887664795,
          21.31261444091797,
          -10.595284461975098,
          33.757938385009766,
          8.514763832092285,
          -35.58732223510742,
          35.70669174194336,
          -7.371941566467285,
          14.485803604125977,
          9.966793060302734,
          -6.987893104553223,
          -49.60666275024414,
          17.310869216918945,
          2.639878034591675,
          -14.933364868164062,
          -29.119083404541016,
          -55.75380325317383,
          -39.25025177001953,
          12.11923599243164,
          -22.70159339904785,
          18.228185653686523,
          3.930325746536255,
          22.934955596923828,
          24.77534294128418,
          24.320819854736328,
          -27.029592514038086,
          37.4710807800293,
          -4.17860221862793,
          -4.388856410980225,
          20.56191635131836,
          -8.58059310913086,
          45.01665496826172,
          17.280242919921875,
          -55.98069381713867,
          35.303165435791016,
          34.75431823730469,
          -12.19738483428955,
          -18.118356704711914,
          -13.125886917114258,
          -2.853332281112671,
          -22.121992111206055,
          4.319489002227783,
          -33.46979904174805,
          9.797635078430176,
          -31.440174102783203,
          -36.65959548950195,
          -19.522321701049805,
          -45.12118911743164,
          4.514929294586182,
          -28.252965927124023,
          -31.053621292114258,
          -10.477202415466309,
          23.672117233276367,
          9.554072380065918,
          5.876183986663818,
          9.564146041870117,
          61.69938659667969,
          13.716715812683105,
          -20.54764747619629,
          -3.33117938041687,
          12.760507583618164,
          6.764037132263184,
          25.218570709228516,
          5.802961826324463,
          64.5581283569336,
          -20.53428840637207,
          -20.30792999267578,
          18.495363235473633,
          -19.50311851501465,
          -47.3343505859375,
          46.310211181640625,
          -30.809207916259766,
          -10.366949081420898,
          -26.16636848449707,
          29.067821502685547,
          -3.871513605117798,
          10.84744644165039,
          -14.815422058105469,
          -13.478174209594727,
          25.37142562866211,
          -15.48820686340332,
          27.206666946411133,
          5.823336124420166,
          11.56103229522705,
          6.1076555252075195,
          11.676980972290039,
          10.178031921386719,
          -11.945042610168457,
          -22.171960830688477,
          52.4622917175293,
          3.5038909912109375,
          30.232219696044922,
          40.165767669677734,
          -14.967517852783203,
          37.32831954956055,
          -22.70635223388672,
          20.45218276977539,
          30.766223907470703,
          -25.730592727661133,
          20.41636848449707,
          -28.405948638916016,
          26.196279525756836,
          -17.958362579345703,
          35.961212158203125,
          -32.146888732910156,
          48.9077033996582,
          9.77916145324707,
          19.5380916595459,
          30.93283462524414,
          -16.920108795166016,
          -20.314422607421875,
          -33.93323516845703,
          19.058353424072266,
          43.87156295776367,
          27.836069107055664,
          -40.579219818115234,
          -50.55581283569336,
          -9.459850311279297,
          23.749277114868164,
          11.039468765258789,
          5.040566921234131,
          54.27741241455078,
          17.780099868774414,
          -44.7786750793457,
          -1.1214598417282104,
          -15.010015487670898,
          -21.24068832397461,
          -55.36974334716797,
          -44.986549377441406,
          11.535573959350586,
          10.445038795471191,
          -48.947296142578125,
          36.97389602661133,
          16.425739288330078,
          6.708341121673584,
          49.059024810791016,
          27.19837760925293,
          8.288704872131348,
          12.779293060302734,
          -59.30190658569336,
          -2.417201280593872,
          -38.459007263183594,
          18.802154541015625,
          -6.156428813934326,
          -23.132368087768555,
          -38.50600814819336,
          -5.571082592010498,
          29.78438377380371,
          -20.228130340576172,
          -34.722503662109375,
          -41.800411224365234,
          25.197206497192383,
          36.911808013916016,
          -16.367919921875,
          30.38362693786621,
          0.3783399760723114,
          -11.750343322753906,
          -28.61065673828125,
          21.177593231201172,
          17.502338409423828,
          10.164128303527832,
          0.0323118194937706,
          -51.575599670410156,
          19.784889221191406,
          22.51462173461914,
          -0.744652271270752,
          14.91108512878418,
          -19.01352310180664,
          31.858489990234375,
          -19.92085838317871,
          -32.01517868041992,
          -25.402671813964844,
          -59.10361862182617,
          3.6503162384033203,
          -49.18971633911133,
          1.366074800491333,
          12.536697387695312,
          2.687197685241699,
          16.04899787902832,
          -31.168855667114258,
          -8.476069450378418,
          -43.426944732666016,
          -4.444032669067383,
          39.0982551574707,
          36.8744010925293,
          -55.74065399169922,
          -47.50248718261719,
          10.185491561889648,
          13.19711971282959,
          -25.3518009185791,
          -36.85184097290039,
          -28.1342716217041,
          -10.725883483886719,
          35.08390426635742,
          -0.9089459180831909,
          -13.188021659851074,
          27.254671096801758,
          -24.872106552124023,
          29.496959686279297,
          28.650461196899414,
          -39.89471435546875,
          -34.77193832397461,
          -12.210140228271484,
          31.771852493286133,
          26.664161682128906,
          38.787540435791016,
          32.21705627441406,
          12.998023986816406,
          -11.246832847595215,
          58.69232177734375,
          24.874061584472656,
          3.3803908824920654,
          -24.51835823059082,
          -4.134774684906006,
          -46.011226654052734,
          -0.6710130572319031,
          6.537924766540527,
          33.97754669189453,
          -53.80425262451172,
          -29.570640563964844,
          -35.37754440307617,
          49.120948791503906,
          -11.980111122131348,
          18.913890838623047,
          8.993815422058105,
          -10.13381576538086,
          -32.592811584472656,
          -7.137362480163574,
          -46.422847747802734,
          10.533388137817383,
          -55.190948486328125,
          -26.588092803955078,
          4.052475452423096,
          -30.761274337768555,
          -32.05221176147461,
          -38.031314849853516,
          -41.059181213378906,
          -28.325223922729492,
          -24.017065048217773,
          -51.69755554199219,
          18.397380828857422,
          2.5794386863708496,
          48.84086990356445,
          25.505605697631836,
          -27.976093292236328,
          -8.643546104431152,
          8.633577346801758,
          3.676787853240967,
          47.341670989990234,
          57.19035339355469,
          -13.728293418884277,
          -57.09041213989258,
          39.75578689575195,
          6.158336639404297,
          10.922478675842285,
          7.055932521820068,
          -57.14112854003906,
          6.565804481506348,
          -53.33152770996094,
          4.917271614074707,
          -49.050865173339844,
          2.784832239151001,
          37.257423400878906,
          -57.90639114379883,
          15.26069450378418,
          1.0624979734420776,
          -44.632911682128906,
          19.038843154907227,
          10.358325004577637,
          24.6407527923584,
          7.442299842834473,
          52.05251693725586,
          35.80207061767578,
          -10.44324779510498,
          -41.887290954589844,
          10.97511100769043,
          -9.78344440460205,
          -31.202781677246094,
          31.74175453186035,
          25.98567771911621,
          1.3820748329162598,
          -28.807369232177734,
          -10.995553016662598,
          -17.505306243896484,
          20.22136116027832,
          30.408878326416016,
          18.725330352783203,
          9.985504150390625,
          -13.394845962524414,
          -46.60136413574219,
          -17.230716705322266,
          -20.43902587890625,
          21.485048294067383,
          10.106717109680176,
          40.72093963623047,
          32.6096076965332,
          -17.752323150634766,
          -45.60068893432617,
          13.75594425201416,
          -35.271175384521484,
          17.702987670898438,
          6.807497024536133,
          31.046709060668945,
          -9.177355766296387,
          38.45960998535156,
          -0.4896015226840973,
          -28.38467788696289,
          -49.07876205444336,
          -17.265003204345703,
          34.010536193847656,
          -17.046396255493164,
          41.14363479614258,
          -48.93351364135742,
          -37.46257781982422,
          4.8896708488464355,
          -40.696075439453125,
          2.724716901779175,
          27.559207916259766,
          27.249710083007812,
          3.583573341369629,
          -17.702190399169922,
          45.39301300048828,
          -55.05747985839844,
          -11.445213317871094,
          21.637866973876953,
          -43.938045501708984,
          -49.444305419921875,
          -1.9515271186828613,
          21.180723190307617,
          12.335588455200195,
          -30.341840744018555,
          49.21800994873047,
          -23.07820701599121,
          -33.78212356567383,
          5.438704967498779,
          -46.47357177734375,
          3.726057291030884,
          -9.10494613647461,
          -31.17234230041504,
          36.391048431396484,
          11.528843879699707,
          -10.220613479614258,
          -45.39134216308594,
          32.070438385009766,
          22.614295959472656,
          24.975051879882812,
          36.42985534667969,
          -40.55625534057617,
          12.199872970581055,
          43.99467086791992,
          1.624072551727295,
          16.628477096557617,
          -5.717628002166748,
          9.94288444519043,
          15.264368057250977,
          -4.386000156402588,
          8.57562255859375,
          40.35199737548828,
          9.184456825256348,
          -32.37370681762695,
          30.28421974182129,
          -25.715194702148438,
          -12.63262939453125,
          10.273951530456543,
          17.999238967895508,
          41.587215423583984,
          54.78044128417969,
          13.93775463104248,
          -4.2026543617248535,
          15.897604942321777,
          23.40903091430664,
          11.213662147521973,
          34.09455490112305,
          -26.837427139282227,
          -22.70708465576172,
          -12.282234191894531,
          -32.98859786987305,
          2.603618621826172,
          38.70365905761719,
          -43.03761291503906,
          39.34779739379883,
          -31.124114990234375,
          31.006244659423828,
          -0.6405550241470337,
          -38.928199768066406,
          -43.84229278564453,
          -2.7661969661712646,
          42.65094757080078,
          -14.587191581726074,
          -61.79689025878906,
          -28.966400146484375,
          17.845726013183594,
          -20.8367977142334,
          44.01526641845703,
          -18.572744369506836,
          47.94818878173828,
          -59.67022705078125,
          -8.013612747192383,
          -60.6375846862793,
          -52.87577438354492,
          -18.43699836730957,
          -36.01553726196289,
          40.858333587646484,
          28.12630844116211,
          -53.341094970703125,
          0.23128379881381989,
          13.681984901428223,
          -42.54365921020508,
          42.80241775512695,
          18.106159210205078,
          -26.83730125427246,
          -7.110325336456299,
          40.714202880859375,
          -13.814291000366211,
          33.9356803894043,
          -5.0579071044921875,
          -46.89484405517578,
          33.7470588684082,
          -29.222885131835938,
          33.250274658203125,
          -27.28860855102539,
          5.181249141693115,
          11.44591236114502,
          10.97568416595459,
          -31.26543617248535,
          -36.94619369506836,
          -57.123077392578125,
          -24.252710342407227,
          19.187143325805664,
          -18.2690372467041,
          -41.22649383544922,
          34.46589279174805,
          13.470248222351074,
          -41.93858337402344,
          43.98441696166992,
          -11.977997779846191,
          -5.941257476806641,
          1.0563559532165527,
          4.934002876281738,
          -6.758175849914551,
          37.51369094848633,
          -41.53181838989258,
          2.2980456352233887,
          7.599977016448975,
          -21.533632278442383,
          -48.25188446044922,
          -20.388309478759766,
          -5.098453998565674,
          22.235946655273438,
          -46.435157775878906,
          -22.018098831176758,
          -38.280670166015625,
          3.5515360832214355,
          38.899375915527344,
          -14.693826675415039,
          -32.49339294433594,
          -30.296140670776367,
          -28.541580200195312,
          -13.536643028259277,
          -45.323524475097656,
          39.994483947753906,
          -17.738170623779297,
          11.161871910095215,
          10.97511100769043,
          -37.777400970458984,
          3.084172487258911,
          -36.229766845703125,
          41.55332565307617,
          -35.03605270385742,
          31.82729148864746,
          7.647736549377441,
          12.70220947265625,
          27.466073989868164,
          15.858437538146973,
          32.57741928100586,
          58.00164031982422,
          -3.6094415187835693,
          -5.415792942047119,
          -2.384774684906006,
          7.926972389221191,
          7.014284133911133,
          -5.1551408767700195,
          -25.44134521484375,
          3.8012948036193848,
          0.8217546939849854,
          0.2960498631000519,
          42.05123519897461,
          -46.074378967285156,
          39.07305145263672,
          -7.665249347686768,
          -21.287019729614258,
          30.784902572631836,
          -54.94282531738281,
          -26.31351661682129,
          37.93275833129883,
          -44.35039520263672,
          22.4190731048584,
          -56.62882614135742,
          2.671359062194824,
          11.860857963562012,
          52.90703582763672,
          31.763507843017578,
          25.275638580322266,
          48.30643844604492,
          -47.67349624633789,
          -44.224403381347656,
          19.88479232788086,
          43.98011016845703,
          -39.77971267700195,
          -41.936492919921875,
          -38.11292266845703,
          12.357931137084961,
          6.326089859008789,
          5.397773742675781,
          -9.233403205871582,
          -21.416576385498047,
          -32.30751419067383,
          -29.512784957885742,
          -2.424072027206421,
          -41.34213638305664,
          -14.832079887390137,
          -17.990074157714844,
          11.446358680725098,
          19.334810256958008,
          53.5116081237793,
          26.061819076538086,
          -47.37440872192383,
          -54.532745361328125,
          -43.31316375732422,
          -23.62253189086914,
          -31.374099731445312,
          7.55210018157959,
          15.40294361114502,
          -32.707435607910156,
          6.7193827629089355,
          16.094532012939453,
          3.8359735012054443,
          16.719600677490234,
          -20.61393928527832,
          -55.748252868652344,
          18.86495018005371,
          11.837674140930176,
          19.145292282104492,
          -31.8533935546875,
          17.101001739501953,
          19.12022590637207,
          -8.032652854919434,
          46.551666259765625,
          -5.488552570343018,
          21.288402557373047,
          -7.302763938903809,
          -30.833984375,
          18.865060806274414,
          -15.071388244628906,
          -56.4796028137207,
          -26.08702850341797,
          37.343143463134766,
          -50.83112716674805,
          -33.61178970336914,
          48.62895202636719,
          13.206160545349121,
          -52.71034240722656,
          57.11042785644531,
          -24.53202247619629,
          -44.300132751464844,
          -19.380186080932617,
          12.454943656921387,
          -49.0091438293457,
          -21.706430435180664,
          -4.081602096557617,
          -11.631110191345215,
          -8.498748779296875,
          -29.147201538085938,
          -42.900482177734375,
          -52.20218276977539,
          22.138103485107422,
          -10.626952171325684,
          50.95811462402344,
          -52.61996841430664,
          -23.621505737304688,
          11.469402313232422,
          21.8449649810791,
          35.294742584228516,
          -56.58256912231445,
          -24.552019119262695,
          -26.70965576171875,
          -10.133011817932129,
          25.346282958984375,
          38.85634994506836,
          52.495601654052734,
          -18.240325927734375,
          -30.249706268310547,
          44.41428756713867,
          3.780503988265991,
          -58.60355758666992,
          8.173069953918457,
          -15.89465045928955,
          52.279422760009766,
          -41.72757339477539,
          -54.42578887939453,
          -47.531124114990234,
          -1.09523606300354,
          -46.55608367919922,
          -3.0564136505126953,
          -12.63945484161377,
          1.937248945236206,
          -26.710573196411133,
          25.187206268310547,
          10.675467491149902,
          -28.945907592773438,
          3.0780515670776367,
          -28.643129348754883,
          -12.964888572692871,
          14.42092227935791,
          23.193206787109375,
          14.396848678588867,
          44.43243408203125,
          -15.021653175354004,
          13.990995407104492,
          -33.10511779785156,
          16.38589859008789,
          11.162652015686035,
          14.106982231140137,
          -50.9423942565918,
          -10.125515937805176,
          -31.60955810546875,
          18.84511947631836,
          -48.99451446533203,
          -48.564476013183594,
          -31.21515655517578,
          -9.566099166870117,
          9.662375450134277,
          -29.48560905456543,
          12.458331108093262,
          -55.952552795410156,
          21.93315315246582,
          4.244353294372559,
          24.412822723388672,
          41.14473342895508,
          4.854565143585205,
          -45.56783676147461,
          -33.92882537841797,
          -14.133549690246582,
          -35.26622772216797,
          3.0234742164611816,
          -22.812763214111328,
          -10.205645561218262,
          22.635765075683594,
          -25.471195220947266,
          38.18000030517578,
          -1.9768673181533813,
          17.10477638244629,
          33.93584442138672,
          33.79869079589844,
          15.666927337646484,
          9.186884880065918,
          7.71396017074585,
          5.293733596801758,
          -25.47355842590332,
          -18.325532913208008,
          20.07170867919922,
          -45.96112060546875,
          -30.567148208618164,
          20.53683853149414,
          -15.638802528381348,
          -2.495076894760132,
          25.543991088867188,
          23.22612190246582,
          22.20258903503418,
          -17.477214813232422,
          -8.42281723022461,
          -19.06378173828125,
          -16.356542587280273,
          -13.618975639343262,
          9.254837036132812,
          -56.23899841308594,
          35.67161178588867,
          -0.499362051486969,
          37.74527359008789,
          -31.93732261657715,
          -20.83092498779297,
          -17.15251922607422,
          21.604503631591797,
          19.39871597290039,
          -26.714500427246094,
          38.736297607421875,
          59.46417236328125,
          -38.454524993896484,
          15.78368091583252,
          -23.318294525146484,
          35.24074935913086,
          22.217252731323242,
          -29.313501358032227,
          -20.61357307434082,
          -1.600785493850708,
          15.068174362182617,
          0.861469030380249,
          -60.954933166503906,
          -28.651403427124023,
          -38.64493179321289,
          3.328394889831543,
          35.77891540527344,
          28.821443557739258,
          -51.952030181884766,
          -16.729978561401367,
          -33.70570755004883,
          14.82774829864502,
          1.1342390775680542,
          -20.197662353515625,
          4.446491241455078,
          57.38813400268555,
          -25.803857803344727,
          43.83207321166992,
          2.791412591934204,
          56.074256896972656,
          -38.336204528808594,
          -24.916259765625,
          17.255931854248047,
          15.796026229858398,
          64.25352478027344,
          -12.454452514648438,
          -13.449417114257812,
          -41.47114944458008,
          14.2893648147583,
          -47.16776657104492,
          -36.17007064819336,
          28.355913162231445,
          -25.19889259338379,
          -38.21779251098633,
          27.521041870117188,
          56.47811508178711,
          -46.05624008178711,
          -4.634333610534668,
          7.849241733551025,
          2.3190324306488037,
          24.528051376342773,
          10.608216285705566,
          40.11072540283203,
          -17.201244354248047,
          -52.61713409423828,
          25.870466232299805,
          17.261430740356445,
          -20.110107421875,
          28.00855255126953,
          8.587130546569824,
          8.641307830810547,
          6.571279525756836,
          -16.289133071899414,
          56.4534797668457,
          7.185441970825195,
          35.56480407714844,
          -39.24668502807617,
          12.803763389587402,
          -42.61636734008789,
          -30.19957733154297,
          25.8494873046875,
          21.571287155151367,
          -35.23466491699219,
          20.787403106689453,
          10.55086612701416,
          1.7721682786941528,
          51.15813064575195,
          32.83356857299805,
          38.91027069091797,
          -45.35586166381836,
          18.566390991210938,
          24.557331085205078,
          38.181949615478516,
          -22.436368942260742,
          6.693815231323242,
          -62.466087341308594,
          -7.8566508293151855,
          -13.562507629394531,
          -41.945335388183594,
          11.096054077148438,
          14.03133487701416,
          -56.878700256347656,
          23.989166259765625,
          -33.5922737121582,
          -50.125038146972656,
          -13.928316116333008,
          -18.16915512084961,
          16.833600997924805,
          -6.6661906242370605,
          54.56314468383789,
          -8.9812650680542,
          12.507508277893066,
          19.209978103637695,
          -47.157554626464844,
          0.3151566982269287,
          38.217689514160156,
          48.6104850769043,
          39.96197509765625,
          17.63161849975586,
          -36.730262756347656,
          5.188238143920898,
          -2.632050037384033,
          19.545080184936523,
          21.883190155029297,
          10.747690200805664,
          22.49470329284668,
          1.9688798189163208,
          47.61424255371094,
          -35.417327880859375,
          -12.65213680267334,
          -52.1389045715332,
          47.62736892700195,
          -37.670440673828125,
          53.24532699584961,
          -13.644431114196777,
          -21.523948669433594,
          -34.013465881347656,
          -22.24677276611328,
          -57.81710433959961,
          19.55325698852539,
          -32.838680267333984,
          37.277099609375,
          -38.88191223144531,
          -9.860681533813477,
          -1.6895887851715088,
          10.608302116394043,
          -46.96566390991211,
          -14.472506523132324,
          -22.82471466064453,
          62.548648834228516,
          11.222949981689453,
          3.9079806804656982,
          37.23636245727539,
          -3.730159282684326,
          -56.017879486083984,
          29.848384857177734,
          -9.638943672180176,
          23.854150772094727,
          -11.53266716003418,
          -9.379356384277344,
          24.858795166015625,
          -25.7430419921875,
          30.15178108215332,
          32.68248748779297,
          -7.736510753631592,
          28.67412757873535,
          52.25564193725586,
          28.471942901611328,
          39.56580352783203,
          -23.414125442504883,
          22.267200469970703,
          33.11612319946289,
          15.31977653503418,
          37.557456970214844,
          6.698573112487793,
          -1.712401032447815,
          21.416309356689453,
          20.818490982055664,
          1.3730682134628296,
          30.95729637145996,
          -36.925506591796875,
          -0.9961948394775391,
          -7.887168884277344,
          -10.619239807128906,
          31.26886749267578,
          -59.884490966796875,
          -5.901768207550049,
          -45.37186050415039,
          -39.46784973144531,
          -61.75364685058594,
          20.929012298583984,
          -3.931589126586914,
          12.767745018005371,
          37.6307487487793,
          19.554718017578125,
          37.73030090332031,
          42.514522552490234,
          22.785524368286133,
          -24.3521785736084,
          -33.449729919433594,
          30.964380264282227,
          -8.383223533630371,
          -26.195146560668945,
          -36.63435363769531,
          24.927974700927734,
          3.711608648300171,
          -20.896093368530273,
          -16.468599319458008,
          -11.059679985046387,
          64.4927978515625,
          -2.7286245822906494,
          -43.095558166503906,
          48.88788604736328,
          -6.679849147796631,
          -54.475303649902344,
          47.5516242980957,
          -22.684057235717773,
          -53.08048629760742,
          -35.44834899902344,
          -25.701332092285156,
          -20.980897903442383,
          -8.298196792602539,
          -55.03748321533203,
          13.784153938293457,
          -26.65909194946289,
          -59.258609771728516,
          18.19503402709961,
          25.638784408569336,
          20.684385299682617,
          15.67226791381836,
          33.01515579223633,
          5.921839714050293,
          -45.54563522338867,
          -42.452857971191406,
          -25.83224868774414,
          -48.03498458862305,
          -29.82196617126465,
          49.060943603515625,
          -41.01870346069336,
          -0.3092995584011078,
          2.0854289531707764,
          21.82265853881836,
          -30.365476608276367,
          -21.17754554748535,
          -35.29694366455078,
          -51.46123504638672,
          -0.04594898596405983,
          -29.379636764526367,
          -13.2050199508667,
          -51.93681335449219,
          -20.08875846862793,
          -25.319074630737305,
          39.28496551513672,
          4.609368801116943,
          19.8312931060791,
          7.967531681060791,
          -40.3631591796875,
          15.38625431060791,
          -56.81792068481445,
          36.15595245361328,
          0.23917363584041595,
          -51.18824005126953,
          19.408061981201172,
          -35.51631546020508,
          -24.191322326660156,
          -45.421756744384766,
          31.725730895996094,
          -36.65967559814453,
          39.93928909301758,
          3.4651224613189697,
          -19.790685653686523,
          37.02971267700195,
          27.45351219177246,
          -55.57817077636719,
          53.00372314453125,
          -27.51764488220215,
          61.367431640625,
          18.111196517944336,
          -6.835513114929199,
          -7.218010902404785,
          14.702003479003906,
          -24.35012435913086,
          19.760881423950195,
          39.76231384277344,
          -26.501083374023438,
          48.69630432128906,
          23.524518966674805,
          6.43707799911499,
          26.504837036132812,
          -31.612579345703125,
          23.13189125061035,
          -6.32442569732666,
          -3.5495312213897705,
          16.979236602783203,
          32.1680908203125,
          6.676746368408203,
          50.58150863647461,
          13.564274787902832,
          17.946096420288086,
          -35.17475891113281,
          30.18680763244629,
          5.510148525238037,
          -13.015894889831543,
          -0.5880048274993896,
          -9.598089218139648,
          -26.198083877563477,
          35.037261962890625,
          -6.905360221862793,
          27.62342643737793,
          -19.954368591308594,
          17.502248764038086,
          16.62510871887207,
          8.667291641235352,
          -32.29399871826172,
          41.48714828491211,
          25.6353759765625,
          51.97358322143555,
          -45.4972038269043,
          7.475899696350098,
          12.51672649383545,
          36.21508026123047,
          -37.980224609375,
          53.62568664550781,
          -9.000408172607422,
          22.452709197998047,
          12.923511505126953,
          -13.808869361877441,
          3.1072237491607666,
          -36.11331558227539,
          -24.51070213317871,
          -25.471588134765625,
          -25.88448143005371,
          32.53683853149414,
          -10.894644737243652,
          4.085068702697754,
          24.689722061157227,
          15.073968887329102,
          41.22535705566406,
          -22.767253875732422,
          -8.442275047302246,
          -17.48016357421875,
          43.12977981567383,
          39.30398178100586,
          36.4052848815918,
          -23.323688507080078,
          -5.297100067138672,
          -20.490999221801758,
          -23.213911056518555,
          5.588622570037842,
          22.761934280395508,
          -14.399868965148926,
          21.11095428466797,
          4.07464075088501,
          41.284271240234375,
          -59.99010467529297,
          -53.188499450683594,
          -23.362777709960938,
          -43.00728988647461,
          26.578245162963867,
          -1.110300898551941,
          -1.996393084526062,
          42.96437072753906,
          37.07855224609375,
          2.0942115783691406,
          -38.663307189941406,
          12.461173057556152,
          26.762136459350586,
          -33.88300323486328,
          -4.802857875823975,
          -15.480871200561523,
          -8.502860069274902,
          45.50108337402344,
          -4.003131866455078,
          20.31890106201172,
          -29.253868103027344,
          27.331302642822266,
          -3.7776827812194824,
          -46.18171310424805,
          -21.107635498046875,
          15.905919075012207,
          -12.199265480041504,
          -24.5683650970459,
          -8.06865119934082,
          27.489120483398438,
          24.173246383666992,
          1.75894296169281,
          40.161460876464844,
          35.95974349975586,
          19.288143157958984,
          43.65185546875,
          53.280853271484375,
          -41.069339752197266,
          1.7187129259109497,
          27.22568130493164,
          -24.402559280395508,
          29.03668785095215,
          -18.953025817871094,
          13.515336990356445,
          42.58870315551758,
          31.023162841796875,
          30.445369720458984,
          2.3813037872314453,
          37.0226936340332,
          -3.0017290115356445,
          -23.223487854003906,
          -11.665438652038574,
          -2.097423553466797,
          -11.150565147399902,
          56.103614807128906,
          7.487520217895508,
          53.81892776489258,
          44.90615463256836,
          -21.236371994018555,
          8.924695014953613,
          -26.612892150878906,
          7.925365924835205,
          33.97197723388672,
          56.22080993652344,
          -44.77616882324219,
          -0.6856221556663513,
          -27.511241912841797,
          -1.4376318454742432,
          6.038367748260498,
          45.06962966918945,
          15.677360534667969,
          0.7675569653511047,
          28.844655990600586,
          -15.954655647277832,
          -48.15542984008789,
          10.234128952026367,
          55.295406341552734,
          -0.1871923804283142,
          32.751670837402344,
          -0.3037843406200409,
          -27.095195770263672,
          7.168073654174805,
          50.8776741027832,
          25.696430206298828,
          9.064455032348633,
          -18.517919540405273,
          -42.68620300292969,
          -59.520748138427734,
          26.36541748046875,
          -4.336505889892578,
          -15.070151329040527,
          -22.90069580078125,
          2.812380313873291,
          14.697035789489746,
          32.9530029296875,
          42.63166046142578,
          17.605873107910156,
          48.419883728027344,
          -55.71036911010742,
          -8.037689208984375,
          -18.42139434814453,
          6.794419288635254,
          11.258946418762207,
          -27.27241325378418,
          42.91596221923828,
          -9.449358940124512,
          2.478407621383667,
          13.883502960205078,
          36.08902359008789,
          -16.929738998413086,
          42.328433990478516,
          21.16696548461914,
          -31.634273529052734,
          54.2380485534668,
          9.013211250305176,
          -20.346670150756836,
          -56.44115447998047,
          -37.41673278808594,
          15.117729187011719,
          -41.77357864379883,
          -32.35464859008789,
          14.82370662689209,
          -9.019859313964844,
          -38.238807678222656,
          -47.226932525634766,
          51.08114242553711,
          -17.68109703063965,
          22.95193099975586,
          3.0276541709899902,
          -19.03557014465332,
          4.370193958282471,
          8.293977737426758,
          -8.949954986572266,
          4.546505928039551,
          -30.900619506835938,
          19.273107528686523,
          1.3314608335494995,
          18.87809181213379,
          8.29457950592041,
          33.08954620361328,
          -21.668481826782227,
          34.153255462646484,
          30.327552795410156,
          17.585411071777344,
          33.33383560180664,
          59.47136688232422,
          -37.70302200317383,
          -3.886474370956421,
          13.85223388671875,
          23.972585678100586,
          15.694171905517578,
          21.500768661499023,
          -48.8116569519043,
          -19.74433135986328,
          -21.83326530456543,
          -5.623447418212891,
          7.477336406707764,
          14.834684371948242,
          -13.936817169189453,
          15.106017112731934,
          32.904212951660156,
          -20.84819221496582,
          -13.41179370880127,
          -7.75502872467041,
          30.284841537475586,
          51.673301696777344,
          -17.323413848876953,
          -39.82328414916992,
          -8.619853019714355,
          33.999855041503906,
          -63.894012451171875,
          -10.86395263671875,
          48.78488540649414,
          46.05210876464844,
          18.37580108642578,
          -43.76146697998047,
          -15.9088134765625,
          1.237960696220398,
          27.240201950073242,
          -4.543740749359131,
          -62.310733795166016,
          -10.00802993774414,
          -4.379371643066406,
          21.158321380615234,
          60.181217193603516,
          38.972251892089844,
          11.273733139038086,
          7.506326198577881,
          -19.586374282836914,
          50.14164733886719,
          -48.81837463378906,
          19.67193031311035,
          -1.4721622467041016,
          9.5243558883667,
          -1.1747307777404785,
          14.861287117004395,
          -2.3815317153930664,
          57.10630798339844,
          -20.045122146606445,
          35.433589935302734,
          -41.562557220458984,
          7.002276420593262,
          21.804990768432617,
          33.26934814453125,
          -13.038532257080078,
          2.472877025604248,
          15.868720054626465,
          -30.305992126464844,
          29.869140625,
          -17.466690063476562,
          36.57395553588867,
          -38.527557373046875,
          -36.90291213989258,
          42.35306167602539,
          -12.37735652923584,
          19.7683162689209,
          25.085275650024414,
          -9.010457038879395,
          -8.218477249145508,
          42.282711029052734,
          17.645320892333984,
          -3.373415231704712,
          -23.506322860717773,
          2.8123884201049805,
          -8.969927787780762,
          -23.416187286376953,
          25.692625045776367,
          4.660624980926514,
          18.234458923339844,
          34.228553771972656,
          -44.328468322753906,
          52.29130554199219,
          -1.1869786977767944,
          -16.894237518310547,
          33.48286056518555,
          39.72305679321289,
          39.36455535888672,
          -27.626216888427734,
          39.042823791503906,
          -34.11363983154297,
          23.252906799316406,
          -30.363988876342773,
          35.873512268066406,
          -35.38654708862305,
          35.067420959472656,
          6.1058669090271,
          -28.552873611450195,
          26.25650405883789,
          44.34496307373047,
          3.8764328956604004,
          -44.87605285644531,
          2.9328463077545166,
          2.6554203033447266,
          17.12060546875,
          32.35796356201172,
          -33.76123809814453,
          -19.46476173400879,
          -21.23986053466797,
          40.20520782470703,
          -17.811527252197266,
          17.389034271240234,
          60.151920318603516,
          -31.640918731689453,
          11.938070297241211,
          -47.69414520263672,
          40.414100646972656,
          -31.492218017578125,
          18.779399871826172,
          35.33539581298828,
          -15.002270698547363,
          8.288188934326172,
          1.141994833946228,
          -40.08452224731445,
          46.40467071533203,
          52.01848602294922,
          7.026025772094727,
          -3.1934425830841064,
          9.31064510345459,
          -4.513985633850098,
          -17.145845413208008,
          -54.21286392211914,
          52.68931198120117,
          46.5960693359375,
          -29.19652557373047,
          10.669801712036133,
          30.9173583984375,
          -25.726091384887695,
          -23.891231536865234,
          16.196659088134766,
          -11.562588691711426,
          38.37647247314453,
          -5.495940208435059,
          -12.997005462646484,
          50.97245788574219,
          -31.206628799438477,
          6.206913471221924,
          -8.687936782836914,
          -39.184295654296875,
          -43.741455078125,
          0.611879825592041,
          -51.66937255859375,
          -41.77095413208008,
          -36.28982162475586,
          43.546932220458984,
          -32.75230407714844,
          -32.51044464111328,
          17.461545944213867,
          44.77853775024414,
          -33.371246337890625,
          -15.466523170471191,
          7.155672550201416,
          -7.1306471824646,
          -42.849308013916016,
          -58.183536529541016,
          -14.587047576904297,
          3.8188436031341553,
          -55.781700134277344,
          -18.38484764099121,
          0.4109947085380554,
          35.36684799194336,
          -27.48408317565918,
          17.666414260864258,
          21.602249145507812,
          -2.8490967750549316,
          30.63694953918457,
          31.60025405883789,
          22.696056365966797,
          -19.53150749206543,
          21.545045852661133,
          32.955570220947266,
          -9.098213195800781,
          16.843658447265625,
          -26.69069480895996,
          -23.555784225463867,
          16.874267578125,
          13.45236873626709,
          -59.15267562866211,
          -6.282315254211426,
          -0.9681414365768433,
          18.52042579650879,
          -23.546722412109375,
          52.4001350402832,
          -31.833984375,
          -57.05712127685547,
          -35.798614501953125,
          14.847184181213379,
          24.017663955688477,
          -48.14023971557617,
          -25.522998809814453,
          -20.932758331298828,
          -49.28480529785156,
          0.4589150547981262,
          -6.38748025894165,
          3.1910059452056885,
          5.240885257720947,
          -36.550418853759766,
          9.651025772094727,
          9.72516918182373,
          -54.96733474731445,
          -42.28355026245117,
          -0.8004158139228821,
          -8.612924575805664,
          22.703195571899414,
          25.47064208984375,
          -15.666707992553711,
          -10.684554100036621,
          24.992341995239258,
          -44.8914794921875,
          -52.55734634399414,
          -3.0601460933685303,
          -56.123130798339844,
          -24.997209548950195,
          -35.36278533935547,
          -15.096057891845703,
          15.58262825012207,
          -15.296338081359863,
          -44.544071197509766,
          33.922420501708984,
          -44.415653228759766,
          -55.64982223510742,
          15.677797317504883,
          -50.96105194091797,
          19.48628807067871,
          -1.25507652759552,
          -19.61402130126953,
          -29.390714645385742,
          -2.839175224304199,
          33.31941604614258,
          13.49247932434082,
          27.389665603637695,
          -44.061012268066406,
          14.256969451904297,
          0.05289285629987717,
          -11.001848220825195,
          24.214597702026367,
          -62.82851791381836,
          23.249940872192383,
          4.777891159057617,
          21.9736270904541,
          -26.045106887817383,
          3.8491857051849365,
          16.71355438232422,
          25.916053771972656,
          33.068485260009766,
          44.124778747558594,
          -25.54100799560547,
          -17.325700759887695,
          -41.018341064453125
         ],
         "yaxis": "y"
        }
       ],
       "layout": {
        "coloraxis": {
         "colorbar": {
          "title": {
           "text": "rating"
          }
         },
         "colorscale": [
          [
           0,
           "#0d0887"
          ],
          [
           0.1111111111111111,
           "#46039f"
          ],
          [
           0.2222222222222222,
           "#7201a8"
          ],
          [
           0.3333333333333333,
           "#9c179e"
          ],
          [
           0.4444444444444444,
           "#bd3786"
          ],
          [
           0.5555555555555556,
           "#d8576b"
          ],
          [
           0.6666666666666666,
           "#ed7953"
          ],
          [
           0.7777777777777778,
           "#fb9f3a"
          ],
          [
           0.8888888888888888,
           "#fdca26"
          ],
          [
           1,
           "#f0f921"
          ]
         ]
        },
        "legend": {
         "tracegroupgap": 0
        },
        "margin": {
         "t": 60
        },
        "template": {
         "data": {
          "bar": [
           {
            "error_x": {
             "color": "#2a3f5f"
            },
            "error_y": {
             "color": "#2a3f5f"
            },
            "marker": {
             "line": {
              "color": "#E5ECF6",
              "width": 0.5
             },
             "pattern": {
              "fillmode": "overlay",
              "size": 10,
              "solidity": 0.2
             }
            },
            "type": "bar"
           }
          ],
          "barpolar": [
           {
            "marker": {
             "line": {
              "color": "#E5ECF6",
              "width": 0.5
             },
             "pattern": {
              "fillmode": "overlay",
              "size": 10,
              "solidity": 0.2
             }
            },
            "type": "barpolar"
           }
          ],
          "carpet": [
           {
            "aaxis": {
             "endlinecolor": "#2a3f5f",
             "gridcolor": "white",
             "linecolor": "white",
             "minorgridcolor": "white",
             "startlinecolor": "#2a3f5f"
            },
            "baxis": {
             "endlinecolor": "#2a3f5f",
             "gridcolor": "white",
             "linecolor": "white",
             "minorgridcolor": "white",
             "startlinecolor": "#2a3f5f"
            },
            "type": "carpet"
           }
          ],
          "choropleth": [
           {
            "colorbar": {
             "outlinewidth": 0,
             "ticks": ""
            },
            "type": "choropleth"
           }
          ],
          "contour": [
           {
            "colorbar": {
             "outlinewidth": 0,
             "ticks": ""
            },
            "colorscale": [
             [
              0,
              "#0d0887"
             ],
             [
              0.1111111111111111,
              "#46039f"
             ],
             [
              0.2222222222222222,
              "#7201a8"
             ],
             [
              0.3333333333333333,
              "#9c179e"
             ],
             [
              0.4444444444444444,
              "#bd3786"
             ],
             [
              0.5555555555555556,
              "#d8576b"
             ],
             [
              0.6666666666666666,
              "#ed7953"
             ],
             [
              0.7777777777777778,
              "#fb9f3a"
             ],
             [
              0.8888888888888888,
              "#fdca26"
             ],
             [
              1,
              "#f0f921"
             ]
            ],
            "type": "contour"
           }
          ],
          "contourcarpet": [
           {
            "colorbar": {
             "outlinewidth": 0,
             "ticks": ""
            },
            "type": "contourcarpet"
           }
          ],
          "heatmap": [
           {
            "colorbar": {
             "outlinewidth": 0,
             "ticks": ""
            },
            "colorscale": [
             [
              0,
              "#0d0887"
             ],
             [
              0.1111111111111111,
              "#46039f"
             ],
             [
              0.2222222222222222,
              "#7201a8"
             ],
             [
              0.3333333333333333,
              "#9c179e"
             ],
             [
              0.4444444444444444,
              "#bd3786"
             ],
             [
              0.5555555555555556,
              "#d8576b"
             ],
             [
              0.6666666666666666,
              "#ed7953"
             ],
             [
              0.7777777777777778,
              "#fb9f3a"
             ],
             [
              0.8888888888888888,
              "#fdca26"
             ],
             [
              1,
              "#f0f921"
             ]
            ],
            "type": "heatmap"
           }
          ],
          "heatmapgl": [
           {
            "colorbar": {
             "outlinewidth": 0,
             "ticks": ""
            },
            "colorscale": [
             [
              0,
              "#0d0887"
             ],
             [
              0.1111111111111111,
              "#46039f"
             ],
             [
              0.2222222222222222,
              "#7201a8"
             ],
             [
              0.3333333333333333,
              "#9c179e"
             ],
             [
              0.4444444444444444,
              "#bd3786"
             ],
             [
              0.5555555555555556,
              "#d8576b"
             ],
             [
              0.6666666666666666,
              "#ed7953"
             ],
             [
              0.7777777777777778,
              "#fb9f3a"
             ],
             [
              0.8888888888888888,
              "#fdca26"
             ],
             [
              1,
              "#f0f921"
             ]
            ],
            "type": "heatmapgl"
           }
          ],
          "histogram": [
           {
            "marker": {
             "pattern": {
              "fillmode": "overlay",
              "size": 10,
              "solidity": 0.2
             }
            },
            "type": "histogram"
           }
          ],
          "histogram2d": [
           {
            "colorbar": {
             "outlinewidth": 0,
             "ticks": ""
            },
            "colorscale": [
             [
              0,
              "#0d0887"
             ],
             [
              0.1111111111111111,
              "#46039f"
             ],
             [
              0.2222222222222222,
              "#7201a8"
             ],
             [
              0.3333333333333333,
              "#9c179e"
             ],
             [
              0.4444444444444444,
              "#bd3786"
             ],
             [
              0.5555555555555556,
              "#d8576b"
             ],
             [
              0.6666666666666666,
              "#ed7953"
             ],
             [
              0.7777777777777778,
              "#fb9f3a"
             ],
             [
              0.8888888888888888,
              "#fdca26"
             ],
             [
              1,
              "#f0f921"
             ]
            ],
            "type": "histogram2d"
           }
          ],
          "histogram2dcontour": [
           {
            "colorbar": {
             "outlinewidth": 0,
             "ticks": ""
            },
            "colorscale": [
             [
              0,
              "#0d0887"
             ],
             [
              0.1111111111111111,
              "#46039f"
             ],
             [
              0.2222222222222222,
              "#7201a8"
             ],
             [
              0.3333333333333333,
              "#9c179e"
             ],
             [
              0.4444444444444444,
              "#bd3786"
             ],
             [
              0.5555555555555556,
              "#d8576b"
             ],
             [
              0.6666666666666666,
              "#ed7953"
             ],
             [
              0.7777777777777778,
              "#fb9f3a"
             ],
             [
              0.8888888888888888,
              "#fdca26"
             ],
             [
              1,
              "#f0f921"
             ]
            ],
            "type": "histogram2dcontour"
           }
          ],
          "mesh3d": [
           {
            "colorbar": {
             "outlinewidth": 0,
             "ticks": ""
            },
            "type": "mesh3d"
           }
          ],
          "parcoords": [
           {
            "line": {
             "colorbar": {
              "outlinewidth": 0,
              "ticks": ""
             }
            },
            "type": "parcoords"
           }
          ],
          "pie": [
           {
            "automargin": true,
            "type": "pie"
           }
          ],
          "scatter": [
           {
            "fillpattern": {
             "fillmode": "overlay",
             "size": 10,
             "solidity": 0.2
            },
            "type": "scatter"
           }
          ],
          "scatter3d": [
           {
            "line": {
             "colorbar": {
              "outlinewidth": 0,
              "ticks": ""
             }
            },
            "marker": {
             "colorbar": {
              "outlinewidth": 0,
              "ticks": ""
             }
            },
            "type": "scatter3d"
           }
          ],
          "scattercarpet": [
           {
            "marker": {
             "colorbar": {
              "outlinewidth": 0,
              "ticks": ""
             }
            },
            "type": "scattercarpet"
           }
          ],
          "scattergeo": [
           {
            "marker": {
             "colorbar": {
              "outlinewidth": 0,
              "ticks": ""
             }
            },
            "type": "scattergeo"
           }
          ],
          "scattergl": [
           {
            "marker": {
             "colorbar": {
              "outlinewidth": 0,
              "ticks": ""
             }
            },
            "type": "scattergl"
           }
          ],
          "scattermapbox": [
           {
            "marker": {
             "colorbar": {
              "outlinewidth": 0,
              "ticks": ""
             }
            },
            "type": "scattermapbox"
           }
          ],
          "scatterpolar": [
           {
            "marker": {
             "colorbar": {
              "outlinewidth": 0,
              "ticks": ""
             }
            },
            "type": "scatterpolar"
           }
          ],
          "scatterpolargl": [
           {
            "marker": {
             "colorbar": {
              "outlinewidth": 0,
              "ticks": ""
             }
            },
            "type": "scatterpolargl"
           }
          ],
          "scatterternary": [
           {
            "marker": {
             "colorbar": {
              "outlinewidth": 0,
              "ticks": ""
             }
            },
            "type": "scatterternary"
           }
          ],
          "surface": [
           {
            "colorbar": {
             "outlinewidth": 0,
             "ticks": ""
            },
            "colorscale": [
             [
              0,
              "#0d0887"
             ],
             [
              0.1111111111111111,
              "#46039f"
             ],
             [
              0.2222222222222222,
              "#7201a8"
             ],
             [
              0.3333333333333333,
              "#9c179e"
             ],
             [
              0.4444444444444444,
              "#bd3786"
             ],
             [
              0.5555555555555556,
              "#d8576b"
             ],
             [
              0.6666666666666666,
              "#ed7953"
             ],
             [
              0.7777777777777778,
              "#fb9f3a"
             ],
             [
              0.8888888888888888,
              "#fdca26"
             ],
             [
              1,
              "#f0f921"
             ]
            ],
            "type": "surface"
           }
          ],
          "table": [
           {
            "cells": {
             "fill": {
              "color": "#EBF0F8"
             },
             "line": {
              "color": "white"
             }
            },
            "header": {
             "fill": {
              "color": "#C8D4E3"
             },
             "line": {
              "color": "white"
             }
            },
            "type": "table"
           }
          ]
         },
         "layout": {
          "annotationdefaults": {
           "arrowcolor": "#2a3f5f",
           "arrowhead": 0,
           "arrowwidth": 1
          },
          "autotypenumbers": "strict",
          "coloraxis": {
           "colorbar": {
            "outlinewidth": 0,
            "ticks": ""
           }
          },
          "colorscale": {
           "diverging": [
            [
             0,
             "#8e0152"
            ],
            [
             0.1,
             "#c51b7d"
            ],
            [
             0.2,
             "#de77ae"
            ],
            [
             0.3,
             "#f1b6da"
            ],
            [
             0.4,
             "#fde0ef"
            ],
            [
             0.5,
             "#f7f7f7"
            ],
            [
             0.6,
             "#e6f5d0"
            ],
            [
             0.7,
             "#b8e186"
            ],
            [
             0.8,
             "#7fbc41"
            ],
            [
             0.9,
             "#4d9221"
            ],
            [
             1,
             "#276419"
            ]
           ],
           "sequential": [
            [
             0,
             "#0d0887"
            ],
            [
             0.1111111111111111,
             "#46039f"
            ],
            [
             0.2222222222222222,
             "#7201a8"
            ],
            [
             0.3333333333333333,
             "#9c179e"
            ],
            [
             0.4444444444444444,
             "#bd3786"
            ],
            [
             0.5555555555555556,
             "#d8576b"
            ],
            [
             0.6666666666666666,
             "#ed7953"
            ],
            [
             0.7777777777777778,
             "#fb9f3a"
            ],
            [
             0.8888888888888888,
             "#fdca26"
            ],
            [
             1,
             "#f0f921"
            ]
           ],
           "sequentialminus": [
            [
             0,
             "#0d0887"
            ],
            [
             0.1111111111111111,
             "#46039f"
            ],
            [
             0.2222222222222222,
             "#7201a8"
            ],
            [
             0.3333333333333333,
             "#9c179e"
            ],
            [
             0.4444444444444444,
             "#bd3786"
            ],
            [
             0.5555555555555556,
             "#d8576b"
            ],
            [
             0.6666666666666666,
             "#ed7953"
            ],
            [
             0.7777777777777778,
             "#fb9f3a"
            ],
            [
             0.8888888888888888,
             "#fdca26"
            ],
            [
             1,
             "#f0f921"
            ]
           ]
          },
          "colorway": [
           "#636efa",
           "#EF553B",
           "#00cc96",
           "#ab63fa",
           "#FFA15A",
           "#19d3f3",
           "#FF6692",
           "#B6E880",
           "#FF97FF",
           "#FECB52"
          ],
          "font": {
           "color": "#2a3f5f"
          },
          "geo": {
           "bgcolor": "white",
           "lakecolor": "white",
           "landcolor": "#E5ECF6",
           "showlakes": true,
           "showland": true,
           "subunitcolor": "white"
          },
          "hoverlabel": {
           "align": "left"
          },
          "hovermode": "closest",
          "mapbox": {
           "style": "light"
          },
          "paper_bgcolor": "white",
          "plot_bgcolor": "#E5ECF6",
          "polar": {
           "angularaxis": {
            "gridcolor": "white",
            "linecolor": "white",
            "ticks": ""
           },
           "bgcolor": "#E5ECF6",
           "radialaxis": {
            "gridcolor": "white",
            "linecolor": "white",
            "ticks": ""
           }
          },
          "scene": {
           "xaxis": {
            "backgroundcolor": "#E5ECF6",
            "gridcolor": "white",
            "gridwidth": 2,
            "linecolor": "white",
            "showbackground": true,
            "ticks": "",
            "zerolinecolor": "white"
           },
           "yaxis": {
            "backgroundcolor": "#E5ECF6",
            "gridcolor": "white",
            "gridwidth": 2,
            "linecolor": "white",
            "showbackground": true,
            "ticks": "",
            "zerolinecolor": "white"
           },
           "zaxis": {
            "backgroundcolor": "#E5ECF6",
            "gridcolor": "white",
            "gridwidth": 2,
            "linecolor": "white",
            "showbackground": true,
            "ticks": "",
            "zerolinecolor": "white"
           }
          },
          "shapedefaults": {
           "line": {
            "color": "#2a3f5f"
           }
          },
          "ternary": {
           "aaxis": {
            "gridcolor": "white",
            "linecolor": "white",
            "ticks": ""
           },
           "baxis": {
            "gridcolor": "white",
            "linecolor": "white",
            "ticks": ""
           },
           "bgcolor": "#E5ECF6",
           "caxis": {
            "gridcolor": "white",
            "linecolor": "white",
            "ticks": ""
           }
          },
          "title": {
           "x": 0.05
          },
          "xaxis": {
           "automargin": true,
           "gridcolor": "white",
           "linecolor": "white",
           "ticks": "",
           "title": {
            "standoff": 15
           },
           "zerolinecolor": "white",
           "zerolinewidth": 2
          },
          "yaxis": {
           "automargin": true,
           "gridcolor": "white",
           "linecolor": "white",
           "ticks": "",
           "title": {
            "standoff": 15
           },
           "zerolinecolor": "white",
           "zerolinewidth": 2
          }
         }
        },
        "xaxis": {
         "anchor": "y",
         "domain": [
          0,
          1
         ],
         "title": {
          "text": "x_coord"
         }
        },
        "yaxis": {
         "anchor": "x",
         "domain": [
          0,
          1
         ],
         "title": {
          "text": "y_coord"
         }
        }
       }
      }
     },
     "metadata": {},
     "output_type": "display_data"
    }
   ],
   "source": [
    "import plotly.express as px\n",
    "\n",
    "df = px.data.iris()\n",
    "\n",
    "features = df.loc[:, :'petal_width']\n",
    "\n",
    "fig = px.scatter(\n",
    "    tsne_df, x=\"x_coord\", y=\"y_coord\",\n",
    "    color=tsne_df.rating, labels={'color': 'species'},\n",
    "    hover_data=[\"title\"]\n",
    ")\n",
    "fig.show()"
   ]
  },
  {
   "attachments": {},
   "cell_type": "markdown",
   "id": "bf8d4c61",
   "metadata": {},
   "source": [
    "### Limitations and Extensions\n",
    "\n",
    "While Word2Vec is a powerful tool, it's not without limitations. The main issue with Word2Vec (and similar models that derive their semantics based on the local usage context) is that they assign one vector per word. This becomes a problem for words with multiple meanings based on their context (homonyms and polysemes). To tackle such limitations, extensions like FastText and advanced methods such as GloVe (Global Vectors for Word Representation) and transformers like BERT (Bidirectional Encoder Representations from Transformers) have been proposed.\n",
    "\n",
    "### FastText\n",
    "\n",
    "FastText, also developed by Facebook, extends Word2Vec by treating each word as composed of character n-grams. So the vector for a word is made of the sum of these character n-grams. This allows the embeddings to capture the meaning of shorter words and suffixes/prefixes and understand new words once the character n-grams are learned.\n",
    "\n",
    "### GloVe\n",
    "\n",
    "GloVe, developed by Stanford, is another method to create word embeddings. While Word2Vec is a predictive model — a model that predicts context given a word, GloVe is a count-based model. It leverages matrix factorization techniques on the word-word co-occurrence matrix.\n",
    "\n",
    "### Transformers: BERT & GPT\n",
    "\n",
    "BERT (Bidirectional Encoder Representations from Transformers) and GPT (Generative Pretrained Transformer) models ushered in the era of transformers that not only consider local context but also take the entire sentence context into account to create word embeddings.\n",
    "\n",
    "In conclusion, while TF-IDF and n-grams offer a solid start, word embeddings and transformers take the representation of words to the next level. By considering context and semantic meaning, they offer a more complete and robust method to work with text"
   ]
  },
  {
   "cell_type": "code",
   "execution_count": null,
   "id": "0e9e6305",
   "metadata": {},
   "outputs": [],
   "source": []
  }
 ],
 "metadata": {
  "kernelspec": {
   "display_name": "Python 3 (ipykernel)",
   "language": "python",
   "name": "python3"
  },
  "language_info": {
   "codemirror_mode": {
    "name": "ipython",
    "version": 3
   },
   "file_extension": ".py",
   "mimetype": "text/x-python",
   "name": "python",
   "nbconvert_exporter": "python",
   "pygments_lexer": "ipython3",
   "version": "3.9.15"
  }
 },
 "nbformat": 4,
 "nbformat_minor": 5
}
