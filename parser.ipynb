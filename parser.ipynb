{
 "cells": [
  {
   "cell_type": "code",
   "execution_count": 4,
   "metadata": {},
   "outputs": [],
   "source": [
    "import os\n",
    "import pandas as pd"
   ]
  },
  {
   "cell_type": "code",
   "execution_count": 5,
   "metadata": {},
   "outputs": [
    {
     "name": "stdout",
     "output_type": "stream",
     "text": [
      "data\\test.txt\n"
     ]
    },
    {
     "data": {
      "text/html": [
       "<div>\n",
       "<style scoped>\n",
       "    .dataframe tbody tr th:only-of-type {\n",
       "        vertical-align: middle;\n",
       "    }\n",
       "\n",
       "    .dataframe tbody tr th {\n",
       "        vertical-align: top;\n",
       "    }\n",
       "\n",
       "    .dataframe thead th {\n",
       "        text-align: right;\n",
       "    }\n",
       "</style>\n",
       "<table border=\"1\" class=\"dataframe\">\n",
       "  <thead>\n",
       "    <tr style=\"text-align: right;\">\n",
       "      <th></th>\n",
       "      <th>Selection of peope that dont exist:</th>\n",
       "    </tr>\n",
       "  </thead>\n",
       "  <tbody>\n",
       "    <tr>\n",
       "      <th>0</th>\n",
       "      <td>First Name: Lenny</td>\n",
       "    </tr>\n",
       "    <tr>\n",
       "      <th>1</th>\n",
       "      <td>Last Name: Davis</td>\n",
       "    </tr>\n",
       "    <tr>\n",
       "      <th>2</th>\n",
       "      <td>Gender: Male</td>\n",
       "    </tr>\n",
       "    <tr>\n",
       "      <th>3</th>\n",
       "      <td>Age: 23</td>\n",
       "    </tr>\n",
       "    <tr>\n",
       "      <th>4</th>\n",
       "      <td>Email: l.davis@randatmail.com</td>\n",
       "    </tr>\n",
       "    <tr>\n",
       "      <th>5</th>\n",
       "      <td>Phone: 345-6339-68</td>\n",
       "    </tr>\n",
       "    <tr>\n",
       "      <th>6</th>\n",
       "      <td>First Name: Frederick</td>\n",
       "    </tr>\n",
       "    <tr>\n",
       "      <th>7</th>\n",
       "      <td>Last Name: Turner</td>\n",
       "    </tr>\n",
       "    <tr>\n",
       "      <th>8</th>\n",
       "      <td>Gender: Male</td>\n",
       "    </tr>\n",
       "    <tr>\n",
       "      <th>9</th>\n",
       "      <td>Age: 29</td>\n",
       "    </tr>\n",
       "    <tr>\n",
       "      <th>10</th>\n",
       "      <td>Email: f.turner@randatmail.com</td>\n",
       "    </tr>\n",
       "    <tr>\n",
       "      <th>11</th>\n",
       "      <td>Phone: 752-2013-74</td>\n",
       "    </tr>\n",
       "    <tr>\n",
       "      <th>12</th>\n",
       "      <td>First Name: Miranda</td>\n",
       "    </tr>\n",
       "    <tr>\n",
       "      <th>13</th>\n",
       "      <td>Last Name: Bennett</td>\n",
       "    </tr>\n",
       "    <tr>\n",
       "      <th>14</th>\n",
       "      <td>Gender: Female</td>\n",
       "    </tr>\n",
       "    <tr>\n",
       "      <th>15</th>\n",
       "      <td>Age: 24</td>\n",
       "    </tr>\n",
       "    <tr>\n",
       "      <th>16</th>\n",
       "      <td>Email: m.bennett@randatmail.com</td>\n",
       "    </tr>\n",
       "    <tr>\n",
       "      <th>17</th>\n",
       "      <td>Phone: 317-2147-36</td>\n",
       "    </tr>\n",
       "  </tbody>\n",
       "</table>\n",
       "</div>"
      ],
      "text/plain": [
       "   Selection of peope that dont exist:\n",
       "0                    First Name: Lenny\n",
       "1                     Last Name: Davis\n",
       "2                         Gender: Male\n",
       "3                              Age: 23\n",
       "4        Email: l.davis@randatmail.com\n",
       "5                   Phone: 345-6339-68\n",
       "6                First Name: Frederick\n",
       "7                    Last Name: Turner\n",
       "8                         Gender: Male\n",
       "9                              Age: 29\n",
       "10      Email: f.turner@randatmail.com\n",
       "11                  Phone: 752-2013-74\n",
       "12                 First Name: Miranda\n",
       "13                  Last Name: Bennett\n",
       "14                      Gender: Female\n",
       "15                             Age: 24\n",
       "16     Email: m.bennett@randatmail.com\n",
       "17                  Phone: 317-2147-36"
      ]
     },
     "execution_count": 5,
     "metadata": {},
     "output_type": "execute_result"
    }
   ],
   "source": [
    "filename = \"test.txt\"\n",
    "path = os.path.join(\"data\", filename)\n",
    "print(path)\n",
    "pd.read_csv(path)"
   ]
  },
  {
   "cell_type": "code",
   "execution_count": 53,
   "metadata": {},
   "outputs": [
    {
     "data": {
      "text/plain": [
       "[{'First Name': 'Lenny',\n",
       "  'Last Name': 'Davis',\n",
       "  'Gender': 'Male',\n",
       "  'Age': '23',\n",
       "  'Email': 'l.davis@randatmail.com',\n",
       "  'Phone': '345-6339-68'},\n",
       " {'First Name': 'Frederick',\n",
       "  'Last Name': 'Turner',\n",
       "  'Gender': 'Male',\n",
       "  'Age': '29',\n",
       "  'Email': 'f.turner@randatmail.com',\n",
       "  'Phone': '752-2013-74'},\n",
       " {'First Name': 'Miranda',\n",
       "  'Last Name': 'Bennett',\n",
       "  'Gender': 'Female',\n",
       "  'Age': '24',\n",
       "  'Email': 'm.bennett@randatmail.com',\n",
       "  'Phone': '317-2147-36'}]"
      ]
     },
     "execution_count": 53,
     "metadata": {},
     "output_type": "execute_result"
    }
   ],
   "source": [
    "# Write function to safe key value pairs from a text file to a dictionary\n",
    "def parser():\n",
    "    with open(path) as f:\n",
    "        person  = {}\n",
    "        data = []\n",
    "        for line in f:\n",
    "            if(line.startswith(\"First Name\")):\n",
    "                if(len(person) > 1):\n",
    "                    data.append(person.copy()) #Achtung, es muss eine Kopie angelegt werden damit das Objekt nicht in Data überschrieben wird\n",
    "            if(\": \" in line):\n",
    "                key, value = line.split(\": \")\n",
    "                person[key] = value.replace(\"\\n\", \"\")\n",
    "        data.append(person)\n",
    "    return data\n",
    "    \n",
    "parser()"
   ]
  },
  {
   "cell_type": "code",
   "execution_count": null,
   "metadata": {},
   "outputs": [],
   "source": []
  }
 ],
 "metadata": {
  "kernelspec": {
   "display_name": "chatbots",
   "language": "python",
   "name": "python3"
  },
  "language_info": {
   "codemirror_mode": {
    "name": "ipython",
    "version": 3
   },
   "file_extension": ".py",
   "mimetype": "text/x-python",
   "name": "python",
   "nbconvert_exporter": "python",
   "pygments_lexer": "ipython3",
   "version": "3.9.15"
  },
  "orig_nbformat": 4
 },
 "nbformat": 4,
 "nbformat_minor": 2
}
