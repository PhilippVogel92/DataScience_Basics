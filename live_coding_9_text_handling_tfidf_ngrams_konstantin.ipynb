{
 "cells": [
  {
   "attachments": {},
   "cell_type": "markdown",
   "id": "cc1961e1",
   "metadata": {},
   "source": [
    "# Praktikum / Live-Coding\n",
    "\n",
    "## NLP: TF-IDF, n-grams und sentiment analysis"
   ]
  },
  {
   "cell_type": "code",
   "execution_count": 55,
   "id": "6874ac61",
   "metadata": {},
   "outputs": [],
   "source": [
    "import os\n",
    "import numpy as np\n",
    "import pandas as pd\n",
    "from matplotlib import pyplot as plt"
   ]
  },
  {
   "attachments": {},
   "cell_type": "markdown",
   "id": "87b0fdf3",
   "metadata": {},
   "source": [
    "# Ziel: Sentiment Analysis von Filmkritiken\n",
    "\n",
    "Wir wollen für kurze Filmkritiken in Textform vorhersagen ob diese positiv oder negativ sind.\n",
    "\n",
    "### Daten: IMDB movie review dataset\n",
    "\n",
    "Wir arbeiten zu diesem Zweck mit dem *IMDB movie review dataset*. Darin befinden sich 40 000 Kritiken von der Seite *IMDB* die als negativ (<= 4/10) oder positiv (>= 7/10) gelabeld wurden.\n",
    "\n",
    "### Quellen:\n",
    "Die Daten befinden sich auf Moodle (`movie_reviews_train.csv`) und stammen von Kaggle [Link zum Datensatz](https://www.kaggle.com/datasets/columbine/imdb-dataset-sentiment-analysis-in-csv-format?datasetId=429163&sortBy=voteCount).\n",
    "\n",
    "Ursprünglich kommen die Daten aber hierher: https://ai.stanford.edu/~amaas/data/sentiment/"
   ]
  },
  {
   "attachments": {},
   "cell_type": "markdown",
   "id": "133fc160",
   "metadata": {},
   "source": [
    "## Importieren und erstes Erkunden\n",
    "- Fehlen Einträge?\n",
    "- Gibt es offensichtlich merkwürdige Einträge?\n",
    "- Sind die möglichen Label (positiv/negativ) gut verteilt?"
   ]
  },
  {
   "cell_type": "code",
   "execution_count": 56,
   "id": "32b30924",
   "metadata": {},
   "outputs": [
    {
     "data": {
      "text/html": [
       "<div>\n",
       "<style scoped>\n",
       "    .dataframe tbody tr th:only-of-type {\n",
       "        vertical-align: middle;\n",
       "    }\n",
       "\n",
       "    .dataframe tbody tr th {\n",
       "        vertical-align: top;\n",
       "    }\n",
       "\n",
       "    .dataframe thead th {\n",
       "        text-align: right;\n",
       "    }\n",
       "</style>\n",
       "<table border=\"1\" class=\"dataframe\">\n",
       "  <thead>\n",
       "    <tr style=\"text-align: right;\">\n",
       "      <th></th>\n",
       "      <th>text</th>\n",
       "      <th>label</th>\n",
       "    </tr>\n",
       "  </thead>\n",
       "  <tbody>\n",
       "    <tr>\n",
       "      <th>0</th>\n",
       "      <td>I grew up (b. 1965) watching and loving the Th...</td>\n",
       "      <td>0</td>\n",
       "    </tr>\n",
       "    <tr>\n",
       "      <th>1</th>\n",
       "      <td>When I put this movie in my DVD player, and sa...</td>\n",
       "      <td>0</td>\n",
       "    </tr>\n",
       "    <tr>\n",
       "      <th>2</th>\n",
       "      <td>Why do people who do not know what a particula...</td>\n",
       "      <td>0</td>\n",
       "    </tr>\n",
       "    <tr>\n",
       "      <th>3</th>\n",
       "      <td>Even though I have great interest in Biblical ...</td>\n",
       "      <td>0</td>\n",
       "    </tr>\n",
       "    <tr>\n",
       "      <th>4</th>\n",
       "      <td>Im a die hard Dads Army fan and nothing will e...</td>\n",
       "      <td>1</td>\n",
       "    </tr>\n",
       "  </tbody>\n",
       "</table>\n",
       "</div>"
      ],
      "text/plain": [
       "                                                text  label\n",
       "0  I grew up (b. 1965) watching and loving the Th...      0\n",
       "1  When I put this movie in my DVD player, and sa...      0\n",
       "2  Why do people who do not know what a particula...      0\n",
       "3  Even though I have great interest in Biblical ...      0\n",
       "4  Im a die hard Dads Army fan and nothing will e...      1"
      ]
     },
     "execution_count": 56,
     "metadata": {},
     "output_type": "execute_result"
    }
   ],
   "source": [
    "filename = \"./Datasets/movie_reviews_train.csv\"  # Pfad entsprechend anpassen\n",
    "\n",
    "data = pd.read_csv(filename)\n",
    "data.head()"
   ]
  },
  {
   "cell_type": "code",
   "execution_count": 57,
   "id": "2e8494ff",
   "metadata": {},
   "outputs": [
    {
     "data": {
      "text/html": [
       "<div>\n",
       "<style scoped>\n",
       "    .dataframe tbody tr th:only-of-type {\n",
       "        vertical-align: middle;\n",
       "    }\n",
       "\n",
       "    .dataframe tbody tr th {\n",
       "        vertical-align: top;\n",
       "    }\n",
       "\n",
       "    .dataframe thead th {\n",
       "        text-align: right;\n",
       "    }\n",
       "</style>\n",
       "<table border=\"1\" class=\"dataframe\">\n",
       "  <thead>\n",
       "    <tr style=\"text-align: right;\">\n",
       "      <th></th>\n",
       "      <th>label</th>\n",
       "    </tr>\n",
       "  </thead>\n",
       "  <tbody>\n",
       "    <tr>\n",
       "      <th>count</th>\n",
       "      <td>40000.000000</td>\n",
       "    </tr>\n",
       "    <tr>\n",
       "      <th>mean</th>\n",
       "      <td>0.499525</td>\n",
       "    </tr>\n",
       "    <tr>\n",
       "      <th>std</th>\n",
       "      <td>0.500006</td>\n",
       "    </tr>\n",
       "    <tr>\n",
       "      <th>min</th>\n",
       "      <td>0.000000</td>\n",
       "    </tr>\n",
       "    <tr>\n",
       "      <th>25%</th>\n",
       "      <td>0.000000</td>\n",
       "    </tr>\n",
       "    <tr>\n",
       "      <th>50%</th>\n",
       "      <td>0.000000</td>\n",
       "    </tr>\n",
       "    <tr>\n",
       "      <th>75%</th>\n",
       "      <td>1.000000</td>\n",
       "    </tr>\n",
       "    <tr>\n",
       "      <th>max</th>\n",
       "      <td>1.000000</td>\n",
       "    </tr>\n",
       "  </tbody>\n",
       "</table>\n",
       "</div>"
      ],
      "text/plain": [
       "              label\n",
       "count  40000.000000\n",
       "mean       0.499525\n",
       "std        0.500006\n",
       "min        0.000000\n",
       "25%        0.000000\n",
       "50%        0.000000\n",
       "75%        1.000000\n",
       "max        1.000000"
      ]
     },
     "execution_count": 57,
     "metadata": {},
     "output_type": "execute_result"
    }
   ],
   "source": [
    "data.describe()"
   ]
  },
  {
   "cell_type": "code",
   "execution_count": 58,
   "id": "5a9aedfe",
   "metadata": {},
   "outputs": [
    {
     "name": "stdout",
     "output_type": "stream",
     "text": [
      "<class 'pandas.core.frame.DataFrame'>\n",
      "RangeIndex: 40000 entries, 0 to 39999\n",
      "Data columns (total 2 columns):\n",
      " #   Column  Non-Null Count  Dtype \n",
      "---  ------  --------------  ----- \n",
      " 0   text    40000 non-null  object\n",
      " 1   label   40000 non-null  int64 \n",
      "dtypes: int64(1), object(1)\n",
      "memory usage: 625.1+ KB\n"
     ]
    }
   ],
   "source": [
    "data.info()"
   ]
  },
  {
   "cell_type": "code",
   "execution_count": 59,
   "id": "9e5f3885",
   "metadata": {},
   "outputs": [
    {
     "data": {
      "text/plain": [
       "label\n",
       "0    20019\n",
       "1    19981\n",
       "Name: count, dtype: int64"
      ]
     },
     "execution_count": 59,
     "metadata": {},
     "output_type": "execute_result"
    }
   ],
   "source": [
    "data.label.value_counts()"
   ]
  },
  {
   "attachments": {},
   "cell_type": "markdown",
   "id": "6337008d",
   "metadata": {},
   "source": [
    "## Find your own way...\n",
    "\n",
    "`Scikit-Learn` hat (wie so oft) einige nützliche Funktionen für uns, auch im Bereich NLP. Hier soll es um das Berechnen von tf-idf Werten gehen und dafür gibt es den `TfidfVectorizer`.\n",
    "\n",
    "Siehe die Dokumentation hier: https://scikit-learn.org/stable/modules/generated/sklearn.feature_extraction.text.TfidfVectorizer.html?highlight=tfidf#sklearn.feature_extraction.text.TfidfVectorizer\n",
    "\n",
    "- Was machen `min_df` und `max_df` ?\n",
    "- Versuche den \"Korpus\" (data.text) mit dem `TfidfVectorizer` in ein Array aus Feature-Vektoren umzuwandeln (siehe Dokumentation), z.B. mit `min_df=2, max_df = 0.5`.\n",
    "- Wie viele Features bekommen wir?\n",
    "- Schaue dir die Feature-Namen an mit `.get_feature_names()`"
   ]
  },
  {
   "cell_type": "code",
   "execution_count": 60,
   "id": "8769a2a9",
   "metadata": {},
   "outputs": [],
   "source": [
    "from sklearn.feature_extraction.text import TfidfVectorizer\n",
    "\n",
    "\n",
    "# Float und Integer haben unterschiedliche Bedeutung\n",
    "#   Float: Anteil an \n",
    "tfidf = TfidfVectorizer(min_df=5, max_df=0.25)\n",
    "tfidf_vectors = tfidf.fit_transform(data.text)"
   ]
  },
  {
   "cell_type": "code",
   "execution_count": 61,
   "id": "d671c66a",
   "metadata": {},
   "outputs": [
    {
     "data": {
      "text/plain": [
       "<40000x33566 sparse matrix of type '<class 'numpy.float64'>'\n",
       "\twith 3891589 stored elements in Compressed Sparse Row format>"
      ]
     },
     "execution_count": 61,
     "metadata": {},
     "output_type": "execute_result"
    }
   ],
   "source": [
    "tfidf_vectors"
   ]
  },
  {
   "cell_type": "code",
   "execution_count": 62,
   "id": "09c3199a",
   "metadata": {},
   "outputs": [
    {
     "data": {
      "text/plain": [
       "(40000, 33566)"
      ]
     },
     "execution_count": 62,
     "metadata": {},
     "output_type": "execute_result"
    }
   ],
   "source": [
    "tfidf_vectors.shape"
   ]
  },
  {
   "cell_type": "code",
   "execution_count": 63,
   "id": "fb1db359",
   "metadata": {},
   "outputs": [
    {
     "data": {
      "text/plain": [
       "matrix([[0., 0., 0., ..., 0., 0., 0.]])"
      ]
     },
     "execution_count": 63,
     "metadata": {},
     "output_type": "execute_result"
    }
   ],
   "source": [
    "tfidf_vectors[0, :].todense()"
   ]
  },
  {
   "cell_type": "code",
   "execution_count": 64,
   "id": "e069e017",
   "metadata": {},
   "outputs": [
    {
     "data": {
      "text/plain": [
       "array([0.12007904, 0.12042906, 0.07418654, 0.33102796, 0.13791151,\n",
       "       0.16815772, 0.13079507, 0.10742894, 0.05563762, 0.08690508,\n",
       "       0.0946926 , 0.09587586, 0.0971014 , 0.06824807, 0.11425899,\n",
       "       0.06368947, 0.06686298, 0.10646246, 0.08324413, 0.07165219,\n",
       "       0.0485321 , 0.15939687, 0.08396701, 0.06506924, 0.10654096,\n",
       "       0.14173851, 0.06106236, 0.12602378, 0.06190385, 0.04726035,\n",
       "       0.08759477, 0.07800459, 0.15489722, 0.10017393, 0.06683188,\n",
       "       0.10055811, 0.07328062, 0.05861072, 0.09223574, 0.04197834,\n",
       "       0.10554756, 0.07886   , 0.12703292, 0.056314  , 0.06182246,\n",
       "       0.08853218, 0.13742837, 0.07317911, 0.06789736, 0.1056967 ,\n",
       "       0.0888377 , 0.07093686, 0.07183838, 0.07889135, 0.07283397,\n",
       "       0.08076296, 0.05281058, 0.12703292, 0.09856895, 0.09070081,\n",
       "       0.1502964 , 0.13785561, 0.04259281, 0.11973602, 0.06155201,\n",
       "       0.05037236, 0.05952437, 0.0844378 , 0.0604038 , 0.20332149,\n",
       "       0.11842869, 0.42708669, 0.09296863, 0.04943741, 0.12783075,\n",
       "       0.0981298 ])"
      ]
     },
     "execution_count": 64,
     "metadata": {},
     "output_type": "execute_result"
    }
   ],
   "source": [
    "tfidf_vectors[0, :].data"
   ]
  },
  {
   "cell_type": "code",
   "execution_count": 65,
   "id": "87b17fd2",
   "metadata": {},
   "outputs": [
    {
     "data": {
      "text/plain": [
       "array(['zack', 'zadora', 'zahn', 'zandt', 'zane', 'zaniness', 'zanuck',\n",
       "       'zany', 'zap', 'zappa', 'zapped', 'zara', 'zardoz', 'zarkov',\n",
       "       'zasu', 'zatoichi', 'zeal', 'zealand', 'zealander', 'zealot',\n",
       "       'zealots', 'zealous', 'zebra', 'zed', 'zeffirelli', 'zeitgeist',\n",
       "       'zeke', 'zelah', 'zelda', 'zellweger', 'zellwegger', 'zeman',\n",
       "       'zemeckis', 'zen', 'zena', 'zenith', 'zentropa', 'zephyr',\n",
       "       'zeppelin', 'zero', 'zeroes', 'zest', 'zesty', 'zeta', 'zeus',\n",
       "       'zhang', 'zhao', 'zhivago', 'zhou', 'zhu', 'zhuravli', 'ziering',\n",
       "       'ziggy', 'zilch', 'zillion', 'zillions', 'zimbalist', 'zimmer',\n",
       "       'zing', 'zingers', 'zip', 'zipper', 'zippo', 'zippy', 'zis',\n",
       "       'ziyi', 'zizek', 'zodiac', 'zoe', 'zoey', 'zola', 'zombi',\n",
       "       'zombie', 'zombies', 'zombification', 'zombified', 'zomcom',\n",
       "       'zone', 'zoned', 'zones', 'zoo', 'zoolander', 'zoom', 'zoomed',\n",
       "       'zooming', 'zooms', 'zoot', 'zorro', 'zosch', 'zu', 'zucco',\n",
       "       'zucker', 'zula', 'zulu', 'zuniga', 'zurer', 'zwart', 'élan',\n",
       "       'émigré', 'über'], dtype=object)"
      ]
     },
     "execution_count": 65,
     "metadata": {},
     "output_type": "execute_result"
    }
   ],
   "source": [
    "\n",
    "# Negative Zahlen für Array: Die letzten X Einträge auswählen\n",
    "tfidf.get_feature_names_out()[-100:]"
   ]
  },
  {
   "cell_type": "code",
   "execution_count": 66,
   "id": "a26ade13",
   "metadata": {},
   "outputs": [
    {
     "data": {
      "text/plain": [
       "array(['00', '000', '007', '00pm', '00s', '01', '02', '03', '04', '05',\n",
       "       '06', '07', '08', '09', '10', '100', '1000', '100s', '100th',\n",
       "       '101', '102', '103', '104', '105', '107', '108', '109', '10s',\n",
       "       '10th', '11', '110', '111', '112', '115', '116', '117', '11th',\n",
       "       '12', '120', '1200', '123', '125', '12th', '13', '130', '134',\n",
       "       '135', '13th', '14', '140', '14th', '15', '150', '1500', '15th',\n",
       "       '16', '160', '1600', '163', '16mm', '16s', '16th', '17', '170',\n",
       "       '1700', '175', '17th', '18', '180', '1800', '1800s', '1830',\n",
       "       '1840', '1846', '1850', '1850s', '1860', '1861', '1865', '1870s',\n",
       "       '1876', '1888', '1890', '1890s', '1891', '1892', '1895', '1898',\n",
       "       '18th', '19', '1900', '1900s', '1901', '1902', '1904', '1905',\n",
       "       '1906', '1909', '1910', '1911'], dtype=object)"
      ]
     },
     "execution_count": 66,
     "metadata": {},
     "output_type": "execute_result"
    }
   ],
   "source": [
    "tfidf.get_feature_names_out()[:100]"
   ]
  },
  {
   "attachments": {},
   "cell_type": "markdown",
   "id": "cc9054d8",
   "metadata": {},
   "source": [
    "# Machine Learning --> Sentiment Analysis\n",
    "\n",
    "Um die Labels (1/0 also positiv/negativ) vorherzusagen soll ein *logistic regression* Modell trainiert und getestet werden!"
   ]
  },
  {
   "cell_type": "code",
   "execution_count": 76,
   "id": "75eb1a0e",
   "metadata": {},
   "outputs": [
    {
     "data": {
      "text/html": [
       "<style>#sk-container-id-3 {color: black;background-color: white;}#sk-container-id-3 pre{padding: 0;}#sk-container-id-3 div.sk-toggleable {background-color: white;}#sk-container-id-3 label.sk-toggleable__label {cursor: pointer;display: block;width: 100%;margin-bottom: 0;padding: 0.3em;box-sizing: border-box;text-align: center;}#sk-container-id-3 label.sk-toggleable__label-arrow:before {content: \"▸\";float: left;margin-right: 0.25em;color: #696969;}#sk-container-id-3 label.sk-toggleable__label-arrow:hover:before {color: black;}#sk-container-id-3 div.sk-estimator:hover label.sk-toggleable__label-arrow:before {color: black;}#sk-container-id-3 div.sk-toggleable__content {max-height: 0;max-width: 0;overflow: hidden;text-align: left;background-color: #f0f8ff;}#sk-container-id-3 div.sk-toggleable__content pre {margin: 0.2em;color: black;border-radius: 0.25em;background-color: #f0f8ff;}#sk-container-id-3 input.sk-toggleable__control:checked~div.sk-toggleable__content {max-height: 200px;max-width: 100%;overflow: auto;}#sk-container-id-3 input.sk-toggleable__control:checked~label.sk-toggleable__label-arrow:before {content: \"▾\";}#sk-container-id-3 div.sk-estimator input.sk-toggleable__control:checked~label.sk-toggleable__label {background-color: #d4ebff;}#sk-container-id-3 div.sk-label input.sk-toggleable__control:checked~label.sk-toggleable__label {background-color: #d4ebff;}#sk-container-id-3 input.sk-hidden--visually {border: 0;clip: rect(1px 1px 1px 1px);clip: rect(1px, 1px, 1px, 1px);height: 1px;margin: -1px;overflow: hidden;padding: 0;position: absolute;width: 1px;}#sk-container-id-3 div.sk-estimator {font-family: monospace;background-color: #f0f8ff;border: 1px dotted black;border-radius: 0.25em;box-sizing: border-box;margin-bottom: 0.5em;}#sk-container-id-3 div.sk-estimator:hover {background-color: #d4ebff;}#sk-container-id-3 div.sk-parallel-item::after {content: \"\";width: 100%;border-bottom: 1px solid gray;flex-grow: 1;}#sk-container-id-3 div.sk-label:hover label.sk-toggleable__label {background-color: #d4ebff;}#sk-container-id-3 div.sk-serial::before {content: \"\";position: absolute;border-left: 1px solid gray;box-sizing: border-box;top: 0;bottom: 0;left: 50%;z-index: 0;}#sk-container-id-3 div.sk-serial {display: flex;flex-direction: column;align-items: center;background-color: white;padding-right: 0.2em;padding-left: 0.2em;position: relative;}#sk-container-id-3 div.sk-item {position: relative;z-index: 1;}#sk-container-id-3 div.sk-parallel {display: flex;align-items: stretch;justify-content: center;background-color: white;position: relative;}#sk-container-id-3 div.sk-item::before, #sk-container-id-3 div.sk-parallel-item::before {content: \"\";position: absolute;border-left: 1px solid gray;box-sizing: border-box;top: 0;bottom: 0;left: 50%;z-index: -1;}#sk-container-id-3 div.sk-parallel-item {display: flex;flex-direction: column;z-index: 1;position: relative;background-color: white;}#sk-container-id-3 div.sk-parallel-item:first-child::after {align-self: flex-end;width: 50%;}#sk-container-id-3 div.sk-parallel-item:last-child::after {align-self: flex-start;width: 50%;}#sk-container-id-3 div.sk-parallel-item:only-child::after {width: 0;}#sk-container-id-3 div.sk-dashed-wrapped {border: 1px dashed gray;margin: 0 0.4em 0.5em 0.4em;box-sizing: border-box;padding-bottom: 0.4em;background-color: white;}#sk-container-id-3 div.sk-label label {font-family: monospace;font-weight: bold;display: inline-block;line-height: 1.2em;}#sk-container-id-3 div.sk-label-container {text-align: center;}#sk-container-id-3 div.sk-container {/* jupyter's `normalize.less` sets `[hidden] { display: none; }` but bootstrap.min.css set `[hidden] { display: none !important; }` so we also need the `!important` here to be able to override the default hidden behavior on the sphinx rendered scikit-learn.org. See: https://github.com/scikit-learn/scikit-learn/issues/21755 */display: inline-block !important;position: relative;}#sk-container-id-3 div.sk-text-repr-fallback {display: none;}</style><div id=\"sk-container-id-3\" class=\"sk-top-container\"><div class=\"sk-text-repr-fallback\"><pre>LogisticRegression(random_state=0)</pre><b>In a Jupyter environment, please rerun this cell to show the HTML representation or trust the notebook. <br />On GitHub, the HTML representation is unable to render, please try loading this page with nbviewer.org.</b></div><div class=\"sk-container\" hidden><div class=\"sk-item\"><div class=\"sk-estimator sk-toggleable\"><input class=\"sk-toggleable__control sk-hidden--visually\" id=\"sk-estimator-id-3\" type=\"checkbox\" checked><label for=\"sk-estimator-id-3\" class=\"sk-toggleable__label sk-toggleable__label-arrow\">LogisticRegression</label><div class=\"sk-toggleable__content\"><pre>LogisticRegression(random_state=0)</pre></div></div></div></div></div>"
      ],
      "text/plain": [
       "LogisticRegression(random_state=0)"
      ]
     },
     "execution_count": 76,
     "metadata": {},
     "output_type": "execute_result"
    }
   ],
   "source": [
    "from sklearn.linear_model import LogisticRegression\n",
    "\n",
    "model = LogisticRegression(random_state=0)\n",
    "model.fit(tfidf_vectors, data.label)"
   ]
  },
  {
   "attachments": {},
   "cell_type": "markdown",
   "id": "c34de091",
   "metadata": {},
   "source": [
    "## Modell testen\n",
    "Um das trainierte Modell zu testen nehmen wir einen (dem Modell noch unbekannten) Datensatz: `movie_reviews_test.csv`.\n",
    "\n",
    "- Sage die Label für die Test-Daten vorher\n",
    "- Messe die Genauigkeit mit `from sklearn.metrics import accuracy_score`\n",
    "- Erstelle eine Konfusionsmatrix (`from sklearn.metrics import confusion_matrix`)"
   ]
  },
  {
   "cell_type": "code",
   "execution_count": 84,
   "id": "28695d74",
   "metadata": {},
   "outputs": [
    {
     "data": {
      "text/html": [
       "<div>\n",
       "<style scoped>\n",
       "    .dataframe tbody tr th:only-of-type {\n",
       "        vertical-align: middle;\n",
       "    }\n",
       "\n",
       "    .dataframe tbody tr th {\n",
       "        vertical-align: top;\n",
       "    }\n",
       "\n",
       "    .dataframe thead th {\n",
       "        text-align: right;\n",
       "    }\n",
       "</style>\n",
       "<table border=\"1\" class=\"dataframe\">\n",
       "  <thead>\n",
       "    <tr style=\"text-align: right;\">\n",
       "      <th></th>\n",
       "      <th>text</th>\n",
       "      <th>label</th>\n",
       "    </tr>\n",
       "  </thead>\n",
       "  <tbody>\n",
       "    <tr>\n",
       "      <th>0</th>\n",
       "      <td>I always wrote this series off as being a comp...</td>\n",
       "      <td>0</td>\n",
       "    </tr>\n",
       "    <tr>\n",
       "      <th>1</th>\n",
       "      <td>1st watched 12/7/2002 - 3 out of 10(Dir-Steve ...</td>\n",
       "      <td>0</td>\n",
       "    </tr>\n",
       "    <tr>\n",
       "      <th>2</th>\n",
       "      <td>This movie was so poorly written and directed ...</td>\n",
       "      <td>0</td>\n",
       "    </tr>\n",
       "    <tr>\n",
       "      <th>3</th>\n",
       "      <td>The most interesting thing about Miryang (Secr...</td>\n",
       "      <td>1</td>\n",
       "    </tr>\n",
       "    <tr>\n",
       "      <th>4</th>\n",
       "      <td>when i first read about \"berlin am meer\" i did...</td>\n",
       "      <td>0</td>\n",
       "    </tr>\n",
       "  </tbody>\n",
       "</table>\n",
       "</div>"
      ],
      "text/plain": [
       "                                                text  label\n",
       "0  I always wrote this series off as being a comp...      0\n",
       "1  1st watched 12/7/2002 - 3 out of 10(Dir-Steve ...      0\n",
       "2  This movie was so poorly written and directed ...      0\n",
       "3  The most interesting thing about Miryang (Secr...      1\n",
       "4  when i first read about \"berlin am meer\" i did...      0"
      ]
     },
     "execution_count": 84,
     "metadata": {},
     "output_type": "execute_result"
    }
   ],
   "source": [
    "filename = \"./Datasets/movie_reviews_test.csv\"  # Pfad entsprechend anpassen\n",
    "\n",
    "data_test = pd.read_csv(filename)\n",
    "data_test.head()"
   ]
  },
  {
   "cell_type": "code",
   "execution_count": 85,
   "id": "aba7c004",
   "metadata": {},
   "outputs": [
    {
     "name": "stdout",
     "output_type": "stream",
     "text": [
      "<class 'pandas.core.frame.DataFrame'>\n",
      "RangeIndex: 5000 entries, 0 to 4999\n",
      "Data columns (total 2 columns):\n",
      " #   Column  Non-Null Count  Dtype \n",
      "---  ------  --------------  ----- \n",
      " 0   text    5000 non-null   object\n",
      " 1   label   5000 non-null   int64 \n",
      "dtypes: int64(1), object(1)\n",
      "memory usage: 78.2+ KB\n"
     ]
    }
   ],
   "source": [
    "data_test.info()"
   ]
  },
  {
   "cell_type": "code",
   "execution_count": 79,
   "id": "64bb78c4",
   "metadata": {},
   "outputs": [
    {
     "data": {
      "text/html": [
       "<div>\n",
       "<style scoped>\n",
       "    .dataframe tbody tr th:only-of-type {\n",
       "        vertical-align: middle;\n",
       "    }\n",
       "\n",
       "    .dataframe tbody tr th {\n",
       "        vertical-align: top;\n",
       "    }\n",
       "\n",
       "    .dataframe thead th {\n",
       "        text-align: right;\n",
       "    }\n",
       "</style>\n",
       "<table border=\"1\" class=\"dataframe\">\n",
       "  <thead>\n",
       "    <tr style=\"text-align: right;\">\n",
       "      <th></th>\n",
       "      <th>label</th>\n",
       "    </tr>\n",
       "  </thead>\n",
       "  <tbody>\n",
       "    <tr>\n",
       "      <th>count</th>\n",
       "      <td>5000.000000</td>\n",
       "    </tr>\n",
       "    <tr>\n",
       "      <th>mean</th>\n",
       "      <td>0.501000</td>\n",
       "    </tr>\n",
       "    <tr>\n",
       "      <th>std</th>\n",
       "      <td>0.500049</td>\n",
       "    </tr>\n",
       "    <tr>\n",
       "      <th>min</th>\n",
       "      <td>0.000000</td>\n",
       "    </tr>\n",
       "    <tr>\n",
       "      <th>25%</th>\n",
       "      <td>0.000000</td>\n",
       "    </tr>\n",
       "    <tr>\n",
       "      <th>50%</th>\n",
       "      <td>1.000000</td>\n",
       "    </tr>\n",
       "    <tr>\n",
       "      <th>75%</th>\n",
       "      <td>1.000000</td>\n",
       "    </tr>\n",
       "    <tr>\n",
       "      <th>max</th>\n",
       "      <td>1.000000</td>\n",
       "    </tr>\n",
       "  </tbody>\n",
       "</table>\n",
       "</div>"
      ],
      "text/plain": [
       "             label\n",
       "count  5000.000000\n",
       "mean      0.501000\n",
       "std       0.500049\n",
       "min       0.000000\n",
       "25%       0.000000\n",
       "50%       1.000000\n",
       "75%       1.000000\n",
       "max       1.000000"
      ]
     },
     "execution_count": 79,
     "metadata": {},
     "output_type": "execute_result"
    }
   ],
   "source": [
    "data_test.describe()"
   ]
  },
  {
   "cell_type": "code",
   "execution_count": 92,
   "id": "715beaed",
   "metadata": {},
   "outputs": [],
   "source": [
    "tfidf_vectors_test = tfidf.transform(data_test.text)\n",
    "predictions = model.predict(tfidf_vectors_test)"
   ]
  },
  {
   "cell_type": "code",
   "execution_count": 103,
   "id": "0119e61e",
   "metadata": {},
   "outputs": [
    {
     "data": {
      "text/plain": [
       "array([1])"
      ]
     },
     "execution_count": 103,
     "metadata": {},
     "output_type": "execute_result"
    }
   ],
   "source": [
    "# Beispiel einer einzelnen Vorhersage\n",
    "\n",
    "vector1 = tfidf.transform(['I really hate this horrbile movie!'])\n",
    "model.predict(vector1)"
   ]
  },
  {
   "cell_type": "code",
   "execution_count": 105,
   "id": "da01018a",
   "metadata": {},
   "outputs": [
    {
     "data": {
      "text/plain": [
       "array([0, 0, 0, 1, 0, 1, 0, 1, 0, 0, 0, 1, 0, 0, 0, 0, 0, 1, 1, 1, 1, 0,\n",
       "       1, 1, 0, 1, 1, 0, 0, 0, 1, 0, 1, 0, 0, 1, 0, 1, 0, 1, 0, 0, 1, 0,\n",
       "       1, 1, 0, 0, 1, 0, 1, 1, 0, 1, 1, 0, 1, 1, 0, 0, 1, 0, 0, 1, 1, 1,\n",
       "       0, 0, 0, 1, 0, 1, 0, 1, 0, 0, 1, 0, 1, 1, 0, 1, 1, 0, 0, 1, 1, 0,\n",
       "       0, 0, 0, 1, 0, 0, 1, 1, 1, 1, 1, 0])"
      ]
     },
     "execution_count": 105,
     "metadata": {},
     "output_type": "execute_result"
    }
   ],
   "source": [
    "predictions[:100]"
   ]
  },
  {
   "cell_type": "code",
   "execution_count": 106,
   "id": "447d1929",
   "metadata": {},
   "outputs": [
    {
     "data": {
      "text/plain": [
       "array([0, 0, 0, 1, 0, 1, 0, 1, 0, 0, 0, 1, 0, 0, 0, 0, 0, 0, 1, 1, 1, 0,\n",
       "       1, 1, 0, 1, 1, 0, 0, 0, 1, 0, 1, 1, 0, 1, 0, 1, 0, 1, 0, 0, 1, 0,\n",
       "       1, 1, 0, 0, 1, 0, 1, 1, 0, 1, 0, 0, 1, 1, 0, 1, 1, 0, 0, 1, 1, 1,\n",
       "       0, 0, 0, 1, 0, 1, 0, 1, 0, 0, 1, 0, 1, 1, 0, 1, 1, 0, 0, 1, 1, 0,\n",
       "       0, 0, 0, 1, 0, 0, 1, 0, 1, 1, 0, 0])"
      ]
     },
     "execution_count": 106,
     "metadata": {},
     "output_type": "execute_result"
    }
   ],
   "source": [
    "data_test.label.values[:100]"
   ]
  },
  {
   "cell_type": "code",
   "execution_count": 107,
   "id": "aeccc9f6",
   "metadata": {},
   "outputs": [
    {
     "data": {
      "text/plain": [
       "0.897"
      ]
     },
     "execution_count": 107,
     "metadata": {},
     "output_type": "execute_result"
    }
   ],
   "source": [
    "from sklearn.metrics import confusion_matrix, accuracy_score\n",
    "\n",
    "accuracy_score(data_test.label, predictions)"
   ]
  },
  {
   "cell_type": "code",
   "execution_count": 110,
   "id": "1fc00b41",
   "metadata": {},
   "outputs": [
    {
     "data": {
      "text/plain": [
       "array([[2204,  291],\n",
       "       [ 224, 2281]])"
      ]
     },
     "execution_count": 110,
     "metadata": {},
     "output_type": "execute_result"
    }
   ],
   "source": [
    "confusion_matrix(data_test.label, predictions, labels=[0, 1])"
   ]
  },
  {
   "cell_type": "code",
   "execution_count": 126,
   "id": "e6a797f0",
   "metadata": {},
   "outputs": [
    {
     "data": {
      "text/plain": [
       "<Axes: >"
      ]
     },
     "execution_count": 126,
     "metadata": {},
     "output_type": "execute_result"
    },
    {
     "data": {
      "image/png": "[encoded data removed]",
      "text/plain": [
       "<Figure size 640x480 with 2 Axes>"
      ]
     },
     "metadata": {},
     "output_type": "display_data"
    }
   ],
   "source": [
    "import seaborn as sb\n",
    "\n",
    "sb.heatmap(confusion_matrix(data_test.label, predictions),\n",
    "           annot=True, cmap=\"viridis\", fmt=\"1\")"
   ]
  },
  {
   "attachments": {},
   "cell_type": "markdown",
   "id": "52d0dda6",
   "metadata": {},
   "source": [
    "## Modell interpretieren\n",
    "\n",
    "Einer der Vorteile von *logistic regression* ist, dass wir uns anschauen können was das Modell wirklich \"gelernt\" hat. Dazu können wir die gelernten Koeffizienten ausgeben mit `model.coef_`\n",
    "\n",
    "- Welche Wörter sind am wichtigsten für eine negative oder positive Bewertung (je die Top-10 anzeigen)"
   ]
  },
  {
   "cell_type": "code",
   "execution_count": 112,
   "id": "999c0eb7",
   "metadata": {},
   "outputs": [
    {
     "data": {
      "text/plain": [
       "((1, 33566), (40000, 33566))"
      ]
     },
     "execution_count": 112,
     "metadata": {},
     "output_type": "execute_result"
    }
   ],
   "source": [
    "model.coef_.shape, tfidf_vectors.shape"
   ]
  },
  {
   "cell_type": "code",
   "execution_count": 113,
   "id": "c50b8ca5",
   "metadata": {},
   "outputs": [
    {
     "data": {
      "text/plain": [
       "array([-0.26203402, -0.53808198, -0.05226202, -0.15275128,  0.09787024,\n",
       "       -0.01314556, -0.05020105,  0.08768128, -0.02458163,  0.02998026,\n",
       "       -0.16422829, -0.13902857, -0.43225906,  0.11611976,  1.83183226,\n",
       "        0.18068938, -0.24864996, -0.02610343, -0.26238361,  0.08303376])"
      ]
     },
     "execution_count": 113,
     "metadata": {},
     "output_type": "execute_result"
    }
   ],
   "source": [
    "# Wörter mit Werten nahe 0 werden fast nicht beachtet\n",
    "# Wörter mit höheren Werten werden stärker gewichtet\n",
    "\n",
    "model.coef_[0, :20]"
   ]
  },
  {
   "cell_type": "code",
   "execution_count": 115,
   "id": "890d7a03",
   "metadata": {},
   "outputs": [
    {
     "data": {
      "text/html": [
       "<div>\n",
       "<style scoped>\n",
       "    .dataframe tbody tr th:only-of-type {\n",
       "        vertical-align: middle;\n",
       "    }\n",
       "\n",
       "    .dataframe tbody tr th {\n",
       "        vertical-align: top;\n",
       "    }\n",
       "\n",
       "    .dataframe thead th {\n",
       "        text-align: right;\n",
       "    }\n",
       "</style>\n",
       "<table border=\"1\" class=\"dataframe\">\n",
       "  <thead>\n",
       "    <tr style=\"text-align: right;\">\n",
       "      <th></th>\n",
       "      <th>word</th>\n",
       "      <th>weight</th>\n",
       "    </tr>\n",
       "  </thead>\n",
       "  <tbody>\n",
       "    <tr>\n",
       "      <th>0</th>\n",
       "      <td>00</td>\n",
       "      <td>-0.262034</td>\n",
       "    </tr>\n",
       "    <tr>\n",
       "      <th>1</th>\n",
       "      <td>000</td>\n",
       "      <td>-0.538082</td>\n",
       "    </tr>\n",
       "    <tr>\n",
       "      <th>2</th>\n",
       "      <td>007</td>\n",
       "      <td>-0.052262</td>\n",
       "    </tr>\n",
       "    <tr>\n",
       "      <th>3</th>\n",
       "      <td>00pm</td>\n",
       "      <td>-0.152751</td>\n",
       "    </tr>\n",
       "    <tr>\n",
       "      <th>4</th>\n",
       "      <td>00s</td>\n",
       "      <td>0.097870</td>\n",
       "    </tr>\n",
       "  </tbody>\n",
       "</table>\n",
       "</div>"
      ],
      "text/plain": [
       "   word    weight\n",
       "0    00 -0.262034\n",
       "1   000 -0.538082\n",
       "2   007 -0.052262\n",
       "3  00pm -0.152751\n",
       "4   00s  0.097870"
      ]
     },
     "execution_count": 115,
     "metadata": {},
     "output_type": "execute_result"
    }
   ],
   "source": [
    "ngrams = pd.DataFrame({\"word\": tfidf.get_feature_names_out(),\n",
    "                       \"weight\": model.coef_[0]\n",
    "\n",
    "})\n",
    "\n",
    "ngrams.head()"
   ]
  },
  {
   "cell_type": "code",
   "execution_count": 119,
   "id": "4814833f",
   "metadata": {},
   "outputs": [
    {
     "data": {
      "text/html": [
       "<div>\n",
       "<style scoped>\n",
       "    .dataframe tbody tr th:only-of-type {\n",
       "        vertical-align: middle;\n",
       "    }\n",
       "\n",
       "    .dataframe tbody tr th {\n",
       "        vertical-align: top;\n",
       "    }\n",
       "\n",
       "    .dataframe thead th {\n",
       "        text-align: right;\n",
       "    }\n",
       "</style>\n",
       "<table border=\"1\" class=\"dataframe\">\n",
       "  <thead>\n",
       "    <tr style=\"text-align: right;\">\n",
       "      <th></th>\n",
       "      <th>word</th>\n",
       "      <th>weight</th>\n",
       "    </tr>\n",
       "  </thead>\n",
       "  <tbody>\n",
       "    <tr>\n",
       "      <th>33189</th>\n",
       "      <td>worst</td>\n",
       "      <td>-11.186820</td>\n",
       "    </tr>\n",
       "    <tr>\n",
       "      <th>2394</th>\n",
       "      <td>bad</td>\n",
       "      <td>-8.171654</td>\n",
       "    </tr>\n",
       "    <tr>\n",
       "      <th>2297</th>\n",
       "      <td>awful</td>\n",
       "      <td>-8.155204</td>\n",
       "    </tr>\n",
       "    <tr>\n",
       "      <th>32550</th>\n",
       "      <td>waste</td>\n",
       "      <td>-8.154929</td>\n",
       "    </tr>\n",
       "    <tr>\n",
       "      <th>3667</th>\n",
       "      <td>boring</td>\n",
       "      <td>-6.718864</td>\n",
       "    </tr>\n",
       "    <tr>\n",
       "      <th>...</th>\n",
       "      <td>...</td>\n",
       "      <td>...</td>\n",
       "    </tr>\n",
       "    <tr>\n",
       "      <th>21971</th>\n",
       "      <td>perfect</td>\n",
       "      <td>5.246521</td>\n",
       "    </tr>\n",
       "    <tr>\n",
       "      <th>1238</th>\n",
       "      <td>amazing</td>\n",
       "      <td>5.387926</td>\n",
       "    </tr>\n",
       "    <tr>\n",
       "      <th>33103</th>\n",
       "      <td>wonderful</td>\n",
       "      <td>5.777629</td>\n",
       "    </tr>\n",
       "    <tr>\n",
       "      <th>3050</th>\n",
       "      <td>best</td>\n",
       "      <td>6.098168</td>\n",
       "    </tr>\n",
       "    <tr>\n",
       "      <th>10474</th>\n",
       "      <td>excellent</td>\n",
       "      <td>7.239852</td>\n",
       "    </tr>\n",
       "  </tbody>\n",
       "</table>\n",
       "<p>33566 rows × 2 columns</p>\n",
       "</div>"
      ],
      "text/plain": [
       "            word     weight\n",
       "33189      worst -11.186820\n",
       "2394         bad  -8.171654\n",
       "2297       awful  -8.155204\n",
       "32550      waste  -8.154929\n",
       "3667      boring  -6.718864\n",
       "...          ...        ...\n",
       "21971    perfect   5.246521\n",
       "1238     amazing   5.387926\n",
       "33103  wonderful   5.777629\n",
       "3050        best   6.098168\n",
       "10474  excellent   7.239852\n",
       "\n",
       "[33566 rows x 2 columns]"
      ]
     },
     "execution_count": 119,
     "metadata": {},
     "output_type": "execute_result"
    }
   ],
   "source": [
    "ngrams.sort_values(\"weight\")"
   ]
  },
  {
   "cell_type": "code",
   "execution_count": 123,
   "id": "986beaac",
   "metadata": {},
   "outputs": [
    {
     "data": {
      "text/html": [
       "<div>\n",
       "<style scoped>\n",
       "    .dataframe tbody tr th:only-of-type {\n",
       "        vertical-align: middle;\n",
       "    }\n",
       "\n",
       "    .dataframe tbody tr th {\n",
       "        vertical-align: top;\n",
       "    }\n",
       "\n",
       "    .dataframe thead th {\n",
       "        text-align: right;\n",
       "    }\n",
       "</style>\n",
       "<table border=\"1\" class=\"dataframe\">\n",
       "  <thead>\n",
       "    <tr style=\"text-align: right;\">\n",
       "      <th></th>\n",
       "      <th>word</th>\n",
       "      <th>weight</th>\n",
       "    </tr>\n",
       "  </thead>\n",
       "  <tbody>\n",
       "    <tr>\n",
       "      <th>33189</th>\n",
       "      <td>worst</td>\n",
       "      <td>-11.186820</td>\n",
       "    </tr>\n",
       "    <tr>\n",
       "      <th>2394</th>\n",
       "      <td>bad</td>\n",
       "      <td>-8.171654</td>\n",
       "    </tr>\n",
       "    <tr>\n",
       "      <th>2297</th>\n",
       "      <td>awful</td>\n",
       "      <td>-8.155204</td>\n",
       "    </tr>\n",
       "    <tr>\n",
       "      <th>32550</th>\n",
       "      <td>waste</td>\n",
       "      <td>-8.154929</td>\n",
       "    </tr>\n",
       "    <tr>\n",
       "      <th>3667</th>\n",
       "      <td>boring</td>\n",
       "      <td>-6.718864</td>\n",
       "    </tr>\n",
       "    <tr>\n",
       "      <th>22703</th>\n",
       "      <td>poor</td>\n",
       "      <td>-6.400021</td>\n",
       "    </tr>\n",
       "    <tr>\n",
       "      <th>29890</th>\n",
       "      <td>terrible</td>\n",
       "      <td>-6.276207</td>\n",
       "    </tr>\n",
       "    <tr>\n",
       "      <th>20544</th>\n",
       "      <td>nothing</td>\n",
       "      <td>-5.851620</td>\n",
       "    </tr>\n",
       "    <tr>\n",
       "      <th>14388</th>\n",
       "      <td>horrible</td>\n",
       "      <td>-5.352134</td>\n",
       "    </tr>\n",
       "    <tr>\n",
       "      <th>9314</th>\n",
       "      <td>dull</td>\n",
       "      <td>-5.319214</td>\n",
       "    </tr>\n",
       "    <tr>\n",
       "      <th>33180</th>\n",
       "      <td>worse</td>\n",
       "      <td>-5.296446</td>\n",
       "    </tr>\n",
       "    <tr>\n",
       "      <th>22706</th>\n",
       "      <td>poorly</td>\n",
       "      <td>-5.057921</td>\n",
       "    </tr>\n",
       "    <tr>\n",
       "      <th>28873</th>\n",
       "      <td>stupid</td>\n",
       "      <td>-4.705531</td>\n",
       "    </tr>\n",
       "    <tr>\n",
       "      <th>19251</th>\n",
       "      <td>minutes</td>\n",
       "      <td>-4.626838</td>\n",
       "    </tr>\n",
       "    <tr>\n",
       "      <th>10822</th>\n",
       "      <td>fails</td>\n",
       "      <td>-4.623870</td>\n",
       "    </tr>\n",
       "    <tr>\n",
       "      <th>16959</th>\n",
       "      <td>lame</td>\n",
       "      <td>-4.594133</td>\n",
       "    </tr>\n",
       "    <tr>\n",
       "      <th>29170</th>\n",
       "      <td>supposed</td>\n",
       "      <td>-4.496788</td>\n",
       "    </tr>\n",
       "    <tr>\n",
       "      <th>8490</th>\n",
       "      <td>disappointment</td>\n",
       "      <td>-4.478825</td>\n",
       "    </tr>\n",
       "    <tr>\n",
       "      <th>15512</th>\n",
       "      <td>instead</td>\n",
       "      <td>-4.441357</td>\n",
       "    </tr>\n",
       "    <tr>\n",
       "      <th>1493</th>\n",
       "      <td>annoying</td>\n",
       "      <td>-4.419271</td>\n",
       "    </tr>\n",
       "  </tbody>\n",
       "</table>\n",
       "</div>"
      ],
      "text/plain": [
       "                 word     weight\n",
       "33189           worst -11.186820\n",
       "2394              bad  -8.171654\n",
       "2297            awful  -8.155204\n",
       "32550           waste  -8.154929\n",
       "3667           boring  -6.718864\n",
       "22703            poor  -6.400021\n",
       "29890        terrible  -6.276207\n",
       "20544         nothing  -5.851620\n",
       "14388        horrible  -5.352134\n",
       "9314             dull  -5.319214\n",
       "33180           worse  -5.296446\n",
       "22706          poorly  -5.057921\n",
       "28873          stupid  -4.705531\n",
       "19251         minutes  -4.626838\n",
       "10822           fails  -4.623870\n",
       "16959            lame  -4.594133\n",
       "29170        supposed  -4.496788\n",
       "8490   disappointment  -4.478825\n",
       "15512         instead  -4.441357\n",
       "1493         annoying  -4.419271"
      ]
     },
     "execution_count": 123,
     "metadata": {},
     "output_type": "execute_result"
    }
   ],
   "source": [
    "ngrams.sort_values(\"weight\").head(20)"
   ]
  },
  {
   "cell_type": "code",
   "execution_count": 124,
   "id": "98771a83",
   "metadata": {},
   "outputs": [
    {
     "data": {
      "text/html": [
       "<div>\n",
       "<style scoped>\n",
       "    .dataframe tbody tr th:only-of-type {\n",
       "        vertical-align: middle;\n",
       "    }\n",
       "\n",
       "    .dataframe tbody tr th {\n",
       "        vertical-align: top;\n",
       "    }\n",
       "\n",
       "    .dataframe thead th {\n",
       "        text-align: right;\n",
       "    }\n",
       "</style>\n",
       "<table border=\"1\" class=\"dataframe\">\n",
       "  <thead>\n",
       "    <tr style=\"text-align: right;\">\n",
       "      <th></th>\n",
       "      <th>word</th>\n",
       "      <th>weight</th>\n",
       "    </tr>\n",
       "  </thead>\n",
       "  <tbody>\n",
       "    <tr>\n",
       "      <th>28567</th>\n",
       "      <td>still</td>\n",
       "      <td>3.557178</td>\n",
       "    </tr>\n",
       "    <tr>\n",
       "      <th>16194</th>\n",
       "      <td>job</td>\n",
       "      <td>3.629455</td>\n",
       "    </tr>\n",
       "    <tr>\n",
       "      <th>10031</th>\n",
       "      <td>enjoyable</td>\n",
       "      <td>3.769305</td>\n",
       "    </tr>\n",
       "    <tr>\n",
       "      <th>30323</th>\n",
       "      <td>today</td>\n",
       "      <td>4.041955</td>\n",
       "    </tr>\n",
       "    <tr>\n",
       "      <th>14074</th>\n",
       "      <td>hilarious</td>\n",
       "      <td>4.048213</td>\n",
       "    </tr>\n",
       "    <tr>\n",
       "      <th>17837</th>\n",
       "      <td>love</td>\n",
       "      <td>4.091413</td>\n",
       "    </tr>\n",
       "    <tr>\n",
       "      <th>10912</th>\n",
       "      <td>fantastic</td>\n",
       "      <td>4.152700</td>\n",
       "    </tr>\n",
       "    <tr>\n",
       "      <th>29112</th>\n",
       "      <td>superb</td>\n",
       "      <td>4.215836</td>\n",
       "    </tr>\n",
       "    <tr>\n",
       "      <th>7789</th>\n",
       "      <td>definitely</td>\n",
       "      <td>4.240130</td>\n",
       "    </tr>\n",
       "    <tr>\n",
       "      <th>14054</th>\n",
       "      <td>highly</td>\n",
       "      <td>4.384209</td>\n",
       "    </tr>\n",
       "    <tr>\n",
       "      <th>11018</th>\n",
       "      <td>favorite</td>\n",
       "      <td>4.396969</td>\n",
       "    </tr>\n",
       "    <tr>\n",
       "      <th>10033</th>\n",
       "      <td>enjoyed</td>\n",
       "      <td>4.513081</td>\n",
       "    </tr>\n",
       "    <tr>\n",
       "      <th>12099</th>\n",
       "      <td>fun</td>\n",
       "      <td>4.565236</td>\n",
       "    </tr>\n",
       "    <tr>\n",
       "      <th>3960</th>\n",
       "      <td>brilliant</td>\n",
       "      <td>4.828918</td>\n",
       "    </tr>\n",
       "    <tr>\n",
       "      <th>17842</th>\n",
       "      <td>loved</td>\n",
       "      <td>5.178668</td>\n",
       "    </tr>\n",
       "    <tr>\n",
       "      <th>21971</th>\n",
       "      <td>perfect</td>\n",
       "      <td>5.246521</td>\n",
       "    </tr>\n",
       "    <tr>\n",
       "      <th>1238</th>\n",
       "      <td>amazing</td>\n",
       "      <td>5.387926</td>\n",
       "    </tr>\n",
       "    <tr>\n",
       "      <th>33103</th>\n",
       "      <td>wonderful</td>\n",
       "      <td>5.777629</td>\n",
       "    </tr>\n",
       "    <tr>\n",
       "      <th>3050</th>\n",
       "      <td>best</td>\n",
       "      <td>6.098168</td>\n",
       "    </tr>\n",
       "    <tr>\n",
       "      <th>10474</th>\n",
       "      <td>excellent</td>\n",
       "      <td>7.239852</td>\n",
       "    </tr>\n",
       "  </tbody>\n",
       "</table>\n",
       "</div>"
      ],
      "text/plain": [
       "             word    weight\n",
       "28567       still  3.557178\n",
       "16194         job  3.629455\n",
       "10031   enjoyable  3.769305\n",
       "30323       today  4.041955\n",
       "14074   hilarious  4.048213\n",
       "17837        love  4.091413\n",
       "10912   fantastic  4.152700\n",
       "29112      superb  4.215836\n",
       "7789   definitely  4.240130\n",
       "14054      highly  4.384209\n",
       "11018    favorite  4.396969\n",
       "10033     enjoyed  4.513081\n",
       "12099         fun  4.565236\n",
       "3960    brilliant  4.828918\n",
       "17842       loved  5.178668\n",
       "21971     perfect  5.246521\n",
       "1238      amazing  5.387926\n",
       "33103   wonderful  5.777629\n",
       "3050         best  6.098168\n",
       "10474   excellent  7.239852"
      ]
     },
     "execution_count": 124,
     "metadata": {},
     "output_type": "execute_result"
    }
   ],
   "source": [
    "# ngrams.sort_values(\"weight\", ascending=False).head(20)\n",
    "\n",
    "ngrams.sort_values(\"weight\").tail(20)"
   ]
  },
  {
   "attachments": {},
   "cell_type": "markdown",
   "id": "a8509884",
   "metadata": {},
   "source": [
    "# Vergleich: 2-grams, 3-grams...\n",
    "\n",
    "Bisher haben wir nur mit 1-grams gearbeitet (also einzelnen Wörtern). Wir können aber auch die Häufigkeiten der 2-grams etc. zählen und hinzunehmen. Dazu einfach den Parameter `ngram_range` auf z.B. `(1, 2)` (1-grams und 2-grams).\n",
    "\n",
    "Da es dadurch deutlich mehr Terme gibt, sollten dann aber auch min_df und max_df angepasst werden, z.B `min_df=6` oder 10...\n",
    "\n",
    "- Gibt das eine bessere Vorhersage der Labels?"
   ]
  },
  {
   "cell_type": "code",
   "execution_count": null,
   "id": "a756a186",
   "metadata": {},
   "outputs": [],
   "source": []
  },
  {
   "cell_type": "code",
   "execution_count": null,
   "id": "9ecf3c91",
   "metadata": {},
   "outputs": [],
   "source": []
  }
 ],
 "metadata": {
  "kernelspec": {
   "display_name": "Python 3 (ipykernel)",
   "language": "python",
   "name": "python3"
  },
  "language_info": {
   "codemirror_mode": {
    "name": "ipython",
    "version": 3
   },
   "file_extension": ".py",
   "mimetype": "text/x-python",
   "name": "python",
   "nbconvert_exporter": "python",
   "pygments_lexer": "ipython3",
   "version": "3.9.16"
  }
 },
 "nbformat": 4,
 "nbformat_minor": 5
}
