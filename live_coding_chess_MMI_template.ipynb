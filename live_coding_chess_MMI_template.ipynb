{
 "cells": [
  {
   "cell_type": "markdown",
   "id": "506fffe3",
   "metadata": {},
   "source": [
    "# Einführung Data Science - Praktikum 04 - Chess\n"
   ]
  },
  {
   "cell_type": "markdown",
   "id": "b7114d63",
   "metadata": {},
   "source": [
    "## Bibliotheken importieren"
   ]
  },
  {
   "cell_type": "code",
   "execution_count": 3,
   "id": "bd0f2cc7",
   "metadata": {},
   "outputs": [],
   "source": [
    "import os\n",
    "\n",
    "import numpy as np # linear algebra\n",
    "import pandas as pd # data processing, CSV file I/O (e.g. pd.read_csv)\n",
    "import seaborn as sns # data visualization library  \n",
    "import matplotlib.pyplot as plt"
   ]
  },
  {
   "cell_type": "markdown",
   "id": "6a4e5164",
   "metadata": {},
   "source": [
    "## Data laden\n",
    "**Diesmal nicht so einfach --> Parsing nötig!**\n",
    "\n",
    "Die Daten stammen von der Fédération Internationale des Échecs (FIDE, französisch für Internationaler Schachverband): https://ratings.fide.com/download.phtml\n",
    "\n",
    "Hier wollen wir mit dem Datensatz \"**Standard ratings**\" arbeiten. Die Hausaufgabe dazu war, diese Daten (in Form einer .XML-Datei) zu importieren.\n",
    "Dies geht nicht direkt mit Pandas, sondern die Daten müssen erst eingelesen und in ein Python Dictionary (oder eine Liste) umgewandelt werden. Infos zu dem Schach-Rating, der sogenannten ELO-Zahl: https://de.wikipedia.org/wiki/Elo-Zahl.\n",
    "\n",
    "Wird die Datei in einem Editor geöffnet, schaut sie so aus:\n",
    "```\n",
    "<playerslist>\n",
    "<player>\n",
    "<fideid>25121731</fideid>\n",
    "<name>A C J John</name>\n",
    "<country>IND</country>\n",
    "<sex>M</sex>\n",
    "<title></title>\n",
    "<w_title></w_title>\n",
    "<o_title></o_title>\n",
    "<foa_title></foa_title>\n",
    "<rating>1063</rating>\n",
    "<games>0</games>\n",
    "<k>40</k>\n",
    "<birthday>1987</birthday>\n",
    "<flag>i</flag>\n",
    "</player>\n",
    "<player>\n",
    "<fideid>35077023</fideid>\n",
    "…\n",
    "```"
   ]
  },
  {
   "cell_type": "markdown",
   "id": "3d5936a6",
   "metadata": {},
   "source": [
    "## Parser schreiben\n",
    "Es gibt mehrere Möglichkeiten einen sogennanten \"Parser\" zu schreiben um die Datein einzulesen.\n",
    "\n",
    "XML-Dateien können auch verschiedene Arten importiert werden. Grundlegend kann entweder (1) ein völlig eigenständiger Parser geschrieben werden, der Zeile für Zeile die Datei einliest und interpretiert. Das ist aber recht aufwendig. Einfach ist es oft, existierende Python-Bibliotheken zu nutzen, z.B. `xml` oder `xmltodict`.\n",
    "\n",
    "Andere Quellen:\n",
    "\n",
    "- https://www.geeksforgeeks.org/xml-parsing-python/\n",
    "- https://www.w3schools.com/xml/xml_parser.asp\n",
    "- https://www.delftstack.com/de/howto/python/python-xml-parser/\n"
   ]
  },
  {
   "cell_type": "markdown",
   "id": "e3dd7e1e",
   "metadata": {},
   "source": [
    "## Lösung mit `xmltodict`"
   ]
  },
  {
   "cell_type": "code",
   "execution_count": 8,
   "id": "fdb702e6",
   "metadata": {},
   "outputs": [],
   "source": [
    "import xmltodict\n",
    "\n",
    "# wenn im selben Ordner\n",
    "path_data = \"data\"\n",
    "file_xml = os.path.join(path_data,\"chess_federation_march_2022_standard_rating_list.xml\")\n",
    "# sonst\n",
    "with open(file_xml) as file:\n",
    "    doc = xmltodict.parse(file.read())"
   ]
  },
  {
   "cell_type": "markdown",
   "id": "1762dfdc",
   "metadata": {},
   "source": [
    "### Umwandeln in Pandas DataFrame\n",
    "Mit xmltodoc wird der Inhalt in ein verschachteltes Dictionary umgewandelt."
   ]
  },
  {
   "cell_type": "code",
   "execution_count": 10,
   "id": "c39bedec",
   "metadata": {},
   "outputs": [
    {
     "data": {
      "text/plain": [
       "list"
      ]
     },
     "execution_count": 10,
     "metadata": {},
     "output_type": "execute_result"
    }
   ],
   "source": [
    "type(doc[\"playerslist\"][\"player\"])"
   ]
  },
  {
   "cell_type": "code",
   "execution_count": 11,
   "id": "c2593d09",
   "metadata": {},
   "outputs": [
    {
     "data": {
      "text/plain": [
       "[{'fideid': '25121731',\n",
       "  'name': 'A C J John',\n",
       "  'country': 'IND',\n",
       "  'sex': 'M',\n",
       "  'title': None,\n",
       "  'w_title': None,\n",
       "  'o_title': None,\n",
       "  'foa_title': None,\n",
       "  'rating': '1063',\n",
       "  'games': '0',\n",
       "  'k': '40',\n",
       "  'birthday': '1987',\n",
       "  'flag': 'i'},\n",
       " {'fideid': '35077023',\n",
       "  'name': 'A Chakravarthy',\n",
       "  'country': 'IND',\n",
       "  'sex': 'M',\n",
       "  'title': None,\n",
       "  'w_title': None,\n",
       "  'o_title': None,\n",
       "  'foa_title': None,\n",
       "  'rating': '1151',\n",
       "  'games': '0',\n",
       "  'k': '40',\n",
       "  'birthday': '1986',\n",
       "  'flag': 'i'}]"
      ]
     },
     "execution_count": 11,
     "metadata": {},
     "output_type": "execute_result"
    }
   ],
   "source": [
    "doc[\"playerslist\"][\"player\"][:2]"
   ]
  },
  {
   "cell_type": "code",
   "execution_count": 12,
   "id": "1d9e65a9",
   "metadata": {},
   "outputs": [],
   "source": [
    "data = pd.DataFrame(doc[\"playerslist\"][\"player\"])"
   ]
  },
  {
   "cell_type": "code",
   "execution_count": 16,
   "id": "a1db6e9a",
   "metadata": {},
   "outputs": [
    {
     "name": "stdout",
     "output_type": "stream",
     "text": [
      "<class 'pandas.core.frame.DataFrame'>\n",
      "RangeIndex: 380786 entries, 0 to 380785\n",
      "Data columns (total 13 columns):\n",
      " #   Column     Non-Null Count   Dtype \n",
      "---  ------     --------------   ----- \n",
      " 0   fideid     380786 non-null  object\n",
      " 1   name       380786 non-null  object\n",
      " 2   country    380786 non-null  object\n",
      " 3   sex        380786 non-null  object\n",
      " 4   title      19781 non-null   object\n",
      " 5   w_title    3937 non-null    object\n",
      " 6   o_title    1099 non-null    object\n",
      " 7   foa_title  2131 non-null    object\n",
      " 8   rating     380786 non-null  object\n",
      " 9   games      380786 non-null  object\n",
      " 10  k          380786 non-null  object\n",
      " 11  birthday   372269 non-null  object\n",
      " 12  flag       259745 non-null  object\n",
      "dtypes: object(13)\n",
      "memory usage: 37.8+ MB\n"
     ]
    }
   ],
   "source": [
    "data.info()"
   ]
  },
  {
   "cell_type": "code",
   "execution_count": 17,
   "id": "5a2eea4f",
   "metadata": {},
   "outputs": [],
   "source": [
    "data.to_csv(os.path.join(\"data\",\"chess_ratings_2022.csv\"), index=False)"
   ]
  },
  {
   "cell_type": "markdown",
   "id": "e798de81",
   "metadata": {},
   "source": [
    "# (1) Erste Datenerkundung\n",
    "- Wie viele und welche Spalten gibt es? --> `data.columns`\n",
    "- Gibt es fehlende Werte? --> `.info()`\n",
    "- erster Überblick und: Gibt es merkwürdige Einträge --> `.describe()`\n",
    "\n",
    "### Ausfüllen:\n",
    "- Anzahl der Spalten: ...\n",
    "- Gibt es fehlende Werte und wenn ja, welche? ..."
   ]
  },
  {
   "cell_type": "code",
   "execution_count": 18,
   "id": "86329680",
   "metadata": {},
   "outputs": [
    {
     "data": {
      "text/plain": [
       "Index(['fideid', 'name', 'country', 'sex', 'title', 'w_title', 'o_title',\n",
       "       'foa_title', 'rating', 'games', 'k', 'birthday', 'flag'],\n",
       "      dtype='object')"
      ]
     },
     "execution_count": 18,
     "metadata": {},
     "output_type": "execute_result"
    }
   ],
   "source": [
    "data.columns"
   ]
  },
  {
   "cell_type": "code",
   "execution_count": 19,
   "id": "8490ca7c",
   "metadata": {},
   "outputs": [
    {
     "data": {
      "text/html": [
       "<div>\n",
       "<style scoped>\n",
       "    .dataframe tbody tr th:only-of-type {\n",
       "        vertical-align: middle;\n",
       "    }\n",
       "\n",
       "    .dataframe tbody tr th {\n",
       "        vertical-align: top;\n",
       "    }\n",
       "\n",
       "    .dataframe thead th {\n",
       "        text-align: right;\n",
       "    }\n",
       "</style>\n",
       "<table border=\"1\" class=\"dataframe\">\n",
       "  <thead>\n",
       "    <tr style=\"text-align: right;\">\n",
       "      <th></th>\n",
       "      <th>fideid</th>\n",
       "      <th>name</th>\n",
       "      <th>country</th>\n",
       "      <th>sex</th>\n",
       "      <th>title</th>\n",
       "      <th>w_title</th>\n",
       "      <th>o_title</th>\n",
       "      <th>foa_title</th>\n",
       "      <th>rating</th>\n",
       "      <th>games</th>\n",
       "      <th>k</th>\n",
       "      <th>birthday</th>\n",
       "      <th>flag</th>\n",
       "    </tr>\n",
       "  </thead>\n",
       "  <tbody>\n",
       "    <tr>\n",
       "      <th>0</th>\n",
       "      <td>25121731</td>\n",
       "      <td>A C J John</td>\n",
       "      <td>IND</td>\n",
       "      <td>M</td>\n",
       "      <td>None</td>\n",
       "      <td>None</td>\n",
       "      <td>None</td>\n",
       "      <td>None</td>\n",
       "      <td>1063</td>\n",
       "      <td>0</td>\n",
       "      <td>40</td>\n",
       "      <td>1987</td>\n",
       "      <td>i</td>\n",
       "    </tr>\n",
       "    <tr>\n",
       "      <th>1</th>\n",
       "      <td>35077023</td>\n",
       "      <td>A Chakravarthy</td>\n",
       "      <td>IND</td>\n",
       "      <td>M</td>\n",
       "      <td>None</td>\n",
       "      <td>None</td>\n",
       "      <td>None</td>\n",
       "      <td>None</td>\n",
       "      <td>1151</td>\n",
       "      <td>0</td>\n",
       "      <td>40</td>\n",
       "      <td>1986</td>\n",
       "      <td>i</td>\n",
       "    </tr>\n",
       "    <tr>\n",
       "      <th>2</th>\n",
       "      <td>10207538</td>\n",
       "      <td>A E M, Doshtagir</td>\n",
       "      <td>BAN</td>\n",
       "      <td>M</td>\n",
       "      <td>None</td>\n",
       "      <td>None</td>\n",
       "      <td>None</td>\n",
       "      <td>None</td>\n",
       "      <td>1840</td>\n",
       "      <td>0</td>\n",
       "      <td>40</td>\n",
       "      <td>1974</td>\n",
       "      <td>i</td>\n",
       "    </tr>\n",
       "    <tr>\n",
       "      <th>3</th>\n",
       "      <td>10680810</td>\n",
       "      <td>A hamed Ashraf, Abdallah</td>\n",
       "      <td>EGY</td>\n",
       "      <td>M</td>\n",
       "      <td>None</td>\n",
       "      <td>None</td>\n",
       "      <td>None</td>\n",
       "      <td>None</td>\n",
       "      <td>1728</td>\n",
       "      <td>0</td>\n",
       "      <td>40</td>\n",
       "      <td>2001</td>\n",
       "      <td>i</td>\n",
       "    </tr>\n",
       "    <tr>\n",
       "      <th>4</th>\n",
       "      <td>5716365</td>\n",
       "      <td>A Hamid, Harman</td>\n",
       "      <td>MAS</td>\n",
       "      <td>M</td>\n",
       "      <td>None</td>\n",
       "      <td>None</td>\n",
       "      <td>None</td>\n",
       "      <td>None</td>\n",
       "      <td>1325</td>\n",
       "      <td>0</td>\n",
       "      <td>40</td>\n",
       "      <td>1970</td>\n",
       "      <td>i</td>\n",
       "    </tr>\n",
       "  </tbody>\n",
       "</table>\n",
       "</div>"
      ],
      "text/plain": [
       "     fideid                      name country sex title w_title o_title  \\\n",
       "0  25121731                A C J John     IND   M  None    None    None   \n",
       "1  35077023            A Chakravarthy     IND   M  None    None    None   \n",
       "2  10207538          A E M, Doshtagir     BAN   M  None    None    None   \n",
       "3  10680810  A hamed Ashraf, Abdallah     EGY   M  None    None    None   \n",
       "4   5716365           A Hamid, Harman     MAS   M  None    None    None   \n",
       "\n",
       "  foa_title rating games   k birthday flag  \n",
       "0      None   1063     0  40     1987    i  \n",
       "1      None   1151     0  40     1986    i  \n",
       "2      None   1840     0  40     1974    i  \n",
       "3      None   1728     0  40     2001    i  \n",
       "4      None   1325     0  40     1970    i  "
      ]
     },
     "execution_count": 19,
     "metadata": {},
     "output_type": "execute_result"
    }
   ],
   "source": [
    "data.head()"
   ]
  },
  {
   "cell_type": "code",
   "execution_count": 20,
   "id": "b6bb2701",
   "metadata": {},
   "outputs": [
    {
     "data": {
      "text/html": [
       "<div>\n",
       "<style scoped>\n",
       "    .dataframe tbody tr th:only-of-type {\n",
       "        vertical-align: middle;\n",
       "    }\n",
       "\n",
       "    .dataframe tbody tr th {\n",
       "        vertical-align: top;\n",
       "    }\n",
       "\n",
       "    .dataframe thead th {\n",
       "        text-align: right;\n",
       "    }\n",
       "</style>\n",
       "<table border=\"1\" class=\"dataframe\">\n",
       "  <thead>\n",
       "    <tr style=\"text-align: right;\">\n",
       "      <th></th>\n",
       "      <th>fideid</th>\n",
       "      <th>name</th>\n",
       "      <th>country</th>\n",
       "      <th>sex</th>\n",
       "      <th>title</th>\n",
       "      <th>w_title</th>\n",
       "      <th>o_title</th>\n",
       "      <th>foa_title</th>\n",
       "      <th>rating</th>\n",
       "      <th>games</th>\n",
       "      <th>k</th>\n",
       "      <th>birthday</th>\n",
       "      <th>flag</th>\n",
       "    </tr>\n",
       "  </thead>\n",
       "  <tbody>\n",
       "    <tr>\n",
       "      <th>count</th>\n",
       "      <td>380786</td>\n",
       "      <td>380786</td>\n",
       "      <td>380786</td>\n",
       "      <td>380786</td>\n",
       "      <td>19781</td>\n",
       "      <td>3937</td>\n",
       "      <td>1099</td>\n",
       "      <td>2131</td>\n",
       "      <td>380786</td>\n",
       "      <td>380786</td>\n",
       "      <td>380786</td>\n",
       "      <td>372269</td>\n",
       "      <td>259745</td>\n",
       "    </tr>\n",
       "    <tr>\n",
       "      <th>unique</th>\n",
       "      <td>380786</td>\n",
       "      <td>374645</td>\n",
       "      <td>193</td>\n",
       "      <td>2</td>\n",
       "      <td>9</td>\n",
       "      <td>5</td>\n",
       "      <td>22</td>\n",
       "      <td>4</td>\n",
       "      <td>1715</td>\n",
       "      <td>38</td>\n",
       "      <td>4</td>\n",
       "      <td>98</td>\n",
       "      <td>3</td>\n",
       "    </tr>\n",
       "    <tr>\n",
       "      <th>top</th>\n",
       "      <td>25121731</td>\n",
       "      <td>Mueller, Michael</td>\n",
       "      <td>RUS</td>\n",
       "      <td>M</td>\n",
       "      <td>FM</td>\n",
       "      <td>WFM</td>\n",
       "      <td>SI</td>\n",
       "      <td>AIM</td>\n",
       "      <td>2005</td>\n",
       "      <td>0</td>\n",
       "      <td>40</td>\n",
       "      <td>2004</td>\n",
       "      <td>i</td>\n",
       "    </tr>\n",
       "    <tr>\n",
       "      <th>freq</th>\n",
       "      <td>1</td>\n",
       "      <td>10</td>\n",
       "      <td>37172</td>\n",
       "      <td>340297</td>\n",
       "      <td>8395</td>\n",
       "      <td>1800</td>\n",
       "      <td>311</td>\n",
       "      <td>725</td>\n",
       "      <td>428</td>\n",
       "      <td>345636</td>\n",
       "      <td>209561</td>\n",
       "      <td>12003</td>\n",
       "      <td>219256</td>\n",
       "    </tr>\n",
       "  </tbody>\n",
       "</table>\n",
       "</div>"
      ],
      "text/plain": [
       "          fideid              name country     sex  title w_title o_title  \\\n",
       "count     380786            380786  380786  380786  19781    3937    1099   \n",
       "unique    380786            374645     193       2      9       5      22   \n",
       "top     25121731  Mueller, Michael     RUS       M     FM     WFM      SI   \n",
       "freq           1                10   37172  340297   8395    1800     311   \n",
       "\n",
       "       foa_title  rating   games       k birthday    flag  \n",
       "count       2131  380786  380786  380786   372269  259745  \n",
       "unique         4    1715      38       4       98       3  \n",
       "top          AIM    2005       0      40     2004       i  \n",
       "freq         725     428  345636  209561    12003  219256  "
      ]
     },
     "execution_count": 20,
     "metadata": {},
     "output_type": "execute_result"
    }
   ],
   "source": [
    "data.describe()"
   ]
  },
  {
   "cell_type": "code",
   "execution_count": 21,
   "id": "4f41b57b",
   "metadata": {},
   "outputs": [
    {
     "name": "stdout",
     "output_type": "stream",
     "text": [
      "<class 'pandas.core.frame.DataFrame'>\n",
      "RangeIndex: 380786 entries, 0 to 380785\n",
      "Data columns (total 13 columns):\n",
      " #   Column     Non-Null Count   Dtype \n",
      "---  ------     --------------   ----- \n",
      " 0   fideid     380786 non-null  object\n",
      " 1   name       380786 non-null  object\n",
      " 2   country    380786 non-null  object\n",
      " 3   sex        380786 non-null  object\n",
      " 4   title      19781 non-null   object\n",
      " 5   w_title    3937 non-null    object\n",
      " 6   o_title    1099 non-null    object\n",
      " 7   foa_title  2131 non-null    object\n",
      " 8   rating     380786 non-null  object\n",
      " 9   games      380786 non-null  object\n",
      " 10  k          380786 non-null  object\n",
      " 11  birthday   372269 non-null  object\n",
      " 12  flag       259745 non-null  object\n",
      "dtypes: object(13)\n",
      "memory usage: 37.8+ MB\n"
     ]
    }
   ],
   "source": [
    "data.info()"
   ]
  },
  {
   "cell_type": "markdown",
   "id": "30844edc",
   "metadata": {},
   "source": [
    "# (2) Data cleaning\n",
    "\n",
    "Die Daten können nun für unsere Zwecke etwas vereinfacht werden, indem wir nur die für uns relevanten Feature/Variablen behalten."
   ]
  },
  {
   "cell_type": "markdown",
   "id": "c492e289",
   "metadata": {},
   "source": [
    "Cleanen Sie das DataFrame, indem Sie nur die Spalten `\"name\", \"country\", \"sex\", \"rating\", \"birthday\"` behalten."
   ]
  },
  {
   "cell_type": "code",
   "execution_count": 23,
   "id": "abae1fcd",
   "metadata": {},
   "outputs": [],
   "source": [
    "keep_columns = [\"name\", \"country\", \"sex\", \"rating\", \"birthday\"]\n",
    "data = data[keep_columns]"
   ]
  },
  {
   "cell_type": "markdown",
   "id": "866e2f0f",
   "metadata": {},
   "source": [
    "Einträge mit fehlenden Werten entfernen (`.dropna()`)"
   ]
  },
  {
   "cell_type": "code",
   "execution_count": 33,
   "id": "610d9f07",
   "metadata": {},
   "outputs": [
    {
     "data": {
      "text/plain": [
       "array([1063, 1151, 1840, ..., 1856, 1519, 1150])"
      ]
     },
     "execution_count": 33,
     "metadata": {},
     "output_type": "execute_result"
    }
   ],
   "source": [
    "data = data.dropna()\n",
    "data.head()"
   ]
  },
  {
   "cell_type": "markdown",
   "id": "a863ae97",
   "metadata": {},
   "source": [
    "Wo nötig Strings in Zahlen umwandeln, z.B. mit `data.xyz = data.xyz.astype(int)`."
   ]
  },
  {
   "cell_type": "code",
   "execution_count": 32,
   "id": "ea3b69f9",
   "metadata": {},
   "outputs": [],
   "source": [
    "data.rating = data.rating.astype(int)\n",
    "data.birthday = data.birthday.astype(int)"
   ]
  },
  {
   "cell_type": "markdown",
   "id": "d86f6324",
   "metadata": {},
   "source": [
    "Die aufgereinigten Daten noch einmal anschauen mit `.head()`, `.info()` sowie `.describe()`. **TIPP**: Um alle Spalten anzuzeigen können wir am besten `.describe(include=\"all\")` ausführen!"
   ]
  },
  {
   "cell_type": "code",
   "execution_count": 34,
   "id": "ff01c882",
   "metadata": {},
   "outputs": [
    {
     "data": {
      "text/html": [
       "<div>\n",
       "<style scoped>\n",
       "    .dataframe tbody tr th:only-of-type {\n",
       "        vertical-align: middle;\n",
       "    }\n",
       "\n",
       "    .dataframe tbody tr th {\n",
       "        vertical-align: top;\n",
       "    }\n",
       "\n",
       "    .dataframe thead th {\n",
       "        text-align: right;\n",
       "    }\n",
       "</style>\n",
       "<table border=\"1\" class=\"dataframe\">\n",
       "  <thead>\n",
       "    <tr style=\"text-align: right;\">\n",
       "      <th></th>\n",
       "      <th>name</th>\n",
       "      <th>country</th>\n",
       "      <th>sex</th>\n",
       "      <th>rating</th>\n",
       "      <th>birthday</th>\n",
       "    </tr>\n",
       "  </thead>\n",
       "  <tbody>\n",
       "    <tr>\n",
       "      <th>0</th>\n",
       "      <td>A C J John</td>\n",
       "      <td>IND</td>\n",
       "      <td>M</td>\n",
       "      <td>1063</td>\n",
       "      <td>1987</td>\n",
       "    </tr>\n",
       "    <tr>\n",
       "      <th>1</th>\n",
       "      <td>A Chakravarthy</td>\n",
       "      <td>IND</td>\n",
       "      <td>M</td>\n",
       "      <td>1151</td>\n",
       "      <td>1986</td>\n",
       "    </tr>\n",
       "    <tr>\n",
       "      <th>2</th>\n",
       "      <td>A E M, Doshtagir</td>\n",
       "      <td>BAN</td>\n",
       "      <td>M</td>\n",
       "      <td>1840</td>\n",
       "      <td>1974</td>\n",
       "    </tr>\n",
       "    <tr>\n",
       "      <th>3</th>\n",
       "      <td>A hamed Ashraf, Abdallah</td>\n",
       "      <td>EGY</td>\n",
       "      <td>M</td>\n",
       "      <td>1728</td>\n",
       "      <td>2001</td>\n",
       "    </tr>\n",
       "    <tr>\n",
       "      <th>4</th>\n",
       "      <td>A Hamid, Harman</td>\n",
       "      <td>MAS</td>\n",
       "      <td>M</td>\n",
       "      <td>1325</td>\n",
       "      <td>1970</td>\n",
       "    </tr>\n",
       "  </tbody>\n",
       "</table>\n",
       "</div>"
      ],
      "text/plain": [
       "                       name country sex  rating  birthday\n",
       "0                A C J John     IND   M    1063      1987\n",
       "1            A Chakravarthy     IND   M    1151      1986\n",
       "2          A E M, Doshtagir     BAN   M    1840      1974\n",
       "3  A hamed Ashraf, Abdallah     EGY   M    1728      2001\n",
       "4           A Hamid, Harman     MAS   M    1325      1970"
      ]
     },
     "execution_count": 34,
     "metadata": {},
     "output_type": "execute_result"
    }
   ],
   "source": [
    "data.head()"
   ]
  },
  {
   "cell_type": "code",
   "execution_count": 38,
   "id": "06aa52c3",
   "metadata": {},
   "outputs": [
    {
     "data": {
      "text/html": [
       "<div>\n",
       "<style scoped>\n",
       "    .dataframe tbody tr th:only-of-type {\n",
       "        vertical-align: middle;\n",
       "    }\n",
       "\n",
       "    .dataframe tbody tr th {\n",
       "        vertical-align: top;\n",
       "    }\n",
       "\n",
       "    .dataframe thead th {\n",
       "        text-align: right;\n",
       "    }\n",
       "</style>\n",
       "<table border=\"1\" class=\"dataframe\">\n",
       "  <thead>\n",
       "    <tr style=\"text-align: right;\">\n",
       "      <th></th>\n",
       "      <th>name</th>\n",
       "      <th>country</th>\n",
       "      <th>sex</th>\n",
       "      <th>rating</th>\n",
       "      <th>birthday</th>\n",
       "    </tr>\n",
       "  </thead>\n",
       "  <tbody>\n",
       "    <tr>\n",
       "      <th>count</th>\n",
       "      <td>372269</td>\n",
       "      <td>372269</td>\n",
       "      <td>372269</td>\n",
       "      <td>372269.000000</td>\n",
       "      <td>372269.000000</td>\n",
       "    </tr>\n",
       "    <tr>\n",
       "      <th>unique</th>\n",
       "      <td>366255</td>\n",
       "      <td>192</td>\n",
       "      <td>2</td>\n",
       "      <td>NaN</td>\n",
       "      <td>NaN</td>\n",
       "    </tr>\n",
       "    <tr>\n",
       "      <th>top</th>\n",
       "      <td>Mueller, Michael</td>\n",
       "      <td>RUS</td>\n",
       "      <td>M</td>\n",
       "      <td>NaN</td>\n",
       "      <td>NaN</td>\n",
       "    </tr>\n",
       "    <tr>\n",
       "      <th>freq</th>\n",
       "      <td>10</td>\n",
       "      <td>36561</td>\n",
       "      <td>332413</td>\n",
       "      <td>NaN</td>\n",
       "      <td>NaN</td>\n",
       "    </tr>\n",
       "    <tr>\n",
       "      <th>mean</th>\n",
       "      <td>NaN</td>\n",
       "      <td>NaN</td>\n",
       "      <td>NaN</td>\n",
       "      <td>1640.763370</td>\n",
       "      <td>1983.358292</td>\n",
       "    </tr>\n",
       "    <tr>\n",
       "      <th>std</th>\n",
       "      <td>NaN</td>\n",
       "      <td>NaN</td>\n",
       "      <td>NaN</td>\n",
       "      <td>348.903526</td>\n",
       "      <td>20.130512</td>\n",
       "    </tr>\n",
       "    <tr>\n",
       "      <th>min</th>\n",
       "      <td>NaN</td>\n",
       "      <td>NaN</td>\n",
       "      <td>NaN</td>\n",
       "      <td>1001.000000</td>\n",
       "      <td>1919.000000</td>\n",
       "    </tr>\n",
       "    <tr>\n",
       "      <th>25%</th>\n",
       "      <td>NaN</td>\n",
       "      <td>NaN</td>\n",
       "      <td>NaN</td>\n",
       "      <td>1357.000000</td>\n",
       "      <td>1967.000000</td>\n",
       "    </tr>\n",
       "    <tr>\n",
       "      <th>50%</th>\n",
       "      <td>NaN</td>\n",
       "      <td>NaN</td>\n",
       "      <td>NaN</td>\n",
       "      <td>1641.000000</td>\n",
       "      <td>1988.000000</td>\n",
       "    </tr>\n",
       "    <tr>\n",
       "      <th>75%</th>\n",
       "      <td>NaN</td>\n",
       "      <td>NaN</td>\n",
       "      <td>NaN</td>\n",
       "      <td>1909.000000</td>\n",
       "      <td>2001.000000</td>\n",
       "    </tr>\n",
       "    <tr>\n",
       "      <th>max</th>\n",
       "      <td>NaN</td>\n",
       "      <td>NaN</td>\n",
       "      <td>NaN</td>\n",
       "      <td>2864.000000</td>\n",
       "      <td>2016.000000</td>\n",
       "    </tr>\n",
       "  </tbody>\n",
       "</table>\n",
       "</div>"
      ],
      "text/plain": [
       "                    name country     sex         rating       birthday\n",
       "count             372269  372269  372269  372269.000000  372269.000000\n",
       "unique            366255     192       2            NaN            NaN\n",
       "top     Mueller, Michael     RUS       M            NaN            NaN\n",
       "freq                  10   36561  332413            NaN            NaN\n",
       "mean                 NaN     NaN     NaN    1640.763370    1983.358292\n",
       "std                  NaN     NaN     NaN     348.903526      20.130512\n",
       "min                  NaN     NaN     NaN    1001.000000    1919.000000\n",
       "25%                  NaN     NaN     NaN    1357.000000    1967.000000\n",
       "50%                  NaN     NaN     NaN    1641.000000    1988.000000\n",
       "75%                  NaN     NaN     NaN    1909.000000    2001.000000\n",
       "max                  NaN     NaN     NaN    2864.000000    2016.000000"
      ]
     },
     "execution_count": 38,
     "metadata": {},
     "output_type": "execute_result"
    }
   ],
   "source": [
    "data.describe(include=\"all\")"
   ]
  },
  {
   "cell_type": "code",
   "execution_count": 36,
   "id": "2e59c4e3",
   "metadata": {},
   "outputs": [
    {
     "name": "stdout",
     "output_type": "stream",
     "text": [
      "<class 'pandas.core.frame.DataFrame'>\n",
      "Int64Index: 372269 entries, 0 to 380785\n",
      "Data columns (total 5 columns):\n",
      " #   Column    Non-Null Count   Dtype \n",
      "---  ------    --------------   ----- \n",
      " 0   name      372269 non-null  object\n",
      " 1   country   372269 non-null  object\n",
      " 2   sex       372269 non-null  object\n",
      " 3   rating    372269 non-null  int32 \n",
      " 4   birthday  372269 non-null  int32 \n",
      "dtypes: int32(2), object(3)\n",
      "memory usage: 22.3+ MB\n"
     ]
    }
   ],
   "source": [
    "data.info()"
   ]
  },
  {
   "cell_type": "markdown",
   "id": "d27515f0",
   "metadata": {},
   "source": [
    "Wie viele verschiedene Länder sind im Datensatz enthalten? (Antwort: ...)"
   ]
  },
  {
   "cell_type": "code",
   "execution_count": 42,
   "id": "9f280ea2",
   "metadata": {},
   "outputs": [
    {
     "data": {
      "text/plain": [
       "192"
      ]
     },
     "execution_count": 42,
     "metadata": {},
     "output_type": "execute_result"
    }
   ],
   "source": [
    "len(data.country.unique())"
   ]
  },
  {
   "attachments": {},
   "cell_type": "markdown",
   "id": "9c790702",
   "metadata": {},
   "source": [
    "192"
   ]
  },
  {
   "cell_type": "markdown",
   "id": "6a493804",
   "metadata": {},
   "source": [
    "In welchem Zahlbereich (range/Spannweite) liegen die Werte für `rating`? (Antwort: ...)"
   ]
  },
  {
   "attachments": {},
   "cell_type": "markdown",
   "id": "61437ab5",
   "metadata": {},
   "source": [
    "A.: 1001 bis 2864"
   ]
  },
  {
   "cell_type": "markdown",
   "id": "1e9896d0",
   "metadata": {},
   "source": [
    "Wie alt ist der/die älteste Spieler\\*In? (Antwort: ...)"
   ]
  },
  {
   "attachments": {},
   "cell_type": "markdown",
   "id": "67f3b1f1",
   "metadata": {},
   "source": [
    "A.: 1919"
   ]
  },
  {
   "cell_type": "markdown",
   "id": "7b3d769a",
   "metadata": {},
   "source": [
    "Wie alt ist der/die jüngste Spieler\\*In? (Antwort: ...)"
   ]
  },
  {
   "attachments": {},
   "cell_type": "markdown",
   "id": "abc78778",
   "metadata": {},
   "source": [
    "A.: 2016"
   ]
  },
  {
   "cell_type": "markdown",
   "id": "0f1a6b21",
   "metadata": {},
   "source": [
    "---\n",
    "# (3) Analysen\n",
    "\n",
    "\n",
    "## Pandas Wiederholung:\n",
    "\n",
    "### Kategorialer Variablen anschauen\n",
    "Mit Pandas können wir uns sehr schnell und einfach anschauen welche Kategorien wie oft vorkommen, nämlich mit `.value_counts(\"hier_name_der_spalte\")`.\n",
    "\n",
    "### Grafisches Darstellen:\n",
    "Mit Pandas können wir Ergebnisse oft sehr schnell grafisch darstellen, z.B. über `.plot(kind=\"hist\")`. Hierbei können wir aus vielen Typen wählen, etwa `hist`, `pie`, `scatter`, `bar`, `barh`.\n",
    "\n",
    "### Sortieren\n",
    "Um die Tabelle nach Werten zu sortieren nutzen wir `.sort_values(\"name_der_spalte\")`. Dies sortiert die Tabelle nach der gewünschten Spalte, allerdings in aufsteigender Richtung. Für die umgekehrte Sortierung nehmen wir `.sort_values(\"name_der_spalte\", ascending=False)`.\n",
    "\n",
    "### Auswählen von Daten mittels Maske:\n",
    "Wir können einen Teil der Daten mit einer Maske auswählen, nach dem Muster\n",
    "\n",
    "```python\n",
    "mask = (data[spalten_name_hier] == ... )  # <, >, ==, >=,...\n",
    "data[mask]\n",
    "```\n",
    "\n",
    "Mehrere Masken können angewendet werden durch z.B.\n",
    "\n",
    "```python\n",
    "mask1 = (data[spalten_name_hier] == ... )  # <, >, ==, >=,...\n",
    "mask2 = (data[spalten_name_hier] > ... )  \n",
    "data[mask1 & mask2]\n",
    "```"
   ]
  },
  {
   "cell_type": "markdown",
   "id": "a74d4386",
   "metadata": {},
   "source": [
    "## (3.1) Gender-gap und beste Spieler\\*Innen analysieren\n",
    "\n",
    "Wie viele männliche und weibliche Spieler\\*Innen sind im Datensatz enthalten?"
   ]
  },
  {
   "cell_type": "code",
   "execution_count": 50,
   "id": "028fb812",
   "metadata": {},
   "outputs": [
    {
     "data": {
      "text/plain": [
       "sex\n",
       "M    332413\n",
       "F     39856\n",
       "dtype: int64"
      ]
     },
     "execution_count": 50,
     "metadata": {},
     "output_type": "execute_result"
    }
   ],
   "source": [
    "data.value_counts(\"sex\")"
   ]
  },
  {
   "cell_type": "markdown",
   "id": "5d66a33b",
   "metadata": {},
   "source": [
    "---\n",
    "Wie ist die Prozentuale Verteilung (männlich vs. weiblich)?"
   ]
  },
  {
   "cell_type": "code",
   "execution_count": 47,
   "id": "3d9f175a",
   "metadata": {},
   "outputs": [
    {
     "data": {
      "text/plain": [
       "'Anteil Frauen: 11.99 %.'"
      ]
     },
     "execution_count": 47,
     "metadata": {},
     "output_type": "execute_result"
    }
   ],
   "source": [
    "f_vs_m = data.value_counts(\"sex\")\n",
    "ratio = f_vs_m[\"F\"] / f_vs_m[\"M\"]\n",
    "f\"Anteil Frauen: {(ratio*100):.2f} %.\""
   ]
  },
  {
   "cell_type": "markdown",
   "id": "4faa660f",
   "metadata": {},
   "source": [
    "---\n",
    "Erstellen Sie einen Pie-Plot zu dieser Verteilung."
   ]
  },
  {
   "cell_type": "code",
   "execution_count": 55,
   "id": "ab7a43bd",
   "metadata": {},
   "outputs": [
    {
     "data": {
      "text/plain": [
       "<AxesSubplot: >"
      ]
     },
     "execution_count": 55,
     "metadata": {},
     "output_type": "execute_result"
    },
    {
     "data": {
      "image/png": "[encoded data removed]",
      "text/plain": [
       "<Figure size 640x480 with 1 Axes>"
      ]
     },
     "metadata": {},
     "output_type": "display_data"
    }
   ],
   "source": [
    "data.value_counts(\"sex\").plot.pie()"
   ]
  },
  {
   "cell_type": "markdown",
   "id": "f483cc6e",
   "metadata": {},
   "source": [
    "---\n",
    "Wie sind die Geburtsjahrgänge bei Männern und Frauen verteilt? Gibt es hier deutliche Unterschiede oder eher nicht?\n",
    "\n",
    "Erstellen Sie jeweils ein Histogramm für Frauen und für Männer. "
   ]
  },
  {
   "cell_type": "code",
   "execution_count": 56,
   "id": "d8f7e55c",
   "metadata": {},
   "outputs": [
    {
     "data": {
      "text/plain": [
       "<AxesSubplot: ylabel='Frequency'>"
      ]
     },
     "execution_count": 56,
     "metadata": {},
     "output_type": "execute_result"
    },
    {
     "data": {
      "image/png": "[encoded data removed]",
      "text/plain": [
       "<Figure size 640x480 with 1 Axes>"
      ]
     },
     "metadata": {},
     "output_type": "display_data"
    }
   ],
   "source": [
    "mask_f = data.sex == \"F\"\n",
    "data[mask_f][\"birthday\"].plot(kind=\"hist\", bins=30, rwidth=0.8)"
   ]
  },
  {
   "cell_type": "code",
   "execution_count": 58,
   "id": "489251c0",
   "metadata": {
    "scrolled": true
   },
   "outputs": [
    {
     "data": {
      "text/plain": [
       "<AxesSubplot: ylabel='Frequency'>"
      ]
     },
     "execution_count": 58,
     "metadata": {},
     "output_type": "execute_result"
    },
    {
     "data": {
      "image/png": "[encoded data removed]",
      "text/plain": [
       "<Figure size 640x480 with 1 Axes>"
      ]
     },
     "metadata": {},
     "output_type": "display_data"
    }
   ],
   "source": [
    "mask_m = data.sex == \"M\"\n",
    "data[mask_m][\"birthday\"].plot(kind=\"hist\", bins=30, rwidth=0.8)"
   ]
  },
  {
   "cell_type": "markdown",
   "id": "9ad0fd29",
   "metadata": {},
   "source": [
    "Vergleichbarkeit verbessern: Normieren auf Wert 1 und mit Transparenz überlappen."
   ]
  },
  {
   "cell_type": "code",
   "execution_count": 59,
   "id": "f0ff9e39",
   "metadata": {
    "scrolled": true
   },
   "outputs": [
    {
     "data": {
      "text/plain": [
       "Text(0, 0.5, 'Proportion')"
      ]
     },
     "execution_count": 59,
     "metadata": {},
     "output_type": "execute_result"
    },
    {
     "data": {
      "image/png": "[encoded data removed]",
      "text/plain": [
       "<Figure size 640x480 with 1 Axes>"
      ]
     },
     "metadata": {},
     "output_type": "display_data"
    }
   ],
   "source": [
    "# Create masks for each gender\n",
    "mask_f = data.sex == 'F'\n",
    "mask_m = data.sex == 'M'\n",
    "\n",
    "# Calculate weights for each gender\n",
    "male_weights = np.ones_like(data[mask_m]['birthday']) / len(data[mask_m]['birthday'])\n",
    "female_weights = np.ones_like(data[mask_f]['birthday']) / len(data[mask_f]['birthday'])\n",
    "\n",
    "# Plot the histograms\n",
    "ax = data[mask_m]['birthday'].plot(kind='hist', bins=30, rwidth=0.8, alpha=0.5, label='Male', weights=male_weights)\n",
    "data[mask_f]['birthday'].plot(kind='hist', bins=30, rwidth=0.8, alpha=0.5, label='Female', ax=ax, weights=female_weights)\n",
    "\n",
    "# Customize the plot\n",
    "ax.legend()\n",
    "ax.set_xlabel('Birthday')\n",
    "ax.set_ylabel('Proportion')"
   ]
  },
  {
   "cell_type": "markdown",
   "id": "5ba6d5bd",
   "metadata": {},
   "source": [
    "Schauen Sie sich erneut die prozentuale Verteilung weiblich vs. männlich an. Diesmal jedoch nur für Personen die nach 1999 geboren sind."
   ]
  },
  {
   "cell_type": "code",
   "execution_count": 63,
   "id": "a95bcfbd",
   "metadata": {},
   "outputs": [
    {
     "data": {
      "text/plain": [
       "'Anteil Frauen: 23.66 %.'"
      ]
     },
     "execution_count": 63,
     "metadata": {},
     "output_type": "execute_result"
    }
   ],
   "source": [
    "mask_birthday_2000 = data.birthday > 1999\n",
    "f_vs_m = data[mask_birthday_2000].value_counts(\"sex\")\n",
    "\n",
    "ratio = f_vs_m[\"F\"] / f_vs_m[\"M\"]\n",
    "f\"Anteil Frauen: {(ratio*100):.2f} %.\""
   ]
  },
  {
   "cell_type": "markdown",
   "id": "a515f009",
   "metadata": {},
   "source": [
    "Was sind die 10, 20, 50, oder 100 besten Spieler\\*Innen?"
   ]
  },
  {
   "cell_type": "code",
   "execution_count": 68,
   "id": "305c597e",
   "metadata": {},
   "outputs": [],
   "source": [
    "pd.set_option('display.max_rows', 100)"
   ]
  },
  {
   "cell_type": "code",
   "execution_count": 69,
   "id": "b7828175",
   "metadata": {},
   "outputs": [
    {
     "data": {
      "text/html": [
       "<div>\n",
       "<style scoped>\n",
       "    .dataframe tbody tr th:only-of-type {\n",
       "        vertical-align: middle;\n",
       "    }\n",
       "\n",
       "    .dataframe tbody tr th {\n",
       "        vertical-align: top;\n",
       "    }\n",
       "\n",
       "    .dataframe thead th {\n",
       "        text-align: right;\n",
       "    }\n",
       "</style>\n",
       "<table border=\"1\" class=\"dataframe\">\n",
       "  <thead>\n",
       "    <tr style=\"text-align: right;\">\n",
       "      <th></th>\n",
       "      <th>name</th>\n",
       "      <th>country</th>\n",
       "      <th>sex</th>\n",
       "      <th>rating</th>\n",
       "      <th>birthday</th>\n",
       "    </tr>\n",
       "  </thead>\n",
       "  <tbody>\n",
       "    <tr>\n",
       "      <th>55277</th>\n",
       "      <td>Carlsen, Magnus</td>\n",
       "      <td>NOR</td>\n",
       "      <td>M</td>\n",
       "      <td>2864</td>\n",
       "      <td>1990</td>\n",
       "    </tr>\n",
       "    <tr>\n",
       "      <th>159945</th>\n",
       "      <td>Kasparov, Garry</td>\n",
       "      <td>RUS</td>\n",
       "      <td>M</td>\n",
       "      <td>2812</td>\n",
       "      <td>1963</td>\n",
       "    </tr>\n",
       "    <tr>\n",
       "      <th>101078</th>\n",
       "      <td>Firouzja, Alireza</td>\n",
       "      <td>FRA</td>\n",
       "      <td>M</td>\n",
       "      <td>2804</td>\n",
       "      <td>2003</td>\n",
       "    </tr>\n",
       "    <tr>\n",
       "      <th>82340</th>\n",
       "      <td>Ding, Liren</td>\n",
       "      <td>CHN</td>\n",
       "      <td>M</td>\n",
       "      <td>2799</td>\n",
       "      <td>1992</td>\n",
       "    </tr>\n",
       "    <tr>\n",
       "      <th>19783</th>\n",
       "      <td>Aronian, Levon</td>\n",
       "      <td>USA</td>\n",
       "      <td>M</td>\n",
       "      <td>2785</td>\n",
       "      <td>1982</td>\n",
       "    </tr>\n",
       "    <tr>\n",
       "      <th>56013</th>\n",
       "      <td>Caruana, Fabiano</td>\n",
       "      <td>USA</td>\n",
       "      <td>M</td>\n",
       "      <td>2781</td>\n",
       "      <td>1992</td>\n",
       "    </tr>\n",
       "    <tr>\n",
       "      <th>321337</th>\n",
       "      <td>So, Wesley</td>\n",
       "      <td>USA</td>\n",
       "      <td>M</td>\n",
       "      <td>2778</td>\n",
       "      <td>1993</td>\n",
       "    </tr>\n",
       "    <tr>\n",
       "      <th>202951</th>\n",
       "      <td>Mamedyarov, Shakhriyar</td>\n",
       "      <td>AZE</td>\n",
       "      <td>M</td>\n",
       "      <td>2776</td>\n",
       "      <td>1985</td>\n",
       "    </tr>\n",
       "    <tr>\n",
       "      <th>236793</th>\n",
       "      <td>Nepomniachtchi, Ian</td>\n",
       "      <td>RUS</td>\n",
       "      <td>M</td>\n",
       "      <td>2773</td>\n",
       "      <td>1990</td>\n",
       "    </tr>\n",
       "    <tr>\n",
       "      <th>115382</th>\n",
       "      <td>Giri, Anish</td>\n",
       "      <td>NED</td>\n",
       "      <td>M</td>\n",
       "      <td>2771</td>\n",
       "      <td>1994</td>\n",
       "    </tr>\n",
       "    <tr>\n",
       "      <th>278188</th>\n",
       "      <td>Rapport, Richard</td>\n",
       "      <td>HUN</td>\n",
       "      <td>M</td>\n",
       "      <td>2762</td>\n",
       "      <td>1996</td>\n",
       "    </tr>\n",
       "    <tr>\n",
       "      <th>351418</th>\n",
       "      <td>Vachier-Lagrave, Maxime</td>\n",
       "      <td>FRA</td>\n",
       "      <td>M</td>\n",
       "      <td>2761</td>\n",
       "      <td>1990</td>\n",
       "    </tr>\n",
       "    <tr>\n",
       "      <th>122890</th>\n",
       "      <td>Grischuk, Alexander</td>\n",
       "      <td>RUS</td>\n",
       "      <td>M</td>\n",
       "      <td>2758</td>\n",
       "      <td>1983</td>\n",
       "    </tr>\n",
       "    <tr>\n",
       "      <th>84440</th>\n",
       "      <td>Dominguez Perez, Leinier</td>\n",
       "      <td>USA</td>\n",
       "      <td>M</td>\n",
       "      <td>2756</td>\n",
       "      <td>1983</td>\n",
       "    </tr>\n",
       "    <tr>\n",
       "      <th>175420</th>\n",
       "      <td>Kramnik, Vladimir</td>\n",
       "      <td>RUS</td>\n",
       "      <td>M</td>\n",
       "      <td>2753</td>\n",
       "      <td>1975</td>\n",
       "    </tr>\n",
       "    <tr>\n",
       "      <th>273862</th>\n",
       "      <td>Radjabov, Teimour</td>\n",
       "      <td>AZE</td>\n",
       "      <td>M</td>\n",
       "      <td>2753</td>\n",
       "      <td>1987</td>\n",
       "    </tr>\n",
       "    <tr>\n",
       "      <th>14099</th>\n",
       "      <td>Anand, Viswanathan</td>\n",
       "      <td>IND</td>\n",
       "      <td>M</td>\n",
       "      <td>2751</td>\n",
       "      <td>1969</td>\n",
       "    </tr>\n",
       "    <tr>\n",
       "      <th>86911</th>\n",
       "      <td>Duda, Jan-Krzysztof</td>\n",
       "      <td>POL</td>\n",
       "      <td>M</td>\n",
       "      <td>2750</td>\n",
       "      <td>1998</td>\n",
       "    </tr>\n",
       "    <tr>\n",
       "      <th>233500</th>\n",
       "      <td>Nakamura, Hikaru</td>\n",
       "      <td>USA</td>\n",
       "      <td>M</td>\n",
       "      <td>2750</td>\n",
       "      <td>1987</td>\n",
       "    </tr>\n",
       "    <tr>\n",
       "      <th>158753</th>\n",
       "      <td>Karjakin, Sergey</td>\n",
       "      <td>RUS</td>\n",
       "      <td>M</td>\n",
       "      <td>2747</td>\n",
       "      <td>1990</td>\n",
       "    </tr>\n",
       "    <tr>\n",
       "      <th>365311</th>\n",
       "      <td>Wang, Hao</td>\n",
       "      <td>CHN</td>\n",
       "      <td>M</td>\n",
       "      <td>2744</td>\n",
       "      <td>1989</td>\n",
       "    </tr>\n",
       "    <tr>\n",
       "      <th>343784</th>\n",
       "      <td>Topalov, Veselin</td>\n",
       "      <td>BUL</td>\n",
       "      <td>M</td>\n",
       "      <td>2730</td>\n",
       "      <td>1975</td>\n",
       "    </tr>\n",
       "    <tr>\n",
       "      <th>366511</th>\n",
       "      <td>Wei, Yi</td>\n",
       "      <td>CHN</td>\n",
       "      <td>M</td>\n",
       "      <td>2729</td>\n",
       "      <td>1999</td>\n",
       "    </tr>\n",
       "    <tr>\n",
       "      <th>361550</th>\n",
       "      <td>Vitiugov, Nikita</td>\n",
       "      <td>RUS</td>\n",
       "      <td>M</td>\n",
       "      <td>2726</td>\n",
       "      <td>1987</td>\n",
       "    </tr>\n",
       "    <tr>\n",
       "      <th>15160</th>\n",
       "      <td>Andreikin, Dmitry</td>\n",
       "      <td>RUS</td>\n",
       "      <td>M</td>\n",
       "      <td>2724</td>\n",
       "      <td>1990</td>\n",
       "    </tr>\n",
       "    <tr>\n",
       "      <th>93915</th>\n",
       "      <td>Esipenko, Andrey</td>\n",
       "      <td>RUS</td>\n",
       "      <td>M</td>\n",
       "      <td>2723</td>\n",
       "      <td>2002</td>\n",
       "    </tr>\n",
       "    <tr>\n",
       "      <th>359055</th>\n",
       "      <td>Vidit, Santosh Gujrathi</td>\n",
       "      <td>IND</td>\n",
       "      <td>M</td>\n",
       "      <td>2723</td>\n",
       "      <td>1994</td>\n",
       "    </tr>\n",
       "    <tr>\n",
       "      <th>130786</th>\n",
       "      <td>Harikrishna, Pentala</td>\n",
       "      <td>IND</td>\n",
       "      <td>M</td>\n",
       "      <td>2716</td>\n",
       "      <td>1986</td>\n",
       "    </tr>\n",
       "    <tr>\n",
       "      <th>353587</th>\n",
       "      <td>Van Foreest, Jorden</td>\n",
       "      <td>NED</td>\n",
       "      <td>M</td>\n",
       "      <td>2714</td>\n",
       "      <td>1999</td>\n",
       "    </tr>\n",
       "    <tr>\n",
       "      <th>373602</th>\n",
       "      <td>Yu, Yangyi</td>\n",
       "      <td>CHN</td>\n",
       "      <td>M</td>\n",
       "      <td>2713</td>\n",
       "      <td>1994</td>\n",
       "    </tr>\n",
       "    <tr>\n",
       "      <th>86730</th>\n",
       "      <td>Dubov, Daniil</td>\n",
       "      <td>RUS</td>\n",
       "      <td>M</td>\n",
       "      <td>2711</td>\n",
       "      <td>1996</td>\n",
       "    </tr>\n",
       "    <tr>\n",
       "      <th>186584</th>\n",
       "      <td>Le, Quang Liem</td>\n",
       "      <td>VIE</td>\n",
       "      <td>M</td>\n",
       "      <td>2709</td>\n",
       "      <td>1991</td>\n",
       "    </tr>\n",
       "    <tr>\n",
       "      <th>49049</th>\n",
       "      <td>Bu, Xiangzhi</td>\n",
       "      <td>CHN</td>\n",
       "      <td>M</td>\n",
       "      <td>2708</td>\n",
       "      <td>1985</td>\n",
       "    </tr>\n",
       "    <tr>\n",
       "      <th>343296</th>\n",
       "      <td>Tomashevsky, Evgeny</td>\n",
       "      <td>RUS</td>\n",
       "      <td>M</td>\n",
       "      <td>2708</td>\n",
       "      <td>1987</td>\n",
       "    </tr>\n",
       "    <tr>\n",
       "      <th>311620</th>\n",
       "      <td>Shankland, Sam</td>\n",
       "      <td>USA</td>\n",
       "      <td>M</td>\n",
       "      <td>2704</td>\n",
       "      <td>1991</td>\n",
       "    </tr>\n",
       "    <tr>\n",
       "      <th>97652</th>\n",
       "      <td>Fedoseev, Vladimir</td>\n",
       "      <td>RUS</td>\n",
       "      <td>M</td>\n",
       "      <td>2704</td>\n",
       "      <td>1995</td>\n",
       "    </tr>\n",
       "    <tr>\n",
       "      <th>352715</th>\n",
       "      <td>Vallejo Pons, Francisco</td>\n",
       "      <td>ESP</td>\n",
       "      <td>M</td>\n",
       "      <td>2704</td>\n",
       "      <td>1982</td>\n",
       "    </tr>\n",
       "    <tr>\n",
       "      <th>9413</th>\n",
       "      <td>Alekseenko, Kirill</td>\n",
       "      <td>RUS</td>\n",
       "      <td>M</td>\n",
       "      <td>2702</td>\n",
       "      <td>1997</td>\n",
       "    </tr>\n",
       "    <tr>\n",
       "      <th>199601</th>\n",
       "      <td>Maghsoodloo, Parham</td>\n",
       "      <td>IRI</td>\n",
       "      <td>M</td>\n",
       "      <td>2701</td>\n",
       "      <td>2000</td>\n",
       "    </tr>\n",
       "    <tr>\n",
       "      <th>20284</th>\n",
       "      <td>Artemiev, Vladislav</td>\n",
       "      <td>RUS</td>\n",
       "      <td>M</td>\n",
       "      <td>2700</td>\n",
       "      <td>1998</td>\n",
       "    </tr>\n",
       "    <tr>\n",
       "      <th>234951</th>\n",
       "      <td>Navara, David</td>\n",
       "      <td>CZE</td>\n",
       "      <td>M</td>\n",
       "      <td>2700</td>\n",
       "      <td>1985</td>\n",
       "    </tr>\n",
       "    <tr>\n",
       "      <th>3536</th>\n",
       "      <td>Adams, Michael</td>\n",
       "      <td>ENG</td>\n",
       "      <td>M</td>\n",
       "      <td>2698</td>\n",
       "      <td>1971</td>\n",
       "    </tr>\n",
       "    <tr>\n",
       "      <th>172290</th>\n",
       "      <td>Korobov, Anton</td>\n",
       "      <td>UKR</td>\n",
       "      <td>M</td>\n",
       "      <td>2695</td>\n",
       "      <td>1985</td>\n",
       "    </tr>\n",
       "    <tr>\n",
       "      <th>293624</th>\n",
       "      <td>Sadler, Matthew D</td>\n",
       "      <td>ENG</td>\n",
       "      <td>M</td>\n",
       "      <td>2694</td>\n",
       "      <td>1974</td>\n",
       "    </tr>\n",
       "    <tr>\n",
       "      <th>369389</th>\n",
       "      <td>Wojtaszek, Radoslaw</td>\n",
       "      <td>POL</td>\n",
       "      <td>M</td>\n",
       "      <td>2694</td>\n",
       "      <td>1987</td>\n",
       "    </tr>\n",
       "    <tr>\n",
       "      <th>16777</th>\n",
       "      <td>Anton Guijarro, David</td>\n",
       "      <td>ESP</td>\n",
       "      <td>M</td>\n",
       "      <td>2694</td>\n",
       "      <td>1995</td>\n",
       "    </tr>\n",
       "    <tr>\n",
       "      <th>313858</th>\n",
       "      <td>Shirov, Alexei</td>\n",
       "      <td>ESP</td>\n",
       "      <td>M</td>\n",
       "      <td>2691</td>\n",
       "      <td>1972</td>\n",
       "    </tr>\n",
       "    <tr>\n",
       "      <th>296179</th>\n",
       "      <td>Salem, A.R. Saleh</td>\n",
       "      <td>UAE</td>\n",
       "      <td>M</td>\n",
       "      <td>2690</td>\n",
       "      <td>1993</td>\n",
       "    </tr>\n",
       "    <tr>\n",
       "      <th>362750</th>\n",
       "      <td>Volokitin, Andrei</td>\n",
       "      <td>UKR</td>\n",
       "      <td>M</td>\n",
       "      <td>2687</td>\n",
       "      <td>1986</td>\n",
       "    </tr>\n",
       "    <tr>\n",
       "      <th>301261</th>\n",
       "      <td>Saric, Ivan</td>\n",
       "      <td>CRO</td>\n",
       "      <td>M</td>\n",
       "      <td>2687</td>\n",
       "      <td>1990</td>\n",
       "    </tr>\n",
       "    <tr>\n",
       "      <th>370611</th>\n",
       "      <td>Xiong, Jeffery</td>\n",
       "      <td>USA</td>\n",
       "      <td>M</td>\n",
       "      <td>2686</td>\n",
       "      <td>2000</td>\n",
       "    </tr>\n",
       "    <tr>\n",
       "      <th>279081</th>\n",
       "      <td>Rausis, Igors</td>\n",
       "      <td>FID</td>\n",
       "      <td>M</td>\n",
       "      <td>2685</td>\n",
       "      <td>1961</td>\n",
       "    </tr>\n",
       "    <tr>\n",
       "      <th>300895</th>\n",
       "      <td>Sarana, Alexey</td>\n",
       "      <td>RUS</td>\n",
       "      <td>M</td>\n",
       "      <td>2685</td>\n",
       "      <td>2000</td>\n",
       "    </tr>\n",
       "    <tr>\n",
       "      <th>309975</th>\n",
       "      <td>Sevian, Samuel</td>\n",
       "      <td>USA</td>\n",
       "      <td>M</td>\n",
       "      <td>2684</td>\n",
       "      <td>2000</td>\n",
       "    </tr>\n",
       "    <tr>\n",
       "      <th>177734</th>\n",
       "      <td>Kryvoruchko, Yuriy</td>\n",
       "      <td>UKR</td>\n",
       "      <td>M</td>\n",
       "      <td>2683</td>\n",
       "      <td>1986</td>\n",
       "    </tr>\n",
       "    <tr>\n",
       "      <th>333374</th>\n",
       "      <td>Svidler, Peter</td>\n",
       "      <td>RUS</td>\n",
       "      <td>M</td>\n",
       "      <td>2683</td>\n",
       "      <td>1976</td>\n",
       "    </tr>\n",
       "    <tr>\n",
       "      <th>13341</th>\n",
       "      <td>Amin, Bassem</td>\n",
       "      <td>EGY</td>\n",
       "      <td>M</td>\n",
       "      <td>2683</td>\n",
       "      <td>1988</td>\n",
       "    </tr>\n",
       "    <tr>\n",
       "      <th>147410</th>\n",
       "      <td>Jakovenko, Dmitry</td>\n",
       "      <td>RUS</td>\n",
       "      <td>M</td>\n",
       "      <td>2682</td>\n",
       "      <td>1983</td>\n",
       "    </tr>\n",
       "    <tr>\n",
       "      <th>269580</th>\n",
       "      <td>Predke, Alexandr</td>\n",
       "      <td>RUS</td>\n",
       "      <td>M</td>\n",
       "      <td>2682</td>\n",
       "      <td>1994</td>\n",
       "    </tr>\n",
       "    <tr>\n",
       "      <th>91299</th>\n",
       "      <td>Eljanov, Pavel</td>\n",
       "      <td>UKR</td>\n",
       "      <td>M</td>\n",
       "      <td>2681</td>\n",
       "      <td>1983</td>\n",
       "    </tr>\n",
       "    <tr>\n",
       "      <th>301165</th>\n",
       "      <td>Sargissian, Gabriel</td>\n",
       "      <td>ARM</td>\n",
       "      <td>M</td>\n",
       "      <td>2681</td>\n",
       "      <td>1983</td>\n",
       "    </tr>\n",
       "    <tr>\n",
       "      <th>319147</th>\n",
       "      <td>Sjugirov, Sanan</td>\n",
       "      <td>RUS</td>\n",
       "      <td>M</td>\n",
       "      <td>2680</td>\n",
       "      <td>1993</td>\n",
       "    </tr>\n",
       "    <tr>\n",
       "      <th>76196</th>\n",
       "      <td>Deac, Bogdan-Daniel</td>\n",
       "      <td>ROU</td>\n",
       "      <td>M</td>\n",
       "      <td>2679</td>\n",
       "      <td>2001</td>\n",
       "    </tr>\n",
       "    <tr>\n",
       "      <th>190116</th>\n",
       "      <td>Li, Chao b</td>\n",
       "      <td>CHN</td>\n",
       "      <td>M</td>\n",
       "      <td>2679</td>\n",
       "      <td>1989</td>\n",
       "    </tr>\n",
       "    <tr>\n",
       "      <th>145178</th>\n",
       "      <td>Ivanchuk, Vasyl</td>\n",
       "      <td>UKR</td>\n",
       "      <td>M</td>\n",
       "      <td>2678</td>\n",
       "      <td>1969</td>\n",
       "    </tr>\n",
       "    <tr>\n",
       "      <th>11106</th>\n",
       "      <td>Almasi, Zoltan</td>\n",
       "      <td>HUN</td>\n",
       "      <td>M</td>\n",
       "      <td>2678</td>\n",
       "      <td>1976</td>\n",
       "    </tr>\n",
       "    <tr>\n",
       "      <th>285031</th>\n",
       "      <td>Robson, Ray</td>\n",
       "      <td>USA</td>\n",
       "      <td>M</td>\n",
       "      <td>2676</td>\n",
       "      <td>1994</td>\n",
       "    </tr>\n",
       "    <tr>\n",
       "      <th>265523</th>\n",
       "      <td>Polgar, Judit</td>\n",
       "      <td>HUN</td>\n",
       "      <td>F</td>\n",
       "      <td>2675</td>\n",
       "      <td>1976</td>\n",
       "    </tr>\n",
       "    <tr>\n",
       "      <th>127334</th>\n",
       "      <td>Gyimesi, Zoltan</td>\n",
       "      <td>HUN</td>\n",
       "      <td>M</td>\n",
       "      <td>2674</td>\n",
       "      <td>1977</td>\n",
       "    </tr>\n",
       "    <tr>\n",
       "      <th>243206</th>\n",
       "      <td>Nyzhnyk, Illya</td>\n",
       "      <td>UKR</td>\n",
       "      <td>M</td>\n",
       "      <td>2674</td>\n",
       "      <td>1996</td>\n",
       "    </tr>\n",
       "    <tr>\n",
       "      <th>174302</th>\n",
       "      <td>Kovalenko, Igor</td>\n",
       "      <td>UKR</td>\n",
       "      <td>M</td>\n",
       "      <td>2674</td>\n",
       "      <td>1988</td>\n",
       "    </tr>\n",
       "    <tr>\n",
       "      <th>246318</th>\n",
       "      <td>Oparin, Grigoriy</td>\n",
       "      <td>FID</td>\n",
       "      <td>M</td>\n",
       "      <td>2674</td>\n",
       "      <td>1997</td>\n",
       "    </tr>\n",
       "    <tr>\n",
       "      <th>210598</th>\n",
       "      <td>Matlakov, Maxim</td>\n",
       "      <td>RUS</td>\n",
       "      <td>M</td>\n",
       "      <td>2674</td>\n",
       "      <td>1991</td>\n",
       "    </tr>\n",
       "    <tr>\n",
       "      <th>61290</th>\n",
       "      <td>Cheparinov, Ivan</td>\n",
       "      <td>BUL</td>\n",
       "      <td>M</td>\n",
       "      <td>2672</td>\n",
       "      <td>1986</td>\n",
       "    </tr>\n",
       "    <tr>\n",
       "      <th>152042</th>\n",
       "      <td>Jones, Gawain C B</td>\n",
       "      <td>ENG</td>\n",
       "      <td>M</td>\n",
       "      <td>2672</td>\n",
       "      <td>1987</td>\n",
       "    </tr>\n",
       "    <tr>\n",
       "      <th>18666</th>\n",
       "      <td>Areshchenko, Alexander</td>\n",
       "      <td>UKR</td>\n",
       "      <td>M</td>\n",
       "      <td>2670</td>\n",
       "      <td>1986</td>\n",
       "    </tr>\n",
       "    <tr>\n",
       "      <th>111937</th>\n",
       "      <td>Gelfand, Boris</td>\n",
       "      <td>ISR</td>\n",
       "      <td>M</td>\n",
       "      <td>2670</td>\n",
       "      <td>1968</td>\n",
       "    </tr>\n",
       "    <tr>\n",
       "      <th>365522</th>\n",
       "      <td>Wang, Yue</td>\n",
       "      <td>CHN</td>\n",
       "      <td>M</td>\n",
       "      <td>2669</td>\n",
       "      <td>1987</td>\n",
       "    </tr>\n",
       "    <tr>\n",
       "      <th>238065</th>\n",
       "      <td>Ni, Hua</td>\n",
       "      <td>CHN</td>\n",
       "      <td>M</td>\n",
       "      <td>2668</td>\n",
       "      <td>1983</td>\n",
       "    </tr>\n",
       "    <tr>\n",
       "      <th>188183</th>\n",
       "      <td>Leko, Peter</td>\n",
       "      <td>HUN</td>\n",
       "      <td>M</td>\n",
       "      <td>2663</td>\n",
       "      <td>1979</td>\n",
       "    </tr>\n",
       "    <tr>\n",
       "      <th>121581</th>\n",
       "      <td>Grandelius, Nils</td>\n",
       "      <td>SWE</td>\n",
       "      <td>M</td>\n",
       "      <td>2663</td>\n",
       "      <td>1993</td>\n",
       "    </tr>\n",
       "    <tr>\n",
       "      <th>126453</th>\n",
       "      <td>Guseinov, Gadir</td>\n",
       "      <td>AZE</td>\n",
       "      <td>M</td>\n",
       "      <td>2661</td>\n",
       "      <td>1986</td>\n",
       "    </tr>\n",
       "    <tr>\n",
       "      <th>92988</th>\n",
       "      <td>Erigaisi Arjun</td>\n",
       "      <td>IND</td>\n",
       "      <td>M</td>\n",
       "      <td>2660</td>\n",
       "      <td>2003</td>\n",
       "    </tr>\n",
       "    <tr>\n",
       "      <th>342319</th>\n",
       "      <td>Tkachiev, Vladislav</td>\n",
       "      <td>FRA</td>\n",
       "      <td>M</td>\n",
       "      <td>2660</td>\n",
       "      <td>1973</td>\n",
       "    </tr>\n",
       "    <tr>\n",
       "      <th>143368</th>\n",
       "      <td>Inarkiev, Ernesto</td>\n",
       "      <td>RUS</td>\n",
       "      <td>M</td>\n",
       "      <td>2659</td>\n",
       "      <td>1985</td>\n",
       "    </tr>\n",
       "    <tr>\n",
       "      <th>159877</th>\n",
       "      <td>Kasimdzhanov, Rustam</td>\n",
       "      <td>UZB</td>\n",
       "      <td>M</td>\n",
       "      <td>2659</td>\n",
       "      <td>1979</td>\n",
       "    </tr>\n",
       "    <tr>\n",
       "      <th>233435</th>\n",
       "      <td>Najer, Evgeniy</td>\n",
       "      <td>RUS</td>\n",
       "      <td>M</td>\n",
       "      <td>2659</td>\n",
       "      <td>1977</td>\n",
       "    </tr>\n",
       "    <tr>\n",
       "      <th>226892</th>\n",
       "      <td>Morozevich, Alexander</td>\n",
       "      <td>RUS</td>\n",
       "      <td>M</td>\n",
       "      <td>2659</td>\n",
       "      <td>1977</td>\n",
       "    </tr>\n",
       "    <tr>\n",
       "      <th>36774</th>\n",
       "      <td>Berkes, Ferenc</td>\n",
       "      <td>HUN</td>\n",
       "      <td>M</td>\n",
       "      <td>2659</td>\n",
       "      <td>1985</td>\n",
       "    </tr>\n",
       "    <tr>\n",
       "      <th>185602</th>\n",
       "      <td>Lautier, Joel</td>\n",
       "      <td>FRA</td>\n",
       "      <td>M</td>\n",
       "      <td>2658</td>\n",
       "      <td>1973</td>\n",
       "    </tr>\n",
       "    <tr>\n",
       "      <th>156558</th>\n",
       "      <td>Kamsky, Gata</td>\n",
       "      <td>USA</td>\n",
       "      <td>M</td>\n",
       "      <td>2658</td>\n",
       "      <td>1974</td>\n",
       "    </tr>\n",
       "    <tr>\n",
       "      <th>234115</th>\n",
       "      <td>Narayanan.S.L</td>\n",
       "      <td>IND</td>\n",
       "      <td>M</td>\n",
       "      <td>2658</td>\n",
       "      <td>1998</td>\n",
       "    </tr>\n",
       "    <tr>\n",
       "      <th>353743</th>\n",
       "      <td>Van Kampen, Robin</td>\n",
       "      <td>NED</td>\n",
       "      <td>M</td>\n",
       "      <td>2658</td>\n",
       "      <td>1994</td>\n",
       "    </tr>\n",
       "    <tr>\n",
       "      <th>202937</th>\n",
       "      <td>Mamedov, Rauf</td>\n",
       "      <td>AZE</td>\n",
       "      <td>M</td>\n",
       "      <td>2656</td>\n",
       "      <td>1988</td>\n",
       "    </tr>\n",
       "    <tr>\n",
       "      <th>333734</th>\n",
       "      <td>Swiercz, Dariusz</td>\n",
       "      <td>USA</td>\n",
       "      <td>M</td>\n",
       "      <td>2656</td>\n",
       "      <td>1994</td>\n",
       "    </tr>\n",
       "    <tr>\n",
       "      <th>162760</th>\n",
       "      <td>Keymer, Vincent</td>\n",
       "      <td>GER</td>\n",
       "      <td>M</td>\n",
       "      <td>2655</td>\n",
       "      <td>2004</td>\n",
       "    </tr>\n",
       "    <tr>\n",
       "      <th>78067</th>\n",
       "      <td>Demchenko, Anton</td>\n",
       "      <td>RUS</td>\n",
       "      <td>M</td>\n",
       "      <td>2654</td>\n",
       "      <td>1987</td>\n",
       "    </tr>\n",
       "    <tr>\n",
       "      <th>337366</th>\n",
       "      <td>Tari, Aryan</td>\n",
       "      <td>NOR</td>\n",
       "      <td>M</td>\n",
       "      <td>2653</td>\n",
       "      <td>1999</td>\n",
       "    </tr>\n",
       "    <tr>\n",
       "      <th>201751</th>\n",
       "      <td>Malakhov, Vladimir</td>\n",
       "      <td>RUS</td>\n",
       "      <td>M</td>\n",
       "      <td>2652</td>\n",
       "      <td>1980</td>\n",
       "    </tr>\n",
       "    <tr>\n",
       "      <th>67463</th>\n",
       "      <td>Cori, Jorge</td>\n",
       "      <td>PER</td>\n",
       "      <td>M</td>\n",
       "      <td>2652</td>\n",
       "      <td>1995</td>\n",
       "    </tr>\n",
       "  </tbody>\n",
       "</table>\n",
       "</div>"
      ],
      "text/plain": [
       "                            name country sex  rating  birthday\n",
       "55277            Carlsen, Magnus     NOR   M    2864      1990\n",
       "159945           Kasparov, Garry     RUS   M    2812      1963\n",
       "101078         Firouzja, Alireza     FRA   M    2804      2003\n",
       "82340                Ding, Liren     CHN   M    2799      1992\n",
       "19783             Aronian, Levon     USA   M    2785      1982\n",
       "56013           Caruana, Fabiano     USA   M    2781      1992\n",
       "321337                So, Wesley     USA   M    2778      1993\n",
       "202951    Mamedyarov, Shakhriyar     AZE   M    2776      1985\n",
       "236793       Nepomniachtchi, Ian     RUS   M    2773      1990\n",
       "115382               Giri, Anish     NED   M    2771      1994\n",
       "278188          Rapport, Richard     HUN   M    2762      1996\n",
       "351418   Vachier-Lagrave, Maxime     FRA   M    2761      1990\n",
       "122890       Grischuk, Alexander     RUS   M    2758      1983\n",
       "84440   Dominguez Perez, Leinier     USA   M    2756      1983\n",
       "175420         Kramnik, Vladimir     RUS   M    2753      1975\n",
       "273862         Radjabov, Teimour     AZE   M    2753      1987\n",
       "14099         Anand, Viswanathan     IND   M    2751      1969\n",
       "86911        Duda, Jan-Krzysztof     POL   M    2750      1998\n",
       "233500          Nakamura, Hikaru     USA   M    2750      1987\n",
       "158753          Karjakin, Sergey     RUS   M    2747      1990\n",
       "365311                 Wang, Hao     CHN   M    2744      1989\n",
       "343784          Topalov, Veselin     BUL   M    2730      1975\n",
       "366511                   Wei, Yi     CHN   M    2729      1999\n",
       "361550          Vitiugov, Nikita     RUS   M    2726      1987\n",
       "15160          Andreikin, Dmitry     RUS   M    2724      1990\n",
       "93915           Esipenko, Andrey     RUS   M    2723      2002\n",
       "359055   Vidit, Santosh Gujrathi     IND   M    2723      1994\n",
       "130786      Harikrishna, Pentala     IND   M    2716      1986\n",
       "353587       Van Foreest, Jorden     NED   M    2714      1999\n",
       "373602                Yu, Yangyi     CHN   M    2713      1994\n",
       "86730              Dubov, Daniil     RUS   M    2711      1996\n",
       "186584            Le, Quang Liem     VIE   M    2709      1991\n",
       "49049               Bu, Xiangzhi     CHN   M    2708      1985\n",
       "343296       Tomashevsky, Evgeny     RUS   M    2708      1987\n",
       "311620            Shankland, Sam     USA   M    2704      1991\n",
       "97652         Fedoseev, Vladimir     RUS   M    2704      1995\n",
       "352715   Vallejo Pons, Francisco     ESP   M    2704      1982\n",
       "9413          Alekseenko, Kirill     RUS   M    2702      1997\n",
       "199601       Maghsoodloo, Parham     IRI   M    2701      2000\n",
       "20284        Artemiev, Vladislav     RUS   M    2700      1998\n",
       "234951             Navara, David     CZE   M    2700      1985\n",
       "3536              Adams, Michael     ENG   M    2698      1971\n",
       "172290            Korobov, Anton     UKR   M    2695      1985\n",
       "293624         Sadler, Matthew D     ENG   M    2694      1974\n",
       "369389       Wojtaszek, Radoslaw     POL   M    2694      1987\n",
       "16777      Anton Guijarro, David     ESP   M    2694      1995\n",
       "313858            Shirov, Alexei     ESP   M    2691      1972\n",
       "296179         Salem, A.R. Saleh     UAE   M    2690      1993\n",
       "362750         Volokitin, Andrei     UKR   M    2687      1986\n",
       "301261               Saric, Ivan     CRO   M    2687      1990\n",
       "370611            Xiong, Jeffery     USA   M    2686      2000\n",
       "279081             Rausis, Igors     FID   M    2685      1961\n",
       "300895            Sarana, Alexey     RUS   M    2685      2000\n",
       "309975            Sevian, Samuel     USA   M    2684      2000\n",
       "177734        Kryvoruchko, Yuriy     UKR   M    2683      1986\n",
       "333374            Svidler, Peter     RUS   M    2683      1976\n",
       "13341               Amin, Bassem     EGY   M    2683      1988\n",
       "147410         Jakovenko, Dmitry     RUS   M    2682      1983\n",
       "269580          Predke, Alexandr     RUS   M    2682      1994\n",
       "91299             Eljanov, Pavel     UKR   M    2681      1983\n",
       "301165       Sargissian, Gabriel     ARM   M    2681      1983\n",
       "319147           Sjugirov, Sanan     RUS   M    2680      1993\n",
       "76196        Deac, Bogdan-Daniel     ROU   M    2679      2001\n",
       "190116                Li, Chao b     CHN   M    2679      1989\n",
       "145178           Ivanchuk, Vasyl     UKR   M    2678      1969\n",
       "11106             Almasi, Zoltan     HUN   M    2678      1976\n",
       "285031               Robson, Ray     USA   M    2676      1994\n",
       "265523             Polgar, Judit     HUN   F    2675      1976\n",
       "127334           Gyimesi, Zoltan     HUN   M    2674      1977\n",
       "243206            Nyzhnyk, Illya     UKR   M    2674      1996\n",
       "174302           Kovalenko, Igor     UKR   M    2674      1988\n",
       "246318          Oparin, Grigoriy     FID   M    2674      1997\n",
       "210598           Matlakov, Maxim     RUS   M    2674      1991\n",
       "61290           Cheparinov, Ivan     BUL   M    2672      1986\n",
       "152042         Jones, Gawain C B     ENG   M    2672      1987\n",
       "18666     Areshchenko, Alexander     UKR   M    2670      1986\n",
       "111937            Gelfand, Boris     ISR   M    2670      1968\n",
       "365522                 Wang, Yue     CHN   M    2669      1987\n",
       "238065                   Ni, Hua     CHN   M    2668      1983\n",
       "188183               Leko, Peter     HUN   M    2663      1979\n",
       "121581          Grandelius, Nils     SWE   M    2663      1993\n",
       "126453           Guseinov, Gadir     AZE   M    2661      1986\n",
       "92988             Erigaisi Arjun     IND   M    2660      2003\n",
       "342319       Tkachiev, Vladislav     FRA   M    2660      1973\n",
       "143368         Inarkiev, Ernesto     RUS   M    2659      1985\n",
       "159877      Kasimdzhanov, Rustam     UZB   M    2659      1979\n",
       "233435            Najer, Evgeniy     RUS   M    2659      1977\n",
       "226892     Morozevich, Alexander     RUS   M    2659      1977\n",
       "36774             Berkes, Ferenc     HUN   M    2659      1985\n",
       "185602             Lautier, Joel     FRA   M    2658      1973\n",
       "156558              Kamsky, Gata     USA   M    2658      1974\n",
       "234115             Narayanan.S.L     IND   M    2658      1998\n",
       "353743         Van Kampen, Robin     NED   M    2658      1994\n",
       "202937             Mamedov, Rauf     AZE   M    2656      1988\n",
       "333734          Swiercz, Dariusz     USA   M    2656      1994\n",
       "162760           Keymer, Vincent     GER   M    2655      2004\n",
       "78067           Demchenko, Anton     RUS   M    2654      1987\n",
       "337366               Tari, Aryan     NOR   M    2653      1999\n",
       "201751        Malakhov, Vladimir     RUS   M    2652      1980\n",
       "67463                Cori, Jorge     PER   M    2652      1995"
      ]
     },
     "execution_count": 69,
     "metadata": {},
     "output_type": "execute_result"
    }
   ],
   "source": [
    "data.sort_values(\"rating\", ascending=False)[:100]"
   ]
  },
  {
   "cell_type": "markdown",
   "id": "589d8e15",
   "metadata": {},
   "source": [
    "Wie sieht die Verteilung Männer vs. Frauen aus in den Top100?"
   ]
  },
  {
   "cell_type": "code",
   "execution_count": 70,
   "id": "7e2b2a5e",
   "metadata": {},
   "outputs": [
    {
     "data": {
      "text/plain": [
       "sex\n",
       "M    99\n",
       "F     1\n",
       "dtype: int64"
      ]
     },
     "execution_count": 70,
     "metadata": {},
     "output_type": "execute_result"
    }
   ],
   "source": [
    "# Männer/Frauen in Top100\n",
    "top100 = data.sort_values(\"rating\", ascending=False).iloc[:100]\n",
    "top100.value_counts(\"sex\")"
   ]
  },
  {
   "cell_type": "markdown",
   "id": "04dee081",
   "metadata": {},
   "source": [
    "## (3.2) ELO-Verteilungen analysieren\n",
    "\n",
    "- Wiederholen sie die Aufgabe aber fügen sie diesmal auch noch eine weitere Auswahlmaske hinzu um die Geburtsjahrgänge einzuschränken. Probieren sie z.B. `< 2002` oder `< 1992`."
   ]
  },
  {
   "cell_type": "markdown",
   "id": "fa84fc2a",
   "metadata": {},
   "source": [
    "Stellen sie die Verteilungen der ELO-Ratings dar für drei Fälle: (1) Alle Spieler\\*Innen, (2) männliche Spieler, (3) weibliche Spielerinnen.  "
   ]
  },
  {
   "cell_type": "markdown",
   "id": "e60f8741",
   "metadata": {},
   "source": [
    "(1) Alle Spieler\\*Innen"
   ]
  },
  {
   "cell_type": "code",
   "execution_count": 74,
   "id": "6514a3c8",
   "metadata": {},
   "outputs": [
    {
     "data": {
      "text/plain": [
       "<AxesSubplot: ylabel='Frequency'>"
      ]
     },
     "execution_count": 74,
     "metadata": {},
     "output_type": "execute_result"
    },
    {
     "data": {
      "image/png": "[encoded data removed]",
      "text/plain": [
       "<Figure size 640x480 with 1 Axes>"
      ]
     },
     "metadata": {},
     "output_type": "display_data"
    }
   ],
   "source": [
    "mask_birthday = (data.birthday > 2010)\n",
    "data[mask_birthday].plot(y=\"rating\", kind=\"hist\", bins=30, rwidth=0.8)"
   ]
  },
  {
   "cell_type": "markdown",
   "id": "d4b5c698",
   "metadata": {},
   "source": [
    "(2) männliche Spieler und (3) weibliche Spielerinnen."
   ]
  },
  {
   "cell_type": "code",
   "execution_count": 82,
   "id": "921e8487",
   "metadata": {
    "scrolled": false
   },
   "outputs": [
    {
     "data": {
      "text/plain": [
       "<AxesSubplot: ylabel='Frequency'>"
      ]
     },
     "execution_count": 82,
     "metadata": {},
     "output_type": "execute_result"
    },
    {
     "data": {
      "image/png": "[encoded data removed]",
      "text/plain": [
       "<Figure size 1000x800 with 2 Axes>"
      ]
     },
     "metadata": {},
     "output_type": "display_data"
    }
   ],
   "source": [
    "mask_f = data.sex == \"F\"\n",
    "mask_m = data.sex == \"M\"\n",
    "mask_birthday = data.birthday > 1995\n",
    "\n",
    "fig, (ax1, ax2) = plt.subplots(2, 1, figsize=(10,8))\n",
    "data[mask_m & mask_birthday][\"rating\"].plot(kind=\"hist\", bins=40, rwidth=0.8,\n",
    "                                    ax=ax1)\n",
    "data[mask_f & mask_birthday][\"rating\"].plot(kind=\"hist\", bins=40, rwidth=0.8,\n",
    "                                    ax=ax2)"
   ]
  },
  {
   "cell_type": "markdown",
   "id": "d13a4b32",
   "metadata": {},
   "source": [
    "Nochmal normieren und überlappen:"
   ]
  },
  {
   "cell_type": "code",
   "execution_count": 88,
   "id": "3913b623",
   "metadata": {},
   "outputs": [
    {
     "data": {
      "text/plain": [
       "<matplotlib.legend.Legend at 0x1fe0b7f58e0>"
      ]
     },
     "execution_count": 88,
     "metadata": {},
     "output_type": "execute_result"
    },
    {
     "data": {
      "image/png": "[encoded data removed]",
      "text/plain": [
       "<Figure size 640x480 with 1 Axes>"
      ]
     },
     "metadata": {},
     "output_type": "display_data"
    }
   ],
   "source": [
    "mask_birthday = data[\"birthday\"] > 1995\n",
    "mask_country = data[\"country\"] == \"IND\"\n",
    "data_f = data[mask_f & mask_birthday & mask_country]\n",
    "\n",
    "\n",
    "bins = 30\n",
    "\n",
    "weights_m = np.ones_like(data_m[\"rating\"]) / len(data_m)\n",
    "weights_f = np.ones_like(data_f[\"rating\"]) / len(data_f)\n",
    "\n",
    "plt.hist(data_m[\"rating\"], bins=bins, rwidth=0.8, alpha=0.5, label='Male', weights=weights_m)\n",
    "plt.hist(data_f[\"rating\"], bins=bins, rwidth=0.8, alpha=0.5, label='Female', weights=weights_f)\n",
    "\n",
    "plt.xlabel('Rating')\n",
    "plt.ylabel('Frequency')\n",
    "plt.title('Rating distribution')\n",
    "plt.legend(loc='upper right')"
   ]
  },
  {
   "cell_type": "markdown",
   "id": "0ccfedb8",
   "metadata": {},
   "source": [
    "**Nächster Schritt:** Ein Land herausgreifen."
   ]
  },
  {
   "cell_type": "markdown",
   "id": "d230d12e",
   "metadata": {},
   "source": [
    "## Welches Land untersuchen?\n",
    "Wir können schauen in welchen Ländern viele weibliche Spielerinnen registriert sind, indem wir die Daten vorfiltern (nur Frauen) und dann mit `.value_counts(\"country\")` nach Ländern zählen."
   ]
  },
  {
   "cell_type": "code",
   "execution_count": 91,
   "id": "e08a91e7",
   "metadata": {},
   "outputs": [
    {
     "data": {
      "text/plain": [
       "country\n",
       "RUS    6125\n",
       "IND    3725\n",
       "FRA    2216\n",
       "GER    1874\n",
       "POL    1652\n",
       "       ... \n",
       "SLE       1\n",
       "JCI       1\n",
       "LIE       1\n",
       "STP       1\n",
       "AFG       1\n",
       "Length: 170, dtype: int64"
      ]
     },
     "execution_count": 91,
     "metadata": {},
     "output_type": "execute_result"
    }
   ],
   "source": [
    "mask_f = data.sex == \"F\"\n",
    "data_female_per_country = data[mask_f].value_counts(\"country\")\n",
    "data_female_per_country\n",
    "# sortiert\n",
    "# your code here"
   ]
  },
  {
   "cell_type": "markdown",
   "id": "a1ba802d",
   "metadata": {},
   "source": [
    "Für ein besseres Bild auch für die Männer betrachten."
   ]
  },
  {
   "cell_type": "code",
   "execution_count": null,
   "id": "55649217",
   "metadata": {},
   "outputs": [],
   "source": [
    "mask_m = data.sex == \"M\"\n",
    "data_male_per_country = data[mask_m].value_counts(\"country\")\n",
    "# sortiert\n",
    "# your code here"
   ]
  },
  {
   "cell_type": "markdown",
   "id": "5c9121f3",
   "metadata": {},
   "source": [
    "Nun schauen wir nach Ländern mit einer repräsentativen Anzahl an Frauen. Wir filtern weiter und schauen in welchem Land mindestens 500 Spielerinnen registriert sind."
   ]
  },
  {
   "cell_type": "code",
   "execution_count": null,
   "id": "89639d55",
   "metadata": {
    "scrolled": true
   },
   "outputs": [],
   "source": [
    "mask_f_count_500 = # your code here\n",
    "# gefilterte Daten ausgeben\n",
    "# your code here"
   ]
  },
  {
   "cell_type": "markdown",
   "id": "91a796c2",
   "metadata": {},
   "source": [
    "Es ist jedoch nicht nur eine Mindestanzahl ausschlaggebend. Wir suchen darüberhinaus ein möglichst ausgeglichenes Verhältnis von Frauen zu Männern. Wir erstellen eine Liste mit allen Ländern, indem wir uns von `data_female_per_country` den Index ausgeben lassen: "
   ]
  },
  {
   "cell_type": "code",
   "execution_count": null,
   "id": "f4aa99e8",
   "metadata": {
    "scrolled": true
   },
   "outputs": [],
   "source": [
    "countries_with_500_females = data_female_per_country[mask_f_count_500].index\n",
    "countries_with_500_females"
   ]
  },
  {
   "cell_type": "markdown",
   "id": "9670e723",
   "metadata": {},
   "source": [
    "Statt einer Maske zu nutzen, können wir auch die `.isin()` - Methode benutzen, welcher wir unsere Länderliste `countries_with_500_females` übergeben können. Dies können wir nun auf `data_male` anwenden."
   ]
  },
  {
   "cell_type": "code",
   "execution_count": null,
   "id": "3a791b94",
   "metadata": {
    "scrolled": true
   },
   "outputs": [],
   "source": [
    "data_male = data[mask_m]\n",
    "\n",
    "mask_filtered_data_m = # your code here\n",
    "filtered_data_m = # your code here\n",
    "data_male_per_country = # your code here"
   ]
  },
  {
   "cell_type": "code",
   "execution_count": null,
   "id": "5a912ebc",
   "metadata": {},
   "outputs": [],
   "source": [
    "print(data_male_per_country)"
   ]
  },
  {
   "cell_type": "code",
   "execution_count": null,
   "id": "0fa46021",
   "metadata": {},
   "outputs": [],
   "source": [
    "print(data_female_per_country)"
   ]
  },
  {
   "cell_type": "markdown",
   "id": "098cffeb",
   "metadata": {},
   "source": [
    "Möchte man von einem Pandas `Series`-Objekt den Index und die Werte auslesen, kann man die Methode `.iteritems()` benutzen. Zur Demonstartion nutzen wir diese in einer For-Schleife zur besseren Veranschaulichung (in der Konsole) der bisher gefilterten Daten. Aufhübschungs mit f-Strings und einer \"gebastelten\" Tabelle:"
   ]
  },
  {
   "cell_type": "code",
   "execution_count": null,
   "id": "2801d537",
   "metadata": {},
   "outputs": [],
   "source": [
    "print(f\"{'Country':^10}|{'Male':^10}|{'Female':^10}\")\n",
    "print(\"-\" * 32)\n",
    "\n",
    "for idx, value in data_male_per_country.iteritems():\n",
    "    female_value = data_female_per_country.loc[idx]\n",
    "    print(f\"{idx:^10}|{value:^10}|{female_value:^10}\")"
   ]
  },
  {
   "cell_type": "markdown",
   "id": "06e522d0",
   "metadata": {},
   "source": [
    "Nun berechnen wir noch die prozentuale Frauenanteile pro Land."
   ]
  },
  {
   "cell_type": "code",
   "execution_count": null,
   "id": "ff9f0e87",
   "metadata": {},
   "outputs": [],
   "source": [
    "ratios = # your code here\n",
    "print(ratios.sort_values(ascending=False))"
   ]
  },
  {
   "cell_type": "markdown",
   "id": "29767764",
   "metadata": {},
   "source": [
    "Wir fügen die Verhältnisse der Tabelle hinzu."
   ]
  },
  {
   "cell_type": "code",
   "execution_count": null,
   "id": "57249940",
   "metadata": {},
   "outputs": [],
   "source": [
    "print(f\"{'Country':^10}|{'Male':^10}|{'Female':^10}|{'Ratio':^10}\")\n",
    "print(\"-\" * 43)\n",
    "\n",
    "for idx, value in data_male_per_country.iteritems():\n",
    "    female_value = data_female_per_country.loc[idx]\n",
    "    ratio = f\"{ratios.loc[idx] * 100:.2f} %\"\n",
    "    print(f\"{idx:^10}|{value:^10}|{female_value:^10}|{ratio:^10}\")"
   ]
  },
  {
   "cell_type": "markdown",
   "id": "398f43b2",
   "metadata": {},
   "source": [
    "Schauen wir uns ELO-Rating Verteilungen für Frauen in potentiell \"gut zu untersuchenden\" Ländern an nach den Kriterien \"möglichst viele Personen und möglichst ausgeglichenes Verhältnis\".\n",
    "\n",
    "Hierfür wollen wir uns wieder zwei überlappte Barplots ansehen mit normierten ELO-Ratings."
   ]
  },
  {
   "cell_type": "code",
   "execution_count": null,
   "id": "57066286",
   "metadata": {},
   "outputs": [],
   "source": [
    "mask_birthday = # your code here\n",
    "mask_country = # your code here\n",
    "\n",
    "# male + selected country + selected birthday range\n",
    "data_m = ...\n",
    "\n",
    "# female + selected country + selected birthday range\n",
    "data_f = ...\n",
    "\n",
    "weights_m = np.ones_like(data_m[\"rating\"]) / len(data_m)\n",
    "weights_f = np.ones_like(data_f[\"rating\"]) / len(data_f)\n",
    "\n",
    "bins = 30\n",
    "\n",
    "data_m[\"rating\"].plot(kind=\"hist\", bins=bins, rwidth=0.8, alpha=0.5, label='Male', weights=weights_m, legend=True)\n",
    "data_f[\"rating\"].plot(kind=\"hist\", bins=bins, rwidth=0.8, alpha=0.5, label='Female', weights=weights_f, legend=True)\n",
    "\n",
    "plt.xlabel('Rating')\n",
    "plt.ylabel('Frequency')\n",
    "plt.title('Rating distribution')\n",
    "plt.legend(loc='upper right')"
   ]
  },
  {
   "cell_type": "markdown",
   "id": "ae41fe42",
   "metadata": {},
   "source": [
    "### BEISPIEL - Alternative Möglichkeit des Plots für Männer/Frauen aus Indien (Geburtsjahrgänge < 2002)"
   ]
  },
  {
   "cell_type": "code",
   "execution_count": 86,
   "id": "c95df2bc",
   "metadata": {},
   "outputs": [
    {
     "data": {
      "text/plain": [
       "Text(0.5, 1.0, 'Compare chess players form India, born before 2000')"
      ]
     },
     "execution_count": 86,
     "metadata": {},
     "output_type": "execute_result"
    },
    {
     "data": {
      "image/png": "[encoded data removed]",
      "text/plain": [
       "<Figure size 1000x600 with 1 Axes>"
      ]
     },
     "metadata": {},
     "output_type": "display_data"
    }
   ],
   "source": [
    "mask_year = data[\"birthday\"] < 2002\n",
    "mask_country = data[\"country\"] == \"IND\"\n",
    "\n",
    "\n",
    "a, b = np.histogram(data[mask_f & mask_year & mask_country][\"rating\"], bins= 50)\n",
    "c, d = np.histogram(data[mask_m & mask_year & mask_country][\"rating\"], bins= 50)\n",
    "\n",
    "fig, ax = plt.subplots(figsize=(10, 6))\n",
    "delta_bin_F = b[1] - b[0]\n",
    "delta_bin_M = d[1] - d[0]\n",
    "\n",
    "ax.plot(b[1:] - delta_bin_F/2, a/np.sum(a), \".--\", label=\"Frauen\")\n",
    "ax.plot(d[1:] - delta_bin_M/2, c/np.sum(c), \".--\", label=\"Männer\")\n",
    "\n",
    "ax.set_xlabel(\"ELO rating\")\n",
    "ax.set_ylabel(\"Fraction\")\n",
    "plt.legend()\n",
    "plt.title(\"Compare chess players form India, born before 2000\")"
   ]
  }
 ],
 "metadata": {
  "kernelspec": {
   "display_name": "Python 3 (ipykernel)",
   "language": "python",
   "name": "python3"
  },
  "language_info": {
   "codemirror_mode": {
    "name": "ipython",
    "version": 3
   },
   "file_extension": ".py",
   "mimetype": "text/x-python",
   "name": "python",
   "nbconvert_exporter": "python",
   "pygments_lexer": "ipython3",
   "version": "3.9.15"
  }
 },
 "nbformat": 4,
 "nbformat_minor": 5
}
